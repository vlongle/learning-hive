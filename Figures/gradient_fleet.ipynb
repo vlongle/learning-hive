{
 "cells": [
  {
   "cell_type": "code",
   "execution_count": null,
   "metadata": {},
   "outputs": [],
   "source": [
    "import os\n",
    "import omegaconf\n",
    "from shell.utils.experiment_utils import *\n",
    "from shell.utils.metric import *\n",
    "import matplotlib.pyplot as plt\n",
    "from shell.fleet.network import TopologyGenerator"
   ]
  },
  {
   "cell_type": "code",
   "execution_count": null,
   "metadata": {},
   "outputs": [],
   "source": [
    "save_root_dir = \"full_data_results\"\n",
    "dataset = \"mnist\"\n",
    "algo = \"monolithic\"\n",
    "seed = 0"
   ]
  },
  {
   "cell_type": "code",
   "execution_count": null,
   "metadata": {},
   "outputs": [],
   "source": [
    "experiment = os.path.join(save_root_dir, f\"{dataset}_{algo}\", dataset,algo, f\"seed_{seed}\")"
   ]
  },
  {
   "cell_type": "code",
   "execution_count": null,
   "metadata": {},
   "outputs": [],
   "source": [
    "config_path = os.path.join(experiment, \"hydra_out\", \".hydra\", \"config.yaml\")\n",
    "# read the config file\n",
    "cfg = omegaconf.OmegaConf.load(config_path)\n",
    "cfg"
   ]
  },
  {
   "cell_type": "code",
   "execution_count": null,
   "metadata": {},
   "outputs": [],
   "source": [
    "graph, datasets, NetCls, LearnerCls, net_cfg, agent_cfg, train_cfg = setup_experiment(cfg)\n",
    "len(datasets)"
   ]
  },
  {
   "cell_type": "code",
   "execution_count": null,
   "metadata": {},
   "outputs": [],
   "source": [
    "classes_sequence_list = [dataset.class_sequence for dataset in datasets]\n",
    "classes_sequence_list"
   ]
  },
  {
   "cell_type": "code",
   "execution_count": null,
   "metadata": {},
   "outputs": [],
   "source": [
    "df_sim = task_similarity(classes_sequence_list, cfg.dataset.num_tasks, cfg.dataset.num_classes_per_task)"
   ]
  },
  {
   "cell_type": "code",
   "execution_count": null,
   "metadata": {},
   "outputs": [],
   "source": [
    "plt.figure(figsize=(10, 5))\n",
    "plt.subplot(1, 2, 2)\n",
    "df_sim.groupby(\"task_id\").mean()['similarity'].plot(legend=True, label=\"similarity\")\n",
    "plt.subplot(1, 2, 1)\n",
    "df_sim.groupby(\"task_id\").mean()['running_similarity'].plot(legend=True, label=\"running_similarity\");"
   ]
  },
  {
   "cell_type": "code",
   "execution_count": null,
   "metadata": {},
   "outputs": [],
   "source": [
    "import networkx as nx\n",
    "nx.draw(graph)"
   ]
  },
  {
   "cell_type": "code",
   "execution_count": null,
   "metadata": {},
   "outputs": [],
   "source": [
    "# from shell.fleet.fleet import Fleet\n",
    "# from shell.fleet.gradient_fleet import ModelSyncAgent\n",
    "# num_coms_per_round = 1\n",
    "# AgentCls = ModelSyncAgent\n",
    "\n",
    "# fleet = Fleet(graph, cfg.seed, datasets, num_coms_per_round, AgentCls, NetCls=NetCls,\n",
    "#                 LearnerCls=LearnerCls, net_kwargs=net_cfg, agent_kwargs=agent_cfg,\n",
    "#                 train_kwargs=train_cfg)\n",
    "# # for task_id in range(cfg.dataset.num_tasks):\n",
    "# for task_id in range(2): \n",
    "#     fleet.communicate(task_id)"
   ]
  },
  {
   "cell_type": "code",
   "execution_count": null,
   "metadata": {},
   "outputs": [],
   "source": [
    "from shell.fleet.fleet import Fleet\n",
    "from shell.fleet.monograd import ModelSyncAgent\n",
    "num_coms_per_round = 1\n",
    "AgentCls = ModelSyncAgent\n",
    "\n",
    "fleet = Fleet(graph, cfg.seed, datasets, num_coms_per_round, AgentCls, NetCls=NetCls,\n",
    "                LearnerCls=LearnerCls, net_kwargs=net_cfg, agent_kwargs=agent_cfg,\n",
    "                train_kwargs=train_cfg)\n",
    "# for task_id in range(cfg.dataset.num_tasks):\n",
    "for task_id in range(2): \n",
    "    fleet.communicate(task_id)"
   ]
  }
 ],
 "metadata": {
  "kernelspec": {
   "display_name": "shell",
   "language": "python",
   "name": "python3"
  },
  "language_info": {
   "codemirror_mode": {
    "name": "ipython",
    "version": 3
   },
   "file_extension": ".py",
   "mimetype": "text/x-python",
   "name": "python",
   "nbconvert_exporter": "python",
   "pygments_lexer": "ipython3",
   "version": "3.10.9"
  },
  "orig_nbformat": 4
 },
 "nbformat": 4,
 "nbformat_minor": 2
}
