{
 "cells": [
  {
   "cell_type": "code",
   "execution_count": 1,
   "metadata": {},
   "outputs": [],
   "source": [
    "%load_ext autoreload\n",
    "%autoreload 2"
   ]
  },
  {
   "cell_type": "code",
   "execution_count": 2,
   "metadata": {},
   "outputs": [],
   "source": [
    "import omegaconf\n",
    "from shell.utils.experiment_utils import *\n",
    "from shell.fleet.utils.fleet_utils import *\n",
    "from shell.utils.metric import *\n",
    "import matplotlib.pyplot as plt\n",
    "from shell.fleet.network import TopologyGenerator\n",
    "from sklearn.manifold import TSNE\n",
    "import numpy as np\n",
    "import pandas as pd\n",
    "from shell.fleet.fleet import Agent, Fleet\n",
    "from shell.fleet.data.data_utilize import *\n",
    "from shell.fleet.data.recv import *\n",
    "\n",
    "from sklearn.manifold import TSNE\n",
    "from torchvision.utils import make_grid\n",
    "from shell.fleet.data.data_utilize import *\n",
    "import logging\n",
    "from sklearn.metrics import f1_score\n",
    "import os\n",
    "from shell.fleet.data.recv_utils import *\n",
    "from tqdm import tqdm\n",
    "import argparse\n",
    "from functools import partial\n",
    "from torchvision.utils import make_grid\n",
    "from shell.utils.oodloss import OODSeparationLoss\n",
    "from pythresh.thresholds.dsn import DSN\n",
    "from pythresh.thresholds.aucp import AUCP\n",
    "from pythresh.thresholds.boot import BOOT\n",
    "from pythresh.thresholds.zscore import ZSCORE\n",
    "from sklearn.metrics import accuracy_score, precision_score, recall_score, f1_score\n",
    "from collections import defaultdict\n",
    "from experiments.run import handle_combine_modes\n",
    "\n",
    "logging.basicConfig(level=logging.INFO)"
   ]
  },
  {
   "cell_type": "code",
   "execution_count": 3,
   "metadata": {},
   "outputs": [],
   "source": [
    "experiment_folder = \".\"\n",
    "experiment_name = \"combine_modes_results/modmod\"\n",
    "# experiment_name = \"combine_modes_results/debug_modmod\"\n",
    "dataset = \"mnist\"\n",
    "algo = \"modular\"\n",
    "\n",
    "use_contrastive = False\n",
    "num_trains_per_class = 64 if dataset != \"cifar100\" else 256\n",
    "seed = 0\n",
    "parallel = False\n",
    "task_id = 5\n",
    "\n",
    "\n",
    "\n",
    "agent_id = 5"
   ]
  },
  {
   "cell_type": "code",
   "execution_count": 4,
   "metadata": {},
   "outputs": [],
   "source": [
    "def modify_cfg(net_cfg, agent_cfg, train_cfg, fleet_additional_cfg, cfg):\n",
    "    cfg = handle_combine_modes(cfg)\n",
    "    return  net_cfg, agent_cfg, train_cfg, fleet_additional_cfg, cfg"
   ]
  },
  {
   "cell_type": "code",
   "execution_count": 5,
   "metadata": {},
   "outputs": [
    {
     "name": "stderr",
     "output_type": "stream",
     "text": [
      "INFO:root:Class sequence: [5 0 4 3 4 6 4 3 8 0 1 0 5 9 6 4 9 0 3 0]\n",
      "INFO:root:task 0 :(128, 1, 28, 28) (100, 1, 28, 28) (1872, 1, 28, 28)\n",
      "INFO:root:task 1 :(128, 1, 28, 28) (100, 1, 28, 28) (1992, 1, 28, 28)\n",
      "INFO:root:task 2 :(128, 1, 28, 28) (100, 1, 28, 28) (1940, 1, 28, 28)\n",
      "INFO:root:task 3 :(128, 1, 28, 28) (100, 1, 28, 28) (1992, 1, 28, 28)\n",
      "INFO:root:task 4 :(128, 1, 28, 28) (100, 1, 28, 28) (1954, 1, 28, 28)\n"
     ]
    },
    {
     "name": "stdout",
     "output_type": "stream",
     "text": [
      "{'train': {'component_update_freq': 100, 'num_epochs': 100, 'init_component_update_freq': 100, 'init_num_epochs': 100, 'save_freq': 10}, 'dataset': {'dataset_name': 'mnist', 'num_tasks': 10, 'num_classes_per_task': 2, 'with_replacement': True, 'num_trains_per_class': 64, 'num_vals_per_class': 50, 'remap_labels': True}, 'net': {'name': 'mlp', 'depth': 4, 'layer_size': 64, 'dropout': 0.5, 'no_sparse_basis': True}, 'sharing_strategy': {'name': 'combine_modes', 'communicator': 'modmod', 'sync_base': True, 'comm_freq': 'None', 'num_coms_per_round': 'None', 'pre_or_post_comm': 'None'}, 'seed': 0, 'algo': 'modular', 'job_name': 'mnist_modular_numtrain_64', 'num_agents': 8, 'root_save_dir': 'combine_modes_results/modmod', 'parallel': True, 'num_init_tasks': 4, 'overwrite': False, 'topology': 'fully_connected', 'edge_drop_prob': 0.0, 'agent': {'save_dir': '${root_save_dir}/${job_name}/${dataset.dataset_name}/${algo}/seed_${seed}', 'batch_size': 64, 'memory_size': 32, 'improvement_threshold': 0.05, 'use_contrastive': False, 'use_ood_separation_loss': False, 'lambda_ood': 2.0, 'delta_ood': 1.0}}\n",
      "Setting seed 0\n"
     ]
    },
    {
     "name": "stderr",
     "output_type": "stream",
     "text": [
      "INFO:root:task 5 :(128, 1, 28, 28) (100, 1, 28, 28) (2115, 1, 28, 28)\n",
      "INFO:root:task 6 :(128, 1, 28, 28) (100, 1, 28, 28) (1901, 1, 28, 28)\n",
      "INFO:root:task 7 :(128, 1, 28, 28) (100, 1, 28, 28) (1940, 1, 28, 28)\n",
      "INFO:root:task 8 :(128, 1, 28, 28) (100, 1, 28, 28) (1989, 1, 28, 28)\n",
      "INFO:root:task 9 :(128, 1, 28, 28) (100, 1, 28, 28) (1990, 1, 28, 28)\n",
      "INFO:root:Class sequence: [4 7 5 7 6 0 3 0 5 0 3 6 2 7 6 7 6 1 0 5]\n",
      "INFO:root:task 0 :(128, 1, 28, 28) (100, 1, 28, 28) (2010, 1, 28, 28)\n",
      "INFO:root:task 1 :(128, 1, 28, 28) (100, 1, 28, 28) (1920, 1, 28, 28)\n",
      "INFO:root:task 2 :(128, 1, 28, 28) (100, 1, 28, 28) (1938, 1, 28, 28)\n",
      "INFO:root:task 3 :(128, 1, 28, 28) (100, 1, 28, 28) (1990, 1, 28, 28)\n",
      "INFO:root:task 4 :(128, 1, 28, 28) (100, 1, 28, 28) (1872, 1, 28, 28)\n",
      "INFO:root:task 5 :(128, 1, 28, 28) (100, 1, 28, 28) (1968, 1, 28, 28)\n",
      "INFO:root:task 6 :(128, 1, 28, 28) (100, 1, 28, 28) (2060, 1, 28, 28)\n",
      "INFO:root:task 7 :(128, 1, 28, 28) (100, 1, 28, 28) (1986, 1, 28, 28)\n",
      "INFO:root:task 8 :(128, 1, 28, 28) (100, 1, 28, 28) (2093, 1, 28, 28)\n",
      "INFO:root:task 9 :(128, 1, 28, 28) (100, 1, 28, 28) (1872, 1, 28, 28)\n",
      "INFO:root:Class sequence: [6 7 7 8 4 1 1 8 6 1 6 4 5 7 8 0 2 3 0 3]\n",
      "INFO:root:task 0 :(128, 1, 28, 28) (100, 1, 28, 28) (1986, 1, 28, 28)\n",
      "INFO:root:task 1 :(128, 1, 28, 28) (100, 1, 28, 28) (2002, 1, 28, 28)\n",
      "INFO:root:task 2 :(128, 1, 28, 28) (100, 1, 28, 28) (2117, 1, 28, 28)\n",
      "INFO:root:task 3 :(128, 1, 28, 28) (100, 1, 28, 28) (2109, 1, 28, 28)\n",
      "INFO:root:task 4 :(128, 1, 28, 28) (100, 1, 28, 28) (2093, 1, 28, 28)\n",
      "INFO:root:task 5 :(128, 1, 28, 28) (100, 1, 28, 28) (1940, 1, 28, 28)\n",
      "INFO:root:task 6 :(128, 1, 28, 28) (100, 1, 28, 28) (1920, 1, 28, 28)\n",
      "INFO:root:task 7 :(128, 1, 28, 28) (100, 1, 28, 28) (1954, 1, 28, 28)\n",
      "INFO:root:task 8 :(128, 1, 28, 28) (100, 1, 28, 28) (2042, 1, 28, 28)\n",
      "INFO:root:task 9 :(128, 1, 28, 28) (100, 1, 28, 28) (1990, 1, 28, 28)\n",
      "INFO:root:Class sequence: [2 8 0 3 7 4 3 4 4 5 9 3 0 6 9 1 3 1 7 9]\n",
      "INFO:root:task 0 :(128, 1, 28, 28) (100, 1, 28, 28) (2006, 1, 28, 28)\n",
      "INFO:root:task 1 :(128, 1, 28, 28) (100, 1, 28, 28) (1990, 1, 28, 28)\n",
      "INFO:root:task 2 :(128, 1, 28, 28) (100, 1, 28, 28) (2010, 1, 28, 28)\n",
      "INFO:root:task 3 :(128, 1, 28, 28) (100, 1, 28, 28) (1992, 1, 28, 28)\n",
      "INFO:root:task 4 :(128, 1, 28, 28) (100, 1, 28, 28) (1874, 1, 28, 28)\n",
      "INFO:root:task 5 :(128, 1, 28, 28) (100, 1, 28, 28) (2019, 1, 28, 28)\n",
      "INFO:root:task 6 :(128, 1, 28, 28) (100, 1, 28, 28) (1938, 1, 28, 28)\n",
      "INFO:root:task 7 :(128, 1, 28, 28) (100, 1, 28, 28) (2144, 1, 28, 28)\n",
      "INFO:root:task 8 :(128, 1, 28, 28) (100, 1, 28, 28) (2145, 1, 28, 28)\n",
      "INFO:root:task 9 :(128, 1, 28, 28) (100, 1, 28, 28) (2037, 1, 28, 28)\n",
      "INFO:root:Class sequence: [0 3 0 2 9 7 0 9 2 1 7 6 8 6 1 8 6 4 9 8]\n",
      "INFO:root:task 0 :(128, 1, 28, 28) (100, 1, 28, 28) (1990, 1, 28, 28)\n",
      "INFO:root:task 1 :(128, 1, 28, 28) (100, 1, 28, 28) (2012, 1, 28, 28)\n",
      "INFO:root:task 2 :(128, 1, 28, 28) (100, 1, 28, 28) (2037, 1, 28, 28)\n",
      "INFO:root:task 3 :(128, 1, 28, 28) (100, 1, 28, 28) (1989, 1, 28, 28)\n",
      "INFO:root:task 4 :(128, 1, 28, 28) (100, 1, 28, 28) (2167, 1, 28, 28)\n",
      "INFO:root:task 5 :(128, 1, 28, 28) (100, 1, 28, 28) (1986, 1, 28, 28)\n",
      "INFO:root:task 6 :(128, 1, 28, 28) (100, 1, 28, 28) (1932, 1, 28, 28)\n",
      "INFO:root:task 7 :(128, 1, 28, 28) (100, 1, 28, 28) (2109, 1, 28, 28)\n",
      "INFO:root:task 8 :(128, 1, 28, 28) (100, 1, 28, 28) (1940, 1, 28, 28)\n",
      "INFO:root:task 9 :(128, 1, 28, 28) (100, 1, 28, 28) (1983, 1, 28, 28)\n",
      "INFO:root:Class sequence: [8 4 6 3 3 1 1 6 4 9 3 2 2 9 6 0 5 9 7 2]\n",
      "INFO:root:task 0 :(128, 1, 28, 28) (100, 1, 28, 28) (1956, 1, 28, 28)\n",
      "INFO:root:task 1 :(128, 1, 28, 28) (100, 1, 28, 28) (1968, 1, 28, 28)\n",
      "INFO:root:task 2 :(128, 1, 28, 28) (100, 1, 28, 28) (2145, 1, 28, 28)\n",
      "INFO:root:task 3 :(128, 1, 28, 28) (100, 1, 28, 28) (2093, 1, 28, 28)\n",
      "INFO:root:task 4 :(128, 1, 28, 28) (100, 1, 28, 28) (1991, 1, 28, 28)\n",
      "INFO:root:task 5 :(128, 1, 28, 28) (100, 1, 28, 28) (2042, 1, 28, 28)\n",
      "INFO:root:task 6 :(128, 1, 28, 28) (100, 1, 28, 28) (2041, 1, 28, 28)\n",
      "INFO:root:task 7 :(128, 1, 28, 28) (100, 1, 28, 28) (1938, 1, 28, 28)\n",
      "INFO:root:task 8 :(128, 1, 28, 28) (100, 1, 28, 28) (1901, 1, 28, 28)\n",
      "INFO:root:task 9 :(128, 1, 28, 28) (100, 1, 28, 28) (2060, 1, 28, 28)\n",
      "INFO:root:Class sequence: [7 5 8 4 6 9 8 3 4 6 1 3 3 1 4 1 9 2 6 2]\n",
      "INFO:root:task 0 :(128, 1, 28, 28) (100, 1, 28, 28) (1920, 1, 28, 28)\n",
      "INFO:root:task 1 :(128, 1, 28, 28) (100, 1, 28, 28) (1956, 1, 28, 28)\n",
      "INFO:root:task 2 :(128, 1, 28, 28) (100, 1, 28, 28) (1967, 1, 28, 28)\n",
      "INFO:root:task 3 :(128, 1, 28, 28) (100, 1, 28, 28) (1984, 1, 28, 28)\n",
      "INFO:root:task 4 :(128, 1, 28, 28) (100, 1, 28, 28) (1940, 1, 28, 28)\n",
      "INFO:root:task 5 :(128, 1, 28, 28) (100, 1, 28, 28) (2145, 1, 28, 28)\n",
      "INFO:root:task 6 :(128, 1, 28, 28) (100, 1, 28, 28) (2145, 1, 28, 28)\n",
      "INFO:root:task 7 :(128, 1, 28, 28) (100, 1, 28, 28) (2117, 1, 28, 28)\n",
      "INFO:root:task 8 :(128, 1, 28, 28) (100, 1, 28, 28) (2041, 1, 28, 28)\n",
      "INFO:root:task 9 :(128, 1, 28, 28) (100, 1, 28, 28) (1990, 1, 28, 28)\n",
      "INFO:root:Class sequence: [5 1 8 3 9 6 5 9 5 0 7 2 7 8 6 1 6 0 0 6]\n",
      "INFO:root:task 0 :(128, 1, 28, 28) (100, 1, 28, 28) (2027, 1, 28, 28)\n",
      "INFO:root:task 1 :(128, 1, 28, 28) (100, 1, 28, 28) (1984, 1, 28, 28)\n",
      "INFO:root:task 2 :(128, 1, 28, 28) (100, 1, 28, 28) (1967, 1, 28, 28)\n",
      "INFO:root:task 3 :(128, 1, 28, 28) (100, 1, 28, 28) (1901, 1, 28, 28)\n",
      "INFO:root:task 4 :(128, 1, 28, 28) (100, 1, 28, 28) (1872, 1, 28, 28)\n",
      "INFO:root:task 5 :(128, 1, 28, 28) (100, 1, 28, 28) (2060, 1, 28, 28)\n",
      "INFO:root:task 6 :(128, 1, 28, 28) (100, 1, 28, 28) (2002, 1, 28, 28)\n",
      "INFO:root:task 7 :(128, 1, 28, 28) (100, 1, 28, 28) (2093, 1, 28, 28)\n",
      "INFO:root:task 8 :(128, 1, 28, 28) (100, 1, 28, 28) (1938, 1, 28, 28)\n",
      "INFO:root:task 9 :(128, 1, 28, 28) (100, 1, 28, 28) (1938, 1, 28, 28)\n",
      "INFO:root:Class sequence: [7 0 8 4 8 3 3 9 6 4 3 2 4 6 7 4 9 0 3 1]\n",
      "INFO:root:task 0 :(128, 1, 28, 28) (100, 1, 28, 28) (2008, 1, 28, 28)\n",
      "INFO:root:task 1 :(128, 1, 28, 28) (100, 1, 28, 28) (1956, 1, 28, 28)\n",
      "INFO:root:task 2 :(128, 1, 28, 28) (100, 1, 28, 28) (1984, 1, 28, 28)\n",
      "INFO:root:task 3 :(128, 1, 28, 28) (100, 1, 28, 28) (2019, 1, 28, 28)\n",
      "INFO:root:task 4 :(128, 1, 28, 28) (100, 1, 28, 28) (1940, 1, 28, 28)\n",
      "INFO:root:task 5 :(128, 1, 28, 28) (100, 1, 28, 28) (2042, 1, 28, 28)\n"
     ]
    },
    {
     "name": "stdout",
     "output_type": "stream",
     "text": [
      "i_size 28\n",
      "num_classes 2\n",
      "net_cfg {'name': 'mlp', 'depth': 4, 'layer_size': 64, 'dropout': 0.5, 'no_sparse_basis': True, 'i_size': 28, 'num_classes': 2, 'num_tasks': 10, 'num_init_tasks': 4, 'use_contrastive': False}\n",
      "<class 'shell.learners.er_dynamic.CompositionalDynamicER'>\n"
     ]
    },
    {
     "name": "stderr",
     "output_type": "stream",
     "text": [
      "INFO:root:task 6 :(128, 1, 28, 28) (100, 1, 28, 28) (1940, 1, 28, 28)\n",
      "INFO:root:task 7 :(128, 1, 28, 28) (100, 1, 28, 28) (2010, 1, 28, 28)\n",
      "INFO:root:task 8 :(128, 1, 28, 28) (100, 1, 28, 28) (1989, 1, 28, 28)\n",
      "INFO:root:task 9 :(128, 1, 28, 28) (100, 1, 28, 28) (2145, 1, 28, 28)\n",
      "INFO:root:Created fleet with 8 agents\n",
      "INFO:root:Adding neighbors...\n",
      "INFO:root:Fleet initialized\n"
     ]
    },
    {
     "name": "stdout",
     "output_type": "stream",
     "text": [
      "Setting seed 69420000\n",
      "Setting seed 0\n",
      "Setting seed 1000\n",
      "Setting seed 2000\n",
      "Setting seed 3000\n",
      "Setting seed 4000\n",
      "Setting seed 5000\n",
      "Setting seed 6000\n",
      "Setting seed 7000\n",
      "Setting seed 0\n",
      "Setting seed 2000\n",
      "Setting seed 4000\n",
      "Setting seed 6000\n",
      "Setting seed 8000\n",
      "Setting seed 10000\n",
      "Setting seed 12000\n",
      "Setting seed 14000\n"
     ]
    }
   ],
   "source": [
    "save_dir = get_save_dir(experiment_folder, experiment_name,\n",
    "                        dataset, algo, num_trains_per_class, use_contrastive, seed)\n",
    "\n",
    "fleet = setup_fleet(save_dir, task_id=task_id-1, parallel=False, modify_cfg=modify_cfg)\n",
    "# fleet = setup_fleet(save_dir, task_id=task_id, parallel=False, modify_cfg=modify_cfg)\n",
    "fleet.change_save_dir('debug_combine_modes_results')"
   ]
  },
  {
   "cell_type": "code",
   "execution_count": 6,
   "metadata": {},
   "outputs": [],
   "source": [
    "agent = fleet.agents[agent_id]"
   ]
  },
  {
   "cell_type": "code",
   "execution_count": 7,
   "metadata": {},
   "outputs": [
    {
     "data": {
      "text/plain": [
       "{0: 0.9910358565737052,\n",
       " 1: 0.9534764826175869,\n",
       " 2: 0.9183467741935484,\n",
       " 3: 0.9593858345715701,\n",
       " 4: 0.7036664992466097,\n",
       " 5: 0.49461312438785504}"
      ]
     },
     "execution_count": 7,
     "metadata": {},
     "output_type": "execute_result"
    }
   ],
   "source": [
    "agent.eval_test(task_id)"
   ]
  },
  {
   "cell_type": "code",
   "execution_count": 8,
   "metadata": {},
   "outputs": [
    {
     "data": {
      "text/plain": [
       "Parameter containing:\n",
       "tensor([[1., 1., 1., 1.],\n",
       "        [1., 1., 1., 1.],\n",
       "        [1., 1., 1., 1.],\n",
       "        [1., 1., 1., 1.],\n",
       "        [1., 1., 1., 1.]], device='cuda:0', requires_grad=True)"
      ]
     },
     "execution_count": 8,
     "metadata": {},
     "output_type": "execute_result"
    }
   ],
   "source": [
    "agent.net.structure[task_id]"
   ]
  },
  {
   "cell_type": "code",
   "execution_count": 9,
   "metadata": {},
   "outputs": [
    {
     "data": {
      "text/plain": [
       "Parameter containing:\n",
       "tensor([0.0039, 0.0020], device='cuda:0', requires_grad=True)"
      ]
     },
     "execution_count": 9,
     "metadata": {},
     "output_type": "execute_result"
    }
   ],
   "source": [
    "agent.net.decoder[task_id].bias"
   ]
  },
  {
   "cell_type": "code",
   "execution_count": 10,
   "metadata": {},
   "outputs": [
    {
     "data": {
      "text/plain": [
       "5"
      ]
     },
     "execution_count": 10,
     "metadata": {},
     "output_type": "execute_result"
    }
   ],
   "source": [
    "len(agent.net.components)"
   ]
  },
  {
   "cell_type": "code",
   "execution_count": 11,
   "metadata": {},
   "outputs": [
    {
     "data": {
      "text/plain": [
       "Parameter containing:\n",
       "tensor([-1.3570e-01,  1.4027e-01, -1.1317e-01, -1.9371e-01,  8.7128e-02,\n",
       "         2.7102e-02,  6.2681e-02, -1.2516e-01, -6.3624e-02,  1.6261e-01,\n",
       "         8.7935e-02,  3.2667e-02,  6.2471e-02, -4.2881e-02,  2.1601e-04,\n",
       "         6.8511e-02, -6.1917e-02, -4.4565e-02,  1.2035e-01,  9.4327e-02,\n",
       "        -3.3057e-02, -1.5331e-01,  3.8375e-02,  5.9515e-02,  1.2773e-01,\n",
       "        -1.4533e-01,  9.9504e-02, -1.4493e-01,  4.0874e-02,  1.3322e-02,\n",
       "        -3.6597e-02, -4.0041e-03, -9.5925e-02,  2.1736e-01,  6.9136e-02,\n",
       "         8.7045e-02,  8.7189e-02,  4.2614e-03,  2.7338e-02,  6.4767e-02,\n",
       "        -9.2970e-02, -3.6907e-02, -6.7393e-03, -6.3056e-02, -6.9952e-02,\n",
       "        -1.0675e-01, -1.1564e-01,  1.1179e-01, -3.2081e-02, -6.4876e-02,\n",
       "         2.4955e-02, -6.6618e-02,  1.1987e-01, -1.7567e-02, -6.3354e-02,\n",
       "         3.3180e-02,  1.7006e-02,  4.0631e-02, -1.1317e-01, -1.1865e-02,\n",
       "         3.0548e-02, -1.4667e-01,  1.4212e-01, -2.2762e-02], device='cuda:0',\n",
       "       requires_grad=True)"
      ]
     },
     "execution_count": 11,
     "metadata": {},
     "output_type": "execute_result"
    }
   ],
   "source": [
    "agent.net.components[-1].bias"
   ]
  },
  {
   "cell_type": "code",
   "execution_count": 12,
   "metadata": {},
   "outputs": [
    {
     "data": {
      "text/plain": [
       "{'component_update_freq': 100,\n",
       " 'num_epochs': 100,\n",
       " 'init_component_update_freq': 100,\n",
       " 'init_num_epochs': 100,\n",
       " 'save_freq': 10}"
      ]
     },
     "execution_count": 12,
     "metadata": {},
     "output_type": "execute_result"
    }
   ],
   "source": [
    "agent.train_kwargs"
   ]
  },
  {
   "cell_type": "code",
   "execution_count": 13,
   "metadata": {},
   "outputs": [
    {
     "data": {
      "text/plain": [
       "5"
      ]
     },
     "execution_count": 13,
     "metadata": {},
     "output_type": "execute_result"
    }
   ],
   "source": [
    "len(agent.net.components)"
   ]
  },
  {
   "cell_type": "code",
   "execution_count": 14,
   "metadata": {},
   "outputs": [
    {
     "name": "stdout",
     "output_type": "stream",
     "text": [
      "{'modmod': 100}\n",
      "{'modmod': 2}\n"
     ]
    }
   ],
   "source": [
    "print(fleet.comm_freq)\n",
    "print(fleet.num_coms_per_round)\n",
    "# print(agent.communicator)"
   ]
  },
  {
   "cell_type": "code",
   "execution_count": 15,
   "metadata": {},
   "outputs": [],
   "source": [
    " if \"debug\" in experiment_name:\n",
    "    fleet.communicate(task_id=task_id, end_epoch=None, comm_freq=None, num_epochs=None,\n",
    "                      final=False, strategy=None)\n",
    "else:\n",
    "     fleet.communicate(task_id=task_id, end_epoch=None, comm_freq=None, num_epochs=None,\n",
    "                      final=False, strategy='modmod')"
   ]
  },
  {
   "cell_type": "code",
   "execution_count": 16,
   "metadata": {},
   "outputs": [
    {
     "data": {
      "text/plain": [
       "{0: 0.9910358565737052,\n",
       " 1: 0.9534764826175869,\n",
       " 2: 0.9183467741935484,\n",
       " 3: 0.9593858345715701,\n",
       " 4: 0.7036664992466097,\n",
       " 5: 0.5166503428011753}"
      ]
     },
     "execution_count": 16,
     "metadata": {},
     "output_type": "execute_result"
    }
   ],
   "source": [
    "agent.eval_test(task_id)"
   ]
  },
  {
   "cell_type": "code",
   "execution_count": 17,
   "metadata": {},
   "outputs": [],
   "source": [
    "module_list = agent.train_kwargs['module_list']\n",
    "agent.net.add_tmp_modules(task_id, len(module_list))\n",
    "agent.net.receive_modules(task_id, module_list)"
   ]
  },
  {
   "cell_type": "code",
   "execution_count": 18,
   "metadata": {},
   "outputs": [
    {
     "data": {
      "text/plain": [
       "{0: 0.9910358565737052,\n",
       " 1: 0.9534764826175869,\n",
       " 2: 0.9183467741935484,\n",
       " 3: 0.9593858345715701,\n",
       " 4: 0.7036664992466097,\n",
       " 5: 0.544564152791381}"
      ]
     },
     "execution_count": 18,
     "metadata": {},
     "output_type": "execute_result"
    }
   ],
   "source": [
    "agent.eval_test(task_id)"
   ]
  },
  {
   "cell_type": "code",
   "execution_count": 19,
   "metadata": {},
   "outputs": [
    {
     "data": {
      "text/plain": [
       "Parameter containing:\n",
       "tensor([[1.4840, 0.4587, 0.5361, 0.5790],\n",
       "        [0.4887, 1.4869, 1.5785, 1.1688],\n",
       "        [0.5110, 0.4690, 0.5012, 1.2600],\n",
       "        [0.8829, 0.5690, 0.6640, 0.9629],\n",
       "        [0.0000, 0.0000, 0.0000, 0.0000],\n",
       "        [1.2591, 0.8578, 0.7942, 0.9756]], device='cuda:0', requires_grad=True)"
      ]
     },
     "execution_count": 19,
     "metadata": {},
     "output_type": "execute_result"
    }
   ],
   "source": [
    "agent.net.structure[task_id]"
   ]
  },
  {
   "cell_type": "code",
   "execution_count": 20,
   "metadata": {},
   "outputs": [
    {
     "data": {
      "text/plain": [
       "Parameter containing:\n",
       "tensor([ 0.0000, -0.2600], device='cuda:0', requires_grad=True)"
      ]
     },
     "execution_count": 20,
     "metadata": {},
     "output_type": "execute_result"
    }
   ],
   "source": [
    "agent.net.decoder[task_id].bias"
   ]
  },
  {
   "cell_type": "code",
   "execution_count": 21,
   "metadata": {},
   "outputs": [
    {
     "data": {
      "text/plain": [
       "Parameter containing:\n",
       "tensor([-0.1194, -0.1430, -0.0294,  0.0593,  0.0244, -0.0044,  0.1163, -0.0692,\n",
       "        -0.0310,  0.2710, -0.0194,  0.0104, -0.0545,  0.0956, -0.1445,  0.0016,\n",
       "        -0.0152,  0.0275,  0.0909,  0.0609,  0.2795,  0.2023, -0.1384,  0.2812,\n",
       "        -0.0087,  0.1847, -0.0212,  0.0128, -0.0474, -0.1065,  0.0686, -0.0626,\n",
       "         0.2702,  0.1696,  0.0433, -0.0011,  0.1918,  0.0345,  0.0078,  0.1957,\n",
       "        -0.0520, -0.0256, -0.0270, -0.0610,  0.0260, -0.0547,  0.1945, -0.0516,\n",
       "        -0.0487,  0.0400,  0.0752, -0.0348,  0.0382,  0.0798,  0.0699,  0.0447,\n",
       "         0.0101,  0.0686, -0.1059,  0.0615,  0.0714,  0.0135, -0.1370, -0.1210],\n",
       "       device='cuda:0', requires_grad=True)"
      ]
     },
     "execution_count": 21,
     "metadata": {},
     "output_type": "execute_result"
    }
   ],
   "source": [
    "agent.net.components[-1].bias"
   ]
  },
  {
   "cell_type": "code",
   "execution_count": 23,
   "metadata": {},
   "outputs": [
    {
     "data": {
      "text/plain": [
       "Parameter containing:\n",
       "tensor([ 0.0299,  0.0179, -0.0248, -0.0030,  0.0317,  0.0197,  0.0019, -0.0297,\n",
       "         0.0142,  0.0171,  0.0028,  0.0060,  0.0273,  0.0238,  0.0337,  0.0083,\n",
       "         0.0228,  0.0204, -0.0061, -0.0154, -0.0331, -0.0043, -0.0158, -0.0150,\n",
       "         0.0270,  0.0300,  0.0274,  0.0340, -0.0186,  0.0352,  0.0137, -0.0048,\n",
       "        -0.0341, -0.0071, -0.0105, -0.0140,  0.0161, -0.0187,  0.0221, -0.0319,\n",
       "         0.0210,  0.0006,  0.0009,  0.0161, -0.0069, -0.0037,  0.0314, -0.0171,\n",
       "        -0.0197,  0.0077, -0.0148, -0.0228,  0.0247,  0.0115, -0.0002, -0.0278,\n",
       "        -0.0060, -0.0124, -0.0181, -0.0329,  0.0004, -0.0152,  0.0060, -0.0029],\n",
       "       device='cuda:0')"
      ]
     },
     "execution_count": 23,
     "metadata": {},
     "output_type": "execute_result"
    }
   ],
   "source": [
    "agent.net.random_linear_projection.bias"
   ]
  },
  {
   "cell_type": "code",
   "execution_count": 25,
   "metadata": {},
   "outputs": [
    {
     "data": {
      "text/plain": [
       "Parameter containing:\n",
       "tensor([ 0.0299,  0.0179, -0.0248, -0.0030,  0.0317,  0.0197,  0.0019, -0.0297,\n",
       "         0.0142,  0.0171,  0.0028,  0.0060,  0.0273,  0.0238,  0.0337,  0.0083,\n",
       "         0.0228,  0.0204, -0.0061, -0.0154, -0.0331, -0.0043, -0.0158, -0.0150,\n",
       "         0.0270,  0.0300,  0.0274,  0.0340, -0.0186,  0.0352,  0.0137, -0.0048,\n",
       "        -0.0341, -0.0071, -0.0105, -0.0140,  0.0161, -0.0187,  0.0221, -0.0319,\n",
       "         0.0210,  0.0006,  0.0009,  0.0161, -0.0069, -0.0037,  0.0314, -0.0171,\n",
       "        -0.0197,  0.0077, -0.0148, -0.0228,  0.0247,  0.0115, -0.0002, -0.0278,\n",
       "        -0.0060, -0.0124, -0.0181, -0.0329,  0.0004, -0.0152,  0.0060, -0.0029],\n",
       "       device='cuda:0')"
      ]
     },
     "execution_count": 25,
     "metadata": {},
     "output_type": "execute_result"
    }
   ],
   "source": [
    "fleet.agents[4].net.random_linear_projection.bias"
   ]
  },
  {
   "cell_type": "code",
   "execution_count": null,
   "metadata": {},
   "outputs": [],
   "source": []
  }
 ],
 "metadata": {
  "kernelspec": {
   "display_name": "shell",
   "language": "python",
   "name": "python3"
  },
  "language_info": {
   "codemirror_mode": {
    "name": "ipython",
    "version": 3
   },
   "file_extension": ".py",
   "mimetype": "text/x-python",
   "name": "python",
   "nbconvert_exporter": "python",
   "pygments_lexer": "ipython3",
   "version": "3.10.9"
  }
 },
 "nbformat": 4,
 "nbformat_minor": 2
}
