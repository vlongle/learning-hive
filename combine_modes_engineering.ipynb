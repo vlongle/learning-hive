{
 "cells": [
  {
   "cell_type": "code",
   "execution_count": 2,
   "metadata": {},
   "outputs": [],
   "source": [
    "%load_ext autoreload\n",
    "%autoreload 2"
   ]
  },
  {
   "cell_type": "code",
   "execution_count": 3,
   "metadata": {},
   "outputs": [],
   "source": [
    "import omegaconf\n",
    "from shell.utils.experiment_utils import *\n",
    "from shell.fleet.utils.fleet_utils import *\n",
    "from shell.utils.metric import *\n",
    "import matplotlib.pyplot as plt\n",
    "from shell.fleet.network import TopologyGenerator\n",
    "from sklearn.manifold import TSNE\n",
    "import numpy as np\n",
    "import pandas as pd\n",
    "from shell.fleet.fleet import Agent, Fleet\n",
    "from shell.fleet.data.data_utilize import *\n",
    "from shell.fleet.data.recv import *\n",
    "\n",
    "from sklearn.manifold import TSNE\n",
    "from torchvision.utils import make_grid\n",
    "from shell.fleet.data.data_utilize import *\n",
    "import logging\n",
    "from sklearn.metrics import f1_score\n",
    "import os\n",
    "from shell.fleet.data.recv_utils import *\n",
    "from tqdm import tqdm\n",
    "import argparse\n",
    "from functools import partial\n",
    "from torchvision.utils import make_grid\n",
    "from shell.utils.oodloss import OODSeparationLoss\n",
    "from pythresh.thresholds.dsn import DSN\n",
    "from pythresh.thresholds.aucp import AUCP\n",
    "from pythresh.thresholds.boot import BOOT\n",
    "from pythresh.thresholds.zscore import ZSCORE\n",
    "from sklearn.metrics import accuracy_score, precision_score, recall_score, f1_score\n",
    "from collections import defaultdict\n",
    "from experiments.run import handle_combine_modes\n",
    "\n",
    "logging.basicConfig(level=logging.INFO)"
   ]
  },
  {
   "cell_type": "code",
   "execution_count": 4,
   "metadata": {},
   "outputs": [],
   "source": [
    "experiment_folder = \".\"\n",
    "experiment_name = \"combine_modes_results/modmod\"\n",
    "dataset = \"mnist\"\n",
    "algo = \"modular\"\n",
    "\n",
    "use_contrastive = False\n",
    "num_trains_per_class = 64 if dataset != \"cifar100\" else 256\n",
    "seed = 0\n",
    "parallel = False\n",
    "task_id = 5"
   ]
  },
  {
   "cell_type": "code",
   "execution_count": 5,
   "metadata": {},
   "outputs": [],
   "source": [
    "def modify_cfg(net_cfg, agent_cfg, train_cfg, fleet_additional_cfg, cfg):\n",
    "    cfg = handle_combine_modes(cfg)\n",
    "    return  net_cfg, agent_cfg, train_cfg, fleet_additional_cfg, cfg"
   ]
  },
  {
   "cell_type": "code",
   "execution_count": 6,
   "metadata": {},
   "outputs": [
    {
     "name": "stderr",
     "output_type": "stream",
     "text": [
      "INFO:root:Class sequence: [5 0 4 3 4 6 4 3 8 0 1 0 5 9 6 4 9 0 3 0]\n",
      "INFO:root:task 0 :(128, 1, 28, 28) (100, 1, 28, 28) (1872, 1, 28, 28)\n",
      "INFO:root:task 1 :(128, 1, 28, 28) (100, 1, 28, 28) (1992, 1, 28, 28)\n",
      "INFO:root:task 2 :(128, 1, 28, 28) (100, 1, 28, 28) (1940, 1, 28, 28)\n"
     ]
    },
    {
     "name": "stdout",
     "output_type": "stream",
     "text": [
      "{'train': {'component_update_freq': 100, 'num_epochs': 100, 'init_component_update_freq': 100, 'init_num_epochs': 100, 'save_freq': 10}, 'dataset': {'dataset_name': 'mnist', 'num_tasks': 10, 'num_classes_per_task': 2, 'with_replacement': True, 'num_trains_per_class': 64, 'num_vals_per_class': 50, 'remap_labels': True}, 'net': {'name': 'mlp', 'depth': 4, 'layer_size': 64, 'dropout': 0.5, 'no_sparse_basis': True}, 'sharing_strategy': {'name': 'combine_modes', 'communicator': 'modmod', 'sync_base': True, 'comm_freq': 'None', 'num_coms_per_round': 'None', 'pre_or_post_comm': 'None'}, 'seed': 0, 'algo': 'modular', 'job_name': 'mnist_modular_numtrain_64', 'num_agents': 8, 'root_save_dir': 'combine_modes_results/modmod', 'parallel': True, 'num_init_tasks': 4, 'overwrite': False, 'topology': 'fully_connected', 'edge_drop_prob': 0.0, 'agent': {'save_dir': '${root_save_dir}/${job_name}/${dataset.dataset_name}/${algo}/seed_${seed}', 'batch_size': 64, 'memory_size': 32, 'improvement_threshold': 0.05, 'use_contrastive': False, 'use_ood_separation_loss': False, 'lambda_ood': 2.0, 'delta_ood': 1.0}}\n",
      "Setting seed 0\n"
     ]
    },
    {
     "name": "stderr",
     "output_type": "stream",
     "text": [
      "INFO:root:task 3 :(128, 1, 28, 28) (100, 1, 28, 28) (1992, 1, 28, 28)\n",
      "INFO:root:task 4 :(128, 1, 28, 28) (100, 1, 28, 28) (1954, 1, 28, 28)\n",
      "INFO:root:task 5 :(128, 1, 28, 28) (100, 1, 28, 28) (2115, 1, 28, 28)\n",
      "INFO:root:task 6 :(128, 1, 28, 28) (100, 1, 28, 28) (1901, 1, 28, 28)\n",
      "INFO:root:task 7 :(128, 1, 28, 28) (100, 1, 28, 28) (1940, 1, 28, 28)\n",
      "INFO:root:task 8 :(128, 1, 28, 28) (100, 1, 28, 28) (1989, 1, 28, 28)\n",
      "INFO:root:task 9 :(128, 1, 28, 28) (100, 1, 28, 28) (1990, 1, 28, 28)\n",
      "INFO:root:Class sequence: [4 7 5 7 6 0 3 0 5 0 3 6 2 7 6 7 6 1 0 5]\n",
      "INFO:root:task 0 :(128, 1, 28, 28) (100, 1, 28, 28) (2010, 1, 28, 28)\n",
      "INFO:root:task 1 :(128, 1, 28, 28) (100, 1, 28, 28) (1920, 1, 28, 28)\n",
      "INFO:root:task 2 :(128, 1, 28, 28) (100, 1, 28, 28) (1938, 1, 28, 28)\n",
      "INFO:root:task 3 :(128, 1, 28, 28) (100, 1, 28, 28) (1990, 1, 28, 28)\n",
      "INFO:root:task 4 :(128, 1, 28, 28) (100, 1, 28, 28) (1872, 1, 28, 28)\n",
      "INFO:root:task 5 :(128, 1, 28, 28) (100, 1, 28, 28) (1968, 1, 28, 28)\n",
      "INFO:root:task 6 :(128, 1, 28, 28) (100, 1, 28, 28) (2060, 1, 28, 28)\n",
      "INFO:root:task 7 :(128, 1, 28, 28) (100, 1, 28, 28) (1986, 1, 28, 28)\n",
      "INFO:root:task 8 :(128, 1, 28, 28) (100, 1, 28, 28) (2093, 1, 28, 28)\n",
      "INFO:root:task 9 :(128, 1, 28, 28) (100, 1, 28, 28) (1872, 1, 28, 28)\n",
      "INFO:root:Class sequence: [6 7 7 8 4 1 1 8 6 1 6 4 5 7 8 0 2 3 0 3]\n",
      "INFO:root:task 0 :(128, 1, 28, 28) (100, 1, 28, 28) (1986, 1, 28, 28)\n",
      "INFO:root:task 1 :(128, 1, 28, 28) (100, 1, 28, 28) (2002, 1, 28, 28)\n",
      "INFO:root:task 2 :(128, 1, 28, 28) (100, 1, 28, 28) (2117, 1, 28, 28)\n",
      "INFO:root:task 3 :(128, 1, 28, 28) (100, 1, 28, 28) (2109, 1, 28, 28)\n",
      "INFO:root:task 4 :(128, 1, 28, 28) (100, 1, 28, 28) (2093, 1, 28, 28)\n",
      "INFO:root:task 5 :(128, 1, 28, 28) (100, 1, 28, 28) (1940, 1, 28, 28)\n",
      "INFO:root:task 6 :(128, 1, 28, 28) (100, 1, 28, 28) (1920, 1, 28, 28)\n",
      "INFO:root:task 7 :(128, 1, 28, 28) (100, 1, 28, 28) (1954, 1, 28, 28)\n",
      "INFO:root:task 8 :(128, 1, 28, 28) (100, 1, 28, 28) (2042, 1, 28, 28)\n",
      "INFO:root:task 9 :(128, 1, 28, 28) (100, 1, 28, 28) (1990, 1, 28, 28)\n",
      "INFO:root:Class sequence: [2 8 0 3 7 4 3 4 4 5 9 3 0 6 9 1 3 1 7 9]\n",
      "INFO:root:task 0 :(128, 1, 28, 28) (100, 1, 28, 28) (2006, 1, 28, 28)\n",
      "INFO:root:task 1 :(128, 1, 28, 28) (100, 1, 28, 28) (1990, 1, 28, 28)\n",
      "INFO:root:task 2 :(128, 1, 28, 28) (100, 1, 28, 28) (2010, 1, 28, 28)\n",
      "INFO:root:task 3 :(128, 1, 28, 28) (100, 1, 28, 28) (1992, 1, 28, 28)\n",
      "INFO:root:task 4 :(128, 1, 28, 28) (100, 1, 28, 28) (1874, 1, 28, 28)\n",
      "INFO:root:task 5 :(128, 1, 28, 28) (100, 1, 28, 28) (2019, 1, 28, 28)\n",
      "INFO:root:task 6 :(128, 1, 28, 28) (100, 1, 28, 28) (1938, 1, 28, 28)\n",
      "INFO:root:task 7 :(128, 1, 28, 28) (100, 1, 28, 28) (2144, 1, 28, 28)\n",
      "INFO:root:task 8 :(128, 1, 28, 28) (100, 1, 28, 28) (2145, 1, 28, 28)\n",
      "INFO:root:task 9 :(128, 1, 28, 28) (100, 1, 28, 28) (2037, 1, 28, 28)\n",
      "INFO:root:Class sequence: [0 3 0 2 9 7 0 9 2 1 7 6 8 6 1 8 6 4 9 8]\n",
      "INFO:root:task 0 :(128, 1, 28, 28) (100, 1, 28, 28) (1990, 1, 28, 28)\n",
      "INFO:root:task 1 :(128, 1, 28, 28) (100, 1, 28, 28) (2012, 1, 28, 28)\n",
      "INFO:root:task 2 :(128, 1, 28, 28) (100, 1, 28, 28) (2037, 1, 28, 28)\n",
      "INFO:root:task 3 :(128, 1, 28, 28) (100, 1, 28, 28) (1989, 1, 28, 28)\n",
      "INFO:root:task 4 :(128, 1, 28, 28) (100, 1, 28, 28) (2167, 1, 28, 28)\n",
      "INFO:root:task 5 :(128, 1, 28, 28) (100, 1, 28, 28) (1986, 1, 28, 28)\n",
      "INFO:root:task 6 :(128, 1, 28, 28) (100, 1, 28, 28) (1932, 1, 28, 28)\n",
      "INFO:root:task 7 :(128, 1, 28, 28) (100, 1, 28, 28) (2109, 1, 28, 28)\n",
      "INFO:root:task 8 :(128, 1, 28, 28) (100, 1, 28, 28) (1940, 1, 28, 28)\n",
      "INFO:root:task 9 :(128, 1, 28, 28) (100, 1, 28, 28) (1983, 1, 28, 28)\n",
      "INFO:root:Class sequence: [8 4 6 3 3 1 1 6 4 9 3 2 2 9 6 0 5 9 7 2]\n",
      "INFO:root:task 0 :(128, 1, 28, 28) (100, 1, 28, 28) (1956, 1, 28, 28)\n",
      "INFO:root:task 1 :(128, 1, 28, 28) (100, 1, 28, 28) (1968, 1, 28, 28)\n",
      "INFO:root:task 2 :(128, 1, 28, 28) (100, 1, 28, 28) (2145, 1, 28, 28)\n",
      "INFO:root:task 3 :(128, 1, 28, 28) (100, 1, 28, 28) (2093, 1, 28, 28)\n",
      "INFO:root:task 4 :(128, 1, 28, 28) (100, 1, 28, 28) (1991, 1, 28, 28)\n",
      "INFO:root:task 5 :(128, 1, 28, 28) (100, 1, 28, 28) (2042, 1, 28, 28)\n",
      "INFO:root:task 6 :(128, 1, 28, 28) (100, 1, 28, 28) (2041, 1, 28, 28)\n",
      "INFO:root:task 7 :(128, 1, 28, 28) (100, 1, 28, 28) (1938, 1, 28, 28)\n",
      "INFO:root:task 8 :(128, 1, 28, 28) (100, 1, 28, 28) (1901, 1, 28, 28)\n",
      "INFO:root:task 9 :(128, 1, 28, 28) (100, 1, 28, 28) (2060, 1, 28, 28)\n",
      "INFO:root:Class sequence: [7 5 8 4 6 9 8 3 4 6 1 3 3 1 4 1 9 2 6 2]\n",
      "INFO:root:task 0 :(128, 1, 28, 28) (100, 1, 28, 28) (1920, 1, 28, 28)\n",
      "INFO:root:task 1 :(128, 1, 28, 28) (100, 1, 28, 28) (1956, 1, 28, 28)\n",
      "INFO:root:task 2 :(128, 1, 28, 28) (100, 1, 28, 28) (1967, 1, 28, 28)\n",
      "INFO:root:task 3 :(128, 1, 28, 28) (100, 1, 28, 28) (1984, 1, 28, 28)\n",
      "INFO:root:task 4 :(128, 1, 28, 28) (100, 1, 28, 28) (1940, 1, 28, 28)\n",
      "INFO:root:task 5 :(128, 1, 28, 28) (100, 1, 28, 28) (2145, 1, 28, 28)\n",
      "INFO:root:task 6 :(128, 1, 28, 28) (100, 1, 28, 28) (2145, 1, 28, 28)\n",
      "INFO:root:task 7 :(128, 1, 28, 28) (100, 1, 28, 28) (2117, 1, 28, 28)\n",
      "INFO:root:task 8 :(128, 1, 28, 28) (100, 1, 28, 28) (2041, 1, 28, 28)\n",
      "INFO:root:task 9 :(128, 1, 28, 28) (100, 1, 28, 28) (1990, 1, 28, 28)\n",
      "INFO:root:Class sequence: [5 1 8 3 9 6 5 9 5 0 7 2 7 8 6 1 6 0 0 6]\n",
      "INFO:root:task 0 :(128, 1, 28, 28) (100, 1, 28, 28) (2027, 1, 28, 28)\n",
      "INFO:root:task 1 :(128, 1, 28, 28) (100, 1, 28, 28) (1984, 1, 28, 28)\n",
      "INFO:root:task 2 :(128, 1, 28, 28) (100, 1, 28, 28) (1967, 1, 28, 28)\n",
      "INFO:root:task 3 :(128, 1, 28, 28) (100, 1, 28, 28) (1901, 1, 28, 28)\n",
      "INFO:root:task 4 :(128, 1, 28, 28) (100, 1, 28, 28) (1872, 1, 28, 28)\n",
      "INFO:root:task 5 :(128, 1, 28, 28) (100, 1, 28, 28) (2060, 1, 28, 28)\n",
      "INFO:root:task 6 :(128, 1, 28, 28) (100, 1, 28, 28) (2002, 1, 28, 28)\n",
      "INFO:root:task 7 :(128, 1, 28, 28) (100, 1, 28, 28) (2093, 1, 28, 28)\n",
      "INFO:root:task 8 :(128, 1, 28, 28) (100, 1, 28, 28) (1938, 1, 28, 28)\n",
      "INFO:root:task 9 :(128, 1, 28, 28) (100, 1, 28, 28) (1938, 1, 28, 28)\n",
      "INFO:root:Class sequence: [7 0 8 4 8 3 3 9 6 4 3 2 4 6 7 4 9 0 3 1]\n",
      "INFO:root:task 0 :(128, 1, 28, 28) (100, 1, 28, 28) (2008, 1, 28, 28)\n",
      "INFO:root:task 1 :(128, 1, 28, 28) (100, 1, 28, 28) (1956, 1, 28, 28)\n",
      "INFO:root:task 2 :(128, 1, 28, 28) (100, 1, 28, 28) (1984, 1, 28, 28)\n",
      "INFO:root:task 3 :(128, 1, 28, 28) (100, 1, 28, 28) (2019, 1, 28, 28)\n",
      "INFO:root:task 4 :(128, 1, 28, 28) (100, 1, 28, 28) (1940, 1, 28, 28)\n",
      "INFO:root:task 5 :(128, 1, 28, 28) (100, 1, 28, 28) (2042, 1, 28, 28)\n"
     ]
    },
    {
     "name": "stdout",
     "output_type": "stream",
     "text": [
      "i_size 28\n",
      "num_classes 2\n",
      "net_cfg {'name': 'mlp', 'depth': 4, 'layer_size': 64, 'dropout': 0.5, 'no_sparse_basis': True, 'i_size': 28, 'num_classes': 2, 'num_tasks': 10, 'num_init_tasks': 4, 'use_contrastive': False}\n",
      "<class 'shell.learners.er_dynamic.CompositionalDynamicER'>\n"
     ]
    },
    {
     "name": "stderr",
     "output_type": "stream",
     "text": [
      "INFO:root:task 6 :(128, 1, 28, 28) (100, 1, 28, 28) (1940, 1, 28, 28)\n",
      "INFO:root:task 7 :(128, 1, 28, 28) (100, 1, 28, 28) (2010, 1, 28, 28)\n",
      "INFO:root:task 8 :(128, 1, 28, 28) (100, 1, 28, 28) (1989, 1, 28, 28)\n",
      "INFO:root:task 9 :(128, 1, 28, 28) (100, 1, 28, 28) (2145, 1, 28, 28)\n",
      "INFO:root:Created fleet with 8 agents\n",
      "INFO:root:Adding neighbors...\n",
      "INFO:root:Fleet initialized\n"
     ]
    },
    {
     "name": "stdout",
     "output_type": "stream",
     "text": [
      "Setting seed 69420000\n",
      "Setting seed 0\n",
      "Setting seed 1000\n",
      "Setting seed 2000\n",
      "Setting seed 3000\n",
      "Setting seed 4000\n",
      "Setting seed 5000\n",
      "Setting seed 6000\n",
      "Setting seed 7000\n",
      "Setting seed 0\n",
      "Setting seed 2000\n",
      "Setting seed 4000\n",
      "Setting seed 6000\n",
      "Setting seed 8000\n",
      "Setting seed 10000\n",
      "Setting seed 12000\n",
      "Setting seed 14000\n"
     ]
    }
   ],
   "source": [
    "save_dir = get_save_dir(experiment_folder, experiment_name,\n",
    "                        dataset, algo, num_trains_per_class, use_contrastive, seed)\n",
    "\n",
    "fleet = setup_fleet(save_dir, task_id=task_id, parallel=False, modify_cfg=modify_cfg)\n",
    "fleet.change_save_dir('debug_combine_modes_results')"
   ]
  },
  {
   "cell_type": "code",
   "execution_count": 7,
   "metadata": {},
   "outputs": [
    {
     "data": {
      "text/plain": [
       "array([7, 0, 8, 4, 8, 3, 3, 9, 8, 0, 1, 0, 5, 9, 6, 4, 9, 0, 3, 0])"
      ]
     },
     "execution_count": 7,
     "metadata": {},
     "output_type": "execute_result"
    }
   ],
   "source": [
    "fleet.agents[0].dataset.class_sequence # [1, 0]"
   ]
  },
  {
   "cell_type": "code",
   "execution_count": 8,
   "metadata": {},
   "outputs": [
    {
     "data": {
      "text/plain": [
       "array([7, 0, 8, 4, 8, 3, 3, 9, 2, 1, 7, 6, 8, 6, 1, 8, 6, 4, 9, 8])"
      ]
     },
     "execution_count": 8,
     "metadata": {},
     "output_type": "execute_result"
    }
   ],
   "source": [
    "fleet.agents[4].dataset.class_sequence # [2, 1,]"
   ]
  },
  {
   "cell_type": "code",
   "execution_count": 9,
   "metadata": {},
   "outputs": [
    {
     "data": {
      "text/plain": [
       "array([7, 0, 8, 4, 8, 3, 3, 9, 5, 0, 3, 6, 2, 7, 6, 7, 6, 1, 0, 5])"
      ]
     },
     "execution_count": 9,
     "metadata": {},
     "output_type": "execute_result"
    }
   ],
   "source": [
    "fleet.agents[1].dataset.class_sequence"
   ]
  },
  {
   "cell_type": "code",
   "execution_count": 10,
   "metadata": {},
   "outputs": [],
   "source": [
    "agent = fleet.agents[0]"
   ]
  },
  {
   "cell_type": "code",
   "execution_count": 11,
   "metadata": {},
   "outputs": [],
   "source": [
    "other = fleet.agents[1]"
   ]
  },
  {
   "cell_type": "code",
   "execution_count": 12,
   "metadata": {},
   "outputs": [
    {
     "data": {
      "text/plain": [
       "{'component_update_freq': 100,\n",
       " 'num_epochs': 100,\n",
       " 'init_component_update_freq': 100,\n",
       " 'init_num_epochs': 100,\n",
       " 'save_freq': 10}"
      ]
     },
     "execution_count": 12,
     "metadata": {},
     "output_type": "execute_result"
    }
   ],
   "source": [
    "agent.train_kwargs"
   ]
  },
  {
   "cell_type": "code",
   "execution_count": 13,
   "metadata": {},
   "outputs": [
    {
     "data": {
      "text/plain": [
       "6"
      ]
     },
     "execution_count": 13,
     "metadata": {},
     "output_type": "execute_result"
    }
   ],
   "source": [
    "len(other.net.components)"
   ]
  },
  {
   "cell_type": "code",
   "execution_count": 14,
   "metadata": {},
   "outputs": [
    {
     "name": "stdout",
     "output_type": "stream",
     "text": [
      "{'modmod': 100}\n",
      "{'modmod': 2}\n",
      "{'modmod': <shell.fleet.mod.modmod.ModModAgent object at 0x7fef7f693fa0>}\n"
     ]
    }
   ],
   "source": [
    "print(fleet.comm_freq)\n",
    "print(fleet.num_coms_per_round)\n",
    "print(agent.communicator)"
   ]
  },
  {
   "cell_type": "code",
   "execution_count": 15,
   "metadata": {},
   "outputs": [],
   "source": [
    " fleet.communicate(task_id=task_id, end_epoch=None, comm_freq=None, num_epochs=None,\n",
    "                      final=False, strategy='modmod')"
   ]
  },
  {
   "cell_type": "code",
   "execution_count": 16,
   "metadata": {},
   "outputs": [
    {
     "name": "stdout",
     "output_type": "stream",
     "text": [
      "Parameter containing:\n",
      "tensor([[1.0855, 0.8372, 0.9507, 1.1122],\n",
      "        [0.9681, 1.0981, 1.0678, 0.9853],\n",
      "        [0.7346, 0.8820, 0.9648, 1.0160],\n",
      "        [0.9683, 0.9718, 0.8731, 0.8291],\n",
      "        [0.0000, 0.0000, 0.0000, 0.0000],\n",
      "        [1.0013, 0.9533, 1.0914, 1.1196]], device='cuda:0', requires_grad=True)\n",
      "Parameter containing:\n",
      "tensor([[1.0855, 0.8372, 0.9507, 1.1122],\n",
      "        [0.9681, 1.0981, 1.0678, 0.9853],\n",
      "        [0.7346, 0.8820, 0.9648, 1.0160],\n",
      "        [0.9683, 0.9718, 0.8731, 0.8291],\n",
      "        [1.0013, 0.9533, 1.0914, 1.1196],\n",
      "        [  -inf,   -inf,   -inf,   -inf]], device='cuda:0', requires_grad=True)\n"
     ]
    }
   ],
   "source": [
    "print(agent.net.structure[task_id])\n",
    "print(other.net.structure[task_id-1])"
   ]
  },
  {
   "cell_type": "code",
   "execution_count": 17,
   "metadata": {},
   "outputs": [
    {
     "name": "stdout",
     "output_type": "stream",
     "text": [
      "Parameter containing:\n",
      "tensor([ 0.0452, -0.0607,  0.0722, -0.1004,  0.1251, -0.0064, -0.1164,  0.1127,\n",
      "         0.0004,  0.0645,  0.0241,  0.0464,  0.1239,  0.0798,  0.0211,  0.0780,\n",
      "         0.1154, -0.0562, -0.0140,  0.0268, -0.0231,  0.2038,  0.0196,  0.1246,\n",
      "        -0.0479, -0.1016,  0.0194,  0.0511,  0.0079,  0.1452, -0.1037, -0.0700,\n",
      "         0.0083,  0.1081,  0.0703, -0.0766,  0.1663, -0.0466,  0.0929,  0.0907,\n",
      "         0.1104, -0.0234,  0.0659, -0.1202,  0.0383,  0.0312,  0.0577,  0.0238,\n",
      "         0.0489, -0.0283,  0.0788,  0.0461,  0.1497,  0.0666,  0.0907,  0.0819,\n",
      "        -0.0055,  0.1425, -0.1208, -0.0157, -0.0080,  0.0785,  0.0714,  0.1297],\n",
      "       device='cuda:0', requires_grad=True)\n",
      "Parameter containing:\n",
      "tensor([ 0.0452, -0.0607,  0.0722, -0.1004,  0.1251, -0.0064, -0.1164,  0.1127,\n",
      "         0.0004,  0.0645,  0.0241,  0.0464,  0.1239,  0.0798,  0.0211,  0.0780,\n",
      "         0.1154, -0.0562, -0.0140,  0.0268, -0.0231,  0.2038,  0.0196,  0.1246,\n",
      "        -0.0479, -0.1016,  0.0194,  0.0511,  0.0079,  0.1452, -0.1037, -0.0700,\n",
      "         0.0083,  0.1081,  0.0703, -0.0766,  0.1663, -0.0466,  0.0929,  0.0907,\n",
      "         0.1104, -0.0234,  0.0659, -0.1202,  0.0383,  0.0312,  0.0577,  0.0238,\n",
      "         0.0489, -0.0283,  0.0788,  0.0461,  0.1497,  0.0666,  0.0907,  0.0819,\n",
      "        -0.0055,  0.1425, -0.1208, -0.0157, -0.0080,  0.0785,  0.0714,  0.1297],\n",
      "       device='cuda:0', requires_grad=True)\n"
     ]
    }
   ],
   "source": [
    "print(agent.train_kwargs['module_list'][0].bias)\n",
    "print(other.net.components[-2].bias)"
   ]
  },
  {
   "cell_type": "code",
   "execution_count": 18,
   "metadata": {},
   "outputs": [
    {
     "name": "stdout",
     "output_type": "stream",
     "text": [
      "Parameter containing:\n",
      "tensor([ 0.0000, -0.0381], device='cuda:0', requires_grad=True)\n",
      "Parameter containing:\n",
      "tensor([ 0.0959, -0.0381], device='cuda:0', requires_grad=True)\n"
     ]
    }
   ],
   "source": [
    "print(agent.net.decoder[task_id].bias)\n",
    "print(other.net.decoder[task_id-1].bias)"
   ]
  },
  {
   "cell_type": "code",
   "execution_count": 19,
   "metadata": {},
   "outputs": [
    {
     "data": {
      "text/plain": [
       "Parameter containing:\n",
       "tensor([[1.0855, 0.8372, 0.9507, 1.1122],\n",
       "        [0.9681, 1.0981, 1.0678, 0.9853],\n",
       "        [0.7346, 0.8820, 0.9648, 1.0160],\n",
       "        [0.9683, 0.9718, 0.8731, 0.8291],\n",
       "        [0.0000, 0.0000, 0.0000, 0.0000],\n",
       "        [1.0013, 0.9533, 1.0914, 1.1196]], device='cuda:0', requires_grad=True)"
      ]
     },
     "execution_count": 19,
     "metadata": {},
     "output_type": "execute_result"
    }
   ],
   "source": [
    "agent.net.structure[task_id]"
   ]
  },
  {
   "cell_type": "code",
   "execution_count": 20,
   "metadata": {},
   "outputs": [],
   "source": [
    "com = agent.communicator['modmod']"
   ]
  },
  {
   "cell_type": "code",
   "execution_count": 21,
   "metadata": {},
   "outputs": [
    {
     "data": {
      "text/plain": [
       "[{'source_task_id': 4,\n",
       "  'task_sim': 0.3333333333333333,\n",
       "  'module_id': 4,\n",
       "  'module': Linear(in_features=64, out_features=64, bias=True),\n",
       "  'decoder': Linear(in_features=64, out_features=2, bias=True),\n",
       "  'structure': Parameter containing:\n",
       "  tensor([[1.0855, 0.8372, 0.9507, 1.1122],\n",
       "          [0.9681, 1.0981, 1.0678, 0.9853],\n",
       "          [0.7346, 0.8820, 0.9648, 1.0160],\n",
       "          [0.9683, 0.9718, 0.8731, 0.8291],\n",
       "          [1.0013, 0.9533, 1.0914, 1.1196],\n",
       "          [  -inf,   -inf,   -inf,   -inf]], device='cuda:0', requires_grad=True),\n",
       "  'source_class_labels': array([5, 0])}]"
      ]
     },
     "execution_count": 21,
     "metadata": {},
     "output_type": "execute_result"
    }
   ],
   "source": [
    "com.incoming_modules[1]"
   ]
  },
  {
   "cell_type": "code",
   "execution_count": 22,
   "metadata": {},
   "outputs": [],
   "source": [
    "module_list = com.get_module_list()\n",
    "best, info = com.module_select.choose_best_module_from_neighbors(task_id,\n",
    "                                                                                  module_list)"
   ]
  },
  {
   "cell_type": "code",
   "execution_count": 23,
   "metadata": {},
   "outputs": [
    {
     "data": {
      "text/plain": [
       "0"
      ]
     },
     "execution_count": 23,
     "metadata": {},
     "output_type": "execute_result"
    }
   ],
   "source": [
    "best"
   ]
  },
  {
   "cell_type": "code",
   "execution_count": 24,
   "metadata": {},
   "outputs": [
    {
     "data": {
      "text/plain": [
       "[{'source_task_id': 4,\n",
       "  'task_sim': 0.3333333333333333,\n",
       "  'module_id': 4,\n",
       "  'module': Linear(in_features=64, out_features=64, bias=True),\n",
       "  'decoder': Linear(in_features=64, out_features=2, bias=True),\n",
       "  'structure': Parameter containing:\n",
       "  tensor([[1.0855, 0.8372, 0.9507, 1.1122],\n",
       "          [0.9681, 1.0981, 1.0678, 0.9853],\n",
       "          [0.7346, 0.8820, 0.9648, 1.0160],\n",
       "          [0.9683, 0.9718, 0.8731, 0.8291],\n",
       "          [1.0013, 0.9533, 1.0914, 1.1196],\n",
       "          [  -inf,   -inf,   -inf,   -inf]], device='cuda:0', requires_grad=True),\n",
       "  'source_class_labels': array([5, 0]),\n",
       "  'neighbor_id': 1},\n",
       " {'source_task_id': 4,\n",
       "  'task_sim': 0.3333333333333333,\n",
       "  'module_id': 4,\n",
       "  'module': Linear(in_features=64, out_features=64, bias=True),\n",
       "  'decoder': Linear(in_features=64, out_features=2, bias=True),\n",
       "  'structure': Parameter containing:\n",
       "  tensor([[1.4578, 0.5083, 0.6026, 0.5428],\n",
       "          [0.5113, 1.4649, 1.5625, 1.1718],\n",
       "          [0.4720, 0.4879, 0.5112, 1.2593],\n",
       "          [0.5400, 0.5117, 0.6221, 1.2566],\n",
       "          [1.2649, 0.9751, 0.7999, 0.9374],\n",
       "          [  -inf,   -inf,   -inf,   -inf]], device='cuda:0', requires_grad=True),\n",
       "  'source_class_labels': array([6, 1]),\n",
       "  'neighbor_id': 2},\n",
       " {'source_task_id': 4,\n",
       "  'task_sim': 0.0,\n",
       "  'module_id': 4,\n",
       "  'module': Linear(in_features=64, out_features=64, bias=True),\n",
       "  'decoder': Linear(in_features=64, out_features=2, bias=True),\n",
       "  'structure': Parameter containing:\n",
       "  tensor([[0.6162, 1.3974, 1.1077, 1.5133],\n",
       "          [0.6145, 1.2653, 0.5196, 0.7806],\n",
       "          [1.1855, 0.5823, 0.5160, 0.7061],\n",
       "          [1.3920, 0.8052, 1.3608, 0.7338],\n",
       "          [1.2000, 1.1316, 1.1848, 1.2961]], device='cuda:0', requires_grad=True),\n",
       "  'source_class_labels': array([4, 5]),\n",
       "  'neighbor_id': 3},\n",
       " {'source_task_id': 4,\n",
       "  'task_sim': 0.3333333333333333,\n",
       "  'module_id': 4,\n",
       "  'module': Linear(in_features=64, out_features=64, bias=True),\n",
       "  'decoder': Linear(in_features=64, out_features=2, bias=True),\n",
       "  'structure': Parameter containing:\n",
       "  tensor([[1.4840, 0.4587, 0.5361, 0.5790],\n",
       "          [0.4887, 1.4869, 1.5785, 1.1688],\n",
       "          [0.5110, 0.4690, 0.5012, 1.2600],\n",
       "          [0.8829, 0.5690, 0.6640, 0.9629],\n",
       "          [1.2591, 0.8578, 0.7942, 0.9756]], device='cuda:0', requires_grad=True),\n",
       "  'source_class_labels': array([2, 1]),\n",
       "  'neighbor_id': 4},\n",
       " {'source_task_id': 4,\n",
       "  'task_sim': 0.0,\n",
       "  'module_id': 4,\n",
       "  'module': Linear(in_features=64, out_features=64, bias=True),\n",
       "  'decoder': Linear(in_features=64, out_features=2, bias=True),\n",
       "  'structure': Parameter containing:\n",
       "  tensor([[1.0076, 0.8791, 0.9420, 0.8469],\n",
       "          [0.6097, 0.8980, 1.2780, 0.9914],\n",
       "          [0.5319, 0.7355, 0.8683, 1.0201],\n",
       "          [0.6365, 1.1150, 0.8891, 0.9785],\n",
       "          [1.3924, 1.1716, 1.0216, 1.0722],\n",
       "          [  -inf,   -inf,   -inf,   -inf]], device='cuda:0', requires_grad=True),\n",
       "  'source_class_labels': array([4, 9]),\n",
       "  'neighbor_id': 5},\n",
       " {'source_task_id': 5,\n",
       "  'task_sim': 0.3333333333333333,\n",
       "  'module_id': 5,\n",
       "  'module': Linear(in_features=64, out_features=64, bias=True),\n",
       "  'decoder': Linear(in_features=64, out_features=2, bias=True),\n",
       "  'structure': Parameter containing:\n",
       "  tensor([[1.4578, 0.5083, 0.6026, 0.5428],\n",
       "          [0.5113, 1.4649, 1.5625, 1.1718],\n",
       "          [0.4720, 0.4879, 0.5112, 1.2593],\n",
       "          [0.5400, 0.5117, 0.6221, 1.2566],\n",
       "          [0.0000, 0.0000, 0.0000, 0.0000],\n",
       "          [0.0000, 0.0000, 0.0000, 0.0000],\n",
       "          [1.2649, 0.9751, 0.7999, 0.9374]], device='cuda:0', requires_grad=True),\n",
       "  'source_class_labels': array([1, 3]),\n",
       "  'neighbor_id': 6},\n",
       " {'source_task_id': 4,\n",
       "  'task_sim': 0.3333333333333333,\n",
       "  'module_id': 4,\n",
       "  'module': Linear(in_features=64, out_features=64, bias=True),\n",
       "  'decoder': Linear(in_features=64, out_features=2, bias=True),\n",
       "  'structure': Parameter containing:\n",
       "  tensor([[1.4078, 0.4758, 0.6152, 0.9597],\n",
       "          [0.4592, 1.4632, 1.3753, 1.5912],\n",
       "          [0.6141, 0.5308, 0.6668, 1.0142],\n",
       "          [0.4461, 0.5778, 0.6730, 0.7604],\n",
       "          [1.3423, 1.0406, 0.9679, 1.0821]], device='cuda:0', requires_grad=True),\n",
       "  'source_class_labels': array([5, 0]),\n",
       "  'neighbor_id': 7}]"
      ]
     },
     "execution_count": 24,
     "metadata": {},
     "output_type": "execute_result"
    }
   ],
   "source": [
    "module_list"
   ]
  },
  {
   "cell_type": "code",
   "execution_count": 25,
   "metadata": {},
   "outputs": [
    {
     "data": {
      "text/plain": [
       "{'source_task_id': 4,\n",
       " 'task_sim': 0.3333333333333333,\n",
       " 'module_id': 4,\n",
       " 'module': Linear(in_features=64, out_features=64, bias=True),\n",
       " 'decoder': Linear(in_features=64, out_features=2, bias=True),\n",
       " 'structure': Parameter containing:\n",
       " tensor([[1.0855, 0.8372, 0.9507, 1.1122],\n",
       "         [0.9681, 1.0981, 1.0678, 0.9853],\n",
       "         [0.7346, 0.8820, 0.9648, 1.0160],\n",
       "         [0.9683, 0.9718, 0.8731, 0.8291],\n",
       "         [1.0013, 0.9533, 1.0914, 1.1196],\n",
       "         [  -inf,   -inf,   -inf,   -inf]], device='cuda:0', requires_grad=True),\n",
       " 'source_class_labels': array([5, 0]),\n",
       " 'neighbor_id': 1}"
      ]
     },
     "execution_count": 25,
     "metadata": {},
     "output_type": "execute_result"
    }
   ],
   "source": [
    "module_list[best]"
   ]
  },
  {
   "cell_type": "code",
   "execution_count": 26,
   "metadata": {},
   "outputs": [
    {
     "data": {
      "text/plain": [
       "{'component_update_freq': 100,\n",
       " 'num_epochs': 100,\n",
       " 'init_component_update_freq': 100,\n",
       " 'init_num_epochs': 100,\n",
       " 'save_freq': 10,\n",
       " 'module_list': [Linear(in_features=64, out_features=64, bias=True)],\n",
       " 'train_candidate_module': True}"
      ]
     },
     "execution_count": 26,
     "metadata": {},
     "output_type": "execute_result"
    }
   ],
   "source": [
    "com.train_kwargs"
   ]
  },
  {
   "cell_type": "code",
   "execution_count": 27,
   "metadata": {},
   "outputs": [],
   "source": [
    "# task_id=5, mnist seed 0, agent 2, other 6, task_sim 1"
   ]
  },
  {
   "cell_type": "code",
   "execution_count": 28,
   "metadata": {},
   "outputs": [
    {
     "data": {
      "text/plain": [
       "{'component_update_freq': 100,\n",
       " 'num_epochs': 100,\n",
       " 'init_component_update_freq': 100,\n",
       " 'init_num_epochs': 100,\n",
       " 'save_freq': 10,\n",
       " 'module_list': [Linear(in_features=64, out_features=64, bias=True)],\n",
       " 'train_candidate_module': True}"
      ]
     },
     "execution_count": 28,
     "metadata": {},
     "output_type": "execute_result"
    }
   ],
   "source": [
    "agent.train_kwargs"
   ]
  },
  {
   "cell_type": "code",
   "execution_count": null,
   "metadata": {},
   "outputs": [],
   "source": []
  }
 ],
 "metadata": {
  "kernelspec": {
   "display_name": "shell",
   "language": "python",
   "name": "python3"
  },
  "language_info": {
   "codemirror_mode": {
    "name": "ipython",
    "version": 3
   },
   "file_extension": ".py",
   "mimetype": "text/x-python",
   "name": "python",
   "nbconvert_exporter": "python",
   "pygments_lexer": "ipython3",
   "version": "3.10.9"
  }
 },
 "nbformat": 4,
 "nbformat_minor": 2
}
