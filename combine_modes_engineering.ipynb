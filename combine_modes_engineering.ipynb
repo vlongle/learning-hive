{
 "cells": [
  {
   "cell_type": "code",
   "execution_count": 21,
   "metadata": {},
   "outputs": [
    {
     "name": "stdout",
     "output_type": "stream",
     "text": [
      "The autoreload extension is already loaded. To reload it, use:\n",
      "  %reload_ext autoreload\n"
     ]
    }
   ],
   "source": [
    "%load_ext autoreload\n",
    "%autoreload 2"
   ]
  },
  {
   "cell_type": "code",
   "execution_count": 22,
   "metadata": {},
   "outputs": [],
   "source": [
    "import omegaconf\n",
    "from shell.utils.experiment_utils import *\n",
    "from shell.fleet.utils.fleet_utils import *\n",
    "from shell.utils.metric import *\n",
    "import matplotlib.pyplot as plt\n",
    "from shell.fleet.network import TopologyGenerator\n",
    "from sklearn.manifold import TSNE\n",
    "import numpy as np\n",
    "import pandas as pd\n",
    "from shell.fleet.fleet import Agent, Fleet\n",
    "from shell.fleet.data.data_utilize import *\n",
    "from shell.fleet.data.recv import *\n",
    "\n",
    "from sklearn.manifold import TSNE\n",
    "from torchvision.utils import make_grid\n",
    "from shell.fleet.data.data_utilize import *\n",
    "import logging\n",
    "from sklearn.metrics import f1_score\n",
    "import os\n",
    "from shell.fleet.data.recv_utils import *\n",
    "from tqdm import tqdm\n",
    "import argparse\n",
    "from functools import partial\n",
    "from torchvision.utils import make_grid\n",
    "from shell.utils.oodloss import OODSeparationLoss\n",
    "from pythresh.thresholds.dsn import DSN\n",
    "from pythresh.thresholds.aucp import AUCP\n",
    "from pythresh.thresholds.boot import BOOT\n",
    "from pythresh.thresholds.zscore import ZSCORE\n",
    "from sklearn.metrics import accuracy_score, precision_score, recall_score, f1_score\n",
    "from collections import defaultdict\n",
    "from experiments.run import handle_combine_modes\n",
    "\n",
    "logging.basicConfig(level=logging.INFO)"
   ]
  },
  {
   "cell_type": "code",
   "execution_count": 23,
   "metadata": {},
   "outputs": [],
   "source": [
    "experiment_folder = \".\"\n",
    "experiment_name = \"combine_modes_results/recv_data_no_sparse_False_recv_mod_add_data_backward_True_make_new_opt_True\"\n",
    "experiment_name = \"combine_modes_results/gt_recv_data_no_sparse_False_recv_mod_add_data_backward_True_make_new_opt_True\"\n",
    "dataset = \"kmnist\"\n",
    "algo = \"modular\"\n",
    "\n",
    "use_contrastive = False\n",
    "num_trains_per_class = 64 if dataset != \"cifar100\" else 256\n",
    "seed = 0\n",
    "parallel = False\n",
    "task_id = 3\n",
    "\n",
    "\n",
    "agent_id = 0"
   ]
  },
  {
   "cell_type": "code",
   "execution_count": 24,
   "metadata": {},
   "outputs": [],
   "source": [
    "def modify_cfg(net_cfg, agent_cfg, train_cfg, fleet_additional_cfg, cfg):\n",
    "    cfg = handle_combine_modes(cfg)\n",
    "    return  net_cfg, agent_cfg, train_cfg, fleet_additional_cfg, cfg"
   ]
  },
  {
   "cell_type": "code",
   "execution_count": 25,
   "metadata": {},
   "outputs": [
    {
     "name": "stderr",
     "output_type": "stream",
     "text": [
      "INFO:root:Setting seed 0\n"
     ]
    },
    {
     "name": "stdout",
     "output_type": "stream",
     "text": [
      "{'train': {'component_update_freq': 100, 'num_epochs': 100, 'init_component_update_freq': 100, 'init_num_epochs': 100, 'save_freq': 10}, 'dataset': {'dataset_name': 'kmnist', 'num_tasks': 10, 'num_classes_per_task': 2, 'with_replacement': True, 'num_trains_per_class': 64, 'num_vals_per_class': 50, 'remap_labels': True}, 'net': {'name': 'mlp', 'depth': 4, 'layer_size': 64, 'dropout': 0.5, 'no_sparse_basis': False}, 'sharing_strategy': {'name': 'recv_data', 'num_coms_per_round': 2, 'num_queries': 20, 'num_data_neighbors': 5, 'num_filter_neighbors': 5, 'scorer': 'cross_entropy', 'query_score_threshold': 0.0, 'shared_memory_size': 32, 'comm_freq': 16, 'query_task_mode': 'current', 'pre_or_post_comm': 'post', 'sync_base': False, 'prefilter_strategy': 'oracle', 'add_data_prefilter_strategy': 'both', 'assign_labels_strategy': 'same_as_query', 'min_task': 0}, 'seed': 0, 'algo': 'modular', 'job_name': 'kmnist_modular_numtrain_64', 'num_agents': 8, 'root_save_dir': 'combine_modes_results/gt_recv_data_no_sparse_False_recv_mod_add_data_backward_True_make_new_opt_True', 'parallel': True, 'num_init_tasks': 4, 'overwrite': False, 'topology': 'fully_connected', 'edge_drop_prob': 0.0, 'agent': {'save_dir': '${root_save_dir}/${job_name}/${dataset.dataset_name}/${algo}/seed_${seed}', 'batch_size': 64, 'memory_size': 32, 'improvement_threshold': 0.05, 'use_contrastive': False, 'use_ood_separation_loss': False, 'lambda_ood': 2.0, 'delta_ood': 1.0, 'make_new_opt': True, 'recv_mod_add_data_backward': True}}\n"
     ]
    },
    {
     "name": "stderr",
     "output_type": "stream",
     "text": [
      "INFO:root:Class sequence: [5 0 4 3 4 6 4 3 8 0 1 0 5 9 6 4 9 0 3 0]\n",
      "INFO:root:task 0 :(128, 1, 28, 28) (100, 1, 28, 28) (2000, 1, 28, 28)\n",
      "INFO:root:task 1 :(128, 1, 28, 28) (100, 1, 28, 28) (2000, 1, 28, 28)\n",
      "INFO:root:task 2 :(128, 1, 28, 28) (100, 1, 28, 28) (2000, 1, 28, 28)\n",
      "INFO:root:task 3 :(128, 1, 28, 28) (100, 1, 28, 28) (2000, 1, 28, 28)\n",
      "INFO:root:task 4 :(128, 1, 28, 28) (100, 1, 28, 28) (2000, 1, 28, 28)\n",
      "INFO:root:task 5 :(128, 1, 28, 28) (100, 1, 28, 28) (2000, 1, 28, 28)\n",
      "INFO:root:task 6 :(128, 1, 28, 28) (100, 1, 28, 28) (2000, 1, 28, 28)\n",
      "INFO:root:task 7 :(128, 1, 28, 28) (100, 1, 28, 28) (2000, 1, 28, 28)\n",
      "INFO:root:task 8 :(128, 1, 28, 28) (100, 1, 28, 28) (2000, 1, 28, 28)\n",
      "INFO:root:task 9 :(128, 1, 28, 28) (100, 1, 28, 28) (2000, 1, 28, 28)\n",
      "INFO:root:Class sequence: [4 7 5 7 6 0 3 0 5 0 3 6 2 7 6 7 6 1 0 5]\n",
      "INFO:root:task 0 :(128, 1, 28, 28) (100, 1, 28, 28) (2000, 1, 28, 28)\n",
      "INFO:root:task 1 :(128, 1, 28, 28) (100, 1, 28, 28) (2000, 1, 28, 28)\n",
      "INFO:root:task 2 :(128, 1, 28, 28) (100, 1, 28, 28) (2000, 1, 28, 28)\n",
      "INFO:root:task 3 :(128, 1, 28, 28) (100, 1, 28, 28) (2000, 1, 28, 28)\n",
      "INFO:root:task 4 :(128, 1, 28, 28) (100, 1, 28, 28) (2000, 1, 28, 28)\n",
      "INFO:root:task 5 :(128, 1, 28, 28) (100, 1, 28, 28) (2000, 1, 28, 28)\n",
      "INFO:root:task 6 :(128, 1, 28, 28) (100, 1, 28, 28) (2000, 1, 28, 28)\n",
      "INFO:root:task 7 :(128, 1, 28, 28) (100, 1, 28, 28) (2000, 1, 28, 28)\n",
      "INFO:root:task 8 :(128, 1, 28, 28) (100, 1, 28, 28) (2000, 1, 28, 28)\n",
      "INFO:root:task 9 :(128, 1, 28, 28) (100, 1, 28, 28) (2000, 1, 28, 28)\n",
      "INFO:root:Class sequence: [6 7 7 8 4 1 1 8 6 1 6 4 5 7 8 0 2 3 0 3]\n",
      "INFO:root:task 0 :(128, 1, 28, 28) (100, 1, 28, 28) (2000, 1, 28, 28)\n",
      "INFO:root:task 1 :(128, 1, 28, 28) (100, 1, 28, 28) (2000, 1, 28, 28)\n",
      "INFO:root:task 2 :(128, 1, 28, 28) (100, 1, 28, 28) (2000, 1, 28, 28)\n",
      "INFO:root:task 3 :(128, 1, 28, 28) (100, 1, 28, 28) (2000, 1, 28, 28)\n",
      "INFO:root:task 4 :(128, 1, 28, 28) (100, 1, 28, 28) (2000, 1, 28, 28)\n",
      "INFO:root:task 5 :(128, 1, 28, 28) (100, 1, 28, 28) (2000, 1, 28, 28)\n",
      "INFO:root:task 6 :(128, 1, 28, 28) (100, 1, 28, 28) (2000, 1, 28, 28)\n",
      "INFO:root:task 7 :(128, 1, 28, 28) (100, 1, 28, 28) (2000, 1, 28, 28)\n",
      "INFO:root:task 8 :(128, 1, 28, 28) (100, 1, 28, 28) (2000, 1, 28, 28)\n",
      "INFO:root:task 9 :(128, 1, 28, 28) (100, 1, 28, 28) (2000, 1, 28, 28)\n",
      "INFO:root:Class sequence: [2 8 0 3 7 4 3 4 4 5 9 3 0 6 9 1 3 1 7 9]\n",
      "INFO:root:task 0 :(128, 1, 28, 28) (100, 1, 28, 28) (2000, 1, 28, 28)\n",
      "INFO:root:task 1 :(128, 1, 28, 28) (100, 1, 28, 28) (2000, 1, 28, 28)\n",
      "INFO:root:task 2 :(128, 1, 28, 28) (100, 1, 28, 28) (2000, 1, 28, 28)\n",
      "INFO:root:task 3 :(128, 1, 28, 28) (100, 1, 28, 28) (2000, 1, 28, 28)\n",
      "INFO:root:task 4 :(128, 1, 28, 28) (100, 1, 28, 28) (2000, 1, 28, 28)\n",
      "INFO:root:task 5 :(128, 1, 28, 28) (100, 1, 28, 28) (2000, 1, 28, 28)\n",
      "INFO:root:task 6 :(128, 1, 28, 28) (100, 1, 28, 28) (2000, 1, 28, 28)\n",
      "INFO:root:task 7 :(128, 1, 28, 28) (100, 1, 28, 28) (2000, 1, 28, 28)\n",
      "INFO:root:task 8 :(128, 1, 28, 28) (100, 1, 28, 28) (2000, 1, 28, 28)\n",
      "INFO:root:task 9 :(128, 1, 28, 28) (100, 1, 28, 28) (2000, 1, 28, 28)\n",
      "INFO:root:Class sequence: [0 3 0 2 9 7 0 9 2 1 7 6 8 6 1 8 6 4 9 8]\n",
      "INFO:root:task 0 :(128, 1, 28, 28) (100, 1, 28, 28) (2000, 1, 28, 28)\n",
      "INFO:root:task 1 :(128, 1, 28, 28) (100, 1, 28, 28) (2000, 1, 28, 28)\n",
      "INFO:root:task 2 :(128, 1, 28, 28) (100, 1, 28, 28) (2000, 1, 28, 28)\n",
      "INFO:root:task 3 :(128, 1, 28, 28) (100, 1, 28, 28) (2000, 1, 28, 28)\n",
      "INFO:root:task 4 :(128, 1, 28, 28) (100, 1, 28, 28) (2000, 1, 28, 28)\n",
      "INFO:root:task 5 :(128, 1, 28, 28) (100, 1, 28, 28) (2000, 1, 28, 28)\n",
      "INFO:root:task 6 :(128, 1, 28, 28) (100, 1, 28, 28) (2000, 1, 28, 28)\n",
      "INFO:root:task 7 :(128, 1, 28, 28) (100, 1, 28, 28) (2000, 1, 28, 28)\n",
      "INFO:root:task 8 :(128, 1, 28, 28) (100, 1, 28, 28) (2000, 1, 28, 28)\n",
      "INFO:root:task 9 :(128, 1, 28, 28) (100, 1, 28, 28) (2000, 1, 28, 28)\n",
      "INFO:root:Class sequence: [8 4 6 3 3 1 1 6 4 9 3 2 2 9 6 0 5 9 7 2]\n",
      "INFO:root:task 0 :(128, 1, 28, 28) (100, 1, 28, 28) (2000, 1, 28, 28)\n",
      "INFO:root:task 1 :(128, 1, 28, 28) (100, 1, 28, 28) (2000, 1, 28, 28)\n",
      "INFO:root:task 2 :(128, 1, 28, 28) (100, 1, 28, 28) (2000, 1, 28, 28)\n",
      "INFO:root:task 3 :(128, 1, 28, 28) (100, 1, 28, 28) (2000, 1, 28, 28)\n",
      "INFO:root:task 4 :(128, 1, 28, 28) (100, 1, 28, 28) (2000, 1, 28, 28)\n",
      "INFO:root:task 5 :(128, 1, 28, 28) (100, 1, 28, 28) (2000, 1, 28, 28)\n",
      "INFO:root:task 6 :(128, 1, 28, 28) (100, 1, 28, 28) (2000, 1, 28, 28)\n",
      "INFO:root:task 7 :(128, 1, 28, 28) (100, 1, 28, 28) (2000, 1, 28, 28)\n",
      "INFO:root:task 8 :(128, 1, 28, 28) (100, 1, 28, 28) (2000, 1, 28, 28)\n",
      "INFO:root:task 9 :(128, 1, 28, 28) (100, 1, 28, 28) (2000, 1, 28, 28)\n",
      "INFO:root:Class sequence: [7 5 8 4 6 9 8 3 4 6 1 3 3 1 4 1 9 2 6 2]\n",
      "INFO:root:task 0 :(128, 1, 28, 28) (100, 1, 28, 28) (2000, 1, 28, 28)\n",
      "INFO:root:task 1 :(128, 1, 28, 28) (100, 1, 28, 28) (2000, 1, 28, 28)\n",
      "INFO:root:task 2 :(128, 1, 28, 28) (100, 1, 28, 28) (2000, 1, 28, 28)\n",
      "INFO:root:task 3 :(128, 1, 28, 28) (100, 1, 28, 28) (2000, 1, 28, 28)\n",
      "INFO:root:task 4 :(128, 1, 28, 28) (100, 1, 28, 28) (2000, 1, 28, 28)\n",
      "INFO:root:task 5 :(128, 1, 28, 28) (100, 1, 28, 28) (2000, 1, 28, 28)\n",
      "INFO:root:task 6 :(128, 1, 28, 28) (100, 1, 28, 28) (2000, 1, 28, 28)\n",
      "INFO:root:task 7 :(128, 1, 28, 28) (100, 1, 28, 28) (2000, 1, 28, 28)\n",
      "INFO:root:task 8 :(128, 1, 28, 28) (100, 1, 28, 28) (2000, 1, 28, 28)\n",
      "INFO:root:task 9 :(128, 1, 28, 28) (100, 1, 28, 28) (2000, 1, 28, 28)\n",
      "INFO:root:Class sequence: [5 1 8 3 9 6 5 9 5 0 7 2 7 8 6 1 6 0 0 6]\n",
      "INFO:root:task 0 :(128, 1, 28, 28) (100, 1, 28, 28) (2000, 1, 28, 28)\n",
      "INFO:root:task 1 :(128, 1, 28, 28) (100, 1, 28, 28) (2000, 1, 28, 28)\n",
      "INFO:root:task 2 :(128, 1, 28, 28) (100, 1, 28, 28) (2000, 1, 28, 28)\n",
      "INFO:root:task 3 :(128, 1, 28, 28) (100, 1, 28, 28) (2000, 1, 28, 28)\n",
      "INFO:root:task 4 :(128, 1, 28, 28) (100, 1, 28, 28) (2000, 1, 28, 28)\n",
      "INFO:root:task 5 :(128, 1, 28, 28) (100, 1, 28, 28) (2000, 1, 28, 28)\n",
      "INFO:root:task 6 :(128, 1, 28, 28) (100, 1, 28, 28) (2000, 1, 28, 28)\n",
      "INFO:root:task 7 :(128, 1, 28, 28) (100, 1, 28, 28) (2000, 1, 28, 28)\n",
      "INFO:root:task 8 :(128, 1, 28, 28) (100, 1, 28, 28) (2000, 1, 28, 28)\n",
      "INFO:root:task 9 :(128, 1, 28, 28) (100, 1, 28, 28) (2000, 1, 28, 28)\n",
      "INFO:root:Setting seed 0\n",
      "INFO:root:Agent: node_id: 0, seed: 0\n",
      "INFO:root:~~~~ Creating agent from stratch\n",
      "INFO:root:Setting seed 1000\n",
      "INFO:root:Agent: node_id: 1, seed: 1000\n",
      "INFO:root:~~~~ Creating agent from stratch\n",
      "INFO:root:Setting seed 2000\n",
      "INFO:root:Agent: node_id: 2, seed: 2000\n",
      "INFO:root:~~~~ Creating agent from stratch\n",
      "INFO:root:Setting seed 3000\n",
      "INFO:root:Agent: node_id: 3, seed: 3000\n",
      "INFO:root:~~~~ Creating agent from stratch\n",
      "INFO:root:Setting seed 4000\n",
      "INFO:root:Agent: node_id: 4, seed: 4000\n",
      "INFO:root:~~~~ Creating agent from stratch\n",
      "INFO:root:Setting seed 5000\n",
      "INFO:root:Agent: node_id: 5, seed: 5000\n",
      "INFO:root:~~~~ Creating agent from stratch\n",
      "INFO:root:Setting seed 6000\n",
      "INFO:root:Agent: node_id: 6, seed: 6000\n",
      "INFO:root:~~~~ Creating agent from stratch\n",
      "INFO:root:Setting seed 7000\n",
      "INFO:root:Agent: node_id: 7, seed: 7000\n",
      "INFO:root:~~~~ Creating agent from stratch\n",
      "INFO:root:Created fleet with 8 agents\n",
      "INFO:root:Adding neighbors...\n",
      "INFO:root:Fleet initialized\n"
     ]
    },
    {
     "name": "stdout",
     "output_type": "stream",
     "text": [
      "i_size 28\n",
      "num_classes 2\n",
      "net_cfg {'name': 'mlp', 'depth': 4, 'layer_size': 64, 'dropout': 0.5, 'no_sparse_basis': False, 'i_size': 28, 'num_classes': 2, 'num_tasks': 10, 'num_init_tasks': 4, 'use_contrastive': False}\n",
      "<class 'shell.learners.er_dynamic.CompositionalDynamicER'>\n"
     ]
    }
   ],
   "source": [
    "save_dir = get_save_dir(experiment_folder, experiment_name,\n",
    "                        dataset, algo, num_trains_per_class, use_contrastive, seed)\n",
    "\n",
    "fleet = setup_fleet(save_dir, task_id=task_id, parallel=False, modify_cfg=modify_cfg)\n",
    "# fleet = setup_fleet(save_dir, task_id=task_id, parallel=False, modify_cfg=modify_cfg)\n",
    "fleet.change_save_dir('debug_combine_modes_results')"
   ]
  },
  {
   "cell_type": "code",
   "execution_count": 26,
   "metadata": {},
   "outputs": [],
   "source": [
    "agent = fleet.agents[agent_id]\n",
    "if 'gt' not in experiment_name:\n",
    "    comm = agent.communicator['recv_data']\n",
    "    print(comm.neighbors)"
   ]
  },
  {
   "cell_type": "code",
   "execution_count": 27,
   "metadata": {},
   "outputs": [],
   "source": [
    "if 'gt' not in experiment_name:\n",
    "    fleet.communicate(task_id, end_epoch=None, comm_freq=None, num_epochs=None, strategy='recv_data')\n",
    "else:\n",
    "    fleet.communicate(task_id, end_epoch=None, comm_freq=None, num_epochs=None)"
   ]
  },
  {
   "cell_type": "code",
   "execution_count": 28,
   "metadata": {},
   "outputs": [
    {
     "name": "stdout",
     "output_type": "stream",
     "text": [
      "{}\n"
     ]
    }
   ],
   "source": [
    "if 'gt' not in experiment_name:\n",
    "    print(comm.incoming_data)\n",
    "else:\n",
    "    print(agent.incoming_data)"
   ]
  },
  {
   "cell_type": "code",
   "execution_count": 29,
   "metadata": {},
   "outputs": [
    {
     "name": "stdout",
     "output_type": "stream",
     "text": [
      "include_avg True\n"
     ]
    },
    {
     "data": {
      "text/plain": [
       "{0: 0.8555, 1: 0.88, 2: 0.8575, 3: 0.89, 'avg': 0.87075}"
      ]
     },
     "execution_count": 29,
     "metadata": {},
     "output_type": "execute_result"
    }
   ],
   "source": [
    "agent.eval_test(task_id=task_id, include_avg=True)"
   ]
  },
  {
   "cell_type": "code",
   "execution_count": 33,
   "metadata": {},
   "outputs": [
    {
     "data": {
      "text/plain": [
       "{}"
      ]
     },
     "execution_count": 33,
     "metadata": {},
     "output_type": "execute_result"
    }
   ],
   "source": [
    "agent.incoming_data"
   ]
  },
  {
   "cell_type": "code",
   "execution_count": null,
   "metadata": {},
   "outputs": [],
   "source": []
  }
 ],
 "metadata": {
  "kernelspec": {
   "display_name": "shell",
   "language": "python",
   "name": "python3"
  },
  "language_info": {
   "codemirror_mode": {
    "name": "ipython",
    "version": 3
   },
   "file_extension": ".py",
   "mimetype": "text/x-python",
   "name": "python",
   "nbconvert_exporter": "python",
   "pygments_lexer": "ipython3",
   "version": "3.10.9"
  }
 },
 "nbformat": 4,
 "nbformat_minor": 2
}
