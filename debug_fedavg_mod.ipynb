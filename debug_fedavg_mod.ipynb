{
 "cells": [
  {
   "cell_type": "code",
   "execution_count": null,
   "metadata": {},
   "outputs": [],
   "source": [
    "import os\n",
    "import omegaconf\n",
    "from shell.utils.experiment_utils import *\n",
    "from shell.utils.metric import *\n",
    "import matplotlib.pyplot as plt\n",
    "from shell.fleet.network import TopologyGenerator\n",
    "import matplotlib.pyplot as plt\n",
    "from sklearn.manifold import TSNE\n",
    "import numpy as np\n",
    "import pandas as pd\n",
    "from shell.fleet.utils.fleet_utils import *"
   ]
  },
  {
   "cell_type": "code",
   "execution_count": null,
   "metadata": {},
   "outputs": [],
   "source": [
    "# num_tasks = 5\n",
    "num_init_tasks = 4\n",
    "# algo = \"monolithic\"\n",
    "algo = \"modular\"\n",
    "comm_freq = 10\n",
    "use_contrastive = True\n",
    "experiment = f\"debug_experiment_results/small_debug_joint_agent_use_reg_fleet_comm_freq_{comm_freq}_use_contrastive_{use_contrastive}\""
   ]
  },
  {
   "cell_type": "code",
   "execution_count": null,
   "metadata": {},
   "outputs": [],
   "source": [
    "def get_cfg(save_root_dir = \"experiment_results/toy_fedprox\",\n",
    "    dataset = \"mnist\",\n",
    "    algo = \"monolithic\",\n",
    "    num_train = 64,\n",
    "    seed = 0,\n",
    "    use_contrastive = True,):\n",
    "    job_name = f\"{dataset}_{algo}_numtrain_{num_train}\"\n",
    "    if use_contrastive:\n",
    "        job_name += \"_contrastive\"\n",
    "    experiment = os.path.join(save_root_dir, job_name, dataset,algo, f\"seed_{seed}\")\n",
    "    config_path = os.path.join(experiment, \"hydra_out\", \".hydra\", \"config.yaml\")\n",
    "    # read the config file\n",
    "    cfg = omegaconf.OmegaConf.load(config_path)\n",
    "    graph, datasets, NetCls, LearnerCls, net_cfg, agent_cfg, train_cfg,fleet_additional_cfg = setup_experiment(cfg)\n",
    "    # net_cfg['num_tasks'] = num_tasks - num_init_tasks \n",
    "    return graph, datasets, NetCls, LearnerCls, net_cfg, agent_cfg, train_cfg,fleet_additional_cfg, cfg\n"
   ]
  },
  {
   "cell_type": "code",
   "execution_count": null,
   "metadata": {},
   "outputs": [],
   "source": [
    "graph, datasets, NetCls, LearnerCls, net_cfg, agent_cfg, train_cfg,fleet_additional_cfg, cfg = get_cfg(experiment,\n",
    "                                                                                                       algo=algo)"
   ]
  },
  {
   "cell_type": "code",
   "execution_count": null,
   "metadata": {},
   "outputs": [],
   "source": [
    "agent_id = 0\n",
    "task_id = 4\n",
    "# num_added_components = 1\n",
    "num_added_components = None\n",
    "\n",
    "\n",
    "net = load_net(cfg, NetCls, net_cfg, agent_id=agent_id, task_id=task_id, num_added_components=num_added_components)\n",
    "\n",
    "if agent_id == 69420:\n",
    "    dataset = fleet_additional_cfg['fake_dataset']\n",
    "else:\n",
    "    dataset = datasets[agent_id]\n",
    "testloaders = {task: torch.utils.data.DataLoader(testset,\n",
    "                                                         batch_size=256,\n",
    "                                                         shuffle=False,\n",
    "                                                         num_workers=4,\n",
    "                                                         pin_memory=True,\n",
    "                                                         ) for task, testset in enumerate(dataset.testset[:(task_id+1)])}\n",
    "\n",
    "print()\n",
    "print(eval_net(net, testloaders))\n",
    "print('\\n\\n')\n",
    "print(net.random_linear_projection.weight)\n",
    "print(net.components)\n",
    "print('\\n\\n')\n",
    "if algo == \"modular\":\n",
    "    print(net.structure)\n",
    "    for t in range(task_id+1):\n",
    "        print(net.structure[t])"
   ]
  },
  {
   "cell_type": "code",
   "execution_count": null,
   "metadata": {},
   "outputs": [],
   "source": []
  },
  {
   "cell_type": "code",
   "execution_count": null,
   "metadata": {},
   "outputs": [],
   "source": []
  }
 ],
 "metadata": {
  "kernelspec": {
   "display_name": "shell",
   "language": "python",
   "name": "python3"
  },
  "language_info": {
   "codemirror_mode": {
    "name": "ipython",
    "version": 3
   },
   "file_extension": ".py",
   "mimetype": "text/x-python",
   "name": "python",
   "nbconvert_exporter": "python",
   "pygments_lexer": "ipython3",
   "version": "3.10.9"
  }
 },
 "nbformat": 4,
 "nbformat_minor": 2
}
