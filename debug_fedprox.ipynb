{
 "cells": [
  {
   "cell_type": "code",
   "execution_count": 1,
   "metadata": {},
   "outputs": [],
   "source": [
    "import os\n",
    "import omegaconf\n",
    "from shell.utils.experiment_utils import *\n",
    "from shell.utils.metric import *\n",
    "import matplotlib.pyplot as plt\n",
    "from shell.fleet.network import TopologyGenerator\n",
    "import matplotlib.pyplot as plt\n",
    "from sklearn.manifold import TSNE\n",
    "import numpy as np\n",
    "import pandas as pd"
   ]
  },
  {
   "cell_type": "code",
   "execution_count": 2,
   "metadata": {},
   "outputs": [],
   "source": [
    "def get_cfg(save_root_dir = \"experiment_results/toy_fedprox\",\n",
    "    dataset = \"mnist\",\n",
    "    algo = \"monolithic\",\n",
    "    num_train = 64,\n",
    "    seed = 0,\n",
    "    use_contrastive = True,):\n",
    "    job_name = f\"{dataset}_{algo}_numtrain_{num_train}\"\n",
    "    if use_contrastive:\n",
    "        job_name += \"_contrastive\"\n",
    "    experiment = os.path.join(save_root_dir, job_name, dataset,algo, f\"seed_{seed}\")\n",
    "    config_path = os.path.join(experiment, \"hydra_out\", \".hydra\", \"config.yaml\")\n",
    "    # read the config file\n",
    "    cfg = omegaconf.OmegaConf.load(config_path)\n",
    "    graph, datasets, NetCls, LearnerCls, net_cfg, agent_cfg, train_cfg,fleet_additional_cfg = setup_experiment(cfg)\n",
    "    net_cfg['num_tasks'] = 2\n",
    "    return graph, datasets, NetCls, LearnerCls, net_cfg, agent_cfg, train_cfg,fleet_additional_cfg, cfg\n"
   ]
  },
  {
   "cell_type": "code",
   "execution_count": 3,
   "metadata": {},
   "outputs": [
    {
     "name": "stdout",
     "output_type": "stream",
     "text": [
      "{'train': {'component_update_freq': 10, 'num_epochs': 10, 'init_component_update_freq': 10, 'init_num_epochs': 10, 'save_freq': 1}, 'dataset': {'dataset_name': 'mnist', 'num_tasks': 6, 'num_classes_per_task': 2, 'with_replacement': True, 'num_trains_per_class': 64, 'num_vals_per_class': 50, 'remap_labels': True}, 'net': {'name': 'mlp', 'depth': 4, 'layer_size': 64, 'dropout': 0.0}, 'sharing_strategy': {'name': 'fedprox', 'num_coms_per_round': 1, 'comm_freq': 1, 'mu': 0.0}, 'seed': 0, 'algo': 'monolithic', 'job_name': 'mnist_monolithic_numtrain_64_contrastive', 'num_agents': 2, 'root_save_dir': 'experiment_results/toy_fedprox/', 'parallel': False, 'num_init_tasks': 4, 'agent': {'save_dir': '${root_save_dir}/${job_name}/${dataset.dataset_name}/${algo}/seed_${seed}', 'batch_size': 64, 'memory_size': 32, 'improvement_threshold': 0.05, 'use_contrastive': True}}\n",
      "i_size 28\n",
      "num_classes 2\n",
      "net_cfg {'name': 'mlp', 'depth': 4, 'layer_size': 64, 'dropout': 0.0, 'i_size': 28, 'num_classes': 2, 'num_tasks': 6, 'num_init_tasks': 4, 'use_contrastive': True}\n",
      "<class 'shell.learners.er_nocomponents.NoComponentsER'>\n"
     ]
    }
   ],
   "source": [
    "graph, datasets, NetCls, LearnerCls, net_cfg, agent_cfg, train_cfg,fleet_additional_cfg, cfg = get_cfg(\"experiment_results/toy_fedprox\")"
   ]
  },
  {
   "cell_type": "code",
   "execution_count": 4,
   "metadata": {},
   "outputs": [
    {
     "name": "stdout",
     "output_type": "stream",
     "text": [
      "save_dir experiment_results/toy_fedprox//mnist_monolithic_numtrain_64_contrastive/mnist/monolithic/seed_0/agent_0/task_1\n"
     ]
    }
   ],
   "source": [
    "task_id = 1\n",
    "num_added_components = None\n",
    "agent_id = 0\n",
    "net1 = load_net(cfg, NetCls, net_cfg, agent_id=agent_id, task_id=task_id, num_added_components=num_added_components)"
   ]
  },
  {
   "cell_type": "code",
   "execution_count": 5,
   "metadata": {},
   "outputs": [
    {
     "name": "stdout",
     "output_type": "stream",
     "text": [
      "{'train': {'component_update_freq': 10, 'num_epochs': 10, 'init_component_update_freq': 10, 'init_num_epochs': 10, 'save_freq': 1}, 'dataset': {'dataset_name': 'mnist', 'num_tasks': 6, 'num_classes_per_task': 2, 'with_replacement': True, 'num_trains_per_class': 64, 'num_vals_per_class': 50, 'remap_labels': True}, 'net': {'name': 'mlp', 'depth': 4, 'layer_size': 64, 'dropout': 0.0}, 'sharing_strategy': {'name': 'gradient', 'num_coms_per_round': 1, 'comm_freq': 1, 'mu': 1.0}, 'seed': 0, 'algo': 'monolithic', 'job_name': 'mnist_monolithic_numtrain_64_contrastive', 'num_agents': 2, 'root_save_dir': 'experiment_results/toy_fedavg/', 'parallel': False, 'num_init_tasks': 4, 'agent': {'save_dir': '${root_save_dir}/${job_name}/${dataset.dataset_name}/${algo}/seed_${seed}', 'batch_size': 64, 'memory_size': 32, 'improvement_threshold': 0.05, 'use_contrastive': True}}\n",
      "i_size 28\n",
      "num_classes 2\n",
      "net_cfg {'name': 'mlp', 'depth': 4, 'layer_size': 64, 'dropout': 0.0, 'i_size': 28, 'num_classes': 2, 'num_tasks': 6, 'num_init_tasks': 4, 'use_contrastive': True}\n",
      "<class 'shell.learners.er_nocomponents.NoComponentsER'>\n"
     ]
    }
   ],
   "source": [
    "graph, datasets, NetCls, LearnerCls, net_cfg, agent_cfg, train_cfg,fleet_additional_cfg, cfg = get_cfg(\"experiment_results/toy_fedavg\")"
   ]
  },
  {
   "cell_type": "code",
   "execution_count": 6,
   "metadata": {},
   "outputs": [
    {
     "name": "stdout",
     "output_type": "stream",
     "text": [
      "save_dir experiment_results/toy_fedavg//mnist_monolithic_numtrain_64_contrastive/mnist/monolithic/seed_0/agent_0/task_1\n"
     ]
    }
   ],
   "source": [
    "avg_net1 = load_net(cfg, NetCls, net_cfg, agent_id=agent_id, task_id=task_id, num_added_components=num_added_components)"
   ]
  },
  {
   "cell_type": "code",
   "execution_count": 7,
   "metadata": {},
   "outputs": [],
   "source": [
    "def compare(linear1, linear2):\n",
    "    w_same = torch.allclose(linear1.weight, linear2.weight)\n",
    "    b_same = torch.allclose(linear1.bias, linear2.bias)\n",
    "    return w_same, b_same"
   ]
  },
  {
   "cell_type": "code",
   "execution_count": 8,
   "metadata": {},
   "outputs": [
    {
     "data": {
      "text/plain": [
       "(True, True)"
      ]
     },
     "execution_count": 8,
     "metadata": {},
     "output_type": "execute_result"
    }
   ],
   "source": [
    "compare(avg_net1.random_linear_projection, net1.random_linear_projection)"
   ]
  },
  {
   "cell_type": "code",
   "execution_count": 9,
   "metadata": {},
   "outputs": [
    {
     "data": {
      "text/plain": [
       "(False, False)"
      ]
     },
     "execution_count": 9,
     "metadata": {},
     "output_type": "execute_result"
    }
   ],
   "source": [
    "compare(avg_net1.decoder[1], net1.decoder[1])"
   ]
  },
  {
   "cell_type": "code",
   "execution_count": 10,
   "metadata": {},
   "outputs": [
    {
     "data": {
      "text/plain": [
       "(True, True)"
      ]
     },
     "execution_count": 10,
     "metadata": {},
     "output_type": "execute_result"
    }
   ],
   "source": [
    "compare(avg_net1.components[0], net1.components[0])"
   ]
  },
  {
   "cell_type": "code",
   "execution_count": 11,
   "metadata": {},
   "outputs": [
    {
     "data": {
      "text/plain": [
       "(True, True)"
      ]
     },
     "execution_count": 11,
     "metadata": {},
     "output_type": "execute_result"
    }
   ],
   "source": [
    "compare(avg_net1.components[1], net1.components[1])"
   ]
  },
  {
   "cell_type": "code",
   "execution_count": 12,
   "metadata": {},
   "outputs": [
    {
     "data": {
      "text/plain": [
       "(True, True)"
      ]
     },
     "execution_count": 12,
     "metadata": {},
     "output_type": "execute_result"
    }
   ],
   "source": [
    "compare(avg_net1.components[2], net1.components[2])"
   ]
  },
  {
   "cell_type": "code",
   "execution_count": 13,
   "metadata": {},
   "outputs": [],
   "source": [
    "# compare(avg_net1.decoder[3], net1.decoder[3])"
   ]
  },
  {
   "cell_type": "code",
   "execution_count": 14,
   "metadata": {},
   "outputs": [],
   "source": [
    "dataset = datasets[0]\n",
    "task_id = 1\n",
    "testloaders = {task: torch.utils.data.DataLoader(testset,\n",
    "                                                         batch_size=256,\n",
    "                                                         shuffle=False,\n",
    "                                                         num_workers=4,\n",
    "                                                         pin_memory=True,\n",
    "                                                         ) for task, testset in enumerate(dataset.testset[:(task_id+1)])}"
   ]
  },
  {
   "cell_type": "code",
   "execution_count": 15,
   "metadata": {},
   "outputs": [
    {
     "data": {
      "text/plain": [
       "{0: 0.5592948717948718, 1: 0.6556224899598394, 'avg': 0.6074586808773557}"
      ]
     },
     "execution_count": 15,
     "metadata": {},
     "output_type": "execute_result"
    }
   ],
   "source": [
    "eval_net(net1, testloaders)"
   ]
  },
  {
   "cell_type": "code",
   "execution_count": 16,
   "metadata": {},
   "outputs": [
    {
     "data": {
      "text/plain": [
       "{0: 0.5592948717948718, 1: 0.6019076305220884, 'avg': 0.5806012511584802}"
      ]
     },
     "execution_count": 16,
     "metadata": {},
     "output_type": "execute_result"
    }
   ],
   "source": [
    "eval_net(avg_net1, testloaders)"
   ]
  },
  {
   "cell_type": "code",
   "execution_count": null,
   "metadata": {},
   "outputs": [],
   "source": []
  }
 ],
 "metadata": {
  "kernelspec": {
   "display_name": "shell",
   "language": "python",
   "name": "python3"
  },
  "language_info": {
   "codemirror_mode": {
    "name": "ipython",
    "version": 3
   },
   "file_extension": ".py",
   "mimetype": "text/x-python",
   "name": "python",
   "nbconvert_exporter": "python",
   "pygments_lexer": "ipython3",
   "version": "3.10.9"
  }
 },
 "nbformat": 4,
 "nbformat_minor": 2
}
