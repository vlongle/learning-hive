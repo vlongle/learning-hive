{
 "cells": [
  {
   "cell_type": "code",
   "execution_count": 1,
   "metadata": {},
   "outputs": [],
   "source": [
    "%load_ext autoreload\n",
    "%autoreload 2"
   ]
  },
  {
   "cell_type": "code",
   "execution_count": 2,
   "metadata": {},
   "outputs": [],
   "source": [
    "import omegaconf\n",
    "from shell.utils.experiment_utils import *\n",
    "from shell.fleet.utils.fleet_utils import *\n",
    "from shell.utils.metric import *\n",
    "import matplotlib.pyplot as plt\n",
    "from shell.fleet.network import TopologyGenerator\n",
    "from sklearn.manifold import TSNE\n",
    "import numpy as np\n",
    "import pandas as pd\n",
    "from shell.fleet.fleet import Agent, Fleet\n",
    "from shell.fleet.data.data_utilize import *\n",
    "from shell.fleet.data.recv import *\n",
    "from shell.utils.record import Record\n",
    "\n",
    "from sklearn.manifold import TSNE\n",
    "from torchvision.utils import make_grid\n",
    "from shell.fleet.data.data_utilize import *\n",
    "import logging\n",
    "from sklearn.metrics import f1_score\n",
    "import os\n",
    "from shell.fleet.data.recv_utils import *\n",
    "from tqdm import tqdm\n",
    "import argparse\n",
    "from functools import partial\n",
    "from torchvision.utils import make_grid\n",
    "from shell.utils.oodloss import OODSeparationLoss\n",
    "from pythresh.thresholds.dsn import DSN\n",
    "from pythresh.thresholds.aucp import AUCP\n",
    "from pythresh.thresholds.boot import BOOT\n",
    "from pythresh.thresholds.zscore import ZSCORE\n",
    "from sklearn.metrics import accuracy_score, precision_score, recall_score, f1_score\n",
    "from collections import defaultdict\n",
    "from shell.fleet.utils.model_sharing_utils import *\n",
    "from matplotlib.cm import get_cmap\n",
    "\n",
    "logging.basicConfig(level=logging.CRITICAL)"
   ]
  },
  {
   "cell_type": "code",
   "execution_count": 3,
   "metadata": {},
   "outputs": [],
   "source": [
    "def modify_cfg(net_cfg, agent_cfg, train_cfg, fleet_additional_cfg, cfg):\n",
    "    cfg.sharing_strategy['sync_base'] = False\n",
    "    return net_cfg, agent_cfg, train_cfg, fleet_additional_cfg, cfg"
   ]
  },
  {
   "cell_type": "code",
   "execution_count": 4,
   "metadata": {},
   "outputs": [],
   "source": [
    "dataset = \"mnist\"\n",
    "# datasets = [\"mnist\", \"kmnist\", \"fashionmnist\"]\n",
    "experiment_folder = \"experiment_results\"\n",
    "\n",
    "# use_contrastive = True\n",
    "use_contrastive = False\n",
    "num_trains_per_class = 64\n",
    "seed = 0\n",
    "# seed = 7\n",
    "algo = \"modular\"\n",
    "\n",
    "\n",
    "sync_base = True\n",
    "opt_with_random = False\n",
    "\n",
    "# experiment_name = f\"modmod_test_sync_base_{sync_base}_opt_with_random_{opt_with_random}\"\n",
    "experiment_name = f\"lowest_task_id_wins_modmod_test_sync_base_{sync_base}_opt_with_random_{opt_with_random}_frozen_False\"\n",
    "# base_experiment_name = \"vanilla_modular_save_freq_10\"\n",
    "# base_experiment_name = \"vanilla_fix_bug_compute_loss_encodev2\"\n",
    "# base_experiment_name = \"vanilla_jorge_setting\"\n",
    "base_experiment_name = \"vanilla_jorge_setting_basis_no_sparse\"\n",
    "# seeds = [1]\n",
    "# tasks = [4]\n",
    "# agent_ids = None\n",
    "# ax=None\n",
    "# sync_bases = [True]\n",
    "# opt_with_randoms = [False]\n",
    "\n",
    "\n",
    "\n",
    "def modify_cfg(net_cfg, agent_cfg, train_cfg, fleet_additional_cfg, cfg):\n",
    "    if \"sync_base\" not in cfg.sharing_strategy:\n",
    "        cfg.sharing_strategy['sync_base'] = False\n",
    "    return net_cfg, agent_cfg, train_cfg, fleet_additional_cfg, cfg\n",
    "\n",
    "save_dirs = {}\n",
    "save_dirs['modmod'] = get_save_dir(experiment_folder, experiment_name,\n",
    "                        dataset, algo, num_trains_per_class, use_contrastive, seed)\n",
    "save_dirs['base_mod']  = get_save_dir(experiment_folder, base_experiment_name,  \n",
    "                        dataset, algo, num_trains_per_class, use_contrastive, seed)\n",
    "save_dirs['base_mono']  = get_save_dir(experiment_folder, base_experiment_name,  \n",
    "                        dataset, 'monolithic', num_trains_per_class, use_contrastive, seed)"
   ]
  },
  {
   "cell_type": "markdown",
   "metadata": {},
   "source": [
    "## Divergence"
   ]
  },
  {
   "cell_type": "code",
   "execution_count": null,
   "metadata": {},
   "outputs": [],
   "source": [
    "def compute_divergence(save_dir, task_id):\n",
    "    fleet = setup_fleet(save_dir, modify_cfg=modify_cfg, parallel=False)\n",
    "    fleet.load_model_from_ckpoint(task_ids=task_id)\n",
    "    basis = [f'components.{i}.weight' for i in range(fleet.num_init_tasks)]\n",
    "    basis += [f'components.{i}.bias' for i in range(fleet.num_init_tasks)]\n",
    "    div = Record(\"debug_modmod_result_div\")\n",
    "    for agent in fleet.agents:\n",
    "        for agent2 in fleet.agents:\n",
    "            if agent.node_id == agent2.node_id:\n",
    "                continue\n",
    "            agent_div = diff_models(agent.net.state_dict(), agent2.net.state_dict(), basis)\n",
    "            agent_div['avg'] = sum(agent_div.values()) / len(agent_div)\n",
    "            div.write(\n",
    "               {'agent_1': agent.node_id, 'agent_2': agent2.node_id} | \n",
    "                agent_div)\n",
    "    return div\n"
   ]
  },
  {
   "cell_type": "code",
   "execution_count": null,
   "metadata": {},
   "outputs": [],
   "source": [
    "num_init_tasks = 4\n",
    "num_tasks = 10\n",
    "exp_divs = {}\n",
    "for exp_name, save_dir in save_dirs.items():\n",
    "    divs = {}\n",
    "    for task_id in range(num_init_tasks, num_tasks):\n",
    "        task_div = compute_divergence(save_dir, task_id).df\n",
    "        div_m, div_std = task_div['avg'].mean(), task_div['avg'].std()\n",
    "        divs[task_id] = (div_m, div_std)\n",
    "    exp_divs[exp_name] = divs"
   ]
  },
  {
   "cell_type": "code",
   "execution_count": null,
   "metadata": {},
   "outputs": [],
   "source": [
    "def plot_div(exp_divs):\n",
    "    num_exp = len(exp_divs)\n",
    "    exp_names = list(exp_divs.keys())\n",
    "    task_ids = list(next(iter(exp_divs.values())).keys())\n",
    "    num_tasks = len(task_ids)\n",
    "\n",
    "    # Width of a bar\n",
    "    bar_width = 0.8 / num_exp  # Adjust this as needed\n",
    "\n",
    "    # Create figure and axes\n",
    "    fig, ax = plt.subplots()\n",
    "\n",
    "    # Generate a colormap\n",
    "    cmap = get_cmap('tab20', num_exp)  # You can change 'viridis' to any other colormap\n",
    "    colors = {exp_name: cmap(i) for i, exp_name in enumerate(exp_names)}\n",
    "    print(colors)\n",
    "\n",
    "    # Loop over experiments and tasks to plot\n",
    "    for exp_index, (exp_name, divs) in enumerate(exp_divs.items()):\n",
    "        offsets = np.arange(len(task_ids))  # Base x positions for each task_id\n",
    "        for task_index, (task_id, (div_m, div_std)) in enumerate(divs.items()):\n",
    "            # Calculate offset for this experiment\n",
    "            offset = (exp_index - num_exp / 2) * bar_width + bar_width / 2\n",
    "            pos = offsets[task_index] + offset\n",
    "            \n",
    "            # Plotting\n",
    "            plt.bar(pos, div_m, yerr=div_std, width=bar_width, color=colors[exp_name],\n",
    "                    label=f'{exp_name}' if task_index == 0 else \"\", align='center')\n",
    "\n",
    "    # Improving the plot\n",
    "    ax.set_xticks(np.arange(len(task_ids)))\n",
    "    ax.set_xticklabels(task_ids)\n",
    "    ax.set_ylim(0.001, 0.01)\n",
    "\n",
    "    # Create a legend for the experiments\n",
    "    handles, labels = plt.gca().get_legend_handles_labels()\n",
    "    by_label = dict(zip(labels, handles))  # Removing duplicates in legend\n",
    "    plt.legend(by_label.values(), by_label.keys())\n",
    "\n",
    "    plt.xlabel('Task ID')\n",
    "    plt.ylabel('Divergence Measure')\n",
    "    plt.title('Divergence Measures by Task and Experiment')\n",
    "\n",
    "    plt.show()\n"
   ]
  },
  {
   "cell_type": "code",
   "execution_count": null,
   "metadata": {},
   "outputs": [],
   "source": [
    "# exp_divs"
   ]
  },
  {
   "cell_type": "code",
   "execution_count": null,
   "metadata": {},
   "outputs": [],
   "source": [
    "plot_div(exp_divs)"
   ]
  },
  {
   "cell_type": "markdown",
   "metadata": {},
   "source": [
    "## Shared Module Compatibility"
   ]
  },
  {
   "cell_type": "code",
   "execution_count": null,
   "metadata": {},
   "outputs": [],
   "source": [
    "def compute_no_dependent_modules(save_dir, task_id):\n",
    "    fleet = setup_fleet(save_dir, modify_cfg=modify_cfg, parallel=False)\n",
    "    fleet.load_records()\n",
    "    fleet.load_model_from_ckpoint(task_ids=task_id-1)\n",
    "    fleet.communicate(task_id=task_id, end_epoch=None, comm_freq=None, num_epochs=None)\n",
    "    record = Record('debug_modmod_result_depedent_modules')\n",
    "    for agent in fleet.agents:\n",
    "        module_list = agent.get_module_list()\n",
    "        if len(module_list) == 0:\n",
    "            continue\n",
    "        chosen_id = agent.choose_best_module_from_neighbors(module_list)\n",
    "        chosen = module_list[chosen_id]\n",
    "        record.write(\n",
    "            {\n",
    "            'agent': agent.node_id,\n",
    "            'chosen_module_id': chosen['module_id'],\n",
    "            'task_id': task_id,\n",
    "            'task_sim': chosen['task_sim'],\n",
    "            })\n",
    "    return record"
   ]
  },
  {
   "cell_type": "code",
   "execution_count": null,
   "metadata": {},
   "outputs": [],
   "source": [
    "seeds = [1, 2, 3, 4, 5, 6, 7]\n",
    "seed_chosen_module_id = []\n",
    "for seed_id in seeds:\n",
    "    save_dirs = {}\n",
    "    save_dirs['modmod'] = get_save_dir(experiment_folder, experiment_name,\n",
    "                        dataset, algo, num_trains_per_class, use_contrastive, seed_id)\n",
    "\n",
    "    dfs = []\n",
    "    for i in range(5, 10):\n",
    "        dfs.append(compute_no_dependent_modules(save_dirs['modmod'], i).df)\n",
    "\n",
    "    df = pd.concat(dfs)\n",
    "    mean_chosen_module_id = df.groupby('task_id').mean().reset_index()\n",
    "    seed_chosen_module_id.append(mean_chosen_module_id)"
   ]
  },
  {
   "cell_type": "code",
   "execution_count": null,
   "metadata": {},
   "outputs": [],
   "source": [
    "dfs = []\n",
    "for seed, df in enumerate(seed_chosen_module_id):\n",
    "    df[\"seed\"] = seed\n",
    "    dfs.append(df)\n",
    "\n",
    "concat_df = pd.concat(dfs).reset_index(drop=True)\n",
    "\n",
    "# Aggregating results\n",
    "agg_df = concat_df.groupby(\"task_id\").agg({\"chosen_module_id\": \"mean\", \"task_sim\": \"mean\"}).reset_index()"
   ]
  },
  {
   "cell_type": "code",
   "execution_count": null,
   "metadata": {},
   "outputs": [],
   "source": [
    "# Plotting\n",
    "fig, axs = plt.subplots(2, 1, figsize=(10, 8))\n",
    "\n",
    "# Bar plot of chosen_module_id with respect to task_id\n",
    "axs[0].bar(agg_df[\"task_id\"], agg_df[\"chosen_module_id\"], color='skyblue')\n",
    "axs[0].set_title('Average Chosen Module ID by Task ID')\n",
    "axs[0].set_xlabel('Task ID')\n",
    "axs[0].set_ylabel('Chosen Module ID')\n",
    "\n",
    "# Bar plot of task_sim\n",
    "axs[1].bar(agg_df[\"task_id\"], agg_df[\"task_sim\"], color='lightgreen')\n",
    "axs[1].set_title('Average Task Similarity by Task ID')\n",
    "axs[1].set_xlabel('Task ID')\n",
    "axs[1].set_ylabel('Task Similarity')\n",
    "\n",
    "plt.tight_layout()\n",
    "plt.show()"
   ]
  },
  {
   "cell_type": "markdown",
   "metadata": {},
   "source": [
    "## Softmax"
   ]
  },
  {
   "cell_type": "code",
   "execution_count": null,
   "metadata": {},
   "outputs": [],
   "source": [
    "# save_dir = save_dirs['modmod']\n",
    "# fleet = setup_fleet(save_dir, modify_cfg=modify_cfg, parallel=False)"
   ]
  },
  {
   "cell_type": "code",
   "execution_count": 5,
   "metadata": {},
   "outputs": [
    {
     "name": "stdout",
     "output_type": "stream",
     "text": [
      "{'train': {'component_update_freq': 100, 'num_epochs': 100, 'init_component_update_freq': 100, 'init_num_epochs': 100, 'save_freq': 10}, 'dataset': {'dataset_name': 'mnist', 'num_tasks': 10, 'num_classes_per_task': 2, 'with_replacement': True, 'num_trains_per_class': 64, 'num_vals_per_class': 50, 'remap_labels': True}, 'net': {'name': 'mlp', 'depth': 4, 'layer_size': 64, 'dropout': 0.5}, 'sharing_strategy': {'name': 'no_sharing', 'num_coms_per_round': 0, 'sync_base': False, 'pre_or_post_comm': 'post'}, 'seed': 0, 'algo': 'modular', 'job_name': 'mnist_modular_numtrain_64', 'num_agents': 8, 'root_save_dir': 'experiment_results/vanilla_jorge_setting_basis_no_sparse', 'parallel': True, 'num_init_tasks': 4, 'overwrite': False, 'agent': {'save_dir': '${root_save_dir}/${job_name}/${dataset.dataset_name}/${algo}/seed_${seed}', 'batch_size': 64, 'memory_size': 32, 'improvement_threshold': 0.05, 'use_contrastive': False, 'use_ood_separation_loss': False, 'lambda_ood': 2.0, 'delta_ood': 1.0}}\n",
      "i_size 28\n",
      "num_classes 2\n",
      "net_cfg {'name': 'mlp', 'depth': 4, 'layer_size': 64, 'dropout': 0.5, 'i_size': 28, 'num_classes': 2, 'num_tasks': 10, 'num_init_tasks': 4, 'use_contrastive': False}\n",
      "<class 'shell.learners.er_dynamic.CompositionalDynamicER'>\n"
     ]
    }
   ],
   "source": [
    "save_dir = save_dirs['base_mod']\n",
    "fleet = setup_fleet(save_dir, modify_cfg=modify_cfg, parallel=False)\n",
    "\n",
    "task_id = 3\n",
    "fleet.load_records()\n",
    "fleet.load_model_from_ckpoint(task_ids=task_id)"
   ]
  },
  {
   "cell_type": "code",
   "execution_count": 6,
   "metadata": {},
   "outputs": [
    {
     "data": {
      "text/plain": [
       "array([[1., 0., 0., 1.],\n",
       "       [0., 0., 0., 0.],\n",
       "       [0., 0., 1., 0.],\n",
       "       [0., 1., 0., 0.]], dtype=float32)"
      ]
     },
     "execution_count": 6,
     "metadata": {},
     "output_type": "execute_result"
    }
   ],
   "source": [
    "agent =  fleet.agents[0]\n",
    "net = agent.net\n",
    "s = net.softmax(net.structure[task_id][:net.num_components, :]).cpu().detach().numpy()\n",
    "s"
   ]
  },
  {
   "cell_type": "code",
   "execution_count": 7,
   "metadata": {},
   "outputs": [
    {
     "data": {
      "text/html": [
       "<div>\n",
       "<style scoped>\n",
       "    .dataframe tbody tr th:only-of-type {\n",
       "        vertical-align: middle;\n",
       "    }\n",
       "\n",
       "    .dataframe tbody tr th {\n",
       "        vertical-align: top;\n",
       "    }\n",
       "\n",
       "    .dataframe thead th {\n",
       "        text-align: right;\n",
       "    }\n",
       "</style>\n",
       "<table border=\"1\" class=\"dataframe\">\n",
       "  <thead>\n",
       "    <tr style=\"text-align: right;\">\n",
       "      <th></th>\n",
       "      <th>task_id</th>\n",
       "      <th>best_candidate_idx</th>\n",
       "      <th>num_candidates</th>\n",
       "      <th>best_improvement</th>\n",
       "      <th>num_components</th>\n",
       "      <th>add_new_module</th>\n",
       "    </tr>\n",
       "  </thead>\n",
       "  <tbody>\n",
       "    <tr>\n",
       "      <th>0</th>\n",
       "      <td>4</td>\n",
       "      <td>4</td>\n",
       "      <td>1</td>\n",
       "      <td>0.000000</td>\n",
       "      <td>4</td>\n",
       "      <td>False</td>\n",
       "    </tr>\n",
       "    <tr>\n",
       "      <th>1</th>\n",
       "      <td>5</td>\n",
       "      <td>4</td>\n",
       "      <td>1</td>\n",
       "      <td>0.010101</td>\n",
       "      <td>4</td>\n",
       "      <td>False</td>\n",
       "    </tr>\n",
       "    <tr>\n",
       "      <th>2</th>\n",
       "      <td>6</td>\n",
       "      <td>4</td>\n",
       "      <td>1</td>\n",
       "      <td>0.168831</td>\n",
       "      <td>5</td>\n",
       "      <td>True</td>\n",
       "    </tr>\n",
       "    <tr>\n",
       "      <th>3</th>\n",
       "      <td>7</td>\n",
       "      <td>5</td>\n",
       "      <td>1</td>\n",
       "      <td>0.010753</td>\n",
       "      <td>5</td>\n",
       "      <td>False</td>\n",
       "    </tr>\n",
       "    <tr>\n",
       "      <th>4</th>\n",
       "      <td>8</td>\n",
       "      <td>5</td>\n",
       "      <td>1</td>\n",
       "      <td>0.010417</td>\n",
       "      <td>5</td>\n",
       "      <td>False</td>\n",
       "    </tr>\n",
       "    <tr>\n",
       "      <th>5</th>\n",
       "      <td>9</td>\n",
       "      <td>5</td>\n",
       "      <td>1</td>\n",
       "      <td>0.054945</td>\n",
       "      <td>6</td>\n",
       "      <td>True</td>\n",
       "    </tr>\n",
       "  </tbody>\n",
       "</table>\n",
       "</div>"
      ],
      "text/plain": [
       "   task_id  best_candidate_idx  num_candidates  best_improvement  \\\n",
       "0        4                   4               1          0.000000   \n",
       "1        5                   4               1          0.010101   \n",
       "2        6                   4               1          0.168831   \n",
       "3        7                   5               1          0.010753   \n",
       "4        8                   5               1          0.010417   \n",
       "5        9                   5               1          0.054945   \n",
       "\n",
       "   num_components  add_new_module  \n",
       "0               4           False  \n",
       "1               4           False  \n",
       "2               5            True  \n",
       "3               5           False  \n",
       "4               5           False  \n",
       "5               6            True  "
      ]
     },
     "execution_count": 7,
     "metadata": {},
     "output_type": "execute_result"
    }
   ],
   "source": [
    "agent.agent.dynamic_record.df"
   ]
  },
  {
   "cell_type": "code",
   "execution_count": 8,
   "metadata": {},
   "outputs": [
    {
     "data": {
      "text/plain": [
       "<matplotlib.image.AxesImage at 0x7fdb68450310>"
      ]
     },
     "execution_count": 8,
     "metadata": {},
     "output_type": "execute_result"
    },
    {
     "data": {
      "image/png": "[encoded data removed]",
      "text/plain": [
       "<Figure size 640x480 with 1 Axes>"
      ]
     },
     "metadata": {},
     "output_type": "display_data"
    }
   ],
   "source": [
    "plt.imshow(s, cmap='gray')"
   ]
  },
  {
   "cell_type": "markdown",
   "metadata": {},
   "source": [
    "## Analysis\n",
    "\n",
    "At the beginning of each task, compute\n",
    "- Basis module divergence.\n",
    "- External module dependency on the shared module:\n",
    "    - No. of sender's modules at the source task time.\n",
    "    - Actual avg linear weight on non-basis modules at source task time.\n",
    "\n",
    "- Plot the no. of modules over time"
   ]
  },
  {
   "cell_type": "code",
   "execution_count": null,
   "metadata": {},
   "outputs": [],
   "source": []
  }
 ],
 "metadata": {
  "kernelspec": {
   "display_name": "shell",
   "language": "python",
   "name": "python3"
  },
  "language_info": {
   "codemirror_mode": {
    "name": "ipython",
    "version": 3
   },
   "file_extension": ".py",
   "mimetype": "text/x-python",
   "name": "python",
   "nbconvert_exporter": "python",
   "pygments_lexer": "ipython3",
   "version": "3.10.9"
  }
 },
 "nbformat": 4,
 "nbformat_minor": 2
}
