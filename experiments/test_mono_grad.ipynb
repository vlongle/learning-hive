{
 "cells": [
  {
   "cell_type": "code",
   "execution_count": 1,
   "metadata": {},
   "outputs": [],
   "source": [
    "import os\n",
    "os.chdir(\"..\")"
   ]
  },
  {
   "cell_type": "code",
   "execution_count": 2,
   "metadata": {},
   "outputs": [],
   "source": [
    "import hydra\n",
    "from omegaconf import DictConfig\n",
    "\n",
    "from shell.fleet.helper import get_fleet, get_agent_cls\n",
    "import torch\n",
    "import time\n",
    "import datetime\n",
    "import logging\n",
    "from shell.utils.experiment_utils import setup_experiment, process_dataset_cfg, eval_net\n",
    "from shell.datasets.datasets import get_dataset\n",
    "from pprint import pprint\n",
    "import ray\n",
    "import os\n",
    "from hydra import compose, initialize\n",
    "from omegaconf import OmegaConf\n",
    "from shell.utils.utils import seed_everything\n",
    "from shell.fleet.model_sharing_utils import is_in, diff_models\n",
    "logging.basicConfig(level=logging.INFO)"
   ]
  },
  {
   "cell_type": "code",
   "execution_count": 3,
   "metadata": {},
   "outputs": [
    {
     "name": "stderr",
     "output_type": "stream",
     "text": [
      "/tmp/ipykernel_4165783/178382995.py:1: UserWarning: \n",
      "The version_base parameter is not specified.\n",
      "Please specify a compatability version level, or None.\n",
      "Will assume defaults for version 1.1\n",
      "  initialize(config_path=\"conf\", job_name=\"tmp_job\")\n",
      "/home/vlongle/miniconda3/envs/shell/lib/python3.10/site-packages/hydra/_internal/defaults_list.py:251: UserWarning: In 'grad_mono': Defaults list is missing `_self_`. See https://hydra.cc/docs/1.2/upgrades/1.0_to_1.1/default_composition_order for more information\n",
      "  warnings.warn(msg, UserWarning)\n"
     ]
    }
   ],
   "source": [
    "initialize(config_path=\"conf\", job_name=\"tmp_job\")\n",
    "cfg = compose(config_name=\"grad_mono\")\n",
    "seed_everything(cfg.seed)"
   ]
  },
  {
   "cell_type": "code",
   "execution_count": 4,
   "metadata": {},
   "outputs": [],
   "source": [
    "# override\n",
    "cfg.parallel = True"
   ]
  },
  {
   "cell_type": "code",
   "execution_count": 5,
   "metadata": {},
   "outputs": [],
   "source": [
    "cfg.train.num_epochs = 50\n",
    "cfg.train.component_update_freq = 50"
   ]
  },
  {
   "cell_type": "code",
   "execution_count": 6,
   "metadata": {},
   "outputs": [
    {
     "name": "stderr",
     "output_type": "stream",
     "text": [
      "INFO:root:Class sequence: [4 7 0 8 4 6 4 3 8 0 1 0 5 9 6 4 9 0 3 0]\n",
      "INFO:root:(128, 1, 28, 28)\n",
      "INFO:root:(128, 1, 28, 28)\n",
      "INFO:root:(128, 1, 28, 28)\n",
      "INFO:root:(128, 1, 28, 28)\n"
     ]
    },
    {
     "name": "stdout",
     "output_type": "stream",
     "text": [
      "{'train': {'component_update_freq': 50, 'num_epochs': 50, 'save_freq': 1}, 'dataset': {'dataset_name': 'mnist', 'num_tasks': 10, 'num_classes_per_task': 2, 'with_replacement': True, 'num_trains_per_class': 64, 'num_vals_per_class': 50, 'remap_labels': True}, 'net': {'name': 'mlp', 'depth': 2, 'layer_size': 64, 'dropout': 0.0}, 'sharing_strategy': {'name': 'gradient', 'num_coms_per_round': 5, 'retrain': {'num_epochs': 10}}, 'seed': 0, 'algo': 'monolithic', 'job_name': 'fun', 'num_agents': 4, 'root_save_dir': 'results', 'parallel': True, 'num_init_tasks': 2, 'agent': {'save_dir': '${root_save_dir}/${job_name}/${dataset.dataset_name}/${algo}/seed_${seed}', 'batch_size': 64, 'memory_size': 64, 'improvement_threshold': 0.05, 'use_contrastive': True}}\n"
     ]
    },
    {
     "name": "stderr",
     "output_type": "stream",
     "text": [
      "INFO:root:(128, 1, 28, 28)\n",
      "INFO:root:(128, 1, 28, 28)\n",
      "INFO:root:(128, 1, 28, 28)\n",
      "INFO:root:(128, 1, 28, 28)\n",
      "INFO:root:(128, 1, 28, 28)\n",
      "INFO:root:(128, 1, 28, 28)\n",
      "INFO:root:Class sequence: [2 1 3 8 6 0 3 0 5 0 3 6 2 7 6 7 6 1 0 5]\n",
      "INFO:root:(128, 1, 28, 28)\n",
      "INFO:root:(128, 1, 28, 28)\n",
      "INFO:root:(128, 1, 28, 28)\n",
      "INFO:root:(128, 1, 28, 28)\n",
      "INFO:root:(128, 1, 28, 28)\n",
      "INFO:root:(128, 1, 28, 28)\n",
      "INFO:root:(128, 1, 28, 28)\n",
      "INFO:root:(128, 1, 28, 28)\n",
      "INFO:root:(128, 1, 28, 28)\n",
      "INFO:root:(128, 1, 28, 28)\n",
      "INFO:root:Class sequence: [0 9 7 2 1 8 6 1 6 4 5 7 8 0 2 3 0 3 9 6]\n",
      "INFO:root:(128, 1, 28, 28)\n",
      "INFO:root:(128, 1, 28, 28)\n",
      "INFO:root:(128, 1, 28, 28)\n",
      "INFO:root:(128, 1, 28, 28)\n",
      "INFO:root:(128, 1, 28, 28)\n",
      "INFO:root:(128, 1, 28, 28)\n",
      "INFO:root:(128, 1, 28, 28)\n",
      "INFO:root:(128, 1, 28, 28)\n",
      "INFO:root:(128, 1, 28, 28)\n",
      "INFO:root:(128, 1, 28, 28)\n",
      "INFO:root:Class sequence: [0 5 3 4 4 5 9 3 0 6 9 1 3 1 7 9 5 2 3 2]\n",
      "INFO:root:(128, 1, 28, 28)\n",
      "INFO:root:(128, 1, 28, 28)\n",
      "INFO:root:(128, 1, 28, 28)\n",
      "INFO:root:(128, 1, 28, 28)\n",
      "INFO:root:(128, 1, 28, 28)\n",
      "INFO:root:(128, 1, 28, 28)\n",
      "INFO:root:(128, 1, 28, 28)\n",
      "INFO:root:(128, 1, 28, 28)\n",
      "INFO:root:(128, 1, 28, 28)\n",
      "INFO:root:(128, 1, 28, 28)\n"
     ]
    },
    {
     "name": "stdout",
     "output_type": "stream",
     "text": [
      "i_size 28\n",
      "num_classes 2\n",
      "net_cfg {'name': 'mlp', 'depth': 2, 'layer_size': 64, 'dropout': 0.0, 'i_size': 28, 'num_classes': 2, 'num_tasks': 10, 'num_init_tasks': 2}\n",
      "<class 'shell.learners.er_nocomponents.NoComponentsER'>\n"
     ]
    }
   ],
   "source": [
    "AgentCls = get_agent_cls(cfg.sharing_strategy, cfg.algo, cfg.parallel)\n",
    "\n",
    "graph, datasets, NetCls, LearnerCls, net_cfg, agent_cfg, train_cfg = setup_experiment(\n",
    "        cfg)\n",
    "FleetCls = get_fleet(cfg.sharing_strategy, cfg.parallel)"
   ]
  },
  {
   "cell_type": "code",
   "execution_count": 7,
   "metadata": {},
   "outputs": [
    {
     "name": "stderr",
     "output_type": "stream",
     "text": [
      "INFO:root:Class sequence: [3 9 2 4 9 2 5 4 8 9 9 4 1 6 9 6 8 0 5 1]\n",
      "INFO:root:(128, 1, 28, 28)\n",
      "INFO:root:(128, 1, 28, 28)\n",
      "INFO:root:(128, 1, 28, 28)\n",
      "INFO:root:(128, 1, 28, 28)\n",
      "INFO:root:(128, 1, 28, 28)\n",
      "INFO:root:(128, 1, 28, 28)\n",
      "INFO:root:(128, 1, 28, 28)\n",
      "INFO:root:(128, 1, 28, 28)\n",
      "INFO:root:(128, 1, 28, 28)\n",
      "INFO:root:(128, 1, 28, 28)\n",
      "2023-03-28 18:05:05,008\tINFO worker.py:1544 -- Started a local Ray instance. View the dashboard at \u001b[1m\u001b[32m127.0.0.1:8265 \u001b[39m\u001b[22m\n",
      "\u001b[2m\u001b[36m(ParallelModelSyncAgent pid=4173963)\u001b[0m INFO:root:Agent: node_id: 69420, seed: 69420000\n",
      "\u001b[2m\u001b[36m(ParallelModelSyncAgent pid=4173963)\u001b[0m INFO:root:epochs: 0, training task: 0\n",
      "\u001b[2m\u001b[36m(ParallelModelSyncAgent pid=4173963)\u001b[0m INFO:root:\ttask: 0\tloss: 6.234\tacc: 0.500\n",
      "\u001b[2m\u001b[36m(ParallelModelSyncAgent pid=4173963)\u001b[0m INFO:root:\ttask: avg\tloss: 6.234\tacc: 0.500\n",
      "\u001b[2m\u001b[36m(ParallelModelSyncAgent pid=4173963)\u001b[0m INFO:root:epochs: 0, training task: 0\n",
      "\u001b[2m\u001b[36m(ParallelModelSyncAgent pid=4173963)\u001b[0m INFO:root:\ttask: 0\tloss: 6.232\tacc: 0.500\n",
      "\u001b[2m\u001b[36m(ParallelModelSyncAgent pid=4173963)\u001b[0m INFO:root:\ttask: avg\tloss: 6.232\tacc: 0.500\n",
      "\u001b[2m\u001b[36m(ParallelModelSyncAgent pid=4173963)\u001b[0m INFO:root:epochs: 0, training task: 1\n",
      "\u001b[2m\u001b[36m(ParallelModelSyncAgent pid=4173963)\u001b[0m INFO:root:\ttask: 0\tloss: 6.227\tacc: 0.500\n",
      "\u001b[2m\u001b[36m(ParallelModelSyncAgent pid=4173963)\u001b[0m INFO:root:\ttask: 1\tloss: 6.228\tacc: 0.503\n",
      "\u001b[2m\u001b[36m(ParallelModelSyncAgent pid=4173963)\u001b[0m INFO:root:\ttask: avg\tloss: 6.228\tacc: 0.501\n",
      "\u001b[2m\u001b[36m(ParallelModelSyncAgent pid=4173963)\u001b[0m INFO:root:epochs: 1, training task: 1\n",
      "\u001b[2m\u001b[36m(ParallelModelSyncAgent pid=4173963)\u001b[0m INFO:root:\ttask: 0\tloss: 6.201\tacc: 0.500\n",
      "\u001b[2m\u001b[36m(ParallelModelSyncAgent pid=4173963)\u001b[0m INFO:root:\ttask: 1\tloss: 6.178\tacc: 0.493\n",
      "\u001b[2m\u001b[36m(ParallelModelSyncAgent pid=4173963)\u001b[0m INFO:root:\ttask: avg\tloss: 6.190\tacc: 0.496\n",
      "\u001b[2m\u001b[36m(ParallelModelSyncAgent pid=4173963)\u001b[0m INFO:root:epochs: 2, training task: 1\n",
      "\u001b[2m\u001b[36m(ParallelModelSyncAgent pid=4173963)\u001b[0m INFO:root:\ttask: 0\tloss: 6.179\tacc: 0.500\n",
      "\u001b[2m\u001b[36m(ParallelModelSyncAgent pid=4173963)\u001b[0m INFO:root:\ttask: 1\tloss: 6.144\tacc: 0.504\n",
      "\u001b[2m\u001b[36m(ParallelModelSyncAgent pid=4173963)\u001b[0m INFO:root:\ttask: avg\tloss: 6.162\tacc: 0.502\n",
      "\u001b[2m\u001b[36m(ParallelModelSyncAgent pid=4173963)\u001b[0m INFO:root:epochs: 3, training task: 1\n",
      "\u001b[2m\u001b[36m(ParallelModelSyncAgent pid=4173963)\u001b[0m INFO:root:\ttask: 0\tloss: 6.156\tacc: 0.500\n",
      "\u001b[2m\u001b[36m(ParallelModelSyncAgent pid=4173963)\u001b[0m INFO:root:\ttask: 1\tloss: 6.120\tacc: 0.549\n",
      "\u001b[2m\u001b[36m(ParallelModelSyncAgent pid=4173963)\u001b[0m INFO:root:\ttask: avg\tloss: 6.138\tacc: 0.524\n",
      "\u001b[2m\u001b[36m(ParallelModelSyncAgent pid=4173963)\u001b[0m INFO:root:epochs: 4, training task: 1\n",
      "\u001b[2m\u001b[36m(ParallelModelSyncAgent pid=4173963)\u001b[0m INFO:root:\ttask: 0\tloss: 6.126\tacc: 0.500\n",
      "\u001b[2m\u001b[36m(ParallelModelSyncAgent pid=4173963)\u001b[0m INFO:root:\ttask: 1\tloss: 6.110\tacc: 0.686\n",
      "\u001b[2m\u001b[36m(ParallelModelSyncAgent pid=4173963)\u001b[0m INFO:root:\ttask: avg\tloss: 6.118\tacc: 0.593\n",
      "\u001b[2m\u001b[36m(ParallelModelSyncAgent pid=4173963)\u001b[0m INFO:root:epochs: 5, training task: 1\n",
      "\u001b[2m\u001b[36m(ParallelModelSyncAgent pid=4173963)\u001b[0m INFO:root:\ttask: 0\tloss: 6.133\tacc: 0.500\n",
      "\u001b[2m\u001b[36m(ParallelModelSyncAgent pid=4173963)\u001b[0m INFO:root:\ttask: 1\tloss: 6.066\tacc: 0.824\n",
      "\u001b[2m\u001b[36m(ParallelModelSyncAgent pid=4173963)\u001b[0m INFO:root:\ttask: avg\tloss: 6.099\tacc: 0.662\n",
      "\u001b[2m\u001b[36m(ParallelModelSyncAgent pid=4173963)\u001b[0m INFO:root:epochs: 6, training task: 1\n",
      "\u001b[2m\u001b[36m(ParallelModelSyncAgent pid=4173963)\u001b[0m INFO:root:\ttask: 0\tloss: 6.080\tacc: 0.500\n",
      "\u001b[2m\u001b[36m(ParallelModelSyncAgent pid=4173963)\u001b[0m INFO:root:\ttask: 1\tloss: 6.061\tacc: 0.906\n",
      "\u001b[2m\u001b[36m(ParallelModelSyncAgent pid=4173963)\u001b[0m INFO:root:\ttask: avg\tloss: 6.071\tacc: 0.703\n"
     ]
    }
   ],
   "source": [
    "fake_dataset = get_dataset(**process_dataset_cfg(cfg))\n",
    "fleet = FleetCls(graph, cfg.seed, datasets, cfg.sharing_strategy, AgentCls, NetCls=NetCls,\n",
    "                     LearnerCls=LearnerCls, net_kwargs=net_cfg, agent_kwargs=agent_cfg,\n",
    "                     train_kwargs=train_cfg, fake_dataset=fake_dataset)"
   ]
  },
  {
   "cell_type": "code",
   "execution_count": null,
   "metadata": {},
   "outputs": [],
   "source": [
    "[dataset.class_sequence for dataset in datasets]"
   ]
  },
  {
   "cell_type": "code",
   "execution_count": null,
   "metadata": {},
   "outputs": [],
   "source": [
    "fake_dataset.class_sequence"
   ]
  },
  {
   "cell_type": "code",
   "execution_count": null,
   "metadata": {},
   "outputs": [],
   "source": [
    "# diff_models(fleet.agents[0].get_net().state_dict(), fleet.agents[1].get_net().state_dict(),\n",
    "#             keys=[\"random_linear_projection\", \"components\"])\n",
    "\n",
    "print(\"After initialization:\")\n",
    "diff_models(ray.get(fleet.agents[0].get_net.remote()).state_dict(), \n",
    "            ray.get(fleet.agents[1].get_net.remote()).state_dict(),\n",
    "            keys=[\"random_linear_projection\", \"components\"])"
   ]
  },
  {
   "cell_type": "code",
   "execution_count": null,
   "metadata": {},
   "outputs": [],
   "source": [
    "print(\"Accuracy just after initialization:\")\n",
    "# evaluate the performance again\n",
    "for agent in fleet.agents:\n",
    "    print(ray.get(agent.eval.remote(0)))"
   ]
  },
  {
   "cell_type": "code",
   "execution_count": null,
   "metadata": {},
   "outputs": [],
   "source": [
    "# local train\n",
    "fleet.train(0)"
   ]
  },
  {
   "cell_type": "code",
   "execution_count": null,
   "metadata": {},
   "outputs": [],
   "source": [
    "print(\"After local training:\")\n",
    "\n",
    "diff_models(ray.get(fleet.agents[0].get_net.remote()).state_dict(), \n",
    "            ray.get(fleet.agents[1].get_net.remote()).state_dict(),\n",
    "            keys=[\"random_linear_projection\", \"components\"])"
   ]
  },
  {
   "cell_type": "code",
   "execution_count": null,
   "metadata": {},
   "outputs": [],
   "source": [
    "print(\"Accuracy after local train:\")\n",
    "# evaluate the performance again\n",
    "for agent in fleet.agents:\n",
    "    print(ray.get(agent.eval.remote(0)))"
   ]
  },
  {
   "cell_type": "code",
   "execution_count": null,
   "metadata": {},
   "outputs": [],
   "source": [
    "fleet.num_coms_per_round = 10\n",
    "fleet.communicate(0)"
   ]
  },
  {
   "cell_type": "code",
   "execution_count": null,
   "metadata": {},
   "outputs": [],
   "source": [
    "diff_models(ray.get(fleet.agents[0].get_net.remote()).state_dict(), \n",
    "            ray.get(fleet.agents[1].get_net.remote()).state_dict(),\n",
    "            keys=[\"random_linear_projection\", \"components\"])"
   ]
  },
  {
   "cell_type": "code",
   "execution_count": null,
   "metadata": {},
   "outputs": [],
   "source": [
    "print(\"Acc after sync\")\n",
    "# evaluate the performance again\n",
    "for agent in fleet.agents:\n",
    "    print(ray.get(agent.eval.remote(0)))"
   ]
  }
 ],
 "metadata": {
  "kernelspec": {
   "display_name": "shell",
   "language": "python",
   "name": "python3"
  },
  "language_info": {
   "codemirror_mode": {
    "name": "ipython",
    "version": 3
   },
   "file_extension": ".py",
   "mimetype": "text/x-python",
   "name": "python",
   "nbconvert_exporter": "python",
   "pygments_lexer": "ipython3",
   "version": "3.10.9"
  },
  "orig_nbformat": 4
 },
 "nbformat": 4,
 "nbformat_minor": 2
}
