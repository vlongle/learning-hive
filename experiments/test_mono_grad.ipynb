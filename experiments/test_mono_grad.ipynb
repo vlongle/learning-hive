{
 "cells": [
  {
   "cell_type": "code",
   "execution_count": 1,
   "metadata": {},
   "outputs": [],
   "source": [
    "import os\n",
    "os.chdir(\"..\")"
   ]
  },
  {
   "cell_type": "code",
   "execution_count": 2,
   "metadata": {},
   "outputs": [],
   "source": [
    "import hydra\n",
    "from omegaconf import DictConfig\n",
    "\n",
    "from shell.fleet.helper import get_fleet, get_agent_cls\n",
    "import torch\n",
    "import time\n",
    "import datetime\n",
    "import logging\n",
    "from shell.utils.experiment_utils import setup_experiment, process_dataset_cfg, eval_net\n",
    "from shell.datasets.datasets import get_dataset\n",
    "from pprint import pprint\n",
    "import ray\n",
    "import os\n",
    "from hydra import compose, initialize\n",
    "from omegaconf import OmegaConf\n",
    "from shell.utils.utils import seed_everything\n",
    "from shell.fleet.model_sharing_utils import is_in, diff_models\n",
    "logging.basicConfig(level=logging.INFO)"
   ]
  },
  {
   "cell_type": "code",
   "execution_count": 3,
   "metadata": {},
   "outputs": [
    {
     "name": "stderr",
     "output_type": "stream",
     "text": [
      "/tmp/ipykernel_844086/178382995.py:1: UserWarning: \n",
      "The version_base parameter is not specified.\n",
      "Please specify a compatability version level, or None.\n",
      "Will assume defaults for version 1.1\n",
      "  initialize(config_path=\"conf\", job_name=\"tmp_job\")\n",
      "/home/vlongle/miniconda3/envs/shell/lib/python3.10/site-packages/hydra/_internal/defaults_list.py:251: UserWarning: In 'grad_mono': Defaults list is missing `_self_`. See https://hydra.cc/docs/1.2/upgrades/1.0_to_1.1/default_composition_order for more information\n",
      "  warnings.warn(msg, UserWarning)\n"
     ]
    }
   ],
   "source": [
    "initialize(config_path=\"conf\", job_name=\"tmp_job\")\n",
    "cfg = compose(config_name=\"grad_mono\")\n",
    "seed_everything(cfg.seed)"
   ]
  },
  {
   "cell_type": "code",
   "execution_count": 4,
   "metadata": {},
   "outputs": [],
   "source": [
    "# override\n",
    "cfg.parallel = True"
   ]
  },
  {
   "cell_type": "code",
   "execution_count": 5,
   "metadata": {},
   "outputs": [],
   "source": [
    "cfg.train.num_epochs = 50\n",
    "cfg.train.component_update_freq = 50"
   ]
  },
  {
   "cell_type": "code",
   "execution_count": 6,
   "metadata": {},
   "outputs": [
    {
     "name": "stderr",
     "output_type": "stream",
     "text": [
      "INFO:root:Class sequence: [4 7 0 8 4 6 4 3 8 0 1 0 5 9 6 4 9 0 3 0]\n",
      "INFO:root:(128, 1, 28, 28)\n",
      "INFO:root:(128, 1, 28, 28)\n",
      "INFO:root:(128, 1, 28, 28)\n",
      "INFO:root:(128, 1, 28, 28)\n",
      "INFO:root:(128, 1, 28, 28)\n"
     ]
    },
    {
     "name": "stdout",
     "output_type": "stream",
     "text": [
      "{'train': {'component_update_freq': 50, 'num_epochs': 50, 'save_freq': 1}, 'dataset': {'dataset_name': 'mnist', 'num_tasks': 10, 'num_classes_per_task': 2, 'with_replacement': True, 'num_trains_per_class': 64, 'num_vals_per_class': 50, 'remap_labels': True}, 'net': {'name': 'mlp', 'depth': 2, 'layer_size': 64, 'dropout': 0.0}, 'sharing_strategy': {'name': 'gradient', 'num_coms_per_round': 5, 'retrain': {'num_epochs': 10}}, 'seed': 0, 'algo': 'monolithic', 'job_name': 'fun', 'num_agents': 4, 'root_save_dir': 'results', 'parallel': True, 'num_init_tasks': 2, 'agent': {'save_dir': '${root_save_dir}/${job_name}/${dataset.dataset_name}/${algo}/seed_${seed}', 'batch_size': 64, 'memory_size': 64, 'improvement_threshold': 0.05, 'use_contrastive': True}}\n"
     ]
    },
    {
     "name": "stderr",
     "output_type": "stream",
     "text": [
      "INFO:root:(128, 1, 28, 28)\n",
      "INFO:root:(128, 1, 28, 28)\n",
      "INFO:root:(128, 1, 28, 28)\n",
      "INFO:root:(128, 1, 28, 28)\n",
      "INFO:root:(128, 1, 28, 28)\n",
      "INFO:root:Class sequence: [2 1 3 8 6 0 3 0 5 0 3 6 2 7 6 7 6 1 0 5]\n",
      "INFO:root:(128, 1, 28, 28)\n",
      "INFO:root:(128, 1, 28, 28)\n",
      "INFO:root:(128, 1, 28, 28)\n",
      "INFO:root:(128, 1, 28, 28)\n",
      "INFO:root:(128, 1, 28, 28)\n",
      "INFO:root:(128, 1, 28, 28)\n",
      "INFO:root:(128, 1, 28, 28)\n",
      "INFO:root:(128, 1, 28, 28)\n",
      "INFO:root:(128, 1, 28, 28)\n",
      "INFO:root:(128, 1, 28, 28)\n",
      "INFO:root:Class sequence: [0 9 7 2 1 8 6 1 6 4 5 7 8 0 2 3 0 3 9 6]\n",
      "INFO:root:(128, 1, 28, 28)\n",
      "INFO:root:(128, 1, 28, 28)\n",
      "INFO:root:(128, 1, 28, 28)\n",
      "INFO:root:(128, 1, 28, 28)\n",
      "INFO:root:(128, 1, 28, 28)\n",
      "INFO:root:(128, 1, 28, 28)\n",
      "INFO:root:(128, 1, 28, 28)\n",
      "INFO:root:(128, 1, 28, 28)\n",
      "INFO:root:(128, 1, 28, 28)\n",
      "INFO:root:(128, 1, 28, 28)\n",
      "INFO:root:Class sequence: [0 5 3 4 4 5 9 3 0 6 9 1 3 1 7 9 5 2 3 2]\n",
      "INFO:root:(128, 1, 28, 28)\n",
      "INFO:root:(128, 1, 28, 28)\n",
      "INFO:root:(128, 1, 28, 28)\n",
      "INFO:root:(128, 1, 28, 28)\n",
      "INFO:root:(128, 1, 28, 28)\n",
      "INFO:root:(128, 1, 28, 28)\n",
      "INFO:root:(128, 1, 28, 28)\n",
      "INFO:root:(128, 1, 28, 28)\n",
      "INFO:root:(128, 1, 28, 28)\n",
      "INFO:root:(128, 1, 28, 28)\n"
     ]
    },
    {
     "name": "stdout",
     "output_type": "stream",
     "text": [
      "i_size 28\n",
      "num_classes 2\n",
      "net_cfg {'name': 'mlp', 'depth': 2, 'layer_size': 64, 'dropout': 0.0, 'i_size': 28, 'num_classes': 2, 'num_tasks': 10, 'num_init_tasks': 2}\n",
      "<class 'shell.learners.er_nocomponents.NoComponentsER'>\n"
     ]
    }
   ],
   "source": [
    "AgentCls = get_agent_cls(cfg.sharing_strategy, cfg.algo, cfg.parallel)\n",
    "\n",
    "graph, datasets, NetCls, LearnerCls, net_cfg, agent_cfg, train_cfg = setup_experiment(\n",
    "        cfg)\n",
    "FleetCls = get_fleet(cfg.sharing_strategy, cfg.parallel)"
   ]
  },
  {
   "cell_type": "code",
   "execution_count": 7,
   "metadata": {},
   "outputs": [
    {
     "name": "stderr",
     "output_type": "stream",
     "text": [
      "INFO:root:Class sequence: [3 9 2 4 9 2 5 4 8 9 9 4 1 6 9 6 8 0 5 1]\n",
      "INFO:root:(128, 1, 28, 28)\n",
      "INFO:root:(128, 1, 28, 28)\n",
      "INFO:root:(128, 1, 28, 28)\n",
      "INFO:root:(128, 1, 28, 28)\n",
      "INFO:root:(128, 1, 28, 28)\n",
      "INFO:root:(128, 1, 28, 28)\n",
      "INFO:root:(128, 1, 28, 28)\n",
      "INFO:root:(128, 1, 28, 28)\n",
      "INFO:root:(128, 1, 28, 28)\n",
      "INFO:root:(128, 1, 28, 28)\n",
      "2023-03-28 19:11:11,245\tINFO worker.py:1544 -- Started a local Ray instance. View the dashboard at \u001b[1m\u001b[32m127.0.0.1:8266 \u001b[39m\u001b[22m\n",
      "\u001b[2m\u001b[36m(ParallelModelSyncAgent pid=850361)\u001b[0m INFO:root:Agent: node_id: 69420, seed: 69420000\n",
      "\u001b[2m\u001b[36m(ParallelModelSyncAgent pid=850361)\u001b[0m INFO:root:epochs: 0, training task: 0\n",
      "\u001b[2m\u001b[36m(ParallelModelSyncAgent pid=850361)\u001b[0m INFO:root:\ttask: 0\tloss: 6.234\tacc: 0.500\n",
      "\u001b[2m\u001b[36m(ParallelModelSyncAgent pid=850361)\u001b[0m INFO:root:\ttask: avg\tloss: 6.234\tacc: 0.500\n",
      "\u001b[2m\u001b[36m(ParallelModelSyncAgent pid=850361)\u001b[0m INFO:root:epochs: 0, training task: 0\n",
      "\u001b[2m\u001b[36m(ParallelModelSyncAgent pid=850361)\u001b[0m INFO:root:\ttask: 0\tloss: 6.232\tacc: 0.500\n",
      "\u001b[2m\u001b[36m(ParallelModelSyncAgent pid=850361)\u001b[0m INFO:root:\ttask: avg\tloss: 6.232\tacc: 0.500\n",
      "\u001b[2m\u001b[36m(ParallelModelSyncAgent pid=850361)\u001b[0m INFO:root:epochs: 0, training task: 1\n",
      "\u001b[2m\u001b[36m(ParallelModelSyncAgent pid=850361)\u001b[0m INFO:root:\ttask: 0\tloss: 6.227\tacc: 0.500\n",
      "\u001b[2m\u001b[36m(ParallelModelSyncAgent pid=850361)\u001b[0m INFO:root:\ttask: 1\tloss: 6.228\tacc: 0.503\n",
      "\u001b[2m\u001b[36m(ParallelModelSyncAgent pid=850361)\u001b[0m INFO:root:\ttask: avg\tloss: 6.228\tacc: 0.501\n",
      "\u001b[2m\u001b[36m(ParallelModelSyncAgent pid=850361)\u001b[0m INFO:root:epochs: 1, training task: 1\n",
      "\u001b[2m\u001b[36m(ParallelModelSyncAgent pid=850361)\u001b[0m INFO:root:\ttask: 0\tloss: 6.201\tacc: 0.500\n",
      "\u001b[2m\u001b[36m(ParallelModelSyncAgent pid=850361)\u001b[0m INFO:root:\ttask: 1\tloss: 6.178\tacc: 0.493\n",
      "\u001b[2m\u001b[36m(ParallelModelSyncAgent pid=850361)\u001b[0m INFO:root:\ttask: avg\tloss: 6.190\tacc: 0.496\n",
      "\u001b[2m\u001b[36m(ParallelModelSyncAgent pid=850361)\u001b[0m INFO:root:epochs: 2, training task: 1\n",
      "\u001b[2m\u001b[36m(ParallelModelSyncAgent pid=850361)\u001b[0m INFO:root:\ttask: 0\tloss: 6.179\tacc: 0.500\n",
      "\u001b[2m\u001b[36m(ParallelModelSyncAgent pid=850361)\u001b[0m INFO:root:\ttask: 1\tloss: 6.144\tacc: 0.504\n",
      "\u001b[2m\u001b[36m(ParallelModelSyncAgent pid=850361)\u001b[0m INFO:root:\ttask: avg\tloss: 6.162\tacc: 0.502\n",
      "\u001b[2m\u001b[36m(ParallelModelSyncAgent pid=850361)\u001b[0m INFO:root:epochs: 3, training task: 1\n",
      "\u001b[2m\u001b[36m(ParallelModelSyncAgent pid=850361)\u001b[0m INFO:root:\ttask: 0\tloss: 6.156\tacc: 0.500\n",
      "\u001b[2m\u001b[36m(ParallelModelSyncAgent pid=850361)\u001b[0m INFO:root:\ttask: 1\tloss: 6.120\tacc: 0.549\n",
      "\u001b[2m\u001b[36m(ParallelModelSyncAgent pid=850361)\u001b[0m INFO:root:\ttask: avg\tloss: 6.138\tacc: 0.524\n",
      "\u001b[2m\u001b[36m(ParallelModelSyncAgent pid=850361)\u001b[0m INFO:root:epochs: 4, training task: 1\n",
      "\u001b[2m\u001b[36m(ParallelModelSyncAgent pid=850361)\u001b[0m INFO:root:\ttask: 0\tloss: 6.126\tacc: 0.500\n",
      "\u001b[2m\u001b[36m(ParallelModelSyncAgent pid=850361)\u001b[0m INFO:root:\ttask: 1\tloss: 6.110\tacc: 0.686\n",
      "\u001b[2m\u001b[36m(ParallelModelSyncAgent pid=850361)\u001b[0m INFO:root:\ttask: avg\tloss: 6.118\tacc: 0.593\n",
      "\u001b[2m\u001b[36m(ParallelModelSyncAgent pid=850361)\u001b[0m INFO:root:epochs: 5, training task: 1\n",
      "\u001b[2m\u001b[36m(ParallelModelSyncAgent pid=850361)\u001b[0m INFO:root:\ttask: 0\tloss: 6.133\tacc: 0.500\n",
      "\u001b[2m\u001b[36m(ParallelModelSyncAgent pid=850361)\u001b[0m INFO:root:\ttask: 1\tloss: 6.066\tacc: 0.824\n",
      "\u001b[2m\u001b[36m(ParallelModelSyncAgent pid=850361)\u001b[0m INFO:root:\ttask: avg\tloss: 6.099\tacc: 0.662\n",
      "\u001b[2m\u001b[36m(ParallelModelSyncAgent pid=850361)\u001b[0m INFO:root:epochs: 6, training task: 1\n",
      "\u001b[2m\u001b[36m(ParallelModelSyncAgent pid=850361)\u001b[0m INFO:root:\ttask: 0\tloss: 6.080\tacc: 0.500\n",
      "\u001b[2m\u001b[36m(ParallelModelSyncAgent pid=850361)\u001b[0m INFO:root:\ttask: 1\tloss: 6.061\tacc: 0.906\n",
      "\u001b[2m\u001b[36m(ParallelModelSyncAgent pid=850361)\u001b[0m INFO:root:\ttask: avg\tloss: 6.071\tacc: 0.703\n",
      "\u001b[2m\u001b[36m(ParallelModelSyncAgent pid=850361)\u001b[0m INFO:root:epochs: 7, training task: 1\n",
      "\u001b[2m\u001b[36m(ParallelModelSyncAgent pid=850361)\u001b[0m INFO:root:\ttask: 0\tloss: 6.083\tacc: 0.500\n",
      "\u001b[2m\u001b[36m(ParallelModelSyncAgent pid=850361)\u001b[0m INFO:root:\ttask: 1\tloss: 5.983\tacc: 0.913\n",
      "\u001b[2m\u001b[36m(ParallelModelSyncAgent pid=850361)\u001b[0m INFO:root:\ttask: avg\tloss: 6.033\tacc: 0.706\n",
      "\u001b[2m\u001b[36m(ParallelModelSyncAgent pid=850361)\u001b[0m INFO:root:epochs: 8, training task: 1\n",
      "\u001b[2m\u001b[36m(ParallelModelSyncAgent pid=850361)\u001b[0m INFO:root:\ttask: 0\tloss: 6.120\tacc: 0.500\n",
      "\u001b[2m\u001b[36m(ParallelModelSyncAgent pid=850361)\u001b[0m INFO:root:\ttask: 1\tloss: 5.978\tacc: 0.946\n",
      "\u001b[2m\u001b[36m(ParallelModelSyncAgent pid=850361)\u001b[0m INFO:root:\ttask: avg\tloss: 6.049\tacc: 0.723\n",
      "\u001b[2m\u001b[36m(ParallelModelSyncAgent pid=850361)\u001b[0m INFO:root:epochs: 9, training task: 1\n",
      "\u001b[2m\u001b[36m(ParallelModelSyncAgent pid=850361)\u001b[0m INFO:root:\ttask: 0\tloss: 6.088\tacc: 0.500\n",
      "\u001b[2m\u001b[36m(ParallelModelSyncAgent pid=850361)\u001b[0m INFO:root:\ttask: 1\tloss: 6.044\tacc: 0.949\n",
      "\u001b[2m\u001b[36m(ParallelModelSyncAgent pid=850361)\u001b[0m INFO:root:\ttask: avg\tloss: 6.066\tacc: 0.725\n",
      "\u001b[2m\u001b[36m(ParallelModelSyncAgent pid=850361)\u001b[0m INFO:root:epochs: 10, training task: 1\n",
      "\u001b[2m\u001b[36m(ParallelModelSyncAgent pid=850361)\u001b[0m INFO:root:\ttask: 0\tloss: 6.098\tacc: 0.500\n",
      "\u001b[2m\u001b[36m(ParallelModelSyncAgent pid=850361)\u001b[0m INFO:root:\ttask: 1\tloss: 6.005\tacc: 0.951\n",
      "\u001b[2m\u001b[36m(ParallelModelSyncAgent pid=850361)\u001b[0m INFO:root:\ttask: avg\tloss: 6.052\tacc: 0.726\n",
      "\u001b[2m\u001b[36m(ParallelModelSyncAgent pid=850361)\u001b[0m INFO:root:epochs: 11, training task: 1\n",
      "\u001b[2m\u001b[36m(ParallelModelSyncAgent pid=850361)\u001b[0m INFO:root:\ttask: 0\tloss: 6.093\tacc: 0.500\n",
      "\u001b[2m\u001b[36m(ParallelModelSyncAgent pid=850361)\u001b[0m INFO:root:\ttask: 1\tloss: 5.974\tacc: 0.950\n",
      "\u001b[2m\u001b[36m(ParallelModelSyncAgent pid=850361)\u001b[0m INFO:root:\ttask: avg\tloss: 6.034\tacc: 0.725\n",
      "\u001b[2m\u001b[36m(ParallelModelSyncAgent pid=850361)\u001b[0m INFO:root:epochs: 12, training task: 1\n",
      "\u001b[2m\u001b[36m(ParallelModelSyncAgent pid=850361)\u001b[0m INFO:root:\ttask: 0\tloss: 6.030\tacc: 0.500\n",
      "\u001b[2m\u001b[36m(ParallelModelSyncAgent pid=850361)\u001b[0m INFO:root:\ttask: 1\tloss: 6.037\tacc: 0.949\n",
      "\u001b[2m\u001b[36m(ParallelModelSyncAgent pid=850361)\u001b[0m INFO:root:\ttask: avg\tloss: 6.034\tacc: 0.725\n",
      "\u001b[2m\u001b[36m(ParallelModelSyncAgent pid=850361)\u001b[0m INFO:root:epochs: 13, training task: 1\n",
      "\u001b[2m\u001b[36m(ParallelModelSyncAgent pid=850361)\u001b[0m INFO:root:\ttask: 0\tloss: 6.016\tacc: 0.500\n",
      "\u001b[2m\u001b[36m(ParallelModelSyncAgent pid=850361)\u001b[0m INFO:root:\ttask: 1\tloss: 5.914\tacc: 0.961\n",
      "\u001b[2m\u001b[36m(ParallelModelSyncAgent pid=850361)\u001b[0m INFO:root:\ttask: avg\tloss: 5.965\tacc: 0.731\n",
      "\u001b[2m\u001b[36m(ParallelModelSyncAgent pid=850361)\u001b[0m INFO:root:epochs: 14, training task: 1\n",
      "\u001b[2m\u001b[36m(ParallelModelSyncAgent pid=850361)\u001b[0m INFO:root:\ttask: 0\tloss: 6.017\tacc: 0.506\n",
      "\u001b[2m\u001b[36m(ParallelModelSyncAgent pid=850361)\u001b[0m INFO:root:\ttask: 1\tloss: 5.966\tacc: 0.950\n",
      "\u001b[2m\u001b[36m(ParallelModelSyncAgent pid=850361)\u001b[0m INFO:root:\ttask: avg\tloss: 5.991\tacc: 0.728\n",
      "\u001b[2m\u001b[36m(ParallelModelSyncAgent pid=850361)\u001b[0m INFO:root:epochs: 15, training task: 1\n",
      "\u001b[2m\u001b[36m(ParallelModelSyncAgent pid=850361)\u001b[0m INFO:root:\ttask: 0\tloss: 6.045\tacc: 0.520\n",
      "\u001b[2m\u001b[36m(ParallelModelSyncAgent pid=850361)\u001b[0m INFO:root:\ttask: 1\tloss: 5.973\tacc: 0.949\n",
      "\u001b[2m\u001b[36m(ParallelModelSyncAgent pid=850361)\u001b[0m INFO:root:\ttask: avg\tloss: 6.009\tacc: 0.735\n",
      "\u001b[2m\u001b[36m(ParallelModelSyncAgent pid=850361)\u001b[0m INFO:root:epochs: 16, training task: 1\n",
      "\u001b[2m\u001b[36m(ParallelModelSyncAgent pid=850361)\u001b[0m INFO:root:\ttask: 0\tloss: 5.998\tacc: 0.545\n",
      "\u001b[2m\u001b[36m(ParallelModelSyncAgent pid=850361)\u001b[0m INFO:root:\ttask: 1\tloss: 5.910\tacc: 0.955\n",
      "\u001b[2m\u001b[36m(ParallelModelSyncAgent pid=850361)\u001b[0m INFO:root:\ttask: avg\tloss: 5.954\tacc: 0.750\n",
      "\u001b[2m\u001b[36m(ParallelModelSyncAgent pid=850361)\u001b[0m INFO:root:epochs: 17, training task: 1\n",
      "\u001b[2m\u001b[36m(ParallelModelSyncAgent pid=850361)\u001b[0m INFO:root:\ttask: 0\tloss: 6.006\tacc: 0.587\n",
      "\u001b[2m\u001b[36m(ParallelModelSyncAgent pid=850361)\u001b[0m INFO:root:\ttask: 1\tloss: 5.930\tacc: 0.957\n",
      "\u001b[2m\u001b[36m(ParallelModelSyncAgent pid=850361)\u001b[0m INFO:root:\ttask: avg\tloss: 5.968\tacc: 0.772\n",
      "\u001b[2m\u001b[36m(ParallelModelSyncAgent pid=850361)\u001b[0m INFO:root:epochs: 18, training task: 1\n",
      "\u001b[2m\u001b[36m(ParallelModelSyncAgent pid=850361)\u001b[0m INFO:root:\ttask: 0\tloss: 6.006\tacc: 0.625\n",
      "\u001b[2m\u001b[36m(ParallelModelSyncAgent pid=850361)\u001b[0m INFO:root:\ttask: 1\tloss: 5.898\tacc: 0.957\n",
      "\u001b[2m\u001b[36m(ParallelModelSyncAgent pid=850361)\u001b[0m INFO:root:\ttask: avg\tloss: 5.952\tacc: 0.791\n",
      "\u001b[2m\u001b[36m(ParallelModelSyncAgent pid=850361)\u001b[0m INFO:root:epochs: 19, training task: 1\n",
      "\u001b[2m\u001b[36m(ParallelModelSyncAgent pid=850361)\u001b[0m INFO:root:\ttask: 0\tloss: 5.961\tacc: 0.661\n",
      "\u001b[2m\u001b[36m(ParallelModelSyncAgent pid=850361)\u001b[0m INFO:root:\ttask: 1\tloss: 5.863\tacc: 0.968\n",
      "\u001b[2m\u001b[36m(ParallelModelSyncAgent pid=850361)\u001b[0m INFO:root:\ttask: avg\tloss: 5.912\tacc: 0.814\n",
      "\u001b[2m\u001b[36m(ParallelModelSyncAgent pid=850361)\u001b[0m INFO:root:epochs: 20, training task: 1\n",
      "\u001b[2m\u001b[36m(ParallelModelSyncAgent pid=850361)\u001b[0m INFO:root:\ttask: 0\tloss: 6.024\tacc: 0.719\n",
      "\u001b[2m\u001b[36m(ParallelModelSyncAgent pid=850361)\u001b[0m INFO:root:\ttask: 1\tloss: 5.887\tacc: 0.968\n",
      "\u001b[2m\u001b[36m(ParallelModelSyncAgent pid=850361)\u001b[0m INFO:root:\ttask: avg\tloss: 5.956\tacc: 0.844\n",
      "\u001b[2m\u001b[36m(ParallelModelSyncAgent pid=850361)\u001b[0m INFO:root:epochs: 21, training task: 1\n",
      "\u001b[2m\u001b[36m(ParallelModelSyncAgent pid=850361)\u001b[0m INFO:root:\ttask: 0\tloss: 5.976\tacc: 0.827\n",
      "\u001b[2m\u001b[36m(ParallelModelSyncAgent pid=850361)\u001b[0m INFO:root:\ttask: 1\tloss: 5.866\tacc: 0.967\n",
      "\u001b[2m\u001b[36m(ParallelModelSyncAgent pid=850361)\u001b[0m INFO:root:\ttask: avg\tloss: 5.921\tacc: 0.897\n",
      "\u001b[2m\u001b[36m(ParallelModelSyncAgent pid=850361)\u001b[0m INFO:root:epochs: 22, training task: 1\n",
      "\u001b[2m\u001b[36m(ParallelModelSyncAgent pid=850361)\u001b[0m INFO:root:\ttask: 0\tloss: 5.946\tacc: 0.898\n",
      "\u001b[2m\u001b[36m(ParallelModelSyncAgent pid=850361)\u001b[0m INFO:root:\ttask: 1\tloss: 5.884\tacc: 0.950\n",
      "\u001b[2m\u001b[36m(ParallelModelSyncAgent pid=850361)\u001b[0m INFO:root:\ttask: avg\tloss: 5.915\tacc: 0.924\n",
      "\u001b[2m\u001b[36m(ParallelModelSyncAgent pid=850361)\u001b[0m INFO:root:epochs: 23, training task: 1\n",
      "\u001b[2m\u001b[36m(ParallelModelSyncAgent pid=850361)\u001b[0m INFO:root:\ttask: 0\tloss: 5.999\tacc: 0.914\n",
      "\u001b[2m\u001b[36m(ParallelModelSyncAgent pid=850361)\u001b[0m INFO:root:\ttask: 1\tloss: 5.893\tacc: 0.951\n",
      "\u001b[2m\u001b[36m(ParallelModelSyncAgent pid=850361)\u001b[0m INFO:root:\ttask: avg\tloss: 5.946\tacc: 0.933\n",
      "\u001b[2m\u001b[36m(ParallelModelSyncAgent pid=850361)\u001b[0m INFO:root:epochs: 24, training task: 1\n",
      "\u001b[2m\u001b[36m(ParallelModelSyncAgent pid=850361)\u001b[0m INFO:root:\ttask: 0\tloss: 5.949\tacc: 0.927\n",
      "\u001b[2m\u001b[36m(ParallelModelSyncAgent pid=850361)\u001b[0m INFO:root:\ttask: 1\tloss: 5.816\tacc: 0.954\n",
      "\u001b[2m\u001b[36m(ParallelModelSyncAgent pid=850361)\u001b[0m INFO:root:\ttask: avg\tloss: 5.883\tacc: 0.940\n",
      "\u001b[2m\u001b[36m(ParallelModelSyncAgent pid=850361)\u001b[0m INFO:root:epochs: 25, training task: 1\n",
      "\u001b[2m\u001b[36m(ParallelModelSyncAgent pid=850361)\u001b[0m INFO:root:\ttask: 0\tloss: 6.008\tacc: 0.928\n",
      "\u001b[2m\u001b[36m(ParallelModelSyncAgent pid=850361)\u001b[0m INFO:root:\ttask: 1\tloss: 5.863\tacc: 0.966\n",
      "\u001b[2m\u001b[36m(ParallelModelSyncAgent pid=850361)\u001b[0m INFO:root:\ttask: avg\tloss: 5.936\tacc: 0.947\n",
      "\u001b[2m\u001b[36m(ParallelModelSyncAgent pid=850361)\u001b[0m INFO:root:epochs: 26, training task: 1\n",
      "\u001b[2m\u001b[36m(ParallelModelSyncAgent pid=850361)\u001b[0m INFO:root:\ttask: 0\tloss: 5.914\tacc: 0.938\n",
      "\u001b[2m\u001b[36m(ParallelModelSyncAgent pid=850361)\u001b[0m INFO:root:\ttask: 1\tloss: 5.858\tacc: 0.968\n",
      "\u001b[2m\u001b[36m(ParallelModelSyncAgent pid=850361)\u001b[0m INFO:root:\ttask: avg\tloss: 5.886\tacc: 0.953\n",
      "\u001b[2m\u001b[36m(ParallelModelSyncAgent pid=850361)\u001b[0m INFO:root:epochs: 27, training task: 1\n",
      "\u001b[2m\u001b[36m(ParallelModelSyncAgent pid=850361)\u001b[0m INFO:root:\ttask: 0\tloss: 5.943\tacc: 0.952\n",
      "\u001b[2m\u001b[36m(ParallelModelSyncAgent pid=850361)\u001b[0m INFO:root:\ttask: 1\tloss: 5.836\tacc: 0.957\n",
      "\u001b[2m\u001b[36m(ParallelModelSyncAgent pid=850361)\u001b[0m INFO:root:\ttask: avg\tloss: 5.890\tacc: 0.955\n",
      "\u001b[2m\u001b[36m(ParallelModelSyncAgent pid=850361)\u001b[0m INFO:root:epochs: 28, training task: 1\n",
      "\u001b[2m\u001b[36m(ParallelModelSyncAgent pid=850361)\u001b[0m INFO:root:\ttask: 0\tloss: 5.954\tacc: 0.951\n",
      "\u001b[2m\u001b[36m(ParallelModelSyncAgent pid=850361)\u001b[0m INFO:root:\ttask: 1\tloss: 5.805\tacc: 0.954\n",
      "\u001b[2m\u001b[36m(ParallelModelSyncAgent pid=850361)\u001b[0m INFO:root:\ttask: avg\tloss: 5.880\tacc: 0.953\n",
      "\u001b[2m\u001b[36m(ParallelModelSyncAgent pid=850361)\u001b[0m INFO:root:epochs: 29, training task: 1\n",
      "\u001b[2m\u001b[36m(ParallelModelSyncAgent pid=850361)\u001b[0m INFO:root:\ttask: 0\tloss: 5.946\tacc: 0.953\n",
      "\u001b[2m\u001b[36m(ParallelModelSyncAgent pid=850361)\u001b[0m INFO:root:\ttask: 1\tloss: 5.879\tacc: 0.956\n",
      "\u001b[2m\u001b[36m(ParallelModelSyncAgent pid=850361)\u001b[0m INFO:root:\ttask: avg\tloss: 5.913\tacc: 0.955\n",
      "\u001b[2m\u001b[36m(ParallelModelSyncAgent pid=850361)\u001b[0m INFO:root:epochs: 30, training task: 1\n",
      "\u001b[2m\u001b[36m(ParallelModelSyncAgent pid=850361)\u001b[0m INFO:root:\ttask: 0\tloss: 5.957\tacc: 0.945\n",
      "\u001b[2m\u001b[36m(ParallelModelSyncAgent pid=850361)\u001b[0m INFO:root:\ttask: 1\tloss: 5.824\tacc: 0.968\n",
      "\u001b[2m\u001b[36m(ParallelModelSyncAgent pid=850361)\u001b[0m INFO:root:\ttask: avg\tloss: 5.891\tacc: 0.956\n",
      "\u001b[2m\u001b[36m(ParallelModelSyncAgent pid=850361)\u001b[0m INFO:root:epochs: 31, training task: 1\n",
      "\u001b[2m\u001b[36m(ParallelModelSyncAgent pid=850361)\u001b[0m INFO:root:\ttask: 0\tloss: 6.003\tacc: 0.949\n",
      "\u001b[2m\u001b[36m(ParallelModelSyncAgent pid=850361)\u001b[0m INFO:root:\ttask: 1\tloss: 5.771\tacc: 0.969\n",
      "\u001b[2m\u001b[36m(ParallelModelSyncAgent pid=850361)\u001b[0m INFO:root:\ttask: avg\tloss: 5.887\tacc: 0.959\n",
      "\u001b[2m\u001b[36m(ParallelModelSyncAgent pid=850361)\u001b[0m INFO:root:epochs: 32, training task: 1\n",
      "\u001b[2m\u001b[36m(ParallelModelSyncAgent pid=850361)\u001b[0m INFO:root:\ttask: 0\tloss: 5.917\tacc: 0.962\n",
      "\u001b[2m\u001b[36m(ParallelModelSyncAgent pid=850361)\u001b[0m INFO:root:\ttask: 1\tloss: 5.814\tacc: 0.959\n",
      "\u001b[2m\u001b[36m(ParallelModelSyncAgent pid=850361)\u001b[0m INFO:root:\ttask: avg\tloss: 5.866\tacc: 0.960\n",
      "\u001b[2m\u001b[36m(ParallelModelSyncAgent pid=850361)\u001b[0m INFO:root:epochs: 33, training task: 1\n",
      "\u001b[2m\u001b[36m(ParallelModelSyncAgent pid=850361)\u001b[0m INFO:root:\ttask: 0\tloss: 5.983\tacc: 0.964\n",
      "\u001b[2m\u001b[36m(ParallelModelSyncAgent pid=850361)\u001b[0m INFO:root:\ttask: 1\tloss: 5.818\tacc: 0.955\n",
      "\u001b[2m\u001b[36m(ParallelModelSyncAgent pid=850361)\u001b[0m INFO:root:\ttask: avg\tloss: 5.900\tacc: 0.960\n",
      "\u001b[2m\u001b[36m(ParallelModelSyncAgent pid=850361)\u001b[0m INFO:root:epochs: 34, training task: 1\n",
      "\u001b[2m\u001b[36m(ParallelModelSyncAgent pid=850361)\u001b[0m INFO:root:\ttask: 0\tloss: 5.888\tacc: 0.965\n",
      "\u001b[2m\u001b[36m(ParallelModelSyncAgent pid=850361)\u001b[0m INFO:root:\ttask: 1\tloss: 5.775\tacc: 0.957\n",
      "\u001b[2m\u001b[36m(ParallelModelSyncAgent pid=850361)\u001b[0m INFO:root:\ttask: avg\tloss: 5.831\tacc: 0.961\n",
      "\u001b[2m\u001b[36m(ParallelModelSyncAgent pid=850361)\u001b[0m INFO:root:epochs: 35, training task: 1\n",
      "\u001b[2m\u001b[36m(ParallelModelSyncAgent pid=850361)\u001b[0m INFO:root:\ttask: 0\tloss: 5.893\tacc: 0.965\n",
      "\u001b[2m\u001b[36m(ParallelModelSyncAgent pid=850361)\u001b[0m INFO:root:\ttask: 1\tloss: 5.788\tacc: 0.955\n",
      "\u001b[2m\u001b[36m(ParallelModelSyncAgent pid=850361)\u001b[0m INFO:root:\ttask: avg\tloss: 5.841\tacc: 0.960\n",
      "\u001b[2m\u001b[36m(ParallelModelSyncAgent pid=850361)\u001b[0m INFO:root:epochs: 36, training task: 1\n",
      "\u001b[2m\u001b[36m(ParallelModelSyncAgent pid=850361)\u001b[0m INFO:root:\ttask: 0\tloss: 5.850\tacc: 0.964\n",
      "\u001b[2m\u001b[36m(ParallelModelSyncAgent pid=850361)\u001b[0m INFO:root:\ttask: 1\tloss: 5.823\tacc: 0.965\n",
      "\u001b[2m\u001b[36m(ParallelModelSyncAgent pid=850361)\u001b[0m INFO:root:\ttask: avg\tloss: 5.836\tacc: 0.965\n",
      "\u001b[2m\u001b[36m(ParallelModelSyncAgent pid=850361)\u001b[0m INFO:root:epochs: 37, training task: 1\n",
      "\u001b[2m\u001b[36m(ParallelModelSyncAgent pid=850361)\u001b[0m INFO:root:\ttask: 0\tloss: 5.850\tacc: 0.960\n",
      "\u001b[2m\u001b[36m(ParallelModelSyncAgent pid=850361)\u001b[0m INFO:root:\ttask: 1\tloss: 5.867\tacc: 0.973\n",
      "\u001b[2m\u001b[36m(ParallelModelSyncAgent pid=850361)\u001b[0m INFO:root:\ttask: avg\tloss: 5.858\tacc: 0.966\n",
      "\u001b[2m\u001b[36m(ParallelModelSyncAgent pid=850361)\u001b[0m INFO:root:epochs: 38, training task: 1\n",
      "\u001b[2m\u001b[36m(ParallelModelSyncAgent pid=850361)\u001b[0m INFO:root:\ttask: 0\tloss: 5.894\tacc: 0.961\n",
      "\u001b[2m\u001b[36m(ParallelModelSyncAgent pid=850361)\u001b[0m INFO:root:\ttask: 1\tloss: 5.771\tacc: 0.970\n",
      "\u001b[2m\u001b[36m(ParallelModelSyncAgent pid=850361)\u001b[0m INFO:root:\ttask: avg\tloss: 5.833\tacc: 0.966\n",
      "\u001b[2m\u001b[36m(ParallelModelSyncAgent pid=850361)\u001b[0m INFO:root:epochs: 39, training task: 1\n",
      "\u001b[2m\u001b[36m(ParallelModelSyncAgent pid=850361)\u001b[0m INFO:root:\ttask: 0\tloss: 5.896\tacc: 0.963\n",
      "\u001b[2m\u001b[36m(ParallelModelSyncAgent pid=850361)\u001b[0m INFO:root:\ttask: 1\tloss: 5.747\tacc: 0.970\n",
      "\u001b[2m\u001b[36m(ParallelModelSyncAgent pid=850361)\u001b[0m INFO:root:\ttask: avg\tloss: 5.821\tacc: 0.967\n",
      "\u001b[2m\u001b[36m(ParallelModelSyncAgent pid=850361)\u001b[0m INFO:root:epochs: 40, training task: 1\n",
      "\u001b[2m\u001b[36m(ParallelModelSyncAgent pid=850361)\u001b[0m INFO:root:\ttask: 0\tloss: 5.895\tacc: 0.962\n",
      "\u001b[2m\u001b[36m(ParallelModelSyncAgent pid=850361)\u001b[0m INFO:root:\ttask: 1\tloss: 5.746\tacc: 0.967\n",
      "\u001b[2m\u001b[36m(ParallelModelSyncAgent pid=850361)\u001b[0m INFO:root:\ttask: avg\tloss: 5.820\tacc: 0.965\n",
      "\u001b[2m\u001b[36m(ParallelModelSyncAgent pid=850361)\u001b[0m INFO:root:epochs: 41, training task: 1\n",
      "\u001b[2m\u001b[36m(ParallelModelSyncAgent pid=850361)\u001b[0m INFO:root:\ttask: 0\tloss: 5.880\tacc: 0.958\n",
      "\u001b[2m\u001b[36m(ParallelModelSyncAgent pid=850361)\u001b[0m INFO:root:\ttask: 1\tloss: 5.758\tacc: 0.961\n",
      "\u001b[2m\u001b[36m(ParallelModelSyncAgent pid=850361)\u001b[0m INFO:root:\ttask: avg\tloss: 5.819\tacc: 0.960\n",
      "\u001b[2m\u001b[36m(ParallelModelSyncAgent pid=850361)\u001b[0m INFO:root:epochs: 42, training task: 1\n",
      "\u001b[2m\u001b[36m(ParallelModelSyncAgent pid=850361)\u001b[0m INFO:root:\ttask: 0\tloss: 5.851\tacc: 0.958\n",
      "\u001b[2m\u001b[36m(ParallelModelSyncAgent pid=850361)\u001b[0m INFO:root:\ttask: 1\tloss: 5.757\tacc: 0.961\n",
      "\u001b[2m\u001b[36m(ParallelModelSyncAgent pid=850361)\u001b[0m INFO:root:\ttask: avg\tloss: 5.804\tacc: 0.960\n",
      "\u001b[2m\u001b[36m(ParallelModelSyncAgent pid=850361)\u001b[0m INFO:root:epochs: 43, training task: 1\n",
      "\u001b[2m\u001b[36m(ParallelModelSyncAgent pid=850361)\u001b[0m INFO:root:\ttask: 0\tloss: 5.804\tacc: 0.961\n",
      "\u001b[2m\u001b[36m(ParallelModelSyncAgent pid=850361)\u001b[0m INFO:root:\ttask: 1\tloss: 5.731\tacc: 0.963\n",
      "\u001b[2m\u001b[36m(ParallelModelSyncAgent pid=850361)\u001b[0m INFO:root:\ttask: avg\tloss: 5.768\tacc: 0.962\n",
      "\u001b[2m\u001b[36m(ParallelModelSyncAgent pid=850361)\u001b[0m INFO:root:epochs: 44, training task: 1\n",
      "\u001b[2m\u001b[36m(ParallelModelSyncAgent pid=850361)\u001b[0m INFO:root:\ttask: 0\tloss: 5.881\tacc: 0.968\n",
      "\u001b[2m\u001b[36m(ParallelModelSyncAgent pid=850361)\u001b[0m INFO:root:\ttask: 1\tloss: 5.737\tacc: 0.969\n",
      "\u001b[2m\u001b[36m(ParallelModelSyncAgent pid=850361)\u001b[0m INFO:root:\ttask: avg\tloss: 5.809\tacc: 0.968\n",
      "\u001b[2m\u001b[36m(ParallelModelSyncAgent pid=850361)\u001b[0m INFO:root:epochs: 45, training task: 1\n",
      "\u001b[2m\u001b[36m(ParallelModelSyncAgent pid=850361)\u001b[0m INFO:root:\ttask: 0\tloss: 5.783\tacc: 0.969\n",
      "\u001b[2m\u001b[36m(ParallelModelSyncAgent pid=850361)\u001b[0m INFO:root:\ttask: 1\tloss: 5.723\tacc: 0.971\n",
      "\u001b[2m\u001b[36m(ParallelModelSyncAgent pid=850361)\u001b[0m INFO:root:\ttask: avg\tloss: 5.753\tacc: 0.970\n",
      "\u001b[2m\u001b[36m(ParallelModelSyncAgent pid=850361)\u001b[0m INFO:root:epochs: 46, training task: 1\n",
      "\u001b[2m\u001b[36m(ParallelModelSyncAgent pid=850361)\u001b[0m INFO:root:\ttask: 0\tloss: 5.856\tacc: 0.968\n",
      "\u001b[2m\u001b[36m(ParallelModelSyncAgent pid=850361)\u001b[0m INFO:root:\ttask: 1\tloss: 5.726\tacc: 0.969\n",
      "\u001b[2m\u001b[36m(ParallelModelSyncAgent pid=850361)\u001b[0m INFO:root:\ttask: avg\tloss: 5.791\tacc: 0.968\n",
      "\u001b[2m\u001b[36m(ParallelModelSyncAgent pid=850361)\u001b[0m INFO:root:epochs: 47, training task: 1\n",
      "\u001b[2m\u001b[36m(ParallelModelSyncAgent pid=850361)\u001b[0m INFO:root:\ttask: 0\tloss: 5.836\tacc: 0.962\n",
      "\u001b[2m\u001b[36m(ParallelModelSyncAgent pid=850361)\u001b[0m INFO:root:\ttask: 1\tloss: 5.736\tacc: 0.963\n",
      "\u001b[2m\u001b[36m(ParallelModelSyncAgent pid=850361)\u001b[0m INFO:root:\ttask: avg\tloss: 5.786\tacc: 0.963\n",
      "\u001b[2m\u001b[36m(ParallelModelSyncAgent pid=850361)\u001b[0m INFO:root:epochs: 48, training task: 1\n",
      "\u001b[2m\u001b[36m(ParallelModelSyncAgent pid=850361)\u001b[0m INFO:root:\ttask: 0\tloss: 5.849\tacc: 0.941\n",
      "\u001b[2m\u001b[36m(ParallelModelSyncAgent pid=850361)\u001b[0m INFO:root:\ttask: 1\tloss: 5.712\tacc: 0.944\n",
      "\u001b[2m\u001b[36m(ParallelModelSyncAgent pid=850361)\u001b[0m INFO:root:\ttask: avg\tloss: 5.780\tacc: 0.942\n",
      "\u001b[2m\u001b[36m(ParallelModelSyncAgent pid=850361)\u001b[0m INFO:root:epochs: 49, training task: 1\n",
      "\u001b[2m\u001b[36m(ParallelModelSyncAgent pid=850361)\u001b[0m INFO:root:\ttask: 0\tloss: 5.820\tacc: 0.953\n",
      "\u001b[2m\u001b[36m(ParallelModelSyncAgent pid=850361)\u001b[0m INFO:root:\ttask: 1\tloss: 5.713\tacc: 0.965\n",
      "\u001b[2m\u001b[36m(ParallelModelSyncAgent pid=850361)\u001b[0m INFO:root:\ttask: avg\tloss: 5.766\tacc: 0.959\n",
      "\u001b[2m\u001b[36m(ParallelModelSyncAgent pid=850361)\u001b[0m INFO:root:epochs: 50, training task: 1\n",
      "\u001b[2m\u001b[36m(ParallelModelSyncAgent pid=850361)\u001b[0m INFO:root:\ttask: 0\tloss: 5.796\tacc: 0.956\n",
      "\u001b[2m\u001b[36m(ParallelModelSyncAgent pid=850361)\u001b[0m INFO:root:\ttask: 1\tloss: 5.731\tacc: 0.960\n",
      "\u001b[2m\u001b[36m(ParallelModelSyncAgent pid=850361)\u001b[0m INFO:root:\ttask: avg\tloss: 5.764\tacc: 0.958\n",
      "\u001b[2m\u001b[36m(ParallelModelSyncAgent pid=850361)\u001b[0m INFO:root:epochs: 51, training task: 1\n",
      "\u001b[2m\u001b[36m(ParallelModelSyncAgent pid=850361)\u001b[0m INFO:root:\ttask: 0\tloss: 5.787\tacc: 0.956\n",
      "\u001b[2m\u001b[36m(ParallelModelSyncAgent pid=850361)\u001b[0m INFO:root:\ttask: 1\tloss: 5.733\tacc: 0.960\n",
      "\u001b[2m\u001b[36m(ParallelModelSyncAgent pid=850361)\u001b[0m INFO:root:\ttask: avg\tloss: 5.760\tacc: 0.958\n",
      "INFO:root:No. gpus per agent: 0.5\n",
      "\u001b[2m\u001b[36m(ParallelModelSyncAgent pid=909996)\u001b[0m INFO:root:Agent: node_id: 0, seed: 0\n",
      "\u001b[2m\u001b[36m(ParallelModelSyncAgent pid=910044)\u001b[0m INFO:root:Agent: node_id: 1, seed: 1000\n",
      "\u001b[2m\u001b[36m(ParallelModelSyncAgent pid=910045)\u001b[0m INFO:root:Agent: node_id: 2, seed: 2000\n",
      "\u001b[2m\u001b[36m(ParallelModelSyncAgent pid=910093)\u001b[0m INFO:root:Agent: node_id: 3, seed: 3000\n",
      "INFO:root:Created fleet with 4 agents\n",
      "INFO:root:Adding neighbors...\n",
      "INFO:root:Fleet initialized\n"
     ]
    }
   ],
   "source": [
    "fake_dataset = get_dataset(**process_dataset_cfg(cfg))\n",
    "fleet = FleetCls(graph, cfg.seed, datasets, cfg.sharing_strategy, AgentCls, NetCls=NetCls,\n",
    "                     LearnerCls=LearnerCls, net_kwargs=net_cfg, agent_kwargs=agent_cfg,\n",
    "                     train_kwargs=train_cfg, fake_dataset=fake_dataset)"
   ]
  },
  {
   "cell_type": "code",
   "execution_count": 9,
   "metadata": {},
   "outputs": [
    {
     "data": {
      "text/plain": [
       "[array([4, 7, 0, 8, 4, 6, 4, 3, 8, 0, 1, 0, 5, 9, 6, 4, 9, 0, 3, 0]),\n",
       " array([2, 1, 3, 8, 6, 0, 3, 0, 5, 0, 3, 6, 2, 7, 6, 7, 6, 1, 0, 5]),\n",
       " array([0, 9, 7, 2, 1, 8, 6, 1, 6, 4, 5, 7, 8, 0, 2, 3, 0, 3, 9, 6]),\n",
       " array([0, 5, 3, 4, 4, 5, 9, 3, 0, 6, 9, 1, 3, 1, 7, 9, 5, 2, 3, 2])]"
      ]
     },
     "execution_count": 9,
     "metadata": {},
     "output_type": "execute_result"
    }
   ],
   "source": [
    "[dataset.class_sequence for dataset in datasets]"
   ]
  },
  {
   "cell_type": "code",
   "execution_count": 10,
   "metadata": {},
   "outputs": [
    {
     "data": {
      "text/plain": [
       "array([3, 9, 2, 4, 9, 2, 5, 4, 8, 9, 9, 4, 1, 6, 9, 6, 8, 0, 5, 1])"
      ]
     },
     "execution_count": 10,
     "metadata": {},
     "output_type": "execute_result"
    }
   ],
   "source": [
    "fake_dataset.class_sequence"
   ]
  },
  {
   "cell_type": "code",
   "execution_count": 11,
   "metadata": {},
   "outputs": [
    {
     "name": "stdout",
     "output_type": "stream",
     "text": [
      "After initialization:\n"
     ]
    },
    {
     "data": {
      "text/plain": [
       "{'components.0.weight': 0.0,\n",
       " 'components.0.bias': 0.0,\n",
       " 'components.1.weight': 0.0,\n",
       " 'components.1.bias': 0.0,\n",
       " 'random_linear_projection.weight': 0.0,\n",
       " 'random_linear_projection.bias': 0.0}"
      ]
     },
     "execution_count": 11,
     "metadata": {},
     "output_type": "execute_result"
    }
   ],
   "source": [
    "# diff_models(fleet.agents[0].get_net().state_dict(), fleet.agents[1].get_net().state_dict(),\n",
    "#             keys=[\"random_linear_projection\", \"components\"])\n",
    "\n",
    "print(\"After initialization:\")\n",
    "diff_models(ray.get(fleet.agents[0].get_net.remote()).state_dict(), \n",
    "            ray.get(fleet.agents[1].get_net.remote()).state_dict(),\n",
    "            keys=[\"random_linear_projection\", \"components\"])"
   ]
  },
  {
   "cell_type": "code",
   "execution_count": 12,
   "metadata": {},
   "outputs": [
    {
     "data": {
      "text/plain": [
       "False"
      ]
     },
     "execution_count": 12,
     "metadata": {},
     "output_type": "execute_result"
    }
   ],
   "source": [
    "# check that the random_linear_projection doesn't require grad\n",
    "net1 = ray.get(fleet.agents[0].get_net.remote())\n",
    "net1.random_linear_projection.weight.requires_grad"
   ]
  },
  {
   "cell_type": "code",
   "execution_count": null,
   "metadata": {},
   "outputs": [],
   "source": [
    "print(\"Accuracy just after initialization:\")\n",
    "# evaluate the performance again\n",
    "for agent in fleet.agents:\n",
    "    print(ray.get(agent.eval.remote(0)))"
   ]
  },
  {
   "cell_type": "code",
   "execution_count": null,
   "metadata": {},
   "outputs": [],
   "source": [
    "# local train\n",
    "fleet.train(0)"
   ]
  },
  {
   "cell_type": "code",
   "execution_count": null,
   "metadata": {},
   "outputs": [],
   "source": [
    "print(\"After local training:\")\n",
    "\n",
    "diff_models(ray.get(fleet.agents[0].get_net.remote()).state_dict(), \n",
    "            ray.get(fleet.agents[1].get_net.remote()).state_dict(),\n",
    "            keys=[\"random_linear_projection\", \"components\"])"
   ]
  },
  {
   "cell_type": "code",
   "execution_count": null,
   "metadata": {},
   "outputs": [],
   "source": [
    "print(\"Accuracy after local train:\")\n",
    "# evaluate the performance again\n",
    "for agent in fleet.agents:\n",
    "    print(ray.get(agent.eval.remote(0)))"
   ]
  },
  {
   "cell_type": "code",
   "execution_count": null,
   "metadata": {},
   "outputs": [],
   "source": [
    "fleet.num_coms_per_round = 10\n",
    "fleet.communicate(0)"
   ]
  },
  {
   "cell_type": "code",
   "execution_count": null,
   "metadata": {},
   "outputs": [],
   "source": [
    "diff_models(ray.get(fleet.agents[0].get_net.remote()).state_dict(), \n",
    "            ray.get(fleet.agents[1].get_net.remote()).state_dict(),\n",
    "            keys=[\"random_linear_projection\", \"components\"])"
   ]
  },
  {
   "cell_type": "code",
   "execution_count": null,
   "metadata": {},
   "outputs": [],
   "source": [
    "print(\"Acc after sync\")\n",
    "# evaluate the performance again\n",
    "for agent in fleet.agents:\n",
    "    print(ray.get(agent.eval.remote(0)))"
   ]
  }
 ],
 "metadata": {
  "kernelspec": {
   "display_name": "shell",
   "language": "python",
   "name": "python3"
  },
  "language_info": {
   "codemirror_mode": {
    "name": "ipython",
    "version": 3
   },
   "file_extension": ".py",
   "mimetype": "text/x-python",
   "name": "python",
   "nbconvert_exporter": "python",
   "pygments_lexer": "ipython3",
   "version": "3.10.9"
  },
  "orig_nbformat": 4
 },
 "nbformat": 4,
 "nbformat_minor": 2
}
