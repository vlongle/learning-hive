{
 "cells": [
  {
   "cell_type": "code",
   "execution_count": 1,
   "metadata": {},
   "outputs": [],
   "source": [
    "%load_ext autoreload\n",
    "%autoreload 2"
   ]
  },
  {
   "cell_type": "code",
   "execution_count": 2,
   "metadata": {},
   "outputs": [],
   "source": [
    "import omegaconf\n",
    "from shell.utils.experiment_utils import *\n",
    "from shell.fleet.utils.fleet_utils import *\n",
    "from shell.utils.metric import *\n",
    "import matplotlib.pyplot as plt\n",
    "from shell.fleet.network import TopologyGenerator\n",
    "from sklearn.manifold import TSNE\n",
    "import numpy as np\n",
    "import pandas as pd\n",
    "from shell.fleet.fleet import Agent, Fleet\n",
    "from shell.fleet.data.data_utilize import *\n",
    "from shell.fleet.data.recv import *\n",
    "\n",
    "from sklearn.manifold import TSNE\n",
    "from torchvision.utils import make_grid\n",
    "from shell.fleet.data.data_utilize import *\n",
    "import logging\n",
    "from sklearn.metrics import f1_score\n",
    "import os\n",
    "from shell.fleet.data.recv_utils import *\n",
    "from tqdm import tqdm\n",
    "import argparse\n",
    "from functools import partial\n",
    "from torchvision.utils import make_grid\n",
    "from shell.utils.oodloss import OODSeparationLoss\n",
    "from pythresh.thresholds.dsn import DSN\n",
    "from pythresh.thresholds.aucp import AUCP\n",
    "from pythresh.thresholds.boot import BOOT\n",
    "from pythresh.thresholds.zscore import ZSCORE\n",
    "from sklearn.metrics import accuracy_score, precision_score, recall_score, f1_score\n",
    "from collections import defaultdict\n",
    "\n",
    "from shell.fleet.network import *\n",
    "logging.basicConfig(level=logging.INFO)"
   ]
  },
  {
   "cell_type": "code",
   "execution_count": 3,
   "metadata": {},
   "outputs": [],
   "source": [
    "experiment_folder = \".\"\n",
    "# experiment_folder = \"rerun_opt_heuristic_experiment_results\"\n",
    "experiment_name = \"heuristic_budget_20000_enforce_balance_False_mem_160000_experiment_results\"\n",
    "dataset = \"cifar100\"\n",
    "algo = \"modular\"\n",
    "\n",
    "use_contrastive = False\n",
    "num_trains_per_class = 64 if dataset != \"cifar100\" else 256\n",
    "seed = 0\n",
    "num_tasks = 10\n",
    "parallel = False\n",
    "task_id = 4"
   ]
  },
  {
   "cell_type": "code",
   "execution_count": 6,
   "metadata": {},
   "outputs": [],
   "source": [
    "def modify_cfg(net_cfg, agent_cfg, train_cfg, fleet_additional_cfg, cfg):\n",
    "    cfg.sharing_strategy['enforce_balance'] = False \n",
    "    cfg.sharing_strategy['hash_data'] = True\n",
    "    return net_cfg, agent_cfg, train_cfg, fleet_additional_cfg, cfg"
   ]
  },
  {
   "cell_type": "code",
   "execution_count": 7,
   "metadata": {},
   "outputs": [
    {
     "name": "stdout",
     "output_type": "stream",
     "text": [
      "{'train': {'component_update_freq': 100, 'num_epochs': 100, 'init_component_update_freq': 100, 'init_num_epochs': 100, 'save_freq': 10}, 'dataset': {'dataset_name': 'cifar100', 'num_tasks': 5, 'num_classes_per_task': 5, 'with_replacement': False, 'num_trains_per_class': 256, 'num_vals_per_class': -1, 'remap_labels': True}, 'net': {'name': 'cnn', 'depth': 4, 'channels': 50, 'conv_kernel': 3, 'maxpool_kernel': 2, 'padding': 1, 'dropout': 0.5, 'no_sparse_basis': True}, 'sharing_strategy': {'name': 'heuristic_data', 'num_coms_per_round': 2, 'budget': 20000, 'enforce_balance': False, 'shared_memory_size': 160000, 'comm_freq': 16, 'query_task_mode': 'current', 'pre_or_post_comm': 'post', 'sync_base': False, 'remove_ood_neighbors': True, 'min_task': 0}, 'seed': 0, 'algo': 'modular', 'job_name': 'cifar100_modular_numtrain_256', 'num_agents': 8, 'root_save_dir': 'heuristic_budget_20000_enforce_balance_False_mem_160000_experiment_results', 'parallel': True, 'num_init_tasks': 4, 'overwrite': False, 'agent': {'save_dir': '${root_save_dir}/${job_name}/${dataset.dataset_name}/${algo}/seed_${seed}', 'batch_size': 64, 'memory_size': 32, 'improvement_threshold': 0.05, 'use_contrastive': False, 'use_ood_separation_loss': False, 'lambda_ood': 2.0, 'delta_ood': 1.0}}\n",
      "Setting seed 0\n"
     ]
    },
    {
     "name": "stderr",
     "output_type": "stream",
     "text": [
      "INFO:root:Class sequence: [97 66 33 19 34  3 12  2 13 92 80  5 27 60 36 11  9 25 31 87 58 44 94 95\n",
      " 64 61 62 86 79 98 93 51 22 59 26 37 83 73 78  1 30 55 85 47 41 20 63 43\n",
      " 90 88 21 40 15 75  4  0 52 23 35 53 84 69 16 10 71 81  6 91 56 76 38 50\n",
      " 57 74 49 18 24 39 48 99  8 65 89 67 54 32 42 14 68 45 96 77 46 28 72 17\n",
      " 29 82  7 70]\n",
      "INFO:root:task 0 :(1280, 3, 32, 32) (469, 3, 32, 32) (500, 3, 32, 32)\n",
      "INFO:root:task 1 :(1280, 3, 32, 32) (527, 3, 32, 32) (500, 3, 32, 32)\n",
      "INFO:root:task 2 :(1280, 3, 32, 32) (499, 3, 32, 32) (500, 3, 32, 32)\n",
      "INFO:root:task 3 :(1280, 3, 32, 32) (532, 3, 32, 32) (500, 3, 32, 32)\n",
      "INFO:root:task 4 :(1280, 3, 32, 32) (495, 3, 32, 32) (500, 3, 32, 32)\n"
     ]
    },
    {
     "name": "stdout",
     "output_type": "stream",
     "text": [
      "labels: [97 66 33 19 34  3 12  2 13 92 80  5 27 60 36 11  9 25 31 87 58 44 94 95\n",
      " 64 61 62 86 79 98 93 51 22 59 26 37 83 73 78  1 30 55 85 47 41 20 63 43\n",
      " 90 88 21 40 15 75  4  0 52 23 35 53 84 69 16 10 71 81  6 91 56 76 38 50\n",
      " 57 74 49 18 24 39 48 99  8 65 89 67 54 32 42 14 68 45 96 77 46 28 72 17\n",
      " 29 82  7 70]\n"
     ]
    },
    {
     "name": "stderr",
     "output_type": "stream",
     "text": [
      "INFO:root:Class sequence: [13 55 29 67 64 47 58 19 30 38 15 16 34 35 73 96 25 89 63  5 44 21 28 60\n",
      " 80 86 36 95 83 40  2 24 37 61 62 57 53 79 27 82 65  4 22 45 78 33 32  9\n",
      " 90 56 46 48  7 59 41 93 98 69 51 74 68 72 71 39 54 18 91 76 70 11 10 99\n",
      " 77 52 87 31  6  1 84 43 85 42 12 94 26 88 17 49 75 92  8 97 66 50  0 23\n",
      " 20 81 14  3]\n",
      "INFO:root:task 0 :(1280, 3, 32, 32) (478, 3, 32, 32) (500, 3, 32, 32)\n",
      "INFO:root:task 1 :(1280, 3, 32, 32) (514, 3, 32, 32) (500, 3, 32, 32)\n",
      "INFO:root:task 2 :(1280, 3, 32, 32) (526, 3, 32, 32) (500, 3, 32, 32)\n",
      "INFO:root:task 3 :(1280, 3, 32, 32) (520, 3, 32, 32) (500, 3, 32, 32)\n",
      "INFO:root:task 4 :(1280, 3, 32, 32) (455, 3, 32, 32) (500, 3, 32, 32)\n"
     ]
    },
    {
     "name": "stdout",
     "output_type": "stream",
     "text": [
      "labels: [13 55 29 67 64 47 58 19 30 38 15 16 34 35 73 96 25 89 63  5 44 21 28 60\n",
      " 80 86 36 95 83 40  2 24 37 61 62 57 53 79 27 82 65  4 22 45 78 33 32  9\n",
      " 90 56 46 48  7 59 41 93 98 69 51 74 68 72 71 39 54 18 91 76 70 11 10 99\n",
      " 77 52 87 31  6  1 84 43 85 42 12 94 26 88 17 49 75 92  8 97 66 50  0 23\n",
      " 20 81 14  3]\n"
     ]
    },
    {
     "name": "stderr",
     "output_type": "stream",
     "text": [
      "INFO:root:Class sequence: [11 37 44 67 45 66 96  1 88  4  2 84 22 50 29 28 41 82 25  5  9 77 13 17\n",
      " 48 76 93 81 73 91 14 94 24 32 75 19 71 10 55 63 58 33 83 18 21  6 26 52\n",
      " 68  3 78 57 80 15 59 99 86 95 92 30  0  8 53 49 35 31 16 61 60 47 98 40\n",
      " 46 34 97 56 12 74 51 43 27 70 20 90 64 36 72 65 62 42 69  7 89 38 39 79\n",
      " 85 23 87 54]\n",
      "INFO:root:task 0 :(1280, 3, 32, 32) (503, 3, 32, 32) (500, 3, 32, 32)\n",
      "INFO:root:task 1 :(1280, 3, 32, 32) (491, 3, 32, 32) (500, 3, 32, 32)\n",
      "INFO:root:task 2 :(1280, 3, 32, 32) (468, 3, 32, 32) (500, 3, 32, 32)\n",
      "INFO:root:task 3 :(1280, 3, 32, 32) (514, 3, 32, 32) (500, 3, 32, 32)\n",
      "INFO:root:task 4 :(1280, 3, 32, 32) (519, 3, 32, 32) (500, 3, 32, 32)\n"
     ]
    },
    {
     "name": "stdout",
     "output_type": "stream",
     "text": [
      "labels: [11 37 44 67 45 66 96  1 88  4  2 84 22 50 29 28 41 82 25  5  9 77 13 17\n",
      " 48 76 93 81 73 91 14 94 24 32 75 19 71 10 55 63 58 33 83 18 21  6 26 52\n",
      " 68  3 78 57 80 15 59 99 86 95 92 30  0  8 53 49 35 31 16 61 60 47 98 40\n",
      " 46 34 97 56 12 74 51 43 27 70 20 90 64 36 72 65 62 42 69  7 89 38 39 79\n",
      " 85 23 87 54]\n"
     ]
    },
    {
     "name": "stderr",
     "output_type": "stream",
     "text": [
      "INFO:root:Class sequence: [63  2 24 65 38 56 94 61 75 55 25 96 86 32 11 64 30 67 80 27 41 52 20  0\n",
      " 97 50 40 43 36 17 33 34 53 29 44 16 84 15 90 62 18 51 79 88 95 49 35 76\n",
      " 59 31  8 14 68  9 71  6 73  5 66 28 72  1 13 93 60 12 78 26 98  4 46 39\n",
      "  3 48 37 69 70 87 83 91 42 47 45 81 92 19 74 89 22 10 82 23 77 85 99 58\n",
      " 21 54  7 57]\n",
      "INFO:root:task 0 :(1280, 3, 32, 32) (501, 3, 32, 32) (500, 3, 32, 32)\n",
      "INFO:root:task 1 :(1280, 3, 32, 32) (513, 3, 32, 32) (500, 3, 32, 32)\n",
      "INFO:root:task 2 :(1280, 3, 32, 32) (492, 3, 32, 32) (500, 3, 32, 32)\n",
      "INFO:root:task 3 :(1280, 3, 32, 32) (495, 3, 32, 32) (500, 3, 32, 32)\n",
      "INFO:root:task 4 :(1280, 3, 32, 32) (521, 3, 32, 32) (500, 3, 32, 32)\n"
     ]
    },
    {
     "name": "stdout",
     "output_type": "stream",
     "text": [
      "labels: [63  2 24 65 38 56 94 61 75 55 25 96 86 32 11 64 30 67 80 27 41 52 20  0\n",
      " 97 50 40 43 36 17 33 34 53 29 44 16 84 15 90 62 18 51 79 88 95 49 35 76\n",
      " 59 31  8 14 68  9 71  6 73  5 66 28 72  1 13 93 60 12 78 26 98  4 46 39\n",
      "  3 48 37 69 70 87 83 91 42 47 45 81 92 19 74 89 22 10 82 23 77 85 99 58\n",
      " 21 54  7 57]\n"
     ]
    },
    {
     "name": "stderr",
     "output_type": "stream",
     "text": [
      "INFO:root:Class sequence: [ 6 30 52 18 83 48  1 71 97 53  5 31 72 49 11 40 59 27 14 75 63 41 93 74\n",
      " 44  7 77 87 33 51 28 43 24 69 54 42 19 17 68  8  3 73 46 22  4 92 76 89\n",
      " 78 56 61 91 50 67 45  0 36 99 79 64 96 21 29 32 98 70 88 57 39 47 12 81\n",
      " 10  2 25 37 60 20 16 86  9 62 55 58 94 23 13 35 90 80 34 84 15 95 82 85\n",
      " 65 26 38 66]\n",
      "INFO:root:task 0 :(1280, 3, 32, 32) (506, 3, 32, 32) (500, 3, 32, 32)\n",
      "INFO:root:task 1 :(1280, 3, 32, 32) (519, 3, 32, 32) (500, 3, 32, 32)\n",
      "INFO:root:task 2 :(1280, 3, 32, 32) (469, 3, 32, 32) (500, 3, 32, 32)\n",
      "INFO:root:task 3 :(1280, 3, 32, 32) (498, 3, 32, 32) (500, 3, 32, 32)\n",
      "INFO:root:task 4 :(1280, 3, 32, 32) (506, 3, 32, 32) (500, 3, 32, 32)\n"
     ]
    },
    {
     "name": "stdout",
     "output_type": "stream",
     "text": [
      "labels: [ 6 30 52 18 83 48  1 71 97 53  5 31 72 49 11 40 59 27 14 75 63 41 93 74\n",
      " 44  7 77 87 33 51 28 43 24 69 54 42 19 17 68  8  3 73 46 22  4 92 76 89\n",
      " 78 56 61 91 50 67 45  0 36 99 79 64 96 21 29 32 98 70 88 57 39 47 12 81\n",
      " 10  2 25 37 60 20 16 86  9 62 55 58 94 23 13 35 90 80 34 84 15 95 82 85\n",
      " 65 26 38 66]\n"
     ]
    },
    {
     "name": "stderr",
     "output_type": "stream",
     "text": [
      "INFO:root:Class sequence: [31  6 72  5 12 20 71 70 26 66 52 42  2 47 56 86 21 33 76 16 80 98 97 79\n",
      " 10 84 55  8 23 83 77 68 93 25 27 90 24 43 91 40 96 28  7 49 35 15 48 50\n",
      " 18 53  0 92 58 34 95 32  9 64 11 60 73 14 39 19 51 88 99 29 13 87 41 69\n",
      " 37  4  3 63 67 65 59 62 54 36 61 94 89 75 74 30 78 46 85 22 17 81 57 44\n",
      " 45 82 38  1]\n",
      "INFO:root:task 0 :(1280, 3, 32, 32) (483, 3, 32, 32) (500, 3, 32, 32)\n",
      "INFO:root:task 1 :(1280, 3, 32, 32) (495, 3, 32, 32) (500, 3, 32, 32)\n",
      "INFO:root:task 2 :(1280, 3, 32, 32) (505, 3, 32, 32) (500, 3, 32, 32)\n",
      "INFO:root:task 3 :(1280, 3, 32, 32) (527, 3, 32, 32) (500, 3, 32, 32)\n",
      "INFO:root:task 4 :(1280, 3, 32, 32) (527, 3, 32, 32) (500, 3, 32, 32)\n"
     ]
    },
    {
     "name": "stdout",
     "output_type": "stream",
     "text": [
      "labels: [31  6 72  5 12 20 71 70 26 66 52 42  2 47 56 86 21 33 76 16 80 98 97 79\n",
      " 10 84 55  8 23 83 77 68 93 25 27 90 24 43 91 40 96 28  7 49 35 15 48 50\n",
      " 18 53  0 92 58 34 95 32  9 64 11 60 73 14 39 19 51 88 99 29 13 87 41 69\n",
      " 37  4  3 63 67 65 59 62 54 36 61 94 89 75 74 30 78 46 85 22 17 81 57 44\n",
      " 45 82 38  1]\n"
     ]
    },
    {
     "name": "stderr",
     "output_type": "stream",
     "text": [
      "INFO:root:Class sequence: [ 6 82 28 87 50 48  2  1 85 73 62 18 67 45 79 71 44 70  7 35 33 22  3 84\n",
      " 14 58 24 91 83 72 59 90 41 51 43 25 29 92 63 56 46 47 26  0 39 17 34 97\n",
      " 30 53 36 64 81 93 57 20 55 60 31 12 11 54  4 94 49 68 78 38 98 10 19 66\n",
      " 96 37  9 69 76 13 89  8 74 23 15  5 52 61 95 65 32 21 42 40 27 16 99 77\n",
      " 75 88 80 86]\n",
      "INFO:root:task 0 :(1280, 3, 32, 32) (500, 3, 32, 32) (500, 3, 32, 32)\n",
      "INFO:root:task 1 :(1280, 3, 32, 32) (489, 3, 32, 32) (500, 3, 32, 32)\n",
      "INFO:root:task 2 :(1280, 3, 32, 32) (502, 3, 32, 32) (500, 3, 32, 32)\n",
      "INFO:root:task 3 :(1280, 3, 32, 32) (507, 3, 32, 32) (500, 3, 32, 32)\n",
      "INFO:root:task 4 :(1280, 3, 32, 32) (507, 3, 32, 32) (500, 3, 32, 32)\n"
     ]
    },
    {
     "name": "stdout",
     "output_type": "stream",
     "text": [
      "labels: [ 6 82 28 87 50 48  2  1 85 73 62 18 67 45 79 71 44 70  7 35 33 22  3 84\n",
      " 14 58 24 91 83 72 59 90 41 51 43 25 29 92 63 56 46 47 26  0 39 17 34 97\n",
      " 30 53 36 64 81 93 57 20 55 60 31 12 11 54  4 94 49 68 78 38 98 10 19 66\n",
      " 96 37  9 69 76 13 89  8 74 23 15  5 52 61 95 65 32 21 42 40 27 16 99 77\n",
      " 75 88 80 86]\n"
     ]
    },
    {
     "name": "stderr",
     "output_type": "stream",
     "text": [
      "INFO:root:Class sequence: [66 65 15 81 88 34 41  4 33 29 76 82 38 94 85 57 86 11 95 78 77 67 53 75\n",
      " 27 99 91 21 32  6 60 96 44 46 70 68 74 63 72 35 56  2 62 31 13  1 42  9\n",
      " 80 58 83 25 97 17 73 16 37 71 54 52 93 48 19 47 98  7 45 14 23 18 40 64\n",
      " 69  5 87 59 61 22 43 10 26 90 89  8 79 55 49 24 20 92 50  3  0 51 30 36\n",
      " 28 39 84 12]\n",
      "INFO:root:task 0 :(1280, 3, 32, 32) (501, 3, 32, 32) (500, 3, 32, 32)\n",
      "INFO:root:task 1 :(1280, 3, 32, 32) (494, 3, 32, 32) (500, 3, 32, 32)\n",
      "INFO:root:task 2 :(1280, 3, 32, 32) (470, 3, 32, 32) (500, 3, 32, 32)\n",
      "INFO:root:task 3 :(1280, 3, 32, 32) (539, 3, 32, 32) (500, 3, 32, 32)\n",
      "INFO:root:task 4 :(1280, 3, 32, 32) (499, 3, 32, 32) (500, 3, 32, 32)\n",
      "INFO:root:Agent: node_id: 0, seed: 0\n",
      "INFO:root:Agent: node_id: 1, seed: 1000\n",
      "INFO:root:Agent: node_id: 2, seed: 2000\n",
      "INFO:root:Agent: node_id: 3, seed: 3000\n",
      "INFO:root:Agent: node_id: 4, seed: 4000\n",
      "INFO:root:Agent: node_id: 5, seed: 5000\n",
      "INFO:root:Agent: node_id: 6, seed: 6000\n",
      "INFO:root:Agent: node_id: 7, seed: 7000\n",
      "INFO:root:Created fleet with 8 agents\n",
      "INFO:root:Adding neighbors...\n",
      "INFO:root:Fleet initialized\n"
     ]
    },
    {
     "name": "stdout",
     "output_type": "stream",
     "text": [
      "labels: [66 65 15 81 88 34 41  4 33 29 76 82 38 94 85 57 86 11 95 78 77 67 53 75\n",
      " 27 99 91 21 32  6 60 96 44 46 70 68 74 63 72 35 56  2 62 31 13  1 42  9\n",
      " 80 58 83 25 97 17 73 16 37 71 54 52 93 48 19 47 98  7 45 14 23 18 40 64\n",
      " 69  5 87 59 61 22 43 10 26 90 89  8 79 55 49 24 20 92 50  3  0 51 30 36\n",
      " 28 39 84 12]\n",
      "i_size 32\n",
      "num_classes 5\n",
      "net_cfg {'name': 'cnn', 'depth': 4, 'channels': 50, 'conv_kernel': 3, 'maxpool_kernel': 2, 'padding': 1, 'dropout': 0.5, 'no_sparse_basis': True, 'i_size': 32, 'num_classes': 5, 'num_tasks': 5, 'num_init_tasks': 4, 'use_contrastive': False}\n",
      "<class 'shell.learners.er_dynamic.CompositionalDynamicER'>\n",
      "Setting seed 0\n",
      "Setting seed 1000\n",
      "Setting seed 2000\n",
      "Setting seed 3000\n",
      "Setting seed 4000\n",
      "Setting seed 5000\n",
      "Setting seed 6000\n",
      "Setting seed 7000\n"
     ]
    }
   ],
   "source": [
    "save_dir = get_save_dir(experiment_folder, experiment_name,\n",
    "                        dataset, algo, num_trains_per_class, use_contrastive, seed)\n",
    "\n",
    "fleet = setup_fleet(save_dir, task_id=task_id, parallel=False, modify_cfg=modify_cfg)\n",
    "fleet.change_save_dir('debug_heuristic_data')"
   ]
  },
  {
   "cell_type": "code",
   "execution_count": 8,
   "metadata": {},
   "outputs": [
    {
     "name": "stdout",
     "output_type": "stream",
     "text": [
      "0 {}\n",
      "1 {}\n",
      "2 {}\n",
      "3 {}\n",
      "4 {}\n",
      "5 {}\n",
      "6 {}\n",
      "7 {}\n"
     ]
    }
   ],
   "source": [
    "for agent in fleet.agents:\n",
    "    print(agent.node_id, {t: len(r) for t, r in agent.agent.shared_replay_buffers.items()})\n",
    "    # Xt, yt, _ = agent.agent.shared_replay_buffers[task_id].get_tensors()\n",
    "    # for c in yt.unique():\n",
    "    #     print('\\t', c.item(), Xt[yt == c].shape)"
   ]
  },
  {
   "cell_type": "code",
   "execution_count": 9,
   "metadata": {},
   "outputs": [
    {
     "data": {
      "text/plain": [
       "set()"
      ]
     },
     "execution_count": 9,
     "metadata": {},
     "output_type": "execute_result"
    }
   ],
   "source": [
    "set(fleet.agents[0].dataset.class_sequence) - set(fleet.agents[1].dataset.class_sequence)"
   ]
  },
  {
   "cell_type": "code",
   "execution_count": 10,
   "metadata": {},
   "outputs": [
    {
     "name": "stdout",
     "output_type": "stream",
     "text": [
      "0 cifar100 [97 66 33 19 34  3 12  2 13 92 80  5 27 60 36 11  9 25 31 87 58 44 94 95\n",
      " 64 61 62 86 79 98 93 51 22 59 26 37 83 73 78  1 30 55 85 47 41 20 63 43\n",
      " 90 88 21 40 15 75  4  0 52 23 35 53 84 69 16 10 71 81  6 91 56 76 38 50\n",
      " 57 74 49 18 24 39 48 99  8 65 89 67 54 32 42 14 68 45 96 77 46 28 72 17\n",
      " 29 82  7 70]\n",
      "1 cifar100 [13 55 29 67 64 47 58 19 30 38 15 16 34 35 73 96 25 89 63  5 44 21 28 60\n",
      " 80 86 36 95 83 40  2 24 37 61 62 57 53 79 27 82 65  4 22 45 78 33 32  9\n",
      " 90 56 46 48  7 59 41 93 98 69 51 74 68 72 71 39 54 18 91 76 70 11 10 99\n",
      " 77 52 87 31  6  1 84 43 85 42 12 94 26 88 17 49 75 92  8 97 66 50  0 23\n",
      " 20 81 14  3]\n",
      "2 cifar100 [11 37 44 67 45 66 96  1 88  4  2 84 22 50 29 28 41 82 25  5  9 77 13 17\n",
      " 48 76 93 81 73 91 14 94 24 32 75 19 71 10 55 63 58 33 83 18 21  6 26 52\n",
      " 68  3 78 57 80 15 59 99 86 95 92 30  0  8 53 49 35 31 16 61 60 47 98 40\n",
      " 46 34 97 56 12 74 51 43 27 70 20 90 64 36 72 65 62 42 69  7 89 38 39 79\n",
      " 85 23 87 54]\n",
      "3 cifar100 [63  2 24 65 38 56 94 61 75 55 25 96 86 32 11 64 30 67 80 27 41 52 20  0\n",
      " 97 50 40 43 36 17 33 34 53 29 44 16 84 15 90 62 18 51 79 88 95 49 35 76\n",
      " 59 31  8 14 68  9 71  6 73  5 66 28 72  1 13 93 60 12 78 26 98  4 46 39\n",
      "  3 48 37 69 70 87 83 91 42 47 45 81 92 19 74 89 22 10 82 23 77 85 99 58\n",
      " 21 54  7 57]\n",
      "4 cifar100 [ 6 30 52 18 83 48  1 71 97 53  5 31 72 49 11 40 59 27 14 75 63 41 93 74\n",
      " 44  7 77 87 33 51 28 43 24 69 54 42 19 17 68  8  3 73 46 22  4 92 76 89\n",
      " 78 56 61 91 50 67 45  0 36 99 79 64 96 21 29 32 98 70 88 57 39 47 12 81\n",
      " 10  2 25 37 60 20 16 86  9 62 55 58 94 23 13 35 90 80 34 84 15 95 82 85\n",
      " 65 26 38 66]\n",
      "5 cifar100 [31  6 72  5 12 20 71 70 26 66 52 42  2 47 56 86 21 33 76 16 80 98 97 79\n",
      " 10 84 55  8 23 83 77 68 93 25 27 90 24 43 91 40 96 28  7 49 35 15 48 50\n",
      " 18 53  0 92 58 34 95 32  9 64 11 60 73 14 39 19 51 88 99 29 13 87 41 69\n",
      " 37  4  3 63 67 65 59 62 54 36 61 94 89 75 74 30 78 46 85 22 17 81 57 44\n",
      " 45 82 38  1]\n",
      "6 cifar100 [ 6 82 28 87 50 48  2  1 85 73 62 18 67 45 79 71 44 70  7 35 33 22  3 84\n",
      " 14 58 24 91 83 72 59 90 41 51 43 25 29 92 63 56 46 47 26  0 39 17 34 97\n",
      " 30 53 36 64 81 93 57 20 55 60 31 12 11 54  4 94 49 68 78 38 98 10 19 66\n",
      " 96 37  9 69 76 13 89  8 74 23 15  5 52 61 95 65 32 21 42 40 27 16 99 77\n",
      " 75 88 80 86]\n",
      "7 cifar100 [66 65 15 81 88 34 41  4 33 29 76 82 38 94 85 57 86 11 95 78 77 67 53 75\n",
      " 27 99 91 21 32  6 60 96 44 46 70 68 74 63 72 35 56  2 62 31 13  1 42  9\n",
      " 80 58 83 25 97 17 73 16 37 71 54 52 93 48 19 47 98  7 45 14 23 18 40 64\n",
      " 69  5 87 59 61 22 43 10 26 90 89  8 79 55 49 24 20 92 50  3  0 51 30 36\n",
      " 28 39 84 12]\n"
     ]
    }
   ],
   "source": [
    "for agent in fleet.agents:\n",
    "    print(agent.node_id, agent.dataset.name, agent.dataset.class_sequence)"
   ]
  },
  {
   "cell_type": "code",
   "execution_count": 11,
   "metadata": {},
   "outputs": [
    {
     "name": "stdout",
     "output_type": "stream",
     "text": [
      "425\n",
      "\t 0 torch.Size([239, 3, 32, 32])\n",
      "\t 1 torch.Size([30, 3, 32, 32])\n",
      "\t 2 torch.Size([9, 3, 32, 32])\n",
      "\t 3 torch.Size([14, 3, 32, 32])\n",
      "\t 4 torch.Size([20, 3, 32, 32])\n",
      "425\n",
      "\t 0 torch.Size([239, 3, 32, 32])\n",
      "\t 1 torch.Size([30, 3, 32, 32])\n",
      "\t 2 torch.Size([9, 3, 32, 32])\n",
      "\t 3 torch.Size([14, 3, 32, 32])\n",
      "\t 4 torch.Size([20, 3, 32, 32])\n"
     ]
    }
   ],
   "source": [
    "for _ in range(2):\n",
    "    fleet.communicate(task_id=task_id, end_epoch=None, comm_freq=None, num_epochs=None)\n",
    "    print(len(fleet.agents[0].agent.shared_replay_buffers[task_id]))\n",
    "    Xt, yt, _ = agent.agent.shared_replay_buffers[task_id].get_tensors()\n",
    "    for c in yt.unique():\n",
    "        print('\\t', c.item(), Xt[yt == c].shape)"
   ]
  },
  {
   "cell_type": "code",
   "execution_count": null,
   "metadata": {},
   "outputs": [],
   "source": [
    "agent = fleet.agents[0]\n",
    "data = agent.get_consolidated_data()\n",
    "for c in data.keys():\n",
    "    print(c, get_local_label_for_task(c, task_id, agent.dataset.class_sequence,\n",
    "                                      agent.dataset.num_classes_per_task))"
   ]
  },
  {
   "cell_type": "code",
   "execution_count": null,
   "metadata": {},
   "outputs": [],
   "source": [
    "X = data[58]\n",
    "Y = torch.tensor([0] * X.size(0))\n",
    "agent.agent.shared_replay_buffers[task_id].push(X, Y)"
   ]
  },
  {
   "cell_type": "code",
   "execution_count": null,
   "metadata": {},
   "outputs": [],
   "source": [
    "Xt, yt, _ = agent.agent.shared_replay_buffers[task_id].get_tensors()"
   ]
  },
  {
   "cell_type": "code",
   "execution_count": null,
   "metadata": {},
   "outputs": [],
   "source": [
    "yt"
   ]
  },
  {
   "cell_type": "code",
   "execution_count": null,
   "metadata": {},
   "outputs": [],
   "source": [
    "{k: torch.cat(v, dim=0).size(0) for k, v in fleet.agents[1].available_data.items()}"
   ]
  },
  {
   "cell_type": "code",
   "execution_count": null,
   "metadata": {},
   "outputs": [],
   "source": []
  },
  {
   "cell_type": "code",
   "execution_count": null,
   "metadata": {},
   "outputs": [],
   "source": [
    "d = fleet.agents[0].dataset\n",
    "d.class_sequence[task_id * d.num_classes_per_task : (task_id + 1) * d.num_classes_per_task]"
   ]
  },
  {
   "cell_type": "code",
   "execution_count": null,
   "metadata": {},
   "outputs": [],
   "source": [
    "d = fleet.agents[1].dataset\n",
    "d.class_sequence[task_id * d.num_classes_per_task : (task_id + 1) * d.num_classes_per_task]"
   ]
  },
  {
   "cell_type": "code",
   "execution_count": null,
   "metadata": {},
   "outputs": [],
   "source": [
    "len(d.trainset[task_id])"
   ]
  },
  {
   "cell_type": "code",
   "execution_count": null,
   "metadata": {},
   "outputs": [],
   "source": [
    "fleet.agents[1].dataset.class_sequence"
   ]
  },
  {
   "cell_type": "code",
   "execution_count": null,
   "metadata": {},
   "outputs": [],
   "source": [
    "data= fleet.agents[3].available_data\n",
    "# fig, ax = plt.subplots(1, len(data), figsize=(10, 10))\n",
    "for i, (c, X) in enumerate(data.items()):\n",
    "    X = torch.cat(X, dim=0)\n",
    "    print(c, X.shape)\n",
    "    # ax[i].imshow(make_grid(X).permute(1, 2, 0))"
   ]
  },
  {
   "cell_type": "code",
   "execution_count": null,
   "metadata": {},
   "outputs": [],
   "source": [
    "for agent in fleet.agents:\n",
    "    print(agent.node_id, {t: len(r) for t, r in agent.agent.shared_replay_buffers.items()})\n",
    "    if len(agent.agent.shared_replay_buffers[task_id]) == 0:\n",
    "        print('\\t !!!NO DATA!!!!')\n",
    "        continue\n",
    "    Xt, yt, _ = agent.agent.shared_replay_buffers[task_id].get_tensors()\n",
    "    for c in yt.unique():\n",
    "        print('\\t', c.item(), Xt[yt == c].shape)"
   ]
  },
  {
   "cell_type": "code",
   "execution_count": null,
   "metadata": {},
   "outputs": [],
   "source": [
    "agent = fleet.agents[0]\n",
    "Xt, yt, _ = agent.agent.shared_replay_buffers[task_id].get_tensors()\n",
    "\n",
    "plt.imshow(make_grid(Xt).permute(1, 2, 0));\n",
    "print(yt)"
   ]
  },
  {
   "cell_type": "code",
   "execution_count": null,
   "metadata": {},
   "outputs": [],
   "source": [
    "N = 20\n",
    "Xt, yt = agent.dataset.valset[task_id].tensors\n",
    "\n",
    "plt.imshow(make_grid(Xt[:N]).permute(1, 2, 0));\n",
    "print(yt[:N])"
   ]
  },
  {
   "cell_type": "code",
   "execution_count": null,
   "metadata": {},
   "outputs": [],
   "source": [
    "agent = fleet.agents[0]\n",
    "Xt, yt, _ = agent.agent.shared_replay_buffers[task_id].get_tensors()\n",
    "\n",
    "plt.imshow(make_grid(Xt).permute(1, 2, 0));\n",
    "print(yt)"
   ]
  },
  {
   "cell_type": "code",
   "execution_count": null,
   "metadata": {},
   "outputs": [],
   "source": []
  }
 ],
 "metadata": {
  "kernelspec": {
   "display_name": "shell",
   "language": "python",
   "name": "python3"
  },
  "language_info": {
   "codemirror_mode": {
    "name": "ipython",
    "version": 3
   },
   "file_extension": ".py",
   "mimetype": "text/x-python",
   "name": "python",
   "nbconvert_exporter": "python",
   "pygments_lexer": "ipython3",
   "version": "3.10.9"
  }
 },
 "nbformat": 4,
 "nbformat_minor": 2
}
