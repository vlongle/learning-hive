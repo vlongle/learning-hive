{
 "cells": [
  {
   "cell_type": "code",
   "execution_count": 1,
   "metadata": {},
   "outputs": [],
   "source": [
    "import os\n",
    "os.chdir(\"../..\")"
   ]
  },
  {
   "cell_type": "code",
   "execution_count": 2,
   "metadata": {},
   "outputs": [],
   "source": [
    "import omegaconf\n",
    "from shell.utils.experiment_utils import *\n",
    "from shell.utils.metric import *\n",
    "import matplotlib.pyplot as plt\n",
    "from shell.fleet.network import TopologyGenerator\n",
    "import matplotlib.pyplot as plt\n",
    "from sklearn.manifold import TSNE\n",
    "import numpy as np\n",
    "import pandas as pd\n",
    "from shell.fleet.fleet import Agent, Fleet\n",
    "from shell.fleet.grad.gradient_fleet import GradFleet\n",
    "from shell.fleet.data.data_utilize import *\n",
    "from shell.fleet.data.send import *\n",
    "from shell.fleet.grad.monograd import *\n",
    "\n",
    "from sklearn.manifold import TSNE\n",
    "from torchvision.utils import make_grid\n",
    "import logging\n",
    "logging.basicConfig(level=logging.INFO)"
   ]
  },
  {
   "cell_type": "code",
   "execution_count": 3,
   "metadata": {},
   "outputs": [],
   "source": [
    "seed_everything(0)"
   ]
  },
  {
   "cell_type": "code",
   "execution_count": 4,
   "metadata": {},
   "outputs": [
    {
     "data": {
      "image/png": "[encoded data removed]",
      "text/plain": [
       "<Figure size 640x480 with 1 Axes>"
      ]
     },
     "metadata": {},
     "output_type": "display_data"
    }
   ],
   "source": [
    "topo_gen = TopologyGenerator(num_nodes=10, edge_drop_prob=0.99)\n",
    "G_connected_random = topo_gen.generate_connected_random()\n",
    "TopologyGenerator.plot_graph(G_connected_random, draw_labels=True)"
   ]
  },
  {
   "cell_type": "code",
   "execution_count": 5,
   "metadata": {},
   "outputs": [],
   "source": [
    "use_contrastive = True\n",
    "num_tasks = 5\n",
    "num_init_tasks = 3\n",
    "dataset_name = \"mnist\"\n",
    "num_epochs = 20\n",
    "com_frequency = 5"
   ]
  },
  {
   "cell_type": "code",
   "execution_count": 6,
   "metadata": {},
   "outputs": [
    {
     "name": "stderr",
     "output_type": "stream",
     "text": [
      "INFO:root:Class sequence: [6 4 1 5 3 7 0 8 9 2]\n",
      "INFO:root:task 0 :(128, 1, 28, 28)\n",
      "INFO:root:task 1 :(128, 1, 28, 28)\n",
      "INFO:root:task 2 :(128, 1, 28, 28)\n",
      "INFO:root:task 3 :(128, 1, 28, 28)\n",
      "INFO:root:task 4 :(128, 1, 28, 28)\n",
      "INFO:root:Class sequence: [4 3 0 2 7 5 1 8 6 9]\n",
      "INFO:root:task 0 :(128, 1, 28, 28)\n",
      "INFO:root:task 1 :(128, 1, 28, 28)\n",
      "INFO:root:task 2 :(128, 1, 28, 28)\n",
      "INFO:root:task 3 :(128, 1, 28, 28)\n",
      "INFO:root:task 4 :(128, 1, 28, 28)\n",
      "INFO:root:Class sequence: [3 2 6 7 4 5 8 0 1 9]\n",
      "INFO:root:task 0 :(128, 1, 28, 28)\n",
      "INFO:root:task 1 :(128, 1, 28, 28)\n",
      "INFO:root:task 2 :(128, 1, 28, 28)\n",
      "INFO:root:task 3 :(128, 1, 28, 28)\n",
      "INFO:root:task 4 :(128, 1, 28, 28)\n",
      "INFO:root:Class sequence: [4 0 1 5 9 2 6 3 7 8]\n",
      "INFO:root:task 0 :(128, 1, 28, 28)\n",
      "INFO:root:task 1 :(128, 1, 28, 28)\n",
      "INFO:root:task 2 :(128, 1, 28, 28)\n",
      "INFO:root:task 3 :(128, 1, 28, 28)\n",
      "INFO:root:task 4 :(128, 1, 28, 28)\n"
     ]
    }
   ],
   "source": [
    "data_cfg = {\n",
    "    \"dataset_name\": dataset_name,\n",
    "    \"num_tasks\": num_tasks,\n",
    "    \"num_train_per_task\": 128,\n",
    "    \"num_val_per_task\": 102,\n",
    "    'remap_labels': True,\n",
    "    'use_contrastive': use_contrastive,\n",
    "}\n",
    "\n",
    "joint_dataset = get_dataset(**data_cfg)\n",
    "\n",
    "dataset = get_dataset(**data_cfg)\n",
    "dataset2 = get_dataset(**data_cfg)\n",
    "dataset3 = get_dataset(**data_cfg)"
   ]
  },
  {
   "cell_type": "code",
   "execution_count": null,
   "metadata": {},
   "outputs": [],
   "source": [
    "net_cfg = {\n",
    "    'depth': num_init_tasks,\n",
    "    'layer_size': 64,\n",
    "    'num_init_tasks': num_init_tasks,\n",
    "    'i_size': 28,\n",
    "    'num_classes': 2,\n",
    "    'num_tasks': 4,\n",
    "    'dropout': 0.0,\n",
    "}\n",
    "\n",
    "agent_cfg = {\n",
    "    'memory_size': 64,\n",
    "    'use_contrastive': use_contrastive,\n",
    "    'save_dir': 'test',\n",
    "    'dataset_name': dataset_name,\n",
    "}"
   ]
  },
  {
   "cell_type": "code",
   "execution_count": null,
   "metadata": {},
   "outputs": [],
   "source": [
    "NetCls = MLP\n",
    "LearnerCls = NoComponentsER\n",
    "\n",
    "# NetCls = MLPSoftLLDynamic\n",
    "# LearnerCls = CompositionalDynamicER\n",
    "\n",
    "AgentCls = ModelSyncAgent\n",
    "sharing_cfg = DictConfig({\n",
    "    'num_coms_per_round': 1,\n",
    "    \"comm_freq\": com_frequency,\n",
    "    \"log_freq\": 1,\n",
    "\n",
    "})\n",
    "train_cfg = {\n",
    "    \"num_epochs\": num_epochs,\n",
    "}"
   ]
  },
  {
   "cell_type": "code",
   "execution_count": null,
   "metadata": {},
   "outputs": [],
   "source": [
    "datasets = [dataset, dataset2, dataset3]\n",
    "g = TopologyGenerator(num_nodes=len(datasets)).generate_fully_connected()\n",
    "fleet = GradFleet(g, 0, datasets,\n",
    "              sharing_cfg, AgentCls, NetCls, LearnerCls, net_cfg, agent_cfg, \n",
    "              train_cfg,\n",
    "              joint_dataset)"
   ]
  },
  {
   "cell_type": "code",
   "execution_count": null,
   "metadata": {},
   "outputs": [],
   "source": [
    "fleet.train_and_comm(0)"
   ]
  },
  {
   "cell_type": "code",
   "execution_count": null,
   "metadata": {},
   "outputs": [],
   "source": [
    "fleet.agents[0].net.components[0].bias"
   ]
  },
  {
   "cell_type": "code",
   "execution_count": null,
   "metadata": {},
   "outputs": [],
   "source": [
    "fleet.agents[2].net.components[0].bias"
   ]
  },
  {
   "cell_type": "code",
   "execution_count": null,
   "metadata": {},
   "outputs": [],
   "source": [
    "# original_num_epochs = 100\n",
    "# communication_frequency = 100\n",
    "\n",
    "\n",
    "# def communicate():\n",
    "#     print('commute')\n",
    "# for start_epoch in range(0, original_num_epochs, communication_frequency):\n",
    "#     end_epoch = min(start_epoch + communication_frequency, original_num_epochs)\n",
    "#     adjusted_num_epochs = end_epoch - start_epoch  # adjust num_epochs\n",
    "#     print(start_epoch, end_epoch, adjusted_num_epochs)\n",
    "#     communicate()"
   ]
  },
  {
   "cell_type": "code",
   "execution_count": null,
   "metadata": {},
   "outputs": [],
   "source": []
  }
 ],
 "metadata": {
  "kernelspec": {
   "display_name": "shell",
   "language": "python",
   "name": "python3"
  },
  "language_info": {
   "codemirror_mode": {
    "name": "ipython",
    "version": 3
   },
   "file_extension": ".py",
   "mimetype": "text/x-python",
   "name": "python",
   "nbconvert_exporter": "python",
   "pygments_lexer": "ipython3",
   "version": "3.10.9"
  },
  "orig_nbformat": 4
 },
 "nbformat": 4,
 "nbformat_minor": 2
}
