{
 "cells": [
  {
   "cell_type": "code",
   "execution_count": 1,
   "metadata": {},
   "outputs": [],
   "source": [
    "%load_ext autoreload\n",
    "%autoreload 2"
   ]
  },
  {
   "cell_type": "code",
   "execution_count": 2,
   "metadata": {},
   "outputs": [],
   "source": [
    "import os\n",
    "os.chdir(\"../../..\")"
   ]
  },
  {
   "cell_type": "code",
   "execution_count": 3,
   "metadata": {},
   "outputs": [],
   "source": [
    "import omegaconf\n",
    "from shell.utils.experiment_utils import *\n",
    "from shell.fleet.utils.fleet_utils import *\n",
    "from shell.utils.metric import *\n",
    "import matplotlib.pyplot as plt\n",
    "from shell.fleet.network import TopologyGenerator\n",
    "from sklearn.manifold import TSNE\n",
    "import numpy as np\n",
    "import pandas as pd\n",
    "from shell.fleet.fleet import Agent, Fleet\n",
    "from shell.fleet.data.data_utilize import *\n",
    "from shell.fleet.data.recv import *\n",
    "\n",
    "from sklearn.manifold import TSNE\n",
    "from torchvision.utils import make_grid\n",
    "from shell.fleet.data.data_utilize import *\n",
    "import logging\n",
    "from sklearn.metrics import f1_score\n",
    "import os\n",
    "from shell.fleet.data.recv_utils import *\n",
    "from tqdm import tqdm\n",
    "import argparse\n",
    "from functools import partial\n",
    "from torchvision.utils import make_grid\n",
    "from shell.utils.oodloss import OODSeparationLoss\n",
    "from pythresh.thresholds.dsn import DSN\n",
    "from pythresh.thresholds.aucp import AUCP\n",
    "from pythresh.thresholds.boot import BOOT\n",
    "from pythresh.thresholds.zscore import ZSCORE\n",
    "from sklearn.metrics import accuracy_score, precision_score, recall_score, f1_score\n",
    "from collections import defaultdict\n",
    "\n",
    "logging.basicConfig(level=logging.INFO)"
   ]
  },
  {
   "cell_type": "code",
   "execution_count": 4,
   "metadata": {},
   "outputs": [
    {
     "name": "stderr",
     "output_type": "stream",
     "text": [
      "INFO:root:Class sequence: [5 0 4 3 4 6 4 3 8 0 1 0 5 9 6 4 9 0 3 0]\n",
      "INFO:root:task 0 :(128, 1, 28, 28)\n"
     ]
    },
    {
     "name": "stderr",
     "output_type": "stream",
     "text": [
      "INFO:root:task 1 :(128, 1, 28, 28)\n",
      "INFO:root:task 2 :(128, 1, 28, 28)\n",
      "INFO:root:task 3 :(128, 1, 28, 28)\n"
     ]
    },
    {
     "name": "stdout",
     "output_type": "stream",
     "text": [
      "{'train': {'component_update_freq': 100, 'num_epochs': 100, 'init_component_update_freq': 100, 'init_num_epochs': 100, 'save_freq': 20}, 'dataset': {'dataset_name': 'mnist', 'num_tasks': 10, 'num_classes_per_task': 2, 'with_replacement': True, 'num_trains_per_class': 64, 'num_vals_per_class': 50, 'remap_labels': True}, 'net': {'name': 'mlp', 'depth': 4, 'layer_size': 64, 'dropout': 0.0}, 'sharing_strategy': {'name': 'no_sharing', 'num_coms_per_round': 0}, 'seed': 0, 'algo': 'modular', 'job_name': 'mnist_modular_numtrain_64_contrastive', 'num_agents': 8, 'root_save_dir': 'experiment_results/vanilla_fix_bug_compute_loss_encodev2', 'parallel': True, 'num_init_tasks': 4, 'agent': {'save_dir': '${root_save_dir}/${job_name}/${dataset.dataset_name}/${algo}/seed_${seed}', 'batch_size': 64, 'memory_size': 32, 'improvement_threshold': 0.05, 'use_contrastive': True}}\n"
     ]
    },
    {
     "name": "stderr",
     "output_type": "stream",
     "text": [
      "INFO:root:task 4 :(128, 1, 28, 28)\n",
      "INFO:root:task 5 :(128, 1, 28, 28)\n",
      "INFO:root:task 6 :(128, 1, 28, 28)\n",
      "INFO:root:task 7 :(128, 1, 28, 28)\n",
      "INFO:root:task 8 :(128, 1, 28, 28)\n",
      "INFO:root:task 9 :(128, 1, 28, 28)\n",
      "INFO:root:Class sequence: [4 7 5 7 6 0 3 0 5 0 3 6 2 7 6 7 6 1 0 5]\n",
      "INFO:root:task 0 :(128, 1, 28, 28)\n",
      "INFO:root:task 1 :(128, 1, 28, 28)\n",
      "INFO:root:task 2 :(128, 1, 28, 28)\n",
      "INFO:root:task 3 :(128, 1, 28, 28)\n",
      "INFO:root:task 4 :(128, 1, 28, 28)\n",
      "INFO:root:task 5 :(128, 1, 28, 28)\n",
      "INFO:root:task 6 :(128, 1, 28, 28)\n",
      "INFO:root:task 7 :(128, 1, 28, 28)\n",
      "INFO:root:task 8 :(128, 1, 28, 28)\n",
      "INFO:root:task 9 :(128, 1, 28, 28)\n",
      "INFO:root:Class sequence: [6 7 7 8 4 1 1 8 6 1 6 4 5 7 8 0 2 3 0 3]\n",
      "INFO:root:task 0 :(128, 1, 28, 28)\n",
      "INFO:root:task 1 :(128, 1, 28, 28)\n",
      "INFO:root:task 2 :(128, 1, 28, 28)\n",
      "INFO:root:task 3 :(128, 1, 28, 28)\n",
      "INFO:root:task 4 :(128, 1, 28, 28)\n",
      "INFO:root:task 5 :(128, 1, 28, 28)\n",
      "INFO:root:task 6 :(128, 1, 28, 28)\n",
      "INFO:root:task 7 :(128, 1, 28, 28)\n",
      "INFO:root:task 8 :(128, 1, 28, 28)\n",
      "INFO:root:task 9 :(128, 1, 28, 28)\n",
      "INFO:root:Class sequence: [2 8 0 3 7 4 3 4 4 5 9 3 0 6 9 1 3 1 7 9]\n",
      "INFO:root:task 0 :(128, 1, 28, 28)\n",
      "INFO:root:task 1 :(128, 1, 28, 28)\n",
      "INFO:root:task 2 :(128, 1, 28, 28)\n",
      "INFO:root:task 3 :(128, 1, 28, 28)\n",
      "INFO:root:task 4 :(128, 1, 28, 28)\n",
      "INFO:root:task 5 :(128, 1, 28, 28)\n",
      "INFO:root:task 6 :(128, 1, 28, 28)\n",
      "INFO:root:task 7 :(128, 1, 28, 28)\n",
      "INFO:root:task 8 :(128, 1, 28, 28)\n",
      "INFO:root:task 9 :(128, 1, 28, 28)\n",
      "INFO:root:Class sequence: [0 3 0 2 9 7 0 9 2 1 7 6 8 6 1 8 6 4 9 8]\n",
      "INFO:root:task 0 :(128, 1, 28, 28)\n",
      "INFO:root:task 1 :(128, 1, 28, 28)\n",
      "INFO:root:task 2 :(128, 1, 28, 28)\n",
      "INFO:root:task 3 :(128, 1, 28, 28)\n",
      "INFO:root:task 4 :(128, 1, 28, 28)\n",
      "INFO:root:task 5 :(128, 1, 28, 28)\n",
      "INFO:root:task 6 :(128, 1, 28, 28)\n",
      "INFO:root:task 7 :(128, 1, 28, 28)\n",
      "INFO:root:task 8 :(128, 1, 28, 28)\n",
      "INFO:root:task 9 :(128, 1, 28, 28)\n",
      "INFO:root:Class sequence: [8 4 6 3 3 1 1 6 4 9 3 2 2 9 6 0 5 9 7 2]\n",
      "INFO:root:task 0 :(128, 1, 28, 28)\n",
      "INFO:root:task 1 :(128, 1, 28, 28)\n",
      "INFO:root:task 2 :(128, 1, 28, 28)\n",
      "INFO:root:task 3 :(128, 1, 28, 28)\n",
      "INFO:root:task 4 :(128, 1, 28, 28)\n",
      "INFO:root:task 5 :(128, 1, 28, 28)\n",
      "INFO:root:task 6 :(128, 1, 28, 28)\n",
      "INFO:root:task 7 :(128, 1, 28, 28)\n",
      "INFO:root:task 8 :(128, 1, 28, 28)\n",
      "INFO:root:task 9 :(128, 1, 28, 28)\n",
      "INFO:root:Class sequence: [7 5 8 4 6 9 8 3 4 6 1 3 3 1 4 1 9 2 6 2]\n",
      "INFO:root:task 0 :(128, 1, 28, 28)\n",
      "INFO:root:task 1 :(128, 1, 28, 28)\n",
      "INFO:root:task 2 :(128, 1, 28, 28)\n",
      "INFO:root:task 3 :(128, 1, 28, 28)\n",
      "INFO:root:task 4 :(128, 1, 28, 28)\n",
      "INFO:root:task 5 :(128, 1, 28, 28)\n",
      "INFO:root:task 6 :(128, 1, 28, 28)\n",
      "INFO:root:task 7 :(128, 1, 28, 28)\n",
      "INFO:root:task 8 :(128, 1, 28, 28)\n",
      "INFO:root:task 9 :(128, 1, 28, 28)\n",
      "INFO:root:Class sequence: [5 1 8 3 9 6 5 9 5 0 7 2 7 8 6 1 6 0 0 6]\n",
      "INFO:root:task 0 :(128, 1, 28, 28)\n",
      "INFO:root:task 1 :(128, 1, 28, 28)\n",
      "INFO:root:task 2 :(128, 1, 28, 28)\n",
      "INFO:root:task 3 :(128, 1, 28, 28)\n",
      "INFO:root:task 4 :(128, 1, 28, 28)\n",
      "INFO:root:task 5 :(128, 1, 28, 28)\n",
      "INFO:root:task 6 :(128, 1, 28, 28)\n",
      "INFO:root:task 7 :(128, 1, 28, 28)\n",
      "INFO:root:task 8 :(128, 1, 28, 28)\n",
      "INFO:root:task 9 :(128, 1, 28, 28)\n"
     ]
    },
    {
     "name": "stdout",
     "output_type": "stream",
     "text": [
      "i_size 28\n",
      "num_classes 2\n",
      "net_cfg {'name': 'mlp', 'depth': 4, 'layer_size': 64, 'dropout': 0.0, 'i_size': 28, 'num_classes': 2, 'num_tasks': 10, 'num_init_tasks': 4, 'use_contrastive': True}\n",
      "<class 'shell.learners.er_dynamic.CompositionalDynamicER'>\n"
     ]
    }
   ],
   "source": [
    "dataset = \"mnist\"\n",
    "algo = \"modular\"\n",
    "prefilter_strategy = \"oracle\"\n",
    "scorer = \"cross_entropy\"\n",
    "\n",
    "experiment_folder = \"experiment_results\"\n",
    "experiment_name = \"vanilla_fix_bug_compute_loss_encodev2\"\n",
    "\n",
    "use_contrastive = True\n",
    "num_trains_per_class = 64\n",
    "seed = 0\n",
    "num_neighbors = 10\n",
    "parallel = False\n",
    "\n",
    "\n",
    "save_dir = get_save_dir(experiment_folder, experiment_name,\n",
    "                        dataset, algo, num_trains_per_class, use_contrastive, seed)\n",
    "graph, datasets, NetCls, LearnerCls, net_cfg, agent_cfg, train_cfg, fleet_additional_cfg, cfg = get_cfg(\n",
    "    save_dir)\n",
    "\n",
    "\n",
    "# train_cfg['num_epochs'] = 10\n",
    "train_cfg['component_update_freq'] = train_cfg['num_epochs']\n",
    "# num_comms_per_task = 3 # should really add 1 because the last comm is kinda basically useless\n",
    "num_comms_per_task = 6 # should really add 1 because the last comm is kinda basically useless\n",
    "# for the current task.\n",
    "comm_freq = train_cfg['num_epochs'] // num_comms_per_task\n",
    "\n",
    "shared_memory_size = 200\n",
    "\n",
    "cfg.sharing_strategy = DictConfig({\n",
    "    \"name\": \"recv_data\",\n",
    "    \"scorer\": scorer,\n",
    "    \"num_queries\": 10,\n",
    "    'num_data_neighbors': 5,\n",
    "    'num_filter_neighbors': 5,\n",
    "    'num_coms_per_round': 2,\n",
    "    \"query_score_threshold\": 0.0,\n",
    "    \"shared_memory_size\": shared_memory_size,\n",
    "    # \"shared_memory_size\": 10,\n",
    "    \"comm_freq\": comm_freq,\n",
    "    \"prefilter_strategy\": prefilter_strategy,\n",
    "    \"use_ood_separation_loss\": False,\n",
    "})"
   ]
  },
  {
   "cell_type": "code",
   "execution_count": 5,
   "metadata": {},
   "outputs": [],
   "source": [
    "AgentCls = get_agent_cls(cfg.sharing_strategy, cfg.algo, parallel)\n",
    "FleetCls = get_fleet(cfg.sharing_strategy, parallel)"
   ]
  },
  {
   "cell_type": "code",
   "execution_count": 6,
   "metadata": {},
   "outputs": [],
   "source": [
    "def setup_fleet(task_id=None): \n",
    "    fleet = FleetCls(graph, cfg.seed, datasets, cfg.sharing_strategy, AgentCls, NetCls=NetCls,\n",
    "                    LearnerCls=LearnerCls, net_kwargs=net_cfg, agent_kwargs=agent_cfg,\n",
    "                    train_kwargs=train_cfg, **fleet_additional_cfg)\n",
    "    if task_id is not None:\n",
    "        fleet.load_model_from_ckpoint(task_ids=task_id)\n",
    "        fleet.update_replay_buffers(task_id)\n",
    "    return fleet"
   ]
  },
  {
   "cell_type": "code",
   "execution_count": 7,
   "metadata": {},
   "outputs": [
    {
     "name": "stderr",
     "output_type": "stream",
     "text": [
      "INFO:root:Agent: node_id: 0, seed: 0\n"
     ]
    },
    {
     "name": "stderr",
     "output_type": "stream",
     "text": [
      "INFO:root:Agent: node_id: 1, seed: 1000\n",
      "INFO:root:Agent: node_id: 2, seed: 2000\n",
      "INFO:root:Agent: node_id: 3, seed: 3000\n",
      "INFO:root:Agent: node_id: 4, seed: 4000\n",
      "INFO:root:Agent: node_id: 5, seed: 5000\n",
      "INFO:root:Agent: node_id: 6, seed: 6000\n",
      "INFO:root:Agent: node_id: 7, seed: 7000\n",
      "INFO:root:Created fleet with 8 agents\n",
      "INFO:root:Adding neighbors...\n",
      "INFO:root:Fleet initialized\n"
     ]
    }
   ],
   "source": [
    "fleet = setup_fleet(task_id=3)"
   ]
  },
  {
   "cell_type": "code",
   "execution_count": 8,
   "metadata": {},
   "outputs": [],
   "source": [
    "# \"\"\"\n",
    "# Viz query. Each row is a task. Each column is a query.\n",
    "# The label is {score}/{y}/{y_pred}, and\n",
    "# `red` means y != y_pred, `green` means y == y_pred.\n",
    "# \"\"\"\n",
    "# agent_id = 0\n",
    "# query_task_id = 0\n",
    "# agent = fleet.agents[agent_id]\n",
    "# X_queries, y_queries, y_pred_queries, score_queries = agent.compute_query(task_id=4, debug_return=True)\n",
    "\n",
    "# num_neighbors = len(X_queries.keys())\n",
    "# num_queries = max([len(X_queries[i]) for i in range(num_neighbors)])\n",
    "# fig, axes = plt.subplots(num_neighbors, num_queries, figsize=(num_queries*2, num_neighbors*2))\n",
    "\n",
    "# rows = [f\"task {task_id}\" for task_id in range(num_neighbors)]\n",
    "# pad = 0\n",
    "# for ax, row in zip(axes[:,0], rows):\n",
    "#     ax.annotate(row, xy=(0, 0.5), xytext=(-ax.yaxis.labelpad - pad, 0),\n",
    "#                 xycoords=ax.yaxis.label, textcoords='offset points',\n",
    "#                 size='large', ha='right', va='center', rotation=90)\n",
    "\n",
    "# for task_id in range(num_neighbors):\n",
    "#     for query_id in range(len(X_queries[task_id])):\n",
    "#         ax = axes[task_id, query_id]\n",
    "#         ax.set_xticks([])\n",
    "#         ax.set_yticks([])\n",
    "\n",
    "#         ax.imshow(X_queries[task_id][query_id].squeeze(), cmap=\"gray\")\n",
    "#         color = \"green\" if y_queries[task_id][query_id]  ==  y_pred_queries[task_id][query_id] else \"red\"\n",
    "#         ax.set_title(f\"{score_queries[task_id][query_id]:.2f}/{y_queries[task_id][query_id]}/{y_pred_queries[task_id][query_id]}\",\n",
    "#                      color=color)\n",
    "\n",
    "   \n",
    "# plt.tight_layout()"
   ]
  },
  {
   "cell_type": "code",
   "execution_count": 9,
   "metadata": {},
   "outputs": [],
   "source": [
    "# fleet.communicate(task_id=4)"
   ]
  },
  {
   "cell_type": "code",
   "execution_count": 10,
   "metadata": {},
   "outputs": [],
   "source": [
    "# neighbor_data = [agent.incoming_extra_info[neigh_id]['X_neighbors'][query_task_id] for neigh_id in agent.incoming_data.keys()]\n",
    "# neighbor_data = [task_data.reshape(-1, *task_data.shape[2:]) for task_data in neighbor_data]\n",
    "\n",
    "# # Calculate number of rows (tasks) and columns (queries)\n",
    "# num_neighbors = len(neighbor_data)\n",
    "# num_queries = max([len(data) for data in neighbor_data])  # Assuming each task has a list of data\n",
    "\n",
    "# # Create subplots\n",
    "# fig, axes = plt.subplots(num_neighbors, num_queries, figsize=(num_queries * 2, num_neighbors * 2))\n",
    "\n",
    "# # Set row labels\n",
    "# rows = [f\"neighbor {neigh_id}\" for neigh_id in agent.incoming_data.keys()]\n",
    "# pad = 0\n",
    "# for ax, row in zip(axes[:, 0], rows):\n",
    "#     ax.annotate(row, xy=(0, 0.5), xytext=(-ax.yaxis.labelpad - pad, 0),\n",
    "#                 xycoords=ax.yaxis.label, textcoords='offset points',\n",
    "#                 size='large', ha='right', va='center', rotation=90)\n",
    "\n",
    "# # Plot data\n",
    "# for task_id, task_data in enumerate(neighbor_data):\n",
    "#     for query_id in range(len(task_data)):\n",
    "#         ax = axes[task_id, query_id]\n",
    "#         ax.set_xticks([])\n",
    "#         ax.set_yticks([])\n",
    "\n",
    "#         ax.imshow(task_data[query_id].squeeze(), cmap=\"gray\")\n",
    "\n",
    "# plt.tight_layout()"
   ]
  },
  {
   "cell_type": "code",
   "execution_count": 11,
   "metadata": {},
   "outputs": [],
   "source": [
    "# replay = agent.agent.shared_replay_buffers[query_task_id]\n",
    "# plt.imshow(make_grid(replay.tensors[0][:len(replay)]).permute(1,2,0));"
   ]
  },
  {
   "cell_type": "markdown",
   "metadata": {},
   "source": [
    "## The performance of baseline fleet"
   ]
  },
  {
   "cell_type": "code",
   "execution_count": 12,
   "metadata": {},
   "outputs": [
    {
     "name": "stderr",
     "output_type": "stream",
     "text": [
      "INFO:root:Agent: node_id: 0, seed: 0\n",
      "INFO:root:Agent: node_id: 1, seed: 1000\n",
      "INFO:root:Agent: node_id: 2, seed: 2000\n",
      "INFO:root:Agent: node_id: 3, seed: 3000\n",
      "INFO:root:Agent: node_id: 4, seed: 4000\n",
      "INFO:root:Agent: node_id: 5, seed: 5000\n",
      "INFO:root:Agent: node_id: 6, seed: 6000\n",
      "INFO:root:Agent: node_id: 7, seed: 7000\n",
      "INFO:root:Created fleet with 8 agents\n",
      "INFO:root:Adding neighbors...\n",
      "INFO:root:Fleet initialized\n"
     ]
    }
   ],
   "source": [
    "test_task_id = 4\n",
    "fleet = setup_fleet(task_id=test_task_id)\n",
    "baseline_perfs = fleet.eval_test(test_task_id)"
   ]
  },
  {
   "cell_type": "code",
   "execution_count": 13,
   "metadata": {},
   "outputs": [
    {
     "data": {
      "image/png": "[encoded data removed]",
      "text/plain": [
       "<Figure size 640x480 with 1 Axes>"
      ]
     },
     "metadata": {},
     "output_type": "display_data"
    }
   ],
   "source": [
    "df = pd.DataFrame(baseline_perfs)\n",
    "df.columns = df.columns.astype(str)\n",
    "\n",
    "task_stats = df.agg([\"mean\", \"std\"])\n",
    "plt.bar(task_stats.columns, task_stats.loc['mean'], yerr=task_stats.loc['std'], capsize=5, color='skyblue')\n",
    "plt.xlabel('Tasks')\n",
    "plt.ylabel('Average Performance')\n",
    "plt.title('Baseline Performance')\n",
    "plt.ylim(0.4, 1.0)  \n",
    "plt.show()"
   ]
  },
  {
   "cell_type": "code",
   "execution_count": 14,
   "metadata": {},
   "outputs": [
    {
     "data": {
      "text/html": [
       "<div>\n",
       "<style scoped>\n",
       "    .dataframe tbody tr th:only-of-type {\n",
       "        vertical-align: middle;\n",
       "    }\n",
       "\n",
       "    .dataframe tbody tr th {\n",
       "        vertical-align: top;\n",
       "    }\n",
       "\n",
       "    .dataframe thead th {\n",
       "        text-align: right;\n",
       "    }\n",
       "</style>\n",
       "<table border=\"1\" class=\"dataframe\">\n",
       "  <thead>\n",
       "    <tr style=\"text-align: right;\">\n",
       "      <th></th>\n",
       "      <th>0</th>\n",
       "      <th>1</th>\n",
       "      <th>2</th>\n",
       "      <th>3</th>\n",
       "      <th>4</th>\n",
       "      <th>avg</th>\n",
       "    </tr>\n",
       "  </thead>\n",
       "  <tbody>\n",
       "    <tr>\n",
       "      <th>mean</th>\n",
       "      <td>0.965758</td>\n",
       "      <td>0.966875</td>\n",
       "      <td>0.971429</td>\n",
       "      <td>0.977758</td>\n",
       "      <td>0.958175</td>\n",
       "      <td>0.967999</td>\n",
       "    </tr>\n",
       "    <tr>\n",
       "      <th>std</th>\n",
       "      <td>0.020935</td>\n",
       "      <td>0.021769</td>\n",
       "      <td>0.017790</td>\n",
       "      <td>0.018548</td>\n",
       "      <td>0.030025</td>\n",
       "      <td>0.005467</td>\n",
       "    </tr>\n",
       "  </tbody>\n",
       "</table>\n",
       "</div>"
      ],
      "text/plain": [
       "             0         1         2         3         4       avg\n",
       "mean  0.965758  0.966875  0.971429  0.977758  0.958175  0.967999\n",
       "std   0.020935  0.021769  0.017790  0.018548  0.030025  0.005467"
      ]
     },
     "execution_count": 14,
     "metadata": {},
     "output_type": "execute_result"
    }
   ],
   "source": [
    "task_stats"
   ]
  },
  {
   "cell_type": "code",
   "execution_count": 15,
   "metadata": {},
   "outputs": [],
   "source": [
    "# len(agent.dataset.trainset[task_id].tensors)"
   ]
  },
  {
   "cell_type": "code",
   "execution_count": 16,
   "metadata": {},
   "outputs": [],
   "source": [
    "# from shell.fleet.fleet import CustomConcatDataset\n",
    "# from shell.datasets.datasets import get_custom_tensordataset\n",
    "# from torch.utils.data.dataset import ConcatDataset\n",
    "\n",
    "# task_id = 4\n",
    "# fleet = setup_fleet(task_id=task_id)\n",
    "# agent = fleet.agents[0]\n",
    "# dataset = deepcopy(agent.dataset.trainset[task_id])\n",
    "\n",
    "# n = 100\n",
    "# X = torch.zeros((n, 1, 28, 28))\n",
    "# y = torch.zeros(n, dtype=torch.long)\n",
    "\n",
    "# agent.agent.shared_replay_buffers[task_id] = ReplayBufferReservoir(\n",
    "#             10000, task_id)\n",
    "# agent.agent.shared_replay_buffers[task_id].push(\n",
    "#     X, y\n",
    "# )\n",
    "\n",
    "# agent.agent.make_shared_memory_loaders(\n",
    "#             batch_size=agent.batch_size)\n",
    "\n",
    "# if task_id in agent.agent.shared_memory_loaders:\n",
    "#     print(\"adding shared memory\")\n",
    "#     loader = agent.agent.shared_memory_loaders[task_id]\n",
    "#     shared_tensors = loader.dataset.get_tensors()  # X, y, t\n",
    "#     # throw away the task id\n",
    "#     shared_tensors = shared_tensors[:2]\n",
    "#     dataset = CustomConcatDataset(\n",
    "#         dataset.tensors, shared_tensors)\n",
    "#     dataset = get_custom_tensordataset(dataset.tensors, name=agent.dataset.name,\n",
    "#                                         use_contrastive=agent.agent.use_contrastive)\n",
    "                                                \n",
    "\n",
    "\n",
    "\n",
    "# # dataset.tensors = dataset.tensors + \\\n",
    "# #             (torch.full((len(dataset),), task_id, dtype=int),)\n",
    "\n",
    "# # tmp_dataset = dataset\n",
    "\n",
    "# # mega_dataset = ConcatDataset(\n",
    "# #             [get_custom_tensordataset(loader.dataset.get_tensors(), name=agent.dataset.name,\n",
    "# #                                       use_contrastive=agent.agent.use_contrastive) for t, loader in agent.agent.memory_loaders.items() if t != task_id] + [tmp_dataset]\n",
    "# #             + [get_custom_tensordataset(loader.dataset.get_tensors(), name=agent.agent.dataset_name,\n",
    "# #                                         use_contrastive=agent.agent.use_contrastive) for t, loader in agent.agent.shared_memory_loaders.items()\n",
    "# #                if t != task_id]\n",
    "# #         )\n",
    "\n",
    "# # mega_dataset = dataset\n",
    "\n",
    "# # mega_loader = torch.utils.data.DataLoader(mega_dataset,\n",
    "# #                                                   batch_size=32,\n",
    "# #                                                   shuffle=True,\n",
    "# #                                                   num_workers=0,\n",
    "# #                                                   pin_memory=True\n",
    "# #                                                   )\n"
   ]
  },
  {
   "cell_type": "code",
   "execution_count": 17,
   "metadata": {},
   "outputs": [],
   "source": [
    "# len(dataset)"
   ]
  },
  {
   "cell_type": "code",
   "execution_count": 18,
   "metadata": {},
   "outputs": [],
   "source": [
    "# for X, Y, t in mega_loader:\n",
    "#     print('X', type(X), X[0].shape, X[1].shape)\n",
    "#     print(Y.shape, t.shape)"
   ]
  },
  {
   "cell_type": "code",
   "execution_count": 19,
   "metadata": {},
   "outputs": [],
   "source": [
    "# len(mega_dataset)"
   ]
  },
  {
   "cell_type": "code",
   "execution_count": 20,
   "metadata": {},
   "outputs": [],
   "source": [
    "# dataset.tensors[0].shape, dataset.tensors[1].shape, dataset.tensors[2].shape"
   ]
  },
  {
   "cell_type": "code",
   "execution_count": 21,
   "metadata": {},
   "outputs": [],
   "source": [
    "# len(agent.agent.shared_replay_buffers[task_id].get_tensors())"
   ]
  },
  {
   "cell_type": "markdown",
   "metadata": {},
   "source": [
    "## Receiver Sharing"
   ]
  },
  {
   "cell_type": "code",
   "execution_count": 22,
   "metadata": {},
   "outputs": [
    {
     "name": "stderr",
     "output_type": "stream",
     "text": [
      "INFO:root:No. gpus per agent: 0.25\n"
     ]
    },
    {
     "name": "stderr",
     "output_type": "stream",
     "text": [
      "2024-02-05 15:38:52,417\tINFO worker.py:1544 -- Started a local Ray instance. View the dashboard at \u001b[1m\u001b[32m127.0.0.1:8265 \u001b[39m\u001b[22m\n",
      "\u001b[2m\u001b[36m(ParallelRecvDataAgent pid=2038057)\u001b[0m INFO:root:Agent: node_id: 0, seed: 0\n",
      "\u001b[2m\u001b[36m(ParallelRecvDataAgent pid=2038059)\u001b[0m INFO:root:Agent: node_id: 2, seed: 2000\n",
      "\u001b[2m\u001b[36m(ParallelRecvDataAgent pid=2038058)\u001b[0m INFO:root:Agent: node_id: 1, seed: 1000\n",
      "INFO:root:Created fleet with 8 agents\n",
      "INFO:root:Adding neighbors...\n",
      "\u001b[2m\u001b[36m(ParallelRecvDataAgent pid=2038102)\u001b[0m INFO:root:Agent: node_id: 3, seed: 3000\n",
      "\u001b[2m\u001b[36m(ParallelRecvDataAgent pid=2038178)\u001b[0m INFO:root:Agent: node_id: 4, seed: 4000\n",
      "\u001b[2m\u001b[36m(ParallelRecvDataAgent pid=2038304)\u001b[0m INFO:root:Agent: node_id: 6, seed: 6000\n",
      "\u001b[2m\u001b[36m(ParallelRecvDataAgent pid=2038242)\u001b[0m INFO:root:Agent: node_id: 5, seed: 5000\n",
      "\u001b[2m\u001b[36m(ParallelRecvDataAgent pid=2038366)\u001b[0m INFO:root:Agent: node_id: 7, seed: 7000\n",
      "INFO:root:Fleet initialized\n"
     ]
    }
   ],
   "source": [
    "AgentCls = get_agent_cls(cfg.sharing_strategy, cfg.algo, parallel=True)\n",
    "FleetCls = get_fleet(cfg.sharing_strategy, parallel=True)\n",
    "\n",
    "fleet = setup_fleet(task_id=test_task_id-1)\n",
    "before_sharing_and_learn = fleet.eval_test(test_task_id)"
   ]
  },
  {
   "cell_type": "code",
   "execution_count": 23,
   "metadata": {},
   "outputs": [
    {
     "data": {
      "image/png": "[encoded data removed]",
      "text/plain": [
       "<Figure size 640x480 with 1 Axes>"
      ]
     },
     "metadata": {},
     "output_type": "display_data"
    }
   ],
   "source": [
    "df = pd.DataFrame(before_sharing_and_learn)\n",
    "df.columns = df.columns.astype(str)\n",
    "\n",
    "task_stats = df.agg([\"mean\", \"std\"])\n",
    "plt.bar(task_stats.columns, task_stats.loc['mean'], yerr=task_stats.loc['std'], capsize=5, color='skyblue')\n",
    "plt.xlabel('Tasks')\n",
    "plt.ylabel('Average Performance')\n",
    "plt.title('Baseline Performance')\n",
    "plt.ylim(0.4, 1.0)  \n",
    "plt.show()"
   ]
  },
  {
   "cell_type": "code",
   "execution_count": 24,
   "metadata": {},
   "outputs": [
    {
     "name": "stdout",
     "output_type": "stream",
     "text": [
      "['experiment_results/vanilla_fix_bug_compute_loss_encodev2/mnist_modular_numtrain_64_contrastive/mnist/modular/seed_0/agent_0', 'experiment_results/vanilla_fix_bug_compute_loss_encodev2/mnist_modular_numtrain_64_contrastive/mnist/modular/seed_0/agent_1', 'experiment_results/vanilla_fix_bug_compute_loss_encodev2/mnist_modular_numtrain_64_contrastive/mnist/modular/seed_0/agent_2', 'experiment_results/vanilla_fix_bug_compute_loss_encodev2/mnist_modular_numtrain_64_contrastive/mnist/modular/seed_0/agent_3', 'experiment_results/vanilla_fix_bug_compute_loss_encodev2/mnist_modular_numtrain_64_contrastive/mnist/modular/seed_0/agent_4', 'experiment_results/vanilla_fix_bug_compute_loss_encodev2/mnist_modular_numtrain_64_contrastive/mnist/modular/seed_0/agent_5', 'experiment_results/vanilla_fix_bug_compute_loss_encodev2/mnist_modular_numtrain_64_contrastive/mnist/modular/seed_0/agent_6', 'experiment_results/vanilla_fix_bug_compute_loss_encodev2/mnist_modular_numtrain_64_contrastive/mnist/modular/seed_0/agent_7']\n",
      "['experiment_results/test_recv_global_labels/agent_0', 'experiment_results/test_recv_global_labels/agent_1', 'experiment_results/test_recv_global_labels/agent_2', 'experiment_results/test_recv_global_labels/agent_3', 'experiment_results/test_recv_global_labels/agent_4', 'experiment_results/test_recv_global_labels/agent_5', 'experiment_results/test_recv_global_labels/agent_6', 'experiment_results/test_recv_global_labels/agent_7']\n"
     ]
    }
   ],
   "source": [
    "print(fleet.get_save_dir())\n",
    "fleet.change_save_dir('experiment_results/test_recv_global_labels')\n",
    "print(fleet.get_save_dir())"
   ]
  },
  {
   "cell_type": "code",
   "execution_count": 25,
   "metadata": {},
   "outputs": [
    {
     "name": "stderr",
     "output_type": "stream",
     "text": [
      "\u001b[2m\u001b[36m(ParallelRecvDataAgent pid=2038059)\u001b[0m INFO:root:epochs: 0, training task: 4\n",
      "\u001b[2m\u001b[36m(ParallelRecvDataAgent pid=2038059)\u001b[0m INFO:root:\ttask: 0\tloss: 0.39762004\tacc: 0.965\n",
      "\u001b[2m\u001b[36m(ParallelRecvDataAgent pid=2038059)\u001b[0m INFO:root:\ttask: 1\tloss: 0.37774693\tacc: 0.954\n",
      "\u001b[2m\u001b[36m(ParallelRecvDataAgent pid=2038059)\u001b[0m INFO:root:\ttask: 2\tloss: 0.37510298\tacc: 0.988\n",
      "\u001b[2m\u001b[36m(ParallelRecvDataAgent pid=2038059)\u001b[0m INFO:root:\ttask: 3\tloss: 0.38231540\tacc: 0.981\n",
      "\u001b[2m\u001b[36m(ParallelRecvDataAgent pid=2038059)\u001b[0m INFO:root:\ttask: 4\tloss: 0.69469342\tacc: 0.458\n",
      "\u001b[2m\u001b[36m(ParallelRecvDataAgent pid=2038059)\u001b[0m INFO:root:\ttask: avg\tloss: 0.44549575\tacc: 0.869\n",
      "\u001b[2m\u001b[36m(ParallelRecvDataAgent pid=2038058)\u001b[0m INFO:root:epochs: 0, training task: 4\n",
      "\u001b[2m\u001b[36m(ParallelRecvDataAgent pid=2038058)\u001b[0m INFO:root:\ttask: 0\tloss: 0.37953345\tacc: 0.970\n",
      "\u001b[2m\u001b[36m(ParallelRecvDataAgent pid=2038058)\u001b[0m INFO:root:\ttask: 1\tloss: 0.35447751\tacc: 0.975\n",
      "\u001b[2m\u001b[36m(ParallelRecvDataAgent pid=2038058)\u001b[0m INFO:root:\ttask: 2\tloss: 0.38573264\tacc: 0.966\n",
      "\u001b[2m\u001b[36m(ParallelRecvDataAgent pid=2038058)\u001b[0m INFO:root:\ttask: 3\tloss: 0.40629087\tacc: 0.988\n",
      "\u001b[2m\u001b[36m(ParallelRecvDataAgent pid=2038058)\u001b[0m INFO:root:\ttask: 4\tloss: 0.69311335\tacc: 0.524\n",
      "\u001b[2m\u001b[36m(ParallelRecvDataAgent pid=2038058)\u001b[0m INFO:root:\ttask: avg\tloss: 0.44382956\tacc: 0.885\n",
      "\u001b[2m\u001b[36m(ParallelRecvDataAgent pid=2038178)\u001b[0m INFO:root:epochs: 0, training task: 4\n",
      "\u001b[2m\u001b[36m(ParallelRecvDataAgent pid=2038178)\u001b[0m INFO:root:\ttask: 0\tloss: 0.39294464\tacc: 0.989\n",
      "\u001b[2m\u001b[36m(ParallelRecvDataAgent pid=2038178)\u001b[0m INFO:root:\ttask: 1\tloss: 0.37747095\tacc: 0.979\n",
      "\u001b[2m\u001b[36m(ParallelRecvDataAgent pid=2038178)\u001b[0m INFO:root:\ttask: 2\tloss: 0.43704142\tacc: 0.943\n",
      "\u001b[2m\u001b[36m(ParallelRecvDataAgent pid=2038178)\u001b[0m INFO:root:\ttask: 3\tloss: 0.35984711\tacc: 0.986\n",
      "\u001b[2m\u001b[36m(ParallelRecvDataAgent pid=2038178)\u001b[0m INFO:root:\ttask: 4\tloss: 0.69410970\tacc: 0.476\n",
      "\u001b[2m\u001b[36m(ParallelRecvDataAgent pid=2038178)\u001b[0m INFO:root:\ttask: avg\tloss: 0.45228276\tacc: 0.875\n",
      "\u001b[2m\u001b[36m(ParallelRecvDataAgent pid=2038057)\u001b[0m INFO:root:epochs: 0, training task: 4\n",
      "\u001b[2m\u001b[36m(ParallelRecvDataAgent pid=2038057)\u001b[0m INFO:root:\ttask: 0\tloss: 0.38150023\tacc: 0.962\n",
      "\u001b[2m\u001b[36m(ParallelRecvDataAgent pid=2038057)\u001b[0m INFO:root:\ttask: 1\tloss: 0.36851734\tacc: 0.984\n",
      "\u001b[2m\u001b[36m(ParallelRecvDataAgent pid=2038057)\u001b[0m INFO:root:\ttask: 2\tloss: 0.37948792\tacc: 0.970\n",
      "\u001b[2m\u001b[36m(ParallelRecvDataAgent pid=2038057)\u001b[0m INFO:root:\ttask: 3\tloss: 0.37777624\tacc: 0.981\n",
      "\u001b[2m\u001b[36m(ParallelRecvDataAgent pid=2038057)\u001b[0m INFO:root:\ttask: 4\tloss: 0.69328047\tacc: 0.498\n",
      "\u001b[2m\u001b[36m(ParallelRecvDataAgent pid=2038057)\u001b[0m INFO:root:\ttask: avg\tloss: 0.44011244\tacc: 0.879\n",
      "\u001b[2m\u001b[36m(ParallelRecvDataAgent pid=2038102)\u001b[0m INFO:root:epochs: 0, training task: 4\n",
      "\u001b[2m\u001b[36m(ParallelRecvDataAgent pid=2038102)\u001b[0m INFO:root:\ttask: 0\tloss: 0.40698826\tacc: 0.945\n",
      "\u001b[2m\u001b[36m(ParallelRecvDataAgent pid=2038102)\u001b[0m INFO:root:\ttask: 1\tloss: 0.35209568\tacc: 0.988\n",
      "\u001b[2m\u001b[36m(ParallelRecvDataAgent pid=2038102)\u001b[0m INFO:root:\ttask: 2\tloss: 0.38127397\tacc: 0.980\n",
      "\u001b[2m\u001b[36m(ParallelRecvDataAgent pid=2038102)\u001b[0m INFO:root:\ttask: 3\tloss: 0.35618965\tacc: 0.987\n",
      "\u001b[2m\u001b[36m(ParallelRecvDataAgent pid=2038102)\u001b[0m INFO:root:\ttask: 4\tloss: 0.69386738\tacc: 0.476\n",
      "\u001b[2m\u001b[36m(ParallelRecvDataAgent pid=2038102)\u001b[0m INFO:root:\ttask: avg\tloss: 0.43808298\tacc: 0.875\n",
      "\u001b[2m\u001b[36m(ParallelRecvDataAgent pid=2038242)\u001b[0m INFO:root:epochs: 0, training task: 4\n",
      "\u001b[2m\u001b[36m(ParallelRecvDataAgent pid=2038242)\u001b[0m INFO:root:\ttask: 0\tloss: 0.40444570\tacc: 0.959\n",
      "\u001b[2m\u001b[36m(ParallelRecvDataAgent pid=2038242)\u001b[0m INFO:root:\ttask: 1\tloss: 0.39604017\tacc: 0.988\n",
      "\u001b[2m\u001b[36m(ParallelRecvDataAgent pid=2038242)\u001b[0m INFO:root:\ttask: 2\tloss: 0.35394485\tacc: 0.986\n",
      "\u001b[2m\u001b[36m(ParallelRecvDataAgent pid=2038242)\u001b[0m INFO:root:\ttask: 3\tloss: 0.35362778\tacc: 0.993\n",
      "\u001b[2m\u001b[36m(ParallelRecvDataAgent pid=2038242)\u001b[0m INFO:root:\ttask: 4\tloss: 0.69442915\tacc: 0.493\n",
      "\u001b[2m\u001b[36m(ParallelRecvDataAgent pid=2038242)\u001b[0m INFO:root:\ttask: avg\tloss: 0.44049753\tacc: 0.884\n",
      "\u001b[2m\u001b[36m(ParallelRecvDataAgent pid=2038304)\u001b[0m INFO:root:epochs: 0, training task: 4\n",
      "\u001b[2m\u001b[36m(ParallelRecvDataAgent pid=2038304)\u001b[0m INFO:root:\ttask: 0\tloss: 0.36229762\tacc: 0.977\n",
      "\u001b[2m\u001b[36m(ParallelRecvDataAgent pid=2038304)\u001b[0m INFO:root:\ttask: 1\tloss: 0.40754404\tacc: 0.963\n",
      "\u001b[2m\u001b[36m(ParallelRecvDataAgent pid=2038304)\u001b[0m INFO:root:\ttask: 2\tloss: 0.38876906\tacc: 0.986\n",
      "\u001b[2m\u001b[36m(ParallelRecvDataAgent pid=2038304)\u001b[0m INFO:root:\ttask: 3\tloss: 0.44489061\tacc: 0.923\n",
      "\u001b[2m\u001b[36m(ParallelRecvDataAgent pid=2038304)\u001b[0m INFO:root:\ttask: 4\tloss: 0.69424347\tacc: 0.506\n",
      "\u001b[2m\u001b[36m(ParallelRecvDataAgent pid=2038304)\u001b[0m INFO:root:\ttask: avg\tloss: 0.45954896\tacc: 0.871\n",
      "\u001b[2m\u001b[36m(ParallelRecvDataAgent pid=2038366)\u001b[0m INFO:root:epochs: 0, training task: 4\n",
      "\u001b[2m\u001b[36m(ParallelRecvDataAgent pid=2038366)\u001b[0m INFO:root:\ttask: 0\tloss: 0.37277447\tacc: 0.977\n",
      "\u001b[2m\u001b[36m(ParallelRecvDataAgent pid=2038366)\u001b[0m INFO:root:\ttask: 1\tloss: 0.45240000\tacc: 0.928\n",
      "\u001b[2m\u001b[36m(ParallelRecvDataAgent pid=2038366)\u001b[0m INFO:root:\ttask: 2\tloss: 0.38272549\tacc: 0.981\n",
      "\u001b[2m\u001b[36m(ParallelRecvDataAgent pid=2038366)\u001b[0m INFO:root:\ttask: 3\tloss: 0.37253642\tacc: 0.965\n",
      "\u001b[2m\u001b[36m(ParallelRecvDataAgent pid=2038366)\u001b[0m INFO:root:\ttask: 4\tloss: 0.69427612\tacc: 0.476\n",
      "\u001b[2m\u001b[36m(ParallelRecvDataAgent pid=2038366)\u001b[0m INFO:root:\ttask: avg\tloss: 0.45494250\tacc: 0.866\n",
      "\u001b[2m\u001b[36m(ParallelRecvDataAgent pid=2038058)\u001b[0m INFO:root:epochs: 1, training task: 4\n",
      "\u001b[2m\u001b[36m(ParallelRecvDataAgent pid=2038058)\u001b[0m INFO:root:\ttask: 0\tloss: 0.37953345\tacc: 0.970\n",
      "\u001b[2m\u001b[36m(ParallelRecvDataAgent pid=2038058)\u001b[0m INFO:root:\ttask: 1\tloss: 0.35447751\tacc: 0.975\n",
      "\u001b[2m\u001b[36m(ParallelRecvDataAgent pid=2038058)\u001b[0m INFO:root:\ttask: 2\tloss: 0.38573264\tacc: 0.966\n",
      "\u001b[2m\u001b[36m(ParallelRecvDataAgent pid=2038058)\u001b[0m INFO:root:\ttask: 3\tloss: 0.40629087\tacc: 0.988\n",
      "\u001b[2m\u001b[36m(ParallelRecvDataAgent pid=2038058)\u001b[0m INFO:root:\ttask: 4\tloss: 0.69277557\tacc: 0.524\n",
      "\u001b[2m\u001b[36m(ParallelRecvDataAgent pid=2038058)\u001b[0m INFO:root:\ttask: avg\tloss: 0.44376201\tacc: 0.885\n",
      "\u001b[2m\u001b[36m(ParallelRecvDataAgent pid=2038178)\u001b[0m INFO:root:epochs: 1, training task: 4\n",
      "\u001b[2m\u001b[36m(ParallelRecvDataAgent pid=2038178)\u001b[0m INFO:root:\ttask: 0\tloss: 0.39294464\tacc: 0.989\n",
      "\u001b[2m\u001b[36m(ParallelRecvDataAgent pid=2038178)\u001b[0m INFO:root:\ttask: 1\tloss: 0.37747095\tacc: 0.979\n",
      "\u001b[2m\u001b[36m(ParallelRecvDataAgent pid=2038178)\u001b[0m INFO:root:\ttask: 2\tloss: 0.43704142\tacc: 0.943\n",
      "\u001b[2m\u001b[36m(ParallelRecvDataAgent pid=2038178)\u001b[0m INFO:root:\ttask: 3\tloss: 0.35984711\tacc: 0.986\n",
      "\u001b[2m\u001b[36m(ParallelRecvDataAgent pid=2038178)\u001b[0m INFO:root:\ttask: 4\tloss: 0.69322227\tacc: 0.525\n",
      "\u001b[2m\u001b[36m(ParallelRecvDataAgent pid=2038178)\u001b[0m INFO:root:\ttask: avg\tloss: 0.45210528\tacc: 0.884\n",
      "\u001b[2m\u001b[36m(ParallelRecvDataAgent pid=2038057)\u001b[0m INFO:root:epochs: 1, training task: 4\n",
      "\u001b[2m\u001b[36m(ParallelRecvDataAgent pid=2038057)\u001b[0m INFO:root:\ttask: 0\tloss: 0.38150023\tacc: 0.962\n",
      "\u001b[2m\u001b[36m(ParallelRecvDataAgent pid=2038057)\u001b[0m INFO:root:\ttask: 1\tloss: 0.36851734\tacc: 0.984\n",
      "\u001b[2m\u001b[36m(ParallelRecvDataAgent pid=2038057)\u001b[0m INFO:root:\ttask: 2\tloss: 0.37948792\tacc: 0.970\n",
      "\u001b[2m\u001b[36m(ParallelRecvDataAgent pid=2038057)\u001b[0m INFO:root:\ttask: 3\tloss: 0.37777624\tacc: 0.981\n",
      "\u001b[2m\u001b[36m(ParallelRecvDataAgent pid=2038057)\u001b[0m INFO:root:\ttask: 4\tloss: 0.69314386\tacc: 0.502\n",
      "\u001b[2m\u001b[36m(ParallelRecvDataAgent pid=2038057)\u001b[0m INFO:root:\ttask: avg\tloss: 0.44008512\tacc: 0.880\n",
      "\u001b[2m\u001b[36m(ParallelRecvDataAgent pid=2038059)\u001b[0m INFO:root:epochs: 1, training task: 4\n",
      "\u001b[2m\u001b[36m(ParallelRecvDataAgent pid=2038059)\u001b[0m INFO:root:\ttask: 0\tloss: 0.39762004\tacc: 0.965\n",
      "\u001b[2m\u001b[36m(ParallelRecvDataAgent pid=2038059)\u001b[0m INFO:root:\ttask: 1\tloss: 0.37774693\tacc: 0.954\n",
      "\u001b[2m\u001b[36m(ParallelRecvDataAgent pid=2038059)\u001b[0m INFO:root:\ttask: 2\tloss: 0.37510298\tacc: 0.988\n",
      "\u001b[2m\u001b[36m(ParallelRecvDataAgent pid=2038059)\u001b[0m INFO:root:\ttask: 3\tloss: 0.38231540\tacc: 0.981\n",
      "\u001b[2m\u001b[36m(ParallelRecvDataAgent pid=2038059)\u001b[0m INFO:root:\ttask: 4\tloss: 0.69590988\tacc: 0.458\n",
      "\u001b[2m\u001b[36m(ParallelRecvDataAgent pid=2038059)\u001b[0m INFO:root:\ttask: avg\tloss: 0.44573904\tacc: 0.869\n",
      "\u001b[2m\u001b[36m(ParallelRecvDataAgent pid=2038102)\u001b[0m INFO:root:epochs: 1, training task: 4\n",
      "\u001b[2m\u001b[36m(ParallelRecvDataAgent pid=2038102)\u001b[0m INFO:root:\ttask: 0\tloss: 0.40698826\tacc: 0.945\n",
      "\u001b[2m\u001b[36m(ParallelRecvDataAgent pid=2038102)\u001b[0m INFO:root:\ttask: 1\tloss: 0.35209568\tacc: 0.988\n",
      "\u001b[2m\u001b[36m(ParallelRecvDataAgent pid=2038102)\u001b[0m INFO:root:\ttask: 2\tloss: 0.38127397\tacc: 0.980\n",
      "\u001b[2m\u001b[36m(ParallelRecvDataAgent pid=2038102)\u001b[0m INFO:root:\ttask: 3\tloss: 0.35618965\tacc: 0.987\n",
      "\u001b[2m\u001b[36m(ParallelRecvDataAgent pid=2038102)\u001b[0m INFO:root:\ttask: 4\tloss: 0.69312661\tacc: 0.524\n",
      "\u001b[2m\u001b[36m(ParallelRecvDataAgent pid=2038102)\u001b[0m INFO:root:\ttask: avg\tloss: 0.43793483\tacc: 0.885\n",
      "\u001b[2m\u001b[36m(ParallelRecvDataAgent pid=2038242)\u001b[0m INFO:root:epochs: 1, training task: 4\n",
      "\u001b[2m\u001b[36m(ParallelRecvDataAgent pid=2038242)\u001b[0m INFO:root:\ttask: 0\tloss: 0.40444570\tacc: 0.959\n",
      "\u001b[2m\u001b[36m(ParallelRecvDataAgent pid=2038242)\u001b[0m INFO:root:\ttask: 1\tloss: 0.39604017\tacc: 0.988\n",
      "\u001b[2m\u001b[36m(ParallelRecvDataAgent pid=2038242)\u001b[0m INFO:root:\ttask: 2\tloss: 0.35394485\tacc: 0.986\n",
      "\u001b[2m\u001b[36m(ParallelRecvDataAgent pid=2038242)\u001b[0m INFO:root:\ttask: 3\tloss: 0.35362778\tacc: 0.993\n",
      "\u001b[2m\u001b[36m(ParallelRecvDataAgent pid=2038242)\u001b[0m INFO:root:\ttask: 4\tloss: 0.69532215\tacc: 0.493\n",
      "\u001b[2m\u001b[36m(ParallelRecvDataAgent pid=2038242)\u001b[0m INFO:root:\ttask: avg\tloss: 0.44067613\tacc: 0.884\n",
      "\u001b[2m\u001b[36m(ParallelRecvDataAgent pid=2038304)\u001b[0m INFO:root:epochs: 1, training task: 4\n",
      "\u001b[2m\u001b[36m(ParallelRecvDataAgent pid=2038304)\u001b[0m INFO:root:\ttask: 0\tloss: 0.36229762\tacc: 0.977\n",
      "\u001b[2m\u001b[36m(ParallelRecvDataAgent pid=2038304)\u001b[0m INFO:root:\ttask: 1\tloss: 0.40754404\tacc: 0.963\n",
      "\u001b[2m\u001b[36m(ParallelRecvDataAgent pid=2038304)\u001b[0m INFO:root:\ttask: 2\tloss: 0.38876906\tacc: 0.986\n",
      "\u001b[2m\u001b[36m(ParallelRecvDataAgent pid=2038304)\u001b[0m INFO:root:\ttask: 3\tloss: 0.44489061\tacc: 0.923\n",
      "\u001b[2m\u001b[36m(ParallelRecvDataAgent pid=2038304)\u001b[0m INFO:root:\ttask: 4\tloss: 0.69536543\tacc: 0.506\n",
      "\u001b[2m\u001b[36m(ParallelRecvDataAgent pid=2038304)\u001b[0m INFO:root:\ttask: avg\tloss: 0.45977335\tacc: 0.871\n",
      "\u001b[2m\u001b[36m(ParallelRecvDataAgent pid=2038366)\u001b[0m INFO:root:epochs: 1, training task: 4\n",
      "\u001b[2m\u001b[36m(ParallelRecvDataAgent pid=2038366)\u001b[0m INFO:root:\ttask: 0\tloss: 0.37277447\tacc: 0.977\n",
      "\u001b[2m\u001b[36m(ParallelRecvDataAgent pid=2038366)\u001b[0m INFO:root:\ttask: 1\tloss: 0.45240000\tacc: 0.928\n",
      "\u001b[2m\u001b[36m(ParallelRecvDataAgent pid=2038366)\u001b[0m INFO:root:\ttask: 2\tloss: 0.38272549\tacc: 0.981\n",
      "\u001b[2m\u001b[36m(ParallelRecvDataAgent pid=2038366)\u001b[0m INFO:root:\ttask: 3\tloss: 0.37253642\tacc: 0.965\n",
      "\u001b[2m\u001b[36m(ParallelRecvDataAgent pid=2038366)\u001b[0m INFO:root:\ttask: 4\tloss: 0.69409442\tacc: 0.476\n",
      "\u001b[2m\u001b[36m(ParallelRecvDataAgent pid=2038366)\u001b[0m INFO:root:\ttask: avg\tloss: 0.45490616\tacc: 0.866\n"
     ]
    },
    {
     "name": "stdout",
     "output_type": "stream",
     "text": [
      "training from 0 to 16\n",
      "comm at epoch 16\n"
     ]
    },
    {
     "name": "stderr",
     "output_type": "stream",
     "text": [
      "\u001b[2m\u001b[36m(ParallelRecvDataAgent pid=2038178)\u001b[0m INFO:root:epochs: 21, training task: 4\n",
      "\u001b[2m\u001b[36m(ParallelRecvDataAgent pid=2038178)\u001b[0m INFO:root:\ttask: 0\tloss: 0.39294464\tacc: 0.989\n",
      "\u001b[2m\u001b[36m(ParallelRecvDataAgent pid=2038178)\u001b[0m INFO:root:\ttask: 1\tloss: 0.37747095\tacc: 0.979\n",
      "\u001b[2m\u001b[36m(ParallelRecvDataAgent pid=2038178)\u001b[0m INFO:root:\ttask: 2\tloss: 0.43704142\tacc: 0.943\n",
      "\u001b[2m\u001b[36m(ParallelRecvDataAgent pid=2038178)\u001b[0m INFO:root:\ttask: 3\tloss: 0.35984711\tacc: 0.986\n",
      "\u001b[2m\u001b[36m(ParallelRecvDataAgent pid=2038178)\u001b[0m INFO:root:\ttask: 4\tloss: 0.70574645\tacc: 0.476\n",
      "\u001b[2m\u001b[36m(ParallelRecvDataAgent pid=2038178)\u001b[0m INFO:root:\ttask: avg\tloss: 0.45461011\tacc: 0.875\n",
      "\u001b[2m\u001b[36m(ParallelRecvDataAgent pid=2038366)\u001b[0m INFO:root:epochs: 21, training task: 4\n",
      "\u001b[2m\u001b[36m(ParallelRecvDataAgent pid=2038366)\u001b[0m INFO:root:\ttask: 0\tloss: 0.37277447\tacc: 0.977\n",
      "\u001b[2m\u001b[36m(ParallelRecvDataAgent pid=2038366)\u001b[0m INFO:root:\ttask: 1\tloss: 0.45240000\tacc: 0.928\n",
      "\u001b[2m\u001b[36m(ParallelRecvDataAgent pid=2038366)\u001b[0m INFO:root:\ttask: 2\tloss: 0.38272549\tacc: 0.981\n",
      "\u001b[2m\u001b[36m(ParallelRecvDataAgent pid=2038366)\u001b[0m INFO:root:\ttask: 3\tloss: 0.37253642\tacc: 0.965\n",
      "\u001b[2m\u001b[36m(ParallelRecvDataAgent pid=2038366)\u001b[0m INFO:root:\ttask: 4\tloss: 0.71541574\tacc: 0.476\n",
      "\u001b[2m\u001b[36m(ParallelRecvDataAgent pid=2038366)\u001b[0m INFO:root:\ttask: avg\tloss: 0.45917042\tacc: 0.866\n",
      "\u001b[2m\u001b[36m(ParallelRecvDataAgent pid=2038059)\u001b[0m INFO:root:epochs: 21, training task: 4\n",
      "\u001b[2m\u001b[36m(ParallelRecvDataAgent pid=2038059)\u001b[0m INFO:root:\ttask: 0\tloss: 0.39762004\tacc: 0.965\n",
      "\u001b[2m\u001b[36m(ParallelRecvDataAgent pid=2038059)\u001b[0m INFO:root:\ttask: 1\tloss: 0.37774693\tacc: 0.954\n",
      "\u001b[2m\u001b[36m(ParallelRecvDataAgent pid=2038059)\u001b[0m INFO:root:\ttask: 2\tloss: 0.37510298\tacc: 0.988\n",
      "\u001b[2m\u001b[36m(ParallelRecvDataAgent pid=2038059)\u001b[0m INFO:root:\ttask: 3\tloss: 0.38231540\tacc: 0.981\n",
      "\u001b[2m\u001b[36m(ParallelRecvDataAgent pid=2038059)\u001b[0m INFO:root:\ttask: 4\tloss: 0.69553131\tacc: 0.542\n",
      "\u001b[2m\u001b[36m(ParallelRecvDataAgent pid=2038059)\u001b[0m INFO:root:\ttask: avg\tloss: 0.44566333\tacc: 0.886\n",
      "\u001b[2m\u001b[36m(ParallelRecvDataAgent pid=2038057)\u001b[0m INFO:root:epochs: 21, training task: 4\n",
      "\u001b[2m\u001b[36m(ParallelRecvDataAgent pid=2038057)\u001b[0m INFO:root:\ttask: 0\tloss: 0.38150023\tacc: 0.962\n",
      "\u001b[2m\u001b[36m(ParallelRecvDataAgent pid=2038057)\u001b[0m INFO:root:\ttask: 1\tloss: 0.36851734\tacc: 0.984\n",
      "\u001b[2m\u001b[36m(ParallelRecvDataAgent pid=2038057)\u001b[0m INFO:root:\ttask: 2\tloss: 0.37948792\tacc: 0.970\n",
      "\u001b[2m\u001b[36m(ParallelRecvDataAgent pid=2038057)\u001b[0m INFO:root:\ttask: 3\tloss: 0.37777624\tacc: 0.981\n",
      "\u001b[2m\u001b[36m(ParallelRecvDataAgent pid=2038057)\u001b[0m INFO:root:\ttask: 4\tloss: 0.71074167\tacc: 0.498\n",
      "\u001b[2m\u001b[36m(ParallelRecvDataAgent pid=2038057)\u001b[0m INFO:root:\ttask: avg\tloss: 0.44360468\tacc: 0.879\n",
      "\u001b[2m\u001b[36m(ParallelRecvDataAgent pid=2038058)\u001b[0m INFO:root:epochs: 21, training task: 4\n",
      "\u001b[2m\u001b[36m(ParallelRecvDataAgent pid=2038058)\u001b[0m INFO:root:\ttask: 0\tloss: 0.37953345\tacc: 0.970\n",
      "\u001b[2m\u001b[36m(ParallelRecvDataAgent pid=2038058)\u001b[0m INFO:root:\ttask: 1\tloss: 0.35447751\tacc: 0.975\n",
      "\u001b[2m\u001b[36m(ParallelRecvDataAgent pid=2038058)\u001b[0m INFO:root:\ttask: 2\tloss: 0.38573264\tacc: 0.966\n",
      "\u001b[2m\u001b[36m(ParallelRecvDataAgent pid=2038058)\u001b[0m INFO:root:\ttask: 3\tloss: 0.40629087\tacc: 0.988\n",
      "\u001b[2m\u001b[36m(ParallelRecvDataAgent pid=2038058)\u001b[0m INFO:root:\ttask: 4\tloss: 0.70916746\tacc: 0.524\n",
      "\u001b[2m\u001b[36m(ParallelRecvDataAgent pid=2038058)\u001b[0m INFO:root:\ttask: avg\tloss: 0.44704038\tacc: 0.885\n",
      "\u001b[2m\u001b[36m(ParallelRecvDataAgent pid=2038102)\u001b[0m INFO:root:epochs: 21, training task: 4\n",
      "\u001b[2m\u001b[36m(ParallelRecvDataAgent pid=2038102)\u001b[0m INFO:root:\ttask: 0\tloss: 0.40698826\tacc: 0.945\n",
      "\u001b[2m\u001b[36m(ParallelRecvDataAgent pid=2038102)\u001b[0m INFO:root:\ttask: 1\tloss: 0.35209568\tacc: 0.988\n",
      "\u001b[2m\u001b[36m(ParallelRecvDataAgent pid=2038102)\u001b[0m INFO:root:\ttask: 2\tloss: 0.38127397\tacc: 0.980\n",
      "\u001b[2m\u001b[36m(ParallelRecvDataAgent pid=2038102)\u001b[0m INFO:root:\ttask: 3\tloss: 0.35618965\tacc: 0.987\n",
      "\u001b[2m\u001b[36m(ParallelRecvDataAgent pid=2038102)\u001b[0m INFO:root:\ttask: 4\tloss: 0.73495457\tacc: 0.476\n",
      "\u001b[2m\u001b[36m(ParallelRecvDataAgent pid=2038102)\u001b[0m INFO:root:\ttask: avg\tloss: 0.44630042\tacc: 0.875\n",
      "\u001b[2m\u001b[36m(ParallelRecvDataAgent pid=2038242)\u001b[0m INFO:root:epochs: 21, training task: 4\n",
      "\u001b[2m\u001b[36m(ParallelRecvDataAgent pid=2038242)\u001b[0m INFO:root:\ttask: 0\tloss: 0.40444570\tacc: 0.959\n",
      "\u001b[2m\u001b[36m(ParallelRecvDataAgent pid=2038242)\u001b[0m INFO:root:\ttask: 1\tloss: 0.39604017\tacc: 0.988\n",
      "\u001b[2m\u001b[36m(ParallelRecvDataAgent pid=2038242)\u001b[0m INFO:root:\ttask: 2\tloss: 0.35394485\tacc: 0.986\n",
      "\u001b[2m\u001b[36m(ParallelRecvDataAgent pid=2038242)\u001b[0m INFO:root:\ttask: 3\tloss: 0.35362778\tacc: 0.993\n",
      "\u001b[2m\u001b[36m(ParallelRecvDataAgent pid=2038242)\u001b[0m INFO:root:\ttask: 4\tloss: 0.69994964\tacc: 0.507\n",
      "\u001b[2m\u001b[36m(ParallelRecvDataAgent pid=2038242)\u001b[0m INFO:root:\ttask: avg\tloss: 0.44160163\tacc: 0.887\n",
      "\u001b[2m\u001b[36m(ParallelRecvDataAgent pid=2038304)\u001b[0m INFO:root:epochs: 21, training task: 4\n",
      "\u001b[2m\u001b[36m(ParallelRecvDataAgent pid=2038304)\u001b[0m INFO:root:\ttask: 0\tloss: 0.36229762\tacc: 0.977\n",
      "\u001b[2m\u001b[36m(ParallelRecvDataAgent pid=2038304)\u001b[0m INFO:root:\ttask: 1\tloss: 0.40754404\tacc: 0.963\n",
      "\u001b[2m\u001b[36m(ParallelRecvDataAgent pid=2038304)\u001b[0m INFO:root:\ttask: 2\tloss: 0.38876906\tacc: 0.986\n",
      "\u001b[2m\u001b[36m(ParallelRecvDataAgent pid=2038304)\u001b[0m INFO:root:\ttask: 3\tloss: 0.44489061\tacc: 0.923\n",
      "\u001b[2m\u001b[36m(ParallelRecvDataAgent pid=2038304)\u001b[0m INFO:root:\ttask: 4\tloss: 0.71048840\tacc: 0.494\n",
      "\u001b[2m\u001b[36m(ParallelRecvDataAgent pid=2038304)\u001b[0m INFO:root:\ttask: avg\tloss: 0.46279795\tacc: 0.869\n"
     ]
    },
    {
     "name": "stdout",
     "output_type": "stream",
     "text": [
      "training from 16 to 32\n",
      "comm at epoch 32\n"
     ]
    }
   ],
   "source": [
    "fleet.train_and_comm(task_id=test_task_id)"
   ]
  },
  {
   "cell_type": "code",
   "execution_count": null,
   "metadata": {},
   "outputs": [
    {
     "data": {
      "image/png": "[encoded data removed]",
      "text/plain": [
       "<Figure size 640x480 with 1 Axes>"
      ]
     },
     "metadata": {},
     "output_type": "display_data"
    }
   ],
   "source": [
    "after_sharing_and_learn = fleet.eval_test(test_task_id)\n",
    "df = pd.DataFrame(after_sharing_and_learn)\n",
    "df.columns = df.columns.astype(str)\n",
    "\n",
    "task_stats = df.agg([\"mean\", \"std\"])\n",
    "plt.bar(task_stats.columns, task_stats.loc['mean'], yerr=task_stats.loc['std'], capsize=5, color='skyblue')\n",
    "plt.xlabel('Tasks')\n",
    "plt.ylabel('Average Performance')\n",
    "plt.title('Baseline Performance')\n",
    "plt.ylim(0.4, 1.0)  \n",
    "plt.show()"
   ]
  },
  {
   "cell_type": "code",
   "execution_count": null,
   "metadata": {},
   "outputs": [
    {
     "data": {
      "text/html": [
       "<div>\n",
       "<style scoped>\n",
       "    .dataframe tbody tr th:only-of-type {\n",
       "        vertical-align: middle;\n",
       "    }\n",
       "\n",
       "    .dataframe tbody tr th {\n",
       "        vertical-align: top;\n",
       "    }\n",
       "\n",
       "    .dataframe thead th {\n",
       "        text-align: right;\n",
       "    }\n",
       "</style>\n",
       "<table border=\"1\" class=\"dataframe\">\n",
       "  <thead>\n",
       "    <tr style=\"text-align: right;\">\n",
       "      <th></th>\n",
       "      <th>0</th>\n",
       "      <th>1</th>\n",
       "      <th>2</th>\n",
       "      <th>3</th>\n",
       "      <th>4</th>\n",
       "      <th>avg</th>\n",
       "    </tr>\n",
       "  </thead>\n",
       "  <tbody>\n",
       "    <tr>\n",
       "      <th>mean</th>\n",
       "      <td>0.967657</td>\n",
       "      <td>0.965499</td>\n",
       "      <td>0.972772</td>\n",
       "      <td>0.968493</td>\n",
       "      <td>0.967331</td>\n",
       "      <td>0.968350</td>\n",
       "    </tr>\n",
       "    <tr>\n",
       "      <th>std</th>\n",
       "      <td>0.013220</td>\n",
       "      <td>0.022363</td>\n",
       "      <td>0.017461</td>\n",
       "      <td>0.024640</td>\n",
       "      <td>0.026662</td>\n",
       "      <td>0.006793</td>\n",
       "    </tr>\n",
       "  </tbody>\n",
       "</table>\n",
       "</div>"
      ],
      "text/plain": [
       "             0         1         2         3         4       avg\n",
       "mean  0.967657  0.965499  0.972772  0.968493  0.967331  0.968350\n",
       "std   0.013220  0.022363  0.017461  0.024640  0.026662  0.006793"
      ]
     },
     "execution_count": 29,
     "metadata": {},
     "output_type": "execute_result"
    }
   ],
   "source": [
    "task_stats"
   ]
  },
  {
   "cell_type": "code",
   "execution_count": null,
   "metadata": {},
   "outputs": [],
   "source": []
  }
 ],
 "metadata": {
  "kernelspec": {
   "display_name": "shell",
   "language": "python",
   "name": "python3"
  },
  "language_info": {
   "codemirror_mode": {
    "name": "ipython",
    "version": 3
   },
   "file_extension": ".py",
   "mimetype": "text/x-python",
   "name": "python",
   "nbconvert_exporter": "python",
   "pygments_lexer": "ipython3",
   "version": "3.10.9"
  }
 },
 "nbformat": 4,
 "nbformat_minor": 2
}
