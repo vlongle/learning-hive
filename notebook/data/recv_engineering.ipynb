{
 "cells": [
  {
   "cell_type": "code",
   "execution_count": 1,
   "metadata": {},
   "outputs": [],
   "source": [
    "import os\n",
    "os.chdir(\"../..\")"
   ]
  },
  {
   "cell_type": "code",
   "execution_count": 2,
   "metadata": {},
   "outputs": [],
   "source": [
    "import omegaconf\n",
    "from shell.utils.experiment_utils import *\n",
    "from shell.utils.metric import *\n",
    "import matplotlib.pyplot as plt\n",
    "from shell.fleet.network import TopologyGenerator\n",
    "import matplotlib.pyplot as plt\n",
    "from sklearn.manifold import TSNE\n",
    "import numpy as np\n",
    "import pandas as pd\n",
    "from shell.fleet.fleet import Agent, Fleet\n",
    "from shell.fleet.data.data_utilize import *\n",
    "from shell.fleet.data.recv import *\n",
    "\n",
    "from sklearn.manifold import TSNE\n",
    "from torchvision.utils import make_grid\n",
    "import logging\n",
    "logging.basicConfig(level=logging.INFO)"
   ]
  },
  {
   "cell_type": "code",
   "execution_count": 3,
   "metadata": {},
   "outputs": [],
   "source": [
    "use_contrastive = True\n",
    "num_tasks = 4\n",
    "num_init_tasks = 4\n",
    "num_epochs = 2"
   ]
  },
  {
   "cell_type": "code",
   "execution_count": 4,
   "metadata": {},
   "outputs": [
    {
     "name": "stderr",
     "output_type": "stream",
     "text": [
      "INFO:root:Class sequence: [5 0 3 4 2 6 7 1 8 9]\n",
      "INFO:root:task 0 :(128, 1, 28, 28)\n",
      "INFO:root:task 1 :(128, 1, 28, 28)\n",
      "INFO:root:task 2 :(128, 1, 28, 28)\n",
      "INFO:root:task 3 :(128, 1, 28, 28)\n"
     ]
    }
   ],
   "source": [
    "seed_everything(0)\n",
    "\n",
    "data_cfg = {\n",
    "    \"dataset_name\": \"mnist\",\n",
    "    \"num_tasks\": num_tasks,\n",
    "    \"num_train_per_task\": 128,\n",
    "    \"num_val_per_task\": 102,\n",
    "    'remap_labels': True,\n",
    "    'use_contrastive': use_contrastive,\n",
    "}\n",
    "dataset = get_dataset(**data_cfg)"
   ]
  },
  {
   "cell_type": "code",
   "execution_count": 5,
   "metadata": {},
   "outputs": [
    {
     "name": "stderr",
     "output_type": "stream",
     "text": [
      "INFO:root:Class sequence: [9 5 7 8 4 3 6 1 0 2]\n",
      "INFO:root:task 0 :(128, 1, 28, 28)\n",
      "INFO:root:task 1 :(128, 1, 28, 28)\n",
      "INFO:root:task 2 :(128, 1, 28, 28)\n",
      "INFO:root:task 3 :(128, 1, 28, 28)\n"
     ]
    }
   ],
   "source": [
    "seed_everything(7)\n",
    "sender_dataset1 = get_dataset(**data_cfg)"
   ]
  },
  {
   "cell_type": "code",
   "execution_count": 6,
   "metadata": {},
   "outputs": [
    {
     "name": "stderr",
     "output_type": "stream",
     "text": [
      "INFO:root:Class sequence: [9 1 6 5 2 0 4 8 3 7]\n",
      "INFO:root:task 0 :(128, 1, 28, 28)\n",
      "INFO:root:task 1 :(128, 1, 28, 28)\n",
      "INFO:root:task 2 :(128, 1, 28, 28)\n",
      "INFO:root:task 3 :(128, 1, 28, 28)\n"
     ]
    }
   ],
   "source": [
    "seed_everything(9)\n",
    "sender_dataset2 = get_dataset(**data_cfg)"
   ]
  },
  {
   "cell_type": "code",
   "execution_count": 7,
   "metadata": {},
   "outputs": [],
   "source": [
    "net_cfg = {\n",
    "    'depth': num_init_tasks,\n",
    "    'layer_size': 64,\n",
    "    'num_init_tasks': num_init_tasks,\n",
    "    'i_size': 28,\n",
    "    'num_classes': 2,\n",
    "    'num_tasks': num_tasks,\n",
    "    'dropout': 0.0,\n",
    "}\n",
    "\n",
    "agent_cfg = {\n",
    "    'memory_size': 64,\n",
    "    'use_contrastive': use_contrastive,\n",
    "    'save_dir': 'test',\n",
    "}"
   ]
  },
  {
   "cell_type": "code",
   "execution_count": 8,
   "metadata": {},
   "outputs": [],
   "source": [
    "NetCls = MLPSoftLLDynamic\n",
    "LearnerCls = CompositionalDynamicER\n",
    "AgentCls = RecvDataAgent\n",
    "sharing_cfg = DictConfig({\n",
    "    \"scorer\": \"cross_entropy\",\n",
    "    \"num_queries\": 5,\n",
    "    'num_data_neighbors': 5,\n",
    "    'num_filter_neighbors': 5,\n",
    "    'num_coms_per_round': 2,\n",
    "    \"query_score_threshold\": 0.0,\n",
    "    \"shared_memory_size\": 100000,\n",
    "})\n",
    "train_cfg = {\n",
    "    # \"num_epochs\": 40,\n",
    "    \"num_epochs\": num_epochs,\n",
    "}"
   ]
  },
  {
   "cell_type": "code",
   "execution_count": 9,
   "metadata": {},
   "outputs": [
    {
     "data": {
      "image/png": "[encoded data removed]",
      "text/plain": [
       "<Figure size 640x480 with 1 Axes>"
      ]
     },
     "metadata": {},
     "output_type": "display_data"
    }
   ],
   "source": [
    "# create a graph of 3 nodes and 2 edges from 2 and 3 to 1\n",
    "g = TopologyGenerator(num_nodes=3).generate_fully_connected()\n",
    "TopologyGenerator.plot_graph(g)"
   ]
  },
  {
   "cell_type": "code",
   "execution_count": 10,
   "metadata": {},
   "outputs": [
    {
     "name": "stderr",
     "output_type": "stream",
     "text": [
      "INFO:root:Agent: node_id: 0, seed: 0\n",
      "INFO:root:Agent: node_id: 1, seed: 1000\n",
      "INFO:root:Agent: node_id: 2, seed: 2000\n",
      "INFO:root:Created fleet with 3 agents\n",
      "INFO:root:Adding neighbors...\n",
      "INFO:root:Fleet initialized\n"
     ]
    }
   ],
   "source": [
    "fleet = Fleet(g, 0, [dataset, sender_dataset1, sender_dataset2], \n",
    "              sharing_cfg, AgentCls, NetCls, LearnerCls, net_cfg, agent_cfg, \n",
    "              train_cfg)"
   ]
  },
  {
   "cell_type": "code",
   "execution_count": 11,
   "metadata": {},
   "outputs": [
    {
     "name": "stderr",
     "output_type": "stream",
     "text": [
      "INFO:root:epochs: 0, training task: 0\n",
      "INFO:root:\ttask: 0\tloss: 0.69224913\tacc: 0.524\n",
      "INFO:root:\ttask: avg\tloss: 0.69224913\tacc: 0.524\n",
      "INFO:root:epochs: 0, training task: 0\n",
      "INFO:root:\ttask: 0\tloss: 0.69224913\tacc: 0.524\n",
      "INFO:root:\ttask: avg\tloss: 0.69224913\tacc: 0.524\n",
      "INFO:root:final components: 4\n",
      "INFO:root:epochs: 0, training task: 0\n",
      "INFO:root:\ttask: 0\tloss: 0.70603324\tacc: 0.469\n",
      "INFO:root:\ttask: avg\tloss: 0.70603324\tacc: 0.469\n",
      "INFO:root:epochs: 0, training task: 0\n",
      "INFO:root:\ttask: 0\tloss: 0.70603324\tacc: 0.469\n",
      "INFO:root:\ttask: avg\tloss: 0.70603324\tacc: 0.469\n",
      "INFO:root:final components: 4\n",
      "INFO:root:epochs: 0, training task: 0\n",
      "INFO:root:\ttask: 0\tloss: 0.69183442\tacc: 0.529\n",
      "INFO:root:\ttask: avg\tloss: 0.69183442\tacc: 0.529\n",
      "INFO:root:epochs: 0, training task: 0\n",
      "INFO:root:\ttask: 0\tloss: 0.69183442\tacc: 0.529\n",
      "INFO:root:\ttask: avg\tloss: 0.69183442\tacc: 0.529\n",
      "INFO:root:final components: 4\n",
      "INFO:root:epochs: 0, training task: 1\n",
      "INFO:root:\ttask: 0\tloss: 0.69224913\tacc: 0.524\n",
      "INFO:root:\ttask: 1\tloss: 0.69401731\tacc: 0.493\n",
      "INFO:root:\ttask: avg\tloss: 0.69313322\tacc: 0.508\n",
      "INFO:root:epochs: 0, training task: 1\n",
      "INFO:root:\ttask: 0\tloss: 0.69224913\tacc: 0.524\n",
      "INFO:root:\ttask: 1\tloss: 0.69401731\tacc: 0.493\n",
      "INFO:root:\ttask: avg\tloss: 0.69313322\tacc: 0.508\n",
      "INFO:root:final components: 4\n",
      "INFO:root:epochs: 0, training task: 1\n",
      "INFO:root:\ttask: 0\tloss: 0.70603324\tacc: 0.469\n",
      "INFO:root:\ttask: 1\tloss: 0.69304514\tacc: 0.513\n",
      "INFO:root:\ttask: avg\tloss: 0.69953919\tacc: 0.491\n",
      "INFO:root:epochs: 0, training task: 1\n",
      "INFO:root:\ttask: 0\tloss: 0.70603324\tacc: 0.469\n",
      "INFO:root:\ttask: 1\tloss: 0.69304514\tacc: 0.513\n",
      "INFO:root:\ttask: avg\tloss: 0.69953919\tacc: 0.491\n",
      "INFO:root:final components: 4\n",
      "INFO:root:epochs: 0, training task: 1\n",
      "INFO:root:\ttask: 0\tloss: 0.69183442\tacc: 0.529\n",
      "INFO:root:\ttask: 1\tloss: 0.69264560\tacc: 0.518\n",
      "INFO:root:\ttask: avg\tloss: 0.69224001\tacc: 0.524\n",
      "INFO:root:epochs: 0, training task: 1\n",
      "INFO:root:\ttask: 0\tloss: 0.69183442\tacc: 0.529\n",
      "INFO:root:\ttask: 1\tloss: 0.69264560\tacc: 0.518\n",
      "INFO:root:\ttask: avg\tloss: 0.69224001\tacc: 0.524\n",
      "INFO:root:final components: 4\n",
      "INFO:root:epochs: 0, training task: 2\n",
      "INFO:root:\ttask: 0\tloss: 0.69224913\tacc: 0.524\n",
      "INFO:root:\ttask: 1\tloss: 0.69401731\tacc: 0.493\n",
      "INFO:root:\ttask: 2\tloss: 0.69849413\tacc: 0.481\n",
      "INFO:root:\ttask: avg\tloss: 0.69492019\tacc: 0.499\n",
      "INFO:root:epochs: 0, training task: 2\n",
      "INFO:root:\ttask: 0\tloss: 0.69224913\tacc: 0.524\n",
      "INFO:root:\ttask: 1\tloss: 0.69401731\tacc: 0.493\n",
      "INFO:root:\ttask: 2\tloss: 0.69849413\tacc: 0.481\n",
      "INFO:root:\ttask: avg\tloss: 0.69492019\tacc: 0.499\n",
      "INFO:root:final components: 4\n",
      "INFO:root:epochs: 0, training task: 2\n",
      "INFO:root:\ttask: 0\tloss: 0.70603324\tacc: 0.469\n",
      "INFO:root:\ttask: 1\tloss: 0.69304514\tacc: 0.513\n",
      "INFO:root:\ttask: 2\tloss: 0.69310841\tacc: 0.507\n",
      "INFO:root:\ttask: avg\tloss: 0.69739560\tacc: 0.497\n",
      "INFO:root:epochs: 0, training task: 2\n",
      "INFO:root:\ttask: 0\tloss: 0.70603324\tacc: 0.469\n",
      "INFO:root:\ttask: 1\tloss: 0.69304514\tacc: 0.513\n",
      "INFO:root:\ttask: 2\tloss: 0.69310841\tacc: 0.507\n",
      "INFO:root:\ttask: avg\tloss: 0.69739560\tacc: 0.497\n",
      "INFO:root:final components: 4\n",
      "INFO:root:epochs: 0, training task: 2\n",
      "INFO:root:\ttask: 0\tloss: 0.69183442\tacc: 0.529\n",
      "INFO:root:\ttask: 1\tloss: 0.69264560\tacc: 0.518\n",
      "INFO:root:\ttask: 2\tloss: 0.69333422\tacc: 0.513\n",
      "INFO:root:\ttask: avg\tloss: 0.69260475\tacc: 0.520\n",
      "INFO:root:epochs: 0, training task: 2\n",
      "INFO:root:\ttask: 0\tloss: 0.69183442\tacc: 0.529\n",
      "INFO:root:\ttask: 1\tloss: 0.69264560\tacc: 0.518\n",
      "INFO:root:\ttask: 2\tloss: 0.69333422\tacc: 0.513\n",
      "INFO:root:\ttask: avg\tloss: 0.69260475\tacc: 0.520\n",
      "INFO:root:final components: 4\n",
      "INFO:root:epochs: 0, training task: 3\n",
      "INFO:root:\ttask: 0\tloss: 0.69224913\tacc: 0.524\n",
      "INFO:root:\ttask: 1\tloss: 0.69401731\tacc: 0.493\n",
      "INFO:root:\ttask: 2\tloss: 0.69849413\tacc: 0.481\n",
      "INFO:root:\ttask: 3\tloss: 0.69243117\tacc: 0.525\n",
      "INFO:root:\ttask: avg\tloss: 0.69429794\tacc: 0.506\n",
      "INFO:root:epochs: 1, training task: 3\n",
      "INFO:root:\ttask: 0\tloss: 0.69224049\tacc: 0.524\n",
      "INFO:root:\ttask: 1\tloss: 0.69482610\tacc: 0.493\n",
      "INFO:root:\ttask: 2\tloss: 0.69898122\tacc: 0.481\n",
      "INFO:root:\ttask: 3\tloss: 0.69219974\tacc: 0.525\n",
      "INFO:root:\ttask: avg\tloss: 0.69456189\tacc: 0.506\n",
      "INFO:root:epochs: 2, training task: 3\n",
      "INFO:root:\ttask: 0\tloss: 0.69209278\tacc: 0.524\n",
      "INFO:root:\ttask: 1\tloss: 0.69640517\tacc: 0.493\n",
      "INFO:root:\ttask: 2\tloss: 0.69967271\tacc: 0.481\n",
      "INFO:root:\ttask: 3\tloss: 0.69208647\tacc: 0.525\n",
      "INFO:root:\ttask: avg\tloss: 0.69506428\tacc: 0.506\n",
      "INFO:root:epochs: 3, training task: 3\n",
      "INFO:root:\ttask: 0\tloss: 0.69209278\tacc: 0.524\n",
      "INFO:root:\ttask: 1\tloss: 0.69640517\tacc: 0.493\n",
      "INFO:root:\ttask: 2\tloss: 0.69967271\tacc: 0.481\n",
      "INFO:root:\ttask: 3\tloss: 0.69208647\tacc: 0.525\n",
      "INFO:root:\ttask: avg\tloss: 0.69506428\tacc: 0.506\n",
      "INFO:root:final components: 4\n",
      "INFO:root:epochs: 0, training task: 3\n",
      "INFO:root:\ttask: 0\tloss: 0.70603324\tacc: 0.469\n",
      "INFO:root:\ttask: 1\tloss: 0.69304514\tacc: 0.513\n",
      "INFO:root:\ttask: 2\tloss: 0.69310841\tacc: 0.507\n",
      "INFO:root:\ttask: 3\tloss: 0.69434155\tacc: 0.458\n",
      "INFO:root:\ttask: avg\tloss: 0.69663208\tacc: 0.487\n",
      "INFO:root:epochs: 1, training task: 3\n",
      "INFO:root:\ttask: 0\tloss: 0.70619648\tacc: 0.469\n",
      "INFO:root:\ttask: 1\tloss: 0.69287869\tacc: 0.513\n",
      "INFO:root:\ttask: 2\tloss: 0.69275998\tacc: 0.507\n",
      "INFO:root:\ttask: 3\tloss: 0.69459889\tacc: 0.458\n",
      "INFO:root:\ttask: avg\tloss: 0.69660851\tacc: 0.487\n",
      "INFO:root:epochs: 2, training task: 3\n",
      "INFO:root:\ttask: 0\tloss: 0.70518596\tacc: 0.469\n",
      "INFO:root:\ttask: 1\tloss: 0.69262674\tacc: 0.513\n",
      "INFO:root:\ttask: 2\tloss: 0.69243505\tacc: 0.507\n",
      "INFO:root:\ttask: 3\tloss: 0.69493834\tacc: 0.458\n",
      "INFO:root:\ttask: avg\tloss: 0.69629652\tacc: 0.487\n",
      "INFO:root:epochs: 3, training task: 3\n",
      "INFO:root:\ttask: 0\tloss: 0.70518596\tacc: 0.469\n",
      "INFO:root:\ttask: 1\tloss: 0.69262674\tacc: 0.513\n",
      "INFO:root:\ttask: 2\tloss: 0.69243505\tacc: 0.507\n",
      "INFO:root:\ttask: 3\tloss: 0.69493834\tacc: 0.458\n",
      "INFO:root:\ttask: avg\tloss: 0.69629652\tacc: 0.487\n",
      "INFO:root:final components: 4\n",
      "INFO:root:epochs: 0, training task: 3\n",
      "INFO:root:\ttask: 0\tloss: 0.69183442\tacc: 0.529\n",
      "INFO:root:\ttask: 1\tloss: 0.69264560\tacc: 0.518\n",
      "INFO:root:\ttask: 2\tloss: 0.69333422\tacc: 0.513\n",
      "INFO:root:\ttask: 3\tloss: 0.69467662\tacc: 0.502\n",
      "INFO:root:\ttask: avg\tloss: 0.69312272\tacc: 0.516\n",
      "INFO:root:epochs: 1, training task: 3\n",
      "INFO:root:\ttask: 0\tloss: 0.69091762\tacc: 0.529\n",
      "INFO:root:\ttask: 1\tloss: 0.69265325\tacc: 0.518\n",
      "INFO:root:\ttask: 2\tloss: 0.69359140\tacc: 0.513\n",
      "INFO:root:\ttask: 3\tloss: 0.69418278\tacc: 0.502\n",
      "INFO:root:\ttask: avg\tloss: 0.69283626\tacc: 0.516\n",
      "INFO:root:epochs: 2, training task: 3\n",
      "INFO:root:\ttask: 0\tloss: 0.68987919\tacc: 0.529\n",
      "INFO:root:\ttask: 1\tloss: 0.69284463\tacc: 0.518\n",
      "INFO:root:\ttask: 2\tloss: 0.69422538\tacc: 0.513\n",
      "INFO:root:\ttask: 3\tloss: 0.69381305\tacc: 0.502\n",
      "INFO:root:\ttask: avg\tloss: 0.69269056\tacc: 0.516\n",
      "INFO:root:epochs: 3, training task: 3\n",
      "INFO:root:\ttask: 0\tloss: 0.68987919\tacc: 0.529\n",
      "INFO:root:\ttask: 1\tloss: 0.69284463\tacc: 0.518\n",
      "INFO:root:\ttask: 2\tloss: 0.69422538\tacc: 0.513\n",
      "INFO:root:\ttask: 3\tloss: 0.69381305\tacc: 0.502\n",
      "INFO:root:\ttask: avg\tloss: 0.69269056\tacc: 0.516\n",
      "INFO:root:final components: 4\n"
     ]
    }
   ],
   "source": [
    "for t in range(num_tasks):\n",
    "    fleet.train(t)"
   ]
  },
  {
   "cell_type": "code",
   "execution_count": 12,
   "metadata": {},
   "outputs": [],
   "source": [
    "fleet.communicate(num_tasks-1)"
   ]
  },
  {
   "cell_type": "code",
   "execution_count": 13,
   "metadata": {},
   "outputs": [
    {
     "data": {
      "text/plain": [
       "dict_keys([1, 2])"
      ]
     },
     "execution_count": 13,
     "metadata": {},
     "output_type": "execute_result"
    }
   ],
   "source": [
    "fleet.agents[0].incoming_query.keys()"
   ]
  },
  {
   "cell_type": "code",
   "execution_count": 14,
   "metadata": {},
   "outputs": [
    {
     "data": {
      "text/plain": [
       "{0: tensor([[[[0., 0., 0.,  ..., 0., 0., 0.],\n",
       "           [0., 0., 0.,  ..., 0., 0., 0.],\n",
       "           [0., 0., 0.,  ..., 0., 0., 0.],\n",
       "           ...,\n",
       "           [0., 0., 0.,  ..., 0., 0., 0.],\n",
       "           [0., 0., 0.,  ..., 0., 0., 0.],\n",
       "           [0., 0., 0.,  ..., 0., 0., 0.]]],\n",
       " \n",
       " \n",
       "         [[[0., 0., 0.,  ..., 0., 0., 0.],\n",
       "           [0., 0., 0.,  ..., 0., 0., 0.],\n",
       "           [0., 0., 0.,  ..., 0., 0., 0.],\n",
       "           ...,\n",
       "           [0., 0., 0.,  ..., 0., 0., 0.],\n",
       "           [0., 0., 0.,  ..., 0., 0., 0.],\n",
       "           [0., 0., 0.,  ..., 0., 0., 0.]]],\n",
       " \n",
       " \n",
       "         [[[0., 0., 0.,  ..., 0., 0., 0.],\n",
       "           [0., 0., 0.,  ..., 0., 0., 0.],\n",
       "           [0., 0., 0.,  ..., 0., 0., 0.],\n",
       "           ...,\n",
       "           [0., 0., 0.,  ..., 0., 0., 0.],\n",
       "           [0., 0., 0.,  ..., 0., 0., 0.],\n",
       "           [0., 0., 0.,  ..., 0., 0., 0.]]],\n",
       " \n",
       " \n",
       "         [[[0., 0., 0.,  ..., 0., 0., 0.],\n",
       "           [0., 0., 0.,  ..., 0., 0., 0.],\n",
       "           [0., 0., 0.,  ..., 0., 0., 0.],\n",
       "           ...,\n",
       "           [0., 0., 0.,  ..., 0., 0., 0.],\n",
       "           [0., 0., 0.,  ..., 0., 0., 0.],\n",
       "           [0., 0., 0.,  ..., 0., 0., 0.]]],\n",
       " \n",
       " \n",
       "         [[[0., 0., 0.,  ..., 0., 0., 0.],\n",
       "           [0., 0., 0.,  ..., 0., 0., 0.],\n",
       "           [0., 0., 0.,  ..., 0., 0., 0.],\n",
       "           ...,\n",
       "           [0., 0., 0.,  ..., 0., 0., 0.],\n",
       "           [0., 0., 0.,  ..., 0., 0., 0.],\n",
       "           [0., 0., 0.,  ..., 0., 0., 0.]]]]),\n",
       " 1: tensor([[[[0., 0., 0.,  ..., 0., 0., 0.],\n",
       "           [0., 0., 0.,  ..., 0., 0., 0.],\n",
       "           [0., 0., 0.,  ..., 0., 0., 0.],\n",
       "           ...,\n",
       "           [0., 0., 0.,  ..., 0., 0., 0.],\n",
       "           [0., 0., 0.,  ..., 0., 0., 0.],\n",
       "           [0., 0., 0.,  ..., 0., 0., 0.]]],\n",
       " \n",
       " \n",
       "         [[[0., 0., 0.,  ..., 0., 0., 0.],\n",
       "           [0., 0., 0.,  ..., 0., 0., 0.],\n",
       "           [0., 0., 0.,  ..., 0., 0., 0.],\n",
       "           ...,\n",
       "           [0., 0., 0.,  ..., 0., 0., 0.],\n",
       "           [0., 0., 0.,  ..., 0., 0., 0.],\n",
       "           [0., 0., 0.,  ..., 0., 0., 0.]]],\n",
       " \n",
       " \n",
       "         [[[0., 0., 0.,  ..., 0., 0., 0.],\n",
       "           [0., 0., 0.,  ..., 0., 0., 0.],\n",
       "           [0., 0., 0.,  ..., 0., 0., 0.],\n",
       "           ...,\n",
       "           [0., 0., 0.,  ..., 0., 0., 0.],\n",
       "           [0., 0., 0.,  ..., 0., 0., 0.],\n",
       "           [0., 0., 0.,  ..., 0., 0., 0.]]],\n",
       " \n",
       " \n",
       "         [[[0., 0., 0.,  ..., 0., 0., 0.],\n",
       "           [0., 0., 0.,  ..., 0., 0., 0.],\n",
       "           [0., 0., 0.,  ..., 0., 0., 0.],\n",
       "           ...,\n",
       "           [0., 0., 0.,  ..., 0., 0., 0.],\n",
       "           [0., 0., 0.,  ..., 0., 0., 0.],\n",
       "           [0., 0., 0.,  ..., 0., 0., 0.]]],\n",
       " \n",
       " \n",
       "         [[[0., 0., 0.,  ..., 0., 0., 0.],\n",
       "           [0., 0., 0.,  ..., 0., 0., 0.],\n",
       "           [0., 0., 0.,  ..., 0., 0., 0.],\n",
       "           ...,\n",
       "           [0., 0., 0.,  ..., 0., 0., 0.],\n",
       "           [0., 0., 0.,  ..., 0., 0., 0.],\n",
       "           [0., 0., 0.,  ..., 0., 0., 0.]]]]),\n",
       " 2: tensor([[[[0., 0., 0.,  ..., 0., 0., 0.],\n",
       "           [0., 0., 0.,  ..., 0., 0., 0.],\n",
       "           [0., 0., 0.,  ..., 0., 0., 0.],\n",
       "           ...,\n",
       "           [0., 0., 0.,  ..., 0., 0., 0.],\n",
       "           [0., 0., 0.,  ..., 0., 0., 0.],\n",
       "           [0., 0., 0.,  ..., 0., 0., 0.]]],\n",
       " \n",
       " \n",
       "         [[[0., 0., 0.,  ..., 0., 0., 0.],\n",
       "           [0., 0., 0.,  ..., 0., 0., 0.],\n",
       "           [0., 0., 0.,  ..., 0., 0., 0.],\n",
       "           ...,\n",
       "           [0., 0., 0.,  ..., 0., 0., 0.],\n",
       "           [0., 0., 0.,  ..., 0., 0., 0.],\n",
       "           [0., 0., 0.,  ..., 0., 0., 0.]]],\n",
       " \n",
       " \n",
       "         [[[0., 0., 0.,  ..., 0., 0., 0.],\n",
       "           [0., 0., 0.,  ..., 0., 0., 0.],\n",
       "           [0., 0., 0.,  ..., 0., 0., 0.],\n",
       "           ...,\n",
       "           [0., 0., 0.,  ..., 0., 0., 0.],\n",
       "           [0., 0., 0.,  ..., 0., 0., 0.],\n",
       "           [0., 0., 0.,  ..., 0., 0., 0.]]],\n",
       " \n",
       " \n",
       "         [[[0., 0., 0.,  ..., 0., 0., 0.],\n",
       "           [0., 0., 0.,  ..., 0., 0., 0.],\n",
       "           [0., 0., 0.,  ..., 0., 0., 0.],\n",
       "           ...,\n",
       "           [0., 0., 0.,  ..., 0., 0., 0.],\n",
       "           [0., 0., 0.,  ..., 0., 0., 0.],\n",
       "           [0., 0., 0.,  ..., 0., 0., 0.]]],\n",
       " \n",
       " \n",
       "         [[[0., 0., 0.,  ..., 0., 0., 0.],\n",
       "           [0., 0., 0.,  ..., 0., 0., 0.],\n",
       "           [0., 0., 0.,  ..., 0., 0., 0.],\n",
       "           ...,\n",
       "           [0., 0., 0.,  ..., 0., 0., 0.],\n",
       "           [0., 0., 0.,  ..., 0., 0., 0.],\n",
       "           [0., 0., 0.,  ..., 0., 0., 0.]]]]),\n",
       " 3: tensor([[[[0., 0., 0.,  ..., 0., 0., 0.],\n",
       "           [0., 0., 0.,  ..., 0., 0., 0.],\n",
       "           [0., 0., 0.,  ..., 0., 0., 0.],\n",
       "           ...,\n",
       "           [0., 0., 0.,  ..., 0., 0., 0.],\n",
       "           [0., 0., 0.,  ..., 0., 0., 0.],\n",
       "           [0., 0., 0.,  ..., 0., 0., 0.]]],\n",
       " \n",
       " \n",
       "         [[[0., 0., 0.,  ..., 0., 0., 0.],\n",
       "           [0., 0., 0.,  ..., 0., 0., 0.],\n",
       "           [0., 0., 0.,  ..., 0., 0., 0.],\n",
       "           ...,\n",
       "           [0., 0., 0.,  ..., 0., 0., 0.],\n",
       "           [0., 0., 0.,  ..., 0., 0., 0.],\n",
       "           [0., 0., 0.,  ..., 0., 0., 0.]]],\n",
       " \n",
       " \n",
       "         [[[0., 0., 0.,  ..., 0., 0., 0.],\n",
       "           [0., 0., 0.,  ..., 0., 0., 0.],\n",
       "           [0., 0., 0.,  ..., 0., 0., 0.],\n",
       "           ...,\n",
       "           [0., 0., 0.,  ..., 0., 0., 0.],\n",
       "           [0., 0., 0.,  ..., 0., 0., 0.],\n",
       "           [0., 0., 0.,  ..., 0., 0., 0.]]],\n",
       " \n",
       " \n",
       "         [[[0., 0., 0.,  ..., 0., 0., 0.],\n",
       "           [0., 0., 0.,  ..., 0., 0., 0.],\n",
       "           [0., 0., 0.,  ..., 0., 0., 0.],\n",
       "           ...,\n",
       "           [0., 0., 0.,  ..., 0., 0., 0.],\n",
       "           [0., 0., 0.,  ..., 0., 0., 0.],\n",
       "           [0., 0., 0.,  ..., 0., 0., 0.]]],\n",
       " \n",
       " \n",
       "         [[[0., 0., 0.,  ..., 0., 0., 0.],\n",
       "           [0., 0., 0.,  ..., 0., 0., 0.],\n",
       "           [0., 0., 0.,  ..., 0., 0., 0.],\n",
       "           ...,\n",
       "           [0., 0., 0.,  ..., 0., 0., 0.],\n",
       "           [0., 0., 0.,  ..., 0., 0., 0.],\n",
       "           [0., 0., 0.,  ..., 0., 0., 0.]]]])}"
      ]
     },
     "execution_count": 14,
     "metadata": {},
     "output_type": "execute_result"
    }
   ],
   "source": [
    "fleet.agents[0].query"
   ]
  },
  {
   "cell_type": "code",
   "execution_count": 15,
   "metadata": {},
   "outputs": [
    {
     "data": {
      "text/plain": [
       "50"
      ]
     },
     "execution_count": 15,
     "metadata": {},
     "output_type": "execute_result"
    }
   ],
   "source": [
    "len(fleet.agents[0].agent.shared_replay_buffers[0])"
   ]
  },
  {
   "cell_type": "code",
   "execution_count": null,
   "metadata": {},
   "outputs": [],
   "source": []
  }
 ],
 "metadata": {
  "kernelspec": {
   "display_name": "shell",
   "language": "python",
   "name": "python3"
  },
  "language_info": {
   "codemirror_mode": {
    "name": "ipython",
    "version": 3
   },
   "file_extension": ".py",
   "mimetype": "text/x-python",
   "name": "python",
   "nbconvert_exporter": "python",
   "pygments_lexer": "ipython3",
   "version": "3.10.9"
  },
  "orig_nbformat": 4
 },
 "nbformat": 4,
 "nbformat_minor": 2
}
