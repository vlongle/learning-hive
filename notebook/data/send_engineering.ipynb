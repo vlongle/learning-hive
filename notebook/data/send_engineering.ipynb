{
 "cells": [
  {
   "cell_type": "code",
   "execution_count": 1,
   "metadata": {},
   "outputs": [],
   "source": [
    "import os\n",
    "os.chdir(\"../..\")"
   ]
  },
  {
   "cell_type": "code",
   "execution_count": 2,
   "metadata": {},
   "outputs": [],
   "source": [
    "import omegaconf\n",
    "from shell.utils.experiment_utils import *\n",
    "from shell.utils.metric import *\n",
    "import matplotlib.pyplot as plt\n",
    "from shell.fleet.network import TopologyGenerator\n",
    "import matplotlib.pyplot as plt\n",
    "from sklearn.manifold import TSNE\n",
    "import numpy as np\n",
    "import pandas as pd\n",
    "from shell.fleet.fleet import Agent, Fleet\n",
    "from shell.fleet.data.data_utilize import *\n",
    "from shell.fleet.data.send import *\n",
    "\n",
    "from sklearn.manifold import TSNE\n",
    "from torchvision.utils import make_grid\n",
    "import logging\n",
    "logging.basicConfig(level=logging.INFO)"
   ]
  },
  {
   "cell_type": "code",
   "execution_count": 3,
   "metadata": {},
   "outputs": [],
   "source": [
    "seed_everything(0)"
   ]
  },
  {
   "cell_type": "code",
   "execution_count": 4,
   "metadata": {},
   "outputs": [
    {
     "name": "stderr",
     "output_type": "stream",
     "text": [
      "INFO:root:Class sequence: [5 0 3 4 2 6 7 1 8 9]\n",
      "INFO:root:task 0 :(128, 1, 28, 28)\n",
      "INFO:root:task 1 :(128, 1, 28, 28)\n",
      "INFO:root:task 2 :(128, 1, 28, 28)\n",
      "INFO:root:task 3 :(128, 1, 28, 28)\n"
     ]
    }
   ],
   "source": [
    "use_contrastive = True\n",
    "num_tasks = 4\n",
    "num_init_tasks = 2\n",
    "dataset_name = \"mnist\"\n",
    "\n",
    "data_cfg = {\n",
    "    \"dataset_name\": dataset_name,\n",
    "    \"num_tasks\": num_tasks,\n",
    "    \"num_train_per_task\": 128,\n",
    "    \"num_val_per_task\": 102,\n",
    "    'remap_labels': True,\n",
    "    'use_contrastive': use_contrastive,\n",
    "}\n",
    "dataset = get_dataset(**data_cfg)"
   ]
  },
  {
   "cell_type": "code",
   "execution_count": 5,
   "metadata": {},
   "outputs": [
    {
     "name": "stderr",
     "output_type": "stream",
     "text": [
      "INFO:root:Class sequence: [9 5 7 8 4 3 6 1 0 2]\n",
      "INFO:root:task 0 :(128, 1, 28, 28)\n",
      "INFO:root:task 1 :(128, 1, 28, 28)\n",
      "INFO:root:task 2 :(128, 1, 28, 28)\n",
      "INFO:root:task 3 :(128, 1, 28, 28)\n"
     ]
    }
   ],
   "source": [
    "seed_everything(7)\n",
    "sender_dataset1 = get_dataset(**data_cfg)"
   ]
  },
  {
   "cell_type": "code",
   "execution_count": 6,
   "metadata": {},
   "outputs": [
    {
     "name": "stderr",
     "output_type": "stream",
     "text": [
      "INFO:root:Class sequence: [9 1 6 5 2 0 4 8 3 7]\n",
      "INFO:root:task 0 :(128, 1, 28, 28)\n",
      "INFO:root:task 1 :(128, 1, 28, 28)\n",
      "INFO:root:task 2 :(128, 1, 28, 28)\n",
      "INFO:root:task 3 :(128, 1, 28, 28)\n"
     ]
    }
   ],
   "source": [
    "seed_everything(9)\n",
    "sender_dataset2 = get_dataset(**data_cfg)"
   ]
  },
  {
   "cell_type": "code",
   "execution_count": 7,
   "metadata": {},
   "outputs": [],
   "source": [
    "net_cfg = {\n",
    "    'depth': num_init_tasks,\n",
    "    'layer_size': 64,\n",
    "    'num_init_tasks': num_init_tasks,\n",
    "    'i_size': 28,\n",
    "    'num_classes': 2,\n",
    "    'num_tasks': 4,\n",
    "    'dropout': 0.0,\n",
    "}\n",
    "\n",
    "agent_cfg = {\n",
    "    'memory_size': 64,\n",
    "    'use_contrastive': use_contrastive,\n",
    "    'save_dir': 'test',\n",
    "    'dataset_name': dataset_name,\n",
    "}"
   ]
  },
  {
   "cell_type": "code",
   "execution_count": 8,
   "metadata": {},
   "outputs": [],
   "source": [
    "NetCls = MLPSoftLLDynamic\n",
    "LearnerCls = CompositionalDynamicER\n",
    "AgentCls = SendDataAgent\n",
    "sharing_cfg = DictConfig({\n",
    "    \"scorer\": \"cross_entropy\",\n",
    "    \"num_queries\": 5,\n",
    "    'num_data_neighbors': 5,\n",
    "    'num_filter_neighbors': 5,\n",
    "    'num_coms_per_round': 2,\n",
    "    \"query_score_threshold\": 0.0,\n",
    "    \"shared_memory_size\": 50,\n",
    "    \"init_eps\": 0.99,\n",
    "    \"exploration_strategy\": \"uniform_epsilon\",\n",
    "})\n",
    "train_cfg = {\n",
    "    # \"num_epochs\": 40,\n",
    "    \"num_epochs\": 1,\n",
    "}\n"
   ]
  },
  {
   "cell_type": "code",
   "execution_count": 9,
   "metadata": {},
   "outputs": [
    {
     "name": "stderr",
     "output_type": "stream",
     "text": [
      "INFO:root:Agent: node_id: 0, seed: 0\n",
      "INFO:root:Agent: node_id: 1, seed: 1000\n",
      "INFO:root:Agent: node_id: 2, seed: 2000\n",
      "INFO:root:Created fleet with 3 agents\n",
      "INFO:root:Adding neighbors...\n",
      "INFO:root:Fleet initialized\n"
     ]
    }
   ],
   "source": [
    "datasets = [dataset, sender_dataset1, sender_dataset2]\n",
    "g = TopologyGenerator(num_nodes=len(datasets)).generate_fully_connected()\n",
    "fleet = Fleet(g, 0, datasets,\n",
    "              sharing_cfg, AgentCls, NetCls, LearnerCls, net_cfg, agent_cfg, \n",
    "              train_cfg)"
   ]
  },
  {
   "cell_type": "code",
   "execution_count": 10,
   "metadata": {},
   "outputs": [],
   "source": [
    "receiver = fleet.agents[0]\n",
    "sender = fleet.agents[1]"
   ]
  },
  {
   "cell_type": "code",
   "execution_count": 11,
   "metadata": {},
   "outputs": [
    {
     "name": "stdout",
     "output_type": "stream",
     "text": [
      "epsilon 2.0, min_epislon 0.01, decay_factor 0.9, exploit_factor 1.0\n"
     ]
    }
   ],
   "source": [
    "receiver.init_recommendation_engine()"
   ]
  },
  {
   "cell_type": "code",
   "execution_count": 12,
   "metadata": {},
   "outputs": [
    {
     "data": {
      "text/plain": [
       "{1: Linear(in_features=64, out_features=1, bias=True),\n",
       " 2: Linear(in_features=64, out_features=1, bias=True)}"
      ]
     },
     "execution_count": 12,
     "metadata": {},
     "output_type": "execute_result"
    }
   ],
   "source": [
    "receiver.regressors"
   ]
  },
  {
   "cell_type": "code",
   "execution_count": 13,
   "metadata": {},
   "outputs": [
    {
     "data": {
      "text/plain": [
       "2"
      ]
     },
     "execution_count": 13,
     "metadata": {},
     "output_type": "execute_result"
    }
   ],
   "source": [
    "receiver.exploration.num_slates"
   ]
  },
  {
   "cell_type": "code",
   "execution_count": 14,
   "metadata": {},
   "outputs": [
    {
     "name": "stderr",
     "output_type": "stream",
     "text": [
      "INFO:root:epochs: 0, training task: 0\n",
      "INFO:root:\ttask: 0\tloss: 0.69484831\tacc: 0.476\n",
      "INFO:root:\ttask: avg\tloss: 0.69484831\tacc: 0.476\n",
      "INFO:root:epochs: 0, training task: 0\n",
      "INFO:root:\ttask: 0\tloss: 0.69484831\tacc: 0.476\n",
      "INFO:root:\ttask: avg\tloss: 0.69484831\tacc: 0.476\n",
      "INFO:root:final components: 2\n",
      "INFO:root:epochs: 0, training task: 0\n",
      "INFO:root:\ttask: 0\tloss: 0.69867323\tacc: 0.469\n",
      "INFO:root:\ttask: avg\tloss: 0.69867323\tacc: 0.469\n",
      "INFO:root:epochs: 0, training task: 0\n",
      "INFO:root:\ttask: 0\tloss: 0.69867323\tacc: 0.469\n",
      "INFO:root:\ttask: avg\tloss: 0.69867323\tacc: 0.469\n",
      "INFO:root:final components: 2\n",
      "INFO:root:epochs: 0, training task: 0\n",
      "INFO:root:\ttask: 0\tloss: 0.68871496\tacc: 0.471\n",
      "INFO:root:\ttask: avg\tloss: 0.68871496\tacc: 0.471\n",
      "INFO:root:epochs: 0, training task: 0\n",
      "INFO:root:\ttask: 0\tloss: 0.68871496\tacc: 0.471\n",
      "INFO:root:\ttask: avg\tloss: 0.68871496\tacc: 0.471\n",
      "INFO:root:final components: 2\n",
      "INFO:root:epochs: 0, training task: 1\n",
      "INFO:root:\ttask: 0\tloss: 0.69484831\tacc: 0.476\n",
      "INFO:root:\ttask: 1\tloss: 0.69178679\tacc: 0.512\n",
      "INFO:root:\ttask: avg\tloss: 0.69331755\tacc: 0.494\n",
      "INFO:root:epochs: 1, training task: 1\n",
      "INFO:root:\ttask: 0\tloss: 0.69424191\tacc: 0.478\n",
      "INFO:root:\ttask: 1\tloss: 0.69125170\tacc: 0.509\n",
      "INFO:root:\ttask: avg\tloss: 0.69274681\tacc: 0.493\n",
      "INFO:root:epochs: 2, training task: 1\n",
      "INFO:root:\ttask: 0\tloss: 0.69424191\tacc: 0.478\n",
      "INFO:root:\ttask: 1\tloss: 0.69125170\tacc: 0.509\n",
      "INFO:root:\ttask: avg\tloss: 0.69274681\tacc: 0.493\n",
      "INFO:root:final components: 2\n",
      "INFO:root:epochs: 0, training task: 1\n",
      "INFO:root:\ttask: 0\tloss: 0.69867323\tacc: 0.469\n",
      "INFO:root:\ttask: 1\tloss: 0.69550347\tacc: 0.487\n",
      "INFO:root:\ttask: avg\tloss: 0.69708835\tacc: 0.478\n",
      "INFO:root:epochs: 1, training task: 1\n",
      "INFO:root:\ttask: 0\tloss: 0.69854492\tacc: 0.469\n",
      "INFO:root:\ttask: 1\tloss: 0.69472054\tacc: 0.487\n",
      "INFO:root:\ttask: avg\tloss: 0.69663273\tacc: 0.478\n",
      "INFO:root:epochs: 2, training task: 1\n",
      "INFO:root:\ttask: 0\tloss: 0.69854492\tacc: 0.469\n",
      "INFO:root:\ttask: 1\tloss: 0.69472054\tacc: 0.487\n",
      "INFO:root:\ttask: avg\tloss: 0.69663273\tacc: 0.478\n",
      "INFO:root:final components: 2\n",
      "INFO:root:epochs: 0, training task: 1\n",
      "INFO:root:\ttask: 0\tloss: 0.68871496\tacc: 0.471\n",
      "INFO:root:\ttask: 1\tloss: 0.69331507\tacc: 0.482\n",
      "INFO:root:\ttask: avg\tloss: 0.69101501\tacc: 0.476\n",
      "INFO:root:epochs: 1, training task: 1\n",
      "INFO:root:\ttask: 0\tloss: 0.68755391\tacc: 0.472\n",
      "INFO:root:\ttask: 1\tloss: 0.69267821\tacc: 0.482\n",
      "INFO:root:\ttask: avg\tloss: 0.69011606\tacc: 0.477\n",
      "INFO:root:epochs: 2, training task: 1\n",
      "INFO:root:\ttask: 0\tloss: 0.68755391\tacc: 0.472\n",
      "INFO:root:\ttask: 1\tloss: 0.69267821\tacc: 0.482\n",
      "INFO:root:\ttask: avg\tloss: 0.69011606\tacc: 0.477\n",
      "INFO:root:final components: 2\n"
     ]
    }
   ],
   "source": [
    "for t in range(num_init_tasks):\n",
    "    fleet.train(t)"
   ]
  },
  {
   "cell_type": "code",
   "execution_count": 15,
   "metadata": {},
   "outputs": [
    {
     "data": {
      "text/plain": [
       "2"
      ]
     },
     "execution_count": 15,
     "metadata": {},
     "output_type": "execute_result"
    }
   ],
   "source": [
    "receiver.agent.T"
   ]
  },
  {
   "cell_type": "code",
   "execution_count": 16,
   "metadata": {},
   "outputs": [
    {
     "data": {
      "text/plain": [
       "torch.Size([64, 1, 28, 28])"
      ]
     },
     "execution_count": 16,
     "metadata": {},
     "output_type": "execute_result"
    }
   ],
   "source": [
    "receiver.agent.replay_buffers[0].tensors[0].shape"
   ]
  },
  {
   "cell_type": "code",
   "execution_count": 17,
   "metadata": {},
   "outputs": [
    {
     "data": {
      "text/plain": [
       "torch.Size([64, 1, 28, 28])"
      ]
     },
     "execution_count": 17,
     "metadata": {},
     "output_type": "execute_result"
    }
   ],
   "source": [
    "receiver.agent.replay_buffers[1].tensors[0].shape"
   ]
  },
  {
   "cell_type": "code",
   "execution_count": 22,
   "metadata": {},
   "outputs": [
    {
     "name": "stdout",
     "output_type": "stream",
     "text": [
      "neighbor_id 1 task_id 0\n",
      "getting from replay 0\n",
      "neighbor_id 1 task_id 1\n",
      "getting from replay 1\n"
     ]
    },
    {
     "ename": "RuntimeError",
     "evalue": "Expected all tensors to be on the same device, but found at least two devices, cpu and cuda:0! (when checking argument for argument mat1 in method wrapper_CUDA_addmm)",
     "output_type": "error",
     "traceback": [
      "\u001b[0;31m---------------------------------------------------------------------------\u001b[0m",
      "\u001b[0;31mRuntimeError\u001b[0m                              Traceback (most recent call last)",
      "\u001b[1;32m/home/vlongle/code/learning-hive/notebook/data/send_engineering.ipynb Cell 18\u001b[0m line \u001b[0;36m1\n\u001b[0;32m----> <a href='vscode-notebook-cell://ssh-remote%2B158.130.50.18/home/vlongle/code/learning-hive/notebook/data/send_engineering.ipynb#X21sdnNjb2RlLXJlbW90ZQ%3D%3D?line=0'>1</a>\u001b[0m receiver\u001b[39m.\u001b[39;49mprepare_data(task_id\u001b[39m=\u001b[39;49mt, neighbor_id\u001b[39m=\u001b[39;49m\u001b[39m1\u001b[39;49m)\n",
      "File \u001b[0;32m~/code/learning-hive/src/shell/fleet/data/send.py:149\u001b[0m, in \u001b[0;36mSendDataAgent.prepare_data\u001b[0;34m(self, task_id, neighbor_id)\u001b[0m\n\u001b[1;32m    146\u001b[0m     first_tensors \u001b[39m=\u001b[39m [ds\u001b[39m.\u001b[39mtensors[indx] \u001b[39mfor\u001b[39;00m ds \u001b[39min\u001b[39;00m concat_dataset\u001b[39m.\u001b[39mdatasets]\n\u001b[1;32m    147\u001b[0m     \u001b[39mreturn\u001b[39;00m torch\u001b[39m.\u001b[39mcat(first_tensors, dim\u001b[39m=\u001b[39m\u001b[39m0\u001b[39m)  \u001b[39m# Modify accordingly if a different dimension is intended\u001b[39;00m\n\u001b[0;32m--> 149\u001b[0m scores \u001b[39m=\u001b[39m \u001b[39mself\u001b[39;49m\u001b[39m.\u001b[39;49mget_pred_scores(concat_tensors(dataset), task_id, neighbor_id)\n\u001b[1;32m    150\u001b[0m selected_data \u001b[39m=\u001b[39m \u001b[39mself\u001b[39m\u001b[39m.\u001b[39mexploration\u001b[39m.\u001b[39mget_action(dataset, scores)\n\u001b[1;32m    151\u001b[0m \u001b[39mreturn\u001b[39;00m selected_data\n",
      "File \u001b[0;32m~/code/learning-hive/src/shell/fleet/data/send.py:160\u001b[0m, in \u001b[0;36mSendDataAgent.get_pred_scores\u001b[0;34m(self, X, task_id, neighbor_id, detach)\u001b[0m\n\u001b[1;32m    158\u001b[0m \u001b[39mif\u001b[39;00m detach:\n\u001b[1;32m    159\u001b[0m     X_encode \u001b[39m=\u001b[39m X_encode\u001b[39m.\u001b[39mdetach()\n\u001b[0;32m--> 160\u001b[0m Y_pred \u001b[39m=\u001b[39m \u001b[39mself\u001b[39;49m\u001b[39m.\u001b[39;49mregressors[neighbor_id](X_encode)\n\u001b[1;32m    161\u001b[0m \u001b[39mreturn\u001b[39;00m Y_pred\n",
      "File \u001b[0;32m~/miniconda3/envs/shell/lib/python3.10/site-packages/torch/nn/modules/module.py:1501\u001b[0m, in \u001b[0;36mModule._call_impl\u001b[0;34m(self, *args, **kwargs)\u001b[0m\n\u001b[1;32m   1496\u001b[0m \u001b[39m# If we don't have any hooks, we want to skip the rest of the logic in\u001b[39;00m\n\u001b[1;32m   1497\u001b[0m \u001b[39m# this function, and just call forward.\u001b[39;00m\n\u001b[1;32m   1498\u001b[0m \u001b[39mif\u001b[39;00m \u001b[39mnot\u001b[39;00m (\u001b[39mself\u001b[39m\u001b[39m.\u001b[39m_backward_hooks \u001b[39mor\u001b[39;00m \u001b[39mself\u001b[39m\u001b[39m.\u001b[39m_backward_pre_hooks \u001b[39mor\u001b[39;00m \u001b[39mself\u001b[39m\u001b[39m.\u001b[39m_forward_hooks \u001b[39mor\u001b[39;00m \u001b[39mself\u001b[39m\u001b[39m.\u001b[39m_forward_pre_hooks\n\u001b[1;32m   1499\u001b[0m         \u001b[39mor\u001b[39;00m _global_backward_pre_hooks \u001b[39mor\u001b[39;00m _global_backward_hooks\n\u001b[1;32m   1500\u001b[0m         \u001b[39mor\u001b[39;00m _global_forward_hooks \u001b[39mor\u001b[39;00m _global_forward_pre_hooks):\n\u001b[0;32m-> 1501\u001b[0m     \u001b[39mreturn\u001b[39;00m forward_call(\u001b[39m*\u001b[39;49margs, \u001b[39m*\u001b[39;49m\u001b[39m*\u001b[39;49mkwargs)\n\u001b[1;32m   1502\u001b[0m \u001b[39m# Do not call functions when jit is used\u001b[39;00m\n\u001b[1;32m   1503\u001b[0m full_backward_hooks, non_full_backward_hooks \u001b[39m=\u001b[39m [], []\n",
      "File \u001b[0;32m~/miniconda3/envs/shell/lib/python3.10/site-packages/torch/nn/modules/linear.py:114\u001b[0m, in \u001b[0;36mLinear.forward\u001b[0;34m(self, input)\u001b[0m\n\u001b[1;32m    113\u001b[0m \u001b[39mdef\u001b[39;00m \u001b[39mforward\u001b[39m(\u001b[39mself\u001b[39m, \u001b[39minput\u001b[39m: Tensor) \u001b[39m-\u001b[39m\u001b[39m>\u001b[39m Tensor:\n\u001b[0;32m--> 114\u001b[0m     \u001b[39mreturn\u001b[39;00m F\u001b[39m.\u001b[39;49mlinear(\u001b[39minput\u001b[39;49m, \u001b[39mself\u001b[39;49m\u001b[39m.\u001b[39;49mweight, \u001b[39mself\u001b[39;49m\u001b[39m.\u001b[39;49mbias)\n",
      "\u001b[0;31mRuntimeError\u001b[0m: Expected all tensors to be on the same device, but found at least two devices, cpu and cuda:0! (when checking argument for argument mat1 in method wrapper_CUDA_addmm)"
     ]
    }
   ],
   "source": [
    "receiver.prepare_data(task_id=t, neighbor_id=1)"
   ]
  },
  {
   "cell_type": "code",
   "execution_count": null,
   "metadata": {},
   "outputs": [],
   "source": []
  },
  {
   "cell_type": "code",
   "execution_count": null,
   "metadata": {},
   "outputs": [],
   "source": [
    "receiver.agent.dataset_name"
   ]
  },
  {
   "cell_type": "code",
   "execution_count": null,
   "metadata": {},
   "outputs": [],
   "source": []
  }
 ],
 "metadata": {
  "kernelspec": {
   "display_name": "shell",
   "language": "python",
   "name": "python3"
  },
  "language_info": {
   "codemirror_mode": {
    "name": "ipython",
    "version": 3
   },
   "file_extension": ".py",
   "mimetype": "text/x-python",
   "name": "python",
   "nbconvert_exporter": "python",
   "pygments_lexer": "ipython3",
   "version": "3.10.9"
  },
  "orig_nbformat": 4
 },
 "nbformat": 4,
 "nbformat_minor": 2
}
