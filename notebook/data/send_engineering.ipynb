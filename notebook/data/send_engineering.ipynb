{
 "cells": [
  {
   "cell_type": "code",
   "execution_count": 1,
   "metadata": {},
   "outputs": [],
   "source": [
    "import os\n",
    "os.chdir(\"../..\")"
   ]
  },
  {
   "cell_type": "code",
   "execution_count": 2,
   "metadata": {},
   "outputs": [],
   "source": [
    "import omegaconf\n",
    "from shell.utils.experiment_utils import *\n",
    "from shell.utils.metric import *\n",
    "import matplotlib.pyplot as plt\n",
    "from shell.fleet.network import TopologyGenerator\n",
    "import matplotlib.pyplot as plt\n",
    "from sklearn.manifold import TSNE\n",
    "import numpy as np\n",
    "import pandas as pd\n",
    "from shell.fleet.fleet import Agent, Fleet\n",
    "from shell.fleet.data.data_utilize import *\n",
    "from shell.fleet.data.send import *\n",
    "\n",
    "from sklearn.manifold import TSNE\n",
    "from torchvision.utils import make_grid\n",
    "import logging\n",
    "logging.basicConfig(level=logging.INFO)"
   ]
  },
  {
   "cell_type": "code",
   "execution_count": 3,
   "metadata": {},
   "outputs": [],
   "source": [
    "seed_everything(0)"
   ]
  },
  {
   "cell_type": "code",
   "execution_count": 4,
   "metadata": {},
   "outputs": [
    {
     "name": "stderr",
     "output_type": "stream",
     "text": [
      "INFO:root:Class sequence: [5 0 3 4 2 6 7 1 8 9]\n",
      "INFO:root:task 0 :(128, 1, 28, 28)\n",
      "INFO:root:task 1 :(128, 1, 28, 28)\n",
      "INFO:root:task 2 :(128, 1, 28, 28)\n",
      "INFO:root:task 3 :(128, 1, 28, 28)\n"
     ]
    }
   ],
   "source": [
    "use_contrastive = True\n",
    "num_tasks = 4\n",
    "num_init_tasks = 2\n",
    "dataset_name = \"mnist\"\n",
    "bandwidth = 20\n",
    "\n",
    "data_cfg = {\n",
    "    \"dataset_name\": dataset_name,\n",
    "    \"num_tasks\": num_tasks,\n",
    "    \"num_train_per_task\": 128,\n",
    "    \"num_val_per_task\": 102,\n",
    "    'remap_labels': True,\n",
    "    'use_contrastive': use_contrastive,\n",
    "}\n",
    "dataset = get_dataset(**data_cfg)"
   ]
  },
  {
   "cell_type": "code",
   "execution_count": 5,
   "metadata": {},
   "outputs": [
    {
     "name": "stderr",
     "output_type": "stream",
     "text": [
      "INFO:root:Class sequence: [9 5 7 8 4 3 6 1 0 2]\n",
      "INFO:root:task 0 :(128, 1, 28, 28)\n",
      "INFO:root:task 1 :(128, 1, 28, 28)\n",
      "INFO:root:task 2 :(128, 1, 28, 28)\n",
      "INFO:root:task 3 :(128, 1, 28, 28)\n"
     ]
    }
   ],
   "source": [
    "seed_everything(7)\n",
    "sender_dataset1 = get_dataset(**data_cfg)"
   ]
  },
  {
   "cell_type": "code",
   "execution_count": 6,
   "metadata": {},
   "outputs": [
    {
     "name": "stderr",
     "output_type": "stream",
     "text": [
      "INFO:root:Class sequence: [9 1 6 5 2 0 4 8 3 7]\n",
      "INFO:root:task 0 :(128, 1, 28, 28)\n",
      "INFO:root:task 1 :(128, 1, 28, 28)\n",
      "INFO:root:task 2 :(128, 1, 28, 28)\n",
      "INFO:root:task 3 :(128, 1, 28, 28)\n"
     ]
    }
   ],
   "source": [
    "seed_everything(9)\n",
    "sender_dataset2 = get_dataset(**data_cfg)"
   ]
  },
  {
   "cell_type": "code",
   "execution_count": 7,
   "metadata": {},
   "outputs": [],
   "source": [
    "net_cfg = {\n",
    "    'depth': num_init_tasks,\n",
    "    'layer_size': 64,\n",
    "    'num_init_tasks': num_init_tasks,\n",
    "    'i_size': 28,\n",
    "    'num_classes': 2,\n",
    "    'num_tasks': 4,\n",
    "    'dropout': 0.0,\n",
    "}\n",
    "\n",
    "agent_cfg = {\n",
    "    'memory_size': 64,\n",
    "    'use_contrastive': use_contrastive,\n",
    "    'save_dir': 'test',\n",
    "    'dataset_name': dataset_name,\n",
    "}"
   ]
  },
  {
   "cell_type": "code",
   "execution_count": 8,
   "metadata": {},
   "outputs": [],
   "source": [
    "NetCls = MLPSoftLLDynamic\n",
    "LearnerCls = CompositionalDynamicER\n",
    "AgentCls = SendDataAgent\n",
    "sharing_cfg = DictConfig({\n",
    "    \"scorer\": \"cross_entropy\",\n",
    "    \"num_queries\": 5,\n",
    "    'num_data_neighbors': 5,\n",
    "    'num_filter_neighbors': 5,\n",
    "    'num_coms_per_round': 2,\n",
    "    \"query_score_threshold\": 0.0,\n",
    "    \"shared_memory_size\": 50,\n",
    "    \"exploration_strategy\": \"epsilon_greedy\",\n",
    "    \"min_epsilon\": 0.1,\n",
    "    \"eps_decay_rate\": 0.9,\n",
    "    \"init_epsilon\": 0.8,\n",
    "    \"bandwidth\": bandwidth,\n",
    "\n",
    "})\n",
    "train_cfg = {\n",
    "    # \"num_epochs\": 40,\n",
    "    \"num_epochs\": 1,\n",
    "}\n"
   ]
  },
  {
   "cell_type": "code",
   "execution_count": 9,
   "metadata": {},
   "outputs": [
    {
     "name": "stderr",
     "output_type": "stream",
     "text": [
      "INFO:root:Agent: node_id: 0, seed: 0\n",
      "INFO:root:Agent: node_id: 1, seed: 1000\n",
      "INFO:root:Agent: node_id: 2, seed: 2000\n",
      "INFO:root:Created fleet with 3 agents\n",
      "INFO:root:Adding neighbors...\n",
      "INFO:root:Fleet initialized\n"
     ]
    }
   ],
   "source": [
    "datasets = [dataset, sender_dataset1, sender_dataset2]\n",
    "g = TopologyGenerator(num_nodes=len(datasets)).generate_fully_connected()\n",
    "fleet = Fleet(g, 0, datasets,\n",
    "              sharing_cfg, AgentCls, NetCls, LearnerCls, net_cfg, agent_cfg, \n",
    "              train_cfg)"
   ]
  },
  {
   "cell_type": "code",
   "execution_count": 10,
   "metadata": {},
   "outputs": [],
   "source": [
    "receiver = fleet.agents[0]\n",
    "sender = fleet.agents[1]\n",
    "other = fleet.agents[2]"
   ]
  },
  {
   "cell_type": "code",
   "execution_count": 11,
   "metadata": {},
   "outputs": [],
   "source": [
    "receiver.init_recommendation_engine()\n",
    "sender.init_recommendation_engine()\n",
    "other.init_recommendation_engine()"
   ]
  },
  {
   "cell_type": "code",
   "execution_count": 12,
   "metadata": {},
   "outputs": [
    {
     "name": "stderr",
     "output_type": "stream",
     "text": [
      "INFO:root:epochs: 0, training task: 0\n",
      "INFO:root:\ttask: 0\tloss: 0.69484831\tacc: 0.476\n",
      "INFO:root:\ttask: avg\tloss: 0.69484831\tacc: 0.476\n",
      "INFO:root:epochs: 0, training task: 0\n",
      "INFO:root:\ttask: 0\tloss: 0.69484831\tacc: 0.476\n",
      "INFO:root:\ttask: avg\tloss: 0.69484831\tacc: 0.476\n",
      "INFO:root:final components: 2\n",
      "INFO:root:epochs: 0, training task: 0\n",
      "INFO:root:\ttask: 0\tloss: 0.69867323\tacc: 0.469\n",
      "INFO:root:\ttask: avg\tloss: 0.69867323\tacc: 0.469\n",
      "INFO:root:epochs: 0, training task: 0\n",
      "INFO:root:\ttask: 0\tloss: 0.69867323\tacc: 0.469\n",
      "INFO:root:\ttask: avg\tloss: 0.69867323\tacc: 0.469\n",
      "INFO:root:final components: 2\n",
      "INFO:root:epochs: 0, training task: 0\n",
      "INFO:root:\ttask: 0\tloss: 0.68871496\tacc: 0.471\n",
      "INFO:root:\ttask: avg\tloss: 0.68871496\tacc: 0.471\n",
      "INFO:root:epochs: 0, training task: 0\n",
      "INFO:root:\ttask: 0\tloss: 0.68871496\tacc: 0.471\n",
      "INFO:root:\ttask: avg\tloss: 0.68871496\tacc: 0.471\n",
      "INFO:root:final components: 2\n",
      "INFO:root:epochs: 0, training task: 1\n",
      "INFO:root:\ttask: 0\tloss: 0.69484831\tacc: 0.476\n",
      "INFO:root:\ttask: 1\tloss: 0.69178679\tacc: 0.512\n",
      "INFO:root:\ttask: avg\tloss: 0.69331755\tacc: 0.494\n",
      "INFO:root:epochs: 1, training task: 1\n",
      "INFO:root:\ttask: 0\tloss: 0.69432764\tacc: 0.478\n",
      "INFO:root:\ttask: 1\tloss: 0.69130863\tacc: 0.509\n",
      "INFO:root:\ttask: avg\tloss: 0.69281814\tacc: 0.493\n",
      "INFO:root:epochs: 2, training task: 1\n",
      "INFO:root:\ttask: 0\tloss: 0.69432764\tacc: 0.478\n",
      "INFO:root:\ttask: 1\tloss: 0.69130863\tacc: 0.509\n",
      "INFO:root:\ttask: avg\tloss: 0.69281814\tacc: 0.493\n",
      "INFO:root:final components: 2\n",
      "INFO:root:epochs: 0, training task: 1\n",
      "INFO:root:\ttask: 0\tloss: 0.69867323\tacc: 0.469\n",
      "INFO:root:\ttask: 1\tloss: 0.69550347\tacc: 0.487\n",
      "INFO:root:\ttask: avg\tloss: 0.69708835\tacc: 0.478\n",
      "INFO:root:epochs: 1, training task: 1\n",
      "INFO:root:\ttask: 0\tloss: 0.69835348\tacc: 0.469\n",
      "INFO:root:\ttask: 1\tloss: 0.69452983\tacc: 0.487\n",
      "INFO:root:\ttask: avg\tloss: 0.69644165\tacc: 0.478\n",
      "INFO:root:epochs: 2, training task: 1\n",
      "INFO:root:\ttask: 0\tloss: 0.69835348\tacc: 0.469\n",
      "INFO:root:\ttask: 1\tloss: 0.69452983\tacc: 0.487\n",
      "INFO:root:\ttask: avg\tloss: 0.69644165\tacc: 0.478\n",
      "INFO:root:final components: 2\n",
      "INFO:root:epochs: 0, training task: 1\n",
      "INFO:root:\ttask: 0\tloss: 0.68871496\tacc: 0.471\n",
      "INFO:root:\ttask: 1\tloss: 0.69331507\tacc: 0.482\n",
      "INFO:root:\ttask: avg\tloss: 0.69101501\tacc: 0.476\n",
      "INFO:root:epochs: 1, training task: 1\n",
      "INFO:root:\ttask: 0\tloss: 0.68680477\tacc: 0.472\n",
      "INFO:root:\ttask: 1\tloss: 0.69292825\tacc: 0.482\n",
      "INFO:root:\ttask: avg\tloss: 0.68986651\tacc: 0.477\n",
      "INFO:root:epochs: 2, training task: 1\n",
      "INFO:root:\ttask: 0\tloss: 0.68680477\tacc: 0.472\n",
      "INFO:root:\ttask: 1\tloss: 0.69292825\tacc: 0.482\n",
      "INFO:root:\ttask: avg\tloss: 0.68986651\tacc: 0.477\n",
      "INFO:root:final components: 2\n"
     ]
    }
   ],
   "source": [
    "for t in range(num_init_tasks):\n",
    "    fleet.train(t)"
   ]
  },
  {
   "cell_type": "code",
   "execution_count": 13,
   "metadata": {},
   "outputs": [],
   "source": [
    "sender.prepare_communicate(task_id=t, communication_round=0)"
   ]
  },
  {
   "cell_type": "code",
   "execution_count": 14,
   "metadata": {},
   "outputs": [],
   "source": [
    "sender.communicate(task_id=t, communication_round=0)"
   ]
  },
  {
   "cell_type": "code",
   "execution_count": 15,
   "metadata": {},
   "outputs": [
    {
     "data": {
      "text/plain": [
       "{1: <torch.utils.data.dataset.Subset at 0x7fbb8e68e350>}"
      ]
     },
     "execution_count": 15,
     "metadata": {},
     "output_type": "execute_result"
    }
   ],
   "source": [
    "receiver.incoming_data"
   ]
  },
  {
   "cell_type": "code",
   "execution_count": null,
   "metadata": {},
   "outputs": [],
   "source": []
  }
 ],
 "metadata": {
  "kernelspec": {
   "display_name": "shell",
   "language": "python",
   "name": "python3"
  },
  "language_info": {
   "codemirror_mode": {
    "name": "ipython",
    "version": 3
   },
   "file_extension": ".py",
   "mimetype": "text/x-python",
   "name": "python",
   "nbconvert_exporter": "python",
   "pygments_lexer": "ipython3",
   "version": "3.10.9"
  },
  "orig_nbformat": 4
 },
 "nbformat": 4,
 "nbformat_minor": 2
}
