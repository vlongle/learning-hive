{
 "cells": [
  {
   "cell_type": "code",
   "execution_count": 1,
   "metadata": {},
   "outputs": [],
   "source": [
    "import os\n",
    "os.chdir(\"../..\")"
   ]
  },
  {
   "cell_type": "code",
   "execution_count": 2,
   "metadata": {},
   "outputs": [],
   "source": [
    "import omegaconf\n",
    "from shell.utils.experiment_utils import *\n",
    "from shell.utils.metric import *\n",
    "import matplotlib.pyplot as plt\n",
    "from shell.fleet.network import TopologyGenerator\n",
    "import matplotlib.pyplot as plt\n",
    "from sklearn.manifold import TSNE\n",
    "import numpy as np\n",
    "import pandas as pd\n",
    "from shell.fleet.fleet import Agent, Fleet\n",
    "from shell.fleet.data.data_utilize import *\n",
    "from shell.fleet.data.send import *\n",
    "\n",
    "from sklearn.manifold import TSNE\n",
    "from torchvision.utils import make_grid\n",
    "import logging\n",
    "logging.basicConfig(level=logging.INFO)"
   ]
  },
  {
   "cell_type": "code",
   "execution_count": 3,
   "metadata": {},
   "outputs": [],
   "source": [
    "seed_everything(0)"
   ]
  },
  {
   "cell_type": "code",
   "execution_count": 4,
   "metadata": {},
   "outputs": [
    {
     "name": "stderr",
     "output_type": "stream",
     "text": [
      "INFO:root:Class sequence: [5 0 3 4 2 6 7 1 8 9]\n",
      "INFO:root:task 0 :(128, 1, 28, 28)\n",
      "INFO:root:task 1 :(128, 1, 28, 28)\n",
      "INFO:root:task 2 :(128, 1, 28, 28)\n",
      "INFO:root:task 3 :(128, 1, 28, 28)\n"
     ]
    }
   ],
   "source": [
    "use_contrastive = True\n",
    "num_tasks = 4\n",
    "num_init_tasks = 2\n",
    "dataset_name = \"mnist\"\n",
    "bandwidth = 20\n",
    "\n",
    "data_cfg = {\n",
    "    \"dataset_name\": dataset_name,\n",
    "    \"num_tasks\": num_tasks,\n",
    "    \"num_train_per_task\": 128,\n",
    "    \"num_val_per_task\": 102,\n",
    "    'remap_labels': True,\n",
    "    'use_contrastive': use_contrastive,\n",
    "}\n",
    "dataset = get_dataset(**data_cfg)"
   ]
  },
  {
   "cell_type": "code",
   "execution_count": 5,
   "metadata": {},
   "outputs": [
    {
     "name": "stderr",
     "output_type": "stream",
     "text": [
      "INFO:root:Class sequence: [9 5 7 8 4 3 6 1 0 2]\n",
      "INFO:root:task 0 :(128, 1, 28, 28)\n",
      "INFO:root:task 1 :(128, 1, 28, 28)\n",
      "INFO:root:task 2 :(128, 1, 28, 28)\n",
      "INFO:root:task 3 :(128, 1, 28, 28)\n"
     ]
    }
   ],
   "source": [
    "seed_everything(7)\n",
    "sender_dataset1 = get_dataset(**data_cfg)"
   ]
  },
  {
   "cell_type": "code",
   "execution_count": 6,
   "metadata": {},
   "outputs": [
    {
     "name": "stderr",
     "output_type": "stream",
     "text": [
      "INFO:root:Class sequence: [9 1 6 5 2 0 4 8 3 7]\n",
      "INFO:root:task 0 :(128, 1, 28, 28)\n",
      "INFO:root:task 1 :(128, 1, 28, 28)\n",
      "INFO:root:task 2 :(128, 1, 28, 28)\n",
      "INFO:root:task 3 :(128, 1, 28, 28)\n"
     ]
    }
   ],
   "source": [
    "seed_everything(9)\n",
    "sender_dataset2 = get_dataset(**data_cfg)"
   ]
  },
  {
   "cell_type": "code",
   "execution_count": 7,
   "metadata": {},
   "outputs": [],
   "source": [
    "net_cfg = {\n",
    "    'depth': num_init_tasks,\n",
    "    'layer_size': 64,\n",
    "    'num_init_tasks': num_init_tasks,\n",
    "    'i_size': 28,\n",
    "    'num_classes': 2,\n",
    "    'num_tasks': 4,\n",
    "    'dropout': 0.0,\n",
    "}\n",
    "\n",
    "agent_cfg = {\n",
    "    'memory_size': 64,\n",
    "    'use_contrastive': use_contrastive,\n",
    "    'save_dir': 'test',\n",
    "    'dataset_name': dataset_name,\n",
    "}"
   ]
  },
  {
   "cell_type": "code",
   "execution_count": 8,
   "metadata": {},
   "outputs": [],
   "source": [
    "NetCls = MLPSoftLLDynamic\n",
    "LearnerCls = CompositionalDynamicER\n",
    "AgentCls = SendDataAgent\n",
    "sharing_cfg = DictConfig({\n",
    "    \"scorer\": \"cross_entropy\",\n",
    "    \"num_queries\": 5,\n",
    "    'num_data_neighbors': 5,\n",
    "    'num_filter_neighbors': 5,\n",
    "    'num_coms_per_round': 2,\n",
    "    \"query_score_threshold\": 0.0,\n",
    "    \"shared_memory_size\": 50,\n",
    "    \"exploration_strategy\": \"epsilon_greedy\",\n",
    "    \"min_epsilon\": 0.1,\n",
    "    \"eps_decay_rate\": 0.9,\n",
    "    \"init_epsilon\": 0.8,\n",
    "    \"bandwidth\": bandwidth,\n",
    "\n",
    "})\n",
    "train_cfg = {\n",
    "    # \"num_epochs\": 40,\n",
    "    \"num_epochs\": 1,\n",
    "}\n"
   ]
  },
  {
   "cell_type": "code",
   "execution_count": 9,
   "metadata": {},
   "outputs": [
    {
     "name": "stderr",
     "output_type": "stream",
     "text": [
      "INFO:root:Agent: node_id: 0, seed: 0\n"
     ]
    },
    {
     "name": "stderr",
     "output_type": "stream",
     "text": [
      "INFO:root:Agent: node_id: 1, seed: 1000\n",
      "INFO:root:Agent: node_id: 2, seed: 2000\n",
      "INFO:root:Created fleet with 3 agents\n",
      "INFO:root:Adding neighbors...\n",
      "INFO:root:Fleet initialized\n"
     ]
    }
   ],
   "source": [
    "datasets = [dataset, sender_dataset1, sender_dataset2]\n",
    "g = TopologyGenerator(num_nodes=len(datasets)).generate_fully_connected()\n",
    "fleet = Fleet(g, 0, datasets,\n",
    "              sharing_cfg, AgentCls, NetCls, LearnerCls, net_cfg, agent_cfg, \n",
    "              train_cfg)"
   ]
  },
  {
   "cell_type": "code",
   "execution_count": 10,
   "metadata": {},
   "outputs": [],
   "source": [
    "receiver = fleet.agents[0]\n",
    "sender = fleet.agents[1]"
   ]
  },
  {
   "cell_type": "code",
   "execution_count": 11,
   "metadata": {},
   "outputs": [],
   "source": [
    "receiver.init_recommendation_engine()"
   ]
  },
  {
   "cell_type": "code",
   "execution_count": 12,
   "metadata": {},
   "outputs": [
    {
     "name": "stderr",
     "output_type": "stream",
     "text": [
      "INFO:root:epochs: 0, training task: 0\n",
      "INFO:root:\ttask: 0\tloss: 0.69484831\tacc: 0.476\n",
      "INFO:root:\ttask: avg\tloss: 0.69484831\tacc: 0.476\n",
      "INFO:root:epochs: 0, training task: 0\n",
      "INFO:root:\ttask: 0\tloss: 0.69484831\tacc: 0.476\n",
      "INFO:root:\ttask: avg\tloss: 0.69484831\tacc: 0.476\n",
      "INFO:root:final components: 2\n",
      "INFO:root:epochs: 0, training task: 0\n",
      "INFO:root:\ttask: 0\tloss: 0.69867323\tacc: 0.469\n",
      "INFO:root:\ttask: avg\tloss: 0.69867323\tacc: 0.469\n",
      "INFO:root:epochs: 0, training task: 0\n",
      "INFO:root:\ttask: 0\tloss: 0.69867323\tacc: 0.469\n",
      "INFO:root:\ttask: avg\tloss: 0.69867323\tacc: 0.469\n",
      "INFO:root:final components: 2\n",
      "INFO:root:epochs: 0, training task: 0\n",
      "INFO:root:\ttask: 0\tloss: 0.68871496\tacc: 0.471\n",
      "INFO:root:\ttask: avg\tloss: 0.68871496\tacc: 0.471\n",
      "INFO:root:epochs: 0, training task: 0\n",
      "INFO:root:\ttask: 0\tloss: 0.68871496\tacc: 0.471\n",
      "INFO:root:\ttask: avg\tloss: 0.68871496\tacc: 0.471\n",
      "INFO:root:final components: 2\n",
      "INFO:root:epochs: 0, training task: 1\n",
      "INFO:root:\ttask: 0\tloss: 0.69484831\tacc: 0.476\n",
      "INFO:root:\ttask: 1\tloss: 0.69178679\tacc: 0.512\n",
      "INFO:root:\ttask: avg\tloss: 0.69331755\tacc: 0.494\n",
      "INFO:root:epochs: 1, training task: 1\n",
      "INFO:root:\ttask: 0\tloss: 0.69424191\tacc: 0.478\n",
      "INFO:root:\ttask: 1\tloss: 0.69125170\tacc: 0.509\n",
      "INFO:root:\ttask: avg\tloss: 0.69274681\tacc: 0.493\n",
      "INFO:root:epochs: 2, training task: 1\n",
      "INFO:root:\ttask: 0\tloss: 0.69424191\tacc: 0.478\n",
      "INFO:root:\ttask: 1\tloss: 0.69125170\tacc: 0.509\n",
      "INFO:root:\ttask: avg\tloss: 0.69274681\tacc: 0.493\n",
      "INFO:root:final components: 2\n",
      "INFO:root:epochs: 0, training task: 1\n",
      "INFO:root:\ttask: 0\tloss: 0.69867323\tacc: 0.469\n",
      "INFO:root:\ttask: 1\tloss: 0.69550347\tacc: 0.487\n",
      "INFO:root:\ttask: avg\tloss: 0.69708835\tacc: 0.478\n",
      "INFO:root:epochs: 1, training task: 1\n",
      "INFO:root:\ttask: 0\tloss: 0.69854492\tacc: 0.469\n",
      "INFO:root:\ttask: 1\tloss: 0.69472054\tacc: 0.487\n",
      "INFO:root:\ttask: avg\tloss: 0.69663273\tacc: 0.478\n",
      "INFO:root:epochs: 2, training task: 1\n",
      "INFO:root:\ttask: 0\tloss: 0.69854492\tacc: 0.469\n",
      "INFO:root:\ttask: 1\tloss: 0.69472054\tacc: 0.487\n",
      "INFO:root:\ttask: avg\tloss: 0.69663273\tacc: 0.478\n",
      "INFO:root:final components: 2\n",
      "INFO:root:epochs: 0, training task: 1\n",
      "INFO:root:\ttask: 0\tloss: 0.68871496\tacc: 0.471\n",
      "INFO:root:\ttask: 1\tloss: 0.69331507\tacc: 0.482\n",
      "INFO:root:\ttask: avg\tloss: 0.69101501\tacc: 0.476\n",
      "INFO:root:epochs: 1, training task: 1\n",
      "INFO:root:\ttask: 0\tloss: 0.68755391\tacc: 0.472\n",
      "INFO:root:\ttask: 1\tloss: 0.69267821\tacc: 0.482\n",
      "INFO:root:\ttask: avg\tloss: 0.69011606\tacc: 0.477\n",
      "INFO:root:epochs: 2, training task: 1\n",
      "INFO:root:\ttask: 0\tloss: 0.68755391\tacc: 0.472\n",
      "INFO:root:\ttask: 1\tloss: 0.69267821\tacc: 0.482\n",
      "INFO:root:\ttask: avg\tloss: 0.69011606\tacc: 0.477\n",
      "INFO:root:final components: 2\n"
     ]
    }
   ],
   "source": [
    "for t in range(num_init_tasks):\n",
    "    fleet.train(t)"
   ]
  },
  {
   "cell_type": "code",
   "execution_count": 13,
   "metadata": {},
   "outputs": [
    {
     "data": {
      "text/plain": [
       "{'data': <torch.utils.data.dataset.Subset at 0x7fce2b39d810>,\n",
       " 'metadata': {'class_sequence': array([5, 0, 3, 4, 2, 6, 7, 1, 8, 9])}}"
      ]
     },
     "execution_count": 13,
     "metadata": {},
     "output_type": "execute_result"
    }
   ],
   "source": [
    "receiver.prepare_data(task_id=t, neighbor_id=1)"
   ]
  },
  {
   "cell_type": "code",
   "execution_count": 14,
   "metadata": {},
   "outputs": [
    {
     "name": "stdout",
     "output_type": "stream",
     "text": [
      "tensor(0)\n",
      "tensor(1)\n"
     ]
    }
   ],
   "source": [
    "t = torch.tensor([0, 0, 0, 0, 1, 0, 0, 1, 0, 0, 0, 1, 1, 1, 0, 0, 1, 0, 0, 1])\n",
    "for task_id in t.unique():\n",
    "    print(task_id)"
   ]
  },
  {
   "cell_type": "code",
   "execution_count": 15,
   "metadata": {},
   "outputs": [
    {
     "data": {
      "text/plain": [
       "tensor([False, False, False, False,  True, False, False,  True, False, False,\n",
       "        False,  True,  True,  True, False, False,  True, False, False,  True])"
      ]
     },
     "execution_count": 15,
     "metadata": {},
     "output_type": "execute_result"
    }
   ],
   "source": [
    "t == task_id"
   ]
  },
  {
   "cell_type": "code",
   "execution_count": 16,
   "metadata": {},
   "outputs": [
    {
     "name": "stdout",
     "output_type": "stream",
     "text": [
      "task_id tensor(0)\n",
      "t tensor([0, 0, 0, 0, 1, 0, 0, 1, 0, 0, 0, 1, 1, 1, 0, 0, 1, 0, 0, 1])\n",
      "tensor([ True,  True,  True,  True, False,  True,  True, False,  True,  True,\n",
      "         True, False, False, False,  True,  True, False,  True,  True, False])\n",
      "X: 40\n",
      "Xhaf torch.Size([20, 1, 28, 28])\n",
      "task_id tensor(1)\n",
      "t tensor([0, 0, 0, 0, 1, 0, 0, 1, 0, 0, 0, 1, 1, 1, 0, 0, 1, 0, 0, 1])\n",
      "tensor([False, False, False, False,  True, False, False,  True, False, False,\n",
      "        False,  True,  True,  True, False, False,  True, False, False,  True])\n",
      "X: 40\n",
      "Xhaf torch.Size([20, 1, 28, 28])\n"
     ]
    }
   ],
   "source": [
    "gt_scores = torch.rand(size=(bandwidth,))\n",
    "\n",
    "receiver.process_feedback(gt_scores, neighbor_id=1)"
   ]
  },
  {
   "cell_type": "code",
   "execution_count": 17,
   "metadata": {},
   "outputs": [
    {
     "data": {
      "text/plain": [
       "True"
      ]
     },
     "execution_count": 17,
     "metadata": {},
     "output_type": "execute_result"
    }
   ],
   "source": [
    "receiver.agent.use_contrastive"
   ]
  },
  {
   "cell_type": "code",
   "execution_count": null,
   "metadata": {},
   "outputs": [],
   "source": []
  }
 ],
 "metadata": {
  "kernelspec": {
   "display_name": "shell",
   "language": "python",
   "name": "python3"
  },
  "language_info": {
   "codemirror_mode": {
    "name": "ipython",
    "version": 3
   },
   "file_extension": ".py",
   "mimetype": "text/x-python",
   "name": "python",
   "nbconvert_exporter": "python",
   "pygments_lexer": "ipython3",
   "version": "3.10.9"
  },
  "orig_nbformat": 4
 },
 "nbformat": 4,
 "nbformat_minor": 2
}
