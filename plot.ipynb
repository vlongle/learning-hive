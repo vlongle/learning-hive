{
 "cells": [
  {
   "cell_type": "code",
   "execution_count": 1,
   "metadata": {},
   "outputs": [
    {
     "name": "stderr",
     "output_type": "stream",
     "text": [
      "/tmp/ipykernel_3976398/2817862154.py:4: MatplotlibDeprecationWarning: The seaborn styles shipped by Matplotlib are deprecated since 3.6, as they no longer correspond to the styles shipped by seaborn. However, they will remain available as 'seaborn-v0_8-<style>'. Alternatively, directly use the seaborn API instead.\n",
      "  plt.style.use('seaborn-whitegrid')\n"
     ]
    }
   ],
   "source": [
    "import numpy as np\n",
    "import matplotlib.pyplot as plt\n",
    "import matplotlib\n",
    "plt.style.use('seaborn-whitegrid')\n",
    "import pandas as pd"
   ]
  },
  {
   "cell_type": "code",
   "execution_count": 2,
   "metadata": {},
   "outputs": [
    {
     "data": {
      "text/html": [
       "<div>\n",
       "<style scoped>\n",
       "    .dataframe tbody tr th:only-of-type {\n",
       "        vertical-align: middle;\n",
       "    }\n",
       "\n",
       "    .dataframe tbody tr th {\n",
       "        vertical-align: top;\n",
       "    }\n",
       "\n",
       "    .dataframe thead th {\n",
       "        text-align: right;\n",
       "    }\n",
       "</style>\n",
       "<table border=\"1\" class=\"dataframe\">\n",
       "  <thead>\n",
       "    <tr style=\"text-align: right;\">\n",
       "      <th></th>\n",
       "      <th>dataset</th>\n",
       "      <th>algo</th>\n",
       "      <th>use_contrastive</th>\n",
       "      <th>seed</th>\n",
       "      <th>agent_id</th>\n",
       "      <th>avg_acc</th>\n",
       "      <th>final_acc</th>\n",
       "      <th>forward</th>\n",
       "      <th>backward</th>\n",
       "      <th>catastrophic</th>\n",
       "    </tr>\n",
       "  </thead>\n",
       "  <tbody>\n",
       "    <tr>\n",
       "      <th>0</th>\n",
       "      <td>kmnist</td>\n",
       "      <td>modular</td>\n",
       "      <td>True</td>\n",
       "      <td>seed_0</td>\n",
       "      <td>agent_1</td>\n",
       "      <td>0.833549</td>\n",
       "      <td>0.80820</td>\n",
       "      <td>0.505286</td>\n",
       "      <td>0.026369</td>\n",
       "      <td>-0.295</td>\n",
       "    </tr>\n",
       "    <tr>\n",
       "      <th>1</th>\n",
       "      <td>kmnist</td>\n",
       "      <td>modular</td>\n",
       "      <td>True</td>\n",
       "      <td>seed_0</td>\n",
       "      <td>agent_2</td>\n",
       "      <td>0.874713</td>\n",
       "      <td>0.87200</td>\n",
       "      <td>0.500000</td>\n",
       "      <td>0.027333</td>\n",
       "      <td>-0.150</td>\n",
       "    </tr>\n",
       "    <tr>\n",
       "      <th>2</th>\n",
       "      <td>kmnist</td>\n",
       "      <td>modular</td>\n",
       "      <td>True</td>\n",
       "      <td>seed_0</td>\n",
       "      <td>agent_6</td>\n",
       "      <td>0.835158</td>\n",
       "      <td>0.80395</td>\n",
       "      <td>0.507357</td>\n",
       "      <td>0.025464</td>\n",
       "      <td>-0.020</td>\n",
       "    </tr>\n",
       "    <tr>\n",
       "      <th>3</th>\n",
       "      <td>kmnist</td>\n",
       "      <td>modular</td>\n",
       "      <td>True</td>\n",
       "      <td>seed_0</td>\n",
       "      <td>agent_7</td>\n",
       "      <td>0.864278</td>\n",
       "      <td>0.86955</td>\n",
       "      <td>0.505286</td>\n",
       "      <td>0.025726</td>\n",
       "      <td>-0.360</td>\n",
       "    </tr>\n",
       "    <tr>\n",
       "      <th>4</th>\n",
       "      <td>kmnist</td>\n",
       "      <td>modular</td>\n",
       "      <td>True</td>\n",
       "      <td>seed_0</td>\n",
       "      <td>agent_4</td>\n",
       "      <td>0.854416</td>\n",
       "      <td>0.85325</td>\n",
       "      <td>0.495214</td>\n",
       "      <td>0.025893</td>\n",
       "      <td>0.095</td>\n",
       "    </tr>\n",
       "  </tbody>\n",
       "</table>\n",
       "</div>"
      ],
      "text/plain": [
       "  dataset     algo  use_contrastive    seed agent_id   avg_acc  final_acc  \\\n",
       "0  kmnist  modular             True  seed_0  agent_1  0.833549    0.80820   \n",
       "1  kmnist  modular             True  seed_0  agent_2  0.874713    0.87200   \n",
       "2  kmnist  modular             True  seed_0  agent_6  0.835158    0.80395   \n",
       "3  kmnist  modular             True  seed_0  agent_7  0.864278    0.86955   \n",
       "4  kmnist  modular             True  seed_0  agent_4  0.854416    0.85325   \n",
       "\n",
       "    forward  backward  catastrophic  \n",
       "0  0.505286  0.026369        -0.295  \n",
       "1  0.500000  0.027333        -0.150  \n",
       "2  0.507357  0.025464        -0.020  \n",
       "3  0.505286  0.025726        -0.360  \n",
       "4  0.495214  0.025893         0.095  "
      ]
     },
     "execution_count": 2,
     "metadata": {},
     "output_type": "execute_result"
    }
   ],
   "source": [
    "df = pd.read_csv('experiment_results.csv')\n",
    "df.head()"
   ]
  },
  {
   "cell_type": "code",
   "execution_count": 3,
   "metadata": {},
   "outputs": [
    {
     "data": {
      "text/plain": [
       "algo        dataset       use_contrastive\n",
       "modular     cifar100      False              0.787837\n",
       "                          True               0.767437\n",
       "            fashionmnist  False              0.930831\n",
       "                          True               0.936975\n",
       "            kmnist        False              0.818556\n",
       "                          True               0.844725\n",
       "            mnist         False              0.946232\n",
       "                          True               0.956240\n",
       "monolithic  cifar100      False              0.587488\n",
       "                          True               0.578813\n",
       "            fashionmnist  False              0.921381\n",
       "                          True               0.927769\n",
       "            kmnist        False              0.790094\n",
       "                          True               0.833406\n",
       "            mnist         False              0.903315\n",
       "                          True               0.947683\n",
       "Name: final_acc, dtype: float64"
      ]
     },
     "execution_count": 3,
     "metadata": {},
     "output_type": "execute_result"
    }
   ],
   "source": [
    "m = df.groupby([\"algo\", \"dataset\", \"use_contrastive\"])[\n",
    "      \"final_acc\"].mean()\n",
    "stderr = df.groupby([\"algo\", \"dataset\", \"use_contrastive\"])[\"final_acc\"].sem()\n",
    "m"
   ]
  },
  {
   "cell_type": "code",
   "execution_count": 4,
   "metadata": {},
   "outputs": [
    {
     "data": {
      "text/plain": [
       "algo        dataset       use_contrastive\n",
       "modular     cifar100      False              0.003472\n",
       "                          True               0.004915\n",
       "            fashionmnist  False              0.006547\n",
       "                          True               0.005296\n",
       "            kmnist        False              0.009510\n",
       "                          True               0.011355\n",
       "            mnist         False              0.004199\n",
       "                          True               0.003525\n",
       "monolithic  cifar100      False              0.002302\n",
       "                          True               0.004632\n",
       "            fashionmnist  False              0.006069\n",
       "                          True               0.006050\n",
       "            kmnist        False              0.011886\n",
       "                          True               0.008550\n",
       "            mnist         False              0.007786\n",
       "                          True               0.004232\n",
       "Name: final_acc, dtype: float64"
      ]
     },
     "execution_count": 4,
     "metadata": {},
     "output_type": "execute_result"
    }
   ],
   "source": [
    "stderr"
   ]
  },
  {
   "cell_type": "code",
   "execution_count": 5,
   "metadata": {},
   "outputs": [],
   "source": [
    "# modular_means when algo == \"modular\" and use_contrastive == False\n",
    "# datasets = ['mnist', 'fashionmnist', 'kmnist', 'cifar100']\n",
    "datasets = ['cifar100']\n",
    "\n",
    "modular_means = [m[('modular', dataset, False)] for dataset in datasets]\n",
    "modular_stderr = [stderr[('modular', dataset, False)] for dataset in datasets]\n",
    "\n",
    "modular_contrastive_means = [m[('modular', dataset, True)] for dataset in datasets]\n",
    "modular_contrastive_stderr = [stderr[('modular', dataset, True)] for dataset in datasets]\n",
    "\n",
    "monolithic_means = [m[('monolithic', dataset, False)] for dataset in datasets]\n",
    "monolithic_stderr = [stderr[('monolithic', dataset, False)] for dataset in datasets]\n",
    "\n",
    "monolithic_contrastive_means = [m[('monolithic', dataset, True)] for dataset in datasets]\n",
    "monolithic_contrastive_stderr = [stderr[('monolithic', dataset, True)] for dataset in datasets]"
   ]
  },
  {
   "cell_type": "code",
   "execution_count": 6,
   "metadata": {},
   "outputs": [
    {
     "data": {
      "image/png": "[encoded data removed]",
      "text/plain": [
       "<Figure size 1000x400 with 1 Axes>"
      ]
     },
     "metadata": {},
     "output_type": "display_data"
    }
   ],
   "source": [
    "\n",
    "\n",
    "# Set colors\n",
    "modular_color = '#3182bd'\n",
    "modular_contrastive_color = '#9ecae1'\n",
    "monolithic_color = '#de2d26'\n",
    "monolithic_contrastive_color = '#fc9272'\n",
    "\n",
    "# Set figure size\n",
    "fig, ax = plt.subplots(figsize=(10,4))\n",
    "\n",
    "# Plot data\n",
    "bar_width = 0.2\n",
    "opacity = 0.8\n",
    "\n",
    "# fake ChatGPT data\n",
    "# modular_means = [93.5, 90.8, 93.7, 71.3, 91.8, 76.4]\n",
    "# modular_std = [1.1, 0.8, 0.5, 1.2, 0.5, 1.4]\n",
    "\n",
    "# actual data\n",
    "# modular_means = [93.5, 90.8, 93.7, 71.3, 91.8, 76.4]\n",
    "# modular_std = [1.1, 0.8, 0.5, 1.2, 0.5, 1.4]\n",
    "\n",
    "# modular_contrastive_means = [94.2, 91.6, 93.9, 74.5, 93.4, 77.5]\n",
    "# modular_contrastive_std = [0.9, 0.7, 0.6, 1.1, 0.7, 1.1]\n",
    "\n",
    "# monolithic_means = [92.6, 89.4, 92.7, 68.1, 91.0, 74.8]\n",
    "# monolithic_std = [0.7, 0.9, 0.6, 1.1, 0.8, 0.9]\n",
    "\n",
    "# monolithic_contrastive_means = [94.3, 91.7, 94.2, 74.8, 94.0, 79.3]\n",
    "# monolithic_contrastive_std = [0.8, 0.6, 0.4, 0.8, 0.5, 0.9]\n",
    "\n",
    "linewidth = 2\n",
    "\n",
    "rects1 = ax.bar(np.arange(len(modular_means))-bar_width, modular_means, bar_width,\n",
    "                yerr=modular_stderr, alpha=opacity, color=modular_color, label='Modular',\n",
    "                edgecolor='#214073',\n",
    "                 linewidth=linewidth,\n",
    "              )\n",
    "rects2 = ax.bar(np.arange(len(modular_contrastive_means)), modular_contrastive_means, bar_width,\n",
    "                yerr=modular_contrastive_stderr, alpha=opacity, color=modular_contrastive_color, label='Modular + Contrastive',\n",
    "                edgecolor='#6a9bbd',\n",
    "                 linewidth=linewidth,\n",
    "                )\n",
    "rects3 = ax.bar(np.arange(len(monolithic_means))+bar_width, monolithic_means, bar_width,\n",
    "                yerr=monolithic_stderr, alpha=opacity, color=monolithic_color, label='Monolithic',\n",
    "                edgecolor='#a6221f',\n",
    "                                linewidth=linewidth,)\n",
    "rects4 = ax.bar(np.arange(len(monolithic_contrastive_means))+bar_width*2, monolithic_contrastive_means, bar_width,\n",
    "                yerr=monolithic_contrastive_stderr, alpha=opacity, color=monolithic_contrastive_color, label='Monolithic + Contrastive',\n",
    "                 edgecolor='#d4756d',\n",
    "                 linewidth=linewidth,\n",
    "                 )\n",
    "\n",
    "\n",
    "# datasets = ['MNIST', 'FashionMNIST', 'KMNIST', 'CIFAR-100']\n",
    "datasets = ['CIFAR-100']\n",
    "# datasets = ['MNIST', 'FashionMNIST', 'KMNIST', 'CIFAR-100', 'Gridworld', 'Composuite']\n",
    "x = np.arange(len(datasets))\n",
    "ax.set_xticks(x)\n",
    "ax.set_xticklabels(datasets)\n",
    "ax.set_ylim([0.5, 1])\n",
    "ax.set_ylabel('Accuracy', fontsize=14)\n",
    "ax.set_xlabel('Dataset', fontsize=14)\n",
    "# leg = ax.legend(frameon=True)\n",
    "# leg.get_frame().set_edgecolor('b')\n",
    "\n",
    "ax.set_title('Comparison of Algorithm Performance', fontsize=16, fontweight='bold')\n",
    "\n",
    "\n",
    "# ax.legend(frameon=True, loc='lower center')\n",
    "ax.legend(frameon=True, loc='lower right', bbox_to_anchor=(1.28, 0.0));\n",
    "plt.savefig(f\"Figures/vanilla/results.pdf\", bbox_inches=\"tight\")\n",
    "# plt.tight_layout()\n",
    "# https://arxiv.org/pdf/2303.03378.pdf, color around box, see Figure 6"
   ]
  },
  {
   "cell_type": "code",
   "execution_count": null,
   "metadata": {},
   "outputs": [],
   "source": []
  }
 ],
 "metadata": {
  "kernelspec": {
   "display_name": "shell",
   "language": "python",
   "name": "python3"
  },
  "language_info": {
   "codemirror_mode": {
    "name": "ipython",
    "version": 3
   },
   "file_extension": ".py",
   "mimetype": "text/x-python",
   "name": "python",
   "nbconvert_exporter": "python",
   "pygments_lexer": "ipython3",
   "version": "3.10.9"
  },
  "orig_nbformat": 4
 },
 "nbformat": 4,
 "nbformat_minor": 2
}
