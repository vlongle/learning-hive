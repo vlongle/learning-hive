{
 "cells": [
  {
   "cell_type": "code",
   "execution_count": 1,
   "metadata": {},
   "outputs": [
    {
     "name": "stderr",
     "output_type": "stream",
     "text": [
      "/tmp/ipykernel_2396023/2817862154.py:4: MatplotlibDeprecationWarning: The seaborn styles shipped by Matplotlib are deprecated since 3.6, as they no longer correspond to the styles shipped by seaborn. However, they will remain available as 'seaborn-v0_8-<style>'. Alternatively, directly use the seaborn API instead.\n",
      "  plt.style.use('seaborn-whitegrid')\n"
     ]
    }
   ],
   "source": [
    "import numpy as np\n",
    "import matplotlib.pyplot as plt\n",
    "import matplotlib\n",
    "plt.style.use('seaborn-whitegrid')\n",
    "import pandas as pd"
   ]
  },
  {
   "cell_type": "code",
   "execution_count": 2,
   "metadata": {},
   "outputs": [
    {
     "data": {
      "text/html": [
       "<div>\n",
       "<style scoped>\n",
       "    .dataframe tbody tr th:only-of-type {\n",
       "        vertical-align: middle;\n",
       "    }\n",
       "\n",
       "    .dataframe tbody tr th {\n",
       "        vertical-align: top;\n",
       "    }\n",
       "\n",
       "    .dataframe thead th {\n",
       "        text-align: right;\n",
       "    }\n",
       "</style>\n",
       "<table border=\"1\" class=\"dataframe\">\n",
       "  <thead>\n",
       "    <tr style=\"text-align: right;\">\n",
       "      <th></th>\n",
       "      <th>dataset</th>\n",
       "      <th>algo</th>\n",
       "      <th>use_contrastive</th>\n",
       "      <th>seed</th>\n",
       "      <th>agent_id</th>\n",
       "      <th>avg_acc</th>\n",
       "      <th>final_acc</th>\n",
       "      <th>forward</th>\n",
       "      <th>backward</th>\n",
       "      <th>catastrophic</th>\n",
       "    </tr>\n",
       "  </thead>\n",
       "  <tbody>\n",
       "    <tr>\n",
       "      <th>0</th>\n",
       "      <td>mnist</td>\n",
       "      <td>modular</td>\n",
       "      <td>False</td>\n",
       "      <td>seed_3</td>\n",
       "      <td>agent_1</td>\n",
       "      <td>0.952020</td>\n",
       "      <td>0.949610</td>\n",
       "      <td>0.807879</td>\n",
       "      <td>0.034172</td>\n",
       "      <td>-0.174025</td>\n",
       "    </tr>\n",
       "    <tr>\n",
       "      <th>1</th>\n",
       "      <td>mnist</td>\n",
       "      <td>modular</td>\n",
       "      <td>False</td>\n",
       "      <td>seed_3</td>\n",
       "      <td>agent_6</td>\n",
       "      <td>0.956262</td>\n",
       "      <td>0.951423</td>\n",
       "      <td>0.823254</td>\n",
       "      <td>0.032295</td>\n",
       "      <td>0.146214</td>\n",
       "    </tr>\n",
       "    <tr>\n",
       "      <th>2</th>\n",
       "      <td>mnist</td>\n",
       "      <td>modular</td>\n",
       "      <td>False</td>\n",
       "      <td>seed_3</td>\n",
       "      <td>agent_2</td>\n",
       "      <td>0.950844</td>\n",
       "      <td>0.955103</td>\n",
       "      <td>0.746659</td>\n",
       "      <td>0.032802</td>\n",
       "      <td>-0.050309</td>\n",
       "    </tr>\n",
       "    <tr>\n",
       "      <th>3</th>\n",
       "      <td>mnist</td>\n",
       "      <td>modular</td>\n",
       "      <td>False</td>\n",
       "      <td>seed_3</td>\n",
       "      <td>agent_5</td>\n",
       "      <td>0.950681</td>\n",
       "      <td>0.946543</td>\n",
       "      <td>0.768949</td>\n",
       "      <td>0.033302</td>\n",
       "      <td>0.032473</td>\n",
       "    </tr>\n",
       "    <tr>\n",
       "      <th>4</th>\n",
       "      <td>mnist</td>\n",
       "      <td>modular</td>\n",
       "      <td>False</td>\n",
       "      <td>seed_3</td>\n",
       "      <td>agent_7</td>\n",
       "      <td>0.958991</td>\n",
       "      <td>0.957205</td>\n",
       "      <td>0.802373</td>\n",
       "      <td>0.034451</td>\n",
       "      <td>-0.239448</td>\n",
       "    </tr>\n",
       "  </tbody>\n",
       "</table>\n",
       "</div>"
      ],
      "text/plain": [
       "  dataset     algo  use_contrastive    seed agent_id   avg_acc  final_acc  \\\n",
       "0   mnist  modular            False  seed_3  agent_1  0.952020   0.949610   \n",
       "1   mnist  modular            False  seed_3  agent_6  0.956262   0.951423   \n",
       "2   mnist  modular            False  seed_3  agent_2  0.950844   0.955103   \n",
       "3   mnist  modular            False  seed_3  agent_5  0.950681   0.946543   \n",
       "4   mnist  modular            False  seed_3  agent_7  0.958991   0.957205   \n",
       "\n",
       "    forward  backward  catastrophic  \n",
       "0  0.807879  0.034172     -0.174025  \n",
       "1  0.823254  0.032295      0.146214  \n",
       "2  0.746659  0.032802     -0.050309  \n",
       "3  0.768949  0.033302      0.032473  \n",
       "4  0.802373  0.034451     -0.239448  "
      ]
     },
     "execution_count": 2,
     "metadata": {},
     "output_type": "execute_result"
    }
   ],
   "source": [
    "df = pd.read_csv('experiment_results/vanilla.csv')\n",
    "df.head()"
   ]
  },
  {
   "cell_type": "code",
   "execution_count": 3,
   "metadata": {},
   "outputs": [
    {
     "data": {
      "text/html": [
       "<div>\n",
       "<style scoped>\n",
       "    .dataframe tbody tr th:only-of-type {\n",
       "        vertical-align: middle;\n",
       "    }\n",
       "\n",
       "    .dataframe tbody tr th {\n",
       "        vertical-align: top;\n",
       "    }\n",
       "\n",
       "    .dataframe thead th {\n",
       "        text-align: right;\n",
       "    }\n",
       "</style>\n",
       "<table border=\"1\" class=\"dataframe\">\n",
       "  <thead>\n",
       "    <tr style=\"text-align: right;\">\n",
       "      <th></th>\n",
       "      <th>dataset</th>\n",
       "      <th>algo</th>\n",
       "      <th>use_contrastive</th>\n",
       "      <th>seed</th>\n",
       "      <th>agent_id</th>\n",
       "      <th>avg_acc</th>\n",
       "      <th>final_acc</th>\n",
       "      <th>forward</th>\n",
       "      <th>backward</th>\n",
       "      <th>catastrophic</th>\n",
       "    </tr>\n",
       "  </thead>\n",
       "  <tbody>\n",
       "  </tbody>\n",
       "</table>\n",
       "</div>"
      ],
      "text/plain": [
       "Empty DataFrame\n",
       "Columns: [dataset, algo, use_contrastive, seed, agent_id, avg_acc, final_acc, forward, backward, catastrophic]\n",
       "Index: []"
      ]
     },
     "execution_count": 3,
     "metadata": {},
     "output_type": "execute_result"
    }
   ],
   "source": [
    "df[(df['algo'] == 'modular') & (df['dataset'] == 'cifar100') & (df['use_contrastive'] == False)]"
   ]
  },
  {
   "cell_type": "code",
   "execution_count": 4,
   "metadata": {},
   "outputs": [
    {
     "data": {
      "text/html": [
       "<div>\n",
       "<style scoped>\n",
       "    .dataframe tbody tr th:only-of-type {\n",
       "        vertical-align: middle;\n",
       "    }\n",
       "\n",
       "    .dataframe tbody tr th {\n",
       "        vertical-align: top;\n",
       "    }\n",
       "\n",
       "    .dataframe thead th {\n",
       "        text-align: right;\n",
       "    }\n",
       "</style>\n",
       "<table border=\"1\" class=\"dataframe\">\n",
       "  <thead>\n",
       "    <tr style=\"text-align: right;\">\n",
       "      <th></th>\n",
       "      <th>dataset</th>\n",
       "      <th>algo</th>\n",
       "      <th>use_contrastive</th>\n",
       "      <th>seed</th>\n",
       "      <th>agent_id</th>\n",
       "      <th>avg_acc</th>\n",
       "      <th>final_acc</th>\n",
       "      <th>forward</th>\n",
       "      <th>backward</th>\n",
       "      <th>catastrophic</th>\n",
       "    </tr>\n",
       "  </thead>\n",
       "  <tbody>\n",
       "  </tbody>\n",
       "</table>\n",
       "</div>"
      ],
      "text/plain": [
       "Empty DataFrame\n",
       "Columns: [dataset, algo, use_contrastive, seed, agent_id, avg_acc, final_acc, forward, backward, catastrophic]\n",
       "Index: []"
      ]
     },
     "execution_count": 4,
     "metadata": {},
     "output_type": "execute_result"
    }
   ],
   "source": [
    "df[(df['algo'] == 'modular') & (df['dataset'] == 'cifar100') & (df['use_contrastive'] == True)]"
   ]
  },
  {
   "cell_type": "code",
   "execution_count": 5,
   "metadata": {},
   "outputs": [
    {
     "data": {
      "text/plain": [
       "algo        dataset       use_contrastive\n",
       "modular     fashionmnist  False              0.939948\n",
       "                          True               0.938534\n",
       "            kmnist        False              0.829986\n",
       "                          True               0.851872\n",
       "            mnist         False              0.949709\n",
       "                          True               0.958443\n",
       "monolithic  fashionmnist  False              0.922384\n",
       "                          True               0.923408\n",
       "            kmnist        False              0.789461\n",
       "                          True               0.827864\n",
       "            mnist         False              0.918061\n",
       "                          True               0.953293\n",
       "Name: final_acc, dtype: float64"
      ]
     },
     "execution_count": 5,
     "metadata": {},
     "output_type": "execute_result"
    }
   ],
   "source": [
    "m = df.groupby([\"algo\", \"dataset\", \"use_contrastive\"])[\n",
    "      \"final_acc\"].mean()\n",
    "stderr = df.groupby([\"algo\", \"dataset\", \"use_contrastive\"])[\"final_acc\"].sem()\n",
    "# stderr = df.groupby([\"algo\", \"dataset\", \"use_contrastive\"])[\"final_acc\"].std()\n",
    "m"
   ]
  },
  {
   "cell_type": "code",
   "execution_count": 6,
   "metadata": {},
   "outputs": [
    {
     "data": {
      "text/plain": [
       "algo        dataset       use_contrastive\n",
       "modular     fashionmnist  False              0.002848\n",
       "                          True               0.002893\n",
       "            kmnist        False              0.003601\n",
       "                          True               0.003784\n",
       "            mnist         False              0.001697\n",
       "                          True               0.001284\n",
       "monolithic  fashionmnist  False              0.003996\n",
       "                          True               0.004537\n",
       "            kmnist        False              0.004066\n",
       "                          True               0.004200\n",
       "            mnist         False              0.004147\n",
       "                          True               0.001546\n",
       "Name: final_acc, dtype: float64"
      ]
     },
     "execution_count": 6,
     "metadata": {},
     "output_type": "execute_result"
    }
   ],
   "source": [
    "stderr"
   ]
  },
  {
   "cell_type": "code",
   "execution_count": 7,
   "metadata": {},
   "outputs": [
    {
     "name": "stdout",
     "output_type": "stream",
     "text": [
      "Unexpected exception formatting exception. Falling back to standard exception\n"
     ]
    },
    {
     "name": "stderr",
     "output_type": "stream",
     "text": [
      "Traceback (most recent call last):\n",
      "  File \"/home/vlongle/miniconda3/envs/shell/lib/python3.10/site-packages/pandas/core/indexes/base.py\", line 3802, in get_loc\n",
      "    return self._engine.get_loc(casted_key)\n",
      "  File \"pandas/_libs/index.pyx\", line 138, in pandas._libs.index.IndexEngine.get_loc\n",
      "  File \"pandas/_libs/index.pyx\", line 165, in pandas._libs.index.IndexEngine.get_loc\n",
      "  File \"pandas/_libs/hashtable_class_helper.pxi\", line 5745, in pandas._libs.hashtable.PyObjectHashTable.get_item\n",
      "  File \"pandas/_libs/hashtable_class_helper.pxi\", line 5753, in pandas._libs.hashtable.PyObjectHashTable.get_item\n",
      "KeyError: 'cifar100'\n",
      "\n",
      "The above exception was the direct cause of the following exception:\n",
      "\n",
      "Traceback (most recent call last):\n",
      "  File \"pandas/_libs/index.pyx\", line 774, in pandas._libs.index.BaseMultiIndexCodesEngine.get_loc\n",
      "  File \"/home/vlongle/miniconda3/envs/shell/lib/python3.10/site-packages/pandas/core/indexes/base.py\", line 3804, in get_loc\n",
      "    raise KeyError(key) from err\n",
      "KeyError: 'cifar100'\n",
      "\n",
      "During handling of the above exception, another exception occurred:\n",
      "\n",
      "Traceback (most recent call last):\n",
      "  File \"/home/vlongle/miniconda3/envs/shell/lib/python3.10/site-packages/pandas/core/series.py\", line 987, in __getitem__\n",
      "    result = self._get_value(key)\n",
      "  File \"/home/vlongle/miniconda3/envs/shell/lib/python3.10/site-packages/pandas/core/series.py\", line 1089, in _get_value\n",
      "    loc = self.index.get_loc(label)\n",
      "  File \"/home/vlongle/miniconda3/envs/shell/lib/python3.10/site-packages/pandas/core/indexes/multi.py\", line 2927, in get_loc\n",
      "    return self._engine.get_loc(key)\n",
      "  File \"pandas/_libs/index.pyx\", line 777, in pandas._libs.index.BaseMultiIndexCodesEngine.get_loc\n",
      "KeyError: ('modular', 'cifar100', False)\n",
      "\n",
      "During handling of the above exception, another exception occurred:\n",
      "\n",
      "Traceback (most recent call last):\n",
      "  File \"/home/vlongle/miniconda3/envs/shell/lib/python3.10/site-packages/pandas/core/indexes/base.py\", line 3802, in get_loc\n",
      "    return self._engine.get_loc(casted_key)\n",
      "  File \"pandas/_libs/index.pyx\", line 138, in pandas._libs.index.IndexEngine.get_loc\n",
      "  File \"pandas/_libs/index.pyx\", line 165, in pandas._libs.index.IndexEngine.get_loc\n",
      "  File \"pandas/_libs/hashtable_class_helper.pxi\", line 5745, in pandas._libs.hashtable.PyObjectHashTable.get_item\n",
      "  File \"pandas/_libs/hashtable_class_helper.pxi\", line 5753, in pandas._libs.hashtable.PyObjectHashTable.get_item\n",
      "KeyError: 'cifar100'\n",
      "\n",
      "The above exception was the direct cause of the following exception:\n",
      "\n",
      "Traceback (most recent call last):\n",
      "  File \"pandas/_libs/index.pyx\", line 774, in pandas._libs.index.BaseMultiIndexCodesEngine.get_loc\n",
      "  File \"/home/vlongle/miniconda3/envs/shell/lib/python3.10/site-packages/pandas/core/indexes/base.py\", line 3804, in get_loc\n",
      "    raise KeyError(key) from err\n",
      "KeyError: 'cifar100'\n",
      "\n",
      "During handling of the above exception, another exception occurred:\n",
      "\n",
      "Traceback (most recent call last):\n",
      "  File \"/home/vlongle/miniconda3/envs/shell/lib/python3.10/site-packages/pandas/core/indexes/multi.py\", line 3090, in _get_loc_level\n",
      "    return (self._engine.get_loc(key), None)\n",
      "  File \"pandas/_libs/index.pyx\", line 777, in pandas._libs.index.BaseMultiIndexCodesEngine.get_loc\n",
      "KeyError: ('modular', 'cifar100', False)\n",
      "\n",
      "The above exception was the direct cause of the following exception:\n",
      "\n",
      "Traceback (most recent call last):\n",
      "  File \"/home/vlongle/miniconda3/envs/shell/lib/python3.10/site-packages/IPython/core/interactiveshell.py\", line 3460, in run_code\n",
      "    exec(code_obj, self.user_global_ns, self.user_ns)\n",
      "  File \"/tmp/ipykernel_2396023/299812778.py\", line 5, in <module>\n",
      "    modular_means = [m[('modular', dataset, False)] for dataset in datasets]\n",
      "  File \"/tmp/ipykernel_2396023/299812778.py\", line 5, in <listcomp>\n",
      "    modular_means = [m[('modular', dataset, False)] for dataset in datasets]\n",
      "  File \"/home/vlongle/miniconda3/envs/shell/lib/python3.10/site-packages/pandas/core/series.py\", line 997, in __getitem__\n",
      "    return self._get_values_tuple(key)\n",
      "  File \"/home/vlongle/miniconda3/envs/shell/lib/python3.10/site-packages/pandas/core/series.py\", line 1063, in _get_values_tuple\n",
      "    indexer, new_index = self.index.get_loc_level(key)\n",
      "  File \"/home/vlongle/miniconda3/envs/shell/lib/python3.10/site-packages/pandas/core/indexes/multi.py\", line 3019, in get_loc_level\n",
      "    loc, mi = self._get_loc_level(key, level=level)\n",
      "  File \"/home/vlongle/miniconda3/envs/shell/lib/python3.10/site-packages/pandas/core/indexes/multi.py\", line 3092, in _get_loc_level\n",
      "    raise KeyError(key) from err\n",
      "KeyError: ('modular', 'cifar100', False)\n",
      "\n",
      "During handling of the above exception, another exception occurred:\n",
      "\n",
      "Traceback (most recent call last):\n",
      "  File \"/home/vlongle/miniconda3/envs/shell/lib/python3.10/site-packages/IPython/core/interactiveshell.py\", line 2057, in showtraceback\n",
      "    stb = self.InteractiveTB.structured_traceback(\n",
      "  File \"/home/vlongle/miniconda3/envs/shell/lib/python3.10/site-packages/IPython/core/ultratb.py\", line 1288, in structured_traceback\n",
      "    return FormattedTB.structured_traceback(\n",
      "  File \"/home/vlongle/miniconda3/envs/shell/lib/python3.10/site-packages/IPython/core/ultratb.py\", line 1177, in structured_traceback\n",
      "    return VerboseTB.structured_traceback(\n",
      "  File \"/home/vlongle/miniconda3/envs/shell/lib/python3.10/site-packages/IPython/core/ultratb.py\", line 1049, in structured_traceback\n",
      "    formatted_exceptions += self.format_exception_as_a_whole(etype, evalue, etb, lines_of_context,\n",
      "  File \"/home/vlongle/miniconda3/envs/shell/lib/python3.10/site-packages/IPython/core/ultratb.py\", line 935, in format_exception_as_a_whole\n",
      "    self.get_records(etb, number_of_lines_of_context, tb_offset) if etb else []\n",
      "  File \"/home/vlongle/miniconda3/envs/shell/lib/python3.10/site-packages/IPython/core/ultratb.py\", line 1003, in get_records\n",
      "    lines, first = inspect.getsourcelines(etb.tb_frame)\n",
      "  File \"/home/vlongle/miniconda3/envs/shell/lib/python3.10/inspect.py\", line 1129, in getsourcelines\n",
      "    lines, lnum = findsource(object)\n",
      "  File \"/home/vlongle/miniconda3/envs/shell/lib/python3.10/inspect.py\", line 958, in findsource\n",
      "    raise OSError('could not get source code')\n",
      "OSError: could not get source code\n"
     ]
    }
   ],
   "source": [
    "# modular_means when algo == \"modular\" and use_contrastive == False\n",
    "datasets = ['mnist', 'fashionmnist', 'kmnist', 'cifar100']\n",
    "# datasets = ['cifar100']\n",
    "\n",
    "modular_means = [m[('modular', dataset, False)] for dataset in datasets]\n",
    "modular_stderr = [stderr[('modular', dataset, False)] for dataset in datasets]\n",
    "\n",
    "modular_contrastive_means = [m[('modular', dataset, True)] for dataset in datasets]\n",
    "modular_contrastive_stderr = [stderr[('modular', dataset, True)] for dataset in datasets]\n",
    "\n",
    "monolithic_means = [m[('monolithic', dataset, False)] for dataset in datasets]\n",
    "monolithic_stderr = [stderr[('monolithic', dataset, False)] for dataset in datasets]\n",
    "\n",
    "monolithic_contrastive_means = [m[('monolithic', dataset, True)] for dataset in datasets]\n",
    "monolithic_contrastive_stderr = [stderr[('monolithic', dataset, True)] for dataset in datasets]"
   ]
  },
  {
   "cell_type": "code",
   "execution_count": 8,
   "metadata": {},
   "outputs": [
    {
     "ename": "NameError",
     "evalue": "name 'modular_means' is not defined",
     "output_type": "error",
     "traceback": [
      "\u001b[0;31m---------------------------------------------------------------------------\u001b[0m",
      "\u001b[0;31mNameError\u001b[0m                                 Traceback (most recent call last)",
      "\u001b[1;32m/home/vlongle/code/learning-hive/plot.ipynb Cell 8\u001b[0m line \u001b[0;36m4\n\u001b[1;32m     <a href='vscode-notebook-cell://ssh-remote%2B158.130.50.18/home/vlongle/code/learning-hive/plot.ipynb#X22sdnNjb2RlLXJlbW90ZQ%3D%3D?line=21'>22</a>\u001b[0m \u001b[39m# fake ChatGPT data\u001b[39;00m\n\u001b[1;32m     <a href='vscode-notebook-cell://ssh-remote%2B158.130.50.18/home/vlongle/code/learning-hive/plot.ipynb#X22sdnNjb2RlLXJlbW90ZQ%3D%3D?line=22'>23</a>\u001b[0m \u001b[39m# modular_means = [93.5, 90.8, 93.7, 71.3, 91.8, 76.4]\u001b[39;00m\n\u001b[1;32m     <a href='vscode-notebook-cell://ssh-remote%2B158.130.50.18/home/vlongle/code/learning-hive/plot.ipynb#X22sdnNjb2RlLXJlbW90ZQ%3D%3D?line=23'>24</a>\u001b[0m \u001b[39m# modular_std = [1.1, 0.8, 0.5, 1.2, 0.5, 1.4]\u001b[39;00m\n\u001b[0;32m   (...)\u001b[0m\n\u001b[1;32m     <a href='vscode-notebook-cell://ssh-remote%2B158.130.50.18/home/vlongle/code/learning-hive/plot.ipynb#X22sdnNjb2RlLXJlbW90ZQ%3D%3D?line=35'>36</a>\u001b[0m \u001b[39m# monolithic_contrastive_means = [94.3, 91.7, 94.2, 74.8, 94.0, 79.3]\u001b[39;00m\n\u001b[1;32m     <a href='vscode-notebook-cell://ssh-remote%2B158.130.50.18/home/vlongle/code/learning-hive/plot.ipynb#X22sdnNjb2RlLXJlbW90ZQ%3D%3D?line=36'>37</a>\u001b[0m \u001b[39m# monolithic_contrastive_std = [0.8, 0.6, 0.4, 0.8, 0.5, 0.9]\u001b[39;00m\n\u001b[1;32m     <a href='vscode-notebook-cell://ssh-remote%2B158.130.50.18/home/vlongle/code/learning-hive/plot.ipynb#X22sdnNjb2RlLXJlbW90ZQ%3D%3D?line=38'>39</a>\u001b[0m linewidth \u001b[39m=\u001b[39m \u001b[39m2\u001b[39m\n\u001b[0;32m---> <a href='vscode-notebook-cell://ssh-remote%2B158.130.50.18/home/vlongle/code/learning-hive/plot.ipynb#X22sdnNjb2RlLXJlbW90ZQ%3D%3D?line=40'>41</a>\u001b[0m rects1 \u001b[39m=\u001b[39m ax\u001b[39m.\u001b[39mbar(np\u001b[39m.\u001b[39marange(\u001b[39mlen\u001b[39m(modular_means))\u001b[39m-\u001b[39mbar_width, modular_means, bar_width,\n\u001b[1;32m     <a href='vscode-notebook-cell://ssh-remote%2B158.130.50.18/home/vlongle/code/learning-hive/plot.ipynb#X22sdnNjb2RlLXJlbW90ZQ%3D%3D?line=41'>42</a>\u001b[0m                 yerr\u001b[39m=\u001b[39mmodular_stderr, alpha\u001b[39m=\u001b[39mopacity, color\u001b[39m=\u001b[39mmodular_color, label\u001b[39m=\u001b[39m\u001b[39m'\u001b[39m\u001b[39mModular\u001b[39m\u001b[39m'\u001b[39m,\n\u001b[1;32m     <a href='vscode-notebook-cell://ssh-remote%2B158.130.50.18/home/vlongle/code/learning-hive/plot.ipynb#X22sdnNjb2RlLXJlbW90ZQ%3D%3D?line=42'>43</a>\u001b[0m                 edgecolor\u001b[39m=\u001b[39m\u001b[39m'\u001b[39m\u001b[39m#214073\u001b[39m\u001b[39m'\u001b[39m,\n\u001b[1;32m     <a href='vscode-notebook-cell://ssh-remote%2B158.130.50.18/home/vlongle/code/learning-hive/plot.ipynb#X22sdnNjb2RlLXJlbW90ZQ%3D%3D?line=43'>44</a>\u001b[0m                  linewidth\u001b[39m=\u001b[39mlinewidth,\n\u001b[1;32m     <a href='vscode-notebook-cell://ssh-remote%2B158.130.50.18/home/vlongle/code/learning-hive/plot.ipynb#X22sdnNjb2RlLXJlbW90ZQ%3D%3D?line=44'>45</a>\u001b[0m               )\n\u001b[1;32m     <a href='vscode-notebook-cell://ssh-remote%2B158.130.50.18/home/vlongle/code/learning-hive/plot.ipynb#X22sdnNjb2RlLXJlbW90ZQ%3D%3D?line=45'>46</a>\u001b[0m rects2 \u001b[39m=\u001b[39m ax\u001b[39m.\u001b[39mbar(np\u001b[39m.\u001b[39marange(\u001b[39mlen\u001b[39m(modular_contrastive_means)), modular_contrastive_means, bar_width,\n\u001b[1;32m     <a href='vscode-notebook-cell://ssh-remote%2B158.130.50.18/home/vlongle/code/learning-hive/plot.ipynb#X22sdnNjb2RlLXJlbW90ZQ%3D%3D?line=46'>47</a>\u001b[0m                 yerr\u001b[39m=\u001b[39mmodular_contrastive_stderr, alpha\u001b[39m=\u001b[39mopacity, color\u001b[39m=\u001b[39mmodular_contrastive_color, label\u001b[39m=\u001b[39m\u001b[39m'\u001b[39m\u001b[39mModular + Contrastive\u001b[39m\u001b[39m'\u001b[39m,\n\u001b[1;32m     <a href='vscode-notebook-cell://ssh-remote%2B158.130.50.18/home/vlongle/code/learning-hive/plot.ipynb#X22sdnNjb2RlLXJlbW90ZQ%3D%3D?line=47'>48</a>\u001b[0m                 edgecolor\u001b[39m=\u001b[39m\u001b[39m'\u001b[39m\u001b[39m#6a9bbd\u001b[39m\u001b[39m'\u001b[39m,\n\u001b[1;32m     <a href='vscode-notebook-cell://ssh-remote%2B158.130.50.18/home/vlongle/code/learning-hive/plot.ipynb#X22sdnNjb2RlLXJlbW90ZQ%3D%3D?line=48'>49</a>\u001b[0m                  linewidth\u001b[39m=\u001b[39mlinewidth,\n\u001b[1;32m     <a href='vscode-notebook-cell://ssh-remote%2B158.130.50.18/home/vlongle/code/learning-hive/plot.ipynb#X22sdnNjb2RlLXJlbW90ZQ%3D%3D?line=49'>50</a>\u001b[0m                 )\n\u001b[1;32m     <a href='vscode-notebook-cell://ssh-remote%2B158.130.50.18/home/vlongle/code/learning-hive/plot.ipynb#X22sdnNjb2RlLXJlbW90ZQ%3D%3D?line=50'>51</a>\u001b[0m rects3 \u001b[39m=\u001b[39m ax\u001b[39m.\u001b[39mbar(np\u001b[39m.\u001b[39marange(\u001b[39mlen\u001b[39m(monolithic_means))\u001b[39m+\u001b[39mbar_width, monolithic_means, bar_width,\n\u001b[1;32m     <a href='vscode-notebook-cell://ssh-remote%2B158.130.50.18/home/vlongle/code/learning-hive/plot.ipynb#X22sdnNjb2RlLXJlbW90ZQ%3D%3D?line=51'>52</a>\u001b[0m                 yerr\u001b[39m=\u001b[39mmonolithic_stderr, alpha\u001b[39m=\u001b[39mopacity, color\u001b[39m=\u001b[39mmonolithic_color, label\u001b[39m=\u001b[39m\u001b[39m'\u001b[39m\u001b[39mMonolithic\u001b[39m\u001b[39m'\u001b[39m,\n\u001b[1;32m     <a href='vscode-notebook-cell://ssh-remote%2B158.130.50.18/home/vlongle/code/learning-hive/plot.ipynb#X22sdnNjb2RlLXJlbW90ZQ%3D%3D?line=52'>53</a>\u001b[0m                 edgecolor\u001b[39m=\u001b[39m\u001b[39m'\u001b[39m\u001b[39m#a6221f\u001b[39m\u001b[39m'\u001b[39m,\n\u001b[1;32m     <a href='vscode-notebook-cell://ssh-remote%2B158.130.50.18/home/vlongle/code/learning-hive/plot.ipynb#X22sdnNjb2RlLXJlbW90ZQ%3D%3D?line=53'>54</a>\u001b[0m                                 linewidth\u001b[39m=\u001b[39mlinewidth,)\n",
      "\u001b[0;31mNameError\u001b[0m: name 'modular_means' is not defined"
     ]
    },
    {
     "data": {
      "image/png": "[encoded data removed]",
      "text/plain": [
       "<Figure size 1000x400 with 1 Axes>"
      ]
     },
     "metadata": {},
     "output_type": "display_data"
    }
   ],
   "source": [
    "\n",
    "\n",
    "# Set colors\n",
    "modular_color = '#3182bd'\n",
    "modular_contrastive_color = '#9ecae1'\n",
    "monolithic_color = '#de2d26'\n",
    "monolithic_contrastive_color = '#fc9272'\n",
    "\n",
    "\n",
    "# modular_color = '#340b96'\n",
    "# modular_contrastive_color = '#700ba2'\n",
    "# monolithic_color = '#f19249'\n",
    "# monolithic_contrastive_color = '#f47c4c'\n",
    "\n",
    "\n",
    "\n",
    "# Set figure size\n",
    "fig, ax = plt.subplots(figsize=(10,4))\n",
    "\n",
    "# Plot data\n",
    "bar_width = 0.2\n",
    "opacity = 0.8\n",
    "\n",
    "# fake ChatGPT data\n",
    "# modular_means = [93.5, 90.8, 93.7, 71.3, 91.8, 76.4]\n",
    "# modular_std = [1.1, 0.8, 0.5, 1.2, 0.5, 1.4]\n",
    "\n",
    "# actual data\n",
    "# modular_means = [93.5, 90.8, 93.7, 71.3, 91.8, 76.4]\n",
    "# modular_std = [1.1, 0.8, 0.5, 1.2, 0.5, 1.4]\n",
    "\n",
    "# modular_contrastive_means = [94.2, 91.6, 93.9, 74.5, 93.4, 77.5]\n",
    "# modular_contrastive_std = [0.9, 0.7, 0.6, 1.1, 0.7, 1.1]\n",
    "\n",
    "# monolithic_means = [92.6, 89.4, 92.7, 68.1, 91.0, 74.8]\n",
    "# monolithic_std = [0.7, 0.9, 0.6, 1.1, 0.8, 0.9]\n",
    "\n",
    "# monolithic_contrastive_means = [94.3, 91.7, 94.2, 74.8, 94.0, 79.3]\n",
    "# monolithic_contrastive_std = [0.8, 0.6, 0.4, 0.8, 0.5, 0.9]\n",
    "\n",
    "linewidth = 2\n",
    "\n",
    "rects1 = ax.bar(np.arange(len(modular_means))-bar_width, modular_means, bar_width,\n",
    "                yerr=modular_stderr, alpha=opacity, color=modular_color, label='Modular',\n",
    "                edgecolor='#214073',\n",
    "                 linewidth=linewidth,\n",
    "              )\n",
    "rects2 = ax.bar(np.arange(len(modular_contrastive_means)), modular_contrastive_means, bar_width,\n",
    "                yerr=modular_contrastive_stderr, alpha=opacity, color=modular_contrastive_color, label='Modular + Contrastive',\n",
    "                edgecolor='#6a9bbd',\n",
    "                 linewidth=linewidth,\n",
    "                )\n",
    "rects3 = ax.bar(np.arange(len(monolithic_means))+bar_width, monolithic_means, bar_width,\n",
    "                yerr=monolithic_stderr, alpha=opacity, color=monolithic_color, label='Monolithic',\n",
    "                edgecolor='#a6221f',\n",
    "                                linewidth=linewidth,)\n",
    "rects4 = ax.bar(np.arange(len(monolithic_contrastive_means))+bar_width*2, monolithic_contrastive_means, bar_width,\n",
    "                yerr=monolithic_contrastive_stderr, alpha=opacity, color=monolithic_contrastive_color, label='Monolithic + Contrastive',\n",
    "                 edgecolor='#d4756d',\n",
    "                 linewidth=linewidth,\n",
    "                 )\n",
    "\n",
    "\n",
    "datasets = ['MNIST', 'FashionMNIST', 'KMNIST', 'CIFAR-100']\n",
    "# datasets = ['CIFAR-100']\n",
    "# datasets = ['MNIST', 'FashionMNIST', 'KMNIST', 'CIFAR-100', 'Gridworld', 'Composuite']\n",
    "x = np.arange(len(datasets))\n",
    "ax.set_xticks(x)\n",
    "ax.set_xticklabels(datasets)\n",
    "ax.set_ylim([0.5, 1])\n",
    "ax.set_ylabel('Accuracy', fontsize=14)\n",
    "ax.set_xlabel('Dataset', fontsize=14)\n",
    "# leg = ax.legend(frameon=True)\n",
    "# leg.get_frame().set_edgecolor('b')\n",
    "\n",
    "ax.set_title('Comparison of Algorithm Performance', fontsize=16, fontweight='bold')\n",
    "\n",
    "\n",
    "# ax.legend(frameon=True, loc='lower center')\n",
    "ax.legend(frameon=True, loc='lower right', bbox_to_anchor=(1.28, 0.0));\n",
    "ax.grid(True, which='major', linestyle='--', alpha=0.5);\n",
    "plt.savefig(f\"Figures/vanilla/results.pdf\", bbox_inches=\"tight\")\n",
    "# plt.tight_layout()\n",
    "# https://arxiv.org/pdf/2303.03378.pdf, color around box, see Figure 6"
   ]
  },
  {
   "cell_type": "code",
   "execution_count": null,
   "metadata": {},
   "outputs": [],
   "source": [
    "modular_contrastive_means"
   ]
  },
  {
   "cell_type": "code",
   "execution_count": null,
   "metadata": {},
   "outputs": [],
   "source": [
    "monolithic_contrastive_means"
   ]
  },
  {
   "cell_type": "code",
   "execution_count": null,
   "metadata": {},
   "outputs": [],
   "source": []
  }
 ],
 "metadata": {
  "kernelspec": {
   "display_name": "shell",
   "language": "python",
   "name": "python3"
  },
  "language_info": {
   "codemirror_mode": {
    "name": "ipython",
    "version": 3
   },
   "file_extension": ".py",
   "mimetype": "text/x-python",
   "name": "python",
   "nbconvert_exporter": "python",
   "pygments_lexer": "ipython3",
   "version": "3.10.9"
  },
  "orig_nbformat": 4
 },
 "nbformat": 4,
 "nbformat_minor": 2
}
