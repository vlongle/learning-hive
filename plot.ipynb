{
 "cells": [
  {
   "cell_type": "code",
   "execution_count": 1,
   "metadata": {},
   "outputs": [
    {
     "name": "stderr",
     "output_type": "stream",
     "text": [
      "/tmp/ipykernel_2642292/2817862154.py:4: MatplotlibDeprecationWarning: The seaborn styles shipped by Matplotlib are deprecated since 3.6, as they no longer correspond to the styles shipped by seaborn. However, they will remain available as 'seaborn-v0_8-<style>'. Alternatively, directly use the seaborn API instead.\n",
      "  plt.style.use('seaborn-whitegrid')\n"
     ]
    }
   ],
   "source": [
    "import numpy as np\n",
    "import matplotlib.pyplot as plt\n",
    "import matplotlib\n",
    "plt.style.use('seaborn-whitegrid')\n",
    "import pandas as pd"
   ]
  },
  {
   "cell_type": "code",
   "execution_count": 2,
   "metadata": {},
   "outputs": [],
   "source": [
    "\n",
    "def postprocess_df(series, exclude_keys=None):\n",
    "    \"\"\"\n",
    "    Takes a pandas Series with a MultiIndex and folds over all keys except for those specified\n",
    "    in `exclude_keys` by concatenating the key name and its value into the 'algo' column values.\n",
    "\n",
    "    Parameters:\n",
    "    - series: pandas.Series with a MultiIndex.\n",
    "    - exclude_keys: list of strings representing keys to exclude from the folding process.\n",
    "\n",
    "    Returns:\n",
    "    - A DataFrame with 'algo' and 'dataset' columns, where 'algo' has been modified to include\n",
    "      information from other keys.\n",
    "    \"\"\"\n",
    "\n",
    "    if exclude_keys is None:\n",
    "      exclude_keys=['algo', 'dataset', 'final_acc']\n",
    "    # Convert the Series into a DataFrame\n",
    "    df = series.reset_index()\n",
    "    \n",
    "    # # Initialize a column to store the modified algo values\n",
    "    df['modified_algo'] = df['algo']\n",
    "    exclude_keys += ['modified_algo']\n",
    "    \n",
    "    # # Iterate over each level of the original MultiIndex (now columns in df)\n",
    "    for key in df.columns:\n",
    "        if key not in exclude_keys:\n",
    "            # Append the key name and its value to the 'modified_algo' entries\n",
    "            df['modified_algo'] = df['modified_algo'] + '_' + key + ':' + df[key].astype(str)\n",
    "    \n",
    "    # # Select and rename the relevant columns for the final DataFrame\n",
    "    final_df = df[['modified_algo', 'dataset', series.name]].copy()\n",
    "    final_df.rename(columns={'modified_algo': 'algo', series.name: 'value'}, inplace=True)\n",
    "    \n",
    "    return final_df\n",
    "\n",
    "def aggregate_results(df, keys=None, metric=None, post_process=True):\n",
    "   if keys is None:\n",
    "      keys = [\"algo\", \"use_contrastive\"]\n",
    "   if metric is None:\n",
    "      metric = \"final_acc\"\n",
    "   keys += [\"dataset\"]\n",
    "   m = df.groupby(keys)[\n",
    "         metric].mean()\n",
    "   stderr = df.groupby(keys)[metric].sem()\n",
    "   if post_process:\n",
    "      exclude_keys=[\"algo\", \"dataset\", metric]\n",
    "      m = postprocess_df(m, exclude_keys)\n",
    "      stderr = postprocess_df(stderr, exclude_keys)\n",
    "   return m, stderr\n",
    "\n",
    "                  \n",
    "   \n",
    "                   \n",
    "def plot_bar_res(df, color_map=None, edgecolor_map=None, bar_width=0.2, keys=None,\n",
    "      metric=None,\n",
    "      remap_name=None):\n",
    "    \"\"\"\n",
    "    Corrected plotting function that properly handles DataFrame structures.\n",
    "    \"\"\"\n",
    "    m, stderr = aggregate_results(df, keys=keys, metric=metric)\n",
    "\n",
    "    # Extract unique datasets and algorithms for plotting\n",
    "    datasets = sorted(m['dataset'].unique())[::-1]\n",
    "    algos = sorted(m['algo'].unique())[::-1]\n",
    "\n",
    "    # Set figure size and plot properties\n",
    "    fig, ax = plt.subplots(figsize=(10, 4))\n",
    "    opacity = 0.8\n",
    "    linewidth = 2\n",
    "\n",
    "\n",
    "    print(m)\n",
    "    for i, algo in enumerate(algos):\n",
    "        positions = np.arange(len(datasets)) + i * bar_width\n",
    "        # Filter rows for the current algorithm\n",
    "        algo_means = m[m['algo'] == algo].set_index('dataset')['value'].reindex(datasets).values\n",
    "        algo_stderr = stderr[stderr['algo'] == algo].set_index('dataset')['value'].reindex(datasets).values\n",
    "\n",
    "        ax.bar(positions, algo_means, bar_width, yerr=algo_stderr, alpha=opacity, label=remap_name[algo] if remap_name is not None else algo,\n",
    "               linewidth=linewidth,\n",
    "               color=color_map[algo] if color_map is not None else None, edgecolor=edgecolor_map[algo] if edgecolor_map is not None else None)\n",
    "\n",
    "    # Set x-axis labels, titles, and legend\n",
    "    ax.set_xticks(np.arange(len(datasets)) + bar_width * (len(algos) - 1) / 2)\n",
    "    ax.set_xticklabels(datasets)\n",
    "    ax.set_ylim([0.5, 1])\n",
    "    ax.set_ylabel('Accuracy', fontsize=14)\n",
    "    ax.set_xlabel('Dataset', fontsize=14)\n",
    "    ax.set_title('Comparison of Algorithm Performance', fontsize=16, fontweight='bold')\n",
    "    ax.legend(frameon=True, loc='lower right', bbox_to_anchor=(1.28, 0.0))\n",
    "    ax.grid(True, which='major', linestyle='--', alpha=0.5)\n",
    "\n",
    "    plt.tight_layout()\n",
    "    plt.savefig(\"Figures/vanilla/results.pdf\", bbox_inches=\"tight\")\n"
   ]
  },
  {
   "cell_type": "code",
   "execution_count": 3,
   "metadata": {},
   "outputs": [],
   "source": [
    "color_map = {\n",
    "   'modular_use_contrastive:False': '#3182bd',\n",
    "   'modular_use_contrastive:True': '#9ecae1',\n",
    "   'monolithic_use_contrastive:False': '#de2d26',\n",
    "   'monolithic_use_contrastive:True' : '#fc9272',\n",
    "   # green\n",
    "   'modmod_modular_use_contrastive:False':  '#238b45',\n",
    "   'modmod_modular_use_contrastive:True':  '#74c476',\n",
    "\n",
    "\n",
    "   # purple\n",
    "   'fedavg_monolithic_use_contrastive:False': '#54278f',\n",
    "   'fedavg_monolithic_use_contrastive:True' : '#9e9ac8',\n",
    "\n",
    "\n",
    "   # yellow\n",
    "   'fedavg_modular_use_contrastive:False': '#fdae6b',\n",
    "   'fedavg_modular_use_contrastive:True' : '#f46d43',\n",
    "}\n",
    "\n",
    "\n",
    "edgecolor_map = {\n",
    "   'modular_use_contrastive:False': '#214073',\n",
    "   'modular_use_contrastive:True': '#6a9bbd',\n",
    "   'monolithic_use_contrastive:False': '#a6221f',\n",
    "   'monolithic_use_contrastive:True' : '#d4756d',\n",
    "   # green\n",
    "   'modmod_modular_use_contrastive:False':  '#1f6d36',\n",
    "   'modmod_modular_use_contrastive:True':  '#5e9e5e',\n",
    "\n",
    "   # purple\n",
    "   'fedavg_monolithic_use_contrastive:False': '#3a1f5f',\n",
    "   'fedavg_monolithic_use_contrastive:True' : '#7f7ba8',\n",
    "\n",
    "   # orange\n",
    "   'fedavg_modular_use_contrastive:False': '#a6221f',\n",
    "   'fedavg_modular_use_contrastive:True' : '#d4756d',\n",
    "}\n",
    "\n",
    "remap_name = {\n",
    "   'modular_use_contrastive:False': 'Modular',\n",
    "   'modular_use_contrastive:True': 'Modular + Contrastive',\n",
    "   'monolithic_use_contrastive:False': 'Monolithic',\n",
    "   'monolithic_use_contrastive:True' : 'Monolithic + Contrastive',\n",
    "   # green\n",
    "   'modmod_modular_use_contrastive:False':  'Modmod',\n",
    "   'modmod_modular_use_contrastive:True':  'Modmod + Contrastive',\n",
    "\n",
    "   'fedavg_monolithic_use_contrastive:False': 'FedAvg Mono',\n",
    "   'fedavg_monolithic_use_contrastive:True' : 'FedAvg Mono + Contrastive',\n",
    "\n",
    "   'fedavg_modular_use_contrastive:False': 'FedAvg Modular',\n",
    "   'fedavg_modular_use_contrastive:True' : 'FedAvg Modular + Contrastive',\n",
    "}"
   ]
  },
  {
   "cell_type": "code",
   "execution_count": 4,
   "metadata": {},
   "outputs": [],
   "source": [
    "# vanilla_df = pd.read_csv('experiment_results/vanilla_fix_bug_compute_loss_encodev2.csv')\n",
    "vanilla_df = pd.read_csv('experiment_results/vanilla_jorge_setting_basis_no_sparse.csv')\n",
    "modmod_df = pd.read_csv('experiment_results/jorge_setting_lowest_task_id_wins_modmod_test_sync_base_True_opt_with_random_False_frozen_False_transfer_decoder_True_transfer_structure_True_no_sparse_basis_True.csv')\n",
    "fed_df = pd.read_csv('experiment_results/jorge_setting_fedavg.csv')"
   ]
  },
  {
   "cell_type": "code",
   "execution_count": 5,
   "metadata": {},
   "outputs": [],
   "source": [
    "# filter vanilla_df to only include `use_contrastive` = False\n",
    "vanilla_df = vanilla_df[vanilla_df['use_contrastive'] == False]\n",
    "modmod_df = modmod_df[modmod_df['use_contrastive'] == False]\n",
    "fed_df = fed_df[fed_df['use_contrastive'] == False]"
   ]
  },
  {
   "cell_type": "code",
   "execution_count": 6,
   "metadata": {},
   "outputs": [],
   "source": [
    "# # add fedavg to the algo column of fed_df\n",
    "fed_df['algo'] = 'fedavg_' + fed_df['algo']\n",
    "modmod_df['algo'] = 'modmod_' + modmod_df['algo']"
   ]
  },
  {
   "cell_type": "code",
   "execution_count": 7,
   "metadata": {},
   "outputs": [],
   "source": [
    "df = pd.concat([vanilla_df, modmod_df, fed_df])"
   ]
  },
  {
   "cell_type": "code",
   "execution_count": 8,
   "metadata": {},
   "outputs": [
    {
     "name": "stdout",
     "output_type": "stream",
     "text": [
      "                                       algo       dataset     value\n",
      "0      fedavg_modular_use_contrastive:False  fashionmnist       NaN\n",
      "1      fedavg_modular_use_contrastive:False        kmnist       NaN\n",
      "2      fedavg_modular_use_contrastive:False         mnist       NaN\n",
      "3   fedavg_monolithic_use_contrastive:False  fashionmnist       NaN\n",
      "4   fedavg_monolithic_use_contrastive:False        kmnist       NaN\n",
      "5   fedavg_monolithic_use_contrastive:False         mnist       NaN\n",
      "6      modmod_modular_use_contrastive:False      cifar100  0.668487\n",
      "7      modmod_modular_use_contrastive:False  fashionmnist  0.932812\n",
      "8      modmod_modular_use_contrastive:False        kmnist  0.818337\n",
      "9      modmod_modular_use_contrastive:False         mnist  0.940794\n",
      "10            modular_use_contrastive:False      cifar100  0.664959\n",
      "11            modular_use_contrastive:False  fashionmnist  0.928013\n",
      "12            modular_use_contrastive:False        kmnist  0.806317\n",
      "13            modular_use_contrastive:False         mnist  0.934668\n",
      "14         monolithic_use_contrastive:False      cifar100  0.604703\n",
      "15         monolithic_use_contrastive:False  fashionmnist  0.924673\n",
      "16         monolithic_use_contrastive:False        kmnist  0.782273\n",
      "17         monolithic_use_contrastive:False         mnist  0.919588\n"
     ]
    },
    {
     "ename": "StopIteration",
     "evalue": "",
     "output_type": "error",
     "traceback": [
      "\u001b[0;31m---------------------------------------------------------------------------\u001b[0m",
      "\u001b[0;31mStopIteration\u001b[0m                             Traceback (most recent call last)",
      "Cell \u001b[0;32mIn[8], line 2\u001b[0m\n\u001b[1;32m      1\u001b[0m \u001b[38;5;66;03m# plot_bar_res(vanilla_df, color_map=color_map, edgecolor_map=edgecolor_map)\u001b[39;00m\n\u001b[0;32m----> 2\u001b[0m \u001b[43mplot_bar_res\u001b[49m\u001b[43m(\u001b[49m\u001b[43mdf\u001b[49m\u001b[43m,\u001b[49m\u001b[43m \u001b[49m\u001b[43mbar_width\u001b[49m\u001b[38;5;241;43m=\u001b[39;49m\u001b[38;5;241;43m0.1\u001b[39;49m\u001b[43m,\u001b[49m\u001b[43m \u001b[49m\u001b[43mcolor_map\u001b[49m\u001b[38;5;241;43m=\u001b[39;49m\u001b[43mcolor_map\u001b[49m\u001b[43m,\u001b[49m\u001b[43m \u001b[49m\u001b[43medgecolor_map\u001b[49m\u001b[38;5;241;43m=\u001b[39;49m\u001b[43medgecolor_map\u001b[49m\u001b[43m,\u001b[49m\n\u001b[1;32m      3\u001b[0m \u001b[43mremap_name\u001b[49m\u001b[38;5;241;43m=\u001b[39;49m\u001b[43mremap_name\u001b[49m\u001b[43m,\u001b[49m\u001b[43m \u001b[49m\u001b[43mmetric\u001b[49m\u001b[38;5;241;43m=\u001b[39;49m\u001b[38;5;124;43m'\u001b[39;49m\u001b[38;5;124;43mfinal_acc\u001b[39;49m\u001b[38;5;124;43m'\u001b[39;49m\u001b[43m)\u001b[49m\n",
      "Cell \u001b[0;32mIn[2], line 79\u001b[0m, in \u001b[0;36mplot_bar_res\u001b[0;34m(df, color_map, edgecolor_map, bar_width, keys, metric, remap_name)\u001b[0m\n\u001b[1;32m     76\u001b[0m     algo_means \u001b[38;5;241m=\u001b[39m m[m[\u001b[38;5;124m'\u001b[39m\u001b[38;5;124malgo\u001b[39m\u001b[38;5;124m'\u001b[39m] \u001b[38;5;241m==\u001b[39m algo]\u001b[38;5;241m.\u001b[39mset_index(\u001b[38;5;124m'\u001b[39m\u001b[38;5;124mdataset\u001b[39m\u001b[38;5;124m'\u001b[39m)[\u001b[38;5;124m'\u001b[39m\u001b[38;5;124mvalue\u001b[39m\u001b[38;5;124m'\u001b[39m]\u001b[38;5;241m.\u001b[39mreindex(datasets)\u001b[38;5;241m.\u001b[39mvalues\n\u001b[1;32m     77\u001b[0m     algo_stderr \u001b[38;5;241m=\u001b[39m stderr[stderr[\u001b[38;5;124m'\u001b[39m\u001b[38;5;124malgo\u001b[39m\u001b[38;5;124m'\u001b[39m] \u001b[38;5;241m==\u001b[39m algo]\u001b[38;5;241m.\u001b[39mset_index(\u001b[38;5;124m'\u001b[39m\u001b[38;5;124mdataset\u001b[39m\u001b[38;5;124m'\u001b[39m)[\u001b[38;5;124m'\u001b[39m\u001b[38;5;124mvalue\u001b[39m\u001b[38;5;124m'\u001b[39m]\u001b[38;5;241m.\u001b[39mreindex(datasets)\u001b[38;5;241m.\u001b[39mvalues\n\u001b[0;32m---> 79\u001b[0m     \u001b[43max\u001b[49m\u001b[38;5;241;43m.\u001b[39;49m\u001b[43mbar\u001b[49m\u001b[43m(\u001b[49m\u001b[43mpositions\u001b[49m\u001b[43m,\u001b[49m\u001b[43m \u001b[49m\u001b[43malgo_means\u001b[49m\u001b[43m,\u001b[49m\u001b[43m \u001b[49m\u001b[43mbar_width\u001b[49m\u001b[43m,\u001b[49m\u001b[43m \u001b[49m\u001b[43myerr\u001b[49m\u001b[38;5;241;43m=\u001b[39;49m\u001b[43malgo_stderr\u001b[49m\u001b[43m,\u001b[49m\u001b[43m \u001b[49m\u001b[43malpha\u001b[49m\u001b[38;5;241;43m=\u001b[39;49m\u001b[43mopacity\u001b[49m\u001b[43m,\u001b[49m\u001b[43m \u001b[49m\u001b[43mlabel\u001b[49m\u001b[38;5;241;43m=\u001b[39;49m\u001b[43mremap_name\u001b[49m\u001b[43m[\u001b[49m\u001b[43malgo\u001b[49m\u001b[43m]\u001b[49m\u001b[43m \u001b[49m\u001b[38;5;28;43;01mif\u001b[39;49;00m\u001b[43m \u001b[49m\u001b[43mremap_name\u001b[49m\u001b[43m \u001b[49m\u001b[38;5;129;43;01mis\u001b[39;49;00m\u001b[43m \u001b[49m\u001b[38;5;129;43;01mnot\u001b[39;49;00m\u001b[43m \u001b[49m\u001b[38;5;28;43;01mNone\u001b[39;49;00m\u001b[43m \u001b[49m\u001b[38;5;28;43;01melse\u001b[39;49;00m\u001b[43m \u001b[49m\u001b[43malgo\u001b[49m\u001b[43m,\u001b[49m\n\u001b[1;32m     80\u001b[0m \u001b[43m           \u001b[49m\u001b[43mlinewidth\u001b[49m\u001b[38;5;241;43m=\u001b[39;49m\u001b[43mlinewidth\u001b[49m\u001b[43m,\u001b[49m\n\u001b[1;32m     81\u001b[0m \u001b[43m           \u001b[49m\u001b[43mcolor\u001b[49m\u001b[38;5;241;43m=\u001b[39;49m\u001b[43mcolor_map\u001b[49m\u001b[43m[\u001b[49m\u001b[43malgo\u001b[49m\u001b[43m]\u001b[49m\u001b[43m \u001b[49m\u001b[38;5;28;43;01mif\u001b[39;49;00m\u001b[43m \u001b[49m\u001b[43mcolor_map\u001b[49m\u001b[43m \u001b[49m\u001b[38;5;129;43;01mis\u001b[39;49;00m\u001b[43m \u001b[49m\u001b[38;5;129;43;01mnot\u001b[39;49;00m\u001b[43m \u001b[49m\u001b[38;5;28;43;01mNone\u001b[39;49;00m\u001b[43m \u001b[49m\u001b[38;5;28;43;01melse\u001b[39;49;00m\u001b[43m \u001b[49m\u001b[38;5;28;43;01mNone\u001b[39;49;00m\u001b[43m,\u001b[49m\u001b[43m \u001b[49m\u001b[43medgecolor\u001b[49m\u001b[38;5;241;43m=\u001b[39;49m\u001b[43medgecolor_map\u001b[49m\u001b[43m[\u001b[49m\u001b[43malgo\u001b[49m\u001b[43m]\u001b[49m\u001b[43m \u001b[49m\u001b[38;5;28;43;01mif\u001b[39;49;00m\u001b[43m \u001b[49m\u001b[43medgecolor_map\u001b[49m\u001b[43m \u001b[49m\u001b[38;5;129;43;01mis\u001b[39;49;00m\u001b[43m \u001b[49m\u001b[38;5;129;43;01mnot\u001b[39;49;00m\u001b[43m \u001b[49m\u001b[38;5;28;43;01mNone\u001b[39;49;00m\u001b[43m \u001b[49m\u001b[38;5;28;43;01melse\u001b[39;49;00m\u001b[43m \u001b[49m\u001b[38;5;28;43;01mNone\u001b[39;49;00m\u001b[43m)\u001b[49m\n\u001b[1;32m     83\u001b[0m \u001b[38;5;66;03m# Set x-axis labels, titles, and legend\u001b[39;00m\n\u001b[1;32m     84\u001b[0m ax\u001b[38;5;241m.\u001b[39mset_xticks(np\u001b[38;5;241m.\u001b[39marange(\u001b[38;5;28mlen\u001b[39m(datasets)) \u001b[38;5;241m+\u001b[39m bar_width \u001b[38;5;241m*\u001b[39m (\u001b[38;5;28mlen\u001b[39m(algos) \u001b[38;5;241m-\u001b[39m \u001b[38;5;241m1\u001b[39m) \u001b[38;5;241m/\u001b[39m \u001b[38;5;241m2\u001b[39m)\n",
      "File \u001b[0;32m~/miniconda3/envs/shell/lib/python3.10/site-packages/matplotlib/__init__.py:1442\u001b[0m, in \u001b[0;36m_preprocess_data.<locals>.inner\u001b[0;34m(ax, data, *args, **kwargs)\u001b[0m\n\u001b[1;32m   1439\u001b[0m \u001b[38;5;129m@functools\u001b[39m\u001b[38;5;241m.\u001b[39mwraps(func)\n\u001b[1;32m   1440\u001b[0m \u001b[38;5;28;01mdef\u001b[39;00m \u001b[38;5;21minner\u001b[39m(ax, \u001b[38;5;241m*\u001b[39margs, data\u001b[38;5;241m=\u001b[39m\u001b[38;5;28;01mNone\u001b[39;00m, \u001b[38;5;241m*\u001b[39m\u001b[38;5;241m*\u001b[39mkwargs):\n\u001b[1;32m   1441\u001b[0m     \u001b[38;5;28;01mif\u001b[39;00m data \u001b[38;5;129;01mis\u001b[39;00m \u001b[38;5;28;01mNone\u001b[39;00m:\n\u001b[0;32m-> 1442\u001b[0m         \u001b[38;5;28;01mreturn\u001b[39;00m \u001b[43mfunc\u001b[49m\u001b[43m(\u001b[49m\u001b[43max\u001b[49m\u001b[43m,\u001b[49m\u001b[43m \u001b[49m\u001b[38;5;241;43m*\u001b[39;49m\u001b[38;5;28;43mmap\u001b[39;49m\u001b[43m(\u001b[49m\u001b[43msanitize_sequence\u001b[49m\u001b[43m,\u001b[49m\u001b[43m \u001b[49m\u001b[43margs\u001b[49m\u001b[43m)\u001b[49m\u001b[43m,\u001b[49m\u001b[43m \u001b[49m\u001b[38;5;241;43m*\u001b[39;49m\u001b[38;5;241;43m*\u001b[39;49m\u001b[43mkwargs\u001b[49m\u001b[43m)\u001b[49m\n\u001b[1;32m   1444\u001b[0m     bound \u001b[38;5;241m=\u001b[39m new_sig\u001b[38;5;241m.\u001b[39mbind(ax, \u001b[38;5;241m*\u001b[39margs, \u001b[38;5;241m*\u001b[39m\u001b[38;5;241m*\u001b[39mkwargs)\n\u001b[1;32m   1445\u001b[0m     auto_label \u001b[38;5;241m=\u001b[39m (bound\u001b[38;5;241m.\u001b[39marguments\u001b[38;5;241m.\u001b[39mget(label_namer)\n\u001b[1;32m   1446\u001b[0m                   \u001b[38;5;129;01mor\u001b[39;00m bound\u001b[38;5;241m.\u001b[39mkwargs\u001b[38;5;241m.\u001b[39mget(label_namer))\n",
      "File \u001b[0;32m~/miniconda3/envs/shell/lib/python3.10/site-packages/matplotlib/axes/_axes.py:2510\u001b[0m, in \u001b[0;36mAxes.bar\u001b[0;34m(self, x, height, width, bottom, align, **kwargs)\u001b[0m\n\u001b[1;32m   2506\u001b[0m         ey \u001b[38;5;241m=\u001b[39m [b \u001b[38;5;241m+\u001b[39m \u001b[38;5;241m0.5\u001b[39m \u001b[38;5;241m*\u001b[39m h \u001b[38;5;28;01mfor\u001b[39;00m b, h \u001b[38;5;129;01min\u001b[39;00m \u001b[38;5;28mzip\u001b[39m(bottom, height)]\n\u001b[1;32m   2508\u001b[0m     error_kw\u001b[38;5;241m.\u001b[39msetdefault(\u001b[38;5;124m\"\u001b[39m\u001b[38;5;124mlabel\u001b[39m\u001b[38;5;124m\"\u001b[39m, \u001b[38;5;124m'\u001b[39m\u001b[38;5;124m_nolegend_\u001b[39m\u001b[38;5;124m'\u001b[39m)\n\u001b[0;32m-> 2510\u001b[0m     errorbar \u001b[38;5;241m=\u001b[39m \u001b[38;5;28;43mself\u001b[39;49m\u001b[38;5;241;43m.\u001b[39;49m\u001b[43merrorbar\u001b[49m\u001b[43m(\u001b[49m\u001b[43mex\u001b[49m\u001b[43m,\u001b[49m\u001b[43m \u001b[49m\u001b[43mey\u001b[49m\u001b[43m,\u001b[49m\n\u001b[1;32m   2511\u001b[0m \u001b[43m                             \u001b[49m\u001b[43myerr\u001b[49m\u001b[38;5;241;43m=\u001b[39;49m\u001b[43myerr\u001b[49m\u001b[43m,\u001b[49m\u001b[43m \u001b[49m\u001b[43mxerr\u001b[49m\u001b[38;5;241;43m=\u001b[39;49m\u001b[43mxerr\u001b[49m\u001b[43m,\u001b[49m\n\u001b[1;32m   2512\u001b[0m \u001b[43m                             \u001b[49m\u001b[43mfmt\u001b[49m\u001b[38;5;241;43m=\u001b[39;49m\u001b[38;5;124;43m'\u001b[39;49m\u001b[38;5;124;43mnone\u001b[39;49m\u001b[38;5;124;43m'\u001b[39;49m\u001b[43m,\u001b[49m\u001b[43m \u001b[49m\u001b[38;5;241;43m*\u001b[39;49m\u001b[38;5;241;43m*\u001b[39;49m\u001b[43merror_kw\u001b[49m\u001b[43m)\u001b[49m\n\u001b[1;32m   2513\u001b[0m \u001b[38;5;28;01melse\u001b[39;00m:\n\u001b[1;32m   2514\u001b[0m     errorbar \u001b[38;5;241m=\u001b[39m \u001b[38;5;28;01mNone\u001b[39;00m\n",
      "File \u001b[0;32m~/miniconda3/envs/shell/lib/python3.10/site-packages/matplotlib/__init__.py:1442\u001b[0m, in \u001b[0;36m_preprocess_data.<locals>.inner\u001b[0;34m(ax, data, *args, **kwargs)\u001b[0m\n\u001b[1;32m   1439\u001b[0m \u001b[38;5;129m@functools\u001b[39m\u001b[38;5;241m.\u001b[39mwraps(func)\n\u001b[1;32m   1440\u001b[0m \u001b[38;5;28;01mdef\u001b[39;00m \u001b[38;5;21minner\u001b[39m(ax, \u001b[38;5;241m*\u001b[39margs, data\u001b[38;5;241m=\u001b[39m\u001b[38;5;28;01mNone\u001b[39;00m, \u001b[38;5;241m*\u001b[39m\u001b[38;5;241m*\u001b[39mkwargs):\n\u001b[1;32m   1441\u001b[0m     \u001b[38;5;28;01mif\u001b[39;00m data \u001b[38;5;129;01mis\u001b[39;00m \u001b[38;5;28;01mNone\u001b[39;00m:\n\u001b[0;32m-> 1442\u001b[0m         \u001b[38;5;28;01mreturn\u001b[39;00m \u001b[43mfunc\u001b[49m\u001b[43m(\u001b[49m\u001b[43max\u001b[49m\u001b[43m,\u001b[49m\u001b[43m \u001b[49m\u001b[38;5;241;43m*\u001b[39;49m\u001b[38;5;28;43mmap\u001b[39;49m\u001b[43m(\u001b[49m\u001b[43msanitize_sequence\u001b[49m\u001b[43m,\u001b[49m\u001b[43m \u001b[49m\u001b[43margs\u001b[49m\u001b[43m)\u001b[49m\u001b[43m,\u001b[49m\u001b[43m \u001b[49m\u001b[38;5;241;43m*\u001b[39;49m\u001b[38;5;241;43m*\u001b[39;49m\u001b[43mkwargs\u001b[49m\u001b[43m)\u001b[49m\n\u001b[1;32m   1444\u001b[0m     bound \u001b[38;5;241m=\u001b[39m new_sig\u001b[38;5;241m.\u001b[39mbind(ax, \u001b[38;5;241m*\u001b[39margs, \u001b[38;5;241m*\u001b[39m\u001b[38;5;241m*\u001b[39mkwargs)\n\u001b[1;32m   1445\u001b[0m     auto_label \u001b[38;5;241m=\u001b[39m (bound\u001b[38;5;241m.\u001b[39marguments\u001b[38;5;241m.\u001b[39mget(label_namer)\n\u001b[1;32m   1446\u001b[0m                   \u001b[38;5;129;01mor\u001b[39;00m bound\u001b[38;5;241m.\u001b[39mkwargs\u001b[38;5;241m.\u001b[39mget(label_namer))\n",
      "File \u001b[0;32m~/miniconda3/envs/shell/lib/python3.10/site-packages/matplotlib/axes/_axes.py:3534\u001b[0m, in \u001b[0;36mAxes.errorbar\u001b[0;34m(self, x, y, yerr, xerr, fmt, ecolor, elinewidth, capsize, barsabove, lolims, uplims, xlolims, xuplims, errorevery, capthick, **kwargs)\u001b[0m\n\u001b[1;32m   3532\u001b[0m     xerr \u001b[38;5;241m=\u001b[39m _upcast_err(xerr)\n\u001b[1;32m   3533\u001b[0m \u001b[38;5;28;01mif\u001b[39;00m yerr \u001b[38;5;129;01mis\u001b[39;00m \u001b[38;5;129;01mnot\u001b[39;00m \u001b[38;5;28;01mNone\u001b[39;00m \u001b[38;5;129;01mand\u001b[39;00m \u001b[38;5;129;01mnot\u001b[39;00m \u001b[38;5;28misinstance\u001b[39m(yerr, np\u001b[38;5;241m.\u001b[39mndarray):\n\u001b[0;32m-> 3534\u001b[0m     yerr \u001b[38;5;241m=\u001b[39m \u001b[43m_upcast_err\u001b[49m\u001b[43m(\u001b[49m\u001b[43myerr\u001b[49m\u001b[43m)\u001b[49m\n\u001b[1;32m   3535\u001b[0m x, y \u001b[38;5;241m=\u001b[39m np\u001b[38;5;241m.\u001b[39matleast_1d(x, y)  \u001b[38;5;66;03m# Make sure all the args are iterable.\u001b[39;00m\n\u001b[1;32m   3536\u001b[0m \u001b[38;5;28;01mif\u001b[39;00m \u001b[38;5;28mlen\u001b[39m(x) \u001b[38;5;241m!=\u001b[39m \u001b[38;5;28mlen\u001b[39m(y):\n",
      "File \u001b[0;32m~/miniconda3/envs/shell/lib/python3.10/site-packages/matplotlib/axes/_axes.py:3516\u001b[0m, in \u001b[0;36mAxes.errorbar.<locals>._upcast_err\u001b[0;34m(err)\u001b[0m\n\u001b[1;32m   3492\u001b[0m \u001b[38;5;28;01mdef\u001b[39;00m \u001b[38;5;21m_upcast_err\u001b[39m(err):\n\u001b[1;32m   3493\u001b[0m \u001b[38;5;250m    \u001b[39m\u001b[38;5;124;03m\"\"\"\u001b[39;00m\n\u001b[1;32m   3494\u001b[0m \u001b[38;5;124;03m    Safely handle tuple of containers that carry units.\u001b[39;00m\n\u001b[1;32m   3495\u001b[0m \n\u001b[0;32m   (...)\u001b[0m\n\u001b[1;32m   3504\u001b[0m \u001b[38;5;124;03m    Otherwise, fallback to casting to an object array.\u001b[39;00m\n\u001b[1;32m   3505\u001b[0m \u001b[38;5;124;03m    \"\"\"\u001b[39;00m\n\u001b[1;32m   3507\u001b[0m     \u001b[38;5;28;01mif\u001b[39;00m (\n\u001b[1;32m   3508\u001b[0m             \u001b[38;5;66;03m# make sure it is not a scalar\u001b[39;00m\n\u001b[1;32m   3509\u001b[0m             np\u001b[38;5;241m.\u001b[39miterable(err) \u001b[38;5;129;01mand\u001b[39;00m\n\u001b[1;32m   3510\u001b[0m             \u001b[38;5;66;03m# and it is not empty\u001b[39;00m\n\u001b[1;32m   3511\u001b[0m             \u001b[38;5;28mlen\u001b[39m(err) \u001b[38;5;241m>\u001b[39m \u001b[38;5;241m0\u001b[39m \u001b[38;5;129;01mand\u001b[39;00m\n\u001b[1;32m   3512\u001b[0m             \u001b[38;5;66;03m# and the first element is an array sub-class use\u001b[39;00m\n\u001b[1;32m   3513\u001b[0m             \u001b[38;5;66;03m# safe_first_element because getitem is index-first not\u001b[39;00m\n\u001b[1;32m   3514\u001b[0m             \u001b[38;5;66;03m# location first on pandas objects so err[0] almost always\u001b[39;00m\n\u001b[1;32m   3515\u001b[0m             \u001b[38;5;66;03m# fails.\u001b[39;00m\n\u001b[0;32m-> 3516\u001b[0m             \u001b[38;5;28misinstance\u001b[39m(\u001b[43mcbook\u001b[49m\u001b[38;5;241;43m.\u001b[39;49m\u001b[43m_safe_first_finite\u001b[49m\u001b[43m(\u001b[49m\u001b[43merr\u001b[49m\u001b[43m)\u001b[49m, np\u001b[38;5;241m.\u001b[39mndarray)\n\u001b[1;32m   3517\u001b[0m     ):\n\u001b[1;32m   3518\u001b[0m         \u001b[38;5;66;03m# Get the type of the first element\u001b[39;00m\n\u001b[1;32m   3519\u001b[0m         atype \u001b[38;5;241m=\u001b[39m \u001b[38;5;28mtype\u001b[39m(cbook\u001b[38;5;241m.\u001b[39m_safe_first_finite(err))\n\u001b[1;32m   3520\u001b[0m         \u001b[38;5;66;03m# Promote the outer container to match the inner container\u001b[39;00m\n",
      "File \u001b[0;32m~/miniconda3/envs/shell/lib/python3.10/site-packages/matplotlib/cbook/__init__.py:1715\u001b[0m, in \u001b[0;36m_safe_first_finite\u001b[0;34m(obj, skip_nonfinite)\u001b[0m\n\u001b[1;32m   1712\u001b[0m     \u001b[38;5;28;01mraise\u001b[39;00m \u001b[38;5;167;01mRuntimeError\u001b[39;00m(\u001b[38;5;124m\"\u001b[39m\u001b[38;5;124mmatplotlib does not \u001b[39m\u001b[38;5;124m\"\u001b[39m\n\u001b[1;32m   1713\u001b[0m                        \u001b[38;5;124m\"\u001b[39m\u001b[38;5;124msupport generators as input\u001b[39m\u001b[38;5;124m\"\u001b[39m)\n\u001b[1;32m   1714\u001b[0m \u001b[38;5;28;01melse\u001b[39;00m:\n\u001b[0;32m-> 1715\u001b[0m     \u001b[38;5;28;01mreturn\u001b[39;00m \u001b[38;5;28;43mnext\u001b[39;49m\u001b[43m(\u001b[49m\u001b[43mval\u001b[49m\u001b[43m \u001b[49m\u001b[38;5;28;43;01mfor\u001b[39;49;00m\u001b[43m \u001b[49m\u001b[43mval\u001b[49m\u001b[43m \u001b[49m\u001b[38;5;129;43;01min\u001b[39;49;00m\u001b[43m \u001b[49m\u001b[43mobj\u001b[49m\u001b[43m \u001b[49m\u001b[38;5;28;43;01mif\u001b[39;49;00m\u001b[43m \u001b[49m\u001b[43msafe_isfinite\u001b[49m\u001b[43m(\u001b[49m\u001b[43mval\u001b[49m\u001b[43m)\u001b[49m\u001b[43m)\u001b[49m\n",
      "\u001b[0;31mStopIteration\u001b[0m: "
     ]
    },
    {
     "data": {
      "image/png": "[encoded data removed]",
      "text/plain": [
       "<Figure size 1000x400 with 1 Axes>"
      ]
     },
     "metadata": {},
     "output_type": "display_data"
    }
   ],
   "source": [
    "# plot_bar_res(vanilla_df, color_map=color_map, edgecolor_map=edgecolor_map)\n",
    "plot_bar_res(df, bar_width=0.1, color_map=color_map, edgecolor_map=edgecolor_map,\n",
    "remap_name=remap_name, metric='final_acc')"
   ]
  },
  {
   "cell_type": "code",
   "execution_count": null,
   "metadata": {},
   "outputs": [],
   "source": []
  },
  {
   "cell_type": "code",
   "execution_count": null,
   "metadata": {},
   "outputs": [],
   "source": []
  },
  {
   "cell_type": "code",
   "execution_count": null,
   "metadata": {},
   "outputs": [],
   "source": []
  }
 ],
 "metadata": {
  "kernelspec": {
   "display_name": "shell",
   "language": "python",
   "name": "python3"
  },
  "language_info": {
   "codemirror_mode": {
    "name": "ipython",
    "version": 3
   },
   "file_extension": ".py",
   "mimetype": "text/x-python",
   "name": "python",
   "nbconvert_exporter": "python",
   "pygments_lexer": "ipython3",
   "version": "3.10.9"
  },
  "orig_nbformat": 4
 },
 "nbformat": 4,
 "nbformat_minor": 2
}
