{
 "cells": [
  {
   "cell_type": "code",
   "execution_count": 9,
   "metadata": {},
   "outputs": [
    {
     "name": "stderr",
     "output_type": "stream",
     "text": [
      "/tmp/ipykernel_2147083/2817862154.py:4: MatplotlibDeprecationWarning: The seaborn styles shipped by Matplotlib are deprecated since 3.6, as they no longer correspond to the styles shipped by seaborn. However, they will remain available as 'seaborn-v0_8-<style>'. Alternatively, directly use the seaborn API instead.\n",
      "  plt.style.use('seaborn-whitegrid')\n"
     ]
    }
   ],
   "source": [
    "import numpy as np\n",
    "import matplotlib.pyplot as plt\n",
    "import matplotlib\n",
    "plt.style.use('seaborn-whitegrid')\n",
    "import pandas as pd"
   ]
  },
  {
   "cell_type": "code",
   "execution_count": 10,
   "metadata": {},
   "outputs": [],
   "source": [
    "\n",
    "def postprocess_df(series, exclude_keys=None):\n",
    "    \"\"\"\n",
    "    Takes a pandas Series with a MultiIndex and folds over all keys except for those specified\n",
    "    in `exclude_keys` by concatenating the key name and its value into the 'algo' column values.\n",
    "\n",
    "    Parameters:\n",
    "    - series: pandas.Series with a MultiIndex.\n",
    "    - exclude_keys: list of strings representing keys to exclude from the folding process.\n",
    "\n",
    "    Returns:\n",
    "    - A DataFrame with 'algo' and 'dataset' columns, where 'algo' has been modified to include\n",
    "      information from other keys.\n",
    "    \"\"\"\n",
    "\n",
    "    if exclude_keys is None:\n",
    "      exclude_keys=['algo', 'dataset', 'final_acc']\n",
    "    # Convert the Series into a DataFrame\n",
    "    df = series.reset_index()\n",
    "    \n",
    "    # # Initialize a column to store the modified algo values\n",
    "    df['modified_algo'] = df['algo']\n",
    "    exclude_keys += ['modified_algo']\n",
    "    \n",
    "    # # Iterate over each level of the original MultiIndex (now columns in df)\n",
    "    for key in df.columns:\n",
    "        if key not in exclude_keys:\n",
    "            # Append the key name and its value to the 'modified_algo' entries\n",
    "            df['modified_algo'] = df['modified_algo'] + '_' + key + ':' + df[key].astype(str)\n",
    "    \n",
    "    # # Select and rename the relevant columns for the final DataFrame\n",
    "    final_df = df[['modified_algo', 'dataset', series.name]].copy()\n",
    "    final_df.rename(columns={'modified_algo': 'algo', series.name: 'value'}, inplace=True)\n",
    "    \n",
    "    return final_df\n",
    "\n",
    "def aggregate_results(df, keys=None, metric=None, post_process=True):\n",
    "   if keys is None:\n",
    "      keys = [\"algo\", \"use_contrastive\"]\n",
    "   if metric is None:\n",
    "      metric = \"final_acc\"\n",
    "   keys += [\"dataset\"]\n",
    "   m = df.groupby(keys)[\n",
    "         metric].mean()\n",
    "   stderr = df.groupby(keys)[metric].sem()\n",
    "   if post_process:\n",
    "      m = postprocess_df(m)\n",
    "      stderr = postprocess_df(stderr)\n",
    "   return m, stderr\n",
    "\n",
    "                  \n",
    "   \n",
    "                   \n",
    "def plot_bar_res(df, color_map=None, edgecolor_map=None, bar_width=0.2, keys=None,\n",
    "      remap_name=None):\n",
    "    \"\"\"\n",
    "    Corrected plotting function that properly handles DataFrame structures.\n",
    "    \"\"\"\n",
    "    m, stderr = aggregate_results(df, keys=keys)\n",
    "\n",
    "    # Extract unique datasets and algorithms for plotting\n",
    "    datasets = m['dataset'].unique()\n",
    "    algos = m['algo'].unique()\n",
    "\n",
    "    # Set figure size and plot properties\n",
    "    fig, ax = plt.subplots(figsize=(10, 4))\n",
    "    opacity = 0.8\n",
    "    linewidth = 2\n",
    "\n",
    "\n",
    "    print(m)\n",
    "    for i, algo in enumerate(algos):\n",
    "        positions = np.arange(len(datasets)) + i * bar_width\n",
    "        # Filter rows for the current algorithm\n",
    "        algo_means = m[m['algo'] == algo].set_index('dataset')['value'].reindex(datasets).values\n",
    "        algo_stderr = stderr[stderr['algo'] == algo].set_index('dataset')['value'].reindex(datasets).values\n",
    "\n",
    "        ax.bar(positions, algo_means, bar_width, yerr=algo_stderr, alpha=opacity, label=remap_name[algo] if remap_name is not None else algo,\n",
    "               linewidth=linewidth,\n",
    "               color=color_map[algo] if color_map is not None else None, edgecolor=edgecolor_map[algo] if edgecolor_map is not None else None)\n",
    "\n",
    "    # Set x-axis labels, titles, and legend\n",
    "    ax.set_xticks(np.arange(len(datasets)) + bar_width * (len(algos) - 1) / 2)\n",
    "    ax.set_xticklabels(datasets)\n",
    "    ax.set_ylim([0.5, 1])\n",
    "    ax.set_ylabel('Accuracy', fontsize=14)\n",
    "    ax.set_xlabel('Dataset', fontsize=14)\n",
    "    ax.set_title('Comparison of Algorithm Performance', fontsize=16, fontweight='bold')\n",
    "    ax.legend(frameon=True, loc='lower right', bbox_to_anchor=(1.28, 0.0))\n",
    "    ax.grid(True, which='major', linestyle='--', alpha=0.5)\n",
    "\n",
    "    plt.tight_layout()\n",
    "    plt.savefig(\"Figures/vanilla/results.pdf\", bbox_inches=\"tight\")\n"
   ]
  },
  {
   "cell_type": "code",
   "execution_count": 11,
   "metadata": {},
   "outputs": [],
   "source": [
    "color_map = {\n",
    "   'modular_use_contrastive:False': '#3182bd',\n",
    "   'modular_use_contrastive:True': '#9ecae1',\n",
    "   'monolithic_use_contrastive:False': '#de2d26',\n",
    "   'monolithic_use_contrastive:True' : '#fc9272',\n",
    "   # green\n",
    "   'modmod_modular_use_contrastive:False':  '#238b45',\n",
    "   'modmod_modular_use_contrastive:True':  '#74c476',\n",
    "}\n",
    "\n",
    "\n",
    "edgecolor_map = {\n",
    "   'modular_use_contrastive:False': '#214073',\n",
    "   'modular_use_contrastive:True': '#6a9bbd',\n",
    "   'monolithic_use_contrastive:False': '#a6221f',\n",
    "   'monolithic_use_contrastive:True' : '#d4756d',\n",
    "   # green\n",
    "   'modmod_modular_use_contrastive:False':  '#1f6d36',\n",
    "   'modmod_modular_use_contrastive:True':  '#5e9e5e',\n",
    "}\n",
    "\n",
    "remap_name = {\n",
    "   'modular_use_contrastive:False': 'Modular',\n",
    "   'modular_use_contrastive:True': 'Modular + Contrastive',\n",
    "   'monolithic_use_contrastive:False': 'Monolithic',\n",
    "   'monolithic_use_contrastive:True' : 'Monolithic + Contrastive',\n",
    "   # green\n",
    "   'modmod_modular_use_contrastive:False':  'Modmod',\n",
    "   'modmod_modular_use_contrastive:True':  'Modmod + Contrastive',\n",
    "}"
   ]
  },
  {
   "cell_type": "code",
   "execution_count": 12,
   "metadata": {},
   "outputs": [],
   "source": [
    "vanilla_df = pd.read_csv('experiment_results/vanilla_jorge_setting_basis_no_sparse.csv')\n",
    "modmod_df = pd.read_csv('experiment_results/jorge_setting_lowest_task_id_wins_modmod_test_sync_base_True_opt_with_random_False_frozen_False_transfer_decoder_True_transfer_structure_True_no_sparse_basis_True.csv')\n",
    "# vanilla_df = pd.read_csv('experiment_results/vanilla_fix_bug_compute_loss_encodev2.csv')\n",
    "# fed_df = pd.read_csv('experiment_results/jorge_setting_fedavg.csv')"
   ]
  },
  {
   "cell_type": "code",
   "execution_count": 13,
   "metadata": {},
   "outputs": [],
   "source": [
    "# filter vanilla_df to only include `use_contrastive` = False\n",
    "vanilla_df = vanilla_df[vanilla_df['use_contrastive'] == False]\n",
    "modmod_df = modmod_df[modmod_df['use_contrastive'] == False]"
   ]
  },
  {
   "cell_type": "code",
   "execution_count": 14,
   "metadata": {},
   "outputs": [],
   "source": [
    "# # add fedavg to the algo column of fed_df\n",
    "# fed_df['algo'] = 'fedavg_' + fed_df['algo']\n",
    "# fed_df\n",
    "\n",
    "modmod_df['algo'] = 'modmod_' + modmod_df['algo']"
   ]
  },
  {
   "cell_type": "code",
   "execution_count": 15,
   "metadata": {},
   "outputs": [],
   "source": [
    "df = pd.concat([vanilla_df, modmod_df])"
   ]
  },
  {
   "cell_type": "code",
   "execution_count": 16,
   "metadata": {},
   "outputs": [
    {
     "name": "stdout",
     "output_type": "stream",
     "text": [
      "                                   algo       dataset     value\n",
      "0  modmod_modular_use_contrastive:False  fashionmnist  0.932812\n",
      "1  modmod_modular_use_contrastive:False        kmnist  0.818337\n",
      "2  modmod_modular_use_contrastive:False         mnist  0.940794\n",
      "3         modular_use_contrastive:False  fashionmnist  0.928013\n",
      "4         modular_use_contrastive:False        kmnist  0.806317\n",
      "5         modular_use_contrastive:False         mnist  0.934668\n",
      "6      monolithic_use_contrastive:False  fashionmnist  0.924673\n",
      "7      monolithic_use_contrastive:False        kmnist  0.782273\n",
      "8      monolithic_use_contrastive:False         mnist  0.919588\n"
     ]
    },
    {
     "data": {
      "image/png": "[encoded data removed]",
      "text/plain": [
       "<Figure size 1000x400 with 1 Axes>"
      ]
     },
     "metadata": {},
     "output_type": "display_data"
    }
   ],
   "source": [
    "# plot_bar_res(vanilla_df, color_map=color_map, edgecolor_map=edgecolor_map)\n",
    "plot_bar_res(df, bar_width=0.1, color_map=color_map, edgecolor_map=edgecolor_map,\n",
    "remap_name=remap_name)"
   ]
  },
  {
   "cell_type": "code",
   "execution_count": null,
   "metadata": {},
   "outputs": [],
   "source": []
  }
 ],
 "metadata": {
  "kernelspec": {
   "display_name": "shell",
   "language": "python",
   "name": "python3"
  },
  "language_info": {
   "codemirror_mode": {
    "name": "ipython",
    "version": 3
   },
   "file_extension": ".py",
   "mimetype": "text/x-python",
   "name": "python",
   "nbconvert_exporter": "python",
   "pygments_lexer": "ipython3",
   "version": "3.10.9"
  },
  "orig_nbformat": 4
 },
 "nbformat": 4,
 "nbformat_minor": 2
}
