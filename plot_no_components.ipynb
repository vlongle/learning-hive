{
 "cells": [
  {
   "cell_type": "code",
   "execution_count": 37,
   "metadata": {},
   "outputs": [
    {
     "name": "stderr",
     "output_type": "stream",
     "text": [
      "/tmp/ipykernel_2635227/1665957966.py:5: MatplotlibDeprecationWarning: The seaborn styles shipped by Matplotlib are deprecated since 3.6, as they no longer correspond to the styles shipped by seaborn. However, they will remain available as 'seaborn-v0_8-<style>'. Alternatively, directly use the seaborn API instead.\n",
      "  plt.style.use('seaborn-whitegrid')\n"
     ]
    }
   ],
   "source": [
    "import pandas as pd\n",
    "import matplotlib.pyplot as plt\n",
    "import matplotlib\n",
    "import numpy as np\n",
    "plt.style.use('seaborn-whitegrid')"
   ]
  },
  {
   "cell_type": "code",
   "execution_count": 4,
   "metadata": {},
   "outputs": [],
   "source": [
    "result_dir = \"experiment_results/vanilla_fix_bug_compute_loss_encodev2\"\n",
    "pattern = r\".*\""
   ]
  },
  {
   "cell_type": "code",
   "execution_count": 7,
   "metadata": {},
   "outputs": [
    {
     "data": {
      "text/html": [
       "<div>\n",
       "<style scoped>\n",
       "    .dataframe tbody tr th:only-of-type {\n",
       "        vertical-align: middle;\n",
       "    }\n",
       "\n",
       "    .dataframe tbody tr th {\n",
       "        vertical-align: top;\n",
       "    }\n",
       "\n",
       "    .dataframe thead th {\n",
       "        text-align: right;\n",
       "    }\n",
       "</style>\n",
       "<table border=\"1\" class=\"dataframe\">\n",
       "  <thead>\n",
       "    <tr style=\"text-align: right;\">\n",
       "      <th></th>\n",
       "      <th>dataset</th>\n",
       "      <th>algo</th>\n",
       "      <th>use_contrastive</th>\n",
       "      <th>seed</th>\n",
       "      <th>agent_id</th>\n",
       "      <th>no_components</th>\n",
       "    </tr>\n",
       "  </thead>\n",
       "  <tbody>\n",
       "    <tr>\n",
       "      <th>0</th>\n",
       "      <td>kmnist</td>\n",
       "      <td>modular</td>\n",
       "      <td>True</td>\n",
       "      <td>seed_4</td>\n",
       "      <td>agent_1</td>\n",
       "      <td>10</td>\n",
       "    </tr>\n",
       "    <tr>\n",
       "      <th>1</th>\n",
       "      <td>kmnist</td>\n",
       "      <td>modular</td>\n",
       "      <td>True</td>\n",
       "      <td>seed_4</td>\n",
       "      <td>agent_2</td>\n",
       "      <td>8</td>\n",
       "    </tr>\n",
       "    <tr>\n",
       "      <th>2</th>\n",
       "      <td>kmnist</td>\n",
       "      <td>modular</td>\n",
       "      <td>True</td>\n",
       "      <td>seed_4</td>\n",
       "      <td>agent_6</td>\n",
       "      <td>10</td>\n",
       "    </tr>\n",
       "    <tr>\n",
       "      <th>3</th>\n",
       "      <td>kmnist</td>\n",
       "      <td>modular</td>\n",
       "      <td>True</td>\n",
       "      <td>seed_4</td>\n",
       "      <td>agent_7</td>\n",
       "      <td>9</td>\n",
       "    </tr>\n",
       "    <tr>\n",
       "      <th>4</th>\n",
       "      <td>kmnist</td>\n",
       "      <td>modular</td>\n",
       "      <td>True</td>\n",
       "      <td>seed_4</td>\n",
       "      <td>agent_4</td>\n",
       "      <td>10</td>\n",
       "    </tr>\n",
       "  </tbody>\n",
       "</table>\n",
       "</div>"
      ],
      "text/plain": [
       "  dataset     algo  use_contrastive    seed agent_id  no_components\n",
       "0  kmnist  modular             True  seed_4  agent_1             10\n",
       "1  kmnist  modular             True  seed_4  agent_2              8\n",
       "2  kmnist  modular             True  seed_4  agent_6             10\n",
       "3  kmnist  modular             True  seed_4  agent_7              9\n",
       "4  kmnist  modular             True  seed_4  agent_4             10"
      ]
     },
     "execution_count": 7,
     "metadata": {},
     "output_type": "execute_result"
    }
   ],
   "source": [
    "df = pd.read_csv(f\"{result_dir}_no_components.csv\")\n",
    "df.head()"
   ]
  },
  {
   "cell_type": "code",
   "execution_count": 12,
   "metadata": {},
   "outputs": [
    {
     "data": {
      "text/html": [
       "<div>\n",
       "<style scoped>\n",
       "    .dataframe tbody tr th:only-of-type {\n",
       "        vertical-align: middle;\n",
       "    }\n",
       "\n",
       "    .dataframe tbody tr th {\n",
       "        vertical-align: top;\n",
       "    }\n",
       "\n",
       "    .dataframe thead th {\n",
       "        text-align: right;\n",
       "    }\n",
       "</style>\n",
       "<table border=\"1\" class=\"dataframe\">\n",
       "  <thead>\n",
       "    <tr style=\"text-align: right;\">\n",
       "      <th></th>\n",
       "      <th>dataset</th>\n",
       "      <th>algo</th>\n",
       "      <th>use_contrastive</th>\n",
       "      <th>no_components</th>\n",
       "    </tr>\n",
       "  </thead>\n",
       "  <tbody>\n",
       "    <tr>\n",
       "      <th>0</th>\n",
       "      <td>fashionmnist</td>\n",
       "      <td>modular</td>\n",
       "      <td>False</td>\n",
       "      <td>7.015625</td>\n",
       "    </tr>\n",
       "    <tr>\n",
       "      <th>1</th>\n",
       "      <td>fashionmnist</td>\n",
       "      <td>modular</td>\n",
       "      <td>True</td>\n",
       "      <td>7.437500</td>\n",
       "    </tr>\n",
       "    <tr>\n",
       "      <th>2</th>\n",
       "      <td>kmnist</td>\n",
       "      <td>modular</td>\n",
       "      <td>False</td>\n",
       "      <td>8.765625</td>\n",
       "    </tr>\n",
       "    <tr>\n",
       "      <th>3</th>\n",
       "      <td>kmnist</td>\n",
       "      <td>modular</td>\n",
       "      <td>True</td>\n",
       "      <td>9.171875</td>\n",
       "    </tr>\n",
       "    <tr>\n",
       "      <th>4</th>\n",
       "      <td>mnist</td>\n",
       "      <td>modular</td>\n",
       "      <td>False</td>\n",
       "      <td>8.140625</td>\n",
       "    </tr>\n",
       "    <tr>\n",
       "      <th>5</th>\n",
       "      <td>mnist</td>\n",
       "      <td>modular</td>\n",
       "      <td>True</td>\n",
       "      <td>8.500000</td>\n",
       "    </tr>\n",
       "  </tbody>\n",
       "</table>\n",
       "</div>"
      ],
      "text/plain": [
       "        dataset     algo  use_contrastive  no_components\n",
       "0  fashionmnist  modular            False       7.015625\n",
       "1  fashionmnist  modular             True       7.437500\n",
       "2        kmnist  modular            False       8.765625\n",
       "3        kmnist  modular             True       9.171875\n",
       "4         mnist  modular            False       8.140625\n",
       "5         mnist  modular             True       8.500000"
      ]
     },
     "execution_count": 12,
     "metadata": {},
     "output_type": "execute_result"
    }
   ],
   "source": [
    "res = df.groupby(\n",
    "    [\"dataset\", \"algo\", \"use_contrastive\"])[\"no_components\"].mean().reset_index()\n",
    "res"
   ]
  },
  {
   "cell_type": "code",
   "execution_count": 47,
   "metadata": {},
   "outputs": [
    {
     "data": {
      "image/png": "[encoded data removed]",
      "text/plain": [
       "<Figure size 1000x500 with 1 Axes>"
      ]
     },
     "metadata": {},
     "output_type": "display_data"
    }
   ],
   "source": [
    "# create a bar plot\n",
    "datasets = res[\"dataset\"].unique()\n",
    "# for each dataset, plot two bars: use_contrastive=True and use_contrastive=False\n",
    "grouped = res.groupby(['dataset', 'use_contrastive'])['no_components'].mean().unstack()\n",
    "\n",
    "fig, ax = plt.subplots(figsize=(10, 5))\n",
    "\n",
    "colors = ['#3182bd', '#9ecae1']\n",
    "edge_colors=['#08519c', '#4292c6']\n",
    "\n",
    "bar_width = 0.2\n",
    "opacity = 0.8\n",
    "linewidth = 2\n",
    "\n",
    "\n",
    "# Plot each group of bars\n",
    "for i, (col_name, values) in enumerate(grouped.items()):\n",
    "    x = np.arange(len(values))\n",
    "    label = 'contrastive' if col_name else 'no contrastive'\n",
    "    ax.bar(x + i * bar_width, values, bar_width, alpha=opacity, color=colors[i], linewidth=linewidth, label=label,\n",
    "                           edgecolor=edge_colors[i],)\n",
    "\n",
    "\n",
    "ax.set_xlabel('Dataset', fontsize=14)\n",
    "ax.set_ylabel('No. components', fontsize=14)\n",
    "ax.set_title('Number of learned components',fontsize=16, fontweight='bold')\n",
    "\n",
    "ax.set_xticks(x)\n",
    "ax.set_xticklabels(datasets)\n",
    "\n",
    "ax.legend(frameon=True, loc='lower right')\n",
    "plt.xticks(rotation=0);\n",
    "\n",
    "plt.savefig(f\"Figures/vanilla/no_components.pdf\", bbox_inches=\"tight\");\n"
   ]
  },
  {
   "cell_type": "code",
   "execution_count": null,
   "metadata": {},
   "outputs": [],
   "source": []
  }
 ],
 "metadata": {
  "kernelspec": {
   "display_name": "shell",
   "language": "python",
   "name": "python3"
  },
  "language_info": {
   "codemirror_mode": {
    "name": "ipython",
    "version": 3
   },
   "file_extension": ".py",
   "mimetype": "text/x-python",
   "name": "python",
   "nbconvert_exporter": "python",
   "pygments_lexer": "ipython3",
   "version": "3.10.9"
  }
 },
 "nbformat": 4,
 "nbformat_minor": 2
}
