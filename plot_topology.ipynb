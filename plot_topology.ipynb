{
 "cells": [
  {
   "cell_type": "code",
   "execution_count": 36,
   "metadata": {},
   "outputs": [
    {
     "name": "stdout",
     "output_type": "stream",
     "text": [
      "The autoreload extension is already loaded. To reload it, use:\n",
      "  %reload_ext autoreload\n"
     ]
    }
   ],
   "source": [
    "%load_ext autoreload\n",
    "%autoreload 2"
   ]
  },
  {
   "cell_type": "code",
   "execution_count": 37,
   "metadata": {},
   "outputs": [],
   "source": [
    "from analyze_budget import analyze_multiple\n",
    "import pandas as pd"
   ]
  },
  {
   "cell_type": "code",
   "execution_count": 38,
   "metadata": {},
   "outputs": [],
   "source": [
    "metric = 'auc'\n",
    "metric = 'final_acc'\n",
    "error_type = 'sem'\n",
    "\n",
    "what_to_plot = 'federated'\n",
    "# what_to_plot = 'modmod'\n",
    "# what_to_plot = 'data'\n",
    "\n",
    "\n",
    "multicolor = what_to_plot != 'modmod'\n",
    "multi_dataset=False\n",
    "# multi_dataset=True"
   ]
  },
  {
   "cell_type": "code",
   "execution_count": 39,
   "metadata": {},
   "outputs": [],
   "source": [
    "# analyze_multiple(fedavg_path)\n",
    "# analyze_multiple('new_topology_experiment_results/jorge_setting_fedavg/comm_freq_5')\n",
    "# analyze_multiple('new_topology_experiment_results/data')"
   ]
  },
  {
   "cell_type": "code",
   "execution_count": 40,
   "metadata": {},
   "outputs": [],
   "source": [
    "def cal_mean_and_error(df, keys=None, metric=None,\n",
    "                      error_type=\"sem\"):\n",
    "   if keys is None:\n",
    "      keys = [\"algo\", \"use_contrastive\"]\n",
    "   if metric is None:\n",
    "      metric = \"final_acc\"\n",
    "   keys += [\"dataset\"]\n",
    "   m = df.groupby(keys)[\n",
    "         metric].mean()\n",
    "   if error_type == \"sem\":\n",
    "      stderr = df.groupby(keys)[metric].sem()\n",
    "   else:\n",
    "      stderr = df.groupby(keys)[metric].std()\n",
    "   df = pd.DataFrame(m).reset_index()\n",
    "   df[metric + \"_error\"] = stderr.values\n",
    "   return df"
   ]
  },
  {
   "cell_type": "code",
   "execution_count": 41,
   "metadata": {},
   "outputs": [],
   "source": [
    "def normalize_by_baseline(df):\n",
    "    # Create a copy of the DataFrame to avoid modifying the original data\n",
    "    df_normalized = df.copy()\n",
    "    \n",
    "    # Identify the baseline values and errors for modular and monolithic\n",
    "    baseline = df_normalized[df_normalized['algo'].str.contains('baseline')].set_index(['dataset', 'algo'])\n",
    "    baseline_auc = baseline[metric]\n",
    "    baseline_error = baseline[metric + '_error']\n",
    "\n",
    "    # Function to apply normalization and error calculation\n",
    "    def normalize_row(row):\n",
    "        baseline_key = (row['dataset'], 'modular (baseline)' if 'modular' in row['algo'] else 'monolithic (baseline)')\n",
    "        norm_value = (row[metric] - baseline_auc[baseline_key]) / baseline_auc[baseline_key]\n",
    "        # norm_error = (row[metric] + row[metric + '_error'] - baseline_auc[baseline_key])  / baseline_auc[baseline_key]  # Assuming negligible error in baseline\n",
    "        norm_error = row[metric + '_error'] / baseline_auc[baseline_key]  # Assuming negligible error in baseline\n",
    "\n",
    "        return pd.Series([norm_value, norm_error], index=[metric, metric + '_error'])\n",
    "\n",
    "    # Apply normalization and error calculation\n",
    "    df_normalized[[metric, metric + '_error']] = df_normalized.apply(normalize_row, axis=1)\n",
    "    return df_normalized\n",
    "\n",
    "def map_datasets_to_new_groups(df):\n",
    "    \"\"\"Map original dataset names to new group names 'homo' or 'hetero'.\"\"\"\n",
    "    if multi_dataset:\n",
    "        dataset_group_map = {\n",
    "                'mnist': 'mnist', 'fashionmnist': 'fashionmnist', 'kmnist': 'kmnist',\n",
    "                # 'cifar100': 'heterogeneous', 'combined': 'heterogeneous'\n",
    "                'cifar100': 'cifar100', 'combined': 'combined'\n",
    "            }\n",
    "    else:\n",
    "        dataset_group_map = {\n",
    "                'mnist': 'avg', 'fashionmnist': 'avg', 'kmnist': 'avg',\n",
    "                'cifar100': 'avg', 'combined': 'avg'\n",
    "            }\n",
    "    df['dataset'] = df['dataset'].map(dataset_group_map)\n",
    "    return df\n",
    "\n",
    "def aggregate_by_new_groups(df):\n",
    "    \"\"\"Aggregate DataFrame by taking the mean over new dataset groups 'homo' and 'hetero'.\"\"\"\n",
    "    # Group by all columns except 'value', take mean, and reset index\n",
    "    group_cols = [col for col in df.columns if col != metric and col != (metric + '_error')]\n",
    "    group_cols = ['dataset', 'use_contrastive', 'algo', 'topology', 'edge_drop']\n",
    "    print(group_cols)\n",
    "    return df.groupby(group_cols).mean().reset_index()\n"
   ]
  },
  {
   "cell_type": "code",
   "execution_count": 42,
   "metadata": {},
   "outputs": [],
   "source": [
    "def process_topology_df(df, error_type='std'):\n",
    "    regex = r'^(?P<algo>modular|monolithic)_topology_(?P<topology>[a-zA-Z_]+)_edge_drop_(?P<edge_drop>\\d+\\.\\d+)$'\n",
    "\n",
    "\n",
    "    df = df[df['use_contrastive'] == False]\n",
    "\n",
    "    df = cal_mean_and_error(df, metric=metric, error_type=error_type)\n",
    "    df[['algo', 'topology', 'edge_drop']]= df['algo'].str.extract(regex)\n",
    "\n",
    "\n",
    "    # concat topology and edge_drop to `algo`\n",
    "\n",
    "    df['algo'] = df['algo'] + '_' + df['topology'] + '_' + df['edge_drop']\n",
    "    return df"
   ]
  },
  {
   "cell_type": "code",
   "execution_count": 43,
   "metadata": {},
   "outputs": [],
   "source": [
    "def process_vanilla_df(df, error_type='std'):\n",
    "    df = df[df['use_contrastive'] == False]\n",
    "    df = cal_mean_and_error(df, metric=metric, error_type=error_type)\n",
    "    df['algo'] = df['algo'].apply(lambda x: x + ' (baseline)')\n",
    "\n",
    "    df['edge_drop'] = 0.0\n",
    "    df['topology'] = 'fully_connected'\n",
    "    return df"
   ]
  },
  {
   "cell_type": "code",
   "execution_count": 44,
   "metadata": {},
   "outputs": [],
   "source": [
    "def process_fc_df(df, error_type='std'):\n",
    "    df = df[df['use_contrastive'] == False]\n",
    "    df = cal_mean_and_error(df, metric=metric, error_type=error_type)\n",
    "    df['edge_drop'] = \"0.0\"\n",
    "    df['topology'] = 'fully_connected'\n",
    "\n",
    "    df['algo'] = df['algo'] + '_' + df['topology'] + '_' + df['edge_drop']\n",
    "    return df"
   ]
  },
  {
   "cell_type": "code",
   "execution_count": 45,
   "metadata": {},
   "outputs": [],
   "source": [
    "def get_fed_df():\n",
    "    fedavg_path = 'new_topology_experiment_results/jorge_setting_fedavg/comm_freq_5'\n",
    "    fc_fed_path = \"experiment_results/jorge_setting_fedavg\"\n",
    "\n",
    "    fc_fed_df = pd.read_csv(fc_fed_path + '.csv')\n",
    "    fc_fed_df = process_fc_df(fc_fed_df, error_type=error_type)\n",
    "    fc_fed_df = fc_fed_df[~(fc_fed_df['dataset'].isin(['combined', 'cifar100']) & fc_fed_df['algo'].str.contains('modular_'))] \n",
    "\n",
    "    fed_df = pd.read_csv(fedavg_path + '.csv')\n",
    "    fed_df = process_topology_df(fed_df, error_type=error_type)\n",
    "    fed_df = fed_df[fed_df['topology'] != 'random']\n",
    "\n",
    "\n",
    "    fed_df = fed_df[~(fed_df['dataset'].isin(['combined', 'cifar100']) & fed_df['algo'].str.contains('modular_'))]\n",
    "\n",
    "\n",
    "    fedprox_path = 'topology_fedprox_results'\n",
    "    fedprox_df = pd.read_csv(fedprox_path+ '.csv')\n",
    "    fedprox_df = process_topology_df(fedprox_df, error_type=error_type)\n",
    "    fedprox_df = fedprox_df[fedprox_df['topology'] != 'random']\n",
    "\n",
    "    fc_fedprox_path = 'best_fl_results/fedprox_mu_0.001_comm_freq_5'\n",
    "    fc_fedprox_df = pd.read_csv(fc_fedprox_path + '.csv')\n",
    "    fc_fedprox_df = process_fc_df(fc_fedprox_df, error_type=error_type)\n",
    "    # fc_fedprox_df = fc_fedprox_df[fc_fedprox_df['algo'].str.contains('modular') & fc_fedprox_df['dataset'].isin(['combined', 'cifar100'])]\n",
    "\n",
    "\n",
    "\n",
    "    vanilla_df = pd.read_csv('experiment_results/vanilla_jorge_setting_basis_no_sparse.csv')\n",
    "    vanilla_df = process_vanilla_df(vanilla_df, error_type=error_type)\n",
    "\n",
    "\n",
    "\n",
    "    # df = pd.concat([fed_df, vanilla_df, fc_fed_df, fedprox_df, fc_fedprox_df])\n",
    "    # df = pd.concat([fed_df, vanilla_df, fc_fed_df, fedprox_df])\n",
    "    df = pd.concat([fed_df, vanilla_df, fc_fedprox_df, fedprox_df])\n",
    "    return df\n"
   ]
  },
  {
   "cell_type": "code",
   "execution_count": 46,
   "metadata": {},
   "outputs": [],
   "source": [
    "def get_data_df():\n",
    "    df = pd.read_csv('new_topology_experiment_results/data.csv')\n",
    "    df = process_topology_df(df, error_type=error_type)\n",
    "    df = df[df['topology'] != 'random']\n",
    "\n",
    "\n",
    "    fc_df = pd.read_csv('experiment_results/jorge_setting_recv.csv')\n",
    "    fc_df = process_fc_df(fc_df, error_type=error_type)\n",
    "\n",
    "\n",
    "    vanilla_df = pd.read_csv('experiment_results/vanilla_jorge_setting_basis_no_sparse.csv')\n",
    "    vanilla_df = process_vanilla_df(vanilla_df, error_type=error_type)\n",
    "\n",
    "\n",
    "    vanilla_df = vanilla_df[~((vanilla_df['algo'] == 'monolithic (baseline)') & (vanilla_df['dataset'] == 'cifar100'))]\n",
    "    df.loc[(df['algo'] == 'monolithic_random_disconnect_1.0') & (df['dataset'] == 'cifar100'), 'algo'] = 'monolithic (baseline)'\n",
    "    df = pd.concat([df, vanilla_df, fc_df])\n",
    "    return df"
   ]
  },
  {
   "cell_type": "code",
   "execution_count": 47,
   "metadata": {},
   "outputs": [],
   "source": [
    "\n",
    "def get_modmod_df():\n",
    "    modmod_path = 'new_topology_experiment_results/modmod'\n",
    "    fc_modmod_path = \"experiment_results/jorge_setting_lowest_task_id_wins_modmod_test_sync_base_True_opt_with_random_False_frozen_False_transfer_decoder_True_transfer_structure_True_no_sparse_basis_True\"\n",
    "    fc_leep = \"/home/vlongle/code/learning-hive/experiment_results/leep_jorge_setting_lowest_task_id_wins_modmod_test_sync_base_True_opt_with_random_False_frozen_False_transfer_decoder_True_transfer_structure_True_no_sparse_basis_True\"\n",
    "\n",
    "    modmod_df = pd.read_csv(modmod_path+ '.csv')\n",
    "    modmod_df = process_topology_df(modmod_df, error_type=error_type)\n",
    "    modmod_df = modmod_df[modmod_df['topology'] != 'random']\n",
    "\n",
    "    fc_df = pd.read_csv(fc_modmod_path + '.csv')\n",
    "    fc_df = process_fc_df(fc_df, error_type=error_type)\n",
    "\n",
    "    leep = pd.read_csv(fc_leep + '.csv')\n",
    "    leep = leep[leep['dataset'] == 'combined']\n",
    "    leep = process_fc_df(leep, error_type=error_type)\n",
    "\n",
    "    vanilla_df = pd.read_csv('experiment_results/vanilla_jorge_setting_basis_no_sparse.csv')\n",
    "    vanilla_df = process_vanilla_df(vanilla_df, error_type=error_type)\n",
    "    \n",
    "    df = pd.concat([modmod_df, vanilla_df, fc_df, leep])\n",
    "    # df = pd.concat([modmod_df, vanilla_df, fc_df])\n",
    "    return df"
   ]
  },
  {
   "cell_type": "code",
   "execution_count": 48,
   "metadata": {},
   "outputs": [],
   "source": [
    "if what_to_plot == 'federated':\n",
    "    df = get_fed_df()\n",
    "elif what_to_plot == 'data':\n",
    "    df = get_data_df()\n",
    "else:\n",
    "    df = get_modmod_df()"
   ]
  },
  {
   "cell_type": "code",
   "execution_count": 49,
   "metadata": {},
   "outputs": [],
   "source": [
    "df_norm = normalize_by_baseline(df)\n",
    "df_mapped = map_datasets_to_new_groups(df_norm.copy())"
   ]
  },
  {
   "cell_type": "code",
   "execution_count": 50,
   "metadata": {},
   "outputs": [],
   "source": [
    "remap_name = {\n",
    "    'modular_fully_connected_0.0': 'fully connected',\n",
    "    'modular_random_disconnect_0.25': 'p=0.25',\n",
    "    'modular_random_disconnect_0.5': 'p=0.5',\n",
    "    'modular_random_disconnect_0.7': 'p=0.7',\n",
    "    'modular_random_disconnect_0.9': 'p=0.9',\n",
    "    'modular_ring_0.0': 'ring',\n",
    "    'modular_server_0.0': 'server',\n",
    "    'modular_tree_0.0': 'tree',\n",
    "    'monolithic_fully_connected_0.0': 'fully connected',\n",
    "    'monolithic_random_disconnect_0.25': 'p=0.25',\n",
    "    'monolithic_random_disconnect_0.5': 'p=0.5',\n",
    "    'monolithic_random_disconnect_0.7': 'p=0.7',\n",
    "    'monolithic_random_disconnect_0.9': 'p=0.9',\n",
    "    'monolithic_ring_0.0': 'ring',\n",
    "    'monolithic_server_0.0': 'server',\n",
    "    'monolithic_tree_0.0': 'tree'\n",
    "}\n",
    "\n",
    "\n"
   ]
  },
  {
   "cell_type": "code",
   "execution_count": 51,
   "metadata": {},
   "outputs": [],
   "source": [
    "color_map = {\n",
    "    'modular_fully_connected_0.0': 'blue',\n",
    "    'modular_random_disconnect_0.25': 'lightblue',\n",
    "    'modular_random_disconnect_0.5': 'skyblue',\n",
    "    'modular_random_disconnect_0.7': 'deepskyblue',\n",
    "    'modular_random_disconnect_0.9': 'dodgerblue',\n",
    "    'modular_ring_0.0': 'royalblue',\n",
    "    'modular_server_0.0': 'mediumblue',\n",
    "    'modular_tree_0.0': 'navy',\n",
    "\n",
    "    'monolithic_fully_connected_0.0': 'red',\n",
    "    'monolithic_random_disconnect_0.25': 'salmon',\n",
    "    'monolithic_random_disconnect_0.5': 'lightcoral',\n",
    "    'monolithic_random_disconnect_0.7': 'indianred',\n",
    "    'monolithic_random_disconnect_0.9': 'crimson',\n",
    "    'monolithic_ring_0.0': 'firebrick',\n",
    "    'monolithic_server_0.0': 'darkred',\n",
    "    'monolithic_tree_0.0': 'maroon',\n",
    "    \n",
    "}\n",
    "\n",
    "\n",
    "edgecolor_map = {\n",
    "    'modular_fully_connected_0.0': 'darkblue',\n",
    "    'modular_random_disconnect_0.25': 'steelblue',\n",
    "    'modular_random_disconnect_0.5': 'steelblue',\n",
    "    'modular_random_disconnect_0.7': 'steelblue',\n",
    "    'modular_random_disconnect_0.9': 'steelblue',\n",
    "    'modular_ring_0.0': 'midnightblue',\n",
    "    'modular_server_0.0': 'blue',\n",
    "    'modular_tree_0.0': 'darkblue',\n",
    "    'monolithic_fully_connected_0.0': 'darkred',\n",
    "    'monolithic_random_disconnect_0.25': 'brown',\n",
    "    'monolithic_random_disconnect_0.5': 'brown',\n",
    "    'monolithic_random_disconnect_0.7': 'brown',\n",
    "    'monolithic_random_disconnect_0.9': 'brown',\n",
    "    'monolithic_ring_0.0': 'darkred',\n",
    "    'monolithic_server_0.0': 'red',\n",
    "    'monolithic_tree_0.0': 'darkred'\n",
    "}\n"
   ]
  },
  {
   "cell_type": "code",
   "execution_count": 52,
   "metadata": {},
   "outputs": [],
   "source": [
    "import matplotlib.pyplot as plt\n",
    "\n",
    "# Create a color map using the CoolWarm palette\n",
    "coolwarm = plt.get_cmap('coolwarm')\n",
    "\n",
    "color_map = {\n",
    "    'modular_fully_connected_0.0': coolwarm(0.0),  # Deepest blue\n",
    "    'modular_random_disconnect_0.25': coolwarm(0.08),\n",
    "    'modular_random_disconnect_0.5': coolwarm(0.16),\n",
    "    'modular_random_disconnect_0.7': coolwarm(0.24),\n",
    "    'modular_random_disconnect_0.9': coolwarm(0.32),\n",
    "    'modular_ring_0.0': coolwarm(0.40),\n",
    "    'modular_server_0.0': coolwarm(0.44),\n",
    "    'modular_tree_0.0': coolwarm(0.48),\n",
    "}\n",
    "\n",
    "# Monolithic configurations in reds, with a consistent descending pattern\n",
    "color_map.update({\n",
    "    'monolithic_fully_connected_0.0': coolwarm(1.0),  # Deepest red\n",
    "    'monolithic_random_disconnect_0.25': coolwarm(0.92),\n",
    "    'monolithic_random_disconnect_0.5': coolwarm(0.84),\n",
    "    'monolithic_random_disconnect_0.7': coolwarm(0.76),\n",
    "    'monolithic_random_disconnect_0.9': coolwarm(0.68),\n",
    "    'monolithic_ring_0.0': coolwarm(0.64),\n",
    "    'monolithic_server_0.0': coolwarm(0.60),\n",
    "    'monolithic_tree_0.0': coolwarm(0.56),\n",
    "})\n",
    "\n",
    "# Define darker variants for edge colors for better contrast\n",
    "edgecolor_map = {}\n",
    "for key, color in color_map.items():\n",
    "    # Extract RGB values and darken them by reducing brightness\n",
    "    r, g, b, a = color\n",
    "    factor = 0.8  # Darken by 20%\n",
    "    darker_color = (r * factor, g * factor, b * factor, a)\n",
    "    edgecolor_map[key] = darker_color\n"
   ]
  },
  {
   "cell_type": "code",
   "execution_count": 53,
   "metadata": {},
   "outputs": [],
   "source": [
    "hatch_map = {\n",
    "    'modular_fully_connected_0.0': '',    # Slashes\n",
    "    'modular_random_disconnect_0.25': '//', # Vertical lines\n",
    "    'modular_random_disconnect_0.5': '||',  # Vertical lines\n",
    "    'modular_random_disconnect_0.7': '\\\\', # Vertical lines\n",
    "    'modular_random_disconnect_0.9': '-', # Vertical lines\n",
    "    'modular_ring_0.0': 'oo',               # Circles\n",
    "    'modular_server_0.0': '++',             # Crosses\n",
    "    'modular_tree_0.0': 'O', # Backslashes\n",
    "    'monolithic_fully_connected_0.0': '', # Slashes\n",
    "    'monolithic_random_disconnect_0.25': '//', # Vertical lines\n",
    "    'monolithic_random_disconnect_0.5': '||',  # Vertical lines\n",
    "    'monolithic_random_disconnect_0.7': '\\\\', # Vertical lines\n",
    "    'monolithic_random_disconnect_0.9': '-', # Vertical lines\n",
    "    'monolithic_ring_0.0': 'oo',               # Circles\n",
    "    'monolithic_server_0.0': '++',             # Crosses\n",
    "    'monolithic_tree_0.0': 'O', # Backslashes\n",
    "}\n"
   ]
  },
  {
   "cell_type": "code",
   "execution_count": 54,
   "metadata": {},
   "outputs": [
    {
     "name": "stderr",
     "output_type": "stream",
     "text": [
      "/tmp/ipykernel_21034/1387596194.py:6: MatplotlibDeprecationWarning: The seaborn styles shipped by Matplotlib are deprecated since 3.6, as they no longer correspond to the styles shipped by seaborn. However, they will remain available as 'seaborn-v0_8-<style>'. Alternatively, directly use the seaborn API instead.\n",
      "  plt.style.use('seaborn-whitegrid')\n"
     ]
    }
   ],
   "source": [
    "import numpy as np\n",
    "import matplotlib.pyplot as plt\n",
    "from matplotlib.patches import Patch\n",
    "from matplotlib.collections import PatchCollection\n",
    "\n",
    "plt.style.use('seaborn-whitegrid')\n",
    "\n",
    "# Define an object that will be used by the legend\n",
    "class MulticolorPatch(object):\n",
    "    def __init__(self, colors):\n",
    "        self.colors = colors\n",
    "\n",
    "# Define a handler for the MulticolorPatch object\n",
    "class MulticolorPatchHandler(object):\n",
    "    def legend_artist(self, legend, orig_handle, fontsize, handlebox):\n",
    "        width, height = handlebox.width, handlebox.height\n",
    "        patches = []\n",
    "        for i, c in enumerate(orig_handle.colors):\n",
    "            patches.append(plt.Rectangle([width/len(orig_handle.colors) * i - handlebox.xdescent, \n",
    "                                          -handlebox.ydescent],\n",
    "                           width / len(orig_handle.colors),\n",
    "                           height, \n",
    "                           facecolor=c, \n",
    "                           edgecolor='none'))\n",
    "\n",
    "        patch = PatchCollection(patches, match_original=True)\n",
    "\n",
    "        handlebox.add_artist(patch)\n",
    "        return patch\n",
    "\n",
    "def plot(df, color_map, edgecolor_map, remap_name, name='', ax=None, include_legend=True, multicolor=True):\n",
    "    if ax is None:\n",
    "        figsize = (15, 5)\n",
    "        fig, ax = plt.subplots(figsize=figsize)\n",
    "\n",
    "    # Plotting each bar with a different color\n",
    "    legend_entries = {}\n",
    "    df = df[df['algo'].isin(remap_name.keys())]\n",
    "    for i, (algo, v, v_err) in enumerate(zip(df['algo'], df[metric], df[metric + '_error'])):\n",
    "        bar = ax.bar(i, v, color=color_map[algo], label=remap_name[algo],\n",
    "                    edgecolor=edgecolor_map[algo], yerr=v_err, width=0.8)\n",
    "        label = remap_name[algo]\n",
    "        if label not in legend_entries:\n",
    "            legend_entries[label] = [None, None]  # [modular color, monolithic color]\n",
    "        if 'modular' in algo:\n",
    "            legend_entries[label][0] = color_map[algo]\n",
    "        elif 'monolithic' in algo:\n",
    "            legend_entries[label][1] = color_map[algo]\n",
    "\n",
    "    metric_label = {\n",
    "        'auc': 'AUC',\n",
    "        'final_acc': 'Final accuracy'\n",
    "    }\n",
    "    metric_l = metric_label[metric]\n",
    "    ax.set_xticks([])\n",
    "    ax.set_ylabel('Relative Gain (%)', fontsize=30)\n",
    "    ax.set_xlabel('Topology', fontsize=30)\n",
    "    ax.tick_params(axis='y', labelsize=30)  # Increase the size of the labels on y-axis\n",
    "\n",
    "    if include_legend:\n",
    "        # Create custom legend entries\n",
    "        if multicolor:\n",
    "            ax.legend([MulticolorPatch(c) for c in legend_entries.values()], legend_entries.keys(),\n",
    "                      handler_map={MulticolorPatch: MulticolorPatchHandler()}, frameon=True, loc='lower right',\n",
    "                      bbox_to_anchor=(1.1, 0.0), fontsize=30)  # Increase the fontsize for legend\n",
    "        else:\n",
    "            ax.legend(frameon=True, loc='lower right', bbox_to_anchor=(1.1, 0.0), fontsize=30)  # Increase the fontsize for legend\n",
    "\n",
    "    ax.grid(True, which='major', linestyle='--', alpha=0.5,)\n",
    "\n",
    "# Example data and usage would go here, with the proper data passed to the `plot` function\n"
   ]
  },
  {
   "cell_type": "code",
   "execution_count": 55,
   "metadata": {},
   "outputs": [
    {
     "name": "stdout",
     "output_type": "stream",
     "text": [
      "['dataset', 'use_contrastive', 'algo', 'topology', 'edge_drop']\n"
     ]
    },
    {
     "data": {
      "image/png": "[encoded data removed]",
      "text/plain": [
       "<Figure size 1500x500 with 1 Axes>"
      ]
     },
     "metadata": {},
     "output_type": "display_data"
    }
   ],
   "source": [
    "plt.rcParams.update({\n",
    "    'axes.titlesize': 16,\n",
    "    'axes.labelsize': 14,\n",
    "    'xtick.labelsize': 12,\n",
    "    'ytick.labelsize': 12,\n",
    "    'legend.fontsize': 12,\n",
    "    # 'font.family': 'Arial'\n",
    "})\n",
    "\n",
    "df = aggregate_by_new_groups(df_mapped)\n",
    "df[metric] *= 100\n",
    "df[metric + '_error'] *= 100\n",
    "\n",
    "\n",
    "fig, ax = plt.subplots(1, 1, figsize=(15, 5))\n",
    "plot(df, color_map, edgecolor_map, remap_name, name='Avg', multicolor=multicolor, ax=ax, include_legend=False)\n",
    "fig.suptitle(f'{what_to_plot}', fontsize=30, fontweight='bold')\n",
    "plt.tight_layout()\n",
    "fig.savefig(f'Figures/{what_to_plot}_topology.pdf')\n"
   ]
  },
  {
   "cell_type": "code",
   "execution_count": 56,
   "metadata": {},
   "outputs": [
    {
     "data": {
      "text/plain": [
       "'Figures/federated_topology.pdf'"
      ]
     },
     "execution_count": 56,
     "metadata": {},
     "output_type": "execute_result"
    }
   ],
   "source": [
    "f'Figures/{what_to_plot}_topology.pdf'"
   ]
  },
  {
   "cell_type": "code",
   "execution_count": 57,
   "metadata": {},
   "outputs": [],
   "source": [
    "datasets = df_mapped['dataset'].unique()\n",
    "\n",
    "if len(datasets) > 1:\n",
    "\n",
    "    fig, ax = plt.subplots(1, len(datasets), figsize=(5 * len(datasets), 5), sharey=True)\n",
    "\n",
    "    for i, dataset in enumerate(datasets):\n",
    "        df_dataset = df_mapped[df_mapped['dataset'] == dataset]\n",
    "        df_dataset = aggregate_by_new_groups(df_dataset)\n",
    "        df_dataset[metric] *= 100\n",
    "        df_dataset[metric + '_error'] *= 100\n",
    "        plot(df_dataset, color_map, edgecolor_map, remap_name, name=dataset, multicolor=what_to_plot == 'federated', ax=ax[i], include_legend=False)"
   ]
  },
  {
   "cell_type": "code",
   "execution_count": 58,
   "metadata": {},
   "outputs": [
    {
     "data": {
      "text/html": [
       "<div>\n",
       "<style scoped>\n",
       "    .dataframe tbody tr th:only-of-type {\n",
       "        vertical-align: middle;\n",
       "    }\n",
       "\n",
       "    .dataframe tbody tr th {\n",
       "        vertical-align: top;\n",
       "    }\n",
       "\n",
       "    .dataframe thead th {\n",
       "        text-align: right;\n",
       "    }\n",
       "</style>\n",
       "<table border=\"1\" class=\"dataframe\">\n",
       "  <thead>\n",
       "    <tr style=\"text-align: right;\">\n",
       "      <th></th>\n",
       "      <th>algo</th>\n",
       "      <th>use_contrastive</th>\n",
       "      <th>dataset</th>\n",
       "      <th>final_acc</th>\n",
       "      <th>final_acc_error</th>\n",
       "      <th>topology</th>\n",
       "      <th>edge_drop</th>\n",
       "    </tr>\n",
       "  </thead>\n",
       "  <tbody>\n",
       "  </tbody>\n",
       "</table>\n",
       "</div>"
      ],
      "text/plain": [
       "Empty DataFrame\n",
       "Columns: [algo, use_contrastive, dataset, final_acc, final_acc_error, topology, edge_drop]\n",
       "Index: []"
      ]
     },
     "execution_count": 58,
     "metadata": {},
     "output_type": "execute_result"
    }
   ],
   "source": [
    "df_mapped[df_mapped['dataset'] == 'cifar100']"
   ]
  },
  {
   "cell_type": "code",
   "execution_count": null,
   "metadata": {},
   "outputs": [],
   "source": []
  }
 ],
 "metadata": {
  "kernelspec": {
   "display_name": "shell",
   "language": "python",
   "name": "python3"
  },
  "language_info": {
   "codemirror_mode": {
    "name": "ipython",
    "version": 3
   },
   "file_extension": ".py",
   "mimetype": "text/x-python",
   "name": "python",
   "nbconvert_exporter": "python",
   "pygments_lexer": "ipython3",
   "version": "3.10.9"
  }
 },
 "nbformat": 4,
 "nbformat_minor": 2
}
