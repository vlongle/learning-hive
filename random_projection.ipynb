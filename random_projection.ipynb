{
 "cells": [
  {
   "attachments": {},
   "cell_type": "markdown",
   "metadata": {},
   "source": [
    "Investigating whether a random projection would inhibit the ability to transfer across tasks.\n",
    "\n",
    "Testing both modular and monolithic networks.\n",
    "\n",
    "KMNIST\n",
    "Procedures:\n",
    "\n",
    "    - initialize training on 2 tasks\n",
    "    - Train on one task.\n",
    "    - Train on another identical task (but with different random projection)."
   ]
  },
  {
   "cell_type": "code",
   "execution_count": 1,
   "metadata": {},
   "outputs": [],
   "source": [
    "from shell.datasets.datasets import get_dataset\n",
    "import numpy as np\n",
    "import matplotlib.pyplot as plt\n",
    "from torchvision.utils import make_grid\n",
    "from shell.utils.utils import seed_everything, viz_embedding\n",
    "import torch\n",
    "import subprocess\n",
    "import torch.nn as nn\n",
    "import torch\n",
    "import os\n",
    "from omegaconf import DictConfig\n",
    "from shell.datasets.datasets import get_dataset\n",
    "from shell.utils.utils import seed_everything\n",
    "from pprint import pprint\n",
    "from shell.fleet.network import TopologyGenerator\n",
    "from shell.models.cnn_soft_lifelong_dynamic import CNNSoftLLDynamic\n",
    "from shell.models.cnn import CNN\n",
    "from shell.models.mlp import MLP\n",
    "from shell.models.mlp_soft_lifelong_dynamic import MLPSoftLLDynamic\n",
    "from shell.learners.er_dynamic import CompositionalDynamicER\n",
    "from shell.learners.er_nocomponents import NoComponentsER\n",
    "from shell.utils.experiment_utils import eval_net\n",
    "from shell.utils.experiment_utils import setup_experiment\n",
    "from sklearn.manifold import TSNE\n",
    "import logging\n",
    "import seaborn as sns\n",
    "from shell.fleet.data_fleet import least_confidence_scorer, entropy_scorer, margin_scorer, cross_entropy_scorer\n",
    "logging.basicConfig(level=logging.INFO)"
   ]
  },
  {
   "cell_type": "code",
   "execution_count": 2,
   "metadata": {},
   "outputs": [
    {
     "name": "stderr",
     "output_type": "stream",
     "text": [
      "INFO:root:Class sequence: [1 2 3 4 5 6 5 6]\n",
      "INFO:root:(128, 1, 28, 28)\n",
      "INFO:root:(128, 1, 28, 28)\n",
      "INFO:root:(128, 1, 28, 28)\n",
      "INFO:root:(128, 1, 28, 28)\n"
     ]
    }
   ],
   "source": [
    "data_cfg = {\n",
    "    \"dataset_name\": \"kmnist\",\n",
    "    \"num_tasks\": 4,\n",
    "    \"num_train_per_task\": 128,\n",
    "    \"num_val_per_task\": 102,\n",
    "    \"labels\": np.array([1, 2, 3, 4, 5, 6, 5, 6]),\n",
    "    'remap_labels': True,\n",
    "}\n",
    "dataset = get_dataset(**data_cfg)"
   ]
  },
  {
   "cell_type": "code",
   "execution_count": 3,
   "metadata": {},
   "outputs": [],
   "source": [
    "net_cfg = {\n",
    "    'depth': 2,\n",
    "    'layer_size': 64,\n",
    "    'num_init_tasks': -1,\n",
    "    'i_size': 28,\n",
    "    'num_classes': 2,\n",
    "    'num_tasks': 1,\n",
    "    'dropout': 0.0,\n",
    "}\n",
    "\n",
    "agent_cfg = {\n",
    "    'memory_size': 64,\n",
    "    'use_contrastive': True,\n",
    "}\n",
    "net = MLP(**net_cfg)\n",
    "agent = NoComponentsER(net, **agent_cfg)\n"
   ]
  },
  {
   "cell_type": "code",
   "execution_count": 4,
   "metadata": {},
   "outputs": [
    {
     "name": "stderr",
     "output_type": "stream",
     "text": [
      "INFO:root:epochs: 0, training task: 0\n",
      "INFO:root:\ttask: 0\tloss: 6.309\tacc: 0.500\n",
      "INFO:root:\ttask: avg\tloss: 6.309\tacc: 0.500\n",
      "INFO:root:epochs: 0, training task: 0\n",
      "INFO:root:\ttask: 0\tloss: 6.305\tacc: 0.500\n",
      "INFO:root:\ttask: avg\tloss: 6.305\tacc: 0.500\n"
     ]
    },
    {
     "ename": "IndexError",
     "evalue": "index 1 is out of range",
     "output_type": "error",
     "traceback": [
      "\u001b[0;31m---------------------------------------------------------------------------\u001b[0m",
      "\u001b[0;31mIndexError\u001b[0m                                Traceback (most recent call last)",
      "Cell \u001b[0;32mIn[4], line 32\u001b[0m\n\u001b[1;32m     19\u001b[0m testloaders \u001b[39m=\u001b[39m {task: torch\u001b[39m.\u001b[39mutils\u001b[39m.\u001b[39mdata\u001b[39m.\u001b[39mDataLoader(testset,\n\u001b[1;32m     20\u001b[0m                                              batch_size\u001b[39m=\u001b[39m\u001b[39m128\u001b[39m,\n\u001b[1;32m     21\u001b[0m                                              shuffle\u001b[39m=\u001b[39m\u001b[39mFalse\u001b[39;00m,\n\u001b[1;32m     22\u001b[0m                                              num_workers\u001b[39m=\u001b[39m\u001b[39m0\u001b[39m,\n\u001b[1;32m     23\u001b[0m                                              pin_memory\u001b[39m=\u001b[39m\u001b[39mTrue\u001b[39;00m,\n\u001b[1;32m     24\u001b[0m                                              ) \u001b[39mfor\u001b[39;00m task, testset \u001b[39min\u001b[39;00m \u001b[39menumerate\u001b[39m(dataset\u001b[39m.\u001b[39mtestset[:(task_id\u001b[39m+\u001b[39m\u001b[39m1\u001b[39m)])}\n\u001b[1;32m     26\u001b[0m trainloader \u001b[39m=\u001b[39m torch\u001b[39m.\u001b[39mutils\u001b[39m.\u001b[39mdata\u001b[39m.\u001b[39mDataLoader(dataset\u001b[39m.\u001b[39mtrainset[task_id],\n\u001b[1;32m     27\u001b[0m                                         batch_size\u001b[39m=\u001b[39m\u001b[39m64\u001b[39m,\n\u001b[1;32m     28\u001b[0m                                         shuffle\u001b[39m=\u001b[39m\u001b[39mTrue\u001b[39;00m,\n\u001b[1;32m     29\u001b[0m                                         num_workers\u001b[39m=\u001b[39m\u001b[39m0\u001b[39m,\n\u001b[1;32m     30\u001b[0m                                         pin_memory\u001b[39m=\u001b[39m\u001b[39mTrue\u001b[39;00m,\n\u001b[1;32m     31\u001b[0m                                         )\n\u001b[0;32m---> 32\u001b[0m agent\u001b[39m.\u001b[39;49mtrain(trainloader, task_id\u001b[39m=\u001b[39;49m\u001b[39m0\u001b[39;49m, num_epochs\u001b[39m=\u001b[39;49m\u001b[39m100\u001b[39;49m, testloaders\u001b[39m=\u001b[39;49mtestloaders,\n\u001b[1;32m     33\u001b[0m                 save_freq\u001b[39m=\u001b[39;49m\u001b[39m1\u001b[39;49m,\n\u001b[1;32m     34\u001b[0m                 train_mode\u001b[39m=\u001b[39;49m\u001b[39m'\u001b[39;49m\u001b[39mboth\u001b[39;49m\u001b[39m'\u001b[39;49m)\n",
      "File \u001b[0;32m~/code/learning-hive/src/shell/learners/er_nocomponents.py:31\u001b[0m, in \u001b[0;36mNoComponentsER.train\u001b[0;34m(self, trainloader, task_id, component_update_freq, num_epochs, save_freq, testloaders, valloader, eval_bool, train_mode)\u001b[0m\n\u001b[1;32m     29\u001b[0m     \u001b[39mself\u001b[39m\u001b[39m.\u001b[39mobserved_tasks\u001b[39m.\u001b[39madd(task_id)\n\u001b[1;32m     30\u001b[0m     \u001b[39mself\u001b[39m\u001b[39m.\u001b[39mT \u001b[39m+\u001b[39m\u001b[39m=\u001b[39m \u001b[39m1\u001b[39m\n\u001b[0;32m---> 31\u001b[0m \u001b[39mself\u001b[39;49m\u001b[39m.\u001b[39;49msave_data(\u001b[39m0\u001b[39;49m, task_id, testloaders,\n\u001b[1;32m     32\u001b[0m                mode\u001b[39m=\u001b[39;49mtrain_mode)  \u001b[39m# zeroshot eval\u001b[39;00m\n\u001b[1;32m     33\u001b[0m \u001b[39mif\u001b[39;00m \u001b[39mself\u001b[39m\u001b[39m.\u001b[39mT \u001b[39m<\u001b[39m\u001b[39m=\u001b[39m \u001b[39mself\u001b[39m\u001b[39m.\u001b[39mnet\u001b[39m.\u001b[39mnum_init_tasks:\n\u001b[1;32m     34\u001b[0m     \u001b[39mself\u001b[39m\u001b[39m.\u001b[39minit_train(trainloader, task_id, num_epochs,\n\u001b[1;32m     35\u001b[0m                     save_freq, testloaders)\n",
      "File \u001b[0;32m~/code/learning-hive/src/shell/learners/base_learning_classes.py:207\u001b[0m, in \u001b[0;36mLearner.save_data\u001b[0;34m(self, epoch, task_id, testloaders, final_save, mode)\u001b[0m\n\u001b[1;32m    206\u001b[0m \u001b[39mdef\u001b[39;00m \u001b[39msave_data\u001b[39m(\u001b[39mself\u001b[39m, epoch, task_id, testloaders, final_save\u001b[39m=\u001b[39m\u001b[39mFalse\u001b[39;00m, mode\u001b[39m=\u001b[39m\u001b[39mNone\u001b[39;00m):\n\u001b[0;32m--> 207\u001b[0m     \u001b[39mself\u001b[39;49m\u001b[39m.\u001b[39;49mevaluate(testloaders, mode\u001b[39m=\u001b[39;49mmode)\n\u001b[1;32m    208\u001b[0m     task_results_dir \u001b[39m=\u001b[39m os\u001b[39m.\u001b[39mpath\u001b[39m.\u001b[39mjoin(\n\u001b[1;32m    209\u001b[0m         \u001b[39mself\u001b[39m\u001b[39m.\u001b[39msave_dir, \u001b[39m'\u001b[39m\u001b[39mtask_\u001b[39m\u001b[39m{}\u001b[39;00m\u001b[39m'\u001b[39m\u001b[39m.\u001b[39mformat(task_id))\n\u001b[1;32m    210\u001b[0m     os\u001b[39m.\u001b[39mmakedirs(task_results_dir, exist_ok\u001b[39m=\u001b[39m\u001b[39mTrue\u001b[39;00m)\n",
      "File \u001b[0;32m~/code/learning-hive/src/shell/learners/base_learning_classes.py:183\u001b[0m, in \u001b[0;36mLearner.evaluate\u001b[0;34m(self, testloaders, mode)\u001b[0m\n\u001b[1;32m    181\u001b[0m X \u001b[39m=\u001b[39m X\u001b[39m.\u001b[39mto(\u001b[39mself\u001b[39m\u001b[39m.\u001b[39mnet\u001b[39m.\u001b[39mdevice, non_blocking\u001b[39m=\u001b[39m\u001b[39mTrue\u001b[39;00m)\n\u001b[1;32m    182\u001b[0m Y \u001b[39m=\u001b[39m Y\u001b[39m.\u001b[39mto(\u001b[39mself\u001b[39m\u001b[39m.\u001b[39mnet\u001b[39m.\u001b[39mdevice, non_blocking\u001b[39m=\u001b[39m\u001b[39mTrue\u001b[39;00m)\n\u001b[0;32m--> 183\u001b[0m Y_hat \u001b[39m=\u001b[39m \u001b[39mself\u001b[39;49m\u001b[39m.\u001b[39;49mnet(X, task)\n\u001b[1;32m    184\u001b[0m l \u001b[39m+\u001b[39m\u001b[39m=\u001b[39m \u001b[39mself\u001b[39m\u001b[39m.\u001b[39mcompute_loss(X, Y, task, mode\u001b[39m=\u001b[39mmode)\u001b[39m.\u001b[39mitem()\n\u001b[1;32m    185\u001b[0m a \u001b[39m+\u001b[39m\u001b[39m=\u001b[39m (Y_hat\u001b[39m.\u001b[39margmax(dim\u001b[39m=\u001b[39m\u001b[39m1\u001b[39m) \u001b[39m==\u001b[39m Y)\u001b[39m.\u001b[39msum()\u001b[39m.\u001b[39mitem()\n",
      "File \u001b[0;32m~/miniconda3/envs/shell/lib/python3.10/site-packages/torch/nn/modules/module.py:1501\u001b[0m, in \u001b[0;36mModule._call_impl\u001b[0;34m(self, *args, **kwargs)\u001b[0m\n\u001b[1;32m   1496\u001b[0m \u001b[39m# If we don't have any hooks, we want to skip the rest of the logic in\u001b[39;00m\n\u001b[1;32m   1497\u001b[0m \u001b[39m# this function, and just call forward.\u001b[39;00m\n\u001b[1;32m   1498\u001b[0m \u001b[39mif\u001b[39;00m \u001b[39mnot\u001b[39;00m (\u001b[39mself\u001b[39m\u001b[39m.\u001b[39m_backward_hooks \u001b[39mor\u001b[39;00m \u001b[39mself\u001b[39m\u001b[39m.\u001b[39m_backward_pre_hooks \u001b[39mor\u001b[39;00m \u001b[39mself\u001b[39m\u001b[39m.\u001b[39m_forward_hooks \u001b[39mor\u001b[39;00m \u001b[39mself\u001b[39m\u001b[39m.\u001b[39m_forward_pre_hooks\n\u001b[1;32m   1499\u001b[0m         \u001b[39mor\u001b[39;00m _global_backward_pre_hooks \u001b[39mor\u001b[39;00m _global_backward_hooks\n\u001b[1;32m   1500\u001b[0m         \u001b[39mor\u001b[39;00m _global_forward_hooks \u001b[39mor\u001b[39;00m _global_forward_pre_hooks):\n\u001b[0;32m-> 1501\u001b[0m     \u001b[39mreturn\u001b[39;00m forward_call(\u001b[39m*\u001b[39;49margs, \u001b[39m*\u001b[39;49m\u001b[39m*\u001b[39;49mkwargs)\n\u001b[1;32m   1502\u001b[0m \u001b[39m# Do not call functions when jit is used\u001b[39;00m\n\u001b[1;32m   1503\u001b[0m full_backward_hooks, non_full_backward_hooks \u001b[39m=\u001b[39m [], []\n",
      "File \u001b[0;32m~/code/learning-hive/src/shell/models/mlp.py:85\u001b[0m, in \u001b[0;36mMLP.forward\u001b[0;34m(self, X, task_id)\u001b[0m\n\u001b[1;32m     84\u001b[0m \u001b[39mdef\u001b[39;00m \u001b[39mforward\u001b[39m(\u001b[39mself\u001b[39m, X, task_id):\n\u001b[0;32m---> 85\u001b[0m     X \u001b[39m=\u001b[39m \u001b[39mself\u001b[39;49m\u001b[39m.\u001b[39;49mencode(X, task_id)\n\u001b[1;32m     86\u001b[0m     \u001b[39mreturn\u001b[39;00m \u001b[39mself\u001b[39m\u001b[39m.\u001b[39mdecoder[task_id](X)\n",
      "File \u001b[0;32m~/code/learning-hive/src/shell/models/mlp.py:70\u001b[0m, in \u001b[0;36mMLP.encode\u001b[0;34m(self, X, task_id)\u001b[0m\n\u001b[1;32m     68\u001b[0m \u001b[39mif\u001b[39;00m \u001b[39mlen\u001b[39m(X\u001b[39m.\u001b[39mshape) \u001b[39m>\u001b[39m \u001b[39m2\u001b[39m:\n\u001b[1;32m     69\u001b[0m     X \u001b[39m=\u001b[39m X\u001b[39m.\u001b[39mview(X\u001b[39m.\u001b[39mshape[\u001b[39m0\u001b[39m], \u001b[39m-\u001b[39m\u001b[39m1\u001b[39m)\n\u001b[0;32m---> 70\u001b[0m X \u001b[39m=\u001b[39m \u001b[39mself\u001b[39;49m\u001b[39m.\u001b[39;49mencoder[task_id](X)\n\u001b[1;32m     71\u001b[0m \u001b[39m# NOTE: always use the first encoder!\u001b[39;00m\n\u001b[1;32m     72\u001b[0m \u001b[39m# X = self.encoder[0](X)\u001b[39;00m\n\u001b[1;32m     73\u001b[0m \u001b[39mfor\u001b[39;00m fc \u001b[39min\u001b[39;00m \u001b[39mself\u001b[39m\u001b[39m.\u001b[39mcomponents:\n",
      "File \u001b[0;32m~/miniconda3/envs/shell/lib/python3.10/site-packages/torch/nn/modules/container.py:295\u001b[0m, in \u001b[0;36mModuleList.__getitem__\u001b[0;34m(self, idx)\u001b[0m\n\u001b[1;32m    293\u001b[0m     \u001b[39mreturn\u001b[39;00m \u001b[39mself\u001b[39m\u001b[39m.\u001b[39m\u001b[39m__class__\u001b[39m(\u001b[39mlist\u001b[39m(\u001b[39mself\u001b[39m\u001b[39m.\u001b[39m_modules\u001b[39m.\u001b[39mvalues())[idx])\n\u001b[1;32m    294\u001b[0m \u001b[39melse\u001b[39;00m:\n\u001b[0;32m--> 295\u001b[0m     \u001b[39mreturn\u001b[39;00m \u001b[39mself\u001b[39m\u001b[39m.\u001b[39m_modules[\u001b[39mself\u001b[39;49m\u001b[39m.\u001b[39;49m_get_abs_string_index(idx)]\n",
      "File \u001b[0;32m~/miniconda3/envs/shell/lib/python3.10/site-packages/torch/nn/modules/container.py:285\u001b[0m, in \u001b[0;36mModuleList._get_abs_string_index\u001b[0;34m(self, idx)\u001b[0m\n\u001b[1;32m    283\u001b[0m idx \u001b[39m=\u001b[39m operator\u001b[39m.\u001b[39mindex(idx)\n\u001b[1;32m    284\u001b[0m \u001b[39mif\u001b[39;00m \u001b[39mnot\u001b[39;00m (\u001b[39m-\u001b[39m\u001b[39mlen\u001b[39m(\u001b[39mself\u001b[39m) \u001b[39m<\u001b[39m\u001b[39m=\u001b[39m idx \u001b[39m<\u001b[39m \u001b[39mlen\u001b[39m(\u001b[39mself\u001b[39m)):\n\u001b[0;32m--> 285\u001b[0m     \u001b[39mraise\u001b[39;00m \u001b[39mIndexError\u001b[39;00m(\u001b[39m'\u001b[39m\u001b[39mindex \u001b[39m\u001b[39m{}\u001b[39;00m\u001b[39m is out of range\u001b[39m\u001b[39m'\u001b[39m\u001b[39m.\u001b[39mformat(idx))\n\u001b[1;32m    286\u001b[0m \u001b[39mif\u001b[39;00m idx \u001b[39m<\u001b[39m \u001b[39m0\u001b[39m:\n\u001b[1;32m    287\u001b[0m     idx \u001b[39m+\u001b[39m\u001b[39m=\u001b[39m \u001b[39mlen\u001b[39m(\u001b[39mself\u001b[39m)\n",
      "\u001b[0;31mIndexError\u001b[0m: index 1 is out of range"
     ]
    }
   ],
   "source": [
    "for task_id in range(2):\n",
    "    testloaders = {task: torch.utils.data.DataLoader(testset,\n",
    "                                                 batch_size=128,\n",
    "                                                 shuffle=False,\n",
    "                                                 num_workers=0,\n",
    "                                                 pin_memory=True,\n",
    "                                                 ) for task, testset in enumerate(dataset.testset[:(task_id+1)])}\n",
    "\n",
    "    trainloader = torch.utils.data.DataLoader(dataset.trainset[task_id],\n",
    "                                            batch_size=64,\n",
    "                                            shuffle=True,\n",
    "                                            num_workers=0,\n",
    "                                            pin_memory=True,\n",
    "                                            )\n",
    "    agent.train(trainloader, task_id=0, num_epochs=100, testloaders=testloaders,\n",
    "                    save_freq=1,\n",
    "                    train_mode='both')"
   ]
  },
  {
   "cell_type": "code",
   "execution_count": null,
   "metadata": {},
   "outputs": [],
   "source": []
  }
 ],
 "metadata": {
  "kernelspec": {
   "display_name": "shell",
   "language": "python",
   "name": "python3"
  },
  "language_info": {
   "codemirror_mode": {
    "name": "ipython",
    "version": 3
   },
   "file_extension": ".py",
   "mimetype": "text/x-python",
   "name": "python",
   "nbconvert_exporter": "python",
   "pygments_lexer": "ipython3",
   "version": "3.10.9"
  },
  "orig_nbformat": 4
 },
 "nbformat": 4,
 "nbformat_minor": 2
}
