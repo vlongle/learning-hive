{
 "cells": [
  {
   "cell_type": "code",
   "execution_count": 1,
   "metadata": {},
   "outputs": [],
   "source": [
    "import omegaconf\n",
    "from shell.utils.experiment_utils import *\n",
    "from shell.utils.metric import *\n",
    "import matplotlib.pyplot as plt\n",
    "from shell.fleet.network import TopologyGenerator\n",
    "import matplotlib.pyplot as plt\n",
    "from sklearn.manifold import TSNE\n",
    "import numpy as np\n",
    "import pandas as pd\n",
    "from shell.fleet.fleet import Agent, Fleet\n",
    "from shell.fleet.data.data_utilize import *\n",
    "from shell.fleet.data.recv import *\n",
    "\n",
    "from sklearn.manifold import TSNE\n",
    "from torchvision.utils import make_grid\n",
    "from shell.fleet.data.data_utilize import *\n",
    "import logging\n",
    "from sklearn.metrics import f1_score\n",
    "\n",
    "logging.basicConfig(level=logging.INFO)"
   ]
  },
  {
   "cell_type": "code",
   "execution_count": 2,
   "metadata": {},
   "outputs": [],
   "source": [
    "# use_contrastive = False\n",
    "use_contrastive = True\n",
    "# num_tasks = 4\n",
    "# num_init_tasks = 4\n",
    "\n",
    "num_tasks = 1\n",
    "num_init_tasks = 1\n",
    "\n",
    "num_epochs = 100\n",
    "comm_freq = num_epochs + 1\n",
    "\n",
    "# load_from_checkpoint = False\n",
    "load_from_checkpoint = True\n",
    "\n",
    "prefilter_strategy = \"None\"\n",
    "scorer = \"cross_entropy\"\n",
    "learner_type = \"er_nocomponent\"\n",
    "normalize=False\n",
    "use_projector=False\n",
    "\n",
    "# with_replacement = True\n",
    "with_replacement = False\n",
    "\n",
    "\n",
    "num_classes_per_task = 5\n",
    "\n",
    "\n",
    "depth = 4"
   ]
  },
  {
   "cell_type": "code",
   "execution_count": 3,
   "metadata": {},
   "outputs": [],
   "source": [
    "def load_models(fleet):\n",
    "    if load_from_checkpoint:\n",
    "        print(\"LOADING MODEL FROM CHECKPOINT\")\n",
    "        for agent in fleet.agents:\n",
    "            agent.load_model_from_ckpoint(task_id=num_tasks-1)\n",
    "    else:\n",
    "        for t in range(num_tasks):\n",
    "            fleet.train_and_comm(t)\n",
    "\n",
    "def update_relay_buffers(fleet):\n",
    "    for node in fleet.agents:\n",
    "        for task in range(num_tasks):\n",
    "            trainloader = torch.utils.data.DataLoader(node.dataset.trainset[task],\n",
    "                                                        batch_size=128,\n",
    "                                                        shuffle=True,\n",
    "                                                        num_workers=0,\n",
    "                                                        pin_memory=True,\n",
    "                                                        )\n",
    "            node.agent.update_multitask_cost(trainloader, task)\n",
    "            node.agent.T += 1 \n",
    "\n",
    "def test_fleet(fleet):\n",
    "    for agent_id, agent in enumerate(fleet.agents):\n",
    "        testloaders = {task: torch.utils.data.DataLoader(testset,\n",
    "                                                            batch_size=128,\n",
    "                                                            shuffle=False,\n",
    "                                                            num_workers=0,\n",
    "                                                            pin_memory=True,\n",
    "                                                            ) for task, testset in enumerate(agent.dataset.testset[:num_init_tasks])}\n",
    "        valsets = agent.dataset.valset[:num_init_tasks]\n",
    "        valloaders = {task: torch.utils.data.DataLoader(valset,\n",
    "                                                                batch_size=128,\n",
    "                                                                shuffle=False,\n",
    "                                                                num_workers=0,\n",
    "                                                                pin_memory=True,\n",
    "                                                                ) for task, valset in enumerate(valsets)}\n",
    "\n",
    "        print(f'testing agent {agent_id}')\n",
    "        print(eval_net(agent.net, testloaders))\n",
    "        print(eval_net(agent.net, valloaders))\n",
    "        print()"
   ]
  },
  {
   "cell_type": "code",
   "execution_count": 13,
   "metadata": {},
   "outputs": [
    {
     "name": "stderr",
     "output_type": "stream",
     "text": [
      "INFO:root:Class sequence: [5 0 3 4 2 6 7 1 8 9]\n",
      "INFO:root:task 0 :(128, 1, 28, 28)\n",
      "INFO:root:Class sequence: [9 5 7 8 4 3 6 1 0 2]\n",
      "INFO:root:task 0 :(128, 1, 28, 28)\n",
      "INFO:root:Class sequence: [9 1 6 5 2 0 4 8 3 7]\n",
      "INFO:root:task 0 :(128, 1, 28, 28)\n"
     ]
    }
   ],
   "source": [
    "seed_everything(0)\n",
    "\n",
    "data_cfg = {\n",
    "    \"dataset_name\": \"mnist\",\n",
    "    \"num_tasks\": num_tasks,\n",
    "    \"num_train_per_task\": 128,\n",
    "    \"num_val_per_task\": 102,\n",
    "    'remap_labels': True,\n",
    "    'use_contrastive': use_contrastive,\n",
    "    'with_replacement': with_replacement,\n",
    "    'num_classes_per_task': num_classes_per_task,\n",
    "}\n",
    "dataset = get_dataset(**data_cfg)\n",
    "\n",
    "seed_everything(7)\n",
    "sender_dataset1 = get_dataset(**data_cfg)\n",
    "\n",
    "seed_everything(9)\n",
    "sender_dataset2 = get_dataset(**data_cfg)\n",
    "\n",
    "net_cfg = {\n",
    "    'depth': depth,\n",
    "    'layer_size': 64,\n",
    "    'num_init_tasks': num_init_tasks,\n",
    "    'i_size': 28,\n",
    "    'num_classes': num_classes_per_task,\n",
    "    'num_tasks': num_tasks,\n",
    "    'dropout': 0.0,\n",
    "    'normalize': normalize,\n",
    "    'use_contrastive': use_contrastive,\n",
    "    'use_projector': use_projector,\n",
    "}\n",
    "path = f'recv_ood_engineering/{learner_type}/use_contrastive_{use_contrastive}_dataset_replacement_{with_replacement}_num_classes_per_task_{num_classes_per_task}'\n",
    "\n",
    "agent_cfg = {\n",
    "    # 'memory_size': 64,\n",
    "    'memory_size': 128,\n",
    "    'use_contrastive': use_contrastive,\n",
    "    'save_dir':path,\n",
    "}\n",
    "\n",
    "\n",
    "\n",
    "net_cls_dict = {\n",
    "    \"er_dynamic\": MLPSoftLLDynamic,\n",
    "    \"er_nocomponent\": MLP,\n",
    "}\n",
    "\n",
    "learner_cls_dict = {\n",
    "    \"er_dynamic\": CompositionalDynamicER,\n",
    "    \"er_nocomponent\": NoComponentsER,\n",
    "}\n",
    "\n",
    "NetCls = net_cls_dict[learner_type]\n",
    "LearnerCls = learner_cls_dict[learner_type]\n",
    "\n",
    "AgentCls = RecvDataAgent\n",
    "sharing_cfg = DictConfig({\n",
    "    \"scorer\": scorer,\n",
    "    \"num_queries\": 5,\n",
    "    'num_data_neighbors': 5,\n",
    "    # 'num_filter_neighbors': 2,\n",
    "    'num_filter_neighbors': 5,\n",
    "    'num_coms_per_round': 2,\n",
    "    \"query_score_threshold\": 0.0,\n",
    "    \"shared_memory_size\": 50,\n",
    "    \"comm_freq\": comm_freq,\n",
    "    \"prefilter_strategy\": prefilter_strategy,\n",
    "})\n",
    "train_cfg = {\n",
    "    \"num_epochs\": num_epochs,\n",
    "}"
   ]
  },
  {
   "cell_type": "code",
   "execution_count": 14,
   "metadata": {},
   "outputs": [
    {
     "name": "stderr",
     "output_type": "stream",
     "text": [
      "INFO:root:Agent: node_id: 0, seed: 0\n",
      "INFO:root:Agent: node_id: 1, seed: 1000\n",
      "INFO:root:Agent: node_id: 2, seed: 2000\n",
      "INFO:root:Created fleet with 3 agents\n",
      "INFO:root:Adding neighbors...\n",
      "INFO:root:Fleet initialized\n"
     ]
    }
   ],
   "source": [
    "g = TopologyGenerator(num_nodes=3).generate_fully_connected()\n",
    "fleet = Fleet(g, 0, [dataset, sender_dataset1, sender_dataset2], \n",
    "              sharing_cfg, AgentCls, NetCls, LearnerCls, net_cfg, agent_cfg, \n",
    "              train_cfg)"
   ]
  },
  {
   "cell_type": "code",
   "execution_count": 15,
   "metadata": {},
   "outputs": [
    {
     "name": "stdout",
     "output_type": "stream",
     "text": [
      "LOADING MODEL FROM CHECKPOINT\n"
     ]
    }
   ],
   "source": [
    "load_models(fleet)\n",
    "update_relay_buffers(fleet)"
   ]
  },
  {
   "cell_type": "code",
   "execution_count": 16,
   "metadata": {},
   "outputs": [
    {
     "name": "stdout",
     "output_type": "stream",
     "text": [
      "testing agent 0\n"
     ]
    },
    {
     "name": "stdout",
     "output_type": "stream",
     "text": [
      "{0: 0.7201797385620915, 'avg': 0.7201797385620915}\n",
      "{0: 0.6764705882352942, 'avg': 0.6764705882352942}\n",
      "\n",
      "testing agent 1\n",
      "{0: 0.6769703172978505, 'avg': 0.6769703172978505}\n",
      "{0: 0.6862745098039216, 'avg': 0.6862745098039216}\n",
      "\n",
      "testing agent 2\n",
      "{0: 0.6038599283724632, 'avg': 0.6038599283724632}\n",
      "{0: 0.6274509803921569, 'avg': 0.6274509803921569}\n",
      "\n"
     ]
    }
   ],
   "source": [
    "test_fleet(fleet)"
   ]
  },
  {
   "cell_type": "code",
   "execution_count": 17,
   "metadata": {},
   "outputs": [
    {
     "data": {
      "text/plain": [
       "{0: <shell.utils.replay_buffers.ReplayBufferReservoir at 0x7ff7d0d0ab90>}"
      ]
     },
     "execution_count": 17,
     "metadata": {},
     "output_type": "execute_result"
    }
   ],
   "source": [
    "fleet.agents[0].agent.replay_buffers"
   ]
  },
  {
   "cell_type": "code",
   "execution_count": 18,
   "metadata": {},
   "outputs": [
    {
     "data": {
      "text/plain": [
       "128"
      ]
     },
     "execution_count": 18,
     "metadata": {},
     "output_type": "execute_result"
    }
   ],
   "source": [
    "len(fleet.agents[0].agent.replay_buffers[0])"
   ]
  },
  {
   "cell_type": "code",
   "execution_count": 19,
   "metadata": {},
   "outputs": [
    {
     "data": {
      "text/plain": [
       "((128, 64), (128,))"
      ]
     },
     "execution_count": 19,
     "metadata": {},
     "output_type": "execute_result"
    }
   ],
   "source": [
    "X_embeds = []\n",
    "global_ys = []\n",
    "agent_id = 0\n",
    "agent = fleet.agents[agent_id]\n",
    "with torch.inference_mode():\n",
    "    for task in range(num_tasks):\n",
    "        net = agent.net\n",
    "        X, y, *_ = agent.agent.replay_buffers[task].tensors\n",
    "        X_embed = net.contrastive_embedding(X.to(net.device), task_id=-1)\n",
    "        X_embeds.append(X_embed.detach().cpu().numpy())\n",
    "        global_y = get_global_labels(y, [task] * len(y), agent.dataset.class_sequence, agent.dataset.num_classes)\n",
    "        global_ys.append(global_y)\n",
    "\n",
    "\n",
    "X_embeds = np.concatenate(X_embeds, axis=0)\n",
    "global_ys = np.concatenate(global_ys, axis=0)\n",
    "X_embeds.shape, global_ys.shape"
   ]
  },
  {
   "cell_type": "code",
   "execution_count": 23,
   "metadata": {},
   "outputs": [
    {
     "data": {
      "text/plain": [
       "tensor([0, 1, 2, 3, 4])"
      ]
     },
     "execution_count": 23,
     "metadata": {},
     "output_type": "execute_result"
    }
   ],
   "source": [
    "torch.unique(y)"
   ]
  },
  {
   "cell_type": "code",
   "execution_count": 20,
   "metadata": {},
   "outputs": [
    {
     "data": {
      "text/plain": [
       "array([0, 4, 2, 0, 5, 3, 2, 4, 5, 0, 0, 4, 2, 5, 5, 5, 0, 0, 4, 0, 3, 4,\n",
       "       5, 3, 0, 2, 0, 2, 5, 2, 3, 0, 0, 3, 4, 4, 4, 4, 4, 3, 4, 2, 2, 3,\n",
       "       3, 2, 2, 0, 4, 3, 3, 3, 3, 0, 4, 4, 3, 0, 3, 4, 0, 3, 3, 4, 3, 4,\n",
       "       0, 3, 5, 5, 5, 2, 3, 2, 4, 5, 2, 0, 5, 0, 3, 5, 4, 0, 3, 2, 5, 3,\n",
       "       4, 0, 5, 2, 4, 2, 0, 5, 0, 4, 4, 4, 3, 5, 3, 3, 2, 3, 4, 4, 3, 2,\n",
       "       2, 0, 3, 0, 4, 0, 5, 4, 0, 4, 0, 5, 2, 4, 0, 5, 3, 4])"
      ]
     },
     "execution_count": 20,
     "metadata": {},
     "output_type": "execute_result"
    }
   ],
   "source": [
    "global_ys"
   ]
  },
  {
   "cell_type": "markdown",
   "metadata": {},
   "source": [
    "Somehow, for the contrastive, ER_nocomponents, even with duplicate classes across task, each class only forms one cluster, and the clustering works correctly. We prolly won't have issue with OOD. But even that, I think this is pretty random, and doesn't always work for all agents.\n",
    "\n",
    "For without-replacement, the clustering isn't as far apart as with-replacement. Maybe, it's just the matter of training it longer for the cluster to separate even further.\n",
    "\n",
    "**Most straight-forward solution**\n",
    "\n",
    "introduce an auxillary task to contrast all tasks given the local global labels.\n"
   ]
  },
  {
   "cell_type": "code",
   "execution_count": 21,
   "metadata": {},
   "outputs": [
    {
     "data": {
      "image/png": "[encoded data removed]",
      "text/plain": [
       "<Figure size 640x480 with 1 Axes>"
      ]
     },
     "metadata": {},
     "output_type": "display_data"
    }
   ],
   "source": [
    "# plot X_embeds with TSNE and color by global_ys\n",
    "X_embeds_embedded = TSNE(n_components=2, random_state=42).fit_transform(X_embeds)\n",
    "\n",
    "fig, ax = plt.subplots()\n",
    "\n",
    "for cls in np.unique(global_ys):\n",
    "    X_embed_cls = X_embeds_embedded[global_ys == cls]\n",
    "    color = \"C\" + str(cls)\n",
    "    ax.scatter(X_embed_cls[:, 0], X_embed_cls[:, 1], c=color,\n",
    "            label=cls)\n",
    "            \n",
    "ax.legend()\n",
    "plt.title(path);"
   ]
  }
 ],
 "metadata": {
  "kernelspec": {
   "display_name": "shell",
   "language": "python",
   "name": "python3"
  },
  "language_info": {
   "codemirror_mode": {
    "name": "ipython",
    "version": 3
   },
   "file_extension": ".py",
   "mimetype": "text/x-python",
   "name": "python",
   "nbconvert_exporter": "python",
   "pygments_lexer": "ipython3",
   "version": "3.10.9"
  }
 },
 "nbformat": 4,
 "nbformat_minor": 2
}
