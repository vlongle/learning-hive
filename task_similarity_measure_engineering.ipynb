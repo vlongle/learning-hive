{
 "cells": [
  {
   "cell_type": "code",
   "execution_count": 2,
   "metadata": {},
   "outputs": [
    {
     "name": "stdout",
     "output_type": "stream",
     "text": [
      "The autoreload extension is already loaded. To reload it, use:\n",
      "  %reload_ext autoreload\n"
     ]
    }
   ],
   "source": [
    "%load_ext autoreload\n",
    "%autoreload 2"
   ]
  },
  {
   "cell_type": "code",
   "execution_count": 3,
   "metadata": {},
   "outputs": [],
   "source": [
    "import omegaconf\n",
    "from shell.utils.experiment_utils import *\n",
    "from shell.fleet.utils.fleet_utils import *\n",
    "from shell.utils.metric import *\n",
    "import matplotlib.pyplot as plt\n",
    "from shell.fleet.network import TopologyGenerator\n",
    "from sklearn.manifold import TSNE\n",
    "import numpy as np\n",
    "import pandas as pd\n",
    "from shell.fleet.fleet import Agent, Fleet\n",
    "from shell.fleet.data.data_utilize import *\n",
    "from shell.fleet.data.recv import *\n",
    "\n",
    "from sklearn.manifold import TSNE\n",
    "from torchvision.utils import make_grid\n",
    "from shell.fleet.data.data_utilize import *\n",
    "import logging\n",
    "from sklearn.metrics import f1_score\n",
    "import os\n",
    "from shell.fleet.data.recv_utils import *\n",
    "from tqdm import tqdm\n",
    "import argparse\n",
    "from functools import partial\n",
    "from torchvision.utils import make_grid\n",
    "from shell.utils.oodloss import OODSeparationLoss\n",
    "from pythresh.thresholds.dsn import DSN\n",
    "from pythresh.thresholds.aucp import AUCP\n",
    "from pythresh.thresholds.boot import BOOT\n",
    "from pythresh.thresholds.zscore import ZSCORE\n",
    "from sklearn.metrics import accuracy_score, precision_score, recall_score, f1_score\n",
    "from collections import defaultdict\n",
    "\n",
    "logging.basicConfig(level=logging.INFO)"
   ]
  },
  {
   "cell_type": "code",
   "execution_count": 4,
   "metadata": {},
   "outputs": [],
   "source": [
    "dataset = \"cifar100\"\n",
    "algo = \"modular\"\n",
    "\n",
    "experiment_folder = \"experiment_results\"\n",
    "experiment_name = \"jorge_setting_lowest_task_id_wins_modmod_test_sync_base_True_opt_with_random_False_frozen_False_transfer_decoder_True_transfer_structure_True_no_sparse_basis_True\"\n",
    "\n",
    "use_contrastive = False\n",
    "if dataset == \"cifar100\":\n",
    "    num_trains_per_class = 256\n",
    "else:\n",
    "    num_trains_per_class = 64\n",
    "\n",
    "seed = 0\n",
    "num_tasks = 10\n",
    "parallel = False\n",
    "comm_freq = 2 \n",
    "\n",
    "ranker = 'instance'\n",
    "# ranker = 'label'\n",
    "\n",
    "module_select = 'tryout'\n",
    "# module_select = 'trust_sim'\n",
    "\n",
    "save_dir = get_save_dir(experiment_folder, experiment_name,\n",
    "                        dataset, algo, num_trains_per_class, use_contrastive, seed)\n",
    "\n",
    "task_id = 15"
   ]
  },
  {
   "cell_type": "code",
   "execution_count": 5,
   "metadata": {},
   "outputs": [],
   "source": [
    "def modify_cfg(net_cfg, agent_cfg, train_cfg, fleet_additional_cfg, cfg):\n",
    "    cfg.sharing_strategy['ranker'] = ranker\n",
    "    cfg.sharing_strategy['module_select'] = module_select\n",
    "    cfg.sharing_strategy['num_shared_module'] = 2\n",
    "    cfg.sharing_strategy['num_tryout_epochs'] = 20\n",
    "    cfg.sharing_strategy['max_num_modules_tryout'] = 3\n",
    "    # cfg.sharing_strategy['sync_base'] = False\n",
    "    # del fleet_additional_cfg['fake_dataset']\n",
    "    return net_cfg, agent_cfg, train_cfg, fleet_additional_cfg, cfg"
   ]
  },
  {
   "cell_type": "code",
   "execution_count": 6,
   "metadata": {},
   "outputs": [
    {
     "name": "stdout",
     "output_type": "stream",
     "text": [
      "{'train': {'component_update_freq': 100, 'num_epochs': 100, 'init_component_update_freq': 100, 'init_num_epochs': 100, 'save_freq': 10}, 'dataset': {'dataset_name': 'cifar100', 'num_tasks': 20, 'num_classes_per_task': 5, 'with_replacement': False, 'num_trains_per_class': 256, 'num_vals_per_class': -1, 'remap_labels': True}, 'net': {'name': 'cnn', 'depth': 4, 'channels': 50, 'conv_kernel': 3, 'maxpool_kernel': 2, 'padding': 1, 'dropout': 0.5, 'no_sparse_basis': True}, 'sharing_strategy': {'name': 'modmod', 'num_coms_per_round': 2, 'module_selection': 'gt_most_similar', 'pre_or_post_comm': 'pre', 'opt_with_random': False, 'comm_freq': 100, 'sync_base': True, 'freeze_candidate_module': False, 'transfer_decoder': True, 'transfer_structure': True}, 'seed': 0, 'algo': 'modular', 'job_name': 'cifar100_modular_numtrain_256', 'num_agents': 8, 'root_save_dir': 'experiment_results/jorge_setting_lowest_task_id_wins_modmod_test_sync_base_True_opt_with_random_False_frozen_False_transfer_decoder_True_transfer_structure_True_no_sparse_basis_True', 'parallel': True, 'num_init_tasks': 4, 'overwrite': False, 'agent': {'save_dir': '${root_save_dir}/${job_name}/${dataset.dataset_name}/${algo}/seed_${seed}', 'batch_size': 64, 'memory_size': 32, 'improvement_threshold': 0.05, 'use_contrastive': False, 'use_ood_separation_loss': False, 'lambda_ood': 2.0, 'delta_ood': 1.0}}\n",
      "Setting seed 0\n"
     ]
    },
    {
     "name": "stderr",
     "output_type": "stream",
     "text": [
      "INFO:root:Class sequence: [97 66 33 19 34  3 12  2 13 92 80  5 27 60 36 11  9 25 31 87 58 44 94 95\n",
      " 64 61 62 86 79 98 93 51 22 59 26 37 83 73 78  1 30 55 85 47 41 20 63 43\n",
      " 90 88 21 40 15 75  4  0 52 23 35 53 84 69 16 10 71 81  6 91 56 76 38 50\n",
      " 57 74 49 18 24 39 48 99  8 65 89 67 54 32 42 14 68 45 96 77 46 28 72 17\n",
      " 29 82  7 70]\n",
      "INFO:root:task 0 :(1280, 3, 32, 32) (469, 3, 32, 32) (500, 3, 32, 32)\n",
      "INFO:root:task 1 :(1280, 3, 32, 32) (527, 3, 32, 32) (500, 3, 32, 32)\n",
      "INFO:root:task 2 :(1280, 3, 32, 32) (499, 3, 32, 32) (500, 3, 32, 32)\n",
      "INFO:root:task 3 :(1280, 3, 32, 32) (532, 3, 32, 32) (500, 3, 32, 32)\n",
      "INFO:root:task 4 :(1280, 3, 32, 32) (495, 3, 32, 32) (500, 3, 32, 32)\n",
      "INFO:root:task 5 :(1280, 3, 32, 32) (496, 3, 32, 32) (500, 3, 32, 32)\n",
      "INFO:root:task 6 :(1280, 3, 32, 32) (503, 3, 32, 32) (500, 3, 32, 32)\n",
      "INFO:root:task 7 :(1280, 3, 32, 32) (510, 3, 32, 32) (500, 3, 32, 32)\n",
      "INFO:root:task 8 :(1280, 3, 32, 32) (506, 3, 32, 32) (500, 3, 32, 32)\n"
     ]
    },
    {
     "name": "stdout",
     "output_type": "stream",
     "text": [
      "labels: [97 66 33 19 34  3 12  2 13 92 80  5 27 60 36 11  9 25 31 87 58 44 94 95\n",
      " 64 61 62 86 79 98 93 51 22 59 26 37 83 73 78  1 30 55 85 47 41 20 63 43\n",
      " 90 88 21 40 15 75  4  0 52 23 35 53 84 69 16 10 71 81  6 91 56 76 38 50\n",
      " 57 74 49 18 24 39 48 99  8 65 89 67 54 32 42 14 68 45 96 77 46 28 72 17\n",
      " 29 82  7 70]\n"
     ]
    },
    {
     "name": "stderr",
     "output_type": "stream",
     "text": [
      "INFO:root:task 9 :(1280, 3, 32, 32) (490, 3, 32, 32) (500, 3, 32, 32)\n",
      "INFO:root:task 10 :(1280, 3, 32, 32) (503, 3, 32, 32) (500, 3, 32, 32)\n",
      "INFO:root:task 11 :(1280, 3, 32, 32) (488, 3, 32, 32) (500, 3, 32, 32)\n",
      "INFO:root:task 12 :(1280, 3, 32, 32) (490, 3, 32, 32) (500, 3, 32, 32)\n",
      "INFO:root:task 13 :(1280, 3, 32, 32) (506, 3, 32, 32) (500, 3, 32, 32)\n",
      "INFO:root:task 14 :(1280, 3, 32, 32) (504, 3, 32, 32) (500, 3, 32, 32)\n",
      "INFO:root:task 15 :(1280, 3, 32, 32) (475, 3, 32, 32) (500, 3, 32, 32)\n",
      "INFO:root:task 16 :(1280, 3, 32, 32) (471, 3, 32, 32) (500, 3, 32, 32)\n",
      "INFO:root:task 17 :(1280, 3, 32, 32) (510, 3, 32, 32) (500, 3, 32, 32)\n",
      "INFO:root:task 18 :(1280, 3, 32, 32) (532, 3, 32, 32) (500, 3, 32, 32)\n",
      "INFO:root:task 19 :(1280, 3, 32, 32) (494, 3, 32, 32) (500, 3, 32, 32)\n",
      "INFO:root:Class sequence: [13 55 29 67 64 47 58 19 30 38 15 16 34 35 73 96 25 89 63  5 44 21 28 60\n",
      " 80 86 36 95 83 40  2 24 37 61 62 57 53 79 27 82 65  4 22 45 78 33 32  9\n",
      " 90 56 46 48  7 59 41 93 98 69 51 74 68 72 71 39 54 18 91 76 70 11 10 99\n",
      " 77 52 87 31  6  1 84 43 85 42 12 94 26 88 17 49 75 92  8 97 66 50  0 23\n",
      " 20 81 14  3]\n",
      "INFO:root:task 0 :(1280, 3, 32, 32) (478, 3, 32, 32) (500, 3, 32, 32)\n",
      "INFO:root:task 1 :(1280, 3, 32, 32) (514, 3, 32, 32) (500, 3, 32, 32)\n",
      "INFO:root:task 2 :(1280, 3, 32, 32) (526, 3, 32, 32) (500, 3, 32, 32)\n",
      "INFO:root:task 3 :(1280, 3, 32, 32) (520, 3, 32, 32) (500, 3, 32, 32)\n",
      "INFO:root:task 4 :(1280, 3, 32, 32) (455, 3, 32, 32) (500, 3, 32, 32)\n",
      "INFO:root:task 5 :(1280, 3, 32, 32) (523, 3, 32, 32) (500, 3, 32, 32)\n",
      "INFO:root:task 6 :(1280, 3, 32, 32) (476, 3, 32, 32) (500, 3, 32, 32)\n",
      "INFO:root:task 7 :(1280, 3, 32, 32) (518, 3, 32, 32) (500, 3, 32, 32)\n",
      "INFO:root:task 8 :(1280, 3, 32, 32) (512, 3, 32, 32) (500, 3, 32, 32)\n",
      "INFO:root:task 9 :(1280, 3, 32, 32) (526, 3, 32, 32) (500, 3, 32, 32)\n"
     ]
    },
    {
     "name": "stdout",
     "output_type": "stream",
     "text": [
      "labels: [13 55 29 67 64 47 58 19 30 38 15 16 34 35 73 96 25 89 63  5 44 21 28 60\n",
      " 80 86 36 95 83 40  2 24 37 61 62 57 53 79 27 82 65  4 22 45 78 33 32  9\n",
      " 90 56 46 48  7 59 41 93 98 69 51 74 68 72 71 39 54 18 91 76 70 11 10 99\n",
      " 77 52 87 31  6  1 84 43 85 42 12 94 26 88 17 49 75 92  8 97 66 50  0 23\n",
      " 20 81 14  3]\n"
     ]
    },
    {
     "name": "stderr",
     "output_type": "stream",
     "text": [
      "INFO:root:task 10 :(1280, 3, 32, 32) (514, 3, 32, 32) (500, 3, 32, 32)\n",
      "INFO:root:task 11 :(1280, 3, 32, 32) (502, 3, 32, 32) (500, 3, 32, 32)\n",
      "INFO:root:task 12 :(1280, 3, 32, 32) (507, 3, 32, 32) (500, 3, 32, 32)\n",
      "INFO:root:task 13 :(1280, 3, 32, 32) (474, 3, 32, 32) (500, 3, 32, 32)\n",
      "INFO:root:task 14 :(1280, 3, 32, 32) (474, 3, 32, 32) (500, 3, 32, 32)\n",
      "INFO:root:task 15 :(1280, 3, 32, 32) (474, 3, 32, 32) (500, 3, 32, 32)\n",
      "INFO:root:task 16 :(1280, 3, 32, 32) (502, 3, 32, 32) (500, 3, 32, 32)\n",
      "INFO:root:task 17 :(1280, 3, 32, 32) (485, 3, 32, 32) (500, 3, 32, 32)\n",
      "INFO:root:task 18 :(1280, 3, 32, 32) (537, 3, 32, 32) (500, 3, 32, 32)\n",
      "INFO:root:task 19 :(1280, 3, 32, 32) (483, 3, 32, 32) (500, 3, 32, 32)\n",
      "INFO:root:Class sequence: [11 37 44 67 45 66 96  1 88  4  2 84 22 50 29 28 41 82 25  5  9 77 13 17\n",
      " 48 76 93 81 73 91 14 94 24 32 75 19 71 10 55 63 58 33 83 18 21  6 26 52\n",
      " 68  3 78 57 80 15 59 99 86 95 92 30  0  8 53 49 35 31 16 61 60 47 98 40\n",
      " 46 34 97 56 12 74 51 43 27 70 20 90 64 36 72 65 62 42 69  7 89 38 39 79\n",
      " 85 23 87 54]\n",
      "INFO:root:task 0 :(1280, 3, 32, 32) (503, 3, 32, 32) (500, 3, 32, 32)\n",
      "INFO:root:task 1 :(1280, 3, 32, 32) (491, 3, 32, 32) (500, 3, 32, 32)\n",
      "INFO:root:task 2 :(1280, 3, 32, 32) (468, 3, 32, 32) (500, 3, 32, 32)\n",
      "INFO:root:task 3 :(1280, 3, 32, 32) (514, 3, 32, 32) (500, 3, 32, 32)\n",
      "INFO:root:task 4 :(1280, 3, 32, 32) (519, 3, 32, 32) (500, 3, 32, 32)\n",
      "INFO:root:task 5 :(1280, 3, 32, 32) (483, 3, 32, 32) (500, 3, 32, 32)\n",
      "INFO:root:task 6 :(1280, 3, 32, 32) (502, 3, 32, 32) (500, 3, 32, 32)\n",
      "INFO:root:task 7 :(1280, 3, 32, 32) (508, 3, 32, 32) (500, 3, 32, 32)\n",
      "INFO:root:task 8 :(1280, 3, 32, 32) (518, 3, 32, 32) (500, 3, 32, 32)\n",
      "INFO:root:task 9 :(1280, 3, 32, 32) (512, 3, 32, 32) (500, 3, 32, 32)\n"
     ]
    },
    {
     "name": "stdout",
     "output_type": "stream",
     "text": [
      "labels: [11 37 44 67 45 66 96  1 88  4  2 84 22 50 29 28 41 82 25  5  9 77 13 17\n",
      " 48 76 93 81 73 91 14 94 24 32 75 19 71 10 55 63 58 33 83 18 21  6 26 52\n",
      " 68  3 78 57 80 15 59 99 86 95 92 30  0  8 53 49 35 31 16 61 60 47 98 40\n",
      " 46 34 97 56 12 74 51 43 27 70 20 90 64 36 72 65 62 42 69  7 89 38 39 79\n",
      " 85 23 87 54]\n"
     ]
    },
    {
     "name": "stderr",
     "output_type": "stream",
     "text": [
      "INFO:root:task 10 :(1280, 3, 32, 32) (514, 3, 32, 32) (500, 3, 32, 32)\n",
      "INFO:root:task 11 :(1280, 3, 32, 32) (492, 3, 32, 32) (500, 3, 32, 32)\n",
      "INFO:root:task 12 :(1280, 3, 32, 32) (516, 3, 32, 32) (500, 3, 32, 32)\n",
      "INFO:root:task 13 :(1280, 3, 32, 32) (501, 3, 32, 32) (500, 3, 32, 32)\n",
      "INFO:root:task 14 :(1280, 3, 32, 32) (460, 3, 32, 32) (500, 3, 32, 32)\n",
      "INFO:root:task 15 :(1280, 3, 32, 32) (529, 3, 32, 32) (500, 3, 32, 32)\n",
      "INFO:root:task 16 :(1280, 3, 32, 32) (483, 3, 32, 32) (500, 3, 32, 32)\n",
      "INFO:root:task 17 :(1280, 3, 32, 32) (503, 3, 32, 32) (500, 3, 32, 32)\n",
      "INFO:root:task 18 :(1280, 3, 32, 32) (492, 3, 32, 32) (500, 3, 32, 32)\n",
      "INFO:root:task 19 :(1280, 3, 32, 32) (492, 3, 32, 32) (500, 3, 32, 32)\n",
      "INFO:root:Class sequence: [63  2 24 65 38 56 94 61 75 55 25 96 86 32 11 64 30 67 80 27 41 52 20  0\n",
      " 97 50 40 43 36 17 33 34 53 29 44 16 84 15 90 62 18 51 79 88 95 49 35 76\n",
      " 59 31  8 14 68  9 71  6 73  5 66 28 72  1 13 93 60 12 78 26 98  4 46 39\n",
      "  3 48 37 69 70 87 83 91 42 47 45 81 92 19 74 89 22 10 82 23 77 85 99 58\n",
      " 21 54  7 57]\n",
      "INFO:root:task 0 :(1280, 3, 32, 32) (501, 3, 32, 32) (500, 3, 32, 32)\n",
      "INFO:root:task 1 :(1280, 3, 32, 32) (513, 3, 32, 32) (500, 3, 32, 32)\n",
      "INFO:root:task 2 :(1280, 3, 32, 32) (492, 3, 32, 32) (500, 3, 32, 32)\n",
      "INFO:root:task 3 :(1280, 3, 32, 32) (495, 3, 32, 32) (500, 3, 32, 32)\n",
      "INFO:root:task 4 :(1280, 3, 32, 32) (521, 3, 32, 32) (500, 3, 32, 32)\n",
      "INFO:root:task 5 :(1280, 3, 32, 32) (512, 3, 32, 32) (500, 3, 32, 32)\n",
      "INFO:root:task 6 :(1280, 3, 32, 32) (499, 3, 32, 32) (500, 3, 32, 32)\n",
      "INFO:root:task 7 :(1280, 3, 32, 32) (503, 3, 32, 32) (500, 3, 32, 32)\n",
      "INFO:root:task 8 :(1280, 3, 32, 32) (511, 3, 32, 32) (500, 3, 32, 32)\n",
      "INFO:root:task 9 :(1280, 3, 32, 32) (504, 3, 32, 32) (500, 3, 32, 32)\n"
     ]
    },
    {
     "name": "stdout",
     "output_type": "stream",
     "text": [
      "labels: [63  2 24 65 38 56 94 61 75 55 25 96 86 32 11 64 30 67 80 27 41 52 20  0\n",
      " 97 50 40 43 36 17 33 34 53 29 44 16 84 15 90 62 18 51 79 88 95 49 35 76\n",
      " 59 31  8 14 68  9 71  6 73  5 66 28 72  1 13 93 60 12 78 26 98  4 46 39\n",
      "  3 48 37 69 70 87 83 91 42 47 45 81 92 19 74 89 22 10 82 23 77 85 99 58\n",
      " 21 54  7 57]\n"
     ]
    },
    {
     "name": "stderr",
     "output_type": "stream",
     "text": [
      "INFO:root:task 10 :(1280, 3, 32, 32) (500, 3, 32, 32) (500, 3, 32, 32)\n",
      "INFO:root:task 11 :(1280, 3, 32, 32) (490, 3, 32, 32) (500, 3, 32, 32)\n",
      "INFO:root:task 12 :(1280, 3, 32, 32) (504, 3, 32, 32) (500, 3, 32, 32)\n",
      "INFO:root:task 13 :(1280, 3, 32, 32) (555, 3, 32, 32) (500, 3, 32, 32)\n",
      "INFO:root:task 14 :(1280, 3, 32, 32) (491, 3, 32, 32) (500, 3, 32, 32)\n",
      "INFO:root:task 15 :(1280, 3, 32, 32) (501, 3, 32, 32) (500, 3, 32, 32)\n",
      "INFO:root:task 16 :(1280, 3, 32, 32) (491, 3, 32, 32) (500, 3, 32, 32)\n",
      "INFO:root:task 17 :(1280, 3, 32, 32) (471, 3, 32, 32) (500, 3, 32, 32)\n",
      "INFO:root:task 18 :(1280, 3, 32, 32) (491, 3, 32, 32) (500, 3, 32, 32)\n",
      "INFO:root:task 19 :(1280, 3, 32, 32) (455, 3, 32, 32) (500, 3, 32, 32)\n",
      "INFO:root:Class sequence: [ 6 30 52 18 83 48  1 71 97 53  5 31 72 49 11 40 59 27 14 75 63 41 93 74\n",
      " 44  7 77 87 33 51 28 43 24 69 54 42 19 17 68  8  3 73 46 22  4 92 76 89\n",
      " 78 56 61 91 50 67 45  0 36 99 79 64 96 21 29 32 98 70 88 57 39 47 12 81\n",
      " 10  2 25 37 60 20 16 86  9 62 55 58 94 23 13 35 90 80 34 84 15 95 82 85\n",
      " 65 26 38 66]\n",
      "INFO:root:task 0 :(1280, 3, 32, 32) (506, 3, 32, 32) (500, 3, 32, 32)\n",
      "INFO:root:task 1 :(1280, 3, 32, 32) (519, 3, 32, 32) (500, 3, 32, 32)\n",
      "INFO:root:task 2 :(1280, 3, 32, 32) (469, 3, 32, 32) (500, 3, 32, 32)\n",
      "INFO:root:task 3 :(1280, 3, 32, 32) (498, 3, 32, 32) (500, 3, 32, 32)\n",
      "INFO:root:task 4 :(1280, 3, 32, 32) (506, 3, 32, 32) (500, 3, 32, 32)\n",
      "INFO:root:task 5 :(1280, 3, 32, 32) (467, 3, 32, 32) (500, 3, 32, 32)\n",
      "INFO:root:task 6 :(1280, 3, 32, 32) (550, 3, 32, 32) (500, 3, 32, 32)\n",
      "INFO:root:task 7 :(1280, 3, 32, 32) (501, 3, 32, 32) (500, 3, 32, 32)\n",
      "INFO:root:task 8 :(1280, 3, 32, 32) (504, 3, 32, 32) (500, 3, 32, 32)\n",
      "INFO:root:task 9 :(1280, 3, 32, 32) (484, 3, 32, 32) (500, 3, 32, 32)\n"
     ]
    },
    {
     "name": "stdout",
     "output_type": "stream",
     "text": [
      "labels: [ 6 30 52 18 83 48  1 71 97 53  5 31 72 49 11 40 59 27 14 75 63 41 93 74\n",
      " 44  7 77 87 33 51 28 43 24 69 54 42 19 17 68  8  3 73 46 22  4 92 76 89\n",
      " 78 56 61 91 50 67 45  0 36 99 79 64 96 21 29 32 98 70 88 57 39 47 12 81\n",
      " 10  2 25 37 60 20 16 86  9 62 55 58 94 23 13 35 90 80 34 84 15 95 82 85\n",
      " 65 26 38 66]\n"
     ]
    },
    {
     "name": "stderr",
     "output_type": "stream",
     "text": [
      "INFO:root:task 10 :(1280, 3, 32, 32) (507, 3, 32, 32) (500, 3, 32, 32)\n",
      "INFO:root:task 11 :(1280, 3, 32, 32) (500, 3, 32, 32) (500, 3, 32, 32)\n",
      "INFO:root:task 12 :(1280, 3, 32, 32) (488, 3, 32, 32) (500, 3, 32, 32)\n",
      "INFO:root:task 13 :(1280, 3, 32, 32) (512, 3, 32, 32) (500, 3, 32, 32)\n",
      "INFO:root:task 14 :(1280, 3, 32, 32) (513, 3, 32, 32) (500, 3, 32, 32)\n",
      "INFO:root:task 15 :(1280, 3, 32, 32) (505, 3, 32, 32) (500, 3, 32, 32)\n",
      "INFO:root:task 16 :(1280, 3, 32, 32) (474, 3, 32, 32) (500, 3, 32, 32)\n",
      "INFO:root:task 17 :(1280, 3, 32, 32) (525, 3, 32, 32) (500, 3, 32, 32)\n",
      "INFO:root:task 18 :(1280, 3, 32, 32) (493, 3, 32, 32) (500, 3, 32, 32)\n",
      "INFO:root:task 19 :(1280, 3, 32, 32) (479, 3, 32, 32) (500, 3, 32, 32)\n",
      "INFO:root:Class sequence: [31  6 72  5 12 20 71 70 26 66 52 42  2 47 56 86 21 33 76 16 80 98 97 79\n",
      " 10 84 55  8 23 83 77 68 93 25 27 90 24 43 91 40 96 28  7 49 35 15 48 50\n",
      " 18 53  0 92 58 34 95 32  9 64 11 60 73 14 39 19 51 88 99 29 13 87 41 69\n",
      " 37  4  3 63 67 65 59 62 54 36 61 94 89 75 74 30 78 46 85 22 17 81 57 44\n",
      " 45 82 38  1]\n",
      "INFO:root:task 0 :(1280, 3, 32, 32) (483, 3, 32, 32) (500, 3, 32, 32)\n",
      "INFO:root:task 1 :(1280, 3, 32, 32) (495, 3, 32, 32) (500, 3, 32, 32)\n",
      "INFO:root:task 2 :(1280, 3, 32, 32) (505, 3, 32, 32) (500, 3, 32, 32)\n",
      "INFO:root:task 3 :(1280, 3, 32, 32) (527, 3, 32, 32) (500, 3, 32, 32)\n",
      "INFO:root:task 4 :(1280, 3, 32, 32) (527, 3, 32, 32) (500, 3, 32, 32)\n",
      "INFO:root:task 5 :(1280, 3, 32, 32) (518, 3, 32, 32) (500, 3, 32, 32)\n",
      "INFO:root:task 6 :(1280, 3, 32, 32) (506, 3, 32, 32) (500, 3, 32, 32)\n",
      "INFO:root:task 7 :(1280, 3, 32, 32) (490, 3, 32, 32) (500, 3, 32, 32)\n",
      "INFO:root:task 8 :(1280, 3, 32, 32) (484, 3, 32, 32) (500, 3, 32, 32)\n",
      "INFO:root:task 9 :(1280, 3, 32, 32) (491, 3, 32, 32) (500, 3, 32, 32)\n"
     ]
    },
    {
     "name": "stdout",
     "output_type": "stream",
     "text": [
      "labels: [31  6 72  5 12 20 71 70 26 66 52 42  2 47 56 86 21 33 76 16 80 98 97 79\n",
      " 10 84 55  8 23 83 77 68 93 25 27 90 24 43 91 40 96 28  7 49 35 15 48 50\n",
      " 18 53  0 92 58 34 95 32  9 64 11 60 73 14 39 19 51 88 99 29 13 87 41 69\n",
      " 37  4  3 63 67 65 59 62 54 36 61 94 89 75 74 30 78 46 85 22 17 81 57 44\n",
      " 45 82 38  1]\n"
     ]
    },
    {
     "name": "stderr",
     "output_type": "stream",
     "text": [
      "INFO:root:task 10 :(1280, 3, 32, 32) (508, 3, 32, 32) (500, 3, 32, 32)\n",
      "INFO:root:task 11 :(1280, 3, 32, 32) (487, 3, 32, 32) (500, 3, 32, 32)\n",
      "INFO:root:task 12 :(1280, 3, 32, 32) (504, 3, 32, 32) (500, 3, 32, 32)\n",
      "INFO:root:task 13 :(1280, 3, 32, 32) (488, 3, 32, 32) (500, 3, 32, 32)\n",
      "INFO:root:task 14 :(1280, 3, 32, 32) (521, 3, 32, 32) (500, 3, 32, 32)\n",
      "INFO:root:task 15 :(1280, 3, 32, 32) (446, 3, 32, 32) (500, 3, 32, 32)\n",
      "INFO:root:task 16 :(1280, 3, 32, 32) (499, 3, 32, 32) (500, 3, 32, 32)\n",
      "INFO:root:task 17 :(1280, 3, 32, 32) (497, 3, 32, 32) (500, 3, 32, 32)\n",
      "INFO:root:task 18 :(1280, 3, 32, 32) (522, 3, 32, 32) (500, 3, 32, 32)\n",
      "INFO:root:task 19 :(1280, 3, 32, 32) (502, 3, 32, 32) (500, 3, 32, 32)\n",
      "INFO:root:Class sequence: [ 6 82 28 87 50 48  2  1 85 73 62 18 67 45 79 71 44 70  7 35 33 22  3 84\n",
      " 14 58 24 91 83 72 59 90 41 51 43 25 29 92 63 56 46 47 26  0 39 17 34 97\n",
      " 30 53 36 64 81 93 57 20 55 60 31 12 11 54  4 94 49 68 78 38 98 10 19 66\n",
      " 96 37  9 69 76 13 89  8 74 23 15  5 52 61 95 65 32 21 42 40 27 16 99 77\n",
      " 75 88 80 86]\n",
      "INFO:root:task 0 :(1280, 3, 32, 32) (500, 3, 32, 32) (500, 3, 32, 32)\n",
      "INFO:root:task 1 :(1280, 3, 32, 32) (489, 3, 32, 32) (500, 3, 32, 32)\n",
      "INFO:root:task 2 :(1280, 3, 32, 32) (502, 3, 32, 32) (500, 3, 32, 32)\n",
      "INFO:root:task 3 :(1280, 3, 32, 32) (507, 3, 32, 32) (500, 3, 32, 32)\n",
      "INFO:root:task 4 :(1280, 3, 32, 32) (507, 3, 32, 32) (500, 3, 32, 32)\n",
      "INFO:root:task 5 :(1280, 3, 32, 32) (524, 3, 32, 32) (500, 3, 32, 32)\n",
      "INFO:root:task 6 :(1280, 3, 32, 32) (527, 3, 32, 32) (500, 3, 32, 32)\n",
      "INFO:root:task 7 :(1280, 3, 32, 32) (484, 3, 32, 32) (500, 3, 32, 32)\n",
      "INFO:root:task 8 :(1280, 3, 32, 32) (493, 3, 32, 32) (500, 3, 32, 32)\n",
      "INFO:root:task 9 :(1280, 3, 32, 32) (521, 3, 32, 32) (500, 3, 32, 32)\n"
     ]
    },
    {
     "name": "stdout",
     "output_type": "stream",
     "text": [
      "labels: [ 6 82 28 87 50 48  2  1 85 73 62 18 67 45 79 71 44 70  7 35 33 22  3 84\n",
      " 14 58 24 91 83 72 59 90 41 51 43 25 29 92 63 56 46 47 26  0 39 17 34 97\n",
      " 30 53 36 64 81 93 57 20 55 60 31 12 11 54  4 94 49 68 78 38 98 10 19 66\n",
      " 96 37  9 69 76 13 89  8 74 23 15  5 52 61 95 65 32 21 42 40 27 16 99 77\n",
      " 75 88 80 86]\n"
     ]
    },
    {
     "name": "stderr",
     "output_type": "stream",
     "text": [
      "INFO:root:task 10 :(1280, 3, 32, 32) (480, 3, 32, 32) (500, 3, 32, 32)\n",
      "INFO:root:task 11 :(1280, 3, 32, 32) (524, 3, 32, 32) (500, 3, 32, 32)\n",
      "INFO:root:task 12 :(1280, 3, 32, 32) (510, 3, 32, 32) (500, 3, 32, 32)\n",
      "INFO:root:task 13 :(1280, 3, 32, 32) (517, 3, 32, 32) (500, 3, 32, 32)\n",
      "INFO:root:task 14 :(1280, 3, 32, 32) (484, 3, 32, 32) (500, 3, 32, 32)\n",
      "INFO:root:task 15 :(1280, 3, 32, 32) (471, 3, 32, 32) (500, 3, 32, 32)\n",
      "INFO:root:task 16 :(1280, 3, 32, 32) (509, 3, 32, 32) (500, 3, 32, 32)\n",
      "INFO:root:task 17 :(1280, 3, 32, 32) (496, 3, 32, 32) (500, 3, 32, 32)\n",
      "INFO:root:task 18 :(1280, 3, 32, 32) (483, 3, 32, 32) (500, 3, 32, 32)\n",
      "INFO:root:task 19 :(1280, 3, 32, 32) (472, 3, 32, 32) (500, 3, 32, 32)\n",
      "INFO:root:Class sequence: [66 65 15 81 88 34 41  4 33 29 76 82 38 94 85 57 86 11 95 78 77 67 53 75\n",
      " 27 99 91 21 32  6 60 96 44 46 70 68 74 63 72 35 56  2 62 31 13  1 42  9\n",
      " 80 58 83 25 97 17 73 16 37 71 54 52 93 48 19 47 98  7 45 14 23 18 40 64\n",
      " 69  5 87 59 61 22 43 10 26 90 89  8 79 55 49 24 20 92 50  3  0 51 30 36\n",
      " 28 39 84 12]\n",
      "INFO:root:task 0 :(1280, 3, 32, 32) (501, 3, 32, 32) (500, 3, 32, 32)\n",
      "INFO:root:task 1 :(1280, 3, 32, 32) (494, 3, 32, 32) (500, 3, 32, 32)\n",
      "INFO:root:task 2 :(1280, 3, 32, 32) (470, 3, 32, 32) (500, 3, 32, 32)\n",
      "INFO:root:task 3 :(1280, 3, 32, 32) (539, 3, 32, 32) (500, 3, 32, 32)\n",
      "INFO:root:task 4 :(1280, 3, 32, 32) (499, 3, 32, 32) (500, 3, 32, 32)\n",
      "INFO:root:task 5 :(1280, 3, 32, 32) (479, 3, 32, 32) (500, 3, 32, 32)\n",
      "INFO:root:task 6 :(1280, 3, 32, 32) (521, 3, 32, 32) (500, 3, 32, 32)\n",
      "INFO:root:task 7 :(1280, 3, 32, 32) (517, 3, 32, 32) (500, 3, 32, 32)\n",
      "INFO:root:task 8 :(1280, 3, 32, 32) (479, 3, 32, 32) (500, 3, 32, 32)\n",
      "INFO:root:task 9 :(1280, 3, 32, 32) (509, 3, 32, 32) (500, 3, 32, 32)\n"
     ]
    },
    {
     "name": "stdout",
     "output_type": "stream",
     "text": [
      "labels: [66 65 15 81 88 34 41  4 33 29 76 82 38 94 85 57 86 11 95 78 77 67 53 75\n",
      " 27 99 91 21 32  6 60 96 44 46 70 68 74 63 72 35 56  2 62 31 13  1 42  9\n",
      " 80 58 83 25 97 17 73 16 37 71 54 52 93 48 19 47 98  7 45 14 23 18 40 64\n",
      " 69  5 87 59 61 22 43 10 26 90 89  8 79 55 49 24 20 92 50  3  0 51 30 36\n",
      " 28 39 84 12]\n"
     ]
    },
    {
     "name": "stderr",
     "output_type": "stream",
     "text": [
      "INFO:root:task 10 :(1280, 3, 32, 32) (505, 3, 32, 32) (500, 3, 32, 32)\n",
      "INFO:root:task 11 :(1280, 3, 32, 32) (495, 3, 32, 32) (500, 3, 32, 32)\n",
      "INFO:root:task 12 :(1280, 3, 32, 32) (495, 3, 32, 32) (500, 3, 32, 32)\n",
      "INFO:root:task 13 :(1280, 3, 32, 32) (487, 3, 32, 32) (500, 3, 32, 32)\n",
      "INFO:root:task 14 :(1280, 3, 32, 32) (488, 3, 32, 32) (500, 3, 32, 32)\n",
      "INFO:root:task 15 :(1280, 3, 32, 32) (510, 3, 32, 32) (500, 3, 32, 32)\n",
      "INFO:root:task 16 :(1280, 3, 32, 32) (520, 3, 32, 32) (500, 3, 32, 32)\n",
      "INFO:root:task 17 :(1280, 3, 32, 32) (516, 3, 32, 32) (500, 3, 32, 32)\n",
      "INFO:root:task 18 :(1280, 3, 32, 32) (482, 3, 32, 32) (500, 3, 32, 32)\n",
      "INFO:root:task 19 :(1280, 3, 32, 32) (494, 3, 32, 32) (500, 3, 32, 32)\n"
     ]
    },
    {
     "name": "stdout",
     "output_type": "stream",
     "text": [
      "i_size 32\n",
      "num_classes 5\n",
      "net_cfg {'name': 'cnn', 'depth': 4, 'channels': 50, 'conv_kernel': 3, 'maxpool_kernel': 2, 'padding': 1, 'dropout': 0.5, 'no_sparse_basis': True, 'i_size': 32, 'num_classes': 5, 'num_tasks': 20, 'num_init_tasks': 4, 'use_contrastive': False}\n",
      "<class 'shell.learners.er_dynamic.CompositionalDynamicER'>\n"
     ]
    },
    {
     "name": "stderr",
     "output_type": "stream",
     "text": [
      "INFO:root:Class sequence: [ 7  8 19 18 48 59 36 34 75 30 93 86 53  6  9 77 95 89 39 55 71 32 61 12\n",
      " 50 99 74 96 24 69 49 57 47 78  1 62 73  0 37 40 70 65 27  5 83 98 91 51\n",
      " 15 72 64 60 20 23 82 45 44 63 68 17 25 11 76 16  3 58 67  2 90 21 35 94\n",
      " 14 28 56 22 85 81 26 79 66 54 92 52 43 97 87 10 80  4 33 46 29 88 84 41\n",
      " 31 38 13 42]\n",
      "INFO:root:task 0 :(1280, 3, 32, 32) (473, 3, 32, 32) (500, 3, 32, 32)\n",
      "INFO:root:task 1 :(1280, 3, 32, 32) (507, 3, 32, 32) (500, 3, 32, 32)\n",
      "INFO:root:task 2 :(1280, 3, 32, 32) (533, 3, 32, 32) (500, 3, 32, 32)\n",
      "INFO:root:task 3 :(1280, 3, 32, 32) (493, 3, 32, 32) (500, 3, 32, 32)\n",
      "INFO:root:task 4 :(1280, 3, 32, 32) (506, 3, 32, 32) (500, 3, 32, 32)\n",
      "INFO:root:task 5 :(1280, 3, 32, 32) (492, 3, 32, 32) (500, 3, 32, 32)\n",
      "INFO:root:task 6 :(1280, 3, 32, 32) (511, 3, 32, 32) (500, 3, 32, 32)\n",
      "INFO:root:task 7 :(1280, 3, 32, 32) (512, 3, 32, 32) (500, 3, 32, 32)\n",
      "INFO:root:task 8 :(1280, 3, 32, 32) (481, 3, 32, 32) (500, 3, 32, 32)\n",
      "INFO:root:task 9 :(1280, 3, 32, 32) (502, 3, 32, 32) (500, 3, 32, 32)\n"
     ]
    },
    {
     "name": "stdout",
     "output_type": "stream",
     "text": [
      "labels: [ 7  8 19 18 48 59 36 34 75 30 93 86 53  6  9 77 95 89 39 55 71 32 61 12\n",
      " 50 99 74 96 24 69 49 57 47 78  1 62 73  0 37 40 70 65 27  5 83 98 91 51\n",
      " 15 72 64 60 20 23 82 45 44 63 68 17 25 11 76 16  3 58 67  2 90 21 35 94\n",
      " 14 28 56 22 85 81 26 79 66 54 92 52 43 97 87 10 80  4 33 46 29 88 84 41\n",
      " 31 38 13 42]\n"
     ]
    },
    {
     "name": "stderr",
     "output_type": "stream",
     "text": [
      "INFO:root:task 10 :(1280, 3, 32, 32) (501, 3, 32, 32) (500, 3, 32, 32)\n",
      "INFO:root:task 11 :(1280, 3, 32, 32) (505, 3, 32, 32) (500, 3, 32, 32)\n",
      "INFO:root:task 12 :(1280, 3, 32, 32) (470, 3, 32, 32) (500, 3, 32, 32)\n",
      "INFO:root:task 13 :(1280, 3, 32, 32) (537, 3, 32, 32) (500, 3, 32, 32)\n",
      "INFO:root:task 14 :(1280, 3, 32, 32) (510, 3, 32, 32) (500, 3, 32, 32)\n",
      "INFO:root:task 15 :(1280, 3, 32, 32) (477, 3, 32, 32) (500, 3, 32, 32)\n",
      "INFO:root:task 16 :(1280, 3, 32, 32) (498, 3, 32, 32) (500, 3, 32, 32)\n",
      "INFO:root:task 17 :(1280, 3, 32, 32) (494, 3, 32, 32) (500, 3, 32, 32)\n",
      "INFO:root:task 18 :(1280, 3, 32, 32) (516, 3, 32, 32) (500, 3, 32, 32)\n",
      "INFO:root:task 19 :(1280, 3, 32, 32) (482, 3, 32, 32) (500, 3, 32, 32)\n",
      "INFO:root:Agent: node_id: 69420, seed: 69420000\n",
      "INFO:root:Agent: node_id: 0, seed: 0\n",
      "INFO:root:Agent: node_id: 1, seed: 1000\n",
      "INFO:root:Agent: node_id: 2, seed: 2000\n",
      "INFO:root:Agent: node_id: 3, seed: 3000\n",
      "INFO:root:Agent: node_id: 4, seed: 4000\n",
      "INFO:root:Agent: node_id: 5, seed: 5000\n",
      "INFO:root:Agent: node_id: 6, seed: 6000\n",
      "INFO:root:Agent: node_id: 7, seed: 7000\n",
      "INFO:root:Created fleet with 8 agents\n",
      "INFO:root:Adding neighbors...\n",
      "INFO:root:Fleet initialized\n"
     ]
    },
    {
     "name": "stdout",
     "output_type": "stream",
     "text": [
      "Setting seed 69420000\n",
      "Setting seed 0\n",
      "Setting seed 1000\n",
      "Setting seed 2000\n",
      "Setting seed 3000\n",
      "Setting seed 4000\n",
      "Setting seed 5000\n",
      "Setting seed 6000\n",
      "Setting seed 7000\n"
     ]
    }
   ],
   "source": [
    "fleet = setup_fleet(save_dir, task_id=task_id-1, parallel=False,\n",
    "                    modify_cfg=modify_cfg)"
   ]
  },
  {
   "cell_type": "code",
   "execution_count": 7,
   "metadata": {},
   "outputs": [],
   "source": [
    "# fleet.eval_test(task_id=task_id)"
   ]
  },
  {
   "cell_type": "code",
   "execution_count": 8,
   "metadata": {},
   "outputs": [],
   "source": [
    "fleet.change_save_dir('task_similarity_engineering_experiment_results')"
   ]
  },
  {
   "cell_type": "code",
   "execution_count": 9,
   "metadata": {},
   "outputs": [
    {
     "name": "stderr",
     "output_type": "stream",
     "text": [
      "INFO:root:Trying out: 14 modules in batches of up to 3\n",
      "INFO:root:epochs: 0, training task: 15\n",
      "INFO:root:\ttask: 0\tloss: 0.88415158\tacc: 0.656\n",
      "INFO:root:\ttask: 1\tloss: 0.47572943\tacc: 0.850\n",
      "INFO:root:\ttask: 2\tloss: 0.66240482\tacc: 0.748\n",
      "INFO:root:\ttask: 3\tloss: 1.07854694\tacc: 0.578\n",
      "INFO:root:\ttask: 4\tloss: 0.62519363\tacc: 0.750\n",
      "INFO:root:\ttask: 5\tloss: 0.73601123\tacc: 0.708\n",
      "INFO:root:\ttask: 6\tloss: 0.93701797\tacc: 0.626\n",
      "INFO:root:\ttask: 7\tloss: 0.63837155\tacc: 0.798\n",
      "INFO:root:\ttask: 8\tloss: 0.59774133\tacc: 0.780\n",
      "INFO:root:\ttask: 9\tloss: 0.70067365\tacc: 0.738\n",
      "INFO:root:\ttask: 10\tloss: 0.72657199\tacc: 0.734\n",
      "INFO:root:\ttask: 11\tloss: 0.33451271\tacc: 0.896\n",
      "INFO:root:\ttask: 12\tloss: 0.82175415\tacc: 0.676\n",
      "INFO:root:\ttask: 13\tloss: 0.39516725\tacc: 0.856\n",
      "INFO:root:\ttask: 14\tloss: 0.78705487\tacc: 0.674\n",
      "INFO:root:\ttask: 15\tloss: 1.61056104\tacc: 0.200\n",
      "INFO:root:\ttask: avg\tloss: 0.75071651\tacc: 0.704\n"
     ]
    },
    {
     "name": "stdout",
     "output_type": "stream",
     "text": [
      "no. current components 15 NUM_CANDIDATE_MODULES 3 len(module_list) 3\n",
      "Training from epoch 0 to epoch 20\n"
     ]
    },
    {
     "name": "stderr",
     "output_type": "stream",
     "text": [
      "INFO:root:epochs: 1, training task: 15\n",
      "INFO:root:\ttask: 0\tloss: 0.88415158\tacc: 0.656\n",
      "INFO:root:\ttask: 1\tloss: 0.47572943\tacc: 0.850\n",
      "INFO:root:\ttask: 2\tloss: 0.66240482\tacc: 0.748\n",
      "INFO:root:\ttask: 3\tloss: 1.07854694\tacc: 0.578\n",
      "INFO:root:\ttask: 4\tloss: 0.62519363\tacc: 0.750\n",
      "INFO:root:\ttask: 5\tloss: 0.73601123\tacc: 0.708\n",
      "INFO:root:\ttask: 6\tloss: 0.93701797\tacc: 0.626\n",
      "INFO:root:\ttask: 7\tloss: 0.63837155\tacc: 0.798\n",
      "INFO:root:\ttask: 8\tloss: 0.59774133\tacc: 0.780\n",
      "INFO:root:\ttask: 9\tloss: 0.70067365\tacc: 0.738\n",
      "INFO:root:\ttask: 10\tloss: 0.72657199\tacc: 0.734\n",
      "INFO:root:\ttask: 11\tloss: 0.33451271\tacc: 0.896\n",
      "INFO:root:\ttask: 12\tloss: 0.82175415\tacc: 0.676\n",
      "INFO:root:\ttask: 13\tloss: 0.39516725\tacc: 0.856\n",
      "INFO:root:\ttask: 14\tloss: 0.78705487\tacc: 0.674\n",
      "INFO:root:\ttask: 15\tloss: 1.60676312\tacc: 0.202\n",
      "INFO:root:\ttask: avg\tloss: 0.75047914\tacc: 0.704\n",
      "INFO:root:epochs: 11, training task: 15\n",
      "INFO:root:\ttask: 0\tloss: 0.88415158\tacc: 0.656\n",
      "INFO:root:\ttask: 1\tloss: 0.47572943\tacc: 0.850\n",
      "INFO:root:\ttask: 2\tloss: 0.66240482\tacc: 0.748\n",
      "INFO:root:\ttask: 3\tloss: 1.07854694\tacc: 0.578\n",
      "INFO:root:\ttask: 4\tloss: 0.62519363\tacc: 0.750\n",
      "INFO:root:\ttask: 5\tloss: 0.73601123\tacc: 0.708\n",
      "INFO:root:\ttask: 6\tloss: 0.93701797\tacc: 0.626\n",
      "INFO:root:\ttask: 7\tloss: 0.63837155\tacc: 0.798\n",
      "INFO:root:\ttask: 8\tloss: 0.59774133\tacc: 0.780\n",
      "INFO:root:\ttask: 9\tloss: 0.70067365\tacc: 0.738\n",
      "INFO:root:\ttask: 10\tloss: 0.72657199\tacc: 0.734\n",
      "INFO:root:\ttask: 11\tloss: 0.33451271\tacc: 0.896\n",
      "INFO:root:\ttask: 12\tloss: 0.82175415\tacc: 0.676\n",
      "INFO:root:\ttask: 13\tloss: 0.39516725\tacc: 0.856\n",
      "INFO:root:\ttask: 14\tloss: 0.78705487\tacc: 0.674\n",
      "INFO:root:\ttask: 15\tloss: 1.59001990\tacc: 0.528\n",
      "INFO:root:\ttask: avg\tloss: 0.74943269\tacc: 0.725\n",
      "INFO:root:candidate 15: W/update: 0.6863157894736842, WO/update: 0.24, improv 1.8596491228070176\n",
      "INFO:root:candidate 16: W/update: 0.6210526315789474, WO/update: 0.24, improv 1.5877192982456143\n",
      "INFO:root:candidate 17: W/update: 0.6357894736842106, WO/update: 0.24, improv 1.649122807017544\n",
      "INFO:root:Keeping new module 15. Total: 16\n",
      "INFO:root:epochs: 21, training task: 15\n",
      "INFO:root:\ttask: 0\tloss: 0.88415158\tacc: 0.656\n",
      "INFO:root:\ttask: 1\tloss: 0.47572943\tacc: 0.850\n",
      "INFO:root:\ttask: 2\tloss: 0.66240482\tacc: 0.748\n",
      "INFO:root:\ttask: 3\tloss: 1.07854694\tacc: 0.578\n",
      "INFO:root:\ttask: 4\tloss: 0.62519363\tacc: 0.750\n",
      "INFO:root:\ttask: 5\tloss: 0.73601123\tacc: 0.708\n",
      "INFO:root:\ttask: 6\tloss: 0.93701797\tacc: 0.626\n",
      "INFO:root:\ttask: 7\tloss: 0.63837155\tacc: 0.798\n",
      "INFO:root:\ttask: 8\tloss: 0.59774133\tacc: 0.780\n",
      "INFO:root:\ttask: 9\tloss: 0.70067365\tacc: 0.738\n",
      "INFO:root:\ttask: 10\tloss: 0.72657199\tacc: 0.734\n",
      "INFO:root:\ttask: 11\tloss: 0.33451271\tacc: 0.896\n",
      "INFO:root:\ttask: 12\tloss: 0.82175415\tacc: 0.676\n",
      "INFO:root:\ttask: 13\tloss: 0.39516725\tacc: 0.856\n",
      "INFO:root:\ttask: 14\tloss: 0.78705487\tacc: 0.674\n",
      "INFO:root:\ttask: 15\tloss: 1.04725677\tacc: 0.742\n",
      "INFO:root:\ttask: avg\tloss: 0.71550999\tacc: 0.738\n",
      "INFO:root:Batch 0 perfs: [1.8596491228070176, 1.5877192982456143, 1.649122807017544]\n",
      "INFO:root:epochs: 0, training task: 15\n",
      "INFO:root:\ttask: 0\tloss: 0.88415158\tacc: 0.656\n",
      "INFO:root:\ttask: 1\tloss: 0.47572943\tacc: 0.850\n",
      "INFO:root:\ttask: 2\tloss: 0.66240482\tacc: 0.748\n",
      "INFO:root:\ttask: 3\tloss: 1.07854694\tacc: 0.578\n",
      "INFO:root:\ttask: 4\tloss: 0.62519363\tacc: 0.750\n",
      "INFO:root:\ttask: 5\tloss: 0.73601123\tacc: 0.708\n",
      "INFO:root:\ttask: 6\tloss: 0.93701797\tacc: 0.626\n",
      "INFO:root:\ttask: 7\tloss: 0.63837155\tacc: 0.798\n",
      "INFO:root:\ttask: 8\tloss: 0.59774133\tacc: 0.780\n",
      "INFO:root:\ttask: 9\tloss: 0.70067365\tacc: 0.738\n",
      "INFO:root:\ttask: 10\tloss: 0.72657199\tacc: 0.734\n",
      "INFO:root:\ttask: 11\tloss: 0.33451271\tacc: 0.896\n",
      "INFO:root:\ttask: 12\tloss: 0.82175415\tacc: 0.676\n",
      "INFO:root:\ttask: 13\tloss: 0.39516725\tacc: 0.856\n",
      "INFO:root:\ttask: 14\tloss: 0.78705487\tacc: 0.674\n",
      "INFO:root:\ttask: 15\tloss: 1.59204816\tacc: 0.260\n",
      "INFO:root:\ttask: avg\tloss: 0.74955945\tacc: 0.708\n"
     ]
    },
    {
     "name": "stdout",
     "output_type": "stream",
     "text": [
      "no. current components 15 NUM_CANDIDATE_MODULES 3 len(module_list) 3\n",
      "Training from epoch 0 to epoch 20\n"
     ]
    },
    {
     "name": "stderr",
     "output_type": "stream",
     "text": [
      "INFO:root:epochs: 1, training task: 15\n",
      "INFO:root:\ttask: 0\tloss: 0.88415158\tacc: 0.656\n",
      "INFO:root:\ttask: 1\tloss: 0.47572943\tacc: 0.850\n",
      "INFO:root:\ttask: 2\tloss: 0.66240482\tacc: 0.748\n",
      "INFO:root:\ttask: 3\tloss: 1.07854694\tacc: 0.578\n",
      "INFO:root:\ttask: 4\tloss: 0.62519363\tacc: 0.750\n",
      "INFO:root:\ttask: 5\tloss: 0.73601123\tacc: 0.708\n",
      "INFO:root:\ttask: 6\tloss: 0.93701797\tacc: 0.626\n",
      "INFO:root:\ttask: 7\tloss: 0.63837155\tacc: 0.798\n",
      "INFO:root:\ttask: 8\tloss: 0.59774133\tacc: 0.780\n",
      "INFO:root:\ttask: 9\tloss: 0.70067365\tacc: 0.738\n",
      "INFO:root:\ttask: 10\tloss: 0.72657199\tacc: 0.734\n",
      "INFO:root:\ttask: 11\tloss: 0.33451271\tacc: 0.896\n",
      "INFO:root:\ttask: 12\tloss: 0.82175415\tacc: 0.676\n",
      "INFO:root:\ttask: 13\tloss: 0.39516725\tacc: 0.856\n",
      "INFO:root:\ttask: 14\tloss: 0.78705487\tacc: 0.674\n",
      "INFO:root:\ttask: 15\tloss: 1.60223682\tacc: 0.344\n",
      "INFO:root:\ttask: avg\tloss: 0.75019625\tacc: 0.713\n",
      "INFO:root:epochs: 11, training task: 15\n",
      "INFO:root:\ttask: 0\tloss: 0.88415158\tacc: 0.656\n",
      "INFO:root:\ttask: 1\tloss: 0.47572943\tacc: 0.850\n",
      "INFO:root:\ttask: 2\tloss: 0.66240482\tacc: 0.748\n",
      "INFO:root:\ttask: 3\tloss: 1.07854694\tacc: 0.578\n",
      "INFO:root:\ttask: 4\tloss: 0.62519363\tacc: 0.750\n",
      "INFO:root:\ttask: 5\tloss: 0.73601123\tacc: 0.708\n",
      "INFO:root:\ttask: 6\tloss: 0.93701797\tacc: 0.626\n",
      "INFO:root:\ttask: 7\tloss: 0.63837155\tacc: 0.798\n",
      "INFO:root:\ttask: 8\tloss: 0.59774133\tacc: 0.780\n",
      "INFO:root:\ttask: 9\tloss: 0.70067365\tacc: 0.738\n",
      "INFO:root:\ttask: 10\tloss: 0.72657199\tacc: 0.734\n",
      "INFO:root:\ttask: 11\tloss: 0.33451271\tacc: 0.896\n",
      "INFO:root:\ttask: 12\tloss: 0.82175415\tacc: 0.676\n",
      "INFO:root:\ttask: 13\tloss: 0.39516725\tacc: 0.856\n",
      "INFO:root:\ttask: 14\tloss: 0.78705487\tacc: 0.674\n",
      "INFO:root:\ttask: 15\tloss: 1.53546136\tacc: 0.586\n",
      "INFO:root:\ttask: avg\tloss: 0.74602278\tacc: 0.728\n",
      "INFO:root:candidate 15: W/update: 0.6378947368421053, WO/update: 0.5010526315789474, improv 0.2731092436974789\n",
      "INFO:root:candidate 16: W/update: 0.6042105263157894, WO/update: 0.5010526315789474, improv 0.20588235294117624\n",
      "INFO:root:candidate 17: W/update: 0.64, WO/update: 0.5010526315789474, improv 0.2773109243697478\n",
      "INFO:root:Keeping new module 17. Total: 16\n",
      "INFO:root:epochs: 21, training task: 15\n",
      "INFO:root:\ttask: 0\tloss: 0.88415158\tacc: 0.656\n",
      "INFO:root:\ttask: 1\tloss: 0.47572943\tacc: 0.850\n",
      "INFO:root:\ttask: 2\tloss: 0.66240482\tacc: 0.748\n",
      "INFO:root:\ttask: 3\tloss: 1.07854694\tacc: 0.578\n",
      "INFO:root:\ttask: 4\tloss: 0.62519363\tacc: 0.750\n",
      "INFO:root:\ttask: 5\tloss: 0.73601123\tacc: 0.708\n",
      "INFO:root:\ttask: 6\tloss: 0.93701797\tacc: 0.626\n",
      "INFO:root:\ttask: 7\tloss: 0.63837155\tacc: 0.798\n",
      "INFO:root:\ttask: 8\tloss: 0.59774133\tacc: 0.780\n",
      "INFO:root:\ttask: 9\tloss: 0.70067365\tacc: 0.738\n",
      "INFO:root:\ttask: 10\tloss: 0.72657199\tacc: 0.734\n",
      "INFO:root:\ttask: 11\tloss: 0.33451271\tacc: 0.896\n",
      "INFO:root:\ttask: 12\tloss: 0.82175415\tacc: 0.676\n",
      "INFO:root:\ttask: 13\tloss: 0.39516725\tacc: 0.856\n",
      "INFO:root:\ttask: 14\tloss: 0.78705487\tacc: 0.674\n",
      "INFO:root:\ttask: 15\tloss: 1.22630463\tacc: 0.636\n",
      "INFO:root:\ttask: avg\tloss: 0.72670048\tacc: 0.732\n",
      "INFO:root:Batch 1 perfs: [0.2731092436974789, 0.20588235294117624, 0.2773109243697478]\n",
      "INFO:root:epochs: 0, training task: 15\n",
      "INFO:root:\ttask: 0\tloss: 0.88415158\tacc: 0.656\n",
      "INFO:root:\ttask: 1\tloss: 0.47572943\tacc: 0.850\n",
      "INFO:root:\ttask: 2\tloss: 0.66240482\tacc: 0.748\n",
      "INFO:root:\ttask: 3\tloss: 1.07854694\tacc: 0.578\n",
      "INFO:root:\ttask: 4\tloss: 0.62519363\tacc: 0.750\n",
      "INFO:root:\ttask: 5\tloss: 0.73601123\tacc: 0.708\n",
      "INFO:root:\ttask: 6\tloss: 0.93701797\tacc: 0.626\n",
      "INFO:root:\ttask: 7\tloss: 0.63837155\tacc: 0.798\n",
      "INFO:root:\ttask: 8\tloss: 0.59774133\tacc: 0.780\n",
      "INFO:root:\ttask: 9\tloss: 0.70067365\tacc: 0.738\n",
      "INFO:root:\ttask: 10\tloss: 0.72657199\tacc: 0.734\n",
      "INFO:root:\ttask: 11\tloss: 0.33451271\tacc: 0.896\n",
      "INFO:root:\ttask: 12\tloss: 0.82175415\tacc: 0.676\n",
      "INFO:root:\ttask: 13\tloss: 0.39516725\tacc: 0.856\n",
      "INFO:root:\ttask: 14\tloss: 0.78705487\tacc: 0.674\n",
      "INFO:root:\ttask: 15\tloss: 1.59562476\tacc: 0.200\n",
      "INFO:root:\ttask: avg\tloss: 0.74978299\tacc: 0.704\n"
     ]
    },
    {
     "name": "stdout",
     "output_type": "stream",
     "text": [
      "no. current components 15 NUM_CANDIDATE_MODULES 3 len(module_list) 3\n",
      "Training from epoch 0 to epoch 20\n"
     ]
    },
    {
     "name": "stderr",
     "output_type": "stream",
     "text": [
      "INFO:root:epochs: 1, training task: 15\n",
      "INFO:root:\ttask: 0\tloss: 0.88415158\tacc: 0.656\n",
      "INFO:root:\ttask: 1\tloss: 0.47572943\tacc: 0.850\n",
      "INFO:root:\ttask: 2\tloss: 0.66240482\tacc: 0.748\n",
      "INFO:root:\ttask: 3\tloss: 1.07854694\tacc: 0.578\n",
      "INFO:root:\ttask: 4\tloss: 0.62519363\tacc: 0.750\n",
      "INFO:root:\ttask: 5\tloss: 0.73601123\tacc: 0.708\n",
      "INFO:root:\ttask: 6\tloss: 0.93701797\tacc: 0.626\n",
      "INFO:root:\ttask: 7\tloss: 0.63837155\tacc: 0.798\n",
      "INFO:root:\ttask: 8\tloss: 0.59774133\tacc: 0.780\n",
      "INFO:root:\ttask: 9\tloss: 0.70067365\tacc: 0.738\n",
      "INFO:root:\ttask: 10\tloss: 0.72657199\tacc: 0.734\n",
      "INFO:root:\ttask: 11\tloss: 0.33451271\tacc: 0.896\n",
      "INFO:root:\ttask: 12\tloss: 0.82175415\tacc: 0.676\n",
      "INFO:root:\ttask: 13\tloss: 0.39516725\tacc: 0.856\n",
      "INFO:root:\ttask: 14\tloss: 0.78705487\tacc: 0.674\n",
      "INFO:root:\ttask: 15\tloss: 1.60406293\tacc: 0.202\n",
      "INFO:root:\ttask: avg\tloss: 0.75031038\tacc: 0.704\n",
      "INFO:root:epochs: 11, training task: 15\n",
      "INFO:root:\ttask: 0\tloss: 0.88415158\tacc: 0.656\n",
      "INFO:root:\ttask: 1\tloss: 0.47572943\tacc: 0.850\n",
      "INFO:root:\ttask: 2\tloss: 0.66240482\tacc: 0.748\n",
      "INFO:root:\ttask: 3\tloss: 1.07854694\tacc: 0.578\n",
      "INFO:root:\ttask: 4\tloss: 0.62519363\tacc: 0.750\n",
      "INFO:root:\ttask: 5\tloss: 0.73601123\tacc: 0.708\n",
      "INFO:root:\ttask: 6\tloss: 0.93701797\tacc: 0.626\n",
      "INFO:root:\ttask: 7\tloss: 0.63837155\tacc: 0.798\n",
      "INFO:root:\ttask: 8\tloss: 0.59774133\tacc: 0.780\n",
      "INFO:root:\ttask: 9\tloss: 0.70067365\tacc: 0.738\n",
      "INFO:root:\ttask: 10\tloss: 0.72657199\tacc: 0.734\n",
      "INFO:root:\ttask: 11\tloss: 0.33451271\tacc: 0.896\n",
      "INFO:root:\ttask: 12\tloss: 0.82175415\tacc: 0.676\n",
      "INFO:root:\ttask: 13\tloss: 0.39516725\tacc: 0.856\n",
      "INFO:root:\ttask: 14\tloss: 0.78705487\tacc: 0.674\n",
      "INFO:root:\ttask: 15\tloss: 1.57661829\tacc: 0.522\n",
      "INFO:root:\ttask: avg\tloss: 0.74859509\tacc: 0.724\n",
      "INFO:root:candidate 15: W/update: 0.6736842105263158, WO/update: 0.4863157894736842, improv 0.3852813852813853\n",
      "INFO:root:candidate 16: W/update: 0.5768421052631579, WO/update: 0.4863157894736842, improv 0.18614718614718626\n",
      "INFO:root:candidate 17: W/update: 0.5810526315789474, WO/update: 0.4863157894736842, improv 0.19480519480519484\n",
      "INFO:root:Keeping new module 15. Total: 16\n",
      "INFO:root:epochs: 21, training task: 15\n",
      "INFO:root:\ttask: 0\tloss: 0.88415158\tacc: 0.656\n",
      "INFO:root:\ttask: 1\tloss: 0.47572943\tacc: 0.850\n",
      "INFO:root:\ttask: 2\tloss: 0.66240482\tacc: 0.748\n",
      "INFO:root:\ttask: 3\tloss: 1.07854694\tacc: 0.578\n",
      "INFO:root:\ttask: 4\tloss: 0.62519363\tacc: 0.750\n",
      "INFO:root:\ttask: 5\tloss: 0.73601123\tacc: 0.708\n",
      "INFO:root:\ttask: 6\tloss: 0.93701797\tacc: 0.626\n",
      "INFO:root:\ttask: 7\tloss: 0.63837155\tacc: 0.798\n",
      "INFO:root:\ttask: 8\tloss: 0.59774133\tacc: 0.780\n",
      "INFO:root:\ttask: 9\tloss: 0.70067365\tacc: 0.738\n",
      "INFO:root:\ttask: 10\tloss: 0.72657199\tacc: 0.734\n",
      "INFO:root:\ttask: 11\tloss: 0.33451271\tacc: 0.896\n",
      "INFO:root:\ttask: 12\tloss: 0.82175415\tacc: 0.676\n",
      "INFO:root:\ttask: 13\tloss: 0.39516725\tacc: 0.856\n",
      "INFO:root:\ttask: 14\tloss: 0.78705487\tacc: 0.674\n",
      "INFO:root:\ttask: 15\tloss: 1.05959097\tacc: 0.676\n",
      "INFO:root:\ttask: avg\tloss: 0.71628088\tacc: 0.734\n",
      "INFO:root:Batch 2 perfs: [0.3852813852813853, 0.18614718614718626, 0.19480519480519484]\n",
      "INFO:root:epochs: 0, training task: 15\n",
      "INFO:root:\ttask: 0\tloss: 0.88415158\tacc: 0.656\n",
      "INFO:root:\ttask: 1\tloss: 0.47572943\tacc: 0.850\n",
      "INFO:root:\ttask: 2\tloss: 0.66240482\tacc: 0.748\n",
      "INFO:root:\ttask: 3\tloss: 1.07854694\tacc: 0.578\n",
      "INFO:root:\ttask: 4\tloss: 0.62519363\tacc: 0.750\n",
      "INFO:root:\ttask: 5\tloss: 0.73601123\tacc: 0.708\n",
      "INFO:root:\ttask: 6\tloss: 0.93701797\tacc: 0.626\n",
      "INFO:root:\ttask: 7\tloss: 0.63837155\tacc: 0.798\n",
      "INFO:root:\ttask: 8\tloss: 0.59774133\tacc: 0.780\n",
      "INFO:root:\ttask: 9\tloss: 0.70067365\tacc: 0.738\n",
      "INFO:root:\ttask: 10\tloss: 0.72657199\tacc: 0.734\n",
      "INFO:root:\ttask: 11\tloss: 0.33451271\tacc: 0.896\n",
      "INFO:root:\ttask: 12\tloss: 0.82175415\tacc: 0.676\n",
      "INFO:root:\ttask: 13\tloss: 0.39516725\tacc: 0.856\n",
      "INFO:root:\ttask: 14\tloss: 0.78705487\tacc: 0.674\n",
      "INFO:root:\ttask: 15\tloss: 1.64443323\tacc: 0.196\n",
      "INFO:root:\ttask: avg\tloss: 0.75283352\tacc: 0.704\n"
     ]
    },
    {
     "name": "stdout",
     "output_type": "stream",
     "text": [
      "no. current components 15 NUM_CANDIDATE_MODULES 3 len(module_list) 3\n",
      "Training from epoch 0 to epoch 20\n"
     ]
    },
    {
     "name": "stderr",
     "output_type": "stream",
     "text": [
      "INFO:root:epochs: 1, training task: 15\n",
      "INFO:root:\ttask: 0\tloss: 0.88415158\tacc: 0.656\n",
      "INFO:root:\ttask: 1\tloss: 0.47572943\tacc: 0.850\n",
      "INFO:root:\ttask: 2\tloss: 0.66240482\tacc: 0.748\n",
      "INFO:root:\ttask: 3\tloss: 1.07854694\tacc: 0.578\n",
      "INFO:root:\ttask: 4\tloss: 0.62519363\tacc: 0.750\n",
      "INFO:root:\ttask: 5\tloss: 0.73601123\tacc: 0.708\n",
      "INFO:root:\ttask: 6\tloss: 0.93701797\tacc: 0.626\n",
      "INFO:root:\ttask: 7\tloss: 0.63837155\tacc: 0.798\n",
      "INFO:root:\ttask: 8\tloss: 0.59774133\tacc: 0.780\n",
      "INFO:root:\ttask: 9\tloss: 0.70067365\tacc: 0.738\n",
      "INFO:root:\ttask: 10\tloss: 0.72657199\tacc: 0.734\n",
      "INFO:root:\ttask: 11\tloss: 0.33451271\tacc: 0.896\n",
      "INFO:root:\ttask: 12\tloss: 0.82175415\tacc: 0.676\n",
      "INFO:root:\ttask: 13\tloss: 0.39516725\tacc: 0.856\n",
      "INFO:root:\ttask: 14\tloss: 0.78705487\tacc: 0.674\n",
      "INFO:root:\ttask: 15\tloss: 1.59968085\tacc: 0.460\n",
      "INFO:root:\ttask: avg\tloss: 0.75003650\tacc: 0.721\n",
      "Exception ignored in: <function _releaseLock at 0x7f5bdc024280>\n",
      "Traceback (most recent call last):\n",
      "  File \"/home/vlongle/miniconda3/envs/shell/lib/python3.10/logging/__init__.py\", line 228, in _releaseLock\n",
      "    def _releaseLock():\n",
      "KeyboardInterrupt: \n",
      "INFO:root:epochs: 11, training task: 15\n",
      "INFO:root:\ttask: 0\tloss: 0.88415158\tacc: 0.656\n",
      "INFO:root:\ttask: 1\tloss: 0.47572943\tacc: 0.850\n",
      "INFO:root:\ttask: 2\tloss: 0.66240482\tacc: 0.748\n",
      "INFO:root:\ttask: 3\tloss: 1.07854694\tacc: 0.578\n",
      "INFO:root:\ttask: 4\tloss: 0.62519363\tacc: 0.750\n",
      "INFO:root:\ttask: 5\tloss: 0.73601123\tacc: 0.708\n",
      "INFO:root:\ttask: 6\tloss: 0.93701797\tacc: 0.626\n",
      "INFO:root:\ttask: 7\tloss: 0.63837155\tacc: 0.798\n",
      "INFO:root:\ttask: 8\tloss: 0.59774133\tacc: 0.780\n",
      "INFO:root:\ttask: 9\tloss: 0.70067365\tacc: 0.738\n",
      "INFO:root:\ttask: 10\tloss: 0.72657199\tacc: 0.734\n",
      "INFO:root:\ttask: 11\tloss: 0.33451271\tacc: 0.896\n",
      "INFO:root:\ttask: 12\tloss: 0.82175415\tacc: 0.676\n",
      "INFO:root:\ttask: 13\tloss: 0.39516725\tacc: 0.856\n",
      "INFO:root:\ttask: 14\tloss: 0.78705487\tacc: 0.674\n",
      "INFO:root:\ttask: 15\tloss: 1.48362079\tacc: 0.646\n",
      "INFO:root:\ttask: avg\tloss: 0.74278274\tacc: 0.732\n"
     ]
    }
   ],
   "source": [
    "fleet.communicate(task_id=task_id, end_epoch=None, comm_freq=None, num_epochs=None)"
   ]
  },
  {
   "cell_type": "code",
   "execution_count": null,
   "metadata": {},
   "outputs": [],
   "source": [
    "node = fleet.agents[0]\n",
    "node.modmod_record.df"
   ]
  },
  {
   "cell_type": "code",
   "execution_count": null,
   "metadata": {},
   "outputs": [],
   "source": [
    "node.train_kwargs"
   ]
  },
  {
   "cell_type": "code",
   "execution_count": null,
   "metadata": {},
   "outputs": [],
   "source": [
    "node.modmod_record.path"
   ]
  },
  {
   "cell_type": "code",
   "execution_count": null,
   "metadata": {},
   "outputs": [],
   "source": []
  },
  {
   "cell_type": "code",
   "execution_count": null,
   "metadata": {},
   "outputs": [],
   "source": [
    "node.save_dir"
   ]
  },
  {
   "cell_type": "code",
   "execution_count": null,
   "metadata": {},
   "outputs": [],
   "source": [
    "node.incoming_modules"
   ]
  },
  {
   "cell_type": "code",
   "execution_count": null,
   "metadata": {},
   "outputs": [],
   "source": [
    "task_sims = [-0.6105588176717575, -0.6862172730042327, -0.693143989000467, -0.6848385105159178, -0.6034522980633152]\n",
    "\n",
    "most_similar_task = max(\n",
    "            range(len(task_sims)), key=lambda x: (task_sims[x], -x))\n",
    "most_similar_task"
   ]
  },
  {
   "cell_type": "code",
   "execution_count": null,
   "metadata": {},
   "outputs": [],
   "source": [
    "fleet.agents[1].outgoing_modules"
   ]
  },
  {
   "cell_type": "code",
   "execution_count": null,
   "metadata": {},
   "outputs": [],
   "source": [
    "len(node.dataset.valset[0])"
   ]
  },
  {
   "cell_type": "code",
   "execution_count": null,
   "metadata": {},
   "outputs": [],
   "source": [
    "neighbor_id = 1\n",
    "query = node.query_tasks[neighbor_id]\n",
    "fig, ax = plt.subplots(1, len(query.keys()), figsize=(10, 10))\n",
    "for i, (y, data) in enumerate(query.items()):\n",
    "    X = data['X'].cpu()\n",
    "    print(data['scores'])\n",
    "    ax[i].imshow(make_grid(X).permute(1, 2, 0));"
   ]
  },
  {
   "cell_type": "code",
   "execution_count": null,
   "metadata": {},
   "outputs": [],
   "source": [
    "from shell.fleet.mod.modmod import compute_consistency\n",
    "compute_consistency(node.net, X.to('cuda'), task_id=0)"
   ]
  },
  {
   "cell_type": "code",
   "execution_count": null,
   "metadata": {},
   "outputs": [],
   "source": [
    "node.eval_test(4)"
   ]
  },
  {
   "cell_type": "code",
   "execution_count": null,
   "metadata": {},
   "outputs": [],
   "source": [
    "with torch.no_grad():\n",
    "    node.net.eval()\n",
    "    for i, (y, data) in enumerate(query.items()):\n",
    "        X = data['X']\n",
    "        for t in range(4):\n",
    "            logits = node.net(X, t)\n",
    "            print('t:', t, 'y:', y, '\\nlogits', logits)\n",
    "    "
   ]
  },
  {
   "cell_type": "code",
   "execution_count": null,
   "metadata": {},
   "outputs": [],
   "source": [
    "node = fleet.agents[5]\n",
    "X = node.dataset.valset[3].tensors[0]\n",
    "# X = node.dataset.valset[6].tensors[0]\n",
    "plt.imshow(make_grid(X).permute(1, 2, 0));"
   ]
  },
  {
   "cell_type": "code",
   "execution_count": null,
   "metadata": {},
   "outputs": [],
   "source": [
    "print(fleet.agents[0].dataset.class_sequence)\n",
    "print(fleet.agents[1].dataset.class_sequence)"
   ]
  },
  {
   "cell_type": "code",
   "execution_count": null,
   "metadata": {},
   "outputs": [],
   "source": [
    "task_id = 3\n",
    "task = node.dataset.class_sequence[task_id *\n",
    "                                                 node.dataset.num_classes_per_task: (task_id + 1) * node.dataset.num_classes_per_task]\n",
    "task"
   ]
  },
  {
   "cell_type": "code",
   "execution_count": null,
   "metadata": {},
   "outputs": [],
   "source": [
    "node.dataset.class_sequence"
   ]
  },
  {
   "cell_type": "code",
   "execution_count": null,
   "metadata": {},
   "outputs": [],
   "source": [
    "node.incoming_modules"
   ]
  },
  {
   "cell_type": "code",
   "execution_count": null,
   "metadata": {},
   "outputs": [],
   "source": [
    "fleet.agents[1].query_tasks"
   ]
  },
  {
   "cell_type": "code",
   "execution_count": null,
   "metadata": {},
   "outputs": [],
   "source": [
    "import torch"
   ]
  },
  {
   "cell_type": "code",
   "execution_count": null,
   "metadata": {},
   "outputs": [],
   "source": [
    "dist = torch.tensor(\n",
    "    [[1, 0.5, 0.2],\n",
    "     [0.2, 0.01, -0.1]]\n",
    ")"
   ]
  },
  {
   "cell_type": "code",
   "execution_count": null,
   "metadata": {},
   "outputs": [],
   "source": [
    "dist, _ = torch.topk(dist, 2, largest=False)"
   ]
  },
  {
   "cell_type": "code",
   "execution_count": null,
   "metadata": {},
   "outputs": [],
   "source": [
    "dist"
   ]
  },
  {
   "cell_type": "code",
   "execution_count": null,
   "metadata": {},
   "outputs": [],
   "source": [
    "from torchmetrics.functional.pairwise import pairwise_cosine_similarity"
   ]
  },
  {
   "cell_type": "code",
   "execution_count": null,
   "metadata": {},
   "outputs": [],
   "source": [
    "x = torch.tensor([[2, 3], [3, 5], [5, 8]], dtype=torch.float32)"
   ]
  },
  {
   "cell_type": "code",
   "execution_count": null,
   "metadata": {},
   "outputs": [],
   "source": [
    "pairwise_cosine_similarity(x, x)"
   ]
  },
  {
   "cell_type": "code",
   "execution_count": null,
   "metadata": {},
   "outputs": [],
   "source": []
  }
 ],
 "metadata": {
  "kernelspec": {
   "display_name": "shell",
   "language": "python",
   "name": "python3"
  },
  "language_info": {
   "codemirror_mode": {
    "name": "ipython",
    "version": 3
   },
   "file_extension": ".py",
   "mimetype": "text/x-python",
   "name": "python",
   "nbconvert_exporter": "python",
   "pygments_lexer": "ipython3",
   "version": "3.10.9"
  }
 },
 "nbformat": 4,
 "nbformat_minor": 2
}
