{
 "cells": [
  {
   "cell_type": "code",
   "execution_count": 1,
   "metadata": {},
   "outputs": [],
   "source": [
    "%load_ext autoreload\n",
    "%autoreload 2"
   ]
  },
  {
   "cell_type": "code",
   "execution_count": 2,
   "metadata": {},
   "outputs": [],
   "source": [
    "import omegaconf\n",
    "from shell.utils.experiment_utils import *\n",
    "from shell.fleet.utils.fleet_utils import *\n",
    "from shell.utils.metric import *\n",
    "import matplotlib.pyplot as plt\n",
    "from shell.fleet.network import TopologyGenerator\n",
    "from sklearn.manifold import TSNE\n",
    "import numpy as np\n",
    "import pandas as pd\n",
    "from shell.fleet.fleet import Agent, Fleet\n",
    "from shell.fleet.data.data_utilize import *\n",
    "from shell.fleet.data.recv import *\n",
    "\n",
    "from sklearn.manifold import TSNE\n",
    "from torchvision.utils import make_grid\n",
    "from shell.fleet.data.data_utilize import *\n",
    "import logging\n",
    "from sklearn.metrics import f1_score\n",
    "import os\n",
    "from shell.fleet.data.recv_utils import *\n",
    "from tqdm import tqdm\n",
    "import argparse\n",
    "from functools import partial\n",
    "from torchvision.utils import make_grid\n",
    "from shell.utils.oodloss import OODSeparationLoss\n",
    "from pythresh.thresholds.dsn import DSN\n",
    "from pythresh.thresholds.aucp import AUCP\n",
    "from pythresh.thresholds.boot import BOOT\n",
    "from pythresh.thresholds.zscore import ZSCORE\n",
    "from sklearn.metrics import accuracy_score, precision_score, recall_score, f1_score\n",
    "from collections import defaultdict\n",
    "\n",
    "logging.basicConfig(level=logging.INFO)"
   ]
  },
  {
   "cell_type": "code",
   "execution_count": 3,
   "metadata": {},
   "outputs": [],
   "source": [
    "dataset = \"mnist\"\n",
    "algo = \"modular\"\n",
    "\n",
    "experiment_folder = \"experiment_results\"\n",
    "experiment_name = \"jorge_setting_lowest_task_id_wins_modmod_test_sync_base_True_opt_with_random_False_frozen_False_transfer_decoder_True_transfer_structure_True_no_sparse_basis_True\"\n",
    "\n",
    "use_contrastive = False\n",
    "num_trains_per_class = 64\n",
    "seed = 0\n",
    "num_tasks = 10\n",
    "parallel = False\n",
    "comm_freq = 2 \n",
    "\n",
    "ranker = 'instance'\n",
    "# ranker = 'label'\n",
    "\n",
    "module_select = 'tryout'\n",
    "# module_select = 'trust_sim'\n",
    "\n",
    "save_dir = get_save_dir(experiment_folder, experiment_name,\n",
    "                        dataset, algo, num_trains_per_class, use_contrastive, seed)\n"
   ]
  },
  {
   "cell_type": "code",
   "execution_count": 4,
   "metadata": {},
   "outputs": [],
   "source": [
    "def modify_cfg(net_cfg, agent_cfg, train_cfg, fleet_additional_cfg, cfg):\n",
    "    cfg.sharing_strategy['ranker'] = ranker\n",
    "    cfg.sharing_strategy['module_select'] = module_select\n",
    "    cfg.sharing_strategy['num_shared_module'] = 2\n",
    "    cfg.sharing_strategy['num_tryout_epochs'] = 1\n",
    "    # cfg.sharing_strategy['sync_base'] = False\n",
    "    # del fleet_additional_cfg['fake_dataset']\n",
    "    return net_cfg, agent_cfg, train_cfg, fleet_additional_cfg, cfg"
   ]
  },
  {
   "cell_type": "code",
   "execution_count": 8,
   "metadata": {},
   "outputs": [
    {
     "name": "stderr",
     "output_type": "stream",
     "text": [
      "INFO:root:Class sequence: [5 0 4 3 4 6 4 3 8 0 1 0 5 9 6 4 9 0 3 0]\n",
      "INFO:root:task 0 :(128, 1, 28, 28) (100, 1, 28, 28) (1872, 1, 28, 28)\n",
      "INFO:root:task 1 :(128, 1, 28, 28) (100, 1, 28, 28) (1992, 1, 28, 28)\n",
      "INFO:root:task 2 :(128, 1, 28, 28) (100, 1, 28, 28) (1940, 1, 28, 28)\n",
      "INFO:root:task 3 :(128, 1, 28, 28) (100, 1, 28, 28) (1992, 1, 28, 28)\n",
      "INFO:root:task 4 :(128, 1, 28, 28) (100, 1, 28, 28) (1954, 1, 28, 28)\n"
     ]
    },
    {
     "name": "stdout",
     "output_type": "stream",
     "text": [
      "{'train': {'component_update_freq': 100, 'num_epochs': 100, 'init_component_update_freq': 100, 'init_num_epochs': 100, 'save_freq': 10}, 'dataset': {'dataset_name': 'mnist', 'num_tasks': 10, 'num_classes_per_task': 2, 'with_replacement': True, 'num_trains_per_class': 64, 'num_vals_per_class': 50, 'remap_labels': True}, 'net': {'name': 'mlp', 'depth': 4, 'layer_size': 64, 'dropout': 0.5, 'no_sparse_basis': True}, 'sharing_strategy': {'name': 'modmod', 'num_coms_per_round': 2, 'module_selection': 'gt_most_similar', 'pre_or_post_comm': 'pre', 'opt_with_random': False, 'comm_freq': 100, 'sync_base': True, 'freeze_candidate_module': False, 'transfer_decoder': True, 'transfer_structure': True}, 'seed': 0, 'algo': 'modular', 'job_name': 'mnist_modular_numtrain_64', 'num_agents': 8, 'root_save_dir': 'experiment_results/jorge_setting_lowest_task_id_wins_modmod_test_sync_base_True_opt_with_random_False_frozen_False_transfer_decoder_True_transfer_structure_True_no_sparse_basis_True', 'parallel': True, 'num_init_tasks': 4, 'overwrite': False, 'agent': {'save_dir': '${root_save_dir}/${job_name}/${dataset.dataset_name}/${algo}/seed_${seed}', 'batch_size': 64, 'memory_size': 32, 'improvement_threshold': 0.05, 'use_contrastive': False, 'use_ood_separation_loss': False, 'lambda_ood': 2.0, 'delta_ood': 1.0}}\n",
      "Setting seed 0\n"
     ]
    },
    {
     "name": "stderr",
     "output_type": "stream",
     "text": [
      "INFO:root:task 5 :(128, 1, 28, 28) (100, 1, 28, 28) (2115, 1, 28, 28)\n",
      "INFO:root:task 6 :(128, 1, 28, 28) (100, 1, 28, 28) (1901, 1, 28, 28)\n",
      "INFO:root:task 7 :(128, 1, 28, 28) (100, 1, 28, 28) (1940, 1, 28, 28)\n",
      "INFO:root:task 8 :(128, 1, 28, 28) (100, 1, 28, 28) (1989, 1, 28, 28)\n",
      "INFO:root:task 9 :(128, 1, 28, 28) (100, 1, 28, 28) (1990, 1, 28, 28)\n",
      "INFO:root:Class sequence: [4 7 5 7 6 0 3 0 5 0 3 6 2 7 6 7 6 1 0 5]\n",
      "INFO:root:task 0 :(128, 1, 28, 28) (100, 1, 28, 28) (2010, 1, 28, 28)\n",
      "INFO:root:task 1 :(128, 1, 28, 28) (100, 1, 28, 28) (1920, 1, 28, 28)\n",
      "INFO:root:task 2 :(128, 1, 28, 28) (100, 1, 28, 28) (1938, 1, 28, 28)\n",
      "INFO:root:task 3 :(128, 1, 28, 28) (100, 1, 28, 28) (1990, 1, 28, 28)\n",
      "INFO:root:task 4 :(128, 1, 28, 28) (100, 1, 28, 28) (1872, 1, 28, 28)\n",
      "INFO:root:task 5 :(128, 1, 28, 28) (100, 1, 28, 28) (1968, 1, 28, 28)\n",
      "INFO:root:task 6 :(128, 1, 28, 28) (100, 1, 28, 28) (2060, 1, 28, 28)\n",
      "INFO:root:task 7 :(128, 1, 28, 28) (100, 1, 28, 28) (1986, 1, 28, 28)\n",
      "INFO:root:task 8 :(128, 1, 28, 28) (100, 1, 28, 28) (2093, 1, 28, 28)\n",
      "INFO:root:task 9 :(128, 1, 28, 28) (100, 1, 28, 28) (1872, 1, 28, 28)\n",
      "INFO:root:Class sequence: [6 7 7 8 4 1 1 8 6 1 6 4 5 7 8 0 2 3 0 3]\n",
      "INFO:root:task 0 :(128, 1, 28, 28) (100, 1, 28, 28) (1986, 1, 28, 28)\n",
      "INFO:root:task 1 :(128, 1, 28, 28) (100, 1, 28, 28) (2002, 1, 28, 28)\n",
      "INFO:root:task 2 :(128, 1, 28, 28) (100, 1, 28, 28) (2117, 1, 28, 28)\n",
      "INFO:root:task 3 :(128, 1, 28, 28) (100, 1, 28, 28) (2109, 1, 28, 28)\n",
      "INFO:root:task 4 :(128, 1, 28, 28) (100, 1, 28, 28) (2093, 1, 28, 28)\n",
      "INFO:root:task 5 :(128, 1, 28, 28) (100, 1, 28, 28) (1940, 1, 28, 28)\n",
      "INFO:root:task 6 :(128, 1, 28, 28) (100, 1, 28, 28) (1920, 1, 28, 28)\n",
      "INFO:root:task 7 :(128, 1, 28, 28) (100, 1, 28, 28) (1954, 1, 28, 28)\n",
      "INFO:root:task 8 :(128, 1, 28, 28) (100, 1, 28, 28) (2042, 1, 28, 28)\n",
      "INFO:root:task 9 :(128, 1, 28, 28) (100, 1, 28, 28) (1990, 1, 28, 28)\n",
      "INFO:root:Class sequence: [2 8 0 3 7 4 3 4 4 5 9 3 0 6 9 1 3 1 7 9]\n",
      "INFO:root:task 0 :(128, 1, 28, 28) (100, 1, 28, 28) (2006, 1, 28, 28)\n",
      "INFO:root:task 1 :(128, 1, 28, 28) (100, 1, 28, 28) (1990, 1, 28, 28)\n",
      "INFO:root:task 2 :(128, 1, 28, 28) (100, 1, 28, 28) (2010, 1, 28, 28)\n",
      "INFO:root:task 3 :(128, 1, 28, 28) (100, 1, 28, 28) (1992, 1, 28, 28)\n",
      "INFO:root:task 4 :(128, 1, 28, 28) (100, 1, 28, 28) (1874, 1, 28, 28)\n",
      "INFO:root:task 5 :(128, 1, 28, 28) (100, 1, 28, 28) (2019, 1, 28, 28)\n",
      "INFO:root:task 6 :(128, 1, 28, 28) (100, 1, 28, 28) (1938, 1, 28, 28)\n",
      "INFO:root:task 7 :(128, 1, 28, 28) (100, 1, 28, 28) (2144, 1, 28, 28)\n",
      "INFO:root:task 8 :(128, 1, 28, 28) (100, 1, 28, 28) (2145, 1, 28, 28)\n",
      "INFO:root:task 9 :(128, 1, 28, 28) (100, 1, 28, 28) (2037, 1, 28, 28)\n",
      "INFO:root:Class sequence: [0 3 0 2 9 7 0 9 2 1 7 6 8 6 1 8 6 4 9 8]\n",
      "INFO:root:task 0 :(128, 1, 28, 28) (100, 1, 28, 28) (1990, 1, 28, 28)\n",
      "INFO:root:task 1 :(128, 1, 28, 28) (100, 1, 28, 28) (2012, 1, 28, 28)\n",
      "INFO:root:task 2 :(128, 1, 28, 28) (100, 1, 28, 28) (2037, 1, 28, 28)\n",
      "INFO:root:task 3 :(128, 1, 28, 28) (100, 1, 28, 28) (1989, 1, 28, 28)\n",
      "INFO:root:task 4 :(128, 1, 28, 28) (100, 1, 28, 28) (2167, 1, 28, 28)\n",
      "INFO:root:task 5 :(128, 1, 28, 28) (100, 1, 28, 28) (1986, 1, 28, 28)\n",
      "INFO:root:task 6 :(128, 1, 28, 28) (100, 1, 28, 28) (1932, 1, 28, 28)\n",
      "INFO:root:task 7 :(128, 1, 28, 28) (100, 1, 28, 28) (2109, 1, 28, 28)\n",
      "INFO:root:task 8 :(128, 1, 28, 28) (100, 1, 28, 28) (1940, 1, 28, 28)\n",
      "INFO:root:task 9 :(128, 1, 28, 28) (100, 1, 28, 28) (1983, 1, 28, 28)\n",
      "INFO:root:Class sequence: [8 4 6 3 3 1 1 6 4 9 3 2 2 9 6 0 5 9 7 2]\n",
      "INFO:root:task 0 :(128, 1, 28, 28) (100, 1, 28, 28) (1956, 1, 28, 28)\n",
      "INFO:root:task 1 :(128, 1, 28, 28) (100, 1, 28, 28) (1968, 1, 28, 28)\n",
      "INFO:root:task 2 :(128, 1, 28, 28) (100, 1, 28, 28) (2145, 1, 28, 28)\n",
      "INFO:root:task 3 :(128, 1, 28, 28) (100, 1, 28, 28) (2093, 1, 28, 28)\n",
      "INFO:root:task 4 :(128, 1, 28, 28) (100, 1, 28, 28) (1991, 1, 28, 28)\n",
      "INFO:root:task 5 :(128, 1, 28, 28) (100, 1, 28, 28) (2042, 1, 28, 28)\n",
      "INFO:root:task 6 :(128, 1, 28, 28) (100, 1, 28, 28) (2041, 1, 28, 28)\n",
      "INFO:root:task 7 :(128, 1, 28, 28) (100, 1, 28, 28) (1938, 1, 28, 28)\n",
      "INFO:root:task 8 :(128, 1, 28, 28) (100, 1, 28, 28) (1901, 1, 28, 28)\n",
      "INFO:root:task 9 :(128, 1, 28, 28) (100, 1, 28, 28) (2060, 1, 28, 28)\n",
      "INFO:root:Class sequence: [7 5 8 4 6 9 8 3 4 6 1 3 3 1 4 1 9 2 6 2]\n",
      "INFO:root:task 0 :(128, 1, 28, 28) (100, 1, 28, 28) (1920, 1, 28, 28)\n",
      "INFO:root:task 1 :(128, 1, 28, 28) (100, 1, 28, 28) (1956, 1, 28, 28)\n",
      "INFO:root:task 2 :(128, 1, 28, 28) (100, 1, 28, 28) (1967, 1, 28, 28)\n",
      "INFO:root:task 3 :(128, 1, 28, 28) (100, 1, 28, 28) (1984, 1, 28, 28)\n",
      "INFO:root:task 4 :(128, 1, 28, 28) (100, 1, 28, 28) (1940, 1, 28, 28)\n",
      "INFO:root:task 5 :(128, 1, 28, 28) (100, 1, 28, 28) (2145, 1, 28, 28)\n",
      "INFO:root:task 6 :(128, 1, 28, 28) (100, 1, 28, 28) (2145, 1, 28, 28)\n",
      "INFO:root:task 7 :(128, 1, 28, 28) (100, 1, 28, 28) (2117, 1, 28, 28)\n",
      "INFO:root:task 8 :(128, 1, 28, 28) (100, 1, 28, 28) (2041, 1, 28, 28)\n",
      "INFO:root:task 9 :(128, 1, 28, 28) (100, 1, 28, 28) (1990, 1, 28, 28)\n",
      "INFO:root:Class sequence: [5 1 8 3 9 6 5 9 5 0 7 2 7 8 6 1 6 0 0 6]\n",
      "INFO:root:task 0 :(128, 1, 28, 28) (100, 1, 28, 28) (2027, 1, 28, 28)\n",
      "INFO:root:task 1 :(128, 1, 28, 28) (100, 1, 28, 28) (1984, 1, 28, 28)\n",
      "INFO:root:task 2 :(128, 1, 28, 28) (100, 1, 28, 28) (1967, 1, 28, 28)\n",
      "INFO:root:task 3 :(128, 1, 28, 28) (100, 1, 28, 28) (1901, 1, 28, 28)\n",
      "INFO:root:task 4 :(128, 1, 28, 28) (100, 1, 28, 28) (1872, 1, 28, 28)\n",
      "INFO:root:task 5 :(128, 1, 28, 28) (100, 1, 28, 28) (2060, 1, 28, 28)\n",
      "INFO:root:task 6 :(128, 1, 28, 28) (100, 1, 28, 28) (2002, 1, 28, 28)\n",
      "INFO:root:task 7 :(128, 1, 28, 28) (100, 1, 28, 28) (2093, 1, 28, 28)\n",
      "INFO:root:task 8 :(128, 1, 28, 28) (100, 1, 28, 28) (1938, 1, 28, 28)\n",
      "INFO:root:task 9 :(128, 1, 28, 28) (100, 1, 28, 28) (1938, 1, 28, 28)\n",
      "INFO:root:Class sequence: [7 0 8 4 8 3 3 9 6 4 3 2 4 6 7 4 9 0 3 1]\n",
      "INFO:root:task 0 :(128, 1, 28, 28) (100, 1, 28, 28) (2008, 1, 28, 28)\n",
      "INFO:root:task 1 :(128, 1, 28, 28) (100, 1, 28, 28) (1956, 1, 28, 28)\n",
      "INFO:root:task 2 :(128, 1, 28, 28) (100, 1, 28, 28) (1984, 1, 28, 28)\n",
      "INFO:root:task 3 :(128, 1, 28, 28) (100, 1, 28, 28) (2019, 1, 28, 28)\n",
      "INFO:root:task 4 :(128, 1, 28, 28) (100, 1, 28, 28) (1940, 1, 28, 28)\n",
      "INFO:root:task 5 :(128, 1, 28, 28) (100, 1, 28, 28) (2042, 1, 28, 28)\n",
      "INFO:root:task 6 :(128, 1, 28, 28) (100, 1, 28, 28) (1940, 1, 28, 28)\n"
     ]
    },
    {
     "name": "stdout",
     "output_type": "stream",
     "text": [
      "i_size 28\n",
      "num_classes 2\n",
      "net_cfg {'name': 'mlp', 'depth': 4, 'layer_size': 64, 'dropout': 0.5, 'no_sparse_basis': True, 'i_size': 28, 'num_classes': 2, 'num_tasks': 10, 'num_init_tasks': 4, 'use_contrastive': False}\n",
      "<class 'shell.learners.er_dynamic.CompositionalDynamicER'>\n"
     ]
    },
    {
     "name": "stderr",
     "output_type": "stream",
     "text": [
      "INFO:root:task 7 :(128, 1, 28, 28) (100, 1, 28, 28) (2010, 1, 28, 28)\n",
      "INFO:root:task 8 :(128, 1, 28, 28) (100, 1, 28, 28) (1989, 1, 28, 28)\n",
      "INFO:root:task 9 :(128, 1, 28, 28) (100, 1, 28, 28) (2145, 1, 28, 28)\n",
      "INFO:root:Agent: node_id: 69420, seed: 69420000\n",
      "INFO:root:Agent: node_id: 0, seed: 0\n",
      "INFO:root:Agent: node_id: 1, seed: 1000\n",
      "INFO:root:Agent: node_id: 2, seed: 2000\n",
      "INFO:root:Agent: node_id: 3, seed: 3000\n",
      "INFO:root:Agent: node_id: 4, seed: 4000\n",
      "INFO:root:Agent: node_id: 5, seed: 5000\n",
      "INFO:root:Agent: node_id: 6, seed: 6000\n",
      "INFO:root:Agent: node_id: 7, seed: 7000\n",
      "INFO:root:Created fleet with 8 agents\n",
      "INFO:root:Adding neighbors...\n",
      "INFO:root:Fleet initialized\n"
     ]
    },
    {
     "name": "stdout",
     "output_type": "stream",
     "text": [
      "Setting seed 69420000\n",
      "Setting seed 0\n",
      "Setting seed 1000\n",
      "Setting seed 2000\n",
      "Setting seed 3000\n",
      "Setting seed 4000\n",
      "Setting seed 5000\n",
      "Setting seed 6000\n",
      "Setting seed 7000\n"
     ]
    }
   ],
   "source": [
    "fleet = setup_fleet(save_dir, task_id=4, parallel=False,\n",
    "                    modify_cfg=modify_cfg)"
   ]
  },
  {
   "cell_type": "code",
   "execution_count": 9,
   "metadata": {},
   "outputs": [
    {
     "data": {
      "text/plain": [
       "[{0: 0.9905378486055777,\n",
       "  1: 0.9488752556237219,\n",
       "  2: 0.9198588709677419,\n",
       "  3: 0.9593858345715701,\n",
       "  4: 0.9263050153531218,\n",
       "  5: 0.5366430260047281,\n",
       "  'avg': 0.8802676418544103},\n",
       " {0: 0.9895418326693227,\n",
       "  1: 0.9452965235173824,\n",
       "  2: 0.9198588709677419,\n",
       "  3: 0.9593858345715701,\n",
       "  4: 0.655448717948718,\n",
       "  5: 0.5132113821138211,\n",
       "  'avg': 0.8304571936314261},\n",
       " {0: 0.9895418326693227,\n",
       "  1: 0.9468302658486708,\n",
       "  2: 0.9198588709677419,\n",
       "  3: 0.9583952451708767,\n",
       "  4: 0.7424749163879598,\n",
       "  5: 0.49381443298969074,\n",
       "  'avg': 0.8418192606723771},\n",
       " {0: 0.9880478087649402,\n",
       "  1: 0.9493865030674846,\n",
       "  2: 0.9173387096774194,\n",
       "  3: 0.9574046557701833,\n",
       "  4: 0.8831376734258272,\n",
       "  5: 0.49975235264982665,\n",
       "  'avg': 0.8658446172259469},\n",
       " {0: 0.9890438247011952,\n",
       "  1: 0.9488752556237219,\n",
       "  2: 0.9188508064516129,\n",
       "  3: 0.9598811292719168,\n",
       "  4: 0.95523765574527,\n",
       "  5: 0.5176233635448136,\n",
       "  'avg': 0.8815853392230882},\n",
       " {0: 0.9895418326693227,\n",
       "  1: 0.9493865030674846,\n",
       "  2: 0.9173387096774194,\n",
       "  3: 0.9598811292719168,\n",
       "  4: 0.645906579608237,\n",
       "  5: 0.49461312438785504,\n",
       "  'avg': 0.826111313113706},\n",
       " {0: 0.9895418326693227,\n",
       "  1: 0.9504089979550102,\n",
       "  2: 0.9193548387096774,\n",
       "  3: 0.9554234769687965,\n",
       "  4: 0.9623711340206186,\n",
       "  5: 0.5291375291375291,\n",
       "  'avg': 0.8843729682434924},\n",
       " {0: 0.9875498007968128,\n",
       "  1: 0.946319018404908,\n",
       "  2: 0.9203629032258065,\n",
       "  3: 0.9603764239722635,\n",
       "  4: 0.8862179487179487,\n",
       "  5: 0.49902912621359224,\n",
       "  'avg': 0.8666425368885554}]"
      ]
     },
     "execution_count": 9,
     "metadata": {},
     "output_type": "execute_result"
    }
   ],
   "source": [
    "fleet.eval_test(task_id=5)"
   ]
  },
  {
   "cell_type": "code",
   "execution_count": 10,
   "metadata": {},
   "outputs": [],
   "source": [
    "fleet.change_save_dir('task_similarity_engineering_experiment_results')"
   ]
  },
  {
   "cell_type": "code",
   "execution_count": 11,
   "metadata": {},
   "outputs": [
    {
     "name": "stderr",
     "output_type": "stream",
     "text": [
      "INFO:root:epochs: 0, training task: 5\n",
      "INFO:root:\ttask: 0\tloss: 0.03743382\tacc: 0.991\n",
      "INFO:root:\ttask: 1\tloss: 0.22928971\tacc: 0.949\n",
      "INFO:root:\ttask: 2\tloss: 0.33064962\tacc: 0.920\n",
      "INFO:root:\ttask: 3\tloss: 0.20791444\tacc: 0.959\n",
      "INFO:root:\ttask: 4\tloss: 0.27937189\tacc: 0.926\n",
      "INFO:root:\ttask: 5\tloss: 0.40082524\tacc: 0.983\n",
      "INFO:root:\ttask: avg\tloss: 0.24758079\tacc: 0.955\n"
     ]
    },
    {
     "name": "stdout",
     "output_type": "stream",
     "text": [
      "no. current components 5 NUM_CANDIDATE_MODULES 1 len(module_list) 1\n"
     ]
    },
    {
     "name": "stderr",
     "output_type": "stream",
     "text": [
      "INFO:root:epochs: 1, training task: 5\n",
      "INFO:root:\ttask: 0\tloss: 0.03743382\tacc: 0.991\n",
      "INFO:root:\ttask: 1\tloss: 0.22928971\tacc: 0.949\n",
      "INFO:root:\ttask: 2\tloss: 0.33064962\tacc: 0.920\n",
      "INFO:root:\ttask: 3\tloss: 0.20791444\tacc: 0.959\n",
      "INFO:root:\ttask: 4\tloss: 0.27937189\tacc: 0.926\n",
      "INFO:root:\ttask: 5\tloss: 0.52011716\tacc: 0.986\n",
      "INFO:root:\ttask: avg\tloss: 0.26746277\tacc: 0.955\n",
      "INFO:root:candidate 5: W/update: 0.97, WO/update: 0.95, improv 0.02105263157894739\n",
      "INFO:root:Not keeping any new modules. Total: 5\n",
      "INFO:root:epochs: 2, training task: 5\n",
      "INFO:root:\ttask: 0\tloss: 0.03743382\tacc: 0.991\n",
      "INFO:root:\ttask: 1\tloss: 0.22928971\tacc: 0.949\n",
      "INFO:root:\ttask: 2\tloss: 0.33064962\tacc: 0.920\n",
      "INFO:root:\ttask: 3\tloss: 0.20791444\tacc: 0.959\n",
      "INFO:root:\ttask: 4\tloss: 0.27937189\tacc: 0.926\n",
      "INFO:root:\ttask: 5\tloss: 0.38979909\tacc: 0.987\n",
      "INFO:root:\ttask: avg\tloss: 0.24574310\tacc: 0.955\n",
      "INFO:root:final components: 5\n",
      "INFO:root:epochs: 0, training task: 5\n",
      "INFO:root:\ttask: 0\tloss: 0.03743382\tacc: 0.991\n",
      "INFO:root:\ttask: 1\tloss: 0.22928971\tacc: 0.949\n",
      "INFO:root:\ttask: 2\tloss: 0.33064962\tacc: 0.920\n",
      "INFO:root:\ttask: 3\tloss: 0.20791444\tacc: 0.959\n",
      "INFO:root:\ttask: 4\tloss: 0.27937189\tacc: 0.926\n",
      "INFO:root:\ttask: 5\tloss: 0.69314748\tacc: 0.537\n",
      "INFO:root:\ttask: avg\tloss: 0.29630116\tacc: 0.880\n"
     ]
    },
    {
     "name": "stdout",
     "output_type": "stream",
     "text": [
      "no. current components 5 NUM_CANDIDATE_MODULES 1 len(module_list) 1\n"
     ]
    },
    {
     "name": "stderr",
     "output_type": "stream",
     "text": [
      "INFO:root:epochs: 1, training task: 5\n",
      "INFO:root:\ttask: 0\tloss: 0.03743382\tacc: 0.991\n",
      "INFO:root:\ttask: 1\tloss: 0.22928971\tacc: 0.949\n",
      "INFO:root:\ttask: 2\tloss: 0.33064962\tacc: 0.920\n",
      "INFO:root:\ttask: 3\tloss: 0.20791444\tacc: 0.959\n",
      "INFO:root:\ttask: 4\tloss: 0.27937189\tacc: 0.926\n",
      "INFO:root:\ttask: 5\tloss: 0.68785165\tacc: 0.463\n",
      "INFO:root:\ttask: avg\tloss: 0.29541852\tacc: 0.868\n",
      "INFO:root:candidate 5: W/update: 0.46, WO/update: 0.46, improv 0.0\n",
      "INFO:root:Not keeping any new modules. Total: 5\n",
      "INFO:root:epochs: 2, training task: 5\n",
      "INFO:root:\ttask: 0\tloss: 0.03743382\tacc: 0.991\n",
      "INFO:root:\ttask: 1\tloss: 0.22928971\tacc: 0.949\n",
      "INFO:root:\ttask: 2\tloss: 0.33064962\tacc: 0.920\n",
      "INFO:root:\ttask: 3\tloss: 0.20791444\tacc: 0.959\n",
      "INFO:root:\ttask: 4\tloss: 0.27937189\tacc: 0.926\n",
      "INFO:root:\ttask: 5\tloss: 0.67938246\tacc: 0.463\n",
      "INFO:root:\ttask: avg\tloss: 0.29400699\tacc: 0.868\n",
      "INFO:root:final components: 5\n",
      "INFO:root:epochs: 0, training task: 5\n",
      "INFO:root:\ttask: 0\tloss: 0.03743382\tacc: 0.991\n",
      "INFO:root:\ttask: 1\tloss: 0.22928971\tacc: 0.949\n",
      "INFO:root:\ttask: 2\tloss: 0.33064962\tacc: 0.920\n",
      "INFO:root:\ttask: 3\tloss: 0.20791444\tacc: 0.959\n",
      "INFO:root:\ttask: 4\tloss: 0.27937189\tacc: 0.926\n",
      "INFO:root:\ttask: 5\tloss: 0.69314748\tacc: 0.537\n",
      "INFO:root:\ttask: avg\tloss: 0.29630116\tacc: 0.880\n"
     ]
    },
    {
     "name": "stdout",
     "output_type": "stream",
     "text": [
      "no. current components 5 NUM_CANDIDATE_MODULES 1 len(module_list) 1\n"
     ]
    },
    {
     "name": "stderr",
     "output_type": "stream",
     "text": [
      "INFO:root:epochs: 1, training task: 5\n",
      "INFO:root:\ttask: 0\tloss: 0.03743382\tacc: 0.991\n",
      "INFO:root:\ttask: 1\tloss: 0.22928971\tacc: 0.949\n",
      "INFO:root:\ttask: 2\tloss: 0.33064962\tacc: 0.920\n",
      "INFO:root:\ttask: 3\tloss: 0.20791444\tacc: 0.959\n",
      "INFO:root:\ttask: 4\tloss: 0.27937189\tacc: 0.926\n",
      "INFO:root:\ttask: 5\tloss: 0.68987559\tacc: 0.463\n",
      "INFO:root:\ttask: avg\tloss: 0.29575585\tacc: 0.868\n",
      "INFO:root:candidate 5: W/update: 0.46, WO/update: 0.46, improv 0.0\n",
      "INFO:root:Not keeping any new modules. Total: 5\n",
      "INFO:root:epochs: 2, training task: 5\n",
      "INFO:root:\ttask: 0\tloss: 0.03743382\tacc: 0.991\n",
      "INFO:root:\ttask: 1\tloss: 0.22928971\tacc: 0.949\n",
      "INFO:root:\ttask: 2\tloss: 0.33064962\tacc: 0.920\n",
      "INFO:root:\ttask: 3\tloss: 0.20791444\tacc: 0.959\n",
      "INFO:root:\ttask: 4\tloss: 0.27937189\tacc: 0.926\n",
      "INFO:root:\ttask: 5\tloss: 0.68153071\tacc: 0.463\n",
      "INFO:root:\ttask: avg\tloss: 0.29436503\tacc: 0.868\n",
      "INFO:root:final components: 5\n",
      "INFO:root:epochs: 0, training task: 5\n",
      "INFO:root:\ttask: 0\tloss: 0.03743382\tacc: 0.991\n",
      "INFO:root:\ttask: 1\tloss: 0.22928971\tacc: 0.949\n",
      "INFO:root:\ttask: 2\tloss: 0.33064962\tacc: 0.920\n",
      "INFO:root:\ttask: 3\tloss: 0.20791444\tacc: 0.959\n",
      "INFO:root:\ttask: 4\tloss: 0.27937189\tacc: 0.926\n",
      "INFO:root:\ttask: 5\tloss: 0.42741986\tacc: 0.883\n",
      "INFO:root:\ttask: avg\tloss: 0.25201322\tacc: 0.938\n"
     ]
    },
    {
     "name": "stdout",
     "output_type": "stream",
     "text": [
      "no. current components 5 NUM_CANDIDATE_MODULES 1 len(module_list) 1\n"
     ]
    },
    {
     "name": "stderr",
     "output_type": "stream",
     "text": [
      "INFO:root:epochs: 1, training task: 5\n",
      "INFO:root:\ttask: 0\tloss: 0.03743382\tacc: 0.991\n",
      "INFO:root:\ttask: 1\tloss: 0.22928971\tacc: 0.949\n",
      "INFO:root:\ttask: 2\tloss: 0.33064962\tacc: 0.920\n",
      "INFO:root:\ttask: 3\tloss: 0.20791444\tacc: 0.959\n",
      "INFO:root:\ttask: 4\tloss: 0.27937189\tacc: 0.926\n",
      "INFO:root:\ttask: 5\tloss: 0.52258029\tacc: 0.991\n",
      "INFO:root:\ttask: avg\tloss: 0.26787330\tacc: 0.956\n",
      "INFO:root:candidate 5: W/update: 0.97, WO/update: 0.97, improv 0.0\n",
      "INFO:root:Not keeping any new modules. Total: 5\n",
      "INFO:root:epochs: 2, training task: 5\n",
      "INFO:root:\ttask: 0\tloss: 0.03743382\tacc: 0.991\n",
      "INFO:root:\ttask: 1\tloss: 0.22928971\tacc: 0.949\n",
      "INFO:root:\ttask: 2\tloss: 0.33064962\tacc: 0.920\n",
      "INFO:root:\ttask: 3\tloss: 0.20791444\tacc: 0.959\n",
      "INFO:root:\ttask: 4\tloss: 0.27937189\tacc: 0.926\n",
      "INFO:root:\ttask: 5\tloss: 0.41000408\tacc: 0.945\n",
      "INFO:root:\ttask: avg\tloss: 0.24911059\tacc: 0.948\n",
      "INFO:root:final components: 5\n"
     ]
    },
    {
     "name": "stdout",
     "output_type": "stream",
     "text": [
      "perfs [0.9553661446124875, 0.8680532998528343, 0.8680532998528343, 0.9482739460309273]\n"
     ]
    },
    {
     "name": "stderr",
     "output_type": "stream",
     "text": [
      "INFO:root:epochs: 0, training task: 5\n",
      "INFO:root:\ttask: 0\tloss: 0.04575839\tacc: 0.990\n",
      "INFO:root:\ttask: 1\tloss: 0.23539225\tacc: 0.945\n",
      "INFO:root:\ttask: 2\tloss: 0.32810436\tacc: 0.920\n",
      "INFO:root:\ttask: 3\tloss: 0.20965470\tacc: 0.959\n",
      "INFO:root:\ttask: 4\tloss: 0.57740766\tacc: 0.655\n",
      "INFO:root:\ttask: 5\tloss: 0.69314745\tacc: 0.513\n",
      "INFO:root:\ttask: avg\tloss: 0.34824414\tacc: 0.830\n"
     ]
    },
    {
     "name": "stdout",
     "output_type": "stream",
     "text": [
      "no. current components 4 NUM_CANDIDATE_MODULES 1 len(module_list) 1\n"
     ]
    },
    {
     "name": "stderr",
     "output_type": "stream",
     "text": [
      "INFO:root:epochs: 1, training task: 5\n",
      "INFO:root:\ttask: 0\tloss: 0.04575839\tacc: 0.990\n",
      "INFO:root:\ttask: 1\tloss: 0.23539225\tacc: 0.945\n",
      "INFO:root:\ttask: 2\tloss: 0.32810436\tacc: 0.920\n",
      "INFO:root:\ttask: 3\tloss: 0.20965470\tacc: 0.959\n",
      "INFO:root:\ttask: 4\tloss: 0.57740766\tacc: 0.655\n",
      "INFO:root:\ttask: 5\tloss: 0.69609739\tacc: 0.487\n",
      "INFO:root:\ttask: avg\tloss: 0.34873579\tacc: 0.826\n",
      "INFO:root:candidate 4: W/update: 0.46, WO/update: 0.46, improv 0.0\n",
      "INFO:root:Not keeping any new modules. Total: 4\n",
      "INFO:root:epochs: 2, training task: 5\n",
      "INFO:root:\ttask: 0\tloss: 0.04575839\tacc: 0.990\n",
      "INFO:root:\ttask: 1\tloss: 0.23539225\tacc: 0.945\n",
      "INFO:root:\ttask: 2\tloss: 0.32810436\tacc: 0.920\n",
      "INFO:root:\ttask: 3\tloss: 0.20965470\tacc: 0.959\n",
      "INFO:root:\ttask: 4\tloss: 0.57740766\tacc: 0.655\n",
      "INFO:root:\ttask: 5\tloss: 0.69632827\tacc: 0.487\n",
      "INFO:root:\ttask: avg\tloss: 0.34877427\tacc: 0.826\n",
      "INFO:root:final components: 4\n",
      "INFO:root:epochs: 0, training task: 5\n",
      "INFO:root:\ttask: 0\tloss: 0.04575839\tacc: 0.990\n",
      "INFO:root:\ttask: 1\tloss: 0.23539225\tacc: 0.945\n",
      "INFO:root:\ttask: 2\tloss: 0.32810436\tacc: 0.920\n",
      "INFO:root:\ttask: 3\tloss: 0.20965470\tacc: 0.959\n",
      "INFO:root:\ttask: 4\tloss: 0.57740766\tacc: 0.655\n",
      "INFO:root:\ttask: 5\tloss: 0.69314745\tacc: 0.513\n",
      "INFO:root:\ttask: avg\tloss: 0.34824414\tacc: 0.830\n"
     ]
    },
    {
     "name": "stdout",
     "output_type": "stream",
     "text": [
      "no. current components 4 NUM_CANDIDATE_MODULES 1 len(module_list) 1\n"
     ]
    },
    {
     "name": "stderr",
     "output_type": "stream",
     "text": [
      "INFO:root:epochs: 1, training task: 5\n",
      "INFO:root:\ttask: 0\tloss: 0.04575839\tacc: 0.990\n",
      "INFO:root:\ttask: 1\tloss: 0.23539225\tacc: 0.945\n",
      "INFO:root:\ttask: 2\tloss: 0.32810436\tacc: 0.920\n",
      "INFO:root:\ttask: 3\tloss: 0.20965470\tacc: 0.959\n",
      "INFO:root:\ttask: 4\tloss: 0.57740766\tacc: 0.655\n",
      "INFO:root:\ttask: 5\tloss: 0.69496316\tacc: 0.487\n",
      "INFO:root:\ttask: avg\tloss: 0.34854675\tacc: 0.826\n",
      "INFO:root:candidate 4: W/update: 0.46, WO/update: 0.46, improv 0.0\n",
      "INFO:root:Not keeping any new modules. Total: 4\n",
      "INFO:root:epochs: 2, training task: 5\n",
      "INFO:root:\ttask: 0\tloss: 0.04575839\tacc: 0.990\n",
      "INFO:root:\ttask: 1\tloss: 0.23539225\tacc: 0.945\n",
      "INFO:root:\ttask: 2\tloss: 0.32810436\tacc: 0.920\n",
      "INFO:root:\ttask: 3\tloss: 0.20965470\tacc: 0.959\n",
      "INFO:root:\ttask: 4\tloss: 0.57740766\tacc: 0.655\n",
      "INFO:root:\ttask: 5\tloss: 0.70023480\tacc: 0.487\n",
      "INFO:root:\ttask: avg\tloss: 0.34942536\tacc: 0.826\n",
      "INFO:root:final components: 4\n",
      "INFO:root:epochs: 0, training task: 5\n",
      "INFO:root:\ttask: 0\tloss: 0.04575839\tacc: 0.990\n",
      "INFO:root:\ttask: 1\tloss: 0.23539225\tacc: 0.945\n",
      "INFO:root:\ttask: 2\tloss: 0.32810436\tacc: 0.920\n",
      "INFO:root:\ttask: 3\tloss: 0.20965470\tacc: 0.959\n",
      "INFO:root:\ttask: 4\tloss: 0.57740766\tacc: 0.655\n",
      "INFO:root:\ttask: 5\tloss: 0.69314745\tacc: 0.513\n",
      "INFO:root:\ttask: avg\tloss: 0.34824414\tacc: 0.830\n"
     ]
    },
    {
     "name": "stdout",
     "output_type": "stream",
     "text": [
      "no. current components 4 NUM_CANDIDATE_MODULES 1 len(module_list) 1\n"
     ]
    },
    {
     "name": "stderr",
     "output_type": "stream",
     "text": [
      "INFO:root:epochs: 1, training task: 5\n",
      "INFO:root:\ttask: 0\tloss: 0.04575839\tacc: 0.990\n",
      "INFO:root:\ttask: 1\tloss: 0.23539225\tacc: 0.945\n",
      "INFO:root:\ttask: 2\tloss: 0.32810436\tacc: 0.920\n",
      "INFO:root:\ttask: 3\tloss: 0.20965470\tacc: 0.959\n",
      "INFO:root:\ttask: 4\tloss: 0.57740766\tacc: 0.655\n",
      "INFO:root:\ttask: 5\tloss: 0.69531181\tacc: 0.487\n",
      "INFO:root:\ttask: avg\tloss: 0.34860486\tacc: 0.826\n",
      "INFO:root:candidate 4: W/update: 0.46, WO/update: 0.46, improv 0.0\n",
      "INFO:root:Not keeping any new modules. Total: 4\n",
      "INFO:root:epochs: 2, training task: 5\n",
      "INFO:root:\ttask: 0\tloss: 0.04575839\tacc: 0.990\n",
      "INFO:root:\ttask: 1\tloss: 0.23539225\tacc: 0.945\n",
      "INFO:root:\ttask: 2\tloss: 0.32810436\tacc: 0.920\n",
      "INFO:root:\ttask: 3\tloss: 0.20965470\tacc: 0.959\n",
      "INFO:root:\ttask: 4\tloss: 0.57740766\tacc: 0.655\n",
      "INFO:root:\ttask: 5\tloss: 0.70190844\tacc: 0.487\n",
      "INFO:root:\ttask: avg\tloss: 0.34970430\tacc: 0.826\n",
      "INFO:root:final components: 4\n",
      "INFO:root:epochs: 0, training task: 5\n",
      "INFO:root:\ttask: 0\tloss: 0.04575839\tacc: 0.990\n",
      "INFO:root:\ttask: 1\tloss: 0.23539225\tacc: 0.945\n",
      "INFO:root:\ttask: 2\tloss: 0.32810436\tacc: 0.920\n",
      "INFO:root:\ttask: 3\tloss: 0.20965470\tacc: 0.959\n",
      "INFO:root:\ttask: 4\tloss: 0.57740766\tacc: 0.655\n",
      "INFO:root:\ttask: 5\tloss: 0.71843847\tacc: 0.487\n",
      "INFO:root:\ttask: avg\tloss: 0.35245930\tacc: 0.826\n"
     ]
    },
    {
     "name": "stdout",
     "output_type": "stream",
     "text": [
      "no. current components 4 NUM_CANDIDATE_MODULES 1 len(module_list) 1\n"
     ]
    },
    {
     "name": "stderr",
     "output_type": "stream",
     "text": [
      "INFO:root:epochs: 1, training task: 5\n",
      "INFO:root:\ttask: 0\tloss: 0.04575839\tacc: 0.990\n",
      "INFO:root:\ttask: 1\tloss: 0.23539225\tacc: 0.945\n",
      "INFO:root:\ttask: 2\tloss: 0.32810436\tacc: 0.920\n",
      "INFO:root:\ttask: 3\tloss: 0.20965470\tacc: 0.959\n",
      "INFO:root:\ttask: 4\tloss: 0.57740766\tacc: 0.655\n",
      "INFO:root:\ttask: 5\tloss: 0.69777329\tacc: 0.597\n",
      "INFO:root:\ttask: avg\tloss: 0.34901511\tacc: 0.844\n",
      "INFO:root:candidate 4: W/update: 0.63, WO/update: 0.46, improv 0.3695652173913043\n",
      "INFO:root:Keeping new module 4. Total: 5\n",
      "INFO:root:epochs: 2, training task: 5\n",
      "INFO:root:\ttask: 0\tloss: 0.04575839\tacc: 0.990\n",
      "INFO:root:\ttask: 1\tloss: 0.23539225\tacc: 0.945\n",
      "INFO:root:\ttask: 2\tloss: 0.32810436\tacc: 0.920\n",
      "INFO:root:\ttask: 3\tloss: 0.20965470\tacc: 0.959\n",
      "INFO:root:\ttask: 4\tloss: 0.57740766\tacc: 0.655\n",
      "INFO:root:\ttask: 5\tloss: 0.68498804\tacc: 0.597\n",
      "INFO:root:\ttask: avg\tloss: 0.34688423\tacc: 0.844\n",
      "INFO:root:final components: 5\n",
      "INFO:root:epochs: 0, training task: 5\n",
      "INFO:root:\ttask: 0\tloss: 0.04575839\tacc: 0.990\n",
      "INFO:root:\ttask: 1\tloss: 0.23539225\tacc: 0.945\n",
      "INFO:root:\ttask: 2\tloss: 0.32810436\tacc: 0.920\n",
      "INFO:root:\ttask: 3\tloss: 0.20965470\tacc: 0.959\n",
      "INFO:root:\ttask: 4\tloss: 0.57740766\tacc: 0.655\n",
      "INFO:root:\ttask: 5\tloss: 0.69314745\tacc: 0.513\n",
      "INFO:root:\ttask: avg\tloss: 0.34824414\tacc: 0.830\n"
     ]
    },
    {
     "name": "stdout",
     "output_type": "stream",
     "text": [
      "no. current components 4 NUM_CANDIDATE_MODULES 1 len(module_list) 1\n"
     ]
    },
    {
     "name": "stderr",
     "output_type": "stream",
     "text": [
      "INFO:root:epochs: 1, training task: 5\n",
      "INFO:root:\ttask: 0\tloss: 0.04575839\tacc: 0.990\n",
      "INFO:root:\ttask: 1\tloss: 0.23539225\tacc: 0.945\n",
      "INFO:root:\ttask: 2\tloss: 0.32810436\tacc: 0.920\n",
      "INFO:root:\ttask: 3\tloss: 0.20965470\tacc: 0.959\n",
      "INFO:root:\ttask: 4\tloss: 0.57740766\tacc: 0.655\n",
      "INFO:root:\ttask: 5\tloss: 0.69300305\tacc: 0.615\n",
      "INFO:root:\ttask: avg\tloss: 0.34822007\tacc: 0.847\n",
      "INFO:root:candidate 4: W/update: 0.62, WO/update: 0.58, improv 0.06896551724137938\n",
      "INFO:root:Keeping new module 4. Total: 5\n",
      "INFO:root:epochs: 2, training task: 5\n",
      "INFO:root:\ttask: 0\tloss: 0.04575839\tacc: 0.990\n",
      "INFO:root:\ttask: 1\tloss: 0.23539225\tacc: 0.945\n",
      "INFO:root:\ttask: 2\tloss: 0.32810436\tacc: 0.920\n",
      "INFO:root:\ttask: 3\tloss: 0.20965470\tacc: 0.959\n",
      "INFO:root:\ttask: 4\tloss: 0.57740766\tacc: 0.655\n",
      "INFO:root:\ttask: 5\tloss: 0.69042822\tacc: 0.615\n",
      "INFO:root:\ttask: avg\tloss: 0.34779093\tacc: 0.847\n",
      "INFO:root:final components: 5\n"
     ]
    },
    {
     "name": "stdout",
     "output_type": "stream",
     "text": [
      "perfs [0.8260533995934857, 0.8260533995934857, 0.8260533995934857, 0.8444307708671984, 0.84739486300812]\n"
     ]
    },
    {
     "name": "stderr",
     "output_type": "stream",
     "text": [
      "INFO:root:epochs: 0, training task: 5\n",
      "INFO:root:\ttask: 0\tloss: 0.03920972\tacc: 0.990\n",
      "INFO:root:\ttask: 1\tloss: 0.23861006\tacc: 0.947\n",
      "INFO:root:\ttask: 2\tloss: 0.33791302\tacc: 0.920\n",
      "INFO:root:\ttask: 3\tloss: 0.21765160\tacc: 0.958\n",
      "INFO:root:\ttask: 4\tloss: 0.45285565\tacc: 0.742\n",
      "INFO:root:\ttask: 5\tloss: 0.69314747\tacc: 0.494\n",
      "INFO:root:\ttask: avg\tloss: 0.32989792\tacc: 0.842\n"
     ]
    },
    {
     "name": "stdout",
     "output_type": "stream",
     "text": [
      "no. current components 4 NUM_CANDIDATE_MODULES 1 len(module_list) 1\n"
     ]
    },
    {
     "name": "stderr",
     "output_type": "stream",
     "text": [
      "INFO:root:epochs: 1, training task: 5\n",
      "INFO:root:\ttask: 0\tloss: 0.03920972\tacc: 0.990\n",
      "INFO:root:\ttask: 1\tloss: 0.23861006\tacc: 0.947\n",
      "INFO:root:\ttask: 2\tloss: 0.33791302\tacc: 0.920\n",
      "INFO:root:\ttask: 3\tloss: 0.21765160\tacc: 0.958\n",
      "INFO:root:\ttask: 4\tloss: 0.45285565\tacc: 0.742\n",
      "INFO:root:\ttask: 5\tloss: 0.69125158\tacc: 0.494\n",
      "INFO:root:\ttask: avg\tloss: 0.32958194\tacc: 0.842\n",
      "INFO:root:candidate 4: W/update: 0.49, WO/update: 0.49, improv 0.0\n",
      "INFO:root:Not keeping any new modules. Total: 4\n",
      "INFO:root:epochs: 2, training task: 5\n",
      "INFO:root:\ttask: 0\tloss: 0.03920972\tacc: 0.990\n",
      "INFO:root:\ttask: 1\tloss: 0.23861006\tacc: 0.947\n",
      "INFO:root:\ttask: 2\tloss: 0.33791302\tacc: 0.920\n",
      "INFO:root:\ttask: 3\tloss: 0.21765160\tacc: 0.958\n",
      "INFO:root:\ttask: 4\tloss: 0.45285565\tacc: 0.742\n",
      "INFO:root:\ttask: 5\tloss: 0.69184981\tacc: 0.494\n",
      "INFO:root:\ttask: avg\tloss: 0.32968164\tacc: 0.842\n",
      "INFO:root:final components: 4\n",
      "INFO:root:epochs: 0, training task: 5\n",
      "INFO:root:\ttask: 0\tloss: 0.03920972\tacc: 0.990\n",
      "INFO:root:\ttask: 1\tloss: 0.23861006\tacc: 0.947\n",
      "INFO:root:\ttask: 2\tloss: 0.33791302\tacc: 0.920\n",
      "INFO:root:\ttask: 3\tloss: 0.21765160\tacc: 0.958\n",
      "INFO:root:\ttask: 4\tloss: 0.45285565\tacc: 0.742\n",
      "INFO:root:\ttask: 5\tloss: 0.69314747\tacc: 0.494\n",
      "INFO:root:\ttask: avg\tloss: 0.32989792\tacc: 0.842\n"
     ]
    },
    {
     "name": "stdout",
     "output_type": "stream",
     "text": [
      "no. current components 4 NUM_CANDIDATE_MODULES 1 len(module_list) 1\n"
     ]
    },
    {
     "name": "stderr",
     "output_type": "stream",
     "text": [
      "INFO:root:epochs: 1, training task: 5\n",
      "INFO:root:\ttask: 0\tloss: 0.03920972\tacc: 0.990\n",
      "INFO:root:\ttask: 1\tloss: 0.23861006\tacc: 0.947\n",
      "INFO:root:\ttask: 2\tloss: 0.33791302\tacc: 0.920\n",
      "INFO:root:\ttask: 3\tloss: 0.21765160\tacc: 0.958\n",
      "INFO:root:\ttask: 4\tloss: 0.45285565\tacc: 0.742\n",
      "INFO:root:\ttask: 5\tloss: 0.69041737\tacc: 0.494\n",
      "INFO:root:\ttask: avg\tloss: 0.32944290\tacc: 0.842\n",
      "INFO:root:candidate 4: W/update: 0.49, WO/update: 0.49, improv 0.0\n",
      "INFO:root:Not keeping any new modules. Total: 4\n",
      "INFO:root:epochs: 2, training task: 5\n",
      "INFO:root:\ttask: 0\tloss: 0.03920972\tacc: 0.990\n",
      "INFO:root:\ttask: 1\tloss: 0.23861006\tacc: 0.947\n",
      "INFO:root:\ttask: 2\tloss: 0.33791302\tacc: 0.920\n",
      "INFO:root:\ttask: 3\tloss: 0.21765160\tacc: 0.958\n",
      "INFO:root:\ttask: 4\tloss: 0.45285565\tacc: 0.742\n",
      "INFO:root:\ttask: 5\tloss: 0.69160339\tacc: 0.494\n",
      "INFO:root:\ttask: avg\tloss: 0.32964057\tacc: 0.842\n",
      "INFO:root:final components: 4\n",
      "INFO:root:epochs: 0, training task: 5\n",
      "INFO:root:\ttask: 0\tloss: 0.03920972\tacc: 0.990\n",
      "INFO:root:\ttask: 1\tloss: 0.23861006\tacc: 0.947\n",
      "INFO:root:\ttask: 2\tloss: 0.33791302\tacc: 0.920\n",
      "INFO:root:\ttask: 3\tloss: 0.21765160\tacc: 0.958\n",
      "INFO:root:\ttask: 4\tloss: 0.45285565\tacc: 0.742\n",
      "INFO:root:\ttask: 5\tloss: 0.79142414\tacc: 0.506\n",
      "INFO:root:\ttask: avg\tloss: 0.34627737\tacc: 0.844\n"
     ]
    },
    {
     "name": "stdout",
     "output_type": "stream",
     "text": [
      "no. current components 4 NUM_CANDIDATE_MODULES 1 len(module_list) 1\n"
     ]
    },
    {
     "name": "stderr",
     "output_type": "stream",
     "text": [
      "INFO:root:epochs: 1, training task: 5\n",
      "INFO:root:\ttask: 0\tloss: 0.03920972\tacc: 0.990\n",
      "INFO:root:\ttask: 1\tloss: 0.23861006\tacc: 0.947\n",
      "INFO:root:\ttask: 2\tloss: 0.33791302\tacc: 0.920\n",
      "INFO:root:\ttask: 3\tloss: 0.21765160\tacc: 0.958\n",
      "INFO:root:\ttask: 4\tloss: 0.45285565\tacc: 0.742\n",
      "INFO:root:\ttask: 5\tloss: 0.75786359\tacc: 0.488\n",
      "INFO:root:\ttask: avg\tloss: 0.34068394\tacc: 0.841\n",
      "INFO:root:candidate 4: W/update: 0.52, WO/update: 0.33, improv 0.5757575757575757\n",
      "INFO:root:Keeping new module 4. Total: 5\n",
      "INFO:root:epochs: 2, training task: 5\n",
      "INFO:root:\ttask: 0\tloss: 0.03920972\tacc: 0.990\n",
      "INFO:root:\ttask: 1\tloss: 0.23861006\tacc: 0.947\n",
      "INFO:root:\ttask: 2\tloss: 0.33791302\tacc: 0.920\n",
      "INFO:root:\ttask: 3\tloss: 0.21765160\tacc: 0.958\n",
      "INFO:root:\ttask: 4\tloss: 0.45285565\tacc: 0.742\n",
      "INFO:root:\ttask: 5\tloss: 0.75786359\tacc: 0.488\n",
      "INFO:root:\ttask: avg\tloss: 0.34068394\tacc: 0.841\n",
      "INFO:root:final components: 5\n",
      "INFO:root:epochs: 0, training task: 5\n",
      "INFO:root:\ttask: 0\tloss: 0.03920972\tacc: 0.990\n",
      "INFO:root:\ttask: 1\tloss: 0.23861006\tacc: 0.947\n",
      "INFO:root:\ttask: 2\tloss: 0.33791302\tacc: 0.920\n",
      "INFO:root:\ttask: 3\tloss: 0.21765160\tacc: 0.958\n",
      "INFO:root:\ttask: 4\tloss: 0.45285565\tacc: 0.742\n",
      "INFO:root:\ttask: 5\tloss: 0.66839248\tacc: 0.506\n",
      "INFO:root:\ttask: avg\tloss: 0.32577209\tacc: 0.844\n"
     ]
    },
    {
     "name": "stdout",
     "output_type": "stream",
     "text": [
      "no. current components 4 NUM_CANDIDATE_MODULES 1 len(module_list) 1\n"
     ]
    },
    {
     "name": "stderr",
     "output_type": "stream",
     "text": [
      "INFO:root:epochs: 1, training task: 5\n",
      "INFO:root:\ttask: 0\tloss: 0.03920972\tacc: 0.990\n",
      "INFO:root:\ttask: 1\tloss: 0.23861006\tacc: 0.947\n",
      "INFO:root:\ttask: 2\tloss: 0.33791302\tacc: 0.920\n",
      "INFO:root:\ttask: 3\tloss: 0.21765160\tacc: 0.958\n",
      "INFO:root:\ttask: 4\tloss: 0.45285565\tacc: 0.742\n",
      "INFO:root:\ttask: 5\tloss: 0.68598028\tacc: 0.961\n",
      "INFO:root:\ttask: avg\tloss: 0.32870339\tacc: 0.920\n",
      "INFO:root:candidate 4: W/update: 0.96, WO/update: 0.49, improv 0.9591836734693877\n",
      "INFO:root:Keeping new module 4. Total: 5\n",
      "INFO:root:epochs: 2, training task: 5\n",
      "INFO:root:\ttask: 0\tloss: 0.03920972\tacc: 0.990\n",
      "INFO:root:\ttask: 1\tloss: 0.23861006\tacc: 0.947\n",
      "INFO:root:\ttask: 2\tloss: 0.33791302\tacc: 0.920\n",
      "INFO:root:\ttask: 3\tloss: 0.21765160\tacc: 0.958\n",
      "INFO:root:\ttask: 4\tloss: 0.45285565\tacc: 0.742\n",
      "INFO:root:\ttask: 5\tloss: 0.18967911\tacc: 0.961\n",
      "INFO:root:\ttask: avg\tloss: 0.24598653\tacc: 0.920\n",
      "INFO:root:final components: 5\n",
      "INFO:root:epochs: 0, training task: 5\n",
      "INFO:root:\ttask: 0\tloss: 0.03920972\tacc: 0.990\n",
      "INFO:root:\ttask: 1\tloss: 0.23861006\tacc: 0.947\n",
      "INFO:root:\ttask: 2\tloss: 0.33791302\tacc: 0.920\n",
      "INFO:root:\ttask: 3\tloss: 0.21765160\tacc: 0.958\n",
      "INFO:root:\ttask: 4\tloss: 0.45285565\tacc: 0.742\n",
      "INFO:root:\ttask: 5\tloss: 0.69314747\tacc: 0.494\n",
      "INFO:root:\ttask: avg\tloss: 0.32989792\tacc: 0.842\n"
     ]
    },
    {
     "name": "stdout",
     "output_type": "stream",
     "text": [
      "no. current components 4 NUM_CANDIDATE_MODULES 1 len(module_list) 1\n"
     ]
    },
    {
     "name": "stderr",
     "output_type": "stream",
     "text": [
      "INFO:root:epochs: 1, training task: 5\n",
      "INFO:root:\ttask: 0\tloss: 0.03920972\tacc: 0.990\n",
      "INFO:root:\ttask: 1\tloss: 0.23861006\tacc: 0.947\n",
      "INFO:root:\ttask: 2\tloss: 0.33791302\tacc: 0.920\n",
      "INFO:root:\ttask: 3\tloss: 0.21765160\tacc: 0.958\n",
      "INFO:root:\ttask: 4\tloss: 0.45285565\tacc: 0.742\n",
      "INFO:root:\ttask: 5\tloss: 0.69082268\tacc: 0.494\n",
      "INFO:root:\ttask: avg\tloss: 0.32951046\tacc: 0.842\n",
      "INFO:root:candidate 4: W/update: 0.49, WO/update: 0.49, improv 0.0\n",
      "INFO:root:Not keeping any new modules. Total: 4\n",
      "INFO:root:epochs: 2, training task: 5\n",
      "INFO:root:\ttask: 0\tloss: 0.03920972\tacc: 0.990\n",
      "INFO:root:\ttask: 1\tloss: 0.23861006\tacc: 0.947\n",
      "INFO:root:\ttask: 2\tloss: 0.33791302\tacc: 0.920\n",
      "INFO:root:\ttask: 3\tloss: 0.21765160\tacc: 0.958\n",
      "INFO:root:\ttask: 4\tloss: 0.45285565\tacc: 0.742\n",
      "INFO:root:\ttask: 5\tloss: 0.69303738\tacc: 0.494\n",
      "INFO:root:\ttask: avg\tloss: 0.32987957\tacc: 0.842\n",
      "INFO:root:final components: 4\n"
     ]
    },
    {
     "name": "stdout",
     "output_type": "stream",
     "text": [
      "perfs [0.8418192606723771, 0.8418192606723771, 0.8407883328373256, 0.9197402228716899, 0.8418192606723771]\n"
     ]
    },
    {
     "name": "stderr",
     "output_type": "stream",
     "text": [
      "INFO:root:epochs: 0, training task: 5\n",
      "INFO:root:\ttask: 0\tloss: 0.03476199\tacc: 0.988\n",
      "INFO:root:\ttask: 1\tloss: 0.21850544\tacc: 0.949\n",
      "INFO:root:\ttask: 2\tloss: 0.37104384\tacc: 0.917\n",
      "INFO:root:\ttask: 3\tloss: 0.24534418\tacc: 0.957\n",
      "INFO:root:\ttask: 4\tloss: 0.41703728\tacc: 0.883\n",
      "INFO:root:\ttask: 5\tloss: 0.69314745\tacc: 0.500\n",
      "INFO:root:\ttask: avg\tloss: 0.32997336\tacc: 0.866\n"
     ]
    },
    {
     "name": "stdout",
     "output_type": "stream",
     "text": [
      "no. current components 4 NUM_CANDIDATE_MODULES 1 len(module_list) 1\n"
     ]
    },
    {
     "name": "stderr",
     "output_type": "stream",
     "text": [
      "INFO:root:epochs: 1, training task: 5\n",
      "INFO:root:\ttask: 0\tloss: 0.03476199\tacc: 0.988\n",
      "INFO:root:\ttask: 1\tloss: 0.21850544\tacc: 0.949\n",
      "INFO:root:\ttask: 2\tloss: 0.37104384\tacc: 0.917\n",
      "INFO:root:\ttask: 3\tloss: 0.24534418\tacc: 0.957\n",
      "INFO:root:\ttask: 4\tloss: 0.41703728\tacc: 0.883\n",
      "INFO:root:\ttask: 5\tloss: 0.69043867\tacc: 0.500\n",
      "INFO:root:\ttask: avg\tloss: 0.32952190\tacc: 0.866\n",
      "INFO:root:candidate 4: W/update: 0.59, WO/update: 0.59, improv 0.0\n",
      "INFO:root:Not keeping any new modules. Total: 4\n",
      "INFO:root:epochs: 2, training task: 5\n",
      "INFO:root:\ttask: 0\tloss: 0.03476199\tacc: 0.988\n",
      "INFO:root:\ttask: 1\tloss: 0.21850544\tacc: 0.949\n",
      "INFO:root:\ttask: 2\tloss: 0.37104384\tacc: 0.917\n",
      "INFO:root:\ttask: 3\tloss: 0.24534418\tacc: 0.957\n",
      "INFO:root:\ttask: 4\tloss: 0.41703728\tacc: 0.883\n",
      "INFO:root:\ttask: 5\tloss: 0.68545355\tacc: 0.500\n",
      "INFO:root:\ttask: avg\tloss: 0.32869105\tacc: 0.866\n",
      "INFO:root:final components: 4\n",
      "INFO:root:epochs: 0, training task: 5\n",
      "INFO:root:\ttask: 0\tloss: 0.03476199\tacc: 0.988\n",
      "INFO:root:\ttask: 1\tloss: 0.21850544\tacc: 0.949\n",
      "INFO:root:\ttask: 2\tloss: 0.37104384\tacc: 0.917\n",
      "INFO:root:\ttask: 3\tloss: 0.24534418\tacc: 0.957\n",
      "INFO:root:\ttask: 4\tloss: 0.41703728\tacc: 0.883\n",
      "INFO:root:\ttask: 5\tloss: 0.69314745\tacc: 0.500\n",
      "INFO:root:\ttask: avg\tloss: 0.32997336\tacc: 0.866\n"
     ]
    },
    {
     "name": "stdout",
     "output_type": "stream",
     "text": [
      "no. current components 4 NUM_CANDIDATE_MODULES 1 len(module_list) 1\n"
     ]
    },
    {
     "name": "stderr",
     "output_type": "stream",
     "text": [
      "INFO:root:epochs: 1, training task: 5\n",
      "INFO:root:\ttask: 0\tloss: 0.03476199\tacc: 0.988\n",
      "INFO:root:\ttask: 1\tloss: 0.21850544\tacc: 0.949\n",
      "INFO:root:\ttask: 2\tloss: 0.37104384\tacc: 0.917\n",
      "INFO:root:\ttask: 3\tloss: 0.24534418\tacc: 0.957\n",
      "INFO:root:\ttask: 4\tloss: 0.41703728\tacc: 0.883\n",
      "INFO:root:\ttask: 5\tloss: 0.68932827\tacc: 0.500\n",
      "INFO:root:\ttask: avg\tloss: 0.32933683\tacc: 0.866\n",
      "INFO:root:candidate 4: W/update: 0.59, WO/update: 0.59, improv 0.0\n",
      "INFO:root:Not keeping any new modules. Total: 4\n",
      "INFO:root:epochs: 2, training task: 5\n",
      "INFO:root:\ttask: 0\tloss: 0.03476199\tacc: 0.988\n",
      "INFO:root:\ttask: 1\tloss: 0.21850544\tacc: 0.949\n",
      "INFO:root:\ttask: 2\tloss: 0.37104384\tacc: 0.917\n",
      "INFO:root:\ttask: 3\tloss: 0.24534418\tacc: 0.957\n",
      "INFO:root:\ttask: 4\tloss: 0.41703728\tacc: 0.883\n",
      "INFO:root:\ttask: 5\tloss: 0.68486613\tacc: 0.500\n",
      "INFO:root:\ttask: avg\tloss: 0.32859314\tacc: 0.866\n",
      "INFO:root:final components: 4\n",
      "INFO:root:epochs: 0, training task: 5\n",
      "INFO:root:\ttask: 0\tloss: 0.03476199\tacc: 0.988\n",
      "INFO:root:\ttask: 1\tloss: 0.21850544\tacc: 0.949\n",
      "INFO:root:\ttask: 2\tloss: 0.37104384\tacc: 0.917\n",
      "INFO:root:\ttask: 3\tloss: 0.24534418\tacc: 0.957\n",
      "INFO:root:\ttask: 4\tloss: 0.41703728\tacc: 0.883\n",
      "INFO:root:\ttask: 5\tloss: 0.67134188\tacc: 0.501\n",
      "INFO:root:\ttask: avg\tloss: 0.32633910\tacc: 0.866\n"
     ]
    },
    {
     "name": "stdout",
     "output_type": "stream",
     "text": [
      "no. current components 4 NUM_CANDIDATE_MODULES 1 len(module_list) 1\n"
     ]
    },
    {
     "name": "stderr",
     "output_type": "stream",
     "text": [
      "INFO:root:epochs: 1, training task: 5\n",
      "INFO:root:\ttask: 0\tloss: 0.03476199\tacc: 0.988\n",
      "INFO:root:\ttask: 1\tloss: 0.21850544\tacc: 0.949\n",
      "INFO:root:\ttask: 2\tloss: 0.37104384\tacc: 0.917\n",
      "INFO:root:\ttask: 3\tloss: 0.24534418\tacc: 0.957\n",
      "INFO:root:\ttask: 4\tloss: 0.41703728\tacc: 0.883\n",
      "INFO:root:\ttask: 5\tloss: 0.68538993\tacc: 0.726\n",
      "INFO:root:\ttask: avg\tloss: 0.32868044\tacc: 0.904\n",
      "INFO:root:candidate 4: W/update: 0.7, WO/update: 0.41, improv 0.7073170731707317\n",
      "INFO:root:Keeping new module 4. Total: 5\n",
      "INFO:root:epochs: 2, training task: 5\n",
      "INFO:root:\ttask: 0\tloss: 0.03476199\tacc: 0.988\n",
      "INFO:root:\ttask: 1\tloss: 0.21850544\tacc: 0.949\n",
      "INFO:root:\ttask: 2\tloss: 0.37104384\tacc: 0.917\n",
      "INFO:root:\ttask: 3\tloss: 0.24534418\tacc: 0.957\n",
      "INFO:root:\ttask: 4\tloss: 0.41703728\tacc: 0.883\n",
      "INFO:root:\ttask: 5\tloss: 0.64373157\tacc: 0.726\n",
      "INFO:root:\ttask: avg\tloss: 0.32173738\tacc: 0.904\n",
      "INFO:root:final components: 5\n",
      "INFO:root:epochs: 0, training task: 5\n",
      "INFO:root:\ttask: 0\tloss: 0.03476199\tacc: 0.988\n",
      "INFO:root:\ttask: 1\tloss: 0.21850544\tacc: 0.949\n",
      "INFO:root:\ttask: 2\tloss: 0.37104384\tacc: 0.917\n",
      "INFO:root:\ttask: 3\tloss: 0.24534418\tacc: 0.957\n",
      "INFO:root:\ttask: 4\tloss: 0.41703728\tacc: 0.883\n",
      "INFO:root:\ttask: 5\tloss: 0.69314745\tacc: 0.500\n",
      "INFO:root:\ttask: avg\tloss: 0.32997336\tacc: 0.866\n"
     ]
    },
    {
     "name": "stdout",
     "output_type": "stream",
     "text": [
      "no. current components 4 NUM_CANDIDATE_MODULES 1 len(module_list) 1\n"
     ]
    },
    {
     "name": "stderr",
     "output_type": "stream",
     "text": [
      "INFO:root:epochs: 1, training task: 5\n",
      "INFO:root:\ttask: 0\tloss: 0.03476199\tacc: 0.988\n",
      "INFO:root:\ttask: 1\tloss: 0.21850544\tacc: 0.949\n",
      "INFO:root:\ttask: 2\tloss: 0.37104384\tacc: 0.917\n",
      "INFO:root:\ttask: 3\tloss: 0.24534418\tacc: 0.957\n",
      "INFO:root:\ttask: 4\tloss: 0.41703728\tacc: 0.883\n",
      "INFO:root:\ttask: 5\tloss: 0.69433654\tacc: 0.500\n",
      "INFO:root:\ttask: avg\tloss: 0.33017155\tacc: 0.866\n",
      "INFO:root:candidate 4: W/update: 0.41, WO/update: 0.41, improv 0.0\n",
      "INFO:root:Not keeping any new modules. Total: 4\n",
      "INFO:root:epochs: 2, training task: 5\n",
      "INFO:root:\ttask: 0\tloss: 0.03476199\tacc: 0.988\n",
      "INFO:root:\ttask: 1\tloss: 0.21850544\tacc: 0.949\n",
      "INFO:root:\ttask: 2\tloss: 0.37104384\tacc: 0.917\n",
      "INFO:root:\ttask: 3\tloss: 0.24534418\tacc: 0.957\n",
      "INFO:root:\ttask: 4\tloss: 0.41703728\tacc: 0.883\n",
      "INFO:root:\ttask: 5\tloss: 0.70132740\tacc: 0.500\n",
      "INFO:root:\ttask: avg\tloss: 0.33133669\tacc: 0.866\n",
      "INFO:root:final components: 4\n",
      "INFO:root:epochs: 0, training task: 5\n",
      "INFO:root:\ttask: 0\tloss: 0.03476199\tacc: 0.988\n",
      "INFO:root:\ttask: 1\tloss: 0.21850544\tacc: 0.949\n",
      "INFO:root:\ttask: 2\tloss: 0.37104384\tacc: 0.917\n",
      "INFO:root:\ttask: 3\tloss: 0.24534418\tacc: 0.957\n",
      "INFO:root:\ttask: 4\tloss: 0.41703728\tacc: 0.883\n",
      "INFO:root:\ttask: 5\tloss: 0.69314745\tacc: 0.500\n",
      "INFO:root:\ttask: avg\tloss: 0.32997336\tacc: 0.866\n"
     ]
    },
    {
     "name": "stdout",
     "output_type": "stream",
     "text": [
      "no. current components 4 NUM_CANDIDATE_MODULES 1 len(module_list) 1\n"
     ]
    },
    {
     "name": "stderr",
     "output_type": "stream",
     "text": [
      "INFO:root:epochs: 1, training task: 5\n",
      "INFO:root:\ttask: 0\tloss: 0.03476199\tacc: 0.988\n",
      "INFO:root:\ttask: 1\tloss: 0.21850544\tacc: 0.949\n",
      "INFO:root:\ttask: 2\tloss: 0.37104384\tacc: 0.917\n",
      "INFO:root:\ttask: 3\tloss: 0.24534418\tacc: 0.957\n",
      "INFO:root:\ttask: 4\tloss: 0.41703728\tacc: 0.883\n",
      "INFO:root:\ttask: 5\tloss: 0.69023907\tacc: 0.601\n",
      "INFO:root:\ttask: avg\tloss: 0.32948863\tacc: 0.883\n",
      "INFO:root:candidate 4: W/update: 0.51, WO/update: 0.54, improv -0.0555555555555556\n",
      "INFO:root:Not keeping any new modules. Total: 4\n",
      "INFO:root:epochs: 2, training task: 5\n",
      "INFO:root:\ttask: 0\tloss: 0.03476199\tacc: 0.988\n",
      "INFO:root:\ttask: 1\tloss: 0.21850544\tacc: 0.949\n",
      "INFO:root:\ttask: 2\tloss: 0.37104384\tacc: 0.917\n",
      "INFO:root:\ttask: 3\tloss: 0.24534418\tacc: 0.957\n",
      "INFO:root:\ttask: 4\tloss: 0.41703728\tacc: 0.883\n",
      "INFO:root:\ttask: 5\tloss: 0.68532285\tacc: 0.804\n",
      "INFO:root:\ttask: avg\tloss: 0.32866926\tacc: 0.917\n",
      "INFO:root:final components: 4\n"
     ]
    },
    {
     "name": "stdout",
     "output_type": "stream",
     "text": [
      "perfs [0.8659271663426713, 0.8659271663426713, 0.903569563569021, 0.8658446172259469, 0.9165297748947597]\n"
     ]
    },
    {
     "name": "stderr",
     "output_type": "stream",
     "text": [
      "INFO:root:epochs: 0, training task: 5\n",
      "INFO:root:\ttask: 0\tloss: 0.04220063\tacc: 0.989\n",
      "INFO:root:\ttask: 1\tloss: 0.22528530\tacc: 0.949\n",
      "INFO:root:\ttask: 2\tloss: 0.37241068\tacc: 0.919\n",
      "INFO:root:\ttask: 3\tloss: 0.22415245\tacc: 0.960\n",
      "INFO:root:\ttask: 4\tloss: 0.12809116\tacc: 0.955\n",
      "INFO:root:\ttask: 5\tloss: 0.69314744\tacc: 0.518\n",
      "INFO:root:\ttask: avg\tloss: 0.28088128\tacc: 0.882\n"
     ]
    },
    {
     "name": "stdout",
     "output_type": "stream",
     "text": [
      "no. current components 5 NUM_CANDIDATE_MODULES 1 len(module_list) 1\n"
     ]
    },
    {
     "name": "stderr",
     "output_type": "stream",
     "text": [
      "INFO:root:epochs: 1, training task: 5\n",
      "INFO:root:\ttask: 0\tloss: 0.04220063\tacc: 0.989\n",
      "INFO:root:\ttask: 1\tloss: 0.22528530\tacc: 0.949\n",
      "INFO:root:\ttask: 2\tloss: 0.37241068\tacc: 0.919\n",
      "INFO:root:\ttask: 3\tloss: 0.22415245\tacc: 0.960\n",
      "INFO:root:\ttask: 4\tloss: 0.12809116\tacc: 0.955\n",
      "INFO:root:\ttask: 5\tloss: 0.68498232\tacc: 0.482\n",
      "INFO:root:\ttask: avg\tloss: 0.27952042\tacc: 0.876\n",
      "INFO:root:candidate 5: W/update: 0.45, WO/update: 0.45, improv 0.0\n",
      "INFO:root:Not keeping any new modules. Total: 5\n",
      "INFO:root:epochs: 2, training task: 5\n",
      "INFO:root:\ttask: 0\tloss: 0.04220063\tacc: 0.989\n",
      "INFO:root:\ttask: 1\tloss: 0.22528530\tacc: 0.949\n",
      "INFO:root:\ttask: 2\tloss: 0.37241068\tacc: 0.919\n",
      "INFO:root:\ttask: 3\tloss: 0.22415245\tacc: 0.960\n",
      "INFO:root:\ttask: 4\tloss: 0.12809116\tacc: 0.955\n",
      "INFO:root:\ttask: 5\tloss: 0.67371451\tacc: 0.482\n",
      "INFO:root:\ttask: avg\tloss: 0.27764245\tacc: 0.876\n",
      "INFO:root:final components: 5\n",
      "INFO:root:epochs: 0, training task: 5\n",
      "INFO:root:\ttask: 0\tloss: 0.04220063\tacc: 0.989\n",
      "INFO:root:\ttask: 1\tloss: 0.22528530\tacc: 0.949\n",
      "INFO:root:\ttask: 2\tloss: 0.37241068\tacc: 0.919\n",
      "INFO:root:\ttask: 3\tloss: 0.22415245\tacc: 0.960\n",
      "INFO:root:\ttask: 4\tloss: 0.12809116\tacc: 0.955\n",
      "INFO:root:\ttask: 5\tloss: 0.69314744\tacc: 0.518\n",
      "INFO:root:\ttask: avg\tloss: 0.28088128\tacc: 0.882\n"
     ]
    },
    {
     "name": "stdout",
     "output_type": "stream",
     "text": [
      "no. current components 5 NUM_CANDIDATE_MODULES 1 len(module_list) 1\n"
     ]
    },
    {
     "name": "stderr",
     "output_type": "stream",
     "text": [
      "INFO:root:epochs: 1, training task: 5\n",
      "INFO:root:\ttask: 0\tloss: 0.04220063\tacc: 0.989\n",
      "INFO:root:\ttask: 1\tloss: 0.22528530\tacc: 0.949\n",
      "INFO:root:\ttask: 2\tloss: 0.37241068\tacc: 0.919\n",
      "INFO:root:\ttask: 3\tloss: 0.22415245\tacc: 0.960\n",
      "INFO:root:\ttask: 4\tloss: 0.12809116\tacc: 0.955\n",
      "INFO:root:\ttask: 5\tloss: 0.68858027\tacc: 0.482\n",
      "INFO:root:\ttask: avg\tloss: 0.28012008\tacc: 0.876\n",
      "INFO:root:candidate 5: W/update: 0.45, WO/update: 0.45, improv 0.0\n",
      "INFO:root:Not keeping any new modules. Total: 5\n",
      "INFO:root:epochs: 2, training task: 5\n",
      "INFO:root:\ttask: 0\tloss: 0.04220063\tacc: 0.989\n",
      "INFO:root:\ttask: 1\tloss: 0.22528530\tacc: 0.949\n",
      "INFO:root:\ttask: 2\tloss: 0.37241068\tacc: 0.919\n",
      "INFO:root:\ttask: 3\tloss: 0.22415245\tacc: 0.960\n",
      "INFO:root:\ttask: 4\tloss: 0.12809116\tacc: 0.955\n",
      "INFO:root:\ttask: 5\tloss: 0.68340722\tacc: 0.482\n",
      "INFO:root:\ttask: avg\tloss: 0.27925791\tacc: 0.876\n",
      "INFO:root:final components: 5\n",
      "INFO:root:epochs: 0, training task: 5\n",
      "INFO:root:\ttask: 0\tloss: 0.04220063\tacc: 0.989\n",
      "INFO:root:\ttask: 1\tloss: 0.22528530\tacc: 0.949\n",
      "INFO:root:\ttask: 2\tloss: 0.37241068\tacc: 0.919\n",
      "INFO:root:\ttask: 3\tloss: 0.22415245\tacc: 0.960\n",
      "INFO:root:\ttask: 4\tloss: 0.12809116\tacc: 0.955\n",
      "INFO:root:\ttask: 5\tloss: 0.65616169\tacc: 0.502\n",
      "INFO:root:\ttask: avg\tloss: 0.27471698\tacc: 0.879\n"
     ]
    },
    {
     "name": "stdout",
     "output_type": "stream",
     "text": [
      "no. current components 5 NUM_CANDIDATE_MODULES 1 len(module_list) 1\n"
     ]
    },
    {
     "name": "stderr",
     "output_type": "stream",
     "text": [
      "INFO:root:epochs: 1, training task: 5\n",
      "INFO:root:\ttask: 0\tloss: 0.04220063\tacc: 0.989\n",
      "INFO:root:\ttask: 1\tloss: 0.22528530\tacc: 0.949\n",
      "INFO:root:\ttask: 2\tloss: 0.37241068\tacc: 0.919\n",
      "INFO:root:\ttask: 3\tloss: 0.22415245\tacc: 0.960\n",
      "INFO:root:\ttask: 4\tloss: 0.12809116\tacc: 0.955\n",
      "INFO:root:\ttask: 5\tloss: 0.68726863\tacc: 0.938\n",
      "INFO:root:\ttask: avg\tloss: 0.27990147\tacc: 0.952\n",
      "INFO:root:candidate 5: W/update: 0.99, WO/update: 0.45, improv 1.2\n",
      "INFO:root:Keeping new module 5. Total: 6\n",
      "INFO:root:epochs: 2, training task: 5\n",
      "INFO:root:\ttask: 0\tloss: 0.04220063\tacc: 0.989\n",
      "INFO:root:\ttask: 1\tloss: 0.22528530\tacc: 0.949\n",
      "INFO:root:\ttask: 2\tloss: 0.37241068\tacc: 0.919\n",
      "INFO:root:\ttask: 3\tloss: 0.22415245\tacc: 0.960\n",
      "INFO:root:\ttask: 4\tloss: 0.12809116\tacc: 0.955\n",
      "INFO:root:\ttask: 5\tloss: 0.42162322\tacc: 0.938\n",
      "INFO:root:\ttask: avg\tloss: 0.23562724\tacc: 0.952\n",
      "INFO:root:final components: 6\n",
      "INFO:root:epochs: 0, training task: 5\n",
      "INFO:root:\ttask: 0\tloss: 0.04220063\tacc: 0.989\n",
      "INFO:root:\ttask: 1\tloss: 0.22528530\tacc: 0.949\n",
      "INFO:root:\ttask: 2\tloss: 0.37241068\tacc: 0.919\n",
      "INFO:root:\ttask: 3\tloss: 0.22415245\tacc: 0.960\n",
      "INFO:root:\ttask: 4\tloss: 0.12809116\tacc: 0.955\n",
      "INFO:root:\ttask: 5\tloss: 0.69314744\tacc: 0.518\n",
      "INFO:root:\ttask: avg\tloss: 0.28088128\tacc: 0.882\n"
     ]
    },
    {
     "name": "stdout",
     "output_type": "stream",
     "text": [
      "no. current components 5 NUM_CANDIDATE_MODULES 1 len(module_list) 1\n"
     ]
    },
    {
     "name": "stderr",
     "output_type": "stream",
     "text": [
      "INFO:root:epochs: 1, training task: 5\n",
      "INFO:root:\ttask: 0\tloss: 0.04220063\tacc: 0.989\n",
      "INFO:root:\ttask: 1\tloss: 0.22528530\tacc: 0.949\n",
      "INFO:root:\ttask: 2\tloss: 0.37241068\tacc: 0.919\n",
      "INFO:root:\ttask: 3\tloss: 0.22415245\tacc: 0.960\n",
      "INFO:root:\ttask: 4\tloss: 0.12809116\tacc: 0.955\n",
      "INFO:root:\ttask: 5\tloss: 0.68150217\tacc: 0.482\n",
      "INFO:root:\ttask: avg\tloss: 0.27894040\tacc: 0.876\n",
      "INFO:root:candidate 5: W/update: 0.45, WO/update: 0.45, improv 0.0\n",
      "INFO:root:Not keeping any new modules. Total: 5\n",
      "INFO:root:epochs: 2, training task: 5\n",
      "INFO:root:\ttask: 0\tloss: 0.04220063\tacc: 0.989\n",
      "INFO:root:\ttask: 1\tloss: 0.22528530\tacc: 0.949\n",
      "INFO:root:\ttask: 2\tloss: 0.37241068\tacc: 0.919\n",
      "INFO:root:\ttask: 3\tloss: 0.22415245\tacc: 0.960\n",
      "INFO:root:\ttask: 4\tloss: 0.12809116\tacc: 0.955\n",
      "INFO:root:\ttask: 5\tloss: 0.67001128\tacc: 0.482\n",
      "INFO:root:\ttask: avg\tloss: 0.27702525\tacc: 0.876\n",
      "INFO:root:final components: 5\n"
     ]
    },
    {
     "name": "stdout",
     "output_type": "stream",
     "text": [
      "perfs [0.8757108847081505, 0.8757108847081505, 0.9515752687296342, 0.8757108847081505]\n"
     ]
    },
    {
     "name": "stderr",
     "output_type": "stream",
     "text": [
      "INFO:root:epochs: 0, training task: 5\n",
      "INFO:root:\ttask: 0\tloss: 0.04218551\tacc: 0.990\n",
      "INFO:root:\ttask: 1\tloss: 0.22080700\tacc: 0.949\n",
      "INFO:root:\ttask: 2\tloss: 0.36705892\tacc: 0.917\n",
      "INFO:root:\ttask: 3\tloss: 0.19759101\tacc: 0.960\n",
      "INFO:root:\ttask: 4\tloss: 0.59504801\tacc: 0.646\n",
      "INFO:root:\ttask: 5\tloss: 0.69314749\tacc: 0.495\n",
      "INFO:root:\ttask: avg\tloss: 0.35263965\tacc: 0.826\n"
     ]
    },
    {
     "name": "stdout",
     "output_type": "stream",
     "text": [
      "no. current components 5 NUM_CANDIDATE_MODULES 1 len(module_list) 1\n"
     ]
    },
    {
     "name": "stderr",
     "output_type": "stream",
     "text": [
      "INFO:root:epochs: 1, training task: 5\n",
      "INFO:root:\ttask: 0\tloss: 0.04218551\tacc: 0.990\n",
      "INFO:root:\ttask: 1\tloss: 0.22080700\tacc: 0.949\n",
      "INFO:root:\ttask: 2\tloss: 0.36705892\tacc: 0.917\n",
      "INFO:root:\ttask: 3\tloss: 0.19759101\tacc: 0.960\n",
      "INFO:root:\ttask: 4\tloss: 0.59504801\tacc: 0.646\n",
      "INFO:root:\ttask: 5\tloss: 0.69598419\tacc: 0.495\n",
      "INFO:root:\ttask: avg\tloss: 0.35311244\tacc: 0.826\n",
      "INFO:root:candidate 5: W/update: 0.54, WO/update: 0.54, improv 0.0\n",
      "INFO:root:Not keeping any new modules. Total: 5\n",
      "INFO:root:epochs: 2, training task: 5\n",
      "INFO:root:\ttask: 0\tloss: 0.04218551\tacc: 0.990\n",
      "INFO:root:\ttask: 1\tloss: 0.22080700\tacc: 0.949\n",
      "INFO:root:\ttask: 2\tloss: 0.36705892\tacc: 0.917\n",
      "INFO:root:\ttask: 3\tloss: 0.19759101\tacc: 0.960\n",
      "INFO:root:\ttask: 4\tloss: 0.59504801\tacc: 0.646\n",
      "INFO:root:\ttask: 5\tloss: 0.70625566\tacc: 0.495\n",
      "INFO:root:\ttask: avg\tloss: 0.35482435\tacc: 0.826\n",
      "INFO:root:final components: 5\n",
      "INFO:root:epochs: 0, training task: 5\n",
      "INFO:root:\ttask: 0\tloss: 0.04218551\tacc: 0.990\n",
      "INFO:root:\ttask: 1\tloss: 0.22080700\tacc: 0.949\n",
      "INFO:root:\ttask: 2\tloss: 0.36705892\tacc: 0.917\n",
      "INFO:root:\ttask: 3\tloss: 0.19759101\tacc: 0.960\n",
      "INFO:root:\ttask: 4\tloss: 0.59504801\tacc: 0.646\n",
      "INFO:root:\ttask: 5\tloss: 1.08554952\tacc: 0.507\n",
      "INFO:root:\ttask: avg\tloss: 0.41803999\tacc: 0.828\n"
     ]
    },
    {
     "name": "stdout",
     "output_type": "stream",
     "text": [
      "no. current components 5 NUM_CANDIDATE_MODULES 1 len(module_list) 1\n"
     ]
    },
    {
     "name": "stderr",
     "output_type": "stream",
     "text": [
      "INFO:root:epochs: 1, training task: 5\n",
      "INFO:root:\ttask: 0\tloss: 0.04218551\tacc: 0.990\n",
      "INFO:root:\ttask: 1\tloss: 0.22080700\tacc: 0.949\n",
      "INFO:root:\ttask: 2\tloss: 0.36705892\tacc: 0.917\n",
      "INFO:root:\ttask: 3\tloss: 0.19759101\tacc: 0.960\n",
      "INFO:root:\ttask: 4\tloss: 0.59504801\tacc: 0.646\n",
      "INFO:root:\ttask: 5\tloss: 1.26853161\tacc: 0.545\n",
      "INFO:root:\ttask: avg\tloss: 0.44853701\tacc: 0.834\n",
      "INFO:root:candidate 5: W/update: 0.52, WO/update: 0.5, improv 0.040000000000000036\n",
      "INFO:root:Not keeping any new modules. Total: 5\n",
      "INFO:root:epochs: 2, training task: 5\n",
      "INFO:root:\ttask: 0\tloss: 0.04218551\tacc: 0.990\n",
      "INFO:root:\ttask: 1\tloss: 0.22080700\tacc: 0.949\n",
      "INFO:root:\ttask: 2\tloss: 0.36705892\tacc: 0.917\n",
      "INFO:root:\ttask: 3\tloss: 0.19759101\tacc: 0.960\n",
      "INFO:root:\ttask: 4\tloss: 0.59504801\tacc: 0.646\n",
      "INFO:root:\ttask: 5\tloss: 0.96911436\tacc: 0.508\n",
      "INFO:root:\ttask: avg\tloss: 0.39863413\tacc: 0.828\n",
      "INFO:root:final components: 5\n",
      "INFO:root:epochs: 0, training task: 5\n",
      "INFO:root:\ttask: 0\tloss: 0.04218551\tacc: 0.990\n",
      "INFO:root:\ttask: 1\tloss: 0.22080700\tacc: 0.949\n",
      "INFO:root:\ttask: 2\tloss: 0.36705892\tacc: 0.917\n",
      "INFO:root:\ttask: 3\tloss: 0.19759101\tacc: 0.960\n",
      "INFO:root:\ttask: 4\tloss: 0.59504801\tacc: 0.646\n",
      "INFO:root:\ttask: 5\tloss: 0.69314749\tacc: 0.495\n",
      "INFO:root:\ttask: avg\tloss: 0.35263965\tacc: 0.826\n"
     ]
    },
    {
     "name": "stdout",
     "output_type": "stream",
     "text": [
      "no. current components 5 NUM_CANDIDATE_MODULES 1 len(module_list) 1\n"
     ]
    },
    {
     "name": "stderr",
     "output_type": "stream",
     "text": [
      "INFO:root:epochs: 1, training task: 5\n",
      "INFO:root:\ttask: 0\tloss: 0.04218551\tacc: 0.990\n",
      "INFO:root:\ttask: 1\tloss: 0.22080700\tacc: 0.949\n",
      "INFO:root:\ttask: 2\tloss: 0.36705892\tacc: 0.917\n",
      "INFO:root:\ttask: 3\tloss: 0.19759101\tacc: 0.960\n",
      "INFO:root:\ttask: 4\tloss: 0.59504801\tacc: 0.646\n",
      "INFO:root:\ttask: 5\tloss: 0.69475705\tacc: 0.505\n",
      "INFO:root:\ttask: avg\tloss: 0.35290792\tacc: 0.828\n",
      "INFO:root:candidate 5: W/update: 0.46, WO/update: 0.46, improv 0.0\n",
      "INFO:root:Not keeping any new modules. Total: 5\n",
      "INFO:root:epochs: 2, training task: 5\n",
      "INFO:root:\ttask: 0\tloss: 0.04218551\tacc: 0.990\n",
      "INFO:root:\ttask: 1\tloss: 0.22080700\tacc: 0.949\n",
      "INFO:root:\ttask: 2\tloss: 0.36705892\tacc: 0.917\n",
      "INFO:root:\ttask: 3\tloss: 0.19759101\tacc: 0.960\n",
      "INFO:root:\ttask: 4\tloss: 0.59504801\tacc: 0.646\n",
      "INFO:root:\ttask: 5\tloss: 0.69332115\tacc: 0.505\n",
      "INFO:root:\ttask: avg\tloss: 0.35266860\tacc: 0.828\n",
      "INFO:root:final components: 5\n",
      "INFO:root:epochs: 0, training task: 5\n",
      "INFO:root:\ttask: 0\tloss: 0.04218551\tacc: 0.990\n",
      "INFO:root:\ttask: 1\tloss: 0.22080700\tacc: 0.949\n",
      "INFO:root:\ttask: 2\tloss: 0.36705892\tacc: 0.917\n",
      "INFO:root:\ttask: 3\tloss: 0.19759101\tacc: 0.960\n",
      "INFO:root:\ttask: 4\tloss: 0.59504801\tacc: 0.646\n",
      "INFO:root:\ttask: 5\tloss: 0.69314749\tacc: 0.495\n",
      "INFO:root:\ttask: avg\tloss: 0.35263965\tacc: 0.826\n"
     ]
    },
    {
     "name": "stdout",
     "output_type": "stream",
     "text": [
      "no. current components 5 NUM_CANDIDATE_MODULES 1 len(module_list) 1\n"
     ]
    },
    {
     "name": "stderr",
     "output_type": "stream",
     "text": [
      "INFO:root:epochs: 1, training task: 5\n",
      "INFO:root:\ttask: 0\tloss: 0.04218551\tacc: 0.990\n",
      "INFO:root:\ttask: 1\tloss: 0.22080700\tacc: 0.949\n",
      "INFO:root:\ttask: 2\tloss: 0.36705892\tacc: 0.917\n",
      "INFO:root:\ttask: 3\tloss: 0.19759101\tacc: 0.960\n",
      "INFO:root:\ttask: 4\tloss: 0.59504801\tacc: 0.646\n",
      "INFO:root:\ttask: 5\tloss: 0.69263248\tacc: 0.581\n",
      "INFO:root:\ttask: avg\tloss: 0.35255382\tacc: 0.841\n",
      "INFO:root:candidate 5: W/update: 0.57, WO/update: 0.46, improv 0.23913043478260854\n",
      "INFO:root:Keeping new module 5. Total: 6\n",
      "INFO:root:epochs: 2, training task: 5\n",
      "INFO:root:\ttask: 0\tloss: 0.04218551\tacc: 0.990\n",
      "INFO:root:\ttask: 1\tloss: 0.22080700\tacc: 0.949\n",
      "INFO:root:\ttask: 2\tloss: 0.36705892\tacc: 0.917\n",
      "INFO:root:\ttask: 3\tloss: 0.19759101\tacc: 0.960\n",
      "INFO:root:\ttask: 4\tloss: 0.59504801\tacc: 0.646\n",
      "INFO:root:\ttask: 5\tloss: 0.68644198\tacc: 0.581\n",
      "INFO:root:\ttask: avg\tloss: 0.35152207\tacc: 0.841\n",
      "INFO:root:final components: 6\n"
     ]
    },
    {
     "name": "stdout",
     "output_type": "stream",
     "text": [
      "perfs [0.826111313113706, 0.828315034955038, 0.8279069383177543, 0.8405579340735493]\n"
     ]
    },
    {
     "name": "stderr",
     "output_type": "stream",
     "text": [
      "INFO:root:epochs: 0, training task: 5\n",
      "INFO:root:\ttask: 0\tloss: 0.04048745\tacc: 0.990\n",
      "INFO:root:\ttask: 1\tloss: 0.22641191\tacc: 0.950\n",
      "INFO:root:\ttask: 2\tloss: 0.36565948\tacc: 0.919\n",
      "INFO:root:\ttask: 3\tloss: 0.25618392\tacc: 0.955\n",
      "INFO:root:\ttask: 4\tloss: 0.16733023\tacc: 0.962\n",
      "INFO:root:\ttask: 5\tloss: 0.69314746\tacc: 0.529\n",
      "INFO:root:\ttask: avg\tloss: 0.29153674\tacc: 0.884\n"
     ]
    },
    {
     "name": "stdout",
     "output_type": "stream",
     "text": [
      "no. current components 5 NUM_CANDIDATE_MODULES 1 len(module_list) 1\n"
     ]
    },
    {
     "name": "stderr",
     "output_type": "stream",
     "text": [
      "INFO:root:epochs: 1, training task: 5\n",
      "INFO:root:\ttask: 0\tloss: 0.04048745\tacc: 0.990\n",
      "INFO:root:\ttask: 1\tloss: 0.22641191\tacc: 0.950\n",
      "INFO:root:\ttask: 2\tloss: 0.36565948\tacc: 0.919\n",
      "INFO:root:\ttask: 3\tloss: 0.25618392\tacc: 0.955\n",
      "INFO:root:\ttask: 4\tloss: 0.16733023\tacc: 0.962\n",
      "INFO:root:\ttask: 5\tloss: 0.69191509\tacc: 0.471\n",
      "INFO:root:\ttask: avg\tloss: 0.29133135\tacc: 0.875\n",
      "INFO:root:candidate 5: W/update: 0.5, WO/update: 0.5, improv 0.0\n",
      "INFO:root:Not keeping any new modules. Total: 5\n",
      "INFO:root:epochs: 2, training task: 5\n",
      "INFO:root:\ttask: 0\tloss: 0.04048745\tacc: 0.990\n",
      "INFO:root:\ttask: 1\tloss: 0.22641191\tacc: 0.950\n",
      "INFO:root:\ttask: 2\tloss: 0.36565948\tacc: 0.919\n",
      "INFO:root:\ttask: 3\tloss: 0.25618392\tacc: 0.955\n",
      "INFO:root:\ttask: 4\tloss: 0.16733023\tacc: 0.962\n",
      "INFO:root:\ttask: 5\tloss: 0.69245825\tacc: 0.471\n",
      "INFO:root:\ttask: avg\tloss: 0.29142187\tacc: 0.875\n",
      "INFO:root:final components: 5\n",
      "INFO:root:epochs: 0, training task: 5\n",
      "INFO:root:\ttask: 0\tloss: 0.04048745\tacc: 0.990\n",
      "INFO:root:\ttask: 1\tloss: 0.22641191\tacc: 0.950\n",
      "INFO:root:\ttask: 2\tloss: 0.36565948\tacc: 0.919\n",
      "INFO:root:\ttask: 3\tloss: 0.25618392\tacc: 0.955\n",
      "INFO:root:\ttask: 4\tloss: 0.16733023\tacc: 0.962\n",
      "INFO:root:\ttask: 5\tloss: 0.59097483\tacc: 0.523\n",
      "INFO:root:\ttask: avg\tloss: 0.27450797\tacc: 0.883\n"
     ]
    },
    {
     "name": "stdout",
     "output_type": "stream",
     "text": [
      "no. current components 5 NUM_CANDIDATE_MODULES 1 len(module_list) 1\n"
     ]
    },
    {
     "name": "stderr",
     "output_type": "stream",
     "text": [
      "INFO:root:epochs: 1, training task: 5\n",
      "INFO:root:\ttask: 0\tloss: 0.04048745\tacc: 0.990\n",
      "INFO:root:\ttask: 1\tloss: 0.22641191\tacc: 0.950\n",
      "INFO:root:\ttask: 2\tloss: 0.36565948\tacc: 0.919\n",
      "INFO:root:\ttask: 3\tloss: 0.25618392\tacc: 0.955\n",
      "INFO:root:\ttask: 4\tloss: 0.16733023\tacc: 0.962\n",
      "INFO:root:\ttask: 5\tloss: 0.61409034\tacc: 0.935\n",
      "INFO:root:\ttask: avg\tloss: 0.27836056\tacc: 0.952\n",
      "INFO:root:candidate 5: W/update: 0.97, WO/update: 0.87, improv 0.11494252873563215\n",
      "INFO:root:Keeping new module 5. Total: 6\n",
      "INFO:root:epochs: 2, training task: 5\n",
      "INFO:root:\ttask: 0\tloss: 0.04048745\tacc: 0.990\n",
      "INFO:root:\ttask: 1\tloss: 0.22641191\tacc: 0.950\n",
      "INFO:root:\ttask: 2\tloss: 0.36565948\tacc: 0.919\n",
      "INFO:root:\ttask: 3\tloss: 0.25618392\tacc: 0.955\n",
      "INFO:root:\ttask: 4\tloss: 0.16733023\tacc: 0.962\n",
      "INFO:root:\ttask: 5\tloss: 0.29286117\tacc: 0.935\n",
      "INFO:root:\ttask: avg\tloss: 0.22482236\tacc: 0.952\n",
      "INFO:root:final components: 6\n",
      "INFO:root:epochs: 0, training task: 5\n",
      "INFO:root:\ttask: 0\tloss: 0.04048745\tacc: 0.990\n",
      "INFO:root:\ttask: 1\tloss: 0.22641191\tacc: 0.950\n",
      "INFO:root:\ttask: 2\tloss: 0.36565948\tacc: 0.919\n",
      "INFO:root:\ttask: 3\tloss: 0.25618392\tacc: 0.955\n",
      "INFO:root:\ttask: 4\tloss: 0.16733023\tacc: 0.962\n",
      "INFO:root:\ttask: 5\tloss: 0.69314746\tacc: 0.529\n",
      "INFO:root:\ttask: avg\tloss: 0.29153674\tacc: 0.884\n"
     ]
    },
    {
     "name": "stdout",
     "output_type": "stream",
     "text": [
      "no. current components 5 NUM_CANDIDATE_MODULES 1 len(module_list) 1\n"
     ]
    },
    {
     "name": "stderr",
     "output_type": "stream",
     "text": [
      "INFO:root:epochs: 1, training task: 5\n",
      "INFO:root:\ttask: 0\tloss: 0.04048745\tacc: 0.990\n",
      "INFO:root:\ttask: 1\tloss: 0.22641191\tacc: 0.950\n",
      "INFO:root:\ttask: 2\tloss: 0.36565948\tacc: 0.919\n",
      "INFO:root:\ttask: 3\tloss: 0.25618392\tacc: 0.955\n",
      "INFO:root:\ttask: 4\tloss: 0.16733023\tacc: 0.962\n",
      "INFO:root:\ttask: 5\tloss: 0.69271756\tacc: 0.471\n",
      "INFO:root:\ttask: avg\tloss: 0.29146509\tacc: 0.875\n",
      "INFO:root:candidate 5: W/update: 0.5, WO/update: 0.5, improv 0.0\n",
      "INFO:root:Not keeping any new modules. Total: 5\n",
      "INFO:root:epochs: 2, training task: 5\n",
      "INFO:root:\ttask: 0\tloss: 0.04048745\tacc: 0.990\n",
      "INFO:root:\ttask: 1\tloss: 0.22641191\tacc: 0.950\n",
      "INFO:root:\ttask: 2\tloss: 0.36565948\tacc: 0.919\n",
      "INFO:root:\ttask: 3\tloss: 0.25618392\tacc: 0.955\n",
      "INFO:root:\ttask: 4\tloss: 0.16733023\tacc: 0.962\n",
      "INFO:root:\ttask: 5\tloss: 0.69368819\tacc: 0.471\n",
      "INFO:root:\ttask: avg\tloss: 0.29162686\tacc: 0.875\n",
      "INFO:root:final components: 5\n",
      "INFO:root:epochs: 0, training task: 5\n",
      "INFO:root:\ttask: 0\tloss: 0.04048745\tacc: 0.990\n",
      "INFO:root:\ttask: 1\tloss: 0.22641191\tacc: 0.950\n",
      "INFO:root:\ttask: 2\tloss: 0.36565948\tacc: 0.919\n",
      "INFO:root:\ttask: 3\tloss: 0.25618392\tacc: 0.955\n",
      "INFO:root:\ttask: 4\tloss: 0.16733023\tacc: 0.962\n",
      "INFO:root:\ttask: 5\tloss: 0.69314746\tacc: 0.529\n",
      "INFO:root:\ttask: avg\tloss: 0.29153674\tacc: 0.884\n"
     ]
    },
    {
     "name": "stdout",
     "output_type": "stream",
     "text": [
      "no. current components 5 NUM_CANDIDATE_MODULES 1 len(module_list) 1\n"
     ]
    },
    {
     "name": "stderr",
     "output_type": "stream",
     "text": [
      "INFO:root:epochs: 1, training task: 5\n",
      "INFO:root:\ttask: 0\tloss: 0.04048745\tacc: 0.990\n",
      "INFO:root:\ttask: 1\tloss: 0.22641191\tacc: 0.950\n",
      "INFO:root:\ttask: 2\tloss: 0.36565948\tacc: 0.919\n",
      "INFO:root:\ttask: 3\tloss: 0.25618392\tacc: 0.955\n",
      "INFO:root:\ttask: 4\tloss: 0.16733023\tacc: 0.962\n",
      "INFO:root:\ttask: 5\tloss: 0.69147067\tacc: 0.471\n",
      "INFO:root:\ttask: avg\tloss: 0.29125728\tacc: 0.875\n",
      "INFO:root:candidate 5: W/update: 0.5, WO/update: 0.5, improv 0.0\n",
      "INFO:root:Not keeping any new modules. Total: 5\n",
      "INFO:root:epochs: 2, training task: 5\n",
      "INFO:root:\ttask: 0\tloss: 0.04048745\tacc: 0.990\n",
      "INFO:root:\ttask: 1\tloss: 0.22641191\tacc: 0.950\n",
      "INFO:root:\ttask: 2\tloss: 0.36565948\tacc: 0.919\n",
      "INFO:root:\ttask: 3\tloss: 0.25618392\tacc: 0.955\n",
      "INFO:root:\ttask: 4\tloss: 0.16733023\tacc: 0.962\n",
      "INFO:root:\ttask: 5\tloss: 0.69120072\tacc: 0.471\n",
      "INFO:root:\ttask: avg\tloss: 0.29121229\tacc: 0.875\n",
      "INFO:root:final components: 5\n"
     ]
    },
    {
     "name": "stdout",
     "output_type": "stream",
     "text": [
      "perfs [0.8746604585309828, 0.9519720358425601, 0.8746604585309828, 0.8746604585309828]\n"
     ]
    },
    {
     "name": "stderr",
     "output_type": "stream",
     "text": [
      "INFO:root:epochs: 0, training task: 5\n",
      "INFO:root:\ttask: 0\tloss: 0.03555028\tacc: 0.988\n",
      "INFO:root:\ttask: 1\tloss: 0.26426935\tacc: 0.946\n",
      "INFO:root:\ttask: 2\tloss: 0.33472061\tacc: 0.920\n",
      "INFO:root:\ttask: 3\tloss: 0.20777596\tacc: 0.960\n",
      "INFO:root:\ttask: 4\tloss: 0.27535241\tacc: 0.886\n",
      "INFO:root:\ttask: 5\tloss: 0.69314748\tacc: 0.499\n",
      "INFO:root:\ttask: avg\tloss: 0.30180268\tacc: 0.867\n"
     ]
    },
    {
     "name": "stdout",
     "output_type": "stream",
     "text": [
      "no. current components 5 NUM_CANDIDATE_MODULES 1 len(module_list) 1\n"
     ]
    },
    {
     "name": "stderr",
     "output_type": "stream",
     "text": [
      "INFO:root:epochs: 1, training task: 5\n",
      "INFO:root:\ttask: 0\tloss: 0.03555028\tacc: 0.988\n",
      "INFO:root:\ttask: 1\tloss: 0.26426935\tacc: 0.946\n",
      "INFO:root:\ttask: 2\tloss: 0.33472061\tacc: 0.920\n",
      "INFO:root:\ttask: 3\tloss: 0.20777596\tacc: 0.960\n",
      "INFO:root:\ttask: 4\tloss: 0.27535241\tacc: 0.886\n",
      "INFO:root:\ttask: 5\tloss: 0.68858492\tacc: 0.501\n",
      "INFO:root:\ttask: avg\tloss: 0.30104225\tacc: 0.867\n",
      "INFO:root:candidate 5: W/update: 0.6, WO/update: 0.6, improv 0.0\n",
      "INFO:root:Not keeping any new modules. Total: 5\n",
      "INFO:root:epochs: 2, training task: 5\n",
      "INFO:root:\ttask: 0\tloss: 0.03555028\tacc: 0.988\n",
      "INFO:root:\ttask: 1\tloss: 0.26426935\tacc: 0.946\n",
      "INFO:root:\ttask: 2\tloss: 0.33472061\tacc: 0.920\n",
      "INFO:root:\ttask: 3\tloss: 0.20777596\tacc: 0.960\n",
      "INFO:root:\ttask: 4\tloss: 0.27535241\tacc: 0.886\n",
      "INFO:root:\ttask: 5\tloss: 0.68021137\tacc: 0.501\n",
      "INFO:root:\ttask: avg\tloss: 0.29964666\tacc: 0.867\n",
      "INFO:root:final components: 5\n",
      "INFO:root:epochs: 0, training task: 5\n",
      "INFO:root:\ttask: 0\tloss: 0.03555028\tacc: 0.988\n",
      "INFO:root:\ttask: 1\tloss: 0.26426935\tacc: 0.946\n",
      "INFO:root:\ttask: 2\tloss: 0.33472061\tacc: 0.920\n",
      "INFO:root:\ttask: 3\tloss: 0.20777596\tacc: 0.960\n",
      "INFO:root:\ttask: 4\tloss: 0.27535241\tacc: 0.886\n",
      "INFO:root:\ttask: 5\tloss: 0.39861946\tacc: 0.918\n",
      "INFO:root:\ttask: avg\tloss: 0.25271468\tacc: 0.936\n"
     ]
    },
    {
     "name": "stdout",
     "output_type": "stream",
     "text": [
      "no. current components 5 NUM_CANDIDATE_MODULES 1 len(module_list) 1\n"
     ]
    },
    {
     "name": "stderr",
     "output_type": "stream",
     "text": [
      "INFO:root:epochs: 1, training task: 5\n",
      "INFO:root:\ttask: 0\tloss: 0.03555028\tacc: 0.988\n",
      "INFO:root:\ttask: 1\tloss: 0.26426935\tacc: 0.946\n",
      "INFO:root:\ttask: 2\tloss: 0.33472061\tacc: 0.920\n",
      "INFO:root:\ttask: 3\tloss: 0.20777596\tacc: 0.960\n",
      "INFO:root:\ttask: 4\tloss: 0.27535241\tacc: 0.886\n",
      "INFO:root:\ttask: 5\tloss: 0.53751351\tacc: 0.910\n",
      "INFO:root:\ttask: avg\tloss: 0.27586369\tacc: 0.935\n",
      "INFO:root:candidate 5: W/update: 0.96, WO/update: 0.88, improv 0.09090909090909087\n",
      "INFO:root:Keeping new module 5. Total: 6\n",
      "INFO:root:epochs: 2, training task: 5\n",
      "INFO:root:\ttask: 0\tloss: 0.03555028\tacc: 0.988\n",
      "INFO:root:\ttask: 1\tloss: 0.26426935\tacc: 0.946\n",
      "INFO:root:\ttask: 2\tloss: 0.33472061\tacc: 0.920\n",
      "INFO:root:\ttask: 3\tloss: 0.20777596\tacc: 0.960\n",
      "INFO:root:\ttask: 4\tloss: 0.27535241\tacc: 0.886\n",
      "INFO:root:\ttask: 5\tloss: 0.26825312\tacc: 0.910\n",
      "INFO:root:\ttask: avg\tloss: 0.23098695\tacc: 0.935\n",
      "INFO:root:final components: 6\n",
      "INFO:root:epochs: 0, training task: 5\n",
      "INFO:root:\ttask: 0\tloss: 0.03555028\tacc: 0.988\n",
      "INFO:root:\ttask: 1\tloss: 0.26426935\tacc: 0.946\n",
      "INFO:root:\ttask: 2\tloss: 0.33472061\tacc: 0.920\n",
      "INFO:root:\ttask: 3\tloss: 0.20777596\tacc: 0.960\n",
      "INFO:root:\ttask: 4\tloss: 0.27535241\tacc: 0.886\n",
      "INFO:root:\ttask: 5\tloss: 0.69314748\tacc: 0.499\n",
      "INFO:root:\ttask: avg\tloss: 0.30180268\tacc: 0.867\n"
     ]
    },
    {
     "name": "stdout",
     "output_type": "stream",
     "text": [
      "no. current components 5 NUM_CANDIDATE_MODULES 1 len(module_list) 1\n"
     ]
    },
    {
     "name": "stderr",
     "output_type": "stream",
     "text": [
      "INFO:root:epochs: 1, training task: 5\n",
      "INFO:root:\ttask: 0\tloss: 0.03555028\tacc: 0.988\n",
      "INFO:root:\ttask: 1\tloss: 0.26426935\tacc: 0.946\n",
      "INFO:root:\ttask: 2\tloss: 0.33472061\tacc: 0.920\n",
      "INFO:root:\ttask: 3\tloss: 0.20777596\tacc: 0.960\n",
      "INFO:root:\ttask: 4\tloss: 0.27535241\tacc: 0.886\n",
      "INFO:root:\ttask: 5\tloss: 0.68978746\tacc: 0.501\n",
      "INFO:root:\ttask: avg\tloss: 0.30124268\tacc: 0.867\n",
      "INFO:root:candidate 5: W/update: 0.6, WO/update: 0.6, improv 0.0\n",
      "INFO:root:Not keeping any new modules. Total: 5\n",
      "INFO:root:epochs: 2, training task: 5\n",
      "INFO:root:\ttask: 0\tloss: 0.03555028\tacc: 0.988\n",
      "INFO:root:\ttask: 1\tloss: 0.26426935\tacc: 0.946\n",
      "INFO:root:\ttask: 2\tloss: 0.33472061\tacc: 0.920\n",
      "INFO:root:\ttask: 3\tloss: 0.20777596\tacc: 0.960\n",
      "INFO:root:\ttask: 4\tloss: 0.27535241\tacc: 0.886\n",
      "INFO:root:\ttask: 5\tloss: 0.68480521\tacc: 0.501\n",
      "INFO:root:\ttask: avg\tloss: 0.30041230\tacc: 0.867\n",
      "INFO:root:final components: 5\n",
      "INFO:root:epochs: 0, training task: 5\n",
      "INFO:root:\ttask: 0\tloss: 0.03555028\tacc: 0.988\n",
      "INFO:root:\ttask: 1\tloss: 0.26426935\tacc: 0.946\n",
      "INFO:root:\ttask: 2\tloss: 0.33472061\tacc: 0.920\n",
      "INFO:root:\ttask: 3\tloss: 0.20777596\tacc: 0.960\n",
      "INFO:root:\ttask: 4\tloss: 0.27535241\tacc: 0.886\n",
      "INFO:root:\ttask: 5\tloss: 0.69314748\tacc: 0.499\n",
      "INFO:root:\ttask: avg\tloss: 0.30180268\tacc: 0.867\n"
     ]
    },
    {
     "name": "stdout",
     "output_type": "stream",
     "text": [
      "no. current components 5 NUM_CANDIDATE_MODULES 1 len(module_list) 1\n"
     ]
    },
    {
     "name": "stderr",
     "output_type": "stream",
     "text": [
      "INFO:root:epochs: 1, training task: 5\n",
      "INFO:root:\ttask: 0\tloss: 0.03555028\tacc: 0.988\n",
      "INFO:root:\ttask: 1\tloss: 0.26426935\tacc: 0.946\n",
      "INFO:root:\ttask: 2\tloss: 0.33472061\tacc: 0.920\n",
      "INFO:root:\ttask: 3\tloss: 0.20777596\tacc: 0.960\n",
      "INFO:root:\ttask: 4\tloss: 0.27535241\tacc: 0.886\n",
      "INFO:root:\ttask: 5\tloss: 0.69430210\tacc: 0.499\n",
      "INFO:root:\ttask: avg\tloss: 0.30199512\tacc: 0.867\n",
      "INFO:root:candidate 5: W/update: 0.4, WO/update: 0.4, improv 0.0\n",
      "INFO:root:Not keeping any new modules. Total: 5\n",
      "INFO:root:epochs: 2, training task: 5\n",
      "INFO:root:\ttask: 0\tloss: 0.03555028\tacc: 0.988\n",
      "INFO:root:\ttask: 1\tloss: 0.26426935\tacc: 0.946\n",
      "INFO:root:\ttask: 2\tloss: 0.33472061\tacc: 0.920\n",
      "INFO:root:\ttask: 3\tloss: 0.20777596\tacc: 0.960\n",
      "INFO:root:\ttask: 4\tloss: 0.27535241\tacc: 0.886\n",
      "INFO:root:\ttask: 5\tloss: 0.69892891\tacc: 0.499\n",
      "INFO:root:\ttask: avg\tloss: 0.30276625\tacc: 0.867\n",
      "INFO:root:final components: 5\n"
     ]
    },
    {
     "name": "stdout",
     "output_type": "stream",
     "text": [
      "perfs [0.8669661614840246, 0.9350891388303029, 0.8669661614840246, 0.8666425368885554]\n"
     ]
    }
   ],
   "source": [
    "fleet.communicate(task_id=5, end_epoch=None, comm_freq=None, num_epochs=None)"
   ]
  },
  {
   "cell_type": "code",
   "execution_count": 12,
   "metadata": {},
   "outputs": [
    {
     "data": {
      "text/html": [
       "<div>\n",
       "<style scoped>\n",
       "    .dataframe tbody tr th:only-of-type {\n",
       "        vertical-align: middle;\n",
       "    }\n",
       "\n",
       "    .dataframe tbody tr th {\n",
       "        vertical-align: top;\n",
       "    }\n",
       "\n",
       "    .dataframe thead th {\n",
       "        text-align: right;\n",
       "    }\n",
       "</style>\n",
       "<table border=\"1\" class=\"dataframe\">\n",
       "  <thead>\n",
       "    <tr style=\"text-align: right;\">\n",
       "      <th></th>\n",
       "      <th>task_id</th>\n",
       "      <th>source_task_id</th>\n",
       "      <th>task_sim</th>\n",
       "      <th>module_id</th>\n",
       "      <th>neighbor_id</th>\n",
       "      <th>tryout_module_perf</th>\n",
       "    </tr>\n",
       "  </thead>\n",
       "  <tbody>\n",
       "    <tr>\n",
       "      <th>0</th>\n",
       "      <td>5</td>\n",
       "      <td>4</td>\n",
       "      <td>0.333333</td>\n",
       "      <td>4</td>\n",
       "      <td>4</td>\n",
       "      <td>NaN</td>\n",
       "    </tr>\n",
       "    <tr>\n",
       "      <th>1</th>\n",
       "      <td>6</td>\n",
       "      <td>4</td>\n",
       "      <td>0.333333</td>\n",
       "      <td>4</td>\n",
       "      <td>5</td>\n",
       "      <td>NaN</td>\n",
       "    </tr>\n",
       "    <tr>\n",
       "      <th>2</th>\n",
       "      <td>7</td>\n",
       "      <td>4</td>\n",
       "      <td>1.000000</td>\n",
       "      <td>4</td>\n",
       "      <td>6</td>\n",
       "      <td>NaN</td>\n",
       "    </tr>\n",
       "    <tr>\n",
       "      <th>3</th>\n",
       "      <td>8</td>\n",
       "      <td>4</td>\n",
       "      <td>0.333333</td>\n",
       "      <td>4</td>\n",
       "      <td>5</td>\n",
       "      <td>NaN</td>\n",
       "    </tr>\n",
       "    <tr>\n",
       "      <th>4</th>\n",
       "      <td>9</td>\n",
       "      <td>4</td>\n",
       "      <td>0.333333</td>\n",
       "      <td>4</td>\n",
       "      <td>7</td>\n",
       "      <td>NaN</td>\n",
       "    </tr>\n",
       "    <tr>\n",
       "      <th>0</th>\n",
       "      <td>5</td>\n",
       "      <td>4</td>\n",
       "      <td>-0.219018</td>\n",
       "      <td>4</td>\n",
       "      <td>4</td>\n",
       "      <td>0.955366</td>\n",
       "    </tr>\n",
       "  </tbody>\n",
       "</table>\n",
       "</div>"
      ],
      "text/plain": [
       "   task_id  source_task_id  task_sim  module_id  neighbor_id  \\\n",
       "0        5               4  0.333333          4            4   \n",
       "1        6               4  0.333333          4            5   \n",
       "2        7               4  1.000000          4            6   \n",
       "3        8               4  0.333333          4            5   \n",
       "4        9               4  0.333333          4            7   \n",
       "0        5               4 -0.219018          4            4   \n",
       "\n",
       "   tryout_module_perf  \n",
       "0                 NaN  \n",
       "1                 NaN  \n",
       "2                 NaN  \n",
       "3                 NaN  \n",
       "4                 NaN  \n",
       "0            0.955366  "
      ]
     },
     "execution_count": 12,
     "metadata": {},
     "output_type": "execute_result"
    }
   ],
   "source": [
    "node = fleet.agents[0]\n",
    "node.modmod_record.df"
   ]
  },
  {
   "cell_type": "code",
   "execution_count": 14,
   "metadata": {},
   "outputs": [
    {
     "data": {
      "text/plain": [
       "{'component_update_freq': 100,\n",
       " 'num_epochs': 100,\n",
       " 'init_component_update_freq': 100,\n",
       " 'init_num_epochs': 100,\n",
       " 'save_freq': 10,\n",
       " 'module_list': [Linear(in_features=64, out_features=64, bias=True)],\n",
       " 'decoder_list': [{'decoder': Linear(in_features=64, out_features=2, bias=True),\n",
       "   'source_class_labels': array([2, 1])}],\n",
       " 'structure_list': [{'structure': Parameter containing:\n",
       "   tensor([[1.4816, 0.4443, 0.4523, 0.6124],\n",
       "           [0.4903, 1.4981, 1.5775, 1.4950],\n",
       "           [0.5579, 0.4729, 0.4973, 0.9931],\n",
       "           [0.8211, 0.4625, 0.6263, 0.7021],\n",
       "           [1.2320, 0.8768, 0.7979, 0.9631]], device='cuda:0', requires_grad=True),\n",
       "   'module_id': 4}]}"
      ]
     },
     "execution_count": 14,
     "metadata": {},
     "output_type": "execute_result"
    }
   ],
   "source": [
    "node.train_kwargs"
   ]
  },
  {
   "cell_type": "code",
   "execution_count": 17,
   "metadata": {},
   "outputs": [
    {
     "data": {
      "text/plain": [
       "'task_similarity_engineering_experiment_results/agent_0/modmod_add_modules_record.csv'"
      ]
     },
     "execution_count": 17,
     "metadata": {},
     "output_type": "execute_result"
    }
   ],
   "source": [
    "node.modmod_record.path"
   ]
  },
  {
   "cell_type": "code",
   "execution_count": null,
   "metadata": {},
   "outputs": [],
   "source": []
  },
  {
   "cell_type": "code",
   "execution_count": 13,
   "metadata": {},
   "outputs": [
    {
     "data": {
      "text/plain": [
       "'task_similarity_engineering_experiment_results/agent_0'"
      ]
     },
     "execution_count": 13,
     "metadata": {},
     "output_type": "execute_result"
    }
   ],
   "source": [
    "node.save_dir"
   ]
  },
  {
   "cell_type": "code",
   "execution_count": null,
   "metadata": {},
   "outputs": [],
   "source": [
    "node.incoming_modules"
   ]
  },
  {
   "cell_type": "code",
   "execution_count": null,
   "metadata": {},
   "outputs": [],
   "source": [
    "task_sims = [-0.6105588176717575, -0.6862172730042327, -0.693143989000467, -0.6848385105159178, -0.6034522980633152]\n",
    "\n",
    "most_similar_task = max(\n",
    "            range(len(task_sims)), key=lambda x: (task_sims[x], -x))\n",
    "most_similar_task"
   ]
  },
  {
   "cell_type": "code",
   "execution_count": null,
   "metadata": {},
   "outputs": [],
   "source": [
    "fleet.agents[1].outgoing_modules"
   ]
  },
  {
   "cell_type": "code",
   "execution_count": null,
   "metadata": {},
   "outputs": [],
   "source": [
    "len(node.dataset.valset[0])"
   ]
  },
  {
   "cell_type": "code",
   "execution_count": null,
   "metadata": {},
   "outputs": [],
   "source": [
    "neighbor_id = 1\n",
    "query = node.query_tasks[neighbor_id]\n",
    "fig, ax = plt.subplots(1, len(query.keys()), figsize=(10, 10))\n",
    "for i, (y, data) in enumerate(query.items()):\n",
    "    X = data['X'].cpu()\n",
    "    print(data['scores'])\n",
    "    ax[i].imshow(make_grid(X).permute(1, 2, 0));"
   ]
  },
  {
   "cell_type": "code",
   "execution_count": null,
   "metadata": {},
   "outputs": [],
   "source": [
    "from shell.fleet.mod.modmod import compute_consistency\n",
    "compute_consistency(node.net, X.to('cuda'), task_id=0)"
   ]
  },
  {
   "cell_type": "code",
   "execution_count": null,
   "metadata": {},
   "outputs": [],
   "source": [
    "node.eval_test(4)"
   ]
  },
  {
   "cell_type": "code",
   "execution_count": null,
   "metadata": {},
   "outputs": [],
   "source": [
    "with torch.no_grad():\n",
    "    node.net.eval()\n",
    "    for i, (y, data) in enumerate(query.items()):\n",
    "        X = data['X']\n",
    "        for t in range(4):\n",
    "            logits = node.net(X, t)\n",
    "            print('t:', t, 'y:', y, '\\nlogits', logits)\n",
    "    "
   ]
  },
  {
   "cell_type": "code",
   "execution_count": null,
   "metadata": {},
   "outputs": [],
   "source": [
    "node = fleet.agents[5]\n",
    "X = node.dataset.valset[3].tensors[0]\n",
    "# X = node.dataset.valset[6].tensors[0]\n",
    "plt.imshow(make_grid(X).permute(1, 2, 0));"
   ]
  },
  {
   "cell_type": "code",
   "execution_count": null,
   "metadata": {},
   "outputs": [],
   "source": [
    "print(fleet.agents[0].dataset.class_sequence)\n",
    "print(fleet.agents[1].dataset.class_sequence)"
   ]
  },
  {
   "cell_type": "code",
   "execution_count": null,
   "metadata": {},
   "outputs": [],
   "source": [
    "task_id = 3\n",
    "task = node.dataset.class_sequence[task_id *\n",
    "                                                 node.dataset.num_classes_per_task: (task_id + 1) * node.dataset.num_classes_per_task]\n",
    "task"
   ]
  },
  {
   "cell_type": "code",
   "execution_count": null,
   "metadata": {},
   "outputs": [],
   "source": [
    "node.dataset.class_sequence"
   ]
  },
  {
   "cell_type": "code",
   "execution_count": null,
   "metadata": {},
   "outputs": [],
   "source": [
    "node.incoming_modules"
   ]
  },
  {
   "cell_type": "code",
   "execution_count": null,
   "metadata": {},
   "outputs": [],
   "source": [
    "fleet.agents[1].query_tasks"
   ]
  },
  {
   "cell_type": "code",
   "execution_count": null,
   "metadata": {},
   "outputs": [],
   "source": [
    "import torch"
   ]
  },
  {
   "cell_type": "code",
   "execution_count": null,
   "metadata": {},
   "outputs": [],
   "source": [
    "dist = torch.tensor(\n",
    "    [[1, 0.5, 0.2],\n",
    "     [0.2, 0.01, -0.1]]\n",
    ")"
   ]
  },
  {
   "cell_type": "code",
   "execution_count": null,
   "metadata": {},
   "outputs": [],
   "source": [
    "dist, _ = torch.topk(dist, 2, largest=False)"
   ]
  },
  {
   "cell_type": "code",
   "execution_count": null,
   "metadata": {},
   "outputs": [],
   "source": [
    "dist"
   ]
  },
  {
   "cell_type": "code",
   "execution_count": null,
   "metadata": {},
   "outputs": [],
   "source": [
    "from torchmetrics.functional.pairwise import pairwise_cosine_similarity"
   ]
  },
  {
   "cell_type": "code",
   "execution_count": null,
   "metadata": {},
   "outputs": [],
   "source": [
    "x = torch.tensor([[2, 3], [3, 5], [5, 8]], dtype=torch.float32)"
   ]
  },
  {
   "cell_type": "code",
   "execution_count": null,
   "metadata": {},
   "outputs": [],
   "source": [
    "pairwise_cosine_similarity(x, x)"
   ]
  },
  {
   "cell_type": "code",
   "execution_count": null,
   "metadata": {},
   "outputs": [],
   "source": []
  }
 ],
 "metadata": {
  "kernelspec": {
   "display_name": "shell",
   "language": "python",
   "name": "python3"
  },
  "language_info": {
   "codemirror_mode": {
    "name": "ipython",
    "version": 3
   },
   "file_extension": ".py",
   "mimetype": "text/x-python",
   "name": "python",
   "nbconvert_exporter": "python",
   "pygments_lexer": "ipython3",
   "version": "3.10.9"
  }
 },
 "nbformat": 4,
 "nbformat_minor": 2
}
