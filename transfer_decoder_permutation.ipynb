{
 "cells": [
  {
   "cell_type": "code",
   "execution_count": 7,
   "metadata": {},
   "outputs": [
    {
     "data": {
      "text/plain": [
       "tensor([[0., 1., 0.],\n",
       "        [0., 0., 0.],\n",
       "        [0., 0., 0.]])"
      ]
     },
     "execution_count": 7,
     "metadata": {},
     "output_type": "execute_result"
    }
   ],
   "source": [
    "P_partial"
   ]
  },
  {
   "cell_type": "code",
   "execution_count": 6,
   "metadata": {},
   "outputs": [
    {
     "name": "stdout",
     "output_type": "stream",
     "text": [
      "Labels Original:\n",
      " tensor([2, 1, 1, 2, 2])\n",
      "Labels Full Transform:\n",
      " tensor([0, 1, 1, 0, 0])\n",
      "Labels Partial Transform:\n",
      " tensor([0, 0, 1, 1, 0])\n",
      "Labels No Overlap Transform:\n",
      " tensor([0, 0, 0, 0, 0])\n",
      "\n",
      "\n",
      "\n",
      "Correct Full Overlap: 5/5\n",
      "Correct Partial Overlap: 1/2\n",
      "Correct No Overlap: 0/0\n"
     ]
    }
   ],
   "source": [
    "import torch\n",
    "import torch.nn as nn\n",
    "\n",
    "def create_general_permutation_matrix(task1_classes, task2_classes, K):\n",
    "    # Initialize a zero matrix for the new definition\n",
    "    P = torch.zeros(K, K)\n",
    "    \n",
    "    task1_mapping = {c: i for i, c in enumerate(task1_classes)}\n",
    "    task2_mapping = {c: i for i, c in enumerate(task2_classes)}\n",
    "    \n",
    "    for class_ in task1_classes:\n",
    "        if class_ in task2_mapping:\n",
    "            P[task2_mapping[class_], task1_mapping[class_]] = 1\n",
    "            \n",
    "    return P\n",
    "\n",
    "\n",
    "# Initialize the nn.Linear layer with F input features and K output features (classes)\n",
    "F, K = 4, 3\n",
    "D = nn.Linear(F, K, bias=True)  # This layer represents D\n",
    "\n",
    "# Simulate the class lists for Task 1 and Task 2 with full overlap\n",
    "task1_classes = [0, 1, 2]\n",
    "task2_classes_full = [2, 1, 0]  # Full overlap with reordering\n",
    "# Simulate the class lists for Task 1 and Task 2 with partial overlap and no overlap\n",
    "# task2_classes_partial = [1, 2, 4]  # Partial overlap\n",
    "task2_classes_partial = [1, 8, 4]  # Partial overlap\n",
    "task2_classes_no_overlap = [3, 4, 5]  # No overlap\n",
    "\n",
    "# Verification with a random input X\n",
    "N = 5  # Number of samples\n",
    "X = torch.randn(N, F)\n",
    "\n",
    "def predict_labels(y):\n",
    "    softmax_scores = torch.nn.functional.softmax(y, dim=1)\n",
    "    return torch.argmax(softmax_scores, dim=1)\n",
    "\n",
    "# Function to apply transformation to D and create D'\n",
    "def transform_D(D, P, F, K):\n",
    "    # transformed_weights = torch.matmul(P, D.weight.data)\n",
    "    # transformed_bias = torch.matmul(P, D.bias.data)\n",
    "    transformed_weights = torch.matmul(P, D.weight.data)\n",
    "    transformed_bias = torch.matmul(P, D.bias.data)\n",
    "    D_prime = nn.Linear(F, K, bias=True)\n",
    "    D_prime.weight.data = transformed_weights\n",
    "    D_prime.bias.data = transformed_bias\n",
    "    return D_prime\n",
    "\n",
    "P = create_general_permutation_matrix(task1_classes, task2_classes_full, K)\n",
    "# Create the permutation matrices for partial and no overlap cases\n",
    "P_partial = create_general_permutation_matrix(task1_classes, task2_classes_partial, K)\n",
    "P_no_overlap = create_general_permutation_matrix(task1_classes, task2_classes_no_overlap, K)\n",
    "\n",
    "\n",
    "# Apply transformations for partial and no overlap cases\n",
    "D_prime_full = transform_D(D, P, F, K)\n",
    "D_prime_partial = transform_D(D, P_partial, F, K)\n",
    "D_prime_no_overlap = transform_D(D, P_no_overlap, F, K)\n",
    "\n",
    "\n",
    "# Original predictions\n",
    "y_original = predict_labels(D(X))\n",
    "\n",
    "# Transformed predictions for full overlap\n",
    "y_transformed_full = predict_labels(D_prime_full(X))\n",
    "y_transformed_partial = predict_labels(D_prime_partial(X))\n",
    "y_transformed_no_overlap = predict_labels(D_prime_no_overlap(X))\n",
    "\n",
    "\n",
    "def verify_predictions(y_original, y_transformed, task1_classes, task2_classes):\n",
    "    # Direct mapping of original class indices to the global class space\n",
    "    task2_index_to_global = {i: class_ for i, class_ in enumerate(task2_classes)}\n",
    "\n",
    "    correct = 0\n",
    "    total_common = 0\n",
    "\n",
    "    for original, transformed in zip(y_original, y_transformed):\n",
    "        # If the original class is in the new task, check the prediction\n",
    "        if task1_classes[original.item()] in task2_classes:\n",
    "            total_common += 1  # Only count if it's a common class\n",
    "            # Map the transformed prediction back to its global class\n",
    "            transformed_global = task2_index_to_global.get(transformed.item())\n",
    "            # Check correctness\n",
    "            if transformed_global == task1_classes[original.item()]:\n",
    "                correct += 1\n",
    "\n",
    "    return correct, total_common\n",
    "\n",
    "\n",
    "\n",
    "print(\"Labels Original:\\n\", y_original)\n",
    "print(\"Labels Full Transform:\\n\", y_transformed_full)\n",
    "print(\"Labels Partial Transform:\\n\", y_transformed_partial)\n",
    "print(\"Labels No Overlap Transform:\\n\", y_transformed_no_overlap)\n",
    "\n",
    "\n",
    "\n",
    "\n",
    "\n",
    "# Verify correctness for partial and no overlap cases\n",
    "correct_full, total_full = verify_predictions(y_original, y_transformed_full, task1_classes, task2_classes_full)\n",
    "correct_partial, total_partial = verify_predictions(y_original, y_transformed_partial, task1_classes, task2_classes_partial)\n",
    "correct_no_overlap, total_no_overlap = verify_predictions(y_original, y_transformed_no_overlap, task1_classes, task2_classes_no_overlap)\n",
    "\n",
    "print('\\n\\n')\n",
    "print(f\"Correct Full Overlap: {correct_full}/{total_full}\")\n",
    "print(f\"Correct Partial Overlap: {correct_partial}/{total_partial}\")\n",
    "print(f\"Correct No Overlap: {correct_no_overlap}/{total_no_overlap}\")\n"
   ]
  },
  {
   "cell_type": "code",
   "execution_count": 13,
   "metadata": {},
   "outputs": [
    {
     "data": {
      "text/plain": [
       "tensor([[-0.5984,  0.3288,  0.4514],\n",
       "        [-0.2207,  0.4237, -0.0310],\n",
       "        [-0.1954, -0.1542, -0.3184],\n",
       "        [-0.1374, -0.1552,  0.2464],\n",
       "        [-0.5863,  0.1020,  0.5980]], grad_fn=<AddmmBackward0>)"
      ]
     },
     "execution_count": 13,
     "metadata": {},
     "output_type": "execute_result"
    }
   ],
   "source": [
    "D(X)"
   ]
  },
  {
   "cell_type": "code",
   "execution_count": 12,
   "metadata": {},
   "outputs": [
    {
     "data": {
      "text/plain": [
       "tensor([[ 0.4514,  0.3288, -0.5984],\n",
       "        [-0.0310,  0.4237, -0.2207],\n",
       "        [-0.3184, -0.1542, -0.1954],\n",
       "        [ 0.2464, -0.1552, -0.1374],\n",
       "        [ 0.5980,  0.1020, -0.5863]], grad_fn=<AddmmBackward0>)"
      ]
     },
     "execution_count": 12,
     "metadata": {},
     "output_type": "execute_result"
    }
   ],
   "source": [
    "D_prime_full(X)"
   ]
  },
  {
   "cell_type": "code",
   "execution_count": 14,
   "metadata": {},
   "outputs": [
    {
     "data": {
      "text/plain": [
       "tensor([[ 0.3288,  0.0000,  0.0000],\n",
       "        [ 0.4237,  0.0000,  0.0000],\n",
       "        [-0.1542,  0.0000,  0.0000],\n",
       "        [-0.1552,  0.0000,  0.0000],\n",
       "        [ 0.1020,  0.0000,  0.0000]], grad_fn=<AddmmBackward0>)"
      ]
     },
     "execution_count": 14,
     "metadata": {},
     "output_type": "execute_result"
    }
   ],
   "source": [
    "D_prime_partial(X)"
   ]
  },
  {
   "cell_type": "code",
   "execution_count": 2,
   "metadata": {},
   "outputs": [
    {
     "data": {
      "text/plain": [
       "tensor([0, 0, 0, 0, 0])"
      ]
     },
     "execution_count": 2,
     "metadata": {},
     "output_type": "execute_result"
    }
   ],
   "source": [
    "predict_labels(D(X) @ P_partial.T)"
   ]
  },
  {
   "cell_type": "code",
   "execution_count": null,
   "metadata": {},
   "outputs": [],
   "source": []
  }
 ],
 "metadata": {
  "kernelspec": {
   "display_name": "shell",
   "language": "python",
   "name": "python3"
  },
  "language_info": {
   "codemirror_mode": {
    "name": "ipython",
    "version": 3
   },
   "file_extension": ".py",
   "mimetype": "text/x-python",
   "name": "python",
   "nbconvert_exporter": "python",
   "pygments_lexer": "ipython3",
   "version": "3.10.9"
  }
 },
 "nbformat": 4,
 "nbformat_minor": 2
}
