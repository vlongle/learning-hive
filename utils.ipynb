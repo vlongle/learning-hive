{
 "cells": [
  {
   "cell_type": "code",
   "execution_count": 1,
   "metadata": {},
   "outputs": [],
   "source": [
    "import os\n",
    "import omegaconf\n",
    "from shell.utils.experiment_utils import *"
   ]
  },
  {
   "cell_type": "code",
   "execution_count": 3,
   "metadata": {},
   "outputs": [],
   "source": [
    "save_root_dir = \"results\"\n",
    "dataset = \"mnist\"\n",
    "algo = \"monolithic\"\n",
    "seed = 0"
   ]
  },
  {
   "cell_type": "code",
   "execution_count": 4,
   "metadata": {},
   "outputs": [],
   "source": [
    "experiment = os.path.join(save_root_dir, f\"{dataset}_{algo}\", dataset,algo, f\"seed_{seed}\")"
   ]
  },
  {
   "cell_type": "code",
   "execution_count": 5,
   "metadata": {},
   "outputs": [
    {
     "data": {
      "text/plain": [
       "{'train': {'component_update_freq': 100, 'num_epochs': 100, 'save_freq': 1}, 'dataset': {'dataset_name': 'mnist', 'num_tasks': 10, 'num_classes_per_task': 2, 'with_replacement': True, 'num_trains_per_class': 64, 'num_vals_per_class': 50, 'remap_labels': False}, 'net': {'name': 'mlp', 'depth': 4, 'num_init_tasks': 4, 'layer_size': 64, 'dropout': 0.5, 'freeze_encoder': True}, 'sharing_strategy': {'name': 'no_sharing'}, 'seed': 0, 'algo': 'monolithic', 'job_name': 'mnist_monolithic', 'num_agents': 1, 'root_save_dir': 'results', 'agent': {'save_dir': '${root_save_dir}/${job_name}/${dataset.dataset_name}/${algo}/seed_${seed}', 'batch_size': 64, 'memory_size': 64, 'improvement_threshold': 0.05}}"
      ]
     },
     "execution_count": 5,
     "metadata": {},
     "output_type": "execute_result"
    }
   ],
   "source": [
    "config_path = os.path.join(experiment, \"hydra_out\", \".hydra\", \"config.yaml\")\n",
    "# read the config file\n",
    "cfg = omegaconf.OmegaConf.load(config_path)\n",
    "cfg"
   ]
  },
  {
   "cell_type": "code",
   "execution_count": 6,
   "metadata": {},
   "outputs": [
    {
     "name": "stdout",
     "output_type": "stream",
     "text": [
      "{'train': {'component_update_freq': 100, 'num_epochs': 100, 'save_freq': 1}, 'dataset': {'dataset_name': 'mnist', 'num_tasks': 10, 'num_classes_per_task': 2, 'with_replacement': True, 'num_trains_per_class': 64, 'num_vals_per_class': 50, 'remap_labels': False}, 'net': {'name': 'mlp', 'depth': 4, 'num_init_tasks': 4, 'layer_size': 64, 'dropout': 0.5, 'freeze_encoder': True}, 'sharing_strategy': {'name': 'no_sharing'}, 'seed': 0, 'algo': 'monolithic', 'job_name': 'mnist_monolithic', 'num_agents': 1, 'root_save_dir': 'results', 'agent': {'save_dir': '${root_save_dir}/${job_name}/${dataset.dataset_name}/${algo}/seed_${seed}', 'batch_size': 64, 'memory_size': 64, 'improvement_threshold': 0.05}}\n",
      "i_size 28\n",
      "num_classes 10\n",
      "net_cfg {'name': 'mlp', 'depth': 4, 'num_init_tasks': 4, 'layer_size': 64, 'dropout': 0.5, 'freeze_encoder': True, 'i_size': 28, 'num_classes': 10, 'num_tasks': 10}\n",
      "<class 'shell.learners.er_nocomponents.NoComponentsER'>\n"
     ]
    }
   ],
   "source": [
    "graph, datasets, NetCls, LearnerCls, net_cfg, agent_cfg, train_cfg = setup_experiment(cfg)"
   ]
  },
  {
   "cell_type": "code",
   "execution_count": 7,
   "metadata": {},
   "outputs": [
    {
     "data": {
      "text/plain": [
       "tensor([[ 0.0373,  0.1091,  0.0589,  ...,  0.0183,  0.0088, -0.0387],\n",
       "        [-0.0087, -0.1061, -0.0293,  ...,  0.0154,  0.0667, -0.0594],\n",
       "        [-0.0995, -0.0213,  0.0258,  ..., -0.0098, -0.0758,  0.0072],\n",
       "        ...,\n",
       "        [-0.1171, -0.0655, -0.0226,  ..., -0.0482,  0.1031,  0.0465],\n",
       "        [ 0.0452, -0.0565,  0.0103,  ..., -0.0416, -0.1008, -0.1058],\n",
       "        [ 0.0342, -0.0968, -0.0641,  ..., -0.0409, -0.0496, -0.0465]],\n",
       "       device='cuda:0')"
      ]
     },
     "execution_count": 7,
     "metadata": {},
     "output_type": "execute_result"
    }
   ],
   "source": [
    "net = NetCls(**net_cfg)\n",
    "net.state_dict()['components.0.weight']"
   ]
  },
  {
   "cell_type": "code",
   "execution_count": 8,
   "metadata": {},
   "outputs": [],
   "source": [
    "# path\n",
    "# 'results/mnist_monolithic/mnist/monolithic/seed_0/agent_0/task_3/checkpoint.pt'"
   ]
  },
  {
   "cell_type": "code",
   "execution_count": 18,
   "metadata": {},
   "outputs": [
    {
     "data": {
      "text/plain": [
       "tensor([[-0.0229, -0.0347, -0.0285,  ...,  0.1264, -0.0227,  0.0851],\n",
       "        [ 0.1163,  0.0259,  0.1773,  ..., -0.0458,  0.1439, -0.2391],\n",
       "        [-0.2512, -0.1421,  0.1690,  ...,  0.1824, -0.2039, -0.0132],\n",
       "        ...,\n",
       "        [-0.0140,  0.0317,  0.1261,  ..., -0.1434,  0.3604,  0.0081],\n",
       "        [ 0.0494, -0.1926, -0.0939,  ..., -0.0503, -0.0507, -0.0950],\n",
       "        [ 0.0632,  0.0023, -0.0846,  ..., -0.1044, -0.0306, -0.0698]],\n",
       "       device='cuda:0')"
      ]
     },
     "execution_count": 18,
     "metadata": {},
     "output_type": "execute_result"
    }
   ],
   "source": [
    "task_id = 3\n",
    "agent_id = 0\n",
    "net = load_net(cfg, NetCls, net_cfg, agent_id=agent_id, task_id=task_id)\n",
    "net.state_dict()['components.0.weight']"
   ]
  },
  {
   "cell_type": "code",
   "execution_count": 19,
   "metadata": {},
   "outputs": [
    {
     "data": {
      "text/plain": [
       "{0: <torch.utils.data.dataloader.DataLoader at 0x7fddc0f920e0>,\n",
       " 1: <torch.utils.data.dataloader.DataLoader at 0x7fddbdf15150>,\n",
       " 2: <torch.utils.data.dataloader.DataLoader at 0x7fddbdf47be0>,\n",
       " 3: <torch.utils.data.dataloader.DataLoader at 0x7fddbdf47c40>,\n",
       " 4: <torch.utils.data.dataloader.DataLoader at 0x7fddbdf479a0>,\n",
       " 5: <torch.utils.data.dataloader.DataLoader at 0x7fddbdf47a90>,\n",
       " 6: <torch.utils.data.dataloader.DataLoader at 0x7fddbdf45f30>,\n",
       " 7: <torch.utils.data.dataloader.DataLoader at 0x7fddbdf45db0>,\n",
       " 8: <torch.utils.data.dataloader.DataLoader at 0x7fddbdf45ea0>,\n",
       " 9: <torch.utils.data.dataloader.DataLoader at 0x7fddbdf457e0>}"
      ]
     },
     "execution_count": 19,
     "metadata": {},
     "output_type": "execute_result"
    }
   ],
   "source": [
    "dataset = datasets[agent_id]\n",
    "task_id = 9\n",
    "testloaders = {task: torch.utils.data.DataLoader(testset,\n",
    "                                                         batch_size=128,\n",
    "                                                         shuffle=False,\n",
    "                                                         num_workers=0,\n",
    "                                                         pin_memory=True,\n",
    "                                                         ) for task, testset in enumerate(dataset.testset[:(task_id+1)])}\n",
    "testloaders"
   ]
  },
  {
   "cell_type": "code",
   "execution_count": 20,
   "metadata": {},
   "outputs": [
    {
     "data": {
      "text/plain": [
       "{0: 0.9497863247863247,\n",
       " 1: 0.946285140562249,\n",
       " 2: 0.9680412371134021,\n",
       " 3: 0.9698795180722891,\n",
       " 4: 0.0,\n",
       " 5: 0.3210401891252955,\n",
       " 6: 0.3308784850078906,\n",
       " 7: 0.0,\n",
       " 8: 0.42332830568124685,\n",
       " 9: 0.18693467336683417}"
      ]
     },
     "execution_count": 20,
     "metadata": {},
     "output_type": "execute_result"
    }
   ],
   "source": [
    "eval_net(net, testloaders)"
   ]
  },
  {
   "cell_type": "code",
   "execution_count": 24,
   "metadata": {},
   "outputs": [
    {
     "data": {
      "text/plain": [
       "array([5, 0, 4, 3, 4, 6, 4, 3, 8, 0, 1, 0, 5, 9, 6, 4, 9, 0, 3, 0])"
      ]
     },
     "execution_count": 24,
     "metadata": {},
     "output_type": "execute_result"
    }
   ],
   "source": [
    "dataset.class_sequence"
   ]
  },
  {
   "cell_type": "code",
   "execution_count": 23,
   "metadata": {},
   "outputs": [
    {
     "name": "stdout",
     "output_type": "stream",
     "text": [
      "0.0\n",
      "0.9698795180722891\n",
      "0.4850515463917526\n",
      "0.9698795180722891\n",
      "0.0\n",
      "0.0\n",
      "0.0\n",
      "0.4850515463917526\n",
      "0.0\n",
      "0.4979899497487437\n"
     ]
    }
   ],
   "source": [
    "for testloader in testloaders.values():\n",
    "    print(eval_net_task(net, 3, testloader))\n"
   ]
  },
  {
   "cell_type": "code",
   "execution_count": null,
   "metadata": {},
   "outputs": [],
   "source": []
  }
 ],
 "metadata": {
  "kernelspec": {
   "display_name": "shell",
   "language": "python",
   "name": "python3"
  },
  "language_info": {
   "codemirror_mode": {
    "name": "ipython",
    "version": 3
   },
   "file_extension": ".py",
   "mimetype": "text/x-python",
   "name": "python",
   "nbconvert_exporter": "python",
   "pygments_lexer": "ipython3",
   "version": "3.10.9"
  },
  "orig_nbformat": 4
 },
 "nbformat": 4,
 "nbformat_minor": 2
}
